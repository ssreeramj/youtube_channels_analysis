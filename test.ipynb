{
 "cells": [
  {
   "cell_type": "code",
   "execution_count": 44,
   "metadata": {},
   "outputs": [],
   "source": [
    "import os\n",
    "import sys\n",
    "import json\n",
    "\n",
    "from dotenv import load_dotenv\n",
    "from googleapiclient.discovery import build"
   ]
  },
  {
   "cell_type": "code",
   "execution_count": 42,
   "metadata": {},
   "outputs": [],
   "source": [
    "load_dotenv()\n",
    "\n",
    "API_KEY = os.environ['YOUTUBE_API_KEY']\n",
    "youtube = build('youtube', 'v3', developerKey=API_KEY)\n",
    "# api = Api(api_key=API_KEY) "
   ]
  },
  {
   "cell_type": "code",
   "execution_count": 48,
   "metadata": {},
   "outputs": [
    {
     "data": {
      "text/plain": [
       "{'kind': 'youtube#channelListResponse',\n",
       " 'etag': 'h1l2WAJ4YMuLX51roYUUH49Cj-0',\n",
       " 'pageInfo': {'totalResults': 1, 'resultsPerPage': 5},\n",
       " 'items': [{'kind': 'youtube#channel',\n",
       "   'etag': 'mt4VdOHRfnCvBReYeRBRiYGNDmo',\n",
       "   'id': 'UCAov2BBv1ZJav0c_yHEciAw',\n",
       "   'snippet': {'title': 'Samay Raina',\n",
       "    'description': 'Joker',\n",
       "    'customUrl': 'samayrainaofficial',\n",
       "    'publishedAt': '2013-09-23T10:11:51Z',\n",
       "    'thumbnails': {'default': {'url': 'https://yt3.ggpht.com/ytc/AAUvwngVcgUHHxVMZecIVD2DJz4jpomvoZYsC51Iytgn9A=s88-c-k-c0x00ffffff-no-rj',\n",
       "      'width': 88,\n",
       "      'height': 88},\n",
       "     'medium': {'url': 'https://yt3.ggpht.com/ytc/AAUvwngVcgUHHxVMZecIVD2DJz4jpomvoZYsC51Iytgn9A=s240-c-k-c0x00ffffff-no-rj',\n",
       "      'width': 240,\n",
       "      'height': 240},\n",
       "     'high': {'url': 'https://yt3.ggpht.com/ytc/AAUvwngVcgUHHxVMZecIVD2DJz4jpomvoZYsC51Iytgn9A=s800-c-k-c0x00ffffff-no-rj',\n",
       "      'width': 800,\n",
       "      'height': 800}},\n",
       "    'localized': {'title': 'Samay Raina', 'description': 'Joker'},\n",
       "    'country': 'IN'},\n",
       "   'contentDetails': {'relatedPlaylists': {'likes': '',\n",
       "     'favorites': '',\n",
       "     'uploads': 'UUAov2BBv1ZJav0c_yHEciAw'}},\n",
       "   'statistics': {'viewCount': '93651847',\n",
       "    'subscriberCount': '566000',\n",
       "    'hiddenSubscriberCount': False,\n",
       "    'videoCount': '288'}}]}"
      ]
     },
     "execution_count": 48,
     "metadata": {},
     "output_type": "execute_result"
    }
   ],
   "source": [
    "request = youtube.channels().list(\n",
    "        part=\"snippet,statistics,contentDetails\",\n",
    "        id=\"UCAov2BBv1ZJav0c_yHEciAw\"\n",
    "    )\n",
    "response = request.execute()\n",
    "response"
   ]
  },
  {
   "cell_type": "code",
   "execution_count": 47,
   "metadata": {},
   "outputs": [
    {
     "name": "stdout",
     "output_type": "stream",
     "text": [
      "{\n",
      "  \"kind\": \"youtube#videoListResponse\",\n",
      "  \"etag\": \"Hk0BNBEqKJye55OrBGTLJ3iGDAQ\",\n",
      "  \"items\": [\n",
      "    {\n",
      "      \"kind\": \"youtube#video\",\n",
      "      \"etag\": \"TysdinAdE2Wnm9HUioDnmOEZFPU\",\n",
      "      \"id\": \"8ifjYxkMhUg\",\n",
      "      \"contentDetails\": {\n",
      "        \"duration\": \"PT8M38S\",\n",
      "        \"dimension\": \"2d\",\n",
      "        \"definition\": \"hd\",\n",
      "        \"caption\": \"false\",\n",
      "        \"licensedContent\": true,\n",
      "        \"contentRating\": {},\n",
      "        \"projection\": \"rectangular\"\n",
      "      },\n",
      "      \"statistics\": {\n",
      "        \"viewCount\": \"199616\",\n",
      "        \"likeCount\": \"22502\",\n",
      "        \"dislikeCount\": \"305\",\n",
      "        \"favoriteCount\": \"0\",\n",
      "        \"commentCount\": \"740\"\n",
      "      }\n",
      "    },\n",
      "    {\n",
      "      \"kind\": \"youtube#video\",\n",
      "      \"etag\": \"NH9d9P1IoNgJA_arQr5eUnYxX64\",\n",
      "      \"id\": \"SP8hdGSN-0k\",\n",
      "      \"contentDetails\": {\n",
      "        \"duration\": \"PT1H27M46S\",\n",
      "        \"dimension\": \"2d\",\n",
      "        \"definition\": \"hd\",\n",
      "        \"caption\": \"false\",\n",
      "        \"licensedContent\": false,\n",
      "        \"contentRating\": {},\n",
      "        \"projection\": \"rectangular\"\n",
      "      },\n",
      "      \"statistics\": {\n",
      "        \"viewCount\": \"181855\",\n",
      "        \"likeCount\": \"13134\",\n",
      "        \"dislikeCount\": \"235\",\n",
      "        \"favoriteCount\": \"0\",\n",
      "        \"commentCount\": \"431\"\n",
      "      }\n",
      "    }\n",
      "  ],\n",
      "  \"pageInfo\": {\n",
      "    \"totalResults\": 2,\n",
      "    \"resultsPerPage\": 2\n",
      "  }\n",
      "}\n"
     ]
    }
   ],
   "source": [
    "request = youtube.videos().list(\n",
    "        part=\"statistics, contentDetails\",\n",
    "        id=\"8ifjYxkMhUg,SP8hdGSN-0k\"\n",
    "    )\n",
    "response = request.execute()\n",
    "\n",
    "print(json.dumps(response, indent=2))"
   ]
  },
  {
   "cell_type": "code",
   "execution_count": null,
   "metadata": {},
   "outputs": [],
   "source": []
  }
 ],
 "metadata": {
  "kernelspec": {
   "display_name": "YoutubeChannels",
   "language": "python",
   "name": "env"
  },
  "language_info": {
   "codemirror_mode": {
    "name": "ipython",
    "version": 3
   },
   "file_extension": ".py",
   "mimetype": "text/x-python",
   "name": "python",
   "nbconvert_exporter": "python",
   "pygments_lexer": "ipython3",
   "version": "3.8.4rc1"
  }
 },
 "nbformat": 4,
 "nbformat_minor": 4
}
