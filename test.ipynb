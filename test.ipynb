{
 "cells": [
  {
   "cell_type": "code",
   "execution_count": 208,
   "metadata": {},
   "outputs": [],
   "source": [
    "import os\n",
    "import sys\n",
    "import json\n",
    "\n",
    "import pandas as pd\n",
    "import numpy as np\n",
    "\n",
    "from dotenv import load_dotenv\n",
    "from googleapiclient.discovery import build"
   ]
  },
  {
   "cell_type": "code",
   "execution_count": 4,
   "metadata": {},
   "outputs": [],
   "source": [
    "load_dotenv()\n",
    "\n",
    "API_KEY = os.environ['YOUTUBE_API_KEY']\n",
    "youtube = build('youtube', 'v3', developerKey=API_KEY)\n",
    "# api = Api(api_key=API_KEY) "
   ]
  },
  {
   "cell_type": "code",
   "execution_count": 177,
   "metadata": {},
   "outputs": [
    {
     "name": "stdout",
     "output_type": "stream",
     "text": [
      "{\n",
      "  \"kind\": \"youtube#channelListResponse\",\n",
      "  \"etag\": \"omWyCFJMFQpvqIIGT-E4GARm3QU\",\n",
      "  \"pageInfo\": {\n",
      "    \"totalResults\": 1,\n",
      "    \"resultsPerPage\": 5\n",
      "  },\n",
      "  \"items\": [\n",
      "    {\n",
      "      \"kind\": \"youtube#channel\",\n",
      "      \"etag\": \"o8dhZ1_-yzlMj-9smhpjeCVBx1Q\",\n",
      "      \"id\": \"UC6nSFpj9HTCZ5t-N3Rm3-HA\",\n",
      "      \"snippet\": {\n",
      "        \"title\": \"Vsauce\",\n",
      "        \"description\": \"Our World is Amazing. \\n\\nQuestions? Ideas? Tweet me: http://www.twitter.com/tweetsauce\\n\\nVsauce was created by Michael Stevens in the summer of 2010.\\n\\nVsauce is...\\n\\nMichael Stevens: Producer/Host of Vsauce1\\nKevin Lieber: Producer/Host of Vsauce2\\nJake Roper: Producer/Host of Vsauce3\\nEric Langlay: VFX for Vsauce1/2/3\\nYou: Thanks for watching!!!\",\n",
      "        \"customUrl\": \"vsauce1\",\n",
      "        \"publishedAt\": \"2007-07-30T20:43:33Z\",\n",
      "        \"thumbnails\": {\n",
      "          \"default\": {\n",
      "            \"url\": \"https://yt3.ggpht.com/ytc/AAUvwnhZ3RdTd90CWLjszcugYGMU4I72zJAVkphAfSflTQ=s88-c-k-c0x00ffffff-no-rj\",\n",
      "            \"width\": 88,\n",
      "            \"height\": 88\n",
      "          },\n",
      "          \"medium\": {\n",
      "            \"url\": \"https://yt3.ggpht.com/ytc/AAUvwnhZ3RdTd90CWLjszcugYGMU4I72zJAVkphAfSflTQ=s240-c-k-c0x00ffffff-no-rj\",\n",
      "            \"width\": 240,\n",
      "            \"height\": 240\n",
      "          },\n",
      "          \"high\": {\n",
      "            \"url\": \"https://yt3.ggpht.com/ytc/AAUvwnhZ3RdTd90CWLjszcugYGMU4I72zJAVkphAfSflTQ=s800-c-k-c0x00ffffff-no-rj\",\n",
      "            \"width\": 800,\n",
      "            \"height\": 800\n",
      "          }\n",
      "        },\n",
      "        \"localized\": {\n",
      "          \"title\": \"Vsauce\",\n",
      "          \"description\": \"Our World is Amazing. \\n\\nQuestions? Ideas? Tweet me: http://www.twitter.com/tweetsauce\\n\\nVsauce was created by Michael Stevens in the summer of 2010.\\n\\nVsauce is...\\n\\nMichael Stevens: Producer/Host of Vsauce1\\nKevin Lieber: Producer/Host of Vsauce2\\nJake Roper: Producer/Host of Vsauce3\\nEric Langlay: VFX for Vsauce1/2/3\\nYou: Thanks for watching!!!\"\n",
      "        }\n",
      "      },\n",
      "      \"contentDetails\": {\n",
      "        \"relatedPlaylists\": {\n",
      "          \"likes\": \"\",\n",
      "          \"favorites\": \"\",\n",
      "          \"uploads\": \"UU6nSFpj9HTCZ5t-N3Rm3-HA\"\n",
      "        }\n",
      "      },\n",
      "      \"statistics\": {\n",
      "        \"viewCount\": \"1988175920\",\n",
      "        \"subscriberCount\": \"16500000\",\n",
      "        \"hiddenSubscriberCount\": false,\n",
      "        \"videoCount\": \"369\"\n",
      "      }\n",
      "    }\n",
      "  ]\n",
      "}\n",
      "https://yt3.ggpht.com/ytc/AAUvwnhZ3RdTd90CWLjszcugYGMU4I72zJAVkphAfSflTQ=s800-c-k-c0x00ffffff-no-rj\n"
     ]
    }
   ],
   "source": [
    "request = youtube.channels().list(\n",
    "        part=\"snippet,statistics,contentDetails\",\n",
    "        forUsername=\"Vsauce\",\n",
    "#         id='UCAov2BBv1ZJav0c_yHEciAw',\n",
    "    )\n",
    "response = request.execute()\n",
    "print(json.dumps(response, indent=2))\n",
    "print(response['items'][0]['snippet']['thumbnails']['high']['url'])"
   ]
  },
  {
   "cell_type": "code",
   "execution_count": 178,
   "metadata": {},
   "outputs": [
    {
     "data": {
      "text/plain": [
       "'UU6nSFpj9HTCZ5t-N3Rm3-HA'"
      ]
     },
     "execution_count": 178,
     "metadata": {},
     "output_type": "execute_result"
    }
   ],
   "source": [
    "upload_id = response['items'][0]['contentDetails']['relatedPlaylists']['uploads']\n",
    "upload_id"
   ]
  },
  {
   "cell_type": "code",
   "execution_count": 69,
   "metadata": {
    "collapsed": true
   },
   "outputs": [
    {
     "data": {
      "text/plain": [
       "{'kind': 'youtube#playlistItemListResponse',\n",
       " 'etag': 'QHqT5BkxaghauMvbyl4d4PsLz5g',\n",
       " 'items': [{'kind': 'youtube#playlistItem',\n",
       "   'etag': 'CP7RXLE8ZVffhiatxOEuhvKQQSI',\n",
       "   'id': 'VVVJOU40VEFVWDhrX29MOWk3MlVZQWJ3LkRPdmw5OXlDQVNR',\n",
       "   'snippet': {'publishedAt': '2021-01-11T05:54:16Z',\n",
       "    'channelId': 'UCI9N4TAUX8k_oL9i72UYAbw',\n",
       "    'title': 'Hand and Brain, Maybe Odds ?! Ft.Sahil (Editor),Angad (Conqueror) and Rakesh Bhai',\n",
       "    'description': 'Connect with me on social media:\\nhttps://www.instagram.com/adhibanchess/\\nhttps://twitter.com/adhibanchess\\nhttps://discord.gg/WKd3qPe\\nThumbnail Credit: Airton Alonso\\n\\n\\nMusic credit: Saggian, https://open.spotify.com/artist/6dQdP4BL7WaOUGQGPdpDYo?nd=1\\n\\nFor Business Enquiries/Sponsors Contact on:\\nteam@adhibanbaskaran.me',\n",
       "    'thumbnails': {'default': {'url': 'https://i.ytimg.com/vi/DOvl99yCASQ/default.jpg',\n",
       "      'width': 120,\n",
       "      'height': 90},\n",
       "     'medium': {'url': 'https://i.ytimg.com/vi/DOvl99yCASQ/mqdefault.jpg',\n",
       "      'width': 320,\n",
       "      'height': 180},\n",
       "     'high': {'url': 'https://i.ytimg.com/vi/DOvl99yCASQ/hqdefault.jpg',\n",
       "      'width': 480,\n",
       "      'height': 360},\n",
       "     'standard': {'url': 'https://i.ytimg.com/vi/DOvl99yCASQ/sddefault.jpg',\n",
       "      'width': 640,\n",
       "      'height': 480},\n",
       "     'maxres': {'url': 'https://i.ytimg.com/vi/DOvl99yCASQ/maxresdefault.jpg',\n",
       "      'width': 1280,\n",
       "      'height': 720}},\n",
       "    'channelTitle': 'Adhiban Baskaran',\n",
       "    'playlistId': 'UUI9N4TAUX8k_oL9i72UYAbw',\n",
       "    'position': 0,\n",
       "    'resourceId': {'kind': 'youtube#video', 'videoId': 'DOvl99yCASQ'}}},\n",
       "  {'kind': 'youtube#playlistItem',\n",
       "   'etag': 'zYSPTbhLwAnCyoHAWo1FUGXo-T8',\n",
       "   'id': 'VVVJOU40VEFVWDhrX29MOWk3MlVZQWJ3Ljh3Rm45X196MlhZ',\n",
       "   'snippet': {'publishedAt': '2021-01-08T12:12:46Z',\n",
       "    'channelId': 'UCI9N4TAUX8k_oL9i72UYAbw',\n",
       "    'title': 'Chill Stream, Puzzle Rush Survival, Blitz,Bullet. Ft. Vidit Gujarathi',\n",
       "    'description': 'Connect with me on social media:\\nhttps://www.instagram.com/adhibanchess/\\nhttps://twitter.com/adhibanchess\\nhttps://discord.gg/WKd3qPe\\nThumbnail Credit: Airton Alonso\\n\\n\\nMusic credit: Darzini\\n\\nFor Business Enquiries/Sponsors Contact on:\\nteam@adhibanbaskaran.me',\n",
       "    'thumbnails': {'default': {'url': 'https://i.ytimg.com/vi/8wFn9__z2XY/default.jpg',\n",
       "      'width': 120,\n",
       "      'height': 90},\n",
       "     'medium': {'url': 'https://i.ytimg.com/vi/8wFn9__z2XY/mqdefault.jpg',\n",
       "      'width': 320,\n",
       "      'height': 180},\n",
       "     'high': {'url': 'https://i.ytimg.com/vi/8wFn9__z2XY/hqdefault.jpg',\n",
       "      'width': 480,\n",
       "      'height': 360},\n",
       "     'standard': {'url': 'https://i.ytimg.com/vi/8wFn9__z2XY/sddefault.jpg',\n",
       "      'width': 640,\n",
       "      'height': 480},\n",
       "     'maxres': {'url': 'https://i.ytimg.com/vi/8wFn9__z2XY/maxresdefault.jpg',\n",
       "      'width': 1280,\n",
       "      'height': 720}},\n",
       "    'channelTitle': 'Adhiban Baskaran',\n",
       "    'playlistId': 'UUI9N4TAUX8k_oL9i72UYAbw',\n",
       "    'position': 1,\n",
       "    'resourceId': {'kind': 'youtube#video', 'videoId': '8wFn9__z2XY'}}},\n",
       "  {'kind': 'youtube#playlistItem',\n",
       "   'etag': 'yK5E7quoFMSWOAKSCLKTmYdJCK4',\n",
       "   'id': 'VVVJOU40VEFVWDhrX29MOWk3MlVZQWJ3LnVBMkxhMHhtMC00',\n",
       "   'snippet': {'publishedAt': '2021-01-06T13:43:37Z',\n",
       "    'channelId': 'UCI9N4TAUX8k_oL9i72UYAbw',\n",
       "    'title': 'Chill stream & Chess with subs (Discord edition)',\n",
       "    'description': 'Connect with me on social media:\\nhttps://www.instagram.com/adhibanchess/\\nhttps://twitter.com/adhibanchess\\nhttps://discord.gg/WKd3qPe\\nThumbnail Credit: Airton Alonso\\n\\n\\nMusic credit: Saggian, https://open.spotify.com/artist/6dQdP4BL7WaOUGQGPdpDYo?nd=1\\n\\nFor Business Enquiries/Sponsors Contact on:\\nteam@adhibanbaskaran.me',\n",
       "    'thumbnails': {'default': {'url': 'https://i.ytimg.com/vi/uA2La0xm0-4/default.jpg',\n",
       "      'width': 120,\n",
       "      'height': 90},\n",
       "     'medium': {'url': 'https://i.ytimg.com/vi/uA2La0xm0-4/mqdefault.jpg',\n",
       "      'width': 320,\n",
       "      'height': 180},\n",
       "     'high': {'url': 'https://i.ytimg.com/vi/uA2La0xm0-4/hqdefault.jpg',\n",
       "      'width': 480,\n",
       "      'height': 360},\n",
       "     'standard': {'url': 'https://i.ytimg.com/vi/uA2La0xm0-4/sddefault.jpg',\n",
       "      'width': 640,\n",
       "      'height': 480},\n",
       "     'maxres': {'url': 'https://i.ytimg.com/vi/uA2La0xm0-4/maxresdefault.jpg',\n",
       "      'width': 1280,\n",
       "      'height': 720}},\n",
       "    'channelTitle': 'Adhiban Baskaran',\n",
       "    'playlistId': 'UUI9N4TAUX8k_oL9i72UYAbw',\n",
       "    'position': 2,\n",
       "    'resourceId': {'kind': 'youtube#video', 'videoId': 'uA2La0xm0-4'}}},\n",
       "  {'kind': 'youtube#playlistItem',\n",
       "   'etag': '7a4YNVLJRHEF_jgLUCzksoochCU',\n",
       "   'id': 'VVVJOU40VEFVWDhrX29MOWk3MlVZQWJ3LnFnc0t0ZG14OFVV',\n",
       "   'snippet': {'publishedAt': '2021-01-05T10:51:57Z',\n",
       "    'channelId': 'UCI9N4TAUX8k_oL9i72UYAbw',\n",
       "    'title': 'Bday Stream. Part3',\n",
       "    'description': 'Connect with me on social media:\\nhttps://www.instagram.com/adhibanchess/\\nhttps://twitter.com/adhibanchess\\nhttps://discord.gg/WKd3qPe\\nThumbnail Credit: Pulkit Mehta\\n\\n\\nMusic credit: Saggian, https://open.spotify.com/artist/6dQdP4BL7WaOUGQGPdpDYo?nd=1\\n\\nFor Business Enquiries/Sponsors Contact on:\\nteam@adhibanbaskaran.me',\n",
       "    'thumbnails': {'default': {'url': 'https://i.ytimg.com/vi/qgsKtdmx8UU/default.jpg',\n",
       "      'width': 120,\n",
       "      'height': 90},\n",
       "     'medium': {'url': 'https://i.ytimg.com/vi/qgsKtdmx8UU/mqdefault.jpg',\n",
       "      'width': 320,\n",
       "      'height': 180},\n",
       "     'high': {'url': 'https://i.ytimg.com/vi/qgsKtdmx8UU/hqdefault.jpg',\n",
       "      'width': 480,\n",
       "      'height': 360},\n",
       "     'standard': {'url': 'https://i.ytimg.com/vi/qgsKtdmx8UU/sddefault.jpg',\n",
       "      'width': 640,\n",
       "      'height': 480},\n",
       "     'maxres': {'url': 'https://i.ytimg.com/vi/qgsKtdmx8UU/maxresdefault.jpg',\n",
       "      'width': 1280,\n",
       "      'height': 720}},\n",
       "    'channelTitle': 'Adhiban Baskaran',\n",
       "    'playlistId': 'UUI9N4TAUX8k_oL9i72UYAbw',\n",
       "    'position': 3,\n",
       "    'resourceId': {'kind': 'youtube#video', 'videoId': 'qgsKtdmx8UU'}}},\n",
       "  {'kind': 'youtube#playlistItem',\n",
       "   'etag': '4GOfguX7by4biwBei1Jm4Qw9-Xg',\n",
       "   'id': 'VVVJOU40VEFVWDhrX29MOWk3MlVZQWJ3LkZzazBkS08tUUZj',\n",
       "   'snippet': {'publishedAt': '2020-12-04T17:10:38Z',\n",
       "    'channelId': 'UCI9N4TAUX8k_oL9i72UYAbw',\n",
       "    'title': 'Hand & Brain,Bughouse Ft.@VAIBHAV SETHIA,@Anirban Dasgupta ,@Nihal Sarin (tagged all #notaboomer)',\n",
       "    'description': 'Link to Join Graphy and everyone gets a one month free trial, https://share.graphyapp.co/v59i\\n\\nConnect with me on social media:\\nhttps://www.instagram.com/adhibanchess/\\nhttps://twitter.com/adhibanchess\\nhttps://discord.gg/WKd3qPe\\nThumbnail Credit: Pulkit Mehta\\n\\n\\nMusic credit: Saggian, https://open.spotify.com/artist/6dQdP4BL7WaOUGQGPdpDYo?nd=1\\n\\nFor Business Enquiries/Sponsors Contact on:\\nteam@adhibanbaskaran.me',\n",
       "    'thumbnails': {'default': {'url': 'https://i.ytimg.com/vi/Fsk0dKO-QFc/default.jpg',\n",
       "      'width': 120,\n",
       "      'height': 90},\n",
       "     'medium': {'url': 'https://i.ytimg.com/vi/Fsk0dKO-QFc/mqdefault.jpg',\n",
       "      'width': 320,\n",
       "      'height': 180},\n",
       "     'high': {'url': 'https://i.ytimg.com/vi/Fsk0dKO-QFc/hqdefault.jpg',\n",
       "      'width': 480,\n",
       "      'height': 360},\n",
       "     'standard': {'url': 'https://i.ytimg.com/vi/Fsk0dKO-QFc/sddefault.jpg',\n",
       "      'width': 640,\n",
       "      'height': 480},\n",
       "     'maxres': {'url': 'https://i.ytimg.com/vi/Fsk0dKO-QFc/maxresdefault.jpg',\n",
       "      'width': 1280,\n",
       "      'height': 720}},\n",
       "    'channelTitle': 'Adhiban Baskaran',\n",
       "    'playlistId': 'UUI9N4TAUX8k_oL9i72UYAbw',\n",
       "    'position': 4,\n",
       "    'resourceId': {'kind': 'youtube#video', 'videoId': 'Fsk0dKO-QFc'}}},\n",
       "  {'kind': 'youtube#playlistItem',\n",
       "   'etag': 'C-rvfNTq1yfB7P5UASq5kLGYUGc',\n",
       "   'id': 'VVVJOU40VEFVWDhrX29MOWk3MlVZQWJ3Lmpydzd5d0piUjFv',\n",
       "   'snippet': {'publishedAt': '2020-11-30T18:03:10Z',\n",
       "    'channelId': 'UCI9N4TAUX8k_oL9i72UYAbw',\n",
       "    'title': 'Secret Training Episode 1: The Beast and the Guru Ft.RB Ramesh',\n",
       "    'description': 'Connect with me on social media:\\nhttps://www.instagram.com/adhibanchess/\\nhttps://twitter.com/adhibanchess\\nhttps://discord.gg/WKd3qPe\\nThumbnail Credit: Pulkit Mehta\\n\\n\\nMusic credit: Saggian, https://open.spotify.com/artist/6dQdP4BL7WaOUGQGPdpDYo?nd=1\\n\\nFor Business Enquiries/Sponsors Contact on:\\nteam@adhibanbaskaran.me',\n",
       "    'thumbnails': {'default': {'url': 'https://i.ytimg.com/vi/jrw7ywJbR1o/default.jpg',\n",
       "      'width': 120,\n",
       "      'height': 90},\n",
       "     'medium': {'url': 'https://i.ytimg.com/vi/jrw7ywJbR1o/mqdefault.jpg',\n",
       "      'width': 320,\n",
       "      'height': 180},\n",
       "     'high': {'url': 'https://i.ytimg.com/vi/jrw7ywJbR1o/hqdefault.jpg',\n",
       "      'width': 480,\n",
       "      'height': 360},\n",
       "     'standard': {'url': 'https://i.ytimg.com/vi/jrw7ywJbR1o/sddefault.jpg',\n",
       "      'width': 640,\n",
       "      'height': 480},\n",
       "     'maxres': {'url': 'https://i.ytimg.com/vi/jrw7ywJbR1o/maxresdefault.jpg',\n",
       "      'width': 1280,\n",
       "      'height': 720}},\n",
       "    'channelTitle': 'Adhiban Baskaran',\n",
       "    'playlistId': 'UUI9N4TAUX8k_oL9i72UYAbw',\n",
       "    'position': 5,\n",
       "    'resourceId': {'kind': 'youtube#video', 'videoId': 'jrw7ywJbR1o'}}},\n",
       "  {'kind': 'youtube#playlistItem',\n",
       "   'etag': 'mNGEzPgyIL-kC8RNGjkAinC6Wzo',\n",
       "   'id': 'VVVJOU40VEFVWDhrX29MOWk3MlVZQWJ3LjBnNUJlRV9QZ3pv',\n",
       "   'snippet': {'publishedAt': '2020-11-30T11:39:11Z',\n",
       "    'channelId': 'UCI9N4TAUX8k_oL9i72UYAbw',\n",
       "    'title': 'Streaming Until Radja reaches 50k Subs. Ft.Soumya, Raunak,Sankalp,Divya CEO.',\n",
       "    'description': 'Subscribe to Radja Channel :https://www.youtube.com/channel/UCgLfe_wehMOAdRyFZXmXp6g\\n\\n\\nConnect with me on social media:\\nhttps://www.instagram.com/adhibanchess/\\nhttps://twitter.com/adhibanchess\\nhttps://discord.gg/WKd3qPe\\nThumbnail Credit: BLACKArracknet\\n\\n\\nMusic credit: Saggian, https://open.spotify.com/artist/6dQdP4BL7WaOUGQGPdpDYo?nd=1\\n\\nFor Business Enquiries/Sponsors Contact on:\\nteam@adhibanbaskaran.me',\n",
       "    'thumbnails': {'default': {'url': 'https://i.ytimg.com/vi/0g5BeE_Pgzo/default.jpg',\n",
       "      'width': 120,\n",
       "      'height': 90},\n",
       "     'medium': {'url': 'https://i.ytimg.com/vi/0g5BeE_Pgzo/mqdefault.jpg',\n",
       "      'width': 320,\n",
       "      'height': 180},\n",
       "     'high': {'url': 'https://i.ytimg.com/vi/0g5BeE_Pgzo/hqdefault.jpg',\n",
       "      'width': 480,\n",
       "      'height': 360},\n",
       "     'standard': {'url': 'https://i.ytimg.com/vi/0g5BeE_Pgzo/sddefault.jpg',\n",
       "      'width': 640,\n",
       "      'height': 480},\n",
       "     'maxres': {'url': 'https://i.ytimg.com/vi/0g5BeE_Pgzo/maxresdefault.jpg',\n",
       "      'width': 1280,\n",
       "      'height': 720}},\n",
       "    'channelTitle': 'Adhiban Baskaran',\n",
       "    'playlistId': 'UUI9N4TAUX8k_oL9i72UYAbw',\n",
       "    'position': 6,\n",
       "    'resourceId': {'kind': 'youtube#video', 'videoId': '0g5BeE_Pgzo'}}},\n",
       "  {'kind': 'youtube#playlistItem',\n",
       "   'etag': '6oS0AHNJtzqQnlC6P5ANfdB1G8w',\n",
       "   'id': 'VVVJOU40VEFVWDhrX29MOWk3MlVZQWJ3LjhWclc1ZDdaa0NR',\n",
       "   'snippet': {'publishedAt': '2020-11-25T15:06:03Z',\n",
       "    'channelId': 'UCI9N4TAUX8k_oL9i72UYAbw',\n",
       "    'title': 'Hand & Brain Match, OBS Adventures, Raiding Gamerfleet Ft.Joel,Vaibhav,Tania,Divya Hacker.',\n",
       "    'description': 'Connect with me on social media:\\nhttps://www.instagram.com/adhibanchess/\\nhttps://twitter.com/adhibanchess\\nhttps://discord.gg/WKd3qPe\\nThumbnail Credit: Pulkit Mehta\\n\\n\\nMusic credit: Saggian, https://open.spotify.com/artist/6dQdP4BL7WaOUGQGPdpDYo?nd=1\\n\\nFor Business Enquiries/Sponsors Contact on:\\nteam@adhibanbaskaran.me',\n",
       "    'thumbnails': {'default': {'url': 'https://i.ytimg.com/vi/8VrW5d7ZkCQ/default.jpg',\n",
       "      'width': 120,\n",
       "      'height': 90},\n",
       "     'medium': {'url': 'https://i.ytimg.com/vi/8VrW5d7ZkCQ/mqdefault.jpg',\n",
       "      'width': 320,\n",
       "      'height': 180},\n",
       "     'high': {'url': 'https://i.ytimg.com/vi/8VrW5d7ZkCQ/hqdefault.jpg',\n",
       "      'width': 480,\n",
       "      'height': 360},\n",
       "     'standard': {'url': 'https://i.ytimg.com/vi/8VrW5d7ZkCQ/sddefault.jpg',\n",
       "      'width': 640,\n",
       "      'height': 480},\n",
       "     'maxres': {'url': 'https://i.ytimg.com/vi/8VrW5d7ZkCQ/maxresdefault.jpg',\n",
       "      'width': 1280,\n",
       "      'height': 720}},\n",
       "    'channelTitle': 'Adhiban Baskaran',\n",
       "    'playlistId': 'UUI9N4TAUX8k_oL9i72UYAbw',\n",
       "    'position': 7,\n",
       "    'resourceId': {'kind': 'youtube#video', 'videoId': '8VrW5d7ZkCQ'}}},\n",
       "  {'kind': 'youtube#playlistItem',\n",
       "   'etag': '5A3R3rAUw92SlI-SpWFbcOKnv0s',\n",
       "   'id': 'VVVJOU40VEFVWDhrX29MOWk3MlVZQWJ3LmxMRmgzQzFjWHhv',\n",
       "   'snippet': {'publishedAt': '2020-11-23T10:59:28Z',\n",
       "    'channelId': 'UCI9N4TAUX8k_oL9i72UYAbw',\n",
       "    'title': \"Ryzen's Immortals. Ft. Ryzen (Join Discord)\",\n",
       "    'description': 'Connect with me on social media:\\nhttps://www.instagram.com/adhibanchess/\\nhttps://twitter.com/adhibanchess\\nhttps://discord.gg/WKd3qPe\\nThumbnail Credit: BLACKArracknet\\n\\n\\nMusic credit: Saggian, https://open.spotify.com/artist/6dQdP4BL7WaOUGQGPdpDYo?nd=1\\n\\nFor Business Enquiries/Sponsors Contact on:\\nteam@adhibanbaskaran.me',\n",
       "    'thumbnails': {'default': {'url': 'https://i.ytimg.com/vi/lLFh3C1cXxo/default.jpg',\n",
       "      'width': 120,\n",
       "      'height': 90},\n",
       "     'medium': {'url': 'https://i.ytimg.com/vi/lLFh3C1cXxo/mqdefault.jpg',\n",
       "      'width': 320,\n",
       "      'height': 180},\n",
       "     'high': {'url': 'https://i.ytimg.com/vi/lLFh3C1cXxo/hqdefault.jpg',\n",
       "      'width': 480,\n",
       "      'height': 360},\n",
       "     'standard': {'url': 'https://i.ytimg.com/vi/lLFh3C1cXxo/sddefault.jpg',\n",
       "      'width': 640,\n",
       "      'height': 480},\n",
       "     'maxres': {'url': 'https://i.ytimg.com/vi/lLFh3C1cXxo/maxresdefault.jpg',\n",
       "      'width': 1280,\n",
       "      'height': 720}},\n",
       "    'channelTitle': 'Adhiban Baskaran',\n",
       "    'playlistId': 'UUI9N4TAUX8k_oL9i72UYAbw',\n",
       "    'position': 8,\n",
       "    'resourceId': {'kind': 'youtube#video', 'videoId': 'lLFh3C1cXxo'}}},\n",
       "  {'kind': 'youtube#playlistItem',\n",
       "   'etag': 'YBexLrto2KLXE2ix8mUT1_zLtqs',\n",
       "   'id': 'VVVJOU40VEFVWDhrX29MOWk3MlVZQWJ3LmdvZ0tpVW9kZUZN',\n",
       "   'snippet': {'publishedAt': '2020-11-21T16:12:09Z',\n",
       "    'channelId': 'UCI9N4TAUX8k_oL9i72UYAbw',\n",
       "    'title': 'CELEBRATION STREAM of winning #C0B3 Ft.Joel,Vaibhav,Anish Giri, Divya Deshmukh.',\n",
       "    'description': 'Connect with me on social media:\\nhttps://www.instagram.com/adhibanchess/\\nhttps://twitter.com/adhibanchess\\nhttps://discord.gg/WKd3qPe\\nThumbnail Credit: Pulkit Mehta\\n\\n\\nMusic credit: Saggian, https://open.spotify.com/artist/6dQdP4BL7WaOUGQGPdpDYo?nd=1\\n\\nFor Business Enquiries/Sponsors Contact on:\\nteam@adhibanbaskaran.me',\n",
       "    'thumbnails': {'default': {'url': 'https://i.ytimg.com/vi/gogKiUodeFM/default.jpg',\n",
       "      'width': 120,\n",
       "      'height': 90},\n",
       "     'medium': {'url': 'https://i.ytimg.com/vi/gogKiUodeFM/mqdefault.jpg',\n",
       "      'width': 320,\n",
       "      'height': 180},\n",
       "     'high': {'url': 'https://i.ytimg.com/vi/gogKiUodeFM/hqdefault.jpg',\n",
       "      'width': 480,\n",
       "      'height': 360},\n",
       "     'standard': {'url': 'https://i.ytimg.com/vi/gogKiUodeFM/sddefault.jpg',\n",
       "      'width': 640,\n",
       "      'height': 480},\n",
       "     'maxres': {'url': 'https://i.ytimg.com/vi/gogKiUodeFM/maxresdefault.jpg',\n",
       "      'width': 1280,\n",
       "      'height': 720}},\n",
       "    'channelTitle': 'Adhiban Baskaran',\n",
       "    'playlistId': 'UUI9N4TAUX8k_oL9i72UYAbw',\n",
       "    'position': 9,\n",
       "    'resourceId': {'kind': 'youtube#video', 'videoId': 'gogKiUodeFM'}}},\n",
       "  {'kind': 'youtube#playlistItem',\n",
       "   'etag': '2YorENdNVllsYgSLybYTUVGabiE',\n",
       "   'id': 'VVVJOU40VEFVWDhrX29MOWk3MlVZQWJ3LnhDM3BqLU15SDFr',\n",
       "   'snippet': {'publishedAt': '2020-11-18T13:24:06Z',\n",
       "    'channelId': 'UCI9N4TAUX8k_oL9i72UYAbw',\n",
       "    'title': 'The final one: Joel vs discord members #COB3. Ft Only Doyal.',\n",
       "    'description': 'Connect with me on social media:\\nhttps://www.instagram.com/adhibanchess/\\nhttps://twitter.com/adhibanchess\\nhttps://discord.gg/WKd3qPe\\nThumbnail Credit: Pulkit Mehta\\n\\n\\nMusic credit: Saggian, https://open.spotify.com/artist/6dQdP4BL7WaOUGQGPdpDYo?nd=1\\n\\nFor Business Enquiries/Sponsors Contact on:\\nteam@adhibanbaskaran.me',\n",
       "    'thumbnails': {'default': {'url': 'https://i.ytimg.com/vi/xC3pj-MyH1k/default.jpg',\n",
       "      'width': 120,\n",
       "      'height': 90},\n",
       "     'medium': {'url': 'https://i.ytimg.com/vi/xC3pj-MyH1k/mqdefault.jpg',\n",
       "      'width': 320,\n",
       "      'height': 180},\n",
       "     'high': {'url': 'https://i.ytimg.com/vi/xC3pj-MyH1k/hqdefault.jpg',\n",
       "      'width': 480,\n",
       "      'height': 360},\n",
       "     'standard': {'url': 'https://i.ytimg.com/vi/xC3pj-MyH1k/sddefault.jpg',\n",
       "      'width': 640,\n",
       "      'height': 480},\n",
       "     'maxres': {'url': 'https://i.ytimg.com/vi/xC3pj-MyH1k/maxresdefault.jpg',\n",
       "      'width': 1280,\n",
       "      'height': 720}},\n",
       "    'channelTitle': 'Adhiban Baskaran',\n",
       "    'playlistId': 'UUI9N4TAUX8k_oL9i72UYAbw',\n",
       "    'position': 10,\n",
       "    'resourceId': {'kind': 'youtube#video', 'videoId': 'xC3pj-MyH1k'}}},\n",
       "  {'kind': 'youtube#playlistItem',\n",
       "   'etag': '2hzlc49Bu0uh4rwut24_giMBv4U',\n",
       "   'id': 'VVVJOU40VEFVWDhrX29MOWk3MlVZQWJ3LjVQVXRXdzlLRDk0',\n",
       "   'snippet': {'publishedAt': '2020-11-18T10:21:24Z',\n",
       "    'channelId': 'UCI9N4TAUX8k_oL9i72UYAbw',\n",
       "    'title': 'The final chapter : Channeling the Speedforce. Ft.@VaibhavSethia #COB3 (Discord edition)',\n",
       "    'description': 'Connect with me on social media:\\nhttps://www.instagram.com/adhibanchess/\\nhttps://twitter.com/adhibanchess\\nhttps://discord.gg/WKd3qPe\\nThumbnail Credit: Pulkit Mehta\\n\\n\\nMusic credit: Saggian, https://open.spotify.com/artist/6dQdP4BL7WaOUGQGPdpDYo?nd=1\\n\\nFor Business Enquiries/Sponsors Contact on:\\nteam@adhibanbaskaran.me',\n",
       "    'thumbnails': {'default': {'url': 'https://i.ytimg.com/vi/5PUtWw9KD94/default.jpg',\n",
       "      'width': 120,\n",
       "      'height': 90},\n",
       "     'medium': {'url': 'https://i.ytimg.com/vi/5PUtWw9KD94/mqdefault.jpg',\n",
       "      'width': 320,\n",
       "      'height': 180},\n",
       "     'high': {'url': 'https://i.ytimg.com/vi/5PUtWw9KD94/hqdefault.jpg',\n",
       "      'width': 480,\n",
       "      'height': 360},\n",
       "     'standard': {'url': 'https://i.ytimg.com/vi/5PUtWw9KD94/sddefault.jpg',\n",
       "      'width': 640,\n",
       "      'height': 480},\n",
       "     'maxres': {'url': 'https://i.ytimg.com/vi/5PUtWw9KD94/maxresdefault.jpg',\n",
       "      'width': 1280,\n",
       "      'height': 720}},\n",
       "    'channelTitle': 'Adhiban Baskaran',\n",
       "    'playlistId': 'UUI9N4TAUX8k_oL9i72UYAbw',\n",
       "    'position': 11,\n",
       "    'resourceId': {'kind': 'youtube#video', 'videoId': '5PUtWw9KD94'}}},\n",
       "  {'kind': 'youtube#playlistItem',\n",
       "   'etag': 'wXFFs6NH8M8LCOCWJ45yLaWV-1A',\n",
       "   'id': 'VVVJOU40VEFVWDhrX29MOWk3MlVZQWJ3LkxIeXhDQTlOV1E0',\n",
       "   'snippet': {'publishedAt': '2020-11-11T16:17:22Z',\n",
       "    'channelId': 'UCI9N4TAUX8k_oL9i72UYAbw',\n",
       "    'title': 'Adoption in Odds Chess!#COB3 Curb your arrogance Ft. @Joel Dsouza,Dr. Strange Rakesh bhai',\n",
       "    'description': 'Connect with me on social media:\\nhttps://www.instagram.com/adhibanchess/\\nhttps://twitter.com/adhibanchess\\nhttps://discord.gg/WKd3qPe\\nThumbnail Credit: Pulkit Mehta\\n\\n\\nMusic credit: Saggian, https://open.spotify.com/artist/6dQdP4BL7WaOUGQGPdpDYo?nd=1\\n\\nFor Business Enquiries/Sponsors Contact on:\\nteam@adhibanbaskaran.me',\n",
       "    'thumbnails': {'default': {'url': 'https://i.ytimg.com/vi/LHyxCA9NWQ4/default.jpg',\n",
       "      'width': 120,\n",
       "      'height': 90},\n",
       "     'medium': {'url': 'https://i.ytimg.com/vi/LHyxCA9NWQ4/mqdefault.jpg',\n",
       "      'width': 320,\n",
       "      'height': 180},\n",
       "     'high': {'url': 'https://i.ytimg.com/vi/LHyxCA9NWQ4/hqdefault.jpg',\n",
       "      'width': 480,\n",
       "      'height': 360},\n",
       "     'standard': {'url': 'https://i.ytimg.com/vi/LHyxCA9NWQ4/sddefault.jpg',\n",
       "      'width': 640,\n",
       "      'height': 480},\n",
       "     'maxres': {'url': 'https://i.ytimg.com/vi/LHyxCA9NWQ4/maxresdefault.jpg',\n",
       "      'width': 1280,\n",
       "      'height': 720}},\n",
       "    'channelTitle': 'Adhiban Baskaran',\n",
       "    'playlistId': 'UUI9N4TAUX8k_oL9i72UYAbw',\n",
       "    'position': 12,\n",
       "    'resourceId': {'kind': 'youtube#video', 'videoId': 'LHyxCA9NWQ4'}}},\n",
       "  {'kind': 'youtube#playlistItem',\n",
       "   'etag': 'J4Zh8attoHOwHrYmZz5CA3jQBdo',\n",
       "   'id': 'VVVJOU40VEFVWDhrX29MOWk3MlVZQWJ3Lm1TWEJKWFZiZGY4',\n",
       "   'snippet': {'publishedAt': '2020-11-02T06:56:39Z',\n",
       "    'channelId': 'UCI9N4TAUX8k_oL9i72UYAbw',\n",
       "    'title': 'The Genius of @VAIBHAV SETHIA-IQ over 220.5 #COB3 (Doyal busy doing nothing)',\n",
       "    'description': 'Connect with me on social media:\\nhttps://www.instagram.com/adhibanchess/\\nhttps://twitter.com/adhibanchess\\nhttps://discord.gg/WKd3qPe\\nThumbnail Credit: Pulkit Mehta\\n\\n\\nMusic credit: Saggian, https://open.spotify.com/artist/6dQdP4BL7WaOUGQGPdpDYo?nd=1\\n\\nFor Business Enquiries/Sponsors Contact on:\\nteam@adhibanbaskaran.me',\n",
       "    'thumbnails': {'default': {'url': 'https://i.ytimg.com/vi/mSXBJXVbdf8/default.jpg',\n",
       "      'width': 120,\n",
       "      'height': 90},\n",
       "     'medium': {'url': 'https://i.ytimg.com/vi/mSXBJXVbdf8/mqdefault.jpg',\n",
       "      'width': 320,\n",
       "      'height': 180},\n",
       "     'high': {'url': 'https://i.ytimg.com/vi/mSXBJXVbdf8/hqdefault.jpg',\n",
       "      'width': 480,\n",
       "      'height': 360},\n",
       "     'standard': {'url': 'https://i.ytimg.com/vi/mSXBJXVbdf8/sddefault.jpg',\n",
       "      'width': 640,\n",
       "      'height': 480},\n",
       "     'maxres': {'url': 'https://i.ytimg.com/vi/mSXBJXVbdf8/maxresdefault.jpg',\n",
       "      'width': 1280,\n",
       "      'height': 720}},\n",
       "    'channelTitle': 'Adhiban Baskaran',\n",
       "    'playlistId': 'UUI9N4TAUX8k_oL9i72UYAbw',\n",
       "    'position': 13,\n",
       "    'resourceId': {'kind': 'youtube#video', 'videoId': 'mSXBJXVbdf8'}}},\n",
       "  {'kind': 'youtube#playlistItem',\n",
       "   'etag': 'RtytDRxPGKOSLAE3oJ8JbKZDydk',\n",
       "   'id': 'VVVJOU40VEFVWDhrX29MOWk3MlVZQWJ3LnV3NE4wN1FQSlA4',\n",
       "   'snippet': {'publishedAt': '2020-10-31T08:07:44Z',\n",
       "    'channelId': 'UCI9N4TAUX8k_oL9i72UYAbw',\n",
       "    'title': 'Secret Training for #COB3 (Mastering Ultra Instinct!) Ft.Vaibhav Sethia,@Joel Dsouza',\n",
       "    'description': 'Connect with me on social media:\\nhttps://www.instagram.com/adhibanchess/\\nhttps://twitter.com/adhibanchess\\nhttps://discord.gg/WKd3qPe\\nThumbnail Credit: Pulkit Mehta\\n\\n\\nMusic credit: Saggian, https://open.spotify.com/artist/6dQdP4BL7WaOUGQGPdpDYo?nd=1\\n\\nFor Business Enquiries/Sponsors Contact on:\\nteam@adhibanbaskaran.me',\n",
       "    'thumbnails': {'default': {'url': 'https://i.ytimg.com/vi/uw4N07QPJP8/default.jpg',\n",
       "      'width': 120,\n",
       "      'height': 90},\n",
       "     'medium': {'url': 'https://i.ytimg.com/vi/uw4N07QPJP8/mqdefault.jpg',\n",
       "      'width': 320,\n",
       "      'height': 180},\n",
       "     'high': {'url': 'https://i.ytimg.com/vi/uw4N07QPJP8/hqdefault.jpg',\n",
       "      'width': 480,\n",
       "      'height': 360},\n",
       "     'standard': {'url': 'https://i.ytimg.com/vi/uw4N07QPJP8/sddefault.jpg',\n",
       "      'width': 640,\n",
       "      'height': 480},\n",
       "     'maxres': {'url': 'https://i.ytimg.com/vi/uw4N07QPJP8/maxresdefault.jpg',\n",
       "      'width': 1280,\n",
       "      'height': 720}},\n",
       "    'channelTitle': 'Adhiban Baskaran',\n",
       "    'playlistId': 'UUI9N4TAUX8k_oL9i72UYAbw',\n",
       "    'position': 14,\n",
       "    'resourceId': {'kind': 'youtube#video', 'videoId': 'uw4N07QPJP8'}}},\n",
       "  {'kind': 'youtube#playlistItem',\n",
       "   'etag': '8pXaCbf1ulf4FsLvCr8zEqmguUY',\n",
       "   'id': 'VVVJOU40VEFVWDhrX29MOWk3MlVZQWJ3LmNlRzlJc2tmNkpz',\n",
       "   'snippet': {'publishedAt': '2020-10-30T12:39:53Z',\n",
       "    'channelId': 'UCI9N4TAUX8k_oL9i72UYAbw',\n",
       "    'title': 'Secret Training for #COB3, Ft. Vaibhav Sethia, (Doyal busy fixing OBS)',\n",
       "    'description': 'Connect with me on social media:\\nhttps://www.instagram.com/adhibanchess/\\nhttps://twitter.com/adhibanchess\\nhttps://discord.gg/WKd3qPe\\nThumbnail Credit: Pulkit Mehta\\n\\n\\nMusic credit: Saggian, https://open.spotify.com/artist/6dQdP4BL7WaOUGQGPdpDYo?nd=1\\n\\nFor Business Enquiries/Sponsors Contact on:\\nteam@adhibanbaskaran.me',\n",
       "    'thumbnails': {'default': {'url': 'https://i.ytimg.com/vi/ceG9Iskf6Js/default.jpg',\n",
       "      'width': 120,\n",
       "      'height': 90},\n",
       "     'medium': {'url': 'https://i.ytimg.com/vi/ceG9Iskf6Js/mqdefault.jpg',\n",
       "      'width': 320,\n",
       "      'height': 180},\n",
       "     'high': {'url': 'https://i.ytimg.com/vi/ceG9Iskf6Js/hqdefault.jpg',\n",
       "      'width': 480,\n",
       "      'height': 360},\n",
       "     'standard': {'url': 'https://i.ytimg.com/vi/ceG9Iskf6Js/sddefault.jpg',\n",
       "      'width': 640,\n",
       "      'height': 480},\n",
       "     'maxres': {'url': 'https://i.ytimg.com/vi/ceG9Iskf6Js/maxresdefault.jpg',\n",
       "      'width': 1280,\n",
       "      'height': 720}},\n",
       "    'channelTitle': 'Adhiban Baskaran',\n",
       "    'playlistId': 'UUI9N4TAUX8k_oL9i72UYAbw',\n",
       "    'position': 15,\n",
       "    'resourceId': {'kind': 'youtube#video', 'videoId': 'ceG9Iskf6Js'}}},\n",
       "  {'kind': 'youtube#playlistItem',\n",
       "   'etag': 'bGdwAlZr3MawhiNALaYYlxcJFSw',\n",
       "   'id': 'VVVJOU40VEFVWDhrX29MOWk3MlVZQWJ3LmJEOFl2aU9ISWFz',\n",
       "   'snippet': {'publishedAt': '2020-10-26T17:24:41Z',\n",
       "    'channelId': 'UCI9N4TAUX8k_oL9i72UYAbw',\n",
       "    'title': 'Titled Tuesday Stream Ft.Anna Muzychuk & Elizabeth Paehtz',\n",
       "    'description': 'Connect with me on social media:\\nhttps://www.instagram.com/adhibanchess/\\nhttps://twitter.com/adhibanchess\\nhttps://discord.gg/WKd3qPe\\nThumbnail Credit: Pulkit Mehta\\n\\n\\nMusic credit: Saggian, https://open.spotify.com/artist/6dQdP4BL7WaOUGQGPdpDYo?nd=1\\n\\nFor Business Enquiries/Sponsors Contact on:\\nteam@adhibanbaskaran.me',\n",
       "    'thumbnails': {'default': {'url': 'https://i.ytimg.com/vi/bD8YviOHIas/default.jpg',\n",
       "      'width': 120,\n",
       "      'height': 90},\n",
       "     'medium': {'url': 'https://i.ytimg.com/vi/bD8YviOHIas/mqdefault.jpg',\n",
       "      'width': 320,\n",
       "      'height': 180},\n",
       "     'high': {'url': 'https://i.ytimg.com/vi/bD8YviOHIas/hqdefault.jpg',\n",
       "      'width': 480,\n",
       "      'height': 360},\n",
       "     'standard': {'url': 'https://i.ytimg.com/vi/bD8YviOHIas/sddefault.jpg',\n",
       "      'width': 640,\n",
       "      'height': 480},\n",
       "     'maxres': {'url': 'https://i.ytimg.com/vi/bD8YviOHIas/maxresdefault.jpg',\n",
       "      'width': 1280,\n",
       "      'height': 720}},\n",
       "    'channelTitle': 'Adhiban Baskaran',\n",
       "    'playlistId': 'UUI9N4TAUX8k_oL9i72UYAbw',\n",
       "    'position': 16,\n",
       "    'resourceId': {'kind': 'youtube#video', 'videoId': 'bD8YviOHIas'}}},\n",
       "  {'kind': 'youtube#playlistItem',\n",
       "   'etag': '5LH2O_AWKPi_-I4KOUTVgI18HKQ',\n",
       "   'id': 'VVVJOU40VEFVWDhrX29MOWk3MlVZQWJ3Lm5qSFJYcmxxM2ww',\n",
       "   'snippet': {'publishedAt': '2020-10-26T09:10:57Z',\n",
       "    'channelId': 'UCI9N4TAUX8k_oL9i72UYAbw',\n",
       "    'title': 'Celebration for Silver at Asian nations cup and Back to Streaming!',\n",
       "    'description': 'Connect with me on social media:\\nhttps://www.instagram.com/adhibanchess/\\nhttps://twitter.com/adhibanchess\\nhttps://discord.gg/WKd3qPe\\nThumbnail Credit: Pulkit Mehta\\n\\n\\nMusic credit: Saggian, https://open.spotify.com/artist/6dQdP4BL7WaOUGQGPdpDYo?nd=1\\n\\nFor Business Enquiries/Sponsors Contact on:\\nteam@adhibanbaskaran.me',\n",
       "    'thumbnails': {'default': {'url': 'https://i.ytimg.com/vi/njHRXrlq3l0/default.jpg',\n",
       "      'width': 120,\n",
       "      'height': 90},\n",
       "     'medium': {'url': 'https://i.ytimg.com/vi/njHRXrlq3l0/mqdefault.jpg',\n",
       "      'width': 320,\n",
       "      'height': 180},\n",
       "     'high': {'url': 'https://i.ytimg.com/vi/njHRXrlq3l0/hqdefault.jpg',\n",
       "      'width': 480,\n",
       "      'height': 360},\n",
       "     'standard': {'url': 'https://i.ytimg.com/vi/njHRXrlq3l0/sddefault.jpg',\n",
       "      'width': 640,\n",
       "      'height': 480},\n",
       "     'maxres': {'url': 'https://i.ytimg.com/vi/njHRXrlq3l0/maxresdefault.jpg',\n",
       "      'width': 1280,\n",
       "      'height': 720}},\n",
       "    'channelTitle': 'Adhiban Baskaran',\n",
       "    'playlistId': 'UUI9N4TAUX8k_oL9i72UYAbw',\n",
       "    'position': 17,\n",
       "    'resourceId': {'kind': 'youtube#video', 'videoId': 'njHRXrlq3l0'}}},\n",
       "  {'kind': 'youtube#playlistItem',\n",
       "   'etag': '4T6a7A8ZmQhlfVZadHz05FR232M',\n",
       "   'id': 'VVVJOU40VEFVWDhrX29MOWk3MlVZQWJ3LlVkVnN2bnFoUVZJ',\n",
       "   'snippet': {'publishedAt': '2020-10-06T04:48:29Z',\n",
       "    'channelId': 'UCI9N4TAUX8k_oL9i72UYAbw',\n",
       "    'title': 'Titled Tuesday Stream. Ft. Sagar Shah',\n",
       "    'description': 'Connect with me on social media:\\nhttps://www.instagram.com/adhibanchess/\\nhttps://twitter.com/adhibanchess\\nhttps://discord.gg/WKd3qPe\\nThumbnail Credit: Pulkit Mehta\\n\\n\\nMusic credit: Saggian, https://open.spotify.com/artist/6dQdP4BL7WaOUGQGPdpDYo?nd=1\\n\\nFor Business Enquiries/Sponsors Contact on:\\nteam@adhibanbaskaran.me',\n",
       "    'thumbnails': {'default': {'url': 'https://i.ytimg.com/vi/UdVsvnqhQVI/default.jpg',\n",
       "      'width': 120,\n",
       "      'height': 90},\n",
       "     'medium': {'url': 'https://i.ytimg.com/vi/UdVsvnqhQVI/mqdefault.jpg',\n",
       "      'width': 320,\n",
       "      'height': 180},\n",
       "     'high': {'url': 'https://i.ytimg.com/vi/UdVsvnqhQVI/hqdefault.jpg',\n",
       "      'width': 480,\n",
       "      'height': 360},\n",
       "     'standard': {'url': 'https://i.ytimg.com/vi/UdVsvnqhQVI/sddefault.jpg',\n",
       "      'width': 640,\n",
       "      'height': 480},\n",
       "     'maxres': {'url': 'https://i.ytimg.com/vi/UdVsvnqhQVI/maxresdefault.jpg',\n",
       "      'width': 1280,\n",
       "      'height': 720}},\n",
       "    'channelTitle': 'Adhiban Baskaran',\n",
       "    'playlistId': 'UUI9N4TAUX8k_oL9i72UYAbw',\n",
       "    'position': 18,\n",
       "    'resourceId': {'kind': 'youtube#video', 'videoId': 'UdVsvnqhQVI'}}},\n",
       "  {'kind': 'youtube#playlistItem',\n",
       "   'etag': 'nTQG2NKUere0Stp-pPSf1rqiPS8',\n",
       "   'id': 'VVVJOU40VEFVWDhrX29MOWk3MlVZQWJ3LnEwcjFtY0EzZVZB',\n",
       "   'snippet': {'publishedAt': '2020-10-05T14:55:21Z',\n",
       "    'channelId': 'UCI9N4TAUX8k_oL9i72UYAbw',\n",
       "    'title': 'Watching Norway Chess. Ft. Disco Suri',\n",
       "    'description': 'Connect with me on social media:\\nhttps://www.instagram.com/adhibanchess/\\nhttps://twitter.com/adhibanchess\\nhttps://discord.gg/WKd3qPe\\nThumbnail Credit: Nobody\\n\\n\\nMusic credit: Saggian, https://open.spotify.com/artist/6dQdP4BL7WaOUGQGPdpDYo?nd=1\\n\\nFor Business Enquiries/Sponsors Contact on:\\nteam@adhibanbaskaran.me',\n",
       "    'thumbnails': {'default': {'url': 'https://i.ytimg.com/vi/q0r1mcA3eVA/default.jpg',\n",
       "      'width': 120,\n",
       "      'height': 90},\n",
       "     'medium': {'url': 'https://i.ytimg.com/vi/q0r1mcA3eVA/mqdefault.jpg',\n",
       "      'width': 320,\n",
       "      'height': 180},\n",
       "     'high': {'url': 'https://i.ytimg.com/vi/q0r1mcA3eVA/hqdefault.jpg',\n",
       "      'width': 480,\n",
       "      'height': 360},\n",
       "     'standard': {'url': 'https://i.ytimg.com/vi/q0r1mcA3eVA/sddefault.jpg',\n",
       "      'width': 640,\n",
       "      'height': 480},\n",
       "     'maxres': {'url': 'https://i.ytimg.com/vi/q0r1mcA3eVA/maxresdefault.jpg',\n",
       "      'width': 1280,\n",
       "      'height': 720}},\n",
       "    'channelTitle': 'Adhiban Baskaran',\n",
       "    'playlistId': 'UUI9N4TAUX8k_oL9i72UYAbw',\n",
       "    'position': 19,\n",
       "    'resourceId': {'kind': 'youtube#video', 'videoId': 'q0r1mcA3eVA'}}},\n",
       "  {'kind': 'youtube#playlistItem',\n",
       "   'etag': '377ZD5OuR7UDWZIBIUC3XRjkWis',\n",
       "   'id': 'VVVJOU40VEFVWDhrX29MOWk3MlVZQWJ3LnRIZ0RydXdkVFh3',\n",
       "   'snippet': {'publishedAt': '2020-10-01T13:03:48Z',\n",
       "    'channelId': 'UCI9N4TAUX8k_oL9i72UYAbw',\n",
       "    'title': 'Double Round Robin Blitz event at Chess24. Ft.Fabi,VD,Svidler,Aryan & Anton',\n",
       "    'description': 'Connect with me on social media:\\nhttps://www.instagram.com/adhibanchess/\\nhttps://twitter.com/adhibanchess\\nhttps://discord.gg/WKd3qPe\\nThumbnail Credit: Pulkit Mehta\\n\\n\\nMusic credit: Saggian, https://open.spotify.com/artist/6dQdP4BL7WaOUGQGPdpDYo?nd=1\\n\\nFor Business Enquiries/Sponsors Contact on:\\nteam@adhibanbaskaran.me',\n",
       "    'thumbnails': {'default': {'url': 'https://i.ytimg.com/vi/tHgDruwdTXw/default.jpg',\n",
       "      'width': 120,\n",
       "      'height': 90},\n",
       "     'medium': {'url': 'https://i.ytimg.com/vi/tHgDruwdTXw/mqdefault.jpg',\n",
       "      'width': 320,\n",
       "      'height': 180},\n",
       "     'high': {'url': 'https://i.ytimg.com/vi/tHgDruwdTXw/hqdefault.jpg',\n",
       "      'width': 480,\n",
       "      'height': 360},\n",
       "     'standard': {'url': 'https://i.ytimg.com/vi/tHgDruwdTXw/sddefault.jpg',\n",
       "      'width': 640,\n",
       "      'height': 480},\n",
       "     'maxres': {'url': 'https://i.ytimg.com/vi/tHgDruwdTXw/maxresdefault.jpg',\n",
       "      'width': 1280,\n",
       "      'height': 720}},\n",
       "    'channelTitle': 'Adhiban Baskaran',\n",
       "    'playlistId': 'UUI9N4TAUX8k_oL9i72UYAbw',\n",
       "    'position': 20,\n",
       "    'resourceId': {'kind': 'youtube#video', 'videoId': 'tHgDruwdTXw'}}},\n",
       "  {'kind': 'youtube#playlistItem',\n",
       "   'etag': 'wj2svn_DGnK3mk92GeZerqkNFSk',\n",
       "   'id': 'VVVJOU40VEFVWDhrX29MOWk3MlVZQWJ3Li1sdThLS1FvYmJB',\n",
       "   'snippet': {'publishedAt': '2020-09-25T13:30:31Z',\n",
       "    'channelId': 'UCI9N4TAUX8k_oL9i72UYAbw',\n",
       "    'title': 'Puzzle battle with kids Ft.Sankalp & Illamparthi',\n",
       "    'description': 'Connect with me on social media:\\nhttps://www.instagram.com/adhibanchess/\\nhttps://twitter.com/adhibanchess\\nhttps://discord.gg/WKd3qPe\\n\\n\\n\\nMusic credit: Saggian, https://open.spotify.com/artist/6dQdP4BL7WaOUGQGPdpDYo?nd=1\\n\\nFor Business Enquiries/Sponsors Contact on:\\nteam@adhibanbaskaran.me',\n",
       "    'thumbnails': {'default': {'url': 'https://i.ytimg.com/vi/-lu8KKQobbA/default.jpg',\n",
       "      'width': 120,\n",
       "      'height': 90},\n",
       "     'medium': {'url': 'https://i.ytimg.com/vi/-lu8KKQobbA/mqdefault.jpg',\n",
       "      'width': 320,\n",
       "      'height': 180},\n",
       "     'high': {'url': 'https://i.ytimg.com/vi/-lu8KKQobbA/hqdefault.jpg',\n",
       "      'width': 480,\n",
       "      'height': 360},\n",
       "     'standard': {'url': 'https://i.ytimg.com/vi/-lu8KKQobbA/sddefault.jpg',\n",
       "      'width': 640,\n",
       "      'height': 480},\n",
       "     'maxres': {'url': 'https://i.ytimg.com/vi/-lu8KKQobbA/maxresdefault.jpg',\n",
       "      'width': 1280,\n",
       "      'height': 720}},\n",
       "    'channelTitle': 'Adhiban Baskaran',\n",
       "    'playlistId': 'UUI9N4TAUX8k_oL9i72UYAbw',\n",
       "    'position': 21,\n",
       "    'resourceId': {'kind': 'youtube#video', 'videoId': '-lu8KKQobbA'}}},\n",
       "  {'kind': 'youtube#playlistItem',\n",
       "   'etag': 'QbTtAfqHhu1CJrjY_s3ZyB0Ohcc',\n",
       "   'id': 'VVVJOU40VEFVWDhrX29MOWk3MlVZQWJ3LlpxZ01GZEJwbC1R',\n",
       "   'snippet': {'publishedAt': '2020-09-25T11:41:21Z',\n",
       "    'channelId': 'UCI9N4TAUX8k_oL9i72UYAbw',\n",
       "    'title': 'Chess, Chill and Storytime',\n",
       "    'description': 'Connect with me on social media:\\nhttps://www.instagram.com/adhibanchess/\\nhttps://twitter.com/adhibanchess\\nhttps://discord.gg/WKd3qPe\\n\\n\\n\\nMusic credit: Saggian, https://open.spotify.com/artist/6dQdP4BL7WaOUGQGPdpDYo?nd=1\\n\\nFor Business Enquiries/Sponsors Contact on:\\nteam@adhibanbaskaran.me',\n",
       "    'thumbnails': {'default': {'url': 'https://i.ytimg.com/vi/ZqgMFdBpl-Q/default.jpg',\n",
       "      'width': 120,\n",
       "      'height': 90},\n",
       "     'medium': {'url': 'https://i.ytimg.com/vi/ZqgMFdBpl-Q/mqdefault.jpg',\n",
       "      'width': 320,\n",
       "      'height': 180},\n",
       "     'high': {'url': 'https://i.ytimg.com/vi/ZqgMFdBpl-Q/hqdefault.jpg',\n",
       "      'width': 480,\n",
       "      'height': 360},\n",
       "     'standard': {'url': 'https://i.ytimg.com/vi/ZqgMFdBpl-Q/sddefault.jpg',\n",
       "      'width': 640,\n",
       "      'height': 480},\n",
       "     'maxres': {'url': 'https://i.ytimg.com/vi/ZqgMFdBpl-Q/maxresdefault.jpg',\n",
       "      'width': 1280,\n",
       "      'height': 720}},\n",
       "    'channelTitle': 'Adhiban Baskaran',\n",
       "    'playlistId': 'UUI9N4TAUX8k_oL9i72UYAbw',\n",
       "    'position': 22,\n",
       "    'resourceId': {'kind': 'youtube#video', 'videoId': 'ZqgMFdBpl-Q'}}},\n",
       "  {'kind': 'youtube#playlistItem',\n",
       "   'etag': 'sHr7knk2Mc1ySlcXAAyUCEOVhXk',\n",
       "   'id': 'VVVJOU40VEFVWDhrX29MOWk3MlVZQWJ3LnVJS2dKcEI3b3dJ',\n",
       "   'snippet': {'publishedAt': '2020-09-22T05:02:40Z',\n",
       "    'channelId': 'UCI9N4TAUX8k_oL9i72UYAbw',\n",
       "    'title': 'The Tiger, the Witch and the Nice dress :)! Ft.Joel,Suhani and Tania.',\n",
       "    'description': 'Connect with me on social media:\\nhttps://www.instagram.com/adhibanchess/\\nhttps://twitter.com/adhibanchess\\nhttps://discord.gg/WKd3qPe\\nThumbnail Credit: Pulkit Mehta\\n\\n\\nMusic credit: Saggian, https://open.spotify.com/artist/6dQdP4BL7WaOUGQGPdpDYo?nd=1\\n\\nFor Business Enquiries/Sponsors Contact on:\\nteam@adhibanbaskaran.me',\n",
       "    'thumbnails': {'default': {'url': 'https://i.ytimg.com/vi/uIKgJpB7owI/default.jpg',\n",
       "      'width': 120,\n",
       "      'height': 90},\n",
       "     'medium': {'url': 'https://i.ytimg.com/vi/uIKgJpB7owI/mqdefault.jpg',\n",
       "      'width': 320,\n",
       "      'height': 180},\n",
       "     'high': {'url': 'https://i.ytimg.com/vi/uIKgJpB7owI/hqdefault.jpg',\n",
       "      'width': 480,\n",
       "      'height': 360},\n",
       "     'standard': {'url': 'https://i.ytimg.com/vi/uIKgJpB7owI/sddefault.jpg',\n",
       "      'width': 640,\n",
       "      'height': 480},\n",
       "     'maxres': {'url': 'https://i.ytimg.com/vi/uIKgJpB7owI/maxresdefault.jpg',\n",
       "      'width': 1280,\n",
       "      'height': 720}},\n",
       "    'channelTitle': 'Adhiban Baskaran',\n",
       "    'playlistId': 'UUI9N4TAUX8k_oL9i72UYAbw',\n",
       "    'position': 23,\n",
       "    'resourceId': {'kind': 'youtube#video', 'videoId': 'uIKgJpB7owI'}}},\n",
       "  {'kind': 'youtube#playlistItem',\n",
       "   'etag': 'sFHinmnTnStXReqMX8tTbkTxxoM',\n",
       "   'id': 'VVVJOU40VEFVWDhrX29MOWk3MlVZQWJ3Lk1uRndpdXFJNDhj',\n",
       "   'snippet': {'publishedAt': '2020-09-21T09:57:02Z',\n",
       "    'channelId': 'UCI9N4TAUX8k_oL9i72UYAbw',\n",
       "    'title': 'Fun chess variants with Aravindh on lichess :).',\n",
       "    'description': 'Connect with me on social media:\\nhttps://www.instagram.com/adhibanchess/\\nhttps://twitter.com/adhibanchess\\nhttps://discord.gg/WKd3qPe\\nThumbnail Credit: Pulkit Mehta\\n\\n\\nMusic credit: Saggian, https://open.spotify.com/artist/6dQdP4BL7WaOUGQGPdpDYo?nd=1\\n\\nFor Business Enquiries/Sponsors Contact on:\\nteam@adhibanbaskaran.me',\n",
       "    'thumbnails': {'default': {'url': 'https://i.ytimg.com/vi/MnFwiuqI48c/default.jpg',\n",
       "      'width': 120,\n",
       "      'height': 90},\n",
       "     'medium': {'url': 'https://i.ytimg.com/vi/MnFwiuqI48c/mqdefault.jpg',\n",
       "      'width': 320,\n",
       "      'height': 180},\n",
       "     'high': {'url': 'https://i.ytimg.com/vi/MnFwiuqI48c/hqdefault.jpg',\n",
       "      'width': 480,\n",
       "      'height': 360},\n",
       "     'standard': {'url': 'https://i.ytimg.com/vi/MnFwiuqI48c/sddefault.jpg',\n",
       "      'width': 640,\n",
       "      'height': 480},\n",
       "     'maxres': {'url': 'https://i.ytimg.com/vi/MnFwiuqI48c/maxresdefault.jpg',\n",
       "      'width': 1280,\n",
       "      'height': 720}},\n",
       "    'channelTitle': 'Adhiban Baskaran',\n",
       "    'playlistId': 'UUI9N4TAUX8k_oL9i72UYAbw',\n",
       "    'position': 24,\n",
       "    'resourceId': {'kind': 'youtube#video', 'videoId': 'MnFwiuqI48c'}}},\n",
       "  {'kind': 'youtube#playlistItem',\n",
       "   'etag': 'gWP0Dbp-zwZlg-CJrUGxe71P7eM',\n",
       "   'id': 'VVVJOU40VEFVWDhrX29MOWk3MlVZQWJ3Lno4UExsNlFlSTI0',\n",
       "   'snippet': {'publishedAt': '2020-09-16T13:33:11Z',\n",
       "    'channelId': 'UCI9N4TAUX8k_oL9i72UYAbw',\n",
       "    'title': 'Chess24 Banter Blitz Cup Qualifier F vs Benjamin Bok',\n",
       "    'description': 'Connect with me on social media:\\nhttps://www.instagram.com/adhibanchess/\\nhttps://twitter.com/adhibanchess\\nhttps://discord.gg/WKd3qPe\\n\\n\\nMusic credit: Saggian, https://open.spotify.com/artist/6dQdP4BL7WaOUGQGPdpDYo?nd=1\\n\\nFor Business Enquiries/Sponsors Contact on:\\nteam@adhibanbaskaran.me',\n",
       "    'thumbnails': {'default': {'url': 'https://i.ytimg.com/vi/z8PLl6QeI24/default.jpg',\n",
       "      'width': 120,\n",
       "      'height': 90},\n",
       "     'medium': {'url': 'https://i.ytimg.com/vi/z8PLl6QeI24/mqdefault.jpg',\n",
       "      'width': 320,\n",
       "      'height': 180},\n",
       "     'high': {'url': 'https://i.ytimg.com/vi/z8PLl6QeI24/hqdefault.jpg',\n",
       "      'width': 480,\n",
       "      'height': 360},\n",
       "     'standard': {'url': 'https://i.ytimg.com/vi/z8PLl6QeI24/sddefault.jpg',\n",
       "      'width': 640,\n",
       "      'height': 480},\n",
       "     'maxres': {'url': 'https://i.ytimg.com/vi/z8PLl6QeI24/maxresdefault.jpg',\n",
       "      'width': 1280,\n",
       "      'height': 720}},\n",
       "    'channelTitle': 'Adhiban Baskaran',\n",
       "    'playlistId': 'UUI9N4TAUX8k_oL9i72UYAbw',\n",
       "    'position': 25,\n",
       "    'resourceId': {'kind': 'youtube#video', 'videoId': 'z8PLl6QeI24'}}},\n",
       "  {'kind': 'youtube#playlistItem',\n",
       "   'etag': '_Cj8YxKz5zJhtYfVuAg4dicBYsA',\n",
       "   'id': 'VVVJOU40VEFVWDhrX29MOWk3MlVZQWJ3LkduZHQxTlBGb1Rn',\n",
       "   'snippet': {'publishedAt': '2020-09-15T07:52:00Z',\n",
       "    'channelId': 'UCI9N4TAUX8k_oL9i72UYAbw',\n",
       "    'title': 'Enter the dragon - Titled Tuesday with 6/6 explosive start!!',\n",
       "    'description': 'Connect with me on social media:\\nhttps://www.instagram.com/adhibanchess/\\nhttps://twitter.com/adhibanchess\\nhttps://discord.gg/WKd3qPe\\n\\n\\nMusic credit: Saggian, https://open.spotify.com/artist/6dQdP4BL7WaOUGQGPdpDYo?nd=1\\n\\nFor Business Enquiries/Sponsors Contact on:\\nteam@adhibanbaskaran.me',\n",
       "    'thumbnails': {'default': {'url': 'https://i.ytimg.com/vi/Gndt1NPFoTg/default.jpg',\n",
       "      'width': 120,\n",
       "      'height': 90},\n",
       "     'medium': {'url': 'https://i.ytimg.com/vi/Gndt1NPFoTg/mqdefault.jpg',\n",
       "      'width': 320,\n",
       "      'height': 180},\n",
       "     'high': {'url': 'https://i.ytimg.com/vi/Gndt1NPFoTg/hqdefault.jpg',\n",
       "      'width': 480,\n",
       "      'height': 360},\n",
       "     'standard': {'url': 'https://i.ytimg.com/vi/Gndt1NPFoTg/sddefault.jpg',\n",
       "      'width': 640,\n",
       "      'height': 480},\n",
       "     'maxres': {'url': 'https://i.ytimg.com/vi/Gndt1NPFoTg/maxresdefault.jpg',\n",
       "      'width': 1280,\n",
       "      'height': 720}},\n",
       "    'channelTitle': 'Adhiban Baskaran',\n",
       "    'playlistId': 'UUI9N4TAUX8k_oL9i72UYAbw',\n",
       "    'position': 26,\n",
       "    'resourceId': {'kind': 'youtube#video', 'videoId': 'Gndt1NPFoTg'}}},\n",
       "  {'kind': 'youtube#playlistItem',\n",
       "   'etag': 'D_MtkTIPMCvshnwZbmDEyF3mp0c',\n",
       "   'id': 'VVVJOU40VEFVWDhrX29MOWk3MlVZQWJ3LmZqSHJSckw3YVp3',\n",
       "   'snippet': {'publishedAt': '2020-09-11T09:35:31Z',\n",
       "    'channelId': 'UCI9N4TAUX8k_oL9i72UYAbw',\n",
       "    'title': 'Bday stream with Creative Genius. All sorts of chess variants :)-Ft. Aravindh,Srinath,Karthi & Prag.',\n",
       "    'description': 'Connect with me on social media:\\nhttps://www.instagram.com/adhibanchess/\\nhttps://twitter.com/adhibanchess\\nhttps://discord.gg/WKd3qPe\\nThumbnail Credit:Pulkit Mehta\\n\\nMusic credit: Saggian, https://open.spotify.com/artist/6dQdP4BL7WaOUGQGPdpDYo?nd=1\\n\\nFor Business Enquiries/Sponsors Contact on:\\nteam@adhibanbaskaran.me',\n",
       "    'thumbnails': {'default': {'url': 'https://i.ytimg.com/vi/fjHrRrL7aZw/default.jpg',\n",
       "      'width': 120,\n",
       "      'height': 90},\n",
       "     'medium': {'url': 'https://i.ytimg.com/vi/fjHrRrL7aZw/mqdefault.jpg',\n",
       "      'width': 320,\n",
       "      'height': 180},\n",
       "     'high': {'url': 'https://i.ytimg.com/vi/fjHrRrL7aZw/hqdefault.jpg',\n",
       "      'width': 480,\n",
       "      'height': 360},\n",
       "     'standard': {'url': 'https://i.ytimg.com/vi/fjHrRrL7aZw/sddefault.jpg',\n",
       "      'width': 640,\n",
       "      'height': 480},\n",
       "     'maxres': {'url': 'https://i.ytimg.com/vi/fjHrRrL7aZw/maxresdefault.jpg',\n",
       "      'width': 1280,\n",
       "      'height': 720}},\n",
       "    'channelTitle': 'Adhiban Baskaran',\n",
       "    'playlistId': 'UUI9N4TAUX8k_oL9i72UYAbw',\n",
       "    'position': 27,\n",
       "    'resourceId': {'kind': 'youtube#video', 'videoId': 'fjHrRrL7aZw'}}},\n",
       "  {'kind': 'youtube#playlistItem',\n",
       "   'etag': 'Jg3R_Sl7NNkx5WqUX8jZ3Zp7o-4',\n",
       "   'id': 'VVVJOU40VEFVWDhrX29MOWk3MlVZQWJ3Lm84cWIzX19wR0ow',\n",
       "   'snippet': {'publishedAt': '2020-09-08T06:33:17Z',\n",
       "    'channelId': 'UCI9N4TAUX8k_oL9i72UYAbw',\n",
       "    'title': 'First Titled Tuesday-Together!! After Party ft.Anish Giri.',\n",
       "    'description': 'Connect with me on social media:\\nhttps://www.instagram.com/adhibanchess/\\nhttps://twitter.com/adhibanchess\\nhttps://discord.gg/WKd3qPe\\n\\n\\nMusic credit: Saggian, https://open.spotify.com/artist/6dQdP4BL7WaOUGQGPdpDYo?nd=1\\n\\nFor Business Enquiries/Sponsors Contact on:\\nteam@adhibanbaskaran.me',\n",
       "    'thumbnails': {'default': {'url': 'https://i.ytimg.com/vi/o8qb3__pGJ0/default.jpg',\n",
       "      'width': 120,\n",
       "      'height': 90},\n",
       "     'medium': {'url': 'https://i.ytimg.com/vi/o8qb3__pGJ0/mqdefault.jpg',\n",
       "      'width': 320,\n",
       "      'height': 180},\n",
       "     'high': {'url': 'https://i.ytimg.com/vi/o8qb3__pGJ0/hqdefault.jpg',\n",
       "      'width': 480,\n",
       "      'height': 360},\n",
       "     'standard': {'url': 'https://i.ytimg.com/vi/o8qb3__pGJ0/sddefault.jpg',\n",
       "      'width': 640,\n",
       "      'height': 480},\n",
       "     'maxres': {'url': 'https://i.ytimg.com/vi/o8qb3__pGJ0/maxresdefault.jpg',\n",
       "      'width': 1280,\n",
       "      'height': 720}},\n",
       "    'channelTitle': 'Adhiban Baskaran',\n",
       "    'playlistId': 'UUI9N4TAUX8k_oL9i72UYAbw',\n",
       "    'position': 28,\n",
       "    'resourceId': {'kind': 'youtube#video', 'videoId': 'o8qb3__pGJ0'}}},\n",
       "  {'kind': 'youtube#playlistItem',\n",
       "   'etag': 'WT7f1vT1hVxgIuswuKNyF6gJa5g',\n",
       "   'id': 'VVVJOU40VEFVWDhrX29MOWk3MlVZQWJ3Ljc2czF1T0wxSE1z',\n",
       "   'snippet': {'publishedAt': '2020-09-06T02:22:16Z',\n",
       "    'channelId': 'UCI9N4TAUX8k_oL9i72UYAbw',\n",
       "    'title': \"Broke Cemil's score with new record with 1866...Finishing what I started :). Ft Sleepless Samay :).\",\n",
       "    'description': 'Connect with me on social media:\\nhttps://www.instagram.com/adhibanchess/\\nhttps://twitter.com/adhibanchess\\nhttps://discord.gg/WKd3qPe\\n\\n\\nMusic credit: Saggian, https://open.spotify.com/artist/6dQdP4BL7WaOUGQGPdpDYo?nd=1\\n\\nFor Business Enquiries/Sponsors Contact on:\\nteam@adhibanbaskaran.me',\n",
       "    'thumbnails': {'default': {'url': 'https://i.ytimg.com/vi/76s1uOL1HMs/default.jpg',\n",
       "      'width': 120,\n",
       "      'height': 90},\n",
       "     'medium': {'url': 'https://i.ytimg.com/vi/76s1uOL1HMs/mqdefault.jpg',\n",
       "      'width': 320,\n",
       "      'height': 180},\n",
       "     'high': {'url': 'https://i.ytimg.com/vi/76s1uOL1HMs/hqdefault.jpg',\n",
       "      'width': 480,\n",
       "      'height': 360},\n",
       "     'standard': {'url': 'https://i.ytimg.com/vi/76s1uOL1HMs/sddefault.jpg',\n",
       "      'width': 640,\n",
       "      'height': 480},\n",
       "     'maxres': {'url': 'https://i.ytimg.com/vi/76s1uOL1HMs/maxresdefault.jpg',\n",
       "      'width': 1280,\n",
       "      'height': 720}},\n",
       "    'channelTitle': 'Adhiban Baskaran',\n",
       "    'playlistId': 'UUI9N4TAUX8k_oL9i72UYAbw',\n",
       "    'position': 29,\n",
       "    'resourceId': {'kind': 'youtube#video', 'videoId': '76s1uOL1HMs'}}},\n",
       "  {'kind': 'youtube#playlistItem',\n",
       "   'etag': 'JPkslx6aVKfXbDv3XTdj80caRk0',\n",
       "   'id': 'VVVJOU40VEFVWDhrX29MOWk3MlVZQWJ3Li1sV2hiNDNOLXYw',\n",
       "   'snippet': {'publishedAt': '2020-09-05T14:11:25Z',\n",
       "    'channelId': 'UCI9N4TAUX8k_oL9i72UYAbw',\n",
       "    'title': 'Skribbl featuring Tania,Soumya,Samay,Anish & Vidit. Cameo: Guruji',\n",
       "    'description': 'Connect with me on social media:\\nhttps://www.instagram.com/adhibanchess/\\nhttps://twitter.com/adhibanchess\\nhttps://discord.gg/WKd3qPe\\n\\n\\nMusic credit: Saggian, https://open.spotify.com/artist/6dQdP4BL7WaOUGQGPdpDYo?nd=1\\n\\nFor Business Enquiries/Sponsors Contact on:\\nteam@adhibanbaskaran.me',\n",
       "    'thumbnails': {'default': {'url': 'https://i.ytimg.com/vi/-lWhb43N-v0/default.jpg',\n",
       "      'width': 120,\n",
       "      'height': 90},\n",
       "     'medium': {'url': 'https://i.ytimg.com/vi/-lWhb43N-v0/mqdefault.jpg',\n",
       "      'width': 320,\n",
       "      'height': 180},\n",
       "     'high': {'url': 'https://i.ytimg.com/vi/-lWhb43N-v0/hqdefault.jpg',\n",
       "      'width': 480,\n",
       "      'height': 360},\n",
       "     'standard': {'url': 'https://i.ytimg.com/vi/-lWhb43N-v0/sddefault.jpg',\n",
       "      'width': 640,\n",
       "      'height': 480},\n",
       "     'maxres': {'url': 'https://i.ytimg.com/vi/-lWhb43N-v0/maxresdefault.jpg',\n",
       "      'width': 1280,\n",
       "      'height': 720}},\n",
       "    'channelTitle': 'Adhiban Baskaran',\n",
       "    'playlistId': 'UUI9N4TAUX8k_oL9i72UYAbw',\n",
       "    'position': 30,\n",
       "    'resourceId': {'kind': 'youtube#video', 'videoId': '-lWhb43N-v0'}}},\n",
       "  {'kind': 'youtube#playlistItem',\n",
       "   'etag': '6ZoFSdiz0OSwpzxDtb_qjyII0Fo',\n",
       "   'id': 'VVVJOU40VEFVWDhrX29MOWk3MlVZQWJ3LjN2WlNaOE5DNng4',\n",
       "   'snippet': {'publishedAt': '2020-09-05T08:40:00Z',\n",
       "    'channelId': 'UCI9N4TAUX8k_oL9i72UYAbw',\n",
       "    'title': \"Tried to beat Cemil's record on Chessbase Training-Tactics Sprint with Anish Giri and Captain Vidit.\",\n",
       "    'description': 'Connect with me on social media:\\nhttps://www.instagram.com/adhibanchess/\\nhttps://twitter.com/adhibanchess\\nhttps://discord.gg/WKd3qPe\\n\\n\\nMusic credit: Saggian, https://open.spotify.com/artist/6dQdP4BL7WaOUGQGPdpDYo?nd=1\\n\\nFor Business Enquiries/Sponsors Contact on:\\nteam@adhibanbaskaran.me',\n",
       "    'thumbnails': {'default': {'url': 'https://i.ytimg.com/vi/3vZSZ8NC6x8/default.jpg',\n",
       "      'width': 120,\n",
       "      'height': 90},\n",
       "     'medium': {'url': 'https://i.ytimg.com/vi/3vZSZ8NC6x8/mqdefault.jpg',\n",
       "      'width': 320,\n",
       "      'height': 180},\n",
       "     'high': {'url': 'https://i.ytimg.com/vi/3vZSZ8NC6x8/hqdefault.jpg',\n",
       "      'width': 480,\n",
       "      'height': 360},\n",
       "     'standard': {'url': 'https://i.ytimg.com/vi/3vZSZ8NC6x8/sddefault.jpg',\n",
       "      'width': 640,\n",
       "      'height': 480},\n",
       "     'maxres': {'url': 'https://i.ytimg.com/vi/3vZSZ8NC6x8/maxresdefault.jpg',\n",
       "      'width': 1280,\n",
       "      'height': 720}},\n",
       "    'channelTitle': 'Adhiban Baskaran',\n",
       "    'playlistId': 'UUI9N4TAUX8k_oL9i72UYAbw',\n",
       "    'position': 31,\n",
       "    'resourceId': {'kind': 'youtube#video', 'videoId': '3vZSZ8NC6x8'}}},\n",
       "  {'kind': 'youtube#playlistItem',\n",
       "   'etag': '6X7FgsRfsQ7LCRO85YqRJs9JtHY',\n",
       "   'id': 'VVVJOU40VEFVWDhrX29MOWk3MlVZQWJ3Lm04N2RRejlKT2o4',\n",
       "   'snippet': {'publishedAt': '2020-09-03T06:50:09Z',\n",
       "    'channelId': 'UCI9N4TAUX8k_oL9i72UYAbw',\n",
       "    'title': \"Ceo & Buddha! A brief history of h4, Puzzle Battle, Divya's Dice chess, Skribbl :). Cameo:Samay!\",\n",
       "    'description': 'Follow them at \\nhttps://twitter.com/DivyaDeshmukh05\\nhttps://www.instagram.com/gm.srinath/\\nhttps://twitter.com/nsrinath69\\n\\nConnect with me on social media:\\nhttps://www.instagram.com/adhibanchess/\\nhttps://twitter.com/adhibanchess\\nhttps://discord.gg/WKd3qPe\\nThumbnail credit: DS Editors-Saif\\n\\nMusic credit: Saggian, https://open.spotify.com/artist/6dQdP4BL7WaOUGQGPdpDYo?nd=1\\n\\nFor Business Enquiries/Sponsors Contact on:\\nteam@adhibanbaskaran.me',\n",
       "    'thumbnails': {'default': {'url': 'https://i.ytimg.com/vi/m87dQz9JOj8/default.jpg',\n",
       "      'width': 120,\n",
       "      'height': 90},\n",
       "     'medium': {'url': 'https://i.ytimg.com/vi/m87dQz9JOj8/mqdefault.jpg',\n",
       "      'width': 320,\n",
       "      'height': 180},\n",
       "     'high': {'url': 'https://i.ytimg.com/vi/m87dQz9JOj8/hqdefault.jpg',\n",
       "      'width': 480,\n",
       "      'height': 360},\n",
       "     'standard': {'url': 'https://i.ytimg.com/vi/m87dQz9JOj8/sddefault.jpg',\n",
       "      'width': 640,\n",
       "      'height': 480},\n",
       "     'maxres': {'url': 'https://i.ytimg.com/vi/m87dQz9JOj8/maxresdefault.jpg',\n",
       "      'width': 1280,\n",
       "      'height': 720}},\n",
       "    'channelTitle': 'Adhiban Baskaran',\n",
       "    'playlistId': 'UUI9N4TAUX8k_oL9i72UYAbw',\n",
       "    'position': 32,\n",
       "    'resourceId': {'kind': 'youtube#video', 'videoId': 'm87dQz9JOj8'}}},\n",
       "  {'kind': 'youtube#playlistItem',\n",
       "   'etag': 'HoDun-4MH2tSc1G8rTmJmkvSrNM',\n",
       "   'id': 'VVVJOU40VEFVWDhrX29MOWk3MlVZQWJ3Lm9hQlUtRWVLMTlz',\n",
       "   'snippet': {'publishedAt': '2020-09-01T12:28:48Z',\n",
       "    'channelId': 'UCI9N4TAUX8k_oL9i72UYAbw',\n",
       "    'title': 'Decoding the Human Calculator. Ft.Karthikeyan Murali',\n",
       "    'description': 'Connect with me on social media:\\nhttps://www.instagram.com/adhibanchess/\\nhttps://twitter.com/adhibanchess\\nhttps://discord.gg/WKd3qPe\\nThumbnail credit: DS Editors-Saif\\n\\nMusic credit: Saggian, https://open.spotify.com/artist/6dQdP4BL7WaOUGQGPdpDYo?nd=1',\n",
       "    'thumbnails': {'default': {'url': 'https://i.ytimg.com/vi/oaBU-EeK19s/default.jpg',\n",
       "      'width': 120,\n",
       "      'height': 90},\n",
       "     'medium': {'url': 'https://i.ytimg.com/vi/oaBU-EeK19s/mqdefault.jpg',\n",
       "      'width': 320,\n",
       "      'height': 180},\n",
       "     'high': {'url': 'https://i.ytimg.com/vi/oaBU-EeK19s/hqdefault.jpg',\n",
       "      'width': 480,\n",
       "      'height': 360},\n",
       "     'standard': {'url': 'https://i.ytimg.com/vi/oaBU-EeK19s/sddefault.jpg',\n",
       "      'width': 640,\n",
       "      'height': 480},\n",
       "     'maxres': {'url': 'https://i.ytimg.com/vi/oaBU-EeK19s/maxresdefault.jpg',\n",
       "      'width': 1280,\n",
       "      'height': 720}},\n",
       "    'channelTitle': 'Adhiban Baskaran',\n",
       "    'playlistId': 'UUI9N4TAUX8k_oL9i72UYAbw',\n",
       "    'position': 33,\n",
       "    'resourceId': {'kind': 'youtube#video', 'videoId': 'oaBU-EeK19s'}}},\n",
       "  {'kind': 'youtube#playlistItem',\n",
       "   'etag': '4nHwbDMfbPZs3bQ5y773t0ryRYc',\n",
       "   'id': 'VVVJOU40VEFVWDhrX29MOWk3MlVZQWJ3LmoxYTNsSVNtZ3JR',\n",
       "   'snippet': {'publishedAt': '2020-08-28T05:14:03Z',\n",
       "    'channelId': 'UCI9N4TAUX8k_oL9i72UYAbw',\n",
       "    'title': 'Highlights day 02 Samay,Biswa,Sagar,Tania & Soumya.',\n",
       "    'description': 'Connect with me on social media:\\nhttps://www.instagram.com/adhibanchess/\\nhttps://twitter.com/adhibanchess\\nhttps://discord.gg/WKd3qPe\\nEdited by Saif.',\n",
       "    'thumbnails': {'default': {'url': 'https://i.ytimg.com/vi/j1a3lISmgrQ/default.jpg',\n",
       "      'width': 120,\n",
       "      'height': 90},\n",
       "     'medium': {'url': 'https://i.ytimg.com/vi/j1a3lISmgrQ/mqdefault.jpg',\n",
       "      'width': 320,\n",
       "      'height': 180},\n",
       "     'high': {'url': 'https://i.ytimg.com/vi/j1a3lISmgrQ/hqdefault.jpg',\n",
       "      'width': 480,\n",
       "      'height': 360},\n",
       "     'standard': {'url': 'https://i.ytimg.com/vi/j1a3lISmgrQ/sddefault.jpg',\n",
       "      'width': 640,\n",
       "      'height': 480},\n",
       "     'maxres': {'url': 'https://i.ytimg.com/vi/j1a3lISmgrQ/maxresdefault.jpg',\n",
       "      'width': 1280,\n",
       "      'height': 720}},\n",
       "    'channelTitle': 'Adhiban Baskaran',\n",
       "    'playlistId': 'UUI9N4TAUX8k_oL9i72UYAbw',\n",
       "    'position': 34,\n",
       "    'resourceId': {'kind': 'youtube#video', 'videoId': 'j1a3lISmgrQ'}}},\n",
       "  {'kind': 'youtube#playlistItem',\n",
       "   'etag': 't1sIj4ht-WhryZ92_KDETm56V7U',\n",
       "   'id': 'VVVJOU40VEFVWDhrX29MOWk3MlVZQWJ3Lkt1cV9SR1NXREdn',\n",
       "   'snippet': {'publishedAt': '2020-08-21T06:23:42Z',\n",
       "    'channelId': 'UCI9N4TAUX8k_oL9i72UYAbw',\n",
       "    'title': 'Part-1, Day 2 Olympiad Stream, Indian team. Ft.Soumya,Tania,Sagar and Samay.',\n",
       "    'description': 'Follow team India games on:\\n\\nhttps://www.chess.com/live#m=TheVish|viditchess|humpy1987|Elegance_riks|nihalsarin|divyadeshmukh23|GMharikrishna|Aravindhchess1999|butterfly|vaishali2001|rpragchess|awesomevishesh\\n\\n\\nConnect with me on social media:\\nhttps://www.instagram.com/adhibanchess/\\nhttps://twitter.com/adhibanchess\\nhttps://discord.gg/WKd3qPe\\nThumbnail credit: DS Editors-Saif',\n",
       "    'thumbnails': {'default': {'url': 'https://i.ytimg.com/vi/Kuq_RGSWDGg/default.jpg',\n",
       "      'width': 120,\n",
       "      'height': 90},\n",
       "     'medium': {'url': 'https://i.ytimg.com/vi/Kuq_RGSWDGg/mqdefault.jpg',\n",
       "      'width': 320,\n",
       "      'height': 180},\n",
       "     'high': {'url': 'https://i.ytimg.com/vi/Kuq_RGSWDGg/hqdefault.jpg',\n",
       "      'width': 480,\n",
       "      'height': 360},\n",
       "     'standard': {'url': 'https://i.ytimg.com/vi/Kuq_RGSWDGg/sddefault.jpg',\n",
       "      'width': 640,\n",
       "      'height': 480},\n",
       "     'maxres': {'url': 'https://i.ytimg.com/vi/Kuq_RGSWDGg/maxresdefault.jpg',\n",
       "      'width': 1280,\n",
       "      'height': 720}},\n",
       "    'channelTitle': 'Adhiban Baskaran',\n",
       "    'playlistId': 'UUI9N4TAUX8k_oL9i72UYAbw',\n",
       "    'position': 35,\n",
       "    'resourceId': {'kind': 'youtube#video', 'videoId': 'Kuq_RGSWDGg'}}},\n",
       "  {'kind': 'youtube#playlistItem',\n",
       "   'etag': 'rcTNlianlD9CPS2cag7XlcG79zI',\n",
       "   'id': 'VVVJOU40VEFVWDhrX29MOWk3MlVZQWJ3LlFWUU5fckpESDZz',\n",
       "   'snippet': {'publishedAt': '2020-08-22T08:57:47Z',\n",
       "    'channelId': 'UCI9N4TAUX8k_oL9i72UYAbw',\n",
       "    'title': 'Part-2, Day 2 Olympiad Stream, Indian team. Ft.Samay,Biswa,Sagar,Soumya and Tania.',\n",
       "    'description': 'Follow the games on:\\nhttps://www.chess.com/live#m=TheVish|viditchess|humpy1987|Elegance_riks|nihalsarin|divyadeshmukh23|GMharikrishna|Aravindhchess1999|butterfly|vaishali2001|rpragchess|awesomevishesh\\n\\n\\n\\nConnect with me on social media:\\nhttps://www.instagram.com/adhibanchess/\\nhttps://twitter.com/adhibanchess\\nhttps://discord.gg/WKd3qPe\\nThumbnail credit: DS Editors-Saif',\n",
       "    'thumbnails': {'default': {'url': 'https://i.ytimg.com/vi/QVQN_rJDH6s/default.jpg',\n",
       "      'width': 120,\n",
       "      'height': 90},\n",
       "     'medium': {'url': 'https://i.ytimg.com/vi/QVQN_rJDH6s/mqdefault.jpg',\n",
       "      'width': 320,\n",
       "      'height': 180},\n",
       "     'high': {'url': 'https://i.ytimg.com/vi/QVQN_rJDH6s/hqdefault.jpg',\n",
       "      'width': 480,\n",
       "      'height': 360},\n",
       "     'standard': {'url': 'https://i.ytimg.com/vi/QVQN_rJDH6s/sddefault.jpg',\n",
       "      'width': 640,\n",
       "      'height': 480},\n",
       "     'maxres': {'url': 'https://i.ytimg.com/vi/QVQN_rJDH6s/maxresdefault.jpg',\n",
       "      'width': 1280,\n",
       "      'height': 720}},\n",
       "    'channelTitle': 'Adhiban Baskaran',\n",
       "    'playlistId': 'UUI9N4TAUX8k_oL9i72UYAbw',\n",
       "    'position': 36,\n",
       "    'resourceId': {'kind': 'youtube#video', 'videoId': 'QVQN_rJDH6s'}}},\n",
       "  {'kind': 'youtube#playlistItem',\n",
       "   'etag': '-t2ZG_0K1A1bK4haJerUsGr7VZg',\n",
       "   'id': 'VVVJOU40VEFVWDhrX29MOWk3MlVZQWJ3LnhPQXhVZTE1c0Jj',\n",
       "   'snippet': {'publishedAt': '2020-08-21T12:57:18Z',\n",
       "    'channelId': 'UCI9N4TAUX8k_oL9i72UYAbw',\n",
       "    'title': 'Part 2- Olympiad stream Ft.Anna Muzychuk',\n",
       "    'description': 'Connect with me on social media:\\nhttps://www.instagram.com/adhibanchess/\\nhttps://twitter.com/adhibanchess\\nhttps://discord.gg/WKd3qPe\\nThumbnail credit: DS Editors-Saif',\n",
       "    'thumbnails': {'default': {'url': 'https://i.ytimg.com/vi/xOAxUe15sBc/default.jpg',\n",
       "      'width': 120,\n",
       "      'height': 90},\n",
       "     'medium': {'url': 'https://i.ytimg.com/vi/xOAxUe15sBc/mqdefault.jpg',\n",
       "      'width': 320,\n",
       "      'height': 180},\n",
       "     'high': {'url': 'https://i.ytimg.com/vi/xOAxUe15sBc/hqdefault.jpg',\n",
       "      'width': 480,\n",
       "      'height': 360},\n",
       "     'standard': {'url': 'https://i.ytimg.com/vi/xOAxUe15sBc/sddefault.jpg',\n",
       "      'width': 640,\n",
       "      'height': 480},\n",
       "     'maxres': {'url': 'https://i.ytimg.com/vi/xOAxUe15sBc/maxresdefault.jpg',\n",
       "      'width': 1280,\n",
       "      'height': 720}},\n",
       "    'channelTitle': 'Adhiban Baskaran',\n",
       "    'playlistId': 'UUI9N4TAUX8k_oL9i72UYAbw',\n",
       "    'position': 37,\n",
       "    'resourceId': {'kind': 'youtube#video', 'videoId': 'xOAxUe15sBc'}}},\n",
       "  {'kind': 'youtube#playlistItem',\n",
       "   'etag': '9txKWMRBakMi0AQPKBmnxBimU58',\n",
       "   'id': 'VVVJOU40VEFVWDhrX29MOWk3MlVZQWJ3LnBoN29QRGpZdUp3',\n",
       "   'snippet': {'publishedAt': '2020-08-20T16:05:55Z',\n",
       "    'channelId': 'UCI9N4TAUX8k_oL9i72UYAbw',\n",
       "    'title': 'Beauty and the Beast: Episode 1- Olympiad streaming of Nether,Ukraine & Azer. Ft.Anna Muzychuk,Sagar',\n",
       "    'description': 'Connect with me on social media:\\nhttps://www.instagram.com/adhibanchess/\\nhttps://twitter.com/adhibanchess\\nhttps://discord.gg/WKd3qPe\\nThumbnail credit: DS Editors-Saif',\n",
       "    'thumbnails': {'default': {'url': 'https://i.ytimg.com/vi/ph7oPDjYuJw/default.jpg',\n",
       "      'width': 120,\n",
       "      'height': 90},\n",
       "     'medium': {'url': 'https://i.ytimg.com/vi/ph7oPDjYuJw/mqdefault.jpg',\n",
       "      'width': 320,\n",
       "      'height': 180},\n",
       "     'high': {'url': 'https://i.ytimg.com/vi/ph7oPDjYuJw/hqdefault.jpg',\n",
       "      'width': 480,\n",
       "      'height': 360},\n",
       "     'standard': {'url': 'https://i.ytimg.com/vi/ph7oPDjYuJw/sddefault.jpg',\n",
       "      'width': 640,\n",
       "      'height': 480},\n",
       "     'maxres': {'url': 'https://i.ytimg.com/vi/ph7oPDjYuJw/maxresdefault.jpg',\n",
       "      'width': 1280,\n",
       "      'height': 720}},\n",
       "    'channelTitle': 'Adhiban Baskaran',\n",
       "    'playlistId': 'UUI9N4TAUX8k_oL9i72UYAbw',\n",
       "    'position': 38,\n",
       "    'resourceId': {'kind': 'youtube#video', 'videoId': 'ph7oPDjYuJw'}}},\n",
       "  {'kind': 'youtube#playlistItem',\n",
       "   'etag': 'jCkUMQf5frSAAQRTGrYG6rG8wRU',\n",
       "   'id': 'VVVJOU40VEFVWDhrX29MOWk3MlVZQWJ3Lk5maDdHZGdOV19Z',\n",
       "   'snippet': {'publishedAt': '2020-08-17T18:12:12Z',\n",
       "    'channelId': 'UCI9N4TAUX8k_oL9i72UYAbw',\n",
       "    'title': 'Training the Indian Olympiad team, Chapter 3: Beast Lite!',\n",
       "    'description': 'World Teams Gold Medal Board 1, Olympiad Bronze,Tata Steel Masters 3rd,World U-16 champion, National Senior Champion.\\nKnown as the Beast!\\n\\nConnect with me on social media:\\nhttps://www.instagram.com/adhibanchess/\\nhttps://twitter.com/adhibanchess\\nhttps://discord.gg/WKd3qPe\\nThumbnail credit: DS Editors-Saif, follow his work at https://www.youtube.com/channel/UC3bKrKH-ZPh5hbh46r0-A8Q',\n",
       "    'thumbnails': {'default': {'url': 'https://i.ytimg.com/vi/Nfh7GdgNW_Y/default.jpg',\n",
       "      'width': 120,\n",
       "      'height': 90},\n",
       "     'medium': {'url': 'https://i.ytimg.com/vi/Nfh7GdgNW_Y/mqdefault.jpg',\n",
       "      'width': 320,\n",
       "      'height': 180},\n",
       "     'high': {'url': 'https://i.ytimg.com/vi/Nfh7GdgNW_Y/hqdefault.jpg',\n",
       "      'width': 480,\n",
       "      'height': 360},\n",
       "     'standard': {'url': 'https://i.ytimg.com/vi/Nfh7GdgNW_Y/sddefault.jpg',\n",
       "      'width': 640,\n",
       "      'height': 480},\n",
       "     'maxres': {'url': 'https://i.ytimg.com/vi/Nfh7GdgNW_Y/maxresdefault.jpg',\n",
       "      'width': 1280,\n",
       "      'height': 720}},\n",
       "    'channelTitle': 'Adhiban Baskaran',\n",
       "    'playlistId': 'UUI9N4TAUX8k_oL9i72UYAbw',\n",
       "    'position': 39,\n",
       "    'resourceId': {'kind': 'youtube#video', 'videoId': 'Nfh7GdgNW_Y'}}},\n",
       "  {'kind': 'youtube#playlistItem',\n",
       "   'etag': 'fQfK8ghZMLRU1aPyFGR6Phg_XOU',\n",
       "   'id': 'VVVJOU40VEFVWDhrX29MOWk3MlVZQWJ3Lk9yYTB4ZlhfMkw4',\n",
       "   'snippet': {'publishedAt': '2020-08-16T18:15:18Z',\n",
       "    'channelId': 'UCI9N4TAUX8k_oL9i72UYAbw',\n",
       "    'title': 'Training the Indian Olympiad team, Chapter 2: The Trickster! Long Surprise ft. Captain Super VD!',\n",
       "    'description': 'World Teams Gold Medal Board 1, Olympiad Bronze,Tata Steel Masters 3rd,World U-16 champion, National Senior Champion.\\nKnown as the Beast!\\n\\nConnect with me on social media:\\nhttps://www.instagram.com/adhibanchess/\\nhttps://twitter.com/adhibanchess\\nhttps://discord.gg/WKd3qPe\\nThumbnail credit: DS Editors-Saif, follow his work at https://www.youtube.com/channel/UC3bKrKH-ZPh5hbh46r0-A8Q',\n",
       "    'thumbnails': {'default': {'url': 'https://i.ytimg.com/vi/Ora0xfX_2L8/default.jpg',\n",
       "      'width': 120,\n",
       "      'height': 90},\n",
       "     'medium': {'url': 'https://i.ytimg.com/vi/Ora0xfX_2L8/mqdefault.jpg',\n",
       "      'width': 320,\n",
       "      'height': 180},\n",
       "     'high': {'url': 'https://i.ytimg.com/vi/Ora0xfX_2L8/hqdefault.jpg',\n",
       "      'width': 480,\n",
       "      'height': 360},\n",
       "     'standard': {'url': 'https://i.ytimg.com/vi/Ora0xfX_2L8/sddefault.jpg',\n",
       "      'width': 640,\n",
       "      'height': 480},\n",
       "     'maxres': {'url': 'https://i.ytimg.com/vi/Ora0xfX_2L8/maxresdefault.jpg',\n",
       "      'width': 1280,\n",
       "      'height': 720}},\n",
       "    'channelTitle': 'Adhiban Baskaran',\n",
       "    'playlistId': 'UUI9N4TAUX8k_oL9i72UYAbw',\n",
       "    'position': 40,\n",
       "    'resourceId': {'kind': 'youtube#video', 'videoId': 'Ora0xfX_2L8'}}},\n",
       "  {'kind': 'youtube#playlistItem',\n",
       "   'etag': '1MjLLW9yLSpUOUQcqaSS_ehC0Ck',\n",
       "   'id': 'VVVJOU40VEFVWDhrX29MOWk3MlVZQWJ3Lk93ZU42WGppbllr',\n",
       "   'snippet': {'publishedAt': '2020-08-16T03:46:12Z',\n",
       "    'channelId': 'UCI9N4TAUX8k_oL9i72UYAbw',\n",
       "    'title': 'Intro, Online Olympiad Team India: Chapter 1 - Saint (Vice Cap) & Bunny (Divya), Cameo-Anish Giri!',\n",
       "    'description': 'World Teams Gold Medal Board 1, Olympiad Bronze,Tata Steel Masters 3rd,World U-16 champion, National Senior Champion.\\nKnown as the Beast!\\n\\nConnect with me on social media:\\nhttps://www.instagram.com/adhibanchess/\\nhttps://twitter.com/adhibanchess\\nhttps://discord.gg/WKd3qPe\\nThumbnail credit: DS Editors-Saif, follow his work at https://www.youtube.com/channel/UC3bKrKH-ZPh5hbh46r0-A8Q\\nPhoto Credit:Niki Riga',\n",
       "    'thumbnails': {'default': {'url': 'https://i.ytimg.com/vi/OweN6XjinYk/default.jpg',\n",
       "      'width': 120,\n",
       "      'height': 90},\n",
       "     'medium': {'url': 'https://i.ytimg.com/vi/OweN6XjinYk/mqdefault.jpg',\n",
       "      'width': 320,\n",
       "      'height': 180},\n",
       "     'high': {'url': 'https://i.ytimg.com/vi/OweN6XjinYk/hqdefault.jpg',\n",
       "      'width': 480,\n",
       "      'height': 360},\n",
       "     'standard': {'url': 'https://i.ytimg.com/vi/OweN6XjinYk/sddefault.jpg',\n",
       "      'width': 640,\n",
       "      'height': 480},\n",
       "     'maxres': {'url': 'https://i.ytimg.com/vi/OweN6XjinYk/maxresdefault.jpg',\n",
       "      'width': 1280,\n",
       "      'height': 720}},\n",
       "    'channelTitle': 'Adhiban Baskaran',\n",
       "    'playlistId': 'UUI9N4TAUX8k_oL9i72UYAbw',\n",
       "    'position': 41,\n",
       "    'resourceId': {'kind': 'youtube#video', 'videoId': 'OweN6XjinYk'}}},\n",
       "  {'kind': 'youtube#playlistItem',\n",
       "   'etag': 'VAIlN-8xJql9evfgFDGb-rD8Dis',\n",
       "   'id': 'VVVJOU40VEFVWDhrX29MOWk3MlVZQWJ3Lm1XSzB2aFcyc1dZ',\n",
       "   'snippet': {'publishedAt': '2020-08-15T12:51:43Z',\n",
       "    'channelId': 'UCI9N4TAUX8k_oL9i72UYAbw',\n",
       "    'title': 'Bday stream Part2  Ft.Soumya, Samay, Guruji, Radja,Vidit, Anish with family(Guest appearance)',\n",
       "    'description': 'World Teams Gold Medal Board 1, Olympiad Bronze,Tata Steel Masters 3rd,World U-16 champion, National Senior Champion.\\r\\nKnown as the Beast!\\r\\n\\r\\nConnect with me on social media:\\r\\nhttps://www.instagram.com/adhibanchess/\\r\\nhttps://twitter.com/adhibanchess\\r\\nhttps://discord.gg/WKd3qPe\\nThumbnail credit: DS Editors-Saif, follow his work at https://www.youtube.com/channel/UC3bKrKH-ZPh5hbh46r0-A8Q\\nPhoto Credit:David Llada',\n",
       "    'thumbnails': {'default': {'url': 'https://i.ytimg.com/vi/mWK0vhW2sWY/default.jpg',\n",
       "      'width': 120,\n",
       "      'height': 90},\n",
       "     'medium': {'url': 'https://i.ytimg.com/vi/mWK0vhW2sWY/mqdefault.jpg',\n",
       "      'width': 320,\n",
       "      'height': 180},\n",
       "     'high': {'url': 'https://i.ytimg.com/vi/mWK0vhW2sWY/hqdefault.jpg',\n",
       "      'width': 480,\n",
       "      'height': 360},\n",
       "     'standard': {'url': 'https://i.ytimg.com/vi/mWK0vhW2sWY/sddefault.jpg',\n",
       "      'width': 640,\n",
       "      'height': 480},\n",
       "     'maxres': {'url': 'https://i.ytimg.com/vi/mWK0vhW2sWY/maxresdefault.jpg',\n",
       "      'width': 1280,\n",
       "      'height': 720}},\n",
       "    'channelTitle': 'Adhiban Baskaran',\n",
       "    'playlistId': 'UUI9N4TAUX8k_oL9i72UYAbw',\n",
       "    'position': 42,\n",
       "    'resourceId': {'kind': 'youtube#video', 'videoId': 'mWK0vhW2sWY'}}},\n",
       "  {'kind': 'youtube#playlistItem',\n",
       "   'etag': 'uafJAUtbtx5Jet2hL6CzHSiNAt8',\n",
       "   'id': 'VVVJOU40VEFVWDhrX29MOWk3MlVZQWJ3LlAyMHFWV3hlUllN',\n",
       "   'snippet': {'publishedAt': '2020-08-15T08:59:44Z',\n",
       "    'channelId': 'UCI9N4TAUX8k_oL9i72UYAbw',\n",
       "    'title': 'Bday Stream and Story time! Ft.Soumya, Samay, Guruji & hopefully many more :).',\n",
       "    'description': 'World Teams Gold Medal Board 1, Olympiad Bronze,Tata Steel Masters 3rd,World U-16 champion, National Senior Champion.\\nKnown as the Beast!\\n\\nConnect with me on social media:\\nhttps://www.instagram.com/adhibanchess/\\nhttps://twitter.com/adhibanchess\\nhttps://discord.gg/WKd3qPe\\nThumbnail credit: DS Editors-Saif, follow his work at https://www.youtube.com/channel/UC3bKrKH-ZPh5hbh46r0-A8Q\\nPhoto Credit:David Llada',\n",
       "    'thumbnails': {'default': {'url': 'https://i.ytimg.com/vi/P20qVWxeRYM/default.jpg',\n",
       "      'width': 120,\n",
       "      'height': 90},\n",
       "     'medium': {'url': 'https://i.ytimg.com/vi/P20qVWxeRYM/mqdefault.jpg',\n",
       "      'width': 320,\n",
       "      'height': 180},\n",
       "     'high': {'url': 'https://i.ytimg.com/vi/P20qVWxeRYM/hqdefault.jpg',\n",
       "      'width': 480,\n",
       "      'height': 360},\n",
       "     'standard': {'url': 'https://i.ytimg.com/vi/P20qVWxeRYM/sddefault.jpg',\n",
       "      'width': 640,\n",
       "      'height': 480},\n",
       "     'maxres': {'url': 'https://i.ytimg.com/vi/P20qVWxeRYM/maxresdefault.jpg',\n",
       "      'width': 1280,\n",
       "      'height': 720}},\n",
       "    'channelTitle': 'Adhiban Baskaran',\n",
       "    'playlistId': 'UUI9N4TAUX8k_oL9i72UYAbw',\n",
       "    'position': 43,\n",
       "    'resourceId': {'kind': 'youtube#video', 'videoId': 'P20qVWxeRYM'}}},\n",
       "  {'kind': 'youtube#playlistItem',\n",
       "   'etag': 'MceYd_rhjaDTJ6_BLyLgZvuO7bo',\n",
       "   'id': 'VVVJOU40VEFVWDhrX29MOWk3MlVZQWJ3Lm8teUhGaHhaLVNv',\n",
       "   'snippet': {'publishedAt': '2020-08-14T03:26:48Z',\n",
       "    'channelId': 'UCI9N4TAUX8k_oL9i72UYAbw',\n",
       "    'title': 'Watching Netherlands match of Olympiad, Ft Anishonboard :) , Radja, Soumya & Vidit (Voice only)',\n",
       "    'description': 'World Teams Gold Medal Board 1, Olympiad Bronze,Tata Steel Masters 3rd,World U-16 champion, National Senior Champion.\\r\\nKnown as the Beast!\\r\\n\\r\\nConnect with me on social media:\\r\\nhttps://www.instagram.com/adhibanchess/\\r\\nhttps://twitter.com/adhibanchess\\r\\nhttps://discord.gg/WKd3qPe\\nThumbnail credit: DS editors, Saif.',\n",
       "    'thumbnails': {'default': {'url': 'https://i.ytimg.com/vi/o-yHFhxZ-So/default.jpg',\n",
       "      'width': 120,\n",
       "      'height': 90},\n",
       "     'medium': {'url': 'https://i.ytimg.com/vi/o-yHFhxZ-So/mqdefault.jpg',\n",
       "      'width': 320,\n",
       "      'height': 180},\n",
       "     'high': {'url': 'https://i.ytimg.com/vi/o-yHFhxZ-So/hqdefault.jpg',\n",
       "      'width': 480,\n",
       "      'height': 360},\n",
       "     'standard': {'url': 'https://i.ytimg.com/vi/o-yHFhxZ-So/sddefault.jpg',\n",
       "      'width': 640,\n",
       "      'height': 480},\n",
       "     'maxres': {'url': 'https://i.ytimg.com/vi/o-yHFhxZ-So/maxresdefault.jpg',\n",
       "      'width': 1280,\n",
       "      'height': 720}},\n",
       "    'channelTitle': 'Adhiban Baskaran',\n",
       "    'playlistId': 'UUI9N4TAUX8k_oL9i72UYAbw',\n",
       "    'position': 44,\n",
       "    'resourceId': {'kind': 'youtube#video', 'videoId': 'o-yHFhxZ-So'}}},\n",
       "  {'kind': 'youtube#playlistItem',\n",
       "   'etag': 'nriAyFVo0rYJK4djgBzKdQBTSd0',\n",
       "   'id': 'VVVJOU40VEFVWDhrX29MOWk3MlVZQWJ3Lko5OXQzVmtUUk1v',\n",
       "   'snippet': {'publishedAt': '2020-08-13T13:35:15Z',\n",
       "    'channelId': 'UCI9N4TAUX8k_oL9i72UYAbw',\n",
       "    'title': 'Chess with the beast!',\n",
       "    'description': 'World Teams Gold Medal Board 1, Olympiad Bronze,Tata Steel Masters 3rd,World U-16 champion, National Senior Champion.\\r\\nKnown as the Beast!\\r\\n\\r\\nConnect with me on social media:\\r\\nhttps://www.instagram.com/adhibanchess/\\r\\nhttps://twitter.com/adhibanchess\\r\\nhttps://discord.gg/WKd3qPe',\n",
       "    'thumbnails': {'default': {'url': 'https://i.ytimg.com/vi/J99t3VkTRMo/default.jpg',\n",
       "      'width': 120,\n",
       "      'height': 90},\n",
       "     'medium': {'url': 'https://i.ytimg.com/vi/J99t3VkTRMo/mqdefault.jpg',\n",
       "      'width': 320,\n",
       "      'height': 180},\n",
       "     'high': {'url': 'https://i.ytimg.com/vi/J99t3VkTRMo/hqdefault.jpg',\n",
       "      'width': 480,\n",
       "      'height': 360},\n",
       "     'standard': {'url': 'https://i.ytimg.com/vi/J99t3VkTRMo/sddefault.jpg',\n",
       "      'width': 640,\n",
       "      'height': 480},\n",
       "     'maxres': {'url': 'https://i.ytimg.com/vi/J99t3VkTRMo/maxresdefault.jpg',\n",
       "      'width': 1280,\n",
       "      'height': 720}},\n",
       "    'channelTitle': 'Adhiban Baskaran',\n",
       "    'playlistId': 'UUI9N4TAUX8k_oL9i72UYAbw',\n",
       "    'position': 45,\n",
       "    'resourceId': {'kind': 'youtube#video', 'videoId': 'J99t3VkTRMo'}}},\n",
       "  {'kind': 'youtube#playlistItem',\n",
       "   'etag': 'GXn9Vr1Y9K7ksn8cKHxNvDzEXiI',\n",
       "   'id': 'VVVJOU40VEFVWDhrX29MOWk3MlVZQWJ3LnFGSjRNalhYZnc4',\n",
       "   'snippet': {'publishedAt': '2020-08-10T10:00:30Z',\n",
       "    'channelId': 'UCI9N4TAUX8k_oL9i72UYAbw',\n",
       "    'title': 'Creating record in Chessbase training (Tactics sprint-478!!) and surprise feat.Prag (bday baby :))',\n",
       "    'description': 'World Teams Gold Medal Board 1, Olympiad Bronze,Tata Steel Masters 3rd,World U-16 champion, National Senior Champion.\\nKnown as the Beast!\\n\\nConnect with me on social media:\\nhttps://www.instagram.com/adhibanchess/\\nhttps://twitter.com/adhibanchess\\nhttps://discord.gg/WKd3qPe\\nThumbnail credit: DS Editors-Saif, follow his work at https://www.youtube.com/channel/UC3bKrKH-ZPh5hbh46r0-A8Q',\n",
       "    'thumbnails': {'default': {'url': 'https://i.ytimg.com/vi/qFJ4MjXXfw8/default.jpg',\n",
       "      'width': 120,\n",
       "      'height': 90},\n",
       "     'medium': {'url': 'https://i.ytimg.com/vi/qFJ4MjXXfw8/mqdefault.jpg',\n",
       "      'width': 320,\n",
       "      'height': 180},\n",
       "     'high': {'url': 'https://i.ytimg.com/vi/qFJ4MjXXfw8/hqdefault.jpg',\n",
       "      'width': 480,\n",
       "      'height': 360},\n",
       "     'standard': {'url': 'https://i.ytimg.com/vi/qFJ4MjXXfw8/sddefault.jpg',\n",
       "      'width': 640,\n",
       "      'height': 480},\n",
       "     'maxres': {'url': 'https://i.ytimg.com/vi/qFJ4MjXXfw8/maxresdefault.jpg',\n",
       "      'width': 1280,\n",
       "      'height': 720}},\n",
       "    'channelTitle': 'Adhiban Baskaran',\n",
       "    'playlistId': 'UUI9N4TAUX8k_oL9i72UYAbw',\n",
       "    'position': 46,\n",
       "    'resourceId': {'kind': 'youtube#video', 'videoId': 'qFJ4MjXXfw8'}}},\n",
       "  {'kind': 'youtube#playlistItem',\n",
       "   'etag': '5ImGKSJ4T4abfD_PyY1Qkb5NZEI',\n",
       "   'id': 'VVVJOU40VEFVWDhrX29MOWk3MlVZQWJ3LlZHaFJIbWtLMktZ',\n",
       "   'snippet': {'publishedAt': '2020-08-04T08:12:35Z',\n",
       "    'channelId': 'UCI9N4TAUX8k_oL9i72UYAbw',\n",
       "    'title': 'Gambit Chess with the Beast!',\n",
       "    'description': 'Chess with \"The Beast\"\\nConnect with me on social media:\\nhttps://www.instagram.com/adhibanchess/\\nhttps://twitter.com/adhibanchess',\n",
       "    'thumbnails': {'default': {'url': 'https://i.ytimg.com/vi/VGhRHmkK2KY/default.jpg',\n",
       "      'width': 120,\n",
       "      'height': 90},\n",
       "     'medium': {'url': 'https://i.ytimg.com/vi/VGhRHmkK2KY/mqdefault.jpg',\n",
       "      'width': 320,\n",
       "      'height': 180},\n",
       "     'high': {'url': 'https://i.ytimg.com/vi/VGhRHmkK2KY/hqdefault.jpg',\n",
       "      'width': 480,\n",
       "      'height': 360},\n",
       "     'standard': {'url': 'https://i.ytimg.com/vi/VGhRHmkK2KY/sddefault.jpg',\n",
       "      'width': 640,\n",
       "      'height': 480},\n",
       "     'maxres': {'url': 'https://i.ytimg.com/vi/VGhRHmkK2KY/maxresdefault.jpg',\n",
       "      'width': 1280,\n",
       "      'height': 720}},\n",
       "    'channelTitle': 'Adhiban Baskaran',\n",
       "    'playlistId': 'UUI9N4TAUX8k_oL9i72UYAbw',\n",
       "    'position': 47,\n",
       "    'resourceId': {'kind': 'youtube#video', 'videoId': 'VGhRHmkK2KY'}}},\n",
       "  {'kind': 'youtube#playlistItem',\n",
       "   'etag': 'RURBHicZE5ihxMnhdQN2xg-WUp8',\n",
       "   'id': 'VVVJOU40VEFVWDhrX29MOWk3MlVZQWJ3LjV1UzlMdUs5c1RB',\n",
       "   'snippet': {'publishedAt': '2020-08-01T12:35:51Z',\n",
       "    'channelId': 'UCI9N4TAUX8k_oL9i72UYAbw',\n",
       "    'title': 'The beginning...',\n",
       "    'description': 'Chess with \"The Beast\"\\nConnect with me on social media:\\nhttps://www.instagram.com/adhibanchess/\\nhttps://twitter.com/adhibanchess',\n",
       "    'thumbnails': {'default': {'url': 'https://i.ytimg.com/vi/5uS9LuK9sTA/default.jpg',\n",
       "      'width': 120,\n",
       "      'height': 90},\n",
       "     'medium': {'url': 'https://i.ytimg.com/vi/5uS9LuK9sTA/mqdefault.jpg',\n",
       "      'width': 320,\n",
       "      'height': 180},\n",
       "     'high': {'url': 'https://i.ytimg.com/vi/5uS9LuK9sTA/hqdefault.jpg',\n",
       "      'width': 480,\n",
       "      'height': 360},\n",
       "     'standard': {'url': 'https://i.ytimg.com/vi/5uS9LuK9sTA/sddefault.jpg',\n",
       "      'width': 640,\n",
       "      'height': 480},\n",
       "     'maxres': {'url': 'https://i.ytimg.com/vi/5uS9LuK9sTA/maxresdefault.jpg',\n",
       "      'width': 1280,\n",
       "      'height': 720}},\n",
       "    'channelTitle': 'Adhiban Baskaran',\n",
       "    'playlistId': 'UUI9N4TAUX8k_oL9i72UYAbw',\n",
       "    'position': 48,\n",
       "    'resourceId': {'kind': 'youtube#video', 'videoId': '5uS9LuK9sTA'}}}],\n",
       " 'pageInfo': {'totalResults': 49, 'resultsPerPage': 50}}"
      ]
     },
     "execution_count": 69,
     "metadata": {},
     "output_type": "execute_result"
    }
   ],
   "source": [
    "request = youtube.playlistItems().list(\n",
    "        part=\"snippet\",\n",
    "        playlistId=upload_id,\n",
    "        maxResults=50,\n",
    "    )\n",
    "response = request.execute()\n",
    "response"
   ]
  },
  {
   "cell_type": "code",
   "execution_count": 70,
   "metadata": {},
   "outputs": [
    {
     "data": {
      "text/plain": [
       "'Hand and Brain, Maybe Odds ?! Ft.Sahil (Editor),Angad (Conqueror) and Rakesh Bhai'"
      ]
     },
     "execution_count": 70,
     "metadata": {},
     "output_type": "execute_result"
    }
   ],
   "source": [
    "response['items'][0]['snippet']['title']"
   ]
  },
  {
   "cell_type": "code",
   "execution_count": 70,
   "metadata": {},
   "outputs": [],
   "source": [
    "next_page_token = response.get('nextPageToken', 0)\n",
    "while next_page_token:\n",
    "    next_request = youtube.playlistItems().list_next(\n",
    "        request, response\n",
    "    )\n",
    "\n",
    "    next_response = next_request.execute()\n",
    "    print(json.dumps(next_response, indent=2))\n",
    "    break\n",
    "\n",
    "    next_page_token = next_response.get('nextPageToken', 0)\n",
    "    request, response = next_request, next_response"
   ]
  },
  {
   "cell_type": "code",
   "execution_count": 71,
   "metadata": {},
   "outputs": [
    {
     "data": {
      "text/plain": [
       "0"
      ]
     },
     "execution_count": 71,
     "metadata": {},
     "output_type": "execute_result"
    }
   ],
   "source": [
    "next_page = response.get('nextPageToken', 0)\n",
    "next_page"
   ]
  },
  {
   "cell_type": "code",
   "execution_count": 72,
   "metadata": {},
   "outputs": [
    {
     "name": "stdout",
     "output_type": "stream",
     "text": [
      "{\n",
      "  \"kind\": \"youtube#videoListResponse\",\n",
      "  \"etag\": \"OSvjznhgUfDxKIXjbU9LKYHyevA\",\n",
      "  \"items\": [\n",
      "    {\n",
      "      \"kind\": \"youtube#video\",\n",
      "      \"etag\": \"sbLH1xNQLTWmyz8oswVP5KuW3Qs\",\n",
      "      \"id\": \"8ifjYxkMhUg\",\n",
      "      \"contentDetails\": {\n",
      "        \"duration\": \"PT8M38S\",\n",
      "        \"dimension\": \"2d\",\n",
      "        \"definition\": \"hd\",\n",
      "        \"caption\": \"false\",\n",
      "        \"licensedContent\": true,\n",
      "        \"contentRating\": {},\n",
      "        \"projection\": \"rectangular\"\n",
      "      },\n",
      "      \"statistics\": {\n",
      "        \"viewCount\": \"203433\",\n",
      "        \"likeCount\": \"22665\",\n",
      "        \"dislikeCount\": \"318\",\n",
      "        \"favoriteCount\": \"0\",\n",
      "        \"commentCount\": \"753\"\n",
      "      }\n",
      "    },\n",
      "    {\n",
      "      \"kind\": \"youtube#video\",\n",
      "      \"etag\": \"pAOvm0o7BxwVzssHYQ-yb5-Dgic\",\n",
      "      \"id\": \"SP8hdGSN-0k\",\n",
      "      \"contentDetails\": {\n",
      "        \"duration\": \"PT1H27M46S\",\n",
      "        \"dimension\": \"2d\",\n",
      "        \"definition\": \"hd\",\n",
      "        \"caption\": \"false\",\n",
      "        \"licensedContent\": false,\n",
      "        \"contentRating\": {},\n",
      "        \"projection\": \"rectangular\"\n",
      "      },\n",
      "      \"statistics\": {\n",
      "        \"viewCount\": \"182679\",\n",
      "        \"likeCount\": \"13148\",\n",
      "        \"dislikeCount\": \"237\",\n",
      "        \"favoriteCount\": \"0\",\n",
      "        \"commentCount\": \"432\"\n",
      "      }\n",
      "    }\n",
      "  ],\n",
      "  \"pageInfo\": {\n",
      "    \"totalResults\": 2,\n",
      "    \"resultsPerPage\": 2\n",
      "  }\n",
      "}\n"
     ]
    }
   ],
   "source": [
    "request = youtube.videos().list(\n",
    "        part=\"statistics, contentDetails\",\n",
    "        id=\"8ifjYxkMhUg,SP8hdGSN-0k\",\n",
    "        maxResults=1,\n",
    "    )\n",
    "response = request.execute()\n",
    "\n",
    "print(json.dumps(response, indent=2))"
   ]
  },
  {
   "cell_type": "code",
   "execution_count": 188,
   "metadata": {},
   "outputs": [],
   "source": [
    "COLUMNS = [\n",
    "    'vid_id', 'vid_title', 'vid_description', 'thumbnail_url', 'upload_time', \n",
    "    'duration', 'views', 'likes', 'dislikes', 'comment_counts',\n",
    "]\n",
    "\n",
    "def add_video_data(res):\n",
    "    data = []\n",
    "    for items in res['items']:\n",
    "        video_id = items['snippet']['resourceId']['videoId']\n",
    "        video_title = items['snippet']['title']\n",
    "        video_desc = items['snippet']['description']\n",
    "        upload_time = items['snippet']['publishedAt']\n",
    "        thumbnail_url = items['snippet']['thumbnails']['high']['url']\n",
    "\n",
    "        # print(video_title, upload_time, thumbnail_url)\n",
    "        temp = [video_id, video_title, video_desc, thumbnail_url, upload_time] + [''] * 5\n",
    "        data.append(temp)\n",
    "    \n",
    "    return data\n",
    "\n",
    "\n",
    "def get_video_stats(res):\n",
    "    data = []\n",
    "\n",
    "    for items in res['items']:\n",
    "        duration = items['contentDetails']['duration']\n",
    "        views = items['statistics'].get('viewCount', 0)\n",
    "        likes = items['statistics'].get('likeCount', 0)\n",
    "        dislikes = items['statistics'].get('dislikeCount', 0)\n",
    "        comment_count = items['statistics'].get('commentCount', 0)\n",
    "        \n",
    "        temp = [duration, views, likes, dislikes, comment_count]\n",
    "        data.append(temp)\n",
    "\n",
    "    return data"
   ]
  },
  {
   "cell_type": "code",
   "execution_count": 189,
   "metadata": {},
   "outputs": [],
   "source": [
    "all_data = []\n",
    "video_stats = []\n",
    "\n",
    "request = youtube.playlistItems().list(\n",
    "    part=\"snippet\",\n",
    "    playlistId=upload_id,\n",
    "    maxResults=50,\n",
    ")\n",
    "response = request.execute()\n",
    "\n",
    "data = add_video_data(response)\n",
    "all_data.extend(data)\n",
    "\n",
    "next_page_token = response.get('nextPageToken', 0)\n",
    "\n",
    "while next_page_token:\n",
    "    next_request = youtube.playlistItems().list_next(request, response)\n",
    "    next_response = next_request.execute()\n",
    "\n",
    "    data = add_video_data(next_response)\n",
    "    all_data.extend(data)\n",
    "\n",
    "    next_page_token = next_response.get('nextPageToken', 0)\n",
    "    request, response = next_request, next_response\n",
    "\n",
    "raw = pd.DataFrame(all_data, columns=COLUMNS)"
   ]
  },
  {
   "cell_type": "code",
   "execution_count": 190,
   "metadata": {},
   "outputs": [
    {
     "data": {
      "text/html": [
       "<div>\n",
       "<style scoped>\n",
       "    .dataframe tbody tr th:only-of-type {\n",
       "        vertical-align: middle;\n",
       "    }\n",
       "\n",
       "    .dataframe tbody tr th {\n",
       "        vertical-align: top;\n",
       "    }\n",
       "\n",
       "    .dataframe thead th {\n",
       "        text-align: right;\n",
       "    }\n",
       "</style>\n",
       "<table border=\"1\" class=\"dataframe\">\n",
       "  <thead>\n",
       "    <tr style=\"text-align: right;\">\n",
       "      <th></th>\n",
       "      <th>vid_id</th>\n",
       "      <th>vid_title</th>\n",
       "      <th>vid_description</th>\n",
       "      <th>thumbnail_url</th>\n",
       "      <th>upload_time</th>\n",
       "      <th>duration</th>\n",
       "      <th>views</th>\n",
       "      <th>likes</th>\n",
       "      <th>dislikes</th>\n",
       "      <th>comment_counts</th>\n",
       "    </tr>\n",
       "  </thead>\n",
       "  <tbody>\n",
       "    <tr>\n",
       "      <th>0</th>\n",
       "      <td>zHL9GP_B30E</td>\n",
       "      <td>Illusions of Time</td>\n",
       "      <td>Use code BRAINS to get free shipping within th...</td>\n",
       "      <td>https://i.ytimg.com/vi/zHL9GP_B30E/hqdefault.jpg</td>\n",
       "      <td>2021-01-08T07:54:28Z</td>\n",
       "      <td></td>\n",
       "      <td></td>\n",
       "      <td></td>\n",
       "      <td></td>\n",
       "      <td></td>\n",
       "    </tr>\n",
       "    <tr>\n",
       "      <th>1</th>\n",
       "      <td>U6VBV4QUMu0</td>\n",
       "      <td>The Odd Number Rule</td>\n",
       "      <td>Subscribe to our Curiosity Box! https://www.cu...</td>\n",
       "      <td>https://i.ytimg.com/vi/U6VBV4QUMu0/hqdefault.jpg</td>\n",
       "      <td>2020-07-29T17:18:49Z</td>\n",
       "      <td></td>\n",
       "      <td></td>\n",
       "      <td></td>\n",
       "      <td></td>\n",
       "      <td></td>\n",
       "    </tr>\n",
       "    <tr>\n",
       "      <th>2</th>\n",
       "      <td>egEraZP9yXQ</td>\n",
       "      <td>How Many Holes Does a Human Have?</td>\n",
       "      <td>Now you're thinking: https://www.curiositybox....</td>\n",
       "      <td>https://i.ytimg.com/vi/egEraZP9yXQ/hqdefault.jpg</td>\n",
       "      <td>2020-02-17T08:40:53Z</td>\n",
       "      <td></td>\n",
       "      <td></td>\n",
       "      <td></td>\n",
       "      <td></td>\n",
       "      <td></td>\n",
       "    </tr>\n",
       "    <tr>\n",
       "      <th>3</th>\n",
       "      <td>9Vmwsg8Eabo</td>\n",
       "      <td>What Is The Scariest Thing?</td>\n",
       "      <td>Everyone is scared of something ... but what's...</td>\n",
       "      <td>https://i.ytimg.com/vi/9Vmwsg8Eabo/hqdefault.jpg</td>\n",
       "      <td>2019-10-16T23:45:32Z</td>\n",
       "      <td></td>\n",
       "      <td></td>\n",
       "      <td></td>\n",
       "      <td></td>\n",
       "      <td></td>\n",
       "    </tr>\n",
       "    <tr>\n",
       "      <th>4</th>\n",
       "      <td>b0cakXwiZ8s</td>\n",
       "      <td>I Watch 3 Episodes of Mind Field With Our Expe...</td>\n",
       "      <td>EVERY EPISODE OF MIND FIELD IS NOW FREE for th...</td>\n",
       "      <td>https://i.ytimg.com/vi/b0cakXwiZ8s/hqdefault.jpg</td>\n",
       "      <td>2019-10-10T23:09:16Z</td>\n",
       "      <td></td>\n",
       "      <td></td>\n",
       "      <td></td>\n",
       "      <td></td>\n",
       "      <td></td>\n",
       "    </tr>\n",
       "    <tr>\n",
       "      <th>...</th>\n",
       "      <td>...</td>\n",
       "      <td>...</td>\n",
       "      <td>...</td>\n",
       "      <td>...</td>\n",
       "      <td>...</td>\n",
       "      <td>...</td>\n",
       "      <td>...</td>\n",
       "      <td>...</td>\n",
       "      <td>...</td>\n",
       "      <td>...</td>\n",
       "    </tr>\n",
       "    <tr>\n",
       "      <th>364</th>\n",
       "      <td>m_icISNqoS8</td>\n",
       "      <td>Mark and Michael - Vsauce BLOOPERS</td>\n",
       "      <td>Mark Douglas and Michael Stevens talking about...</td>\n",
       "      <td>https://i.ytimg.com/vi/m_icISNqoS8/hqdefault.jpg</td>\n",
       "      <td>2010-06-30T23:17:10Z</td>\n",
       "      <td></td>\n",
       "      <td></td>\n",
       "      <td></td>\n",
       "      <td></td>\n",
       "      <td></td>\n",
       "    </tr>\n",
       "    <tr>\n",
       "      <th>365</th>\n",
       "      <td>4R1WPK3u8II</td>\n",
       "      <td>Mario Farts!</td>\n",
       "      <td>Mario Farts when a mushroom upsets his stomach...</td>\n",
       "      <td>https://i.ytimg.com/vi/4R1WPK3u8II/hqdefault.jpg</td>\n",
       "      <td>2010-06-29T18:14:40Z</td>\n",
       "      <td></td>\n",
       "      <td></td>\n",
       "      <td></td>\n",
       "      <td></td>\n",
       "      <td></td>\n",
       "    </tr>\n",
       "    <tr>\n",
       "      <th>366</th>\n",
       "      <td>UaOeE8AJD9Q</td>\n",
       "      <td>iPhone 4 is for LOSERS? -- Wackygamer</td>\n",
       "      <td>Jeff and Adam debate the iPhone 4.  \\r\\n\\r\\nLe...</td>\n",
       "      <td>https://i.ytimg.com/vi/UaOeE8AJD9Q/hqdefault.jpg</td>\n",
       "      <td>2010-06-26T17:49:23Z</td>\n",
       "      <td></td>\n",
       "      <td></td>\n",
       "      <td></td>\n",
       "      <td></td>\n",
       "      <td></td>\n",
       "    </tr>\n",
       "    <tr>\n",
       "      <th>367</th>\n",
       "      <td>GXDKhCWUY8k</td>\n",
       "      <td>Killzone Trailer PARODY Commentary -- Wackygamer</td>\n",
       "      <td>Subscribe to Vsauce! http://www.youtube.com/su...</td>\n",
       "      <td>https://i.ytimg.com/vi/GXDKhCWUY8k/hqdefault.jpg</td>\n",
       "      <td>2010-06-24T22:39:24Z</td>\n",
       "      <td></td>\n",
       "      <td></td>\n",
       "      <td></td>\n",
       "      <td></td>\n",
       "      <td></td>\n",
       "    </tr>\n",
       "    <tr>\n",
       "      <th>368</th>\n",
       "      <td>1BuTR5nXS8I</td>\n",
       "      <td>Top E3 Rumors You MISSED -- Wackygamer</td>\n",
       "      <td>Subscribe to Vsauce! http://www.youtube.com/su...</td>\n",
       "      <td>https://i.ytimg.com/vi/1BuTR5nXS8I/hqdefault.jpg</td>\n",
       "      <td>2010-06-24T22:23:23Z</td>\n",
       "      <td></td>\n",
       "      <td></td>\n",
       "      <td></td>\n",
       "      <td></td>\n",
       "      <td></td>\n",
       "    </tr>\n",
       "  </tbody>\n",
       "</table>\n",
       "<p>369 rows × 10 columns</p>\n",
       "</div>"
      ],
      "text/plain": [
       "          vid_id                                          vid_title  \\\n",
       "0    zHL9GP_B30E                                  Illusions of Time   \n",
       "1    U6VBV4QUMu0                                The Odd Number Rule   \n",
       "2    egEraZP9yXQ                  How Many Holes Does a Human Have?   \n",
       "3    9Vmwsg8Eabo                        What Is The Scariest Thing?   \n",
       "4    b0cakXwiZ8s  I Watch 3 Episodes of Mind Field With Our Expe...   \n",
       "..           ...                                                ...   \n",
       "364  m_icISNqoS8                 Mark and Michael - Vsauce BLOOPERS   \n",
       "365  4R1WPK3u8II                                       Mario Farts!   \n",
       "366  UaOeE8AJD9Q              iPhone 4 is for LOSERS? -- Wackygamer   \n",
       "367  GXDKhCWUY8k   Killzone Trailer PARODY Commentary -- Wackygamer   \n",
       "368  1BuTR5nXS8I             Top E3 Rumors You MISSED -- Wackygamer   \n",
       "\n",
       "                                       vid_description  \\\n",
       "0    Use code BRAINS to get free shipping within th...   \n",
       "1    Subscribe to our Curiosity Box! https://www.cu...   \n",
       "2    Now you're thinking: https://www.curiositybox....   \n",
       "3    Everyone is scared of something ... but what's...   \n",
       "4    EVERY EPISODE OF MIND FIELD IS NOW FREE for th...   \n",
       "..                                                 ...   \n",
       "364  Mark Douglas and Michael Stevens talking about...   \n",
       "365  Mario Farts when a mushroom upsets his stomach...   \n",
       "366  Jeff and Adam debate the iPhone 4.  \\r\\n\\r\\nLe...   \n",
       "367  Subscribe to Vsauce! http://www.youtube.com/su...   \n",
       "368  Subscribe to Vsauce! http://www.youtube.com/su...   \n",
       "\n",
       "                                        thumbnail_url           upload_time  \\\n",
       "0    https://i.ytimg.com/vi/zHL9GP_B30E/hqdefault.jpg  2021-01-08T07:54:28Z   \n",
       "1    https://i.ytimg.com/vi/U6VBV4QUMu0/hqdefault.jpg  2020-07-29T17:18:49Z   \n",
       "2    https://i.ytimg.com/vi/egEraZP9yXQ/hqdefault.jpg  2020-02-17T08:40:53Z   \n",
       "3    https://i.ytimg.com/vi/9Vmwsg8Eabo/hqdefault.jpg  2019-10-16T23:45:32Z   \n",
       "4    https://i.ytimg.com/vi/b0cakXwiZ8s/hqdefault.jpg  2019-10-10T23:09:16Z   \n",
       "..                                                ...                   ...   \n",
       "364  https://i.ytimg.com/vi/m_icISNqoS8/hqdefault.jpg  2010-06-30T23:17:10Z   \n",
       "365  https://i.ytimg.com/vi/4R1WPK3u8II/hqdefault.jpg  2010-06-29T18:14:40Z   \n",
       "366  https://i.ytimg.com/vi/UaOeE8AJD9Q/hqdefault.jpg  2010-06-26T17:49:23Z   \n",
       "367  https://i.ytimg.com/vi/GXDKhCWUY8k/hqdefault.jpg  2010-06-24T22:39:24Z   \n",
       "368  https://i.ytimg.com/vi/1BuTR5nXS8I/hqdefault.jpg  2010-06-24T22:23:23Z   \n",
       "\n",
       "    duration views likes dislikes comment_counts  \n",
       "0                                                 \n",
       "1                                                 \n",
       "2                                                 \n",
       "3                                                 \n",
       "4                                                 \n",
       "..       ...   ...   ...      ...            ...  \n",
       "364                                               \n",
       "365                                               \n",
       "366                                               \n",
       "367                                               \n",
       "368                                               \n",
       "\n",
       "[369 rows x 10 columns]"
      ]
     },
     "execution_count": 190,
     "metadata": {},
     "output_type": "execute_result"
    }
   ],
   "source": [
    "raw"
   ]
  },
  {
   "cell_type": "code",
   "execution_count": 191,
   "metadata": {},
   "outputs": [
    {
     "name": "stdout",
     "output_type": "stream",
     "text": [
      "369\n",
      "369\n"
     ]
    }
   ],
   "source": [
    "video_stats = []\n",
    "total_videos = raw.shape[0]\n",
    "print(total_videos)\n",
    "\n",
    "for i in range(0, total_videos, 50):\n",
    "    request = youtube.videos().list(\n",
    "            part=\"statistics, contentDetails\",\n",
    "            id=','.join(raw['vid_id'].values[i:i+50]),\n",
    "        )\n",
    "    \n",
    "    response = request.execute()\n",
    "\n",
    "#     print(json.dumps(response, indent=2))\n",
    "    try:\n",
    "        data = get_video_stats(response)\n",
    "    except Exception as e:\n",
    "        print(e)\n",
    "        print(json.dumps(response, indent=2))\n",
    "# print(data)\n",
    "    video_stats.extend(data)\n",
    "\n",
    "print(len(video_stats))"
   ]
  },
  {
   "cell_type": "code",
   "execution_count": 192,
   "metadata": {},
   "outputs": [],
   "source": [
    "raw.iloc[:, 5:] = video_stats"
   ]
  },
  {
   "cell_type": "code",
   "execution_count": 193,
   "metadata": {},
   "outputs": [
    {
     "data": {
      "text/html": [
       "<div>\n",
       "<style scoped>\n",
       "    .dataframe tbody tr th:only-of-type {\n",
       "        vertical-align: middle;\n",
       "    }\n",
       "\n",
       "    .dataframe tbody tr th {\n",
       "        vertical-align: top;\n",
       "    }\n",
       "\n",
       "    .dataframe thead th {\n",
       "        text-align: right;\n",
       "    }\n",
       "</style>\n",
       "<table border=\"1\" class=\"dataframe\">\n",
       "  <thead>\n",
       "    <tr style=\"text-align: right;\">\n",
       "      <th></th>\n",
       "      <th>vid_id</th>\n",
       "      <th>vid_title</th>\n",
       "      <th>vid_description</th>\n",
       "      <th>thumbnail_url</th>\n",
       "      <th>upload_time</th>\n",
       "      <th>duration</th>\n",
       "      <th>views</th>\n",
       "      <th>likes</th>\n",
       "      <th>dislikes</th>\n",
       "      <th>comment_counts</th>\n",
       "    </tr>\n",
       "  </thead>\n",
       "  <tbody>\n",
       "    <tr>\n",
       "      <th>0</th>\n",
       "      <td>zHL9GP_B30E</td>\n",
       "      <td>Illusions of Time</td>\n",
       "      <td>Use code BRAINS to get free shipping within th...</td>\n",
       "      <td>https://i.ytimg.com/vi/zHL9GP_B30E/hqdefault.jpg</td>\n",
       "      <td>2021-01-08T07:54:28Z</td>\n",
       "      <td>PT31M8S</td>\n",
       "      <td>4450658</td>\n",
       "      <td>475190</td>\n",
       "      <td>2375</td>\n",
       "      <td>45122</td>\n",
       "    </tr>\n",
       "    <tr>\n",
       "      <th>1</th>\n",
       "      <td>U6VBV4QUMu0</td>\n",
       "      <td>The Odd Number Rule</td>\n",
       "      <td>Subscribe to our Curiosity Box! https://www.cu...</td>\n",
       "      <td>https://i.ytimg.com/vi/U6VBV4QUMu0/hqdefault.jpg</td>\n",
       "      <td>2020-07-29T17:18:49Z</td>\n",
       "      <td>PT22M7S</td>\n",
       "      <td>5913919</td>\n",
       "      <td>373042</td>\n",
       "      <td>8083</td>\n",
       "      <td>37297</td>\n",
       "    </tr>\n",
       "    <tr>\n",
       "      <th>2</th>\n",
       "      <td>egEraZP9yXQ</td>\n",
       "      <td>How Many Holes Does a Human Have?</td>\n",
       "      <td>Now you're thinking: https://www.curiositybox....</td>\n",
       "      <td>https://i.ytimg.com/vi/egEraZP9yXQ/hqdefault.jpg</td>\n",
       "      <td>2020-02-17T08:40:53Z</td>\n",
       "      <td>PT21M27S</td>\n",
       "      <td>8676631</td>\n",
       "      <td>489335</td>\n",
       "      <td>8083</td>\n",
       "      <td>56200</td>\n",
       "    </tr>\n",
       "    <tr>\n",
       "      <th>3</th>\n",
       "      <td>9Vmwsg8Eabo</td>\n",
       "      <td>What Is The Scariest Thing?</td>\n",
       "      <td>Everyone is scared of something ... but what's...</td>\n",
       "      <td>https://i.ytimg.com/vi/9Vmwsg8Eabo/hqdefault.jpg</td>\n",
       "      <td>2019-10-16T23:45:32Z</td>\n",
       "      <td>PT40M41S</td>\n",
       "      <td>7700699</td>\n",
       "      <td>314621</td>\n",
       "      <td>5230</td>\n",
       "      <td>42419</td>\n",
       "    </tr>\n",
       "    <tr>\n",
       "      <th>4</th>\n",
       "      <td>b0cakXwiZ8s</td>\n",
       "      <td>I Watch 3 Episodes of Mind Field With Our Expe...</td>\n",
       "      <td>EVERY EPISODE OF MIND FIELD IS NOW FREE for th...</td>\n",
       "      <td>https://i.ytimg.com/vi/b0cakXwiZ8s/hqdefault.jpg</td>\n",
       "      <td>2019-10-10T23:09:16Z</td>\n",
       "      <td>PT3H16S</td>\n",
       "      <td>4854750</td>\n",
       "      <td>57776</td>\n",
       "      <td>3036</td>\n",
       "      <td>5596</td>\n",
       "    </tr>\n",
       "    <tr>\n",
       "      <th>...</th>\n",
       "      <td>...</td>\n",
       "      <td>...</td>\n",
       "      <td>...</td>\n",
       "      <td>...</td>\n",
       "      <td>...</td>\n",
       "      <td>...</td>\n",
       "      <td>...</td>\n",
       "      <td>...</td>\n",
       "      <td>...</td>\n",
       "      <td>...</td>\n",
       "    </tr>\n",
       "    <tr>\n",
       "      <th>364</th>\n",
       "      <td>m_icISNqoS8</td>\n",
       "      <td>Mark and Michael - Vsauce BLOOPERS</td>\n",
       "      <td>Mark Douglas and Michael Stevens talking about...</td>\n",
       "      <td>https://i.ytimg.com/vi/m_icISNqoS8/hqdefault.jpg</td>\n",
       "      <td>2010-06-30T23:17:10Z</td>\n",
       "      <td>PT1M18S</td>\n",
       "      <td>294706</td>\n",
       "      <td>4378</td>\n",
       "      <td>135</td>\n",
       "      <td>843</td>\n",
       "    </tr>\n",
       "    <tr>\n",
       "      <th>365</th>\n",
       "      <td>4R1WPK3u8II</td>\n",
       "      <td>Mario Farts!</td>\n",
       "      <td>Mario Farts when a mushroom upsets his stomach...</td>\n",
       "      <td>https://i.ytimg.com/vi/4R1WPK3u8II/hqdefault.jpg</td>\n",
       "      <td>2010-06-29T18:14:40Z</td>\n",
       "      <td>PT50S</td>\n",
       "      <td>9571772</td>\n",
       "      <td>54910</td>\n",
       "      <td>6714</td>\n",
       "      <td>7146</td>\n",
       "    </tr>\n",
       "    <tr>\n",
       "      <th>366</th>\n",
       "      <td>UaOeE8AJD9Q</td>\n",
       "      <td>iPhone 4 is for LOSERS? -- Wackygamer</td>\n",
       "      <td>Jeff and Adam debate the iPhone 4.  \\r\\n\\r\\nLe...</td>\n",
       "      <td>https://i.ytimg.com/vi/UaOeE8AJD9Q/hqdefault.jpg</td>\n",
       "      <td>2010-06-26T17:49:23Z</td>\n",
       "      <td>PT4M13S</td>\n",
       "      <td>159776</td>\n",
       "      <td>1475</td>\n",
       "      <td>235</td>\n",
       "      <td>526</td>\n",
       "    </tr>\n",
       "    <tr>\n",
       "      <th>367</th>\n",
       "      <td>GXDKhCWUY8k</td>\n",
       "      <td>Killzone Trailer PARODY Commentary -- Wackygamer</td>\n",
       "      <td>Subscribe to Vsauce! http://www.youtube.com/su...</td>\n",
       "      <td>https://i.ytimg.com/vi/GXDKhCWUY8k/hqdefault.jpg</td>\n",
       "      <td>2010-06-24T22:39:24Z</td>\n",
       "      <td>PT1M1S</td>\n",
       "      <td>158256</td>\n",
       "      <td>1307</td>\n",
       "      <td>200</td>\n",
       "      <td>308</td>\n",
       "    </tr>\n",
       "    <tr>\n",
       "      <th>368</th>\n",
       "      <td>1BuTR5nXS8I</td>\n",
       "      <td>Top E3 Rumors You MISSED -- Wackygamer</td>\n",
       "      <td>Subscribe to Vsauce! http://www.youtube.com/su...</td>\n",
       "      <td>https://i.ytimg.com/vi/1BuTR5nXS8I/hqdefault.jpg</td>\n",
       "      <td>2010-06-24T22:23:23Z</td>\n",
       "      <td>PT2M21S</td>\n",
       "      <td>518214</td>\n",
       "      <td>6422</td>\n",
       "      <td>874</td>\n",
       "      <td>27</td>\n",
       "    </tr>\n",
       "  </tbody>\n",
       "</table>\n",
       "<p>369 rows × 10 columns</p>\n",
       "</div>"
      ],
      "text/plain": [
       "          vid_id                                          vid_title  \\\n",
       "0    zHL9GP_B30E                                  Illusions of Time   \n",
       "1    U6VBV4QUMu0                                The Odd Number Rule   \n",
       "2    egEraZP9yXQ                  How Many Holes Does a Human Have?   \n",
       "3    9Vmwsg8Eabo                        What Is The Scariest Thing?   \n",
       "4    b0cakXwiZ8s  I Watch 3 Episodes of Mind Field With Our Expe...   \n",
       "..           ...                                                ...   \n",
       "364  m_icISNqoS8                 Mark and Michael - Vsauce BLOOPERS   \n",
       "365  4R1WPK3u8II                                       Mario Farts!   \n",
       "366  UaOeE8AJD9Q              iPhone 4 is for LOSERS? -- Wackygamer   \n",
       "367  GXDKhCWUY8k   Killzone Trailer PARODY Commentary -- Wackygamer   \n",
       "368  1BuTR5nXS8I             Top E3 Rumors You MISSED -- Wackygamer   \n",
       "\n",
       "                                       vid_description  \\\n",
       "0    Use code BRAINS to get free shipping within th...   \n",
       "1    Subscribe to our Curiosity Box! https://www.cu...   \n",
       "2    Now you're thinking: https://www.curiositybox....   \n",
       "3    Everyone is scared of something ... but what's...   \n",
       "4    EVERY EPISODE OF MIND FIELD IS NOW FREE for th...   \n",
       "..                                                 ...   \n",
       "364  Mark Douglas and Michael Stevens talking about...   \n",
       "365  Mario Farts when a mushroom upsets his stomach...   \n",
       "366  Jeff and Adam debate the iPhone 4.  \\r\\n\\r\\nLe...   \n",
       "367  Subscribe to Vsauce! http://www.youtube.com/su...   \n",
       "368  Subscribe to Vsauce! http://www.youtube.com/su...   \n",
       "\n",
       "                                        thumbnail_url           upload_time  \\\n",
       "0    https://i.ytimg.com/vi/zHL9GP_B30E/hqdefault.jpg  2021-01-08T07:54:28Z   \n",
       "1    https://i.ytimg.com/vi/U6VBV4QUMu0/hqdefault.jpg  2020-07-29T17:18:49Z   \n",
       "2    https://i.ytimg.com/vi/egEraZP9yXQ/hqdefault.jpg  2020-02-17T08:40:53Z   \n",
       "3    https://i.ytimg.com/vi/9Vmwsg8Eabo/hqdefault.jpg  2019-10-16T23:45:32Z   \n",
       "4    https://i.ytimg.com/vi/b0cakXwiZ8s/hqdefault.jpg  2019-10-10T23:09:16Z   \n",
       "..                                                ...                   ...   \n",
       "364  https://i.ytimg.com/vi/m_icISNqoS8/hqdefault.jpg  2010-06-30T23:17:10Z   \n",
       "365  https://i.ytimg.com/vi/4R1WPK3u8II/hqdefault.jpg  2010-06-29T18:14:40Z   \n",
       "366  https://i.ytimg.com/vi/UaOeE8AJD9Q/hqdefault.jpg  2010-06-26T17:49:23Z   \n",
       "367  https://i.ytimg.com/vi/GXDKhCWUY8k/hqdefault.jpg  2010-06-24T22:39:24Z   \n",
       "368  https://i.ytimg.com/vi/1BuTR5nXS8I/hqdefault.jpg  2010-06-24T22:23:23Z   \n",
       "\n",
       "     duration    views   likes dislikes comment_counts  \n",
       "0     PT31M8S  4450658  475190     2375          45122  \n",
       "1     PT22M7S  5913919  373042     8083          37297  \n",
       "2    PT21M27S  8676631  489335     8083          56200  \n",
       "3    PT40M41S  7700699  314621     5230          42419  \n",
       "4     PT3H16S  4854750   57776     3036           5596  \n",
       "..        ...      ...     ...      ...            ...  \n",
       "364   PT1M18S   294706    4378      135            843  \n",
       "365     PT50S  9571772   54910     6714           7146  \n",
       "366   PT4M13S   159776    1475      235            526  \n",
       "367    PT1M1S   158256    1307      200            308  \n",
       "368   PT2M21S   518214    6422      874             27  \n",
       "\n",
       "[369 rows x 10 columns]"
      ]
     },
     "execution_count": 193,
     "metadata": {},
     "output_type": "execute_result"
    }
   ],
   "source": [
    "raw"
   ]
  },
  {
   "cell_type": "code",
   "execution_count": 194,
   "metadata": {},
   "outputs": [],
   "source": [
    "df = raw.copy()"
   ]
  },
  {
   "cell_type": "code",
   "execution_count": 195,
   "metadata": {},
   "outputs": [],
   "source": [
    "INT_COLS = ['views', 'likes', 'dislikes', 'comment_counts'] \n",
    "\n",
    "df[INT_COLS] = df[INT_COLS].astype(int)"
   ]
  },
  {
   "cell_type": "code",
   "execution_count": 196,
   "metadata": {},
   "outputs": [
    {
     "name": "stdout",
     "output_type": "stream",
     "text": [
      "<class 'pandas.core.frame.DataFrame'>\n",
      "RangeIndex: 369 entries, 0 to 368\n",
      "Data columns (total 10 columns):\n",
      " #   Column           Non-Null Count  Dtype \n",
      "---  ------           --------------  ----- \n",
      " 0   vid_id           369 non-null    object\n",
      " 1   vid_title        369 non-null    object\n",
      " 2   vid_description  369 non-null    object\n",
      " 3   thumbnail_url    369 non-null    object\n",
      " 4   upload_time      369 non-null    object\n",
      " 5   duration         369 non-null    object\n",
      " 6   views            369 non-null    int64 \n",
      " 7   likes            369 non-null    int64 \n",
      " 8   dislikes         369 non-null    int64 \n",
      " 9   comment_counts   369 non-null    int64 \n",
      "dtypes: int64(4), object(6)\n",
      "memory usage: 29.0+ KB\n"
     ]
    }
   ],
   "source": [
    "df.info()"
   ]
  },
  {
   "cell_type": "code",
   "execution_count": 197,
   "metadata": {},
   "outputs": [
    {
     "data": {
      "text/plain": [
       "datetime.datetime(2019, 6, 26, 9, 29, 17, tzinfo=datetime.timezone.utc)"
      ]
     },
     "execution_count": 197,
     "metadata": {},
     "output_type": "execute_result"
    }
   ],
   "source": [
    "import datetime\n",
    "\n",
    "datetime.datetime.strptime('2019-06-26T09:29:17Z', \"%Y-%m-%dT%H:%M:%S%z\")"
   ]
  },
  {
   "cell_type": "code",
   "execution_count": 198,
   "metadata": {},
   "outputs": [],
   "source": [
    "df['upload_date'] = df['upload_time'].apply(\n",
    "    lambda x: datetime.datetime.strptime(x, \"%Y-%m-%dT%H:%M:%S%z\").day\n",
    ")\n",
    "df['upload_month'] = df['upload_time'].apply(\n",
    "    lambda x: datetime.datetime.strptime(x, \"%Y-%m-%dT%H:%M:%S%z\").month\n",
    ")\n",
    "df['upload_year'] = df['upload_time'].apply(\n",
    "    lambda x: datetime.datetime.strptime(x, \"%Y-%m-%dT%H:%M:%S%z\").year\n",
    ")\n",
    "df['upload_hour'] = df['upload_time'].apply(\n",
    "    lambda x: datetime.datetime.strptime(x, \"%Y-%m-%dT%H:%M:%S%z\").hour\n",
    ")\n",
    "df['upload_minute'] = df['upload_time'].apply(\n",
    "    lambda x: datetime.datetime.strptime(x, \"%Y-%m-%dT%H:%M:%S%z\").minute\n",
    ")\n",
    "df['upload_second'] = df['upload_time'].apply(\n",
    "    lambda x: datetime.datetime.strptime(x, \"%Y-%m-%dT%H:%M:%S%z\").second\n",
    ")"
   ]
  },
  {
   "cell_type": "code",
   "execution_count": 199,
   "metadata": {},
   "outputs": [],
   "source": [
    "dur = 'PT1H58M45S'\n",
    "\n",
    "def convert_dur(s):\n",
    "    mapp = { 'H': '*60', 'M': '*1', 'S': '/60' }\n",
    "    time, val, units, prev_char = 0, [], [], True\n",
    "    for char in s[2:]:\n",
    "        if char.isdigit():\n",
    "            if prev_char:\n",
    "                val.append(char)\n",
    "            else:\n",
    "                val[-1] += char\n",
    "            prev_char = False\n",
    "        else:\n",
    "            units.append(char)\n",
    "            prev_char = True\n",
    "           \n",
    "    for u, v in zip(units, val):\n",
    "        time += eval(v+mapp[u])\n",
    "        \n",
    "    return time"
   ]
  },
  {
   "cell_type": "code",
   "execution_count": 200,
   "metadata": {},
   "outputs": [
    {
     "data": {
      "text/plain": [
       "118.75"
      ]
     },
     "execution_count": 200,
     "metadata": {},
     "output_type": "execute_result"
    }
   ],
   "source": [
    "convert_dur(dur)"
   ]
  },
  {
   "cell_type": "code",
   "execution_count": 201,
   "metadata": {},
   "outputs": [],
   "source": [
    "df['vid_dur'] = df['duration'].apply(lambda x: convert_dur(x))"
   ]
  },
  {
   "cell_type": "code",
   "execution_count": 202,
   "metadata": {},
   "outputs": [],
   "source": [
    "CATEGORY_COLS = ['upload_year', 'upload_month', 'upload_date', 'upload_hour', 'upload_minute', 'upload_second'] \n",
    "\n",
    "df[CATEGORY_COLS] = df[CATEGORY_COLS].astype('category')"
   ]
  },
  {
   "cell_type": "code",
   "execution_count": 215,
   "metadata": {},
   "outputs": [],
   "source": [
    "df['likes_percent'] = df['likes'] / (df['likes'] + df['dislikes'])\n",
    "df['dislikes_percent'] = df['dislikes'] / (df['likes'] + df['dislikes'])\n",
    "\n",
    "df['likes_percent'].fillna(0, inplace=True)\n",
    "df['dislikes_percent'].fillna(0, inplace=True)"
   ]
  },
  {
   "cell_type": "code",
   "execution_count": 216,
   "metadata": {},
   "outputs": [
    {
     "name": "stdout",
     "output_type": "stream",
     "text": [
      "<class 'pandas.core.frame.DataFrame'>\n",
      "RangeIndex: 369 entries, 0 to 368\n",
      "Data columns (total 19 columns):\n",
      " #   Column            Non-Null Count  Dtype   \n",
      "---  ------            --------------  -----   \n",
      " 0   vid_id            369 non-null    object  \n",
      " 1   vid_title         369 non-null    object  \n",
      " 2   vid_description   369 non-null    object  \n",
      " 3   thumbnail_url     369 non-null    object  \n",
      " 4   upload_time       369 non-null    object  \n",
      " 5   duration          369 non-null    object  \n",
      " 6   views             369 non-null    int64   \n",
      " 7   likes             369 non-null    int64   \n",
      " 8   dislikes          369 non-null    int64   \n",
      " 9   comment_counts    369 non-null    int64   \n",
      " 10  upload_date       369 non-null    category\n",
      " 11  upload_month      369 non-null    category\n",
      " 12  upload_year       369 non-null    category\n",
      " 13  upload_hour       369 non-null    category\n",
      " 14  upload_minute     369 non-null    category\n",
      " 15  upload_second     369 non-null    category\n",
      " 16  vid_dur           369 non-null    float64 \n",
      " 17  likes_percent     369 non-null    float64 \n",
      " 18  dislikes_percent  369 non-null    float64 \n",
      "dtypes: category(6), float64(3), int64(4), object(6)\n",
      "memory usage: 48.8+ KB\n"
     ]
    }
   ],
   "source": [
    "df.info()"
   ]
  },
  {
   "cell_type": "code",
   "execution_count": 212,
   "metadata": {},
   "outputs": [
    {
     "data": {
      "text/html": [
       "<div>\n",
       "<style scoped>\n",
       "    .dataframe tbody tr th:only-of-type {\n",
       "        vertical-align: middle;\n",
       "    }\n",
       "\n",
       "    .dataframe tbody tr th {\n",
       "        vertical-align: top;\n",
       "    }\n",
       "\n",
       "    .dataframe thead th {\n",
       "        text-align: right;\n",
       "    }\n",
       "</style>\n",
       "<table border=\"1\" class=\"dataframe\">\n",
       "  <thead>\n",
       "    <tr style=\"text-align: right;\">\n",
       "      <th></th>\n",
       "      <th>vid_id</th>\n",
       "      <th>vid_title</th>\n",
       "      <th>vid_description</th>\n",
       "      <th>thumbnail_url</th>\n",
       "      <th>upload_time</th>\n",
       "      <th>duration</th>\n",
       "      <th>views</th>\n",
       "      <th>likes</th>\n",
       "      <th>dislikes</th>\n",
       "      <th>comment_counts</th>\n",
       "      <th>upload_date</th>\n",
       "      <th>upload_month</th>\n",
       "      <th>upload_year</th>\n",
       "      <th>upload_hour</th>\n",
       "      <th>upload_minute</th>\n",
       "      <th>upload_second</th>\n",
       "      <th>vid_dur</th>\n",
       "      <th>likes_percent</th>\n",
       "      <th>dislikes_percent</th>\n",
       "    </tr>\n",
       "  </thead>\n",
       "  <tbody>\n",
       "    <tr>\n",
       "      <th>6</th>\n",
       "      <td>AgbeGFYluEA</td>\n",
       "      <td>Mind Reading</td>\n",
       "      <td>In this episode I visit a researcher who is st...</td>\n",
       "      <td>https://i.ytimg.com/vi/AgbeGFYluEA/hqdefault.jpg</td>\n",
       "      <td>2018-12-14T10:56:08Z</td>\n",
       "      <td>PT22M22S</td>\n",
       "      <td>0</td>\n",
       "      <td>0</td>\n",
       "      <td>0</td>\n",
       "      <td>4612</td>\n",
       "      <td>14</td>\n",
       "      <td>12</td>\n",
       "      <td>2018</td>\n",
       "      <td>10</td>\n",
       "      <td>56</td>\n",
       "      <td>8</td>\n",
       "      <td>22.366667</td>\n",
       "      <td>NaN</td>\n",
       "      <td>NaN</td>\n",
       "    </tr>\n",
       "    <tr>\n",
       "      <th>7</th>\n",
       "      <td>BR-eMMCp7tg</td>\n",
       "      <td>Behavior and Belief</td>\n",
       "      <td>How can a lie become true? In this episode, Dr...</td>\n",
       "      <td>https://i.ytimg.com/vi/BR-eMMCp7tg/hqdefault.jpg</td>\n",
       "      <td>2018-10-25T21:55:22Z</td>\n",
       "      <td>PT28M27S</td>\n",
       "      <td>0</td>\n",
       "      <td>0</td>\n",
       "      <td>0</td>\n",
       "      <td>4405</td>\n",
       "      <td>25</td>\n",
       "      <td>10</td>\n",
       "      <td>2018</td>\n",
       "      <td>21</td>\n",
       "      <td>55</td>\n",
       "      <td>22</td>\n",
       "      <td>28.450000</td>\n",
       "      <td>NaN</td>\n",
       "      <td>NaN</td>\n",
       "    </tr>\n",
       "    <tr>\n",
       "      <th>8</th>\n",
       "      <td>xna-kdXZQHQ</td>\n",
       "      <td>How to Talk to Aliens</td>\n",
       "      <td>Are we alone in the universe? Even if we could...</td>\n",
       "      <td>https://i.ytimg.com/vi/xna-kdXZQHQ/hqdefault.jpg</td>\n",
       "      <td>2018-12-14T10:49:23Z</td>\n",
       "      <td>PT26M7S</td>\n",
       "      <td>0</td>\n",
       "      <td>0</td>\n",
       "      <td>0</td>\n",
       "      <td>8652</td>\n",
       "      <td>14</td>\n",
       "      <td>12</td>\n",
       "      <td>2018</td>\n",
       "      <td>10</td>\n",
       "      <td>49</td>\n",
       "      <td>23</td>\n",
       "      <td>26.116667</td>\n",
       "      <td>NaN</td>\n",
       "      <td>NaN</td>\n",
       "    </tr>\n",
       "    <tr>\n",
       "      <th>9</th>\n",
       "      <td>zRxI0DaQrag</td>\n",
       "      <td>Should I Die?</td>\n",
       "      <td>If I could live forever, should I? How does be...</td>\n",
       "      <td>https://i.ytimg.com/vi/zRxI0DaQrag/hqdefault.jpg</td>\n",
       "      <td>2018-11-29T18:04:46Z</td>\n",
       "      <td>PT31M5S</td>\n",
       "      <td>0</td>\n",
       "      <td>0</td>\n",
       "      <td>0</td>\n",
       "      <td>11420</td>\n",
       "      <td>29</td>\n",
       "      <td>11</td>\n",
       "      <td>2018</td>\n",
       "      <td>18</td>\n",
       "      <td>4</td>\n",
       "      <td>46</td>\n",
       "      <td>31.083333</td>\n",
       "      <td>NaN</td>\n",
       "      <td>NaN</td>\n",
       "    </tr>\n",
       "    <tr>\n",
       "      <th>11</th>\n",
       "      <td>rA5qnZUXcqo</td>\n",
       "      <td>The Stilwell Brain</td>\n",
       "      <td>There are 100 billion individual neurons in th...</td>\n",
       "      <td>https://i.ytimg.com/vi/rA5qnZUXcqo/hqdefault.jpg</td>\n",
       "      <td>2018-11-28T16:09:04Z</td>\n",
       "      <td>PT26M32S</td>\n",
       "      <td>0</td>\n",
       "      <td>0</td>\n",
       "      <td>0</td>\n",
       "      <td>2937</td>\n",
       "      <td>28</td>\n",
       "      <td>11</td>\n",
       "      <td>2018</td>\n",
       "      <td>16</td>\n",
       "      <td>9</td>\n",
       "      <td>4</td>\n",
       "      <td>26.533333</td>\n",
       "      <td>NaN</td>\n",
       "      <td>NaN</td>\n",
       "    </tr>\n",
       "    <tr>\n",
       "      <th>12</th>\n",
       "      <td>yZlOw3rsPBM</td>\n",
       "      <td>Moral Licensing</td>\n",
       "      <td>How are our moral decisions influenced by fact...</td>\n",
       "      <td>https://i.ytimg.com/vi/yZlOw3rsPBM/hqdefault.jpg</td>\n",
       "      <td>2018-11-27T20:53:59Z</td>\n",
       "      <td>PT28M28S</td>\n",
       "      <td>0</td>\n",
       "      <td>0</td>\n",
       "      <td>0</td>\n",
       "      <td>4843</td>\n",
       "      <td>27</td>\n",
       "      <td>11</td>\n",
       "      <td>2018</td>\n",
       "      <td>20</td>\n",
       "      <td>53</td>\n",
       "      <td>59</td>\n",
       "      <td>28.466667</td>\n",
       "      <td>NaN</td>\n",
       "      <td>NaN</td>\n",
       "    </tr>\n",
       "    <tr>\n",
       "      <th>15</th>\n",
       "      <td>NXNGvDdkXZE</td>\n",
       "      <td>The Electric Brain - Mind Field S2 (Ep 8)</td>\n",
       "      <td>Our nervous system is fundamentally electric. ...</td>\n",
       "      <td>https://i.ytimg.com/vi/NXNGvDdkXZE/hqdefault.jpg</td>\n",
       "      <td>2017-12-08T00:14:16Z</td>\n",
       "      <td>PT27M44S</td>\n",
       "      <td>0</td>\n",
       "      <td>0</td>\n",
       "      <td>0</td>\n",
       "      <td>0</td>\n",
       "      <td>8</td>\n",
       "      <td>12</td>\n",
       "      <td>2017</td>\n",
       "      <td>0</td>\n",
       "      <td>14</td>\n",
       "      <td>16</td>\n",
       "      <td>27.733333</td>\n",
       "      <td>NaN</td>\n",
       "      <td>NaN</td>\n",
       "    </tr>\n",
       "    <tr>\n",
       "      <th>16</th>\n",
       "      <td>wcPzTr-BbAA</td>\n",
       "      <td>Divergent Minds - Mind Field S2 (Ep 7)</td>\n",
       "      <td>Scientists can’t dissect living people’s brain...</td>\n",
       "      <td>https://i.ytimg.com/vi/wcPzTr-BbAA/hqdefault.jpg</td>\n",
       "      <td>2017-12-08T00:10:49Z</td>\n",
       "      <td>PT26M13S</td>\n",
       "      <td>0</td>\n",
       "      <td>0</td>\n",
       "      <td>0</td>\n",
       "      <td>0</td>\n",
       "      <td>8</td>\n",
       "      <td>12</td>\n",
       "      <td>2017</td>\n",
       "      <td>0</td>\n",
       "      <td>10</td>\n",
       "      <td>49</td>\n",
       "      <td>26.216667</td>\n",
       "      <td>NaN</td>\n",
       "      <td>NaN</td>\n",
       "    </tr>\n",
       "    <tr>\n",
       "      <th>17</th>\n",
       "      <td>QDCcuCHOIyY</td>\n",
       "      <td>The Power of Suggestion - Mind Field S2 (Ep 6)</td>\n",
       "      <td>Exactly how do placebos work?  Researchers bel...</td>\n",
       "      <td>https://i.ytimg.com/vi/QDCcuCHOIyY/hqdefault.jpg</td>\n",
       "      <td>2017-12-08T00:08:01Z</td>\n",
       "      <td>PT28M49S</td>\n",
       "      <td>0</td>\n",
       "      <td>0</td>\n",
       "      <td>0</td>\n",
       "      <td>0</td>\n",
       "      <td>8</td>\n",
       "      <td>12</td>\n",
       "      <td>2017</td>\n",
       "      <td>0</td>\n",
       "      <td>8</td>\n",
       "      <td>1</td>\n",
       "      <td>28.816667</td>\n",
       "      <td>NaN</td>\n",
       "      <td>NaN</td>\n",
       "    </tr>\n",
       "    <tr>\n",
       "      <th>18</th>\n",
       "      <td>JMpuxLIgjPs</td>\n",
       "      <td>How to Make a Hero - Mind Field S2 (Ep 5)</td>\n",
       "      <td>What makes a hero? Dr. Philip Zimbardo, the ps...</td>\n",
       "      <td>https://i.ytimg.com/vi/JMpuxLIgjPs/hqdefault.jpg</td>\n",
       "      <td>2017-11-30T00:00:54Z</td>\n",
       "      <td>PT30M16S</td>\n",
       "      <td>0</td>\n",
       "      <td>0</td>\n",
       "      <td>0</td>\n",
       "      <td>0</td>\n",
       "      <td>30</td>\n",
       "      <td>11</td>\n",
       "      <td>2017</td>\n",
       "      <td>0</td>\n",
       "      <td>0</td>\n",
       "      <td>54</td>\n",
       "      <td>30.266667</td>\n",
       "      <td>NaN</td>\n",
       "      <td>NaN</td>\n",
       "    </tr>\n",
       "    <tr>\n",
       "      <th>19</th>\n",
       "      <td>MBRi7Bz8LZk</td>\n",
       "      <td>Uncut False Confession - Mind Field S2</td>\n",
       "      <td>Expert Melissa Russano elicits a false confess...</td>\n",
       "      <td>https://i.ytimg.com/vi/MBRi7Bz8LZk/hqdefault.jpg</td>\n",
       "      <td>2017-11-29T23:43:03Z</td>\n",
       "      <td>PT14M18S</td>\n",
       "      <td>0</td>\n",
       "      <td>0</td>\n",
       "      <td>0</td>\n",
       "      <td>0</td>\n",
       "      <td>29</td>\n",
       "      <td>11</td>\n",
       "      <td>2017</td>\n",
       "      <td>23</td>\n",
       "      <td>43</td>\n",
       "      <td>3</td>\n",
       "      <td>14.300000</td>\n",
       "      <td>NaN</td>\n",
       "      <td>NaN</td>\n",
       "    </tr>\n",
       "    <tr>\n",
       "      <th>20</th>\n",
       "      <td>a-EC76gHQPQ</td>\n",
       "      <td>Uncut Shaman Song - Mind Field S2</td>\n",
       "      <td>Watch as a Peruvian Shaman performs his icaro—...</td>\n",
       "      <td>https://i.ytimg.com/vi/a-EC76gHQPQ/hqdefault.jpg</td>\n",
       "      <td>2017-11-29T22:41:47Z</td>\n",
       "      <td>PT16M51S</td>\n",
       "      <td>0</td>\n",
       "      <td>0</td>\n",
       "      <td>0</td>\n",
       "      <td>0</td>\n",
       "      <td>29</td>\n",
       "      <td>11</td>\n",
       "      <td>2017</td>\n",
       "      <td>22</td>\n",
       "      <td>41</td>\n",
       "      <td>47</td>\n",
       "      <td>16.850000</td>\n",
       "      <td>NaN</td>\n",
       "      <td>NaN</td>\n",
       "    </tr>\n",
       "    <tr>\n",
       "      <th>21</th>\n",
       "      <td>1RHsAUyFCAM</td>\n",
       "      <td>Your Brain on Tech - Mind Field S2 (Ep 4)</td>\n",
       "      <td>Technology isn’t just changing our lives.  It’...</td>\n",
       "      <td>https://i.ytimg.com/vi/1RHsAUyFCAM/hqdefault.jpg</td>\n",
       "      <td>2017-11-25T22:02:50Z</td>\n",
       "      <td>PT27M31S</td>\n",
       "      <td>0</td>\n",
       "      <td>0</td>\n",
       "      <td>0</td>\n",
       "      <td>0</td>\n",
       "      <td>25</td>\n",
       "      <td>11</td>\n",
       "      <td>2017</td>\n",
       "      <td>22</td>\n",
       "      <td>2</td>\n",
       "      <td>50</td>\n",
       "      <td>27.516667</td>\n",
       "      <td>NaN</td>\n",
       "      <td>NaN</td>\n",
       "    </tr>\n",
       "    <tr>\n",
       "      <th>22</th>\n",
       "      <td>gWoPI-VoFV0</td>\n",
       "      <td>Interrogation - Mind Field S2 (Ep 3)</td>\n",
       "      <td>Psychology.  Neuroscience.  Drugs.  All can be...</td>\n",
       "      <td>https://i.ytimg.com/vi/gWoPI-VoFV0/hqdefault.jpg</td>\n",
       "      <td>2017-12-01T05:51:41Z</td>\n",
       "      <td>PT32M7S</td>\n",
       "      <td>0</td>\n",
       "      <td>0</td>\n",
       "      <td>0</td>\n",
       "      <td>0</td>\n",
       "      <td>1</td>\n",
       "      <td>12</td>\n",
       "      <td>2017</td>\n",
       "      <td>5</td>\n",
       "      <td>51</td>\n",
       "      <td>41</td>\n",
       "      <td>32.116667</td>\n",
       "      <td>NaN</td>\n",
       "      <td>NaN</td>\n",
       "    </tr>\n",
       "    <tr>\n",
       "      <th>23</th>\n",
       "      <td>U3lWVLuc6CE</td>\n",
       "      <td>The Psychedelic Experience - Mind Field S2 (Ep 2)</td>\n",
       "      <td>Do psychedelic drugs really bring about self-h...</td>\n",
       "      <td>https://i.ytimg.com/vi/U3lWVLuc6CE/hqdefault.jpg</td>\n",
       "      <td>2017-11-25T21:53:59Z</td>\n",
       "      <td>PT33M18S</td>\n",
       "      <td>0</td>\n",
       "      <td>0</td>\n",
       "      <td>0</td>\n",
       "      <td>0</td>\n",
       "      <td>25</td>\n",
       "      <td>11</td>\n",
       "      <td>2017</td>\n",
       "      <td>21</td>\n",
       "      <td>53</td>\n",
       "      <td>59</td>\n",
       "      <td>33.300000</td>\n",
       "      <td>NaN</td>\n",
       "      <td>NaN</td>\n",
       "    </tr>\n",
       "    <tr>\n",
       "      <th>29</th>\n",
       "      <td>mjy5eokIm3U</td>\n",
       "      <td>Vsauce Live Stream!</td>\n",
       "      <td>Ask us questions on twitter!\\nhttp://twitter.c...</td>\n",
       "      <td>https://i.ytimg.com/vi/mjy5eokIm3U/hqdefault.jpg</td>\n",
       "      <td>2017-06-18T17:58:07Z</td>\n",
       "      <td>PT1H38M13S</td>\n",
       "      <td>1689345</td>\n",
       "      <td>0</td>\n",
       "      <td>0</td>\n",
       "      <td>0</td>\n",
       "      <td>18</td>\n",
       "      <td>6</td>\n",
       "      <td>2017</td>\n",
       "      <td>17</td>\n",
       "      <td>58</td>\n",
       "      <td>7</td>\n",
       "      <td>98.216667</td>\n",
       "      <td>NaN</td>\n",
       "      <td>NaN</td>\n",
       "    </tr>\n",
       "    <tr>\n",
       "      <th>30</th>\n",
       "      <td>b2ng8HuPLTk</td>\n",
       "      <td>Do You Know Yourself? - Mind Field (Ep 8)</td>\n",
       "      <td>What makes you, you?  If even the most basic p...</td>\n",
       "      <td>https://i.ytimg.com/vi/b2ng8HuPLTk/hqdefault.jpg</td>\n",
       "      <td>2017-02-14T01:59:36Z</td>\n",
       "      <td>PT25M47S</td>\n",
       "      <td>0</td>\n",
       "      <td>0</td>\n",
       "      <td>0</td>\n",
       "      <td>0</td>\n",
       "      <td>14</td>\n",
       "      <td>2</td>\n",
       "      <td>2017</td>\n",
       "      <td>1</td>\n",
       "      <td>59</td>\n",
       "      <td>36</td>\n",
       "      <td>25.783333</td>\n",
       "      <td>NaN</td>\n",
       "      <td>NaN</td>\n",
       "    </tr>\n",
       "    <tr>\n",
       "      <th>31</th>\n",
       "      <td>WY0j1cZtnp0</td>\n",
       "      <td>In Your Face - Mind Field (Ep 7)</td>\n",
       "      <td>How much do we communicate through facial expr...</td>\n",
       "      <td>https://i.ytimg.com/vi/WY0j1cZtnp0/hqdefault.jpg</td>\n",
       "      <td>2017-02-07T05:11:30Z</td>\n",
       "      <td>PT24M34S</td>\n",
       "      <td>0</td>\n",
       "      <td>0</td>\n",
       "      <td>0</td>\n",
       "      <td>0</td>\n",
       "      <td>7</td>\n",
       "      <td>2</td>\n",
       "      <td>2017</td>\n",
       "      <td>5</td>\n",
       "      <td>11</td>\n",
       "      <td>30</td>\n",
       "      <td>24.566667</td>\n",
       "      <td>NaN</td>\n",
       "      <td>NaN</td>\n",
       "    </tr>\n",
       "    <tr>\n",
       "      <th>32</th>\n",
       "      <td>OUdXMoY6fLY</td>\n",
       "      <td>Touch - Mind Field (Ep 6)</td>\n",
       "      <td>How much of the sensations we feel is determin...</td>\n",
       "      <td>https://i.ytimg.com/vi/OUdXMoY6fLY/hqdefault.jpg</td>\n",
       "      <td>2017-02-07T05:11:20Z</td>\n",
       "      <td>PT21M36S</td>\n",
       "      <td>0</td>\n",
       "      <td>0</td>\n",
       "      <td>0</td>\n",
       "      <td>0</td>\n",
       "      <td>7</td>\n",
       "      <td>2</td>\n",
       "      <td>2017</td>\n",
       "      <td>5</td>\n",
       "      <td>11</td>\n",
       "      <td>20</td>\n",
       "      <td>21.600000</td>\n",
       "      <td>NaN</td>\n",
       "      <td>NaN</td>\n",
       "    </tr>\n",
       "    <tr>\n",
       "      <th>33</th>\n",
       "      <td>lmI7NnMqwLQ</td>\n",
       "      <td>Freedom of Choice - Mind Field (Ep 5)</td>\n",
       "      <td>We may value having Freedom of Choice, but are...</td>\n",
       "      <td>https://i.ytimg.com/vi/lmI7NnMqwLQ/hqdefault.jpg</td>\n",
       "      <td>2017-02-07T05:10:44Z</td>\n",
       "      <td>PT22M26S</td>\n",
       "      <td>0</td>\n",
       "      <td>0</td>\n",
       "      <td>0</td>\n",
       "      <td>0</td>\n",
       "      <td>7</td>\n",
       "      <td>2</td>\n",
       "      <td>2017</td>\n",
       "      <td>5</td>\n",
       "      <td>10</td>\n",
       "      <td>44</td>\n",
       "      <td>22.433333</td>\n",
       "      <td>NaN</td>\n",
       "      <td>NaN</td>\n",
       "    </tr>\n",
       "    <tr>\n",
       "      <th>35</th>\n",
       "      <td>qZXpgf8N6hs</td>\n",
       "      <td>Artificial Intelligence - Mind Field (Ep 4)</td>\n",
       "      <td>So you say you love your computer or smartphon...</td>\n",
       "      <td>https://i.ytimg.com/vi/qZXpgf8N6hs/hqdefault.jpg</td>\n",
       "      <td>2017-01-31T05:56:02Z</td>\n",
       "      <td>PT25M</td>\n",
       "      <td>0</td>\n",
       "      <td>0</td>\n",
       "      <td>0</td>\n",
       "      <td>0</td>\n",
       "      <td>31</td>\n",
       "      <td>1</td>\n",
       "      <td>2017</td>\n",
       "      <td>5</td>\n",
       "      <td>56</td>\n",
       "      <td>2</td>\n",
       "      <td>25.000000</td>\n",
       "      <td>NaN</td>\n",
       "      <td>NaN</td>\n",
       "    </tr>\n",
       "    <tr>\n",
       "      <th>36</th>\n",
       "      <td>zD68reVP0Ek</td>\n",
       "      <td>Destruction - Mind Field (Ep 3)</td>\n",
       "      <td>We humans love to build, create, and organize....</td>\n",
       "      <td>https://i.ytimg.com/vi/zD68reVP0Ek/hqdefault.jpg</td>\n",
       "      <td>2017-01-17T03:54:05Z</td>\n",
       "      <td>PT25M35S</td>\n",
       "      <td>0</td>\n",
       "      <td>0</td>\n",
       "      <td>0</td>\n",
       "      <td>0</td>\n",
       "      <td>17</td>\n",
       "      <td>1</td>\n",
       "      <td>2017</td>\n",
       "      <td>3</td>\n",
       "      <td>54</td>\n",
       "      <td>5</td>\n",
       "      <td>25.583333</td>\n",
       "      <td>NaN</td>\n",
       "      <td>NaN</td>\n",
       "    </tr>\n",
       "    <tr>\n",
       "      <th>38</th>\n",
       "      <td>fbyIYXEu-nQ</td>\n",
       "      <td>Conformity - Mind Field (Ep 2)</td>\n",
       "      <td>We are all unique individuals.  We follow the ...</td>\n",
       "      <td>https://i.ytimg.com/vi/fbyIYXEu-nQ/hqdefault.jpg</td>\n",
       "      <td>2017-01-17T19:13:10Z</td>\n",
       "      <td>PT23M11S</td>\n",
       "      <td>0</td>\n",
       "      <td>0</td>\n",
       "      <td>0</td>\n",
       "      <td>0</td>\n",
       "      <td>17</td>\n",
       "      <td>1</td>\n",
       "      <td>2017</td>\n",
       "      <td>19</td>\n",
       "      <td>13</td>\n",
       "      <td>10</td>\n",
       "      <td>23.183333</td>\n",
       "      <td>NaN</td>\n",
       "      <td>NaN</td>\n",
       "    </tr>\n",
       "    <tr>\n",
       "      <th>362</th>\n",
       "      <td>ayYSOAbbmWc</td>\n",
       "      <td>What Kinectimals SHOULD Be Like -- Wackygamer</td>\n",
       "      <td>Kinectimals was announced at E3 this year by M...</td>\n",
       "      <td>https://i.ytimg.com/vi/ayYSOAbbmWc/hqdefault.jpg</td>\n",
       "      <td>2010-07-01T20:19:10Z</td>\n",
       "      <td>PT3M43S</td>\n",
       "      <td>167549</td>\n",
       "      <td>0</td>\n",
       "      <td>0</td>\n",
       "      <td>0</td>\n",
       "      <td>1</td>\n",
       "      <td>7</td>\n",
       "      <td>2010</td>\n",
       "      <td>20</td>\n",
       "      <td>19</td>\n",
       "      <td>10</td>\n",
       "      <td>3.716667</td>\n",
       "      <td>NaN</td>\n",
       "      <td>NaN</td>\n",
       "    </tr>\n",
       "  </tbody>\n",
       "</table>\n",
       "</div>"
      ],
      "text/plain": [
       "          vid_id                                          vid_title  \\\n",
       "6    AgbeGFYluEA                                       Mind Reading   \n",
       "7    BR-eMMCp7tg                                Behavior and Belief   \n",
       "8    xna-kdXZQHQ                              How to Talk to Aliens   \n",
       "9    zRxI0DaQrag                                      Should I Die?   \n",
       "11   rA5qnZUXcqo                                 The Stilwell Brain   \n",
       "12   yZlOw3rsPBM                                    Moral Licensing   \n",
       "15   NXNGvDdkXZE          The Electric Brain - Mind Field S2 (Ep 8)   \n",
       "16   wcPzTr-BbAA             Divergent Minds - Mind Field S2 (Ep 7)   \n",
       "17   QDCcuCHOIyY     The Power of Suggestion - Mind Field S2 (Ep 6)   \n",
       "18   JMpuxLIgjPs          How to Make a Hero - Mind Field S2 (Ep 5)   \n",
       "19   MBRi7Bz8LZk             Uncut False Confession - Mind Field S2   \n",
       "20   a-EC76gHQPQ                  Uncut Shaman Song - Mind Field S2   \n",
       "21   1RHsAUyFCAM          Your Brain on Tech - Mind Field S2 (Ep 4)   \n",
       "22   gWoPI-VoFV0               Interrogation - Mind Field S2 (Ep 3)   \n",
       "23   U3lWVLuc6CE  The Psychedelic Experience - Mind Field S2 (Ep 2)   \n",
       "29   mjy5eokIm3U                                Vsauce Live Stream!   \n",
       "30   b2ng8HuPLTk          Do You Know Yourself? - Mind Field (Ep 8)   \n",
       "31   WY0j1cZtnp0                   In Your Face - Mind Field (Ep 7)   \n",
       "32   OUdXMoY6fLY                          Touch - Mind Field (Ep 6)   \n",
       "33   lmI7NnMqwLQ              Freedom of Choice - Mind Field (Ep 5)   \n",
       "35   qZXpgf8N6hs        Artificial Intelligence - Mind Field (Ep 4)   \n",
       "36   zD68reVP0Ek                    Destruction - Mind Field (Ep 3)   \n",
       "38   fbyIYXEu-nQ                     Conformity - Mind Field (Ep 2)   \n",
       "362  ayYSOAbbmWc      What Kinectimals SHOULD Be Like -- Wackygamer   \n",
       "\n",
       "                                       vid_description  \\\n",
       "6    In this episode I visit a researcher who is st...   \n",
       "7    How can a lie become true? In this episode, Dr...   \n",
       "8    Are we alone in the universe? Even if we could...   \n",
       "9    If I could live forever, should I? How does be...   \n",
       "11   There are 100 billion individual neurons in th...   \n",
       "12   How are our moral decisions influenced by fact...   \n",
       "15   Our nervous system is fundamentally electric. ...   \n",
       "16   Scientists can’t dissect living people’s brain...   \n",
       "17   Exactly how do placebos work?  Researchers bel...   \n",
       "18   What makes a hero? Dr. Philip Zimbardo, the ps...   \n",
       "19   Expert Melissa Russano elicits a false confess...   \n",
       "20   Watch as a Peruvian Shaman performs his icaro—...   \n",
       "21   Technology isn’t just changing our lives.  It’...   \n",
       "22   Psychology.  Neuroscience.  Drugs.  All can be...   \n",
       "23   Do psychedelic drugs really bring about self-h...   \n",
       "29   Ask us questions on twitter!\\nhttp://twitter.c...   \n",
       "30   What makes you, you?  If even the most basic p...   \n",
       "31   How much do we communicate through facial expr...   \n",
       "32   How much of the sensations we feel is determin...   \n",
       "33   We may value having Freedom of Choice, but are...   \n",
       "35   So you say you love your computer or smartphon...   \n",
       "36   We humans love to build, create, and organize....   \n",
       "38   We are all unique individuals.  We follow the ...   \n",
       "362  Kinectimals was announced at E3 this year by M...   \n",
       "\n",
       "                                        thumbnail_url           upload_time  \\\n",
       "6    https://i.ytimg.com/vi/AgbeGFYluEA/hqdefault.jpg  2018-12-14T10:56:08Z   \n",
       "7    https://i.ytimg.com/vi/BR-eMMCp7tg/hqdefault.jpg  2018-10-25T21:55:22Z   \n",
       "8    https://i.ytimg.com/vi/xna-kdXZQHQ/hqdefault.jpg  2018-12-14T10:49:23Z   \n",
       "9    https://i.ytimg.com/vi/zRxI0DaQrag/hqdefault.jpg  2018-11-29T18:04:46Z   \n",
       "11   https://i.ytimg.com/vi/rA5qnZUXcqo/hqdefault.jpg  2018-11-28T16:09:04Z   \n",
       "12   https://i.ytimg.com/vi/yZlOw3rsPBM/hqdefault.jpg  2018-11-27T20:53:59Z   \n",
       "15   https://i.ytimg.com/vi/NXNGvDdkXZE/hqdefault.jpg  2017-12-08T00:14:16Z   \n",
       "16   https://i.ytimg.com/vi/wcPzTr-BbAA/hqdefault.jpg  2017-12-08T00:10:49Z   \n",
       "17   https://i.ytimg.com/vi/QDCcuCHOIyY/hqdefault.jpg  2017-12-08T00:08:01Z   \n",
       "18   https://i.ytimg.com/vi/JMpuxLIgjPs/hqdefault.jpg  2017-11-30T00:00:54Z   \n",
       "19   https://i.ytimg.com/vi/MBRi7Bz8LZk/hqdefault.jpg  2017-11-29T23:43:03Z   \n",
       "20   https://i.ytimg.com/vi/a-EC76gHQPQ/hqdefault.jpg  2017-11-29T22:41:47Z   \n",
       "21   https://i.ytimg.com/vi/1RHsAUyFCAM/hqdefault.jpg  2017-11-25T22:02:50Z   \n",
       "22   https://i.ytimg.com/vi/gWoPI-VoFV0/hqdefault.jpg  2017-12-01T05:51:41Z   \n",
       "23   https://i.ytimg.com/vi/U3lWVLuc6CE/hqdefault.jpg  2017-11-25T21:53:59Z   \n",
       "29   https://i.ytimg.com/vi/mjy5eokIm3U/hqdefault.jpg  2017-06-18T17:58:07Z   \n",
       "30   https://i.ytimg.com/vi/b2ng8HuPLTk/hqdefault.jpg  2017-02-14T01:59:36Z   \n",
       "31   https://i.ytimg.com/vi/WY0j1cZtnp0/hqdefault.jpg  2017-02-07T05:11:30Z   \n",
       "32   https://i.ytimg.com/vi/OUdXMoY6fLY/hqdefault.jpg  2017-02-07T05:11:20Z   \n",
       "33   https://i.ytimg.com/vi/lmI7NnMqwLQ/hqdefault.jpg  2017-02-07T05:10:44Z   \n",
       "35   https://i.ytimg.com/vi/qZXpgf8N6hs/hqdefault.jpg  2017-01-31T05:56:02Z   \n",
       "36   https://i.ytimg.com/vi/zD68reVP0Ek/hqdefault.jpg  2017-01-17T03:54:05Z   \n",
       "38   https://i.ytimg.com/vi/fbyIYXEu-nQ/hqdefault.jpg  2017-01-17T19:13:10Z   \n",
       "362  https://i.ytimg.com/vi/ayYSOAbbmWc/hqdefault.jpg  2010-07-01T20:19:10Z   \n",
       "\n",
       "       duration    views  likes  dislikes  comment_counts upload_date  \\\n",
       "6      PT22M22S        0      0         0            4612          14   \n",
       "7      PT28M27S        0      0         0            4405          25   \n",
       "8       PT26M7S        0      0         0            8652          14   \n",
       "9       PT31M5S        0      0         0           11420          29   \n",
       "11     PT26M32S        0      0         0            2937          28   \n",
       "12     PT28M28S        0      0         0            4843          27   \n",
       "15     PT27M44S        0      0         0               0           8   \n",
       "16     PT26M13S        0      0         0               0           8   \n",
       "17     PT28M49S        0      0         0               0           8   \n",
       "18     PT30M16S        0      0         0               0          30   \n",
       "19     PT14M18S        0      0         0               0          29   \n",
       "20     PT16M51S        0      0         0               0          29   \n",
       "21     PT27M31S        0      0         0               0          25   \n",
       "22      PT32M7S        0      0         0               0           1   \n",
       "23     PT33M18S        0      0         0               0          25   \n",
       "29   PT1H38M13S  1689345      0         0               0          18   \n",
       "30     PT25M47S        0      0         0               0          14   \n",
       "31     PT24M34S        0      0         0               0           7   \n",
       "32     PT21M36S        0      0         0               0           7   \n",
       "33     PT22M26S        0      0         0               0           7   \n",
       "35        PT25M        0      0         0               0          31   \n",
       "36     PT25M35S        0      0         0               0          17   \n",
       "38     PT23M11S        0      0         0               0          17   \n",
       "362     PT3M43S   167549      0         0               0           1   \n",
       "\n",
       "    upload_month upload_year upload_hour upload_minute upload_second  \\\n",
       "6             12        2018          10            56             8   \n",
       "7             10        2018          21            55            22   \n",
       "8             12        2018          10            49            23   \n",
       "9             11        2018          18             4            46   \n",
       "11            11        2018          16             9             4   \n",
       "12            11        2018          20            53            59   \n",
       "15            12        2017           0            14            16   \n",
       "16            12        2017           0            10            49   \n",
       "17            12        2017           0             8             1   \n",
       "18            11        2017           0             0            54   \n",
       "19            11        2017          23            43             3   \n",
       "20            11        2017          22            41            47   \n",
       "21            11        2017          22             2            50   \n",
       "22            12        2017           5            51            41   \n",
       "23            11        2017          21            53            59   \n",
       "29             6        2017          17            58             7   \n",
       "30             2        2017           1            59            36   \n",
       "31             2        2017           5            11            30   \n",
       "32             2        2017           5            11            20   \n",
       "33             2        2017           5            10            44   \n",
       "35             1        2017           5            56             2   \n",
       "36             1        2017           3            54             5   \n",
       "38             1        2017          19            13            10   \n",
       "362            7        2010          20            19            10   \n",
       "\n",
       "       vid_dur  likes_percent  dislikes_percent  \n",
       "6    22.366667            NaN               NaN  \n",
       "7    28.450000            NaN               NaN  \n",
       "8    26.116667            NaN               NaN  \n",
       "9    31.083333            NaN               NaN  \n",
       "11   26.533333            NaN               NaN  \n",
       "12   28.466667            NaN               NaN  \n",
       "15   27.733333            NaN               NaN  \n",
       "16   26.216667            NaN               NaN  \n",
       "17   28.816667            NaN               NaN  \n",
       "18   30.266667            NaN               NaN  \n",
       "19   14.300000            NaN               NaN  \n",
       "20   16.850000            NaN               NaN  \n",
       "21   27.516667            NaN               NaN  \n",
       "22   32.116667            NaN               NaN  \n",
       "23   33.300000            NaN               NaN  \n",
       "29   98.216667            NaN               NaN  \n",
       "30   25.783333            NaN               NaN  \n",
       "31   24.566667            NaN               NaN  \n",
       "32   21.600000            NaN               NaN  \n",
       "33   22.433333            NaN               NaN  \n",
       "35   25.000000            NaN               NaN  \n",
       "36   25.583333            NaN               NaN  \n",
       "38   23.183333            NaN               NaN  \n",
       "362   3.716667            NaN               NaN  "
      ]
     },
     "execution_count": 212,
     "metadata": {},
     "output_type": "execute_result"
    }
   ],
   "source": [
    "df.loc[df['likes_percent'].isnull()]"
   ]
  },
  {
   "cell_type": "code",
   "execution_count": 217,
   "metadata": {},
   "outputs": [
    {
     "data": {
      "application/vnd.plotly.v1+json": {
       "config": {
        "plotlyServerURL": "https://plot.ly"
       },
       "data": [
        {
         "customdata": [
          [
           "Illusions of Time"
          ]
         ],
         "hovertemplate": "Year=2021<br>Video Length (mins)=%{x}<br>Total Views=%{y}<br>Like Percentage=%{marker.size}<br>Video Title=%{customdata[0]}<extra></extra>",
         "legendgroup": "2021",
         "marker": {
          "color": "#636efa",
          "opacity": 0.4,
          "size": [
           0.9950268549830913
          ],
          "sizemode": "area",
          "sizeref": 0.0024875671374577283,
          "symbol": "circle"
         },
         "mode": "markers",
         "name": "2021",
         "orientation": "v",
         "showlegend": true,
         "type": "scatter",
         "x": [
          31.133333333333333
         ],
         "xaxis": "x",
         "y": [
          4450658
         ],
         "yaxis": "y"
        },
        {
         "customdata": [
          [
           "The Odd Number Rule"
          ],
          [
           "How Many Holes Does a Human Have?"
          ]
         ],
         "hovertemplate": "Year=2020<br>Video Length (mins)=%{x}<br>Total Views=%{y}<br>Like Percentage=%{marker.size}<br>Video Title=%{customdata[0]}<extra></extra>",
         "legendgroup": "2020",
         "marker": {
          "color": "#EF553B",
          "opacity": 0.4,
          "size": [
           0.9787917349950803,
           0.9837500854412184
          ],
          "sizemode": "area",
          "sizeref": 0.0024875671374577283,
          "symbol": "circle"
         },
         "mode": "markers",
         "name": "2020",
         "orientation": "v",
         "showlegend": true,
         "type": "scatter",
         "x": [
          22.116666666666667,
          21.45
         ],
         "xaxis": "x",
         "y": [
          5913919,
          8676631
         ],
         "yaxis": "y"
        },
        {
         "customdata": [
          [
           "What Is The Scariest Thing?"
          ],
          [
           "I Watch 3 Episodes of Mind Field With Our Experts & Researchers"
          ],
          [
           "Laws & Causes"
          ]
         ],
         "hovertemplate": "Year=2019<br>Video Length (mins)=%{x}<br>Total Views=%{y}<br>Like Percentage=%{marker.size}<br>Video Title=%{customdata[0]}<extra></extra>",
         "legendgroup": "2019",
         "marker": {
          "color": "#00cc96",
          "opacity": 0.4,
          "size": [
           0.983648636396322,
           0.9500756429652042,
           0.9926733317906016
          ],
          "sizemode": "area",
          "sizeref": 0.0024875671374577283,
          "symbol": "circle"
         },
         "mode": "markers",
         "name": "2019",
         "orientation": "v",
         "showlegend": true,
         "type": "scatter",
         "x": [
          40.68333333333333,
          180.26666666666668,
          22.35
         ],
         "xaxis": "x",
         "y": [
          7700699,
          4854750,
          4141130
         ],
         "yaxis": "y"
        },
        {
         "customdata": [
          [
           "Mind Reading"
          ],
          [
           "Behavior and Belief"
          ],
          [
           "How to Talk to Aliens"
          ],
          [
           "Should I Die?"
          ],
          [
           "The Stanford Prison Experiment"
          ],
          [
           "The Stilwell Brain"
          ],
          [
           "Moral Licensing"
          ],
          [
           "The Origins of Disgust"
          ],
          [
           "The Cognitive Tradeoff Hypothesis"
          ]
         ],
         "hovertemplate": "Year=2018<br>Video Length (mins)=%{x}<br>Total Views=%{y}<br>Like Percentage=%{marker.size}<br>Video Title=%{customdata[0]}<extra></extra>",
         "legendgroup": "2018",
         "marker": {
          "color": "#ab63fa",
          "opacity": 0.4,
          "size": [
           0,
           0,
           0,
           0,
           0.9687555619591657,
           0,
           0,
           0.9849197096762062,
           0.950253807106599
          ],
          "sizemode": "area",
          "sizeref": 0.0024875671374577283,
          "symbol": "circle"
         },
         "mode": "markers",
         "name": "2018",
         "orientation": "v",
         "showlegend": true,
         "type": "scatter",
         "x": [
          22.366666666666667,
          28.45,
          26.116666666666667,
          31.083333333333332,
          34.46666666666667,
          26.533333333333335,
          28.466666666666665,
          12.733333333333333,
          24.366666666666667
         ],
         "xaxis": "x",
         "y": [
          0,
          0,
          0,
          0,
          0,
          0,
          0,
          764069,
          15580825
         ],
         "yaxis": "y"
        },
        {
         "customdata": [
          [
           "The Electric Brain - Mind Field S2 (Ep 8)"
          ],
          [
           "Divergent Minds - Mind Field S2 (Ep 7)"
          ],
          [
           "The Power of Suggestion - Mind Field S2 (Ep 6)"
          ],
          [
           "How to Make a Hero - Mind Field S2 (Ep 5)"
          ],
          [
           "Uncut False Confession - Mind Field S2"
          ],
          [
           "Uncut Shaman Song - Mind Field S2"
          ],
          [
           "Your Brain on Tech - Mind Field S2 (Ep 4)"
          ],
          [
           "Interrogation - Mind Field S2 (Ep 3)"
          ],
          [
           "The Psychedelic Experience - Mind Field S2 (Ep 2)"
          ],
          [
           "The Greater Good - Mind Field S2 (Ep 1)"
          ],
          [
           "Mind Field Season 2 - Official Trailer"
          ],
          [
           "Which Way Is Down?"
          ],
          [
           "The Napkin Ring Problem"
          ],
          [
           "How Much of the Earth Can You See at Once?"
          ],
          [
           "Vsauce Live Stream!"
          ],
          [
           "Do You Know Yourself? - Mind Field (Ep 8)"
          ],
          [
           "In Your Face - Mind Field (Ep 7)"
          ],
          [
           "Touch - Mind Field (Ep 6)"
          ],
          [
           "Freedom of Choice - Mind Field (Ep 5)"
          ],
          [
           "Showing My Desk to Adam Savage"
          ],
          [
           "Artificial Intelligence - Mind Field (Ep 4)"
          ],
          [
           "Destruction - Mind Field (Ep 3)"
          ],
          [
           "The Brachistochrone"
          ],
          [
           "Conformity - Mind Field (Ep 2)"
          ],
          [
           "Mind Field - Official Trailer"
          ]
         ],
         "hovertemplate": "Year=2017<br>Video Length (mins)=%{x}<br>Total Views=%{y}<br>Like Percentage=%{marker.size}<br>Video Title=%{customdata[0]}<extra></extra>",
         "legendgroup": "2017",
         "marker": {
          "color": "#FFA15A",
          "opacity": 0.4,
          "size": [
           0,
           0,
           0,
           0,
           0,
           0,
           0,
           0,
           0,
           0.9656400707367936,
           0.6780922014082635,
           0.9811716913526713,
           0.9514159953492235,
           0.9704035931455599,
           0,
           0,
           0,
           0,
           0,
           0.9797195853739261,
           0,
           0,
           0.9881882577680208,
           0,
           0.9019995126268132
          ],
          "sizemode": "area",
          "sizeref": 0.0024875671374577283,
          "symbol": "circle"
         },
         "mode": "markers",
         "name": "2017",
         "orientation": "v",
         "showlegend": true,
         "type": "scatter",
         "x": [
          27.733333333333334,
          26.216666666666665,
          28.816666666666666,
          30.266666666666666,
          14.3,
          16.85,
          27.516666666666666,
          32.11666666666667,
          33.3,
          34.63333333333333,
          1.65,
          26.183333333333334,
          10.733333333333333,
          26.516666666666666,
          98.21666666666667,
          25.783333333333335,
          24.566666666666666,
          21.6,
          22.433333333333334,
          20.85,
          25,
          25.583333333333332,
          25.95,
          23.183333333333334,
          1.2833333333333332
         ],
         "xaxis": "x",
         "y": [
          0,
          0,
          0,
          0,
          0,
          0,
          0,
          0,
          0,
          10337316,
          6072714,
          20191590,
          11379175,
          14618163,
          1689345,
          0,
          0,
          0,
          0,
          8494461,
          0,
          0,
          12747365,
          0,
          29306034
         ],
         "yaxis": "y"
        },
        {
         "customdata": [
          [
           "Isolation - Mind Field (Ep 1)"
          ],
          [
           "Spinning"
          ],
          [
           "ANNOUNCING BRAIN CANDY LIVE"
          ],
          [
           "Is It Okay to Touch Mars?"
          ],
          [
           "Talking With Attenborough"
          ],
          [
           "Fixed Points"
          ],
          [
           "Alzheimer's and the Brain"
          ],
          [
           "How Earth Moves"
          ],
          [
           "How To Count Past Infinity"
          ],
          [
           "Math Magic"
          ]
         ],
         "hovertemplate": "Year=2016<br>Video Length (mins)=%{x}<br>Total Views=%{y}<br>Like Percentage=%{marker.size}<br>Video Title=%{customdata[0]}<extra></extra>",
         "legendgroup": "2016",
         "marker": {
          "color": "#19d3f3",
          "opacity": 0.4,
          "size": [
           0.9550699365562275,
           0.9836143388774967,
           0.9816138042118611,
           0.9835657170410255,
           0.9908549365692223,
           0.983992972330539,
           0.990900366274565,
           0.9703613420232526,
           0.9760267139144587,
           0.9883778877300395
          ],
          "sizemode": "area",
          "sizeref": 0.0024875671374577283,
          "symbol": "circle"
         },
         "mode": "markers",
         "name": "2016",
         "orientation": "v",
         "showlegend": true,
         "type": "scatter",
         "x": [
          34.766666666666666,
          17.516666666666666,
          3.0166666666666666,
          18.6,
          16.166666666666668,
          16.433333333333334,
          15.033333333333333,
          21.616666666666667,
          23.766666666666666,
          19.516666666666666
         ],
         "xaxis": "x",
         "y": [
          28785465,
          9203555,
          1328940,
          12014263,
          2080358,
          7846107,
          6773265,
          23058406,
          16449273,
          10566453
         ],
         "yaxis": "y"
        },
        {
         "customdata": [
          [
           "Supertasks"
          ],
          [
           "Juvenoia"
          ],
          [
           "Messages For The Future"
          ],
          [
           "The Zipf Mystery"
          ],
          [
           "The Banach–Tarski Paradox"
          ],
          [
           "Who Owns The Moon?"
          ],
          [
           "DINOSAUR SCIENCE! feat. Chris Pratt and Jack Horner"
          ],
          [
           "The Moon Terminator Illusion"
          ],
          [
           "1,2,3,4,5,6,7,8,9,10,11,12,13,14,15,16,17,18,19,20,21,22,23,24,25,26,27,28,29,30,31,32,33,34,35..."
          ],
          [
           "When Will We Run Out Of Names?"
          ],
          [
           "The Science of Awkwardness"
          ],
          [
           "Human Extinction"
          ],
          [
           "Would Headlights Work at Light Speed?"
          ],
          [
           "Did The Past Really Happen?"
          ],
          [
           "Is All Fair In Love And War?"
          ],
          [
           "Is Cereal Soup?"
          ]
         ],
         "hovertemplate": "Year=2015<br>Video Length (mins)=%{x}<br>Total Views=%{y}<br>Like Percentage=%{marker.size}<br>Video Title=%{customdata[0]}<extra></extra>",
         "legendgroup": "2015",
         "marker": {
          "color": "#FF6692",
          "opacity": 0.4,
          "size": [
           0.9828950610764953,
           0.9888948656977533,
           0.9844197312113254,
           0.9888506200358904,
           0.9725040768856177,
           0.9799068454125462,
           0.9851525398673245,
           0.9881101008582429,
           0.9852690957232487,
           0.9854324214314788,
           0.992047558717474,
           0.9838883870320184,
           0.9869167283117938,
           0.9830812208386579,
           0.9857085124361659,
           0.9828221882054429
          ],
          "sizemode": "area",
          "sizeref": 0.0024875671374577283,
          "symbol": "circle"
         },
         "mode": "markers",
         "name": "2015",
         "orientation": "v",
         "showlegend": true,
         "type": "scatter",
         "x": [
          21.15,
          23.166666666666668,
          22.2,
          21.083333333333332,
          24.233333333333334,
          11.8,
          9.6,
          11.75,
          9.3,
          10.883333333333333,
          13.933333333333334,
          8.183333333333334,
          12.383333333333333,
          11.933333333333334,
          9.983333333333333,
          8.366666666666667
         ],
         "xaxis": "x",
         "y": [
          10748430,
          7525626,
          18962561,
          18971934,
          32035854,
          8361131,
          3876050,
          5875871,
          15518458,
          11963480,
          10810414,
          11768956,
          7865992,
          13702494,
          6117382,
          6160950
         ],
         "yaxis": "y"
        },
        {
         "customdata": [
          [
           "Is Earth Actually Flat?"
          ],
          [
           "Misnomers"
          ],
          [
           "Why Are We Morbidly Curious?"
          ],
          [
           "Spooky Coincidences?"
          ],
          [
           "What Is The Earth Worth?"
          ],
          [
           "Dord."
          ],
          [
           "What Is The Speed of Dark?"
          ],
          [
           "What is Random?"
          ],
          [
           "What If The Earth Stopped Spinning?"
          ],
          [
           "Some Surprising Things"
          ],
          [
           "Why Don't We All Have Cancer?"
          ],
          [
           "The Web Is Not The Net"
          ],
          [
           "How Many Things Are There?"
          ],
          [
           "Where Is This Video?"
          ],
          [
           "What if the Moon was a Disco Ball?"
          ],
          [
           "Risk."
          ],
          [
           "What Is The Resolution Of The Eye?"
          ],
          [
           "DISTORTIONS"
          ],
          [
           "What's The Brightest Thing In the Universe?"
          ],
          [
           "What Does Human Taste Like?"
          ],
          [
           "Why Is Your BOTTOM in the MIDDLE?"
          ]
         ],
         "hovertemplate": "Year=2014<br>Video Length (mins)=%{x}<br>Total Views=%{y}<br>Like Percentage=%{marker.size}<br>Video Title=%{customdata[0]}<extra></extra>",
         "legendgroup": "2014",
         "marker": {
          "color": "#B6E880",
          "opacity": 0.4,
          "size": [
           0.9259229089450813,
           0.9894875047683259,
           0.9883287712895377,
           0.9837095406373773,
           0.9818426874856954,
           0.989104103848316,
           0.9839422492176709,
           0.989581654399255,
           0.9873771646070798,
           0.9864178785793931,
           0.9878409924877469,
           0.9902047207204986,
           0.9811509937039278,
           0.9897742747075291,
           0.972194502641052,
           0.986557712155676,
           0.9820154345151549,
           0.9919359634620646,
           0.9867314967533861,
           0.9679576219275466,
           0.9875571706899172
          ],
          "sizemode": "area",
          "sizeref": 0.0024875671374577283,
          "symbol": "circle"
         },
         "mode": "markers",
         "name": "2014",
         "orientation": "v",
         "showlegend": true,
         "type": "scatter",
         "x": [
          10.516666666666667,
          11.433333333333334,
          13.85,
          14.75,
          13.283333333333333,
          12.95,
          13.533333333333333,
          11.2,
          9.733333333333333,
          9.116666666666667,
          9.383333333333333,
          10.916666666666666,
          8.783333333333333,
          7.666666666666667,
          6.083333333333333,
          8.1,
          9.733333333333333,
          11.583333333333334,
          11.933333333333334,
          10.216666666666667,
          10.366666666666667
         ],
         "xaxis": "x",
         "y": [
          30902486,
          8138991,
          7289180,
          23457170,
          11597233,
          8225960,
          17763276,
          8792732,
          16568172,
          6898278,
          9688801,
          6092270,
          6995909,
          6511093,
          8263694,
          7517842,
          11884908,
          9916652,
          15895833,
          13085794,
          5924299
         ],
         "yaxis": "y"
        },
        {
         "customdata": [
          [
           "m͏̺͓̲̥̪í͇͔̠ś̷͎̹̲̻̻̘̝t̞̖͍͚̤k̥̞à̸͕̮͍͉̹̰͚̰ẹ̶̢̪s͏̨͈̙̹̜͚̲ ̛̬͓͟"
          ],
          [
           "Moving Illusions"
          ],
          [
           "Why Are Bad Words Bad?"
          ],
          [
           "What Does Earth Look Like?"
          ],
          [
           "Cruel Bombs"
          ],
          [
           "Names"
          ],
          [
           "Our Narrow Slice"
          ],
          [
           "How People Disappear"
          ],
          [
           "last words"
          ],
          [
           "Why Do We Clap?"
          ],
          [
           "Why Do We Get Bored?"
          ],
          [
           "INSIDE a Spherical Mirror"
          ],
          [
           "What Will We Miss?"
          ],
          [
           "Where Do Deleted Files Go?"
          ],
          [
           "Are We Ready For Aliens?"
          ],
          [
           "Why Are Things Creepy?"
          ],
          [
           "What is the Shortest Poem?"
          ],
          [
           "What Is The Greatest Honor?"
          ],
          [
           "Is Anything Real?"
          ],
          [
           "Why Do We Feel Nostalgia?"
          ],
          [
           "If"
          ],
          [
           "What if You Were Born in Space?"
          ],
          [
           "Why Do We Kiss?"
          ],
          [
           "How Much Money is There on Earth?"
          ],
          [
           "How Big Can a Person Get?"
          ],
          [
           "SPACE STRAW"
          ],
          [
           "What If The Sun Disappeared?"
          ],
          [
           "Why Do We Play Games?"
          ],
          [
           "Why Do We Wear Clothes?"
          ],
          [
           "Should You Eat Yourself?"
          ],
          [
           "Is Your Red The Same as My Red?"
          ],
          [
           "A Defense of Comic Sans"
          ],
          [
           "Will We Ever Visit Other Stars?"
          ],
          [
           "What's The Most Dangerous Place on Earth?"
          ],
          [
           "The Science of the Friend Zone"
          ],
          [
           "This Is Only Red"
          ]
         ],
         "hovertemplate": "Year=2013<br>Video Length (mins)=%{x}<br>Total Views=%{y}<br>Like Percentage=%{marker.size}<br>Video Title=%{customdata[0]}<extra></extra>",
         "legendgroup": "2013",
         "marker": {
          "color": "#FF97FF",
          "opacity": 0.4,
          "size": [
           0.9912408904596457,
           0.9772584402618053,
           0.9810737062537678,
           0.9822141455138228,
           0.9826990306197136,
           0.9884533516393968,
           0.9829479358774295,
           0.9897626417433275,
           0.9879211644726487,
           0.9843121269471539,
           0.9875315836421293,
           0.9836725180632736,
           0.9846138368265152,
           0.9846615061301248,
           0.9847923599376821,
           0.9830194007314074,
           0.9767331243133156,
           0.989062179133837,
           0.9880107019049582,
           0.9846074798818966,
           0.9890402459138352,
           0.9817574559814101,
           0.9638437296783553,
           0.983243922314274,
           0.9815541891991999,
           0.985332227152392,
           0.9858551667407316,
           0.9834519915335771,
           0.9846864516932464,
           0.9879088258084803,
           0.9840218574101474,
           0.9824571369062834,
           0.982823284097503,
           0.9817791351528552,
           0.9851804620901681,
           0.9845802847926992
          ],
          "sizemode": "area",
          "sizeref": 0.0024875671374577283,
          "symbol": "circle"
         },
         "mode": "markers",
         "name": "2013",
         "orientation": "v",
         "showlegend": true,
         "type": "scatter",
         "x": [
          9.766666666666667,
          10.783333333333333,
          10.766666666666667,
          10.8,
          8.4,
          7.9,
          10.233333333333333,
          13.383333333333333,
          8.366666666666667,
          10.5,
          12.416666666666666,
          7.233333333333333,
          9.816666666666666,
          10.583333333333334,
          10.616666666666667,
          8.866666666666667,
          8.65,
          9.983333333333333,
          11.533333333333333,
          15.366666666666667,
          13.383333333333333,
          13.383333333333333,
          12.266666666666667,
          15.516666666666667,
          15.733333333333333,
          10.216666666666667,
          11.716666666666667,
          12.2,
          9.7,
          7.533333333333333,
          9.583333333333334,
          9.883333333333333,
          12.833333333333334,
          9.483333333333333,
          9.216666666666667,
          8.066666666666666
         ],
         "xaxis": "x",
         "y": [
          10827840,
          14266894,
          16971795,
          12830548,
          15707821,
          7368215,
          10564091,
          16277935,
          11673456,
          6559912,
          9572364,
          12711973,
          25774238,
          14582378,
          12444596,
          19240366,
          6062274,
          6339115,
          16091960,
          6536189,
          14612860,
          14645628,
          25220065,
          10100502,
          17013286,
          10561207,
          17419078,
          7141535,
          11810709,
          11751084,
          24542703,
          8142273,
          13456271,
          20846114,
          10647368,
          4702343
         ],
         "yaxis": "y"
        },
        {
         "customdata": [
          [
           "How Many Calories are on a Smudgy Screen?"
          ],
          [
           "Why Don't We Taxidermy Humans?"
          ],
          [
           "Is The 5-Second Rule True?"
          ],
          [
           "Will We Ever Run Out of New Music?"
          ],
          [
           "How Many Photos Have Been Taken?"
          ],
          [
           "Why Do We Have Two Nostrils?"
          ],
          [
           "What Can You Do Without a Brain?"
          ],
          [
           "Why Are Things Cute?"
          ],
          [
           "How Much Does a Shadow Weigh?"
          ],
          [
           "How Hot Can It Get?"
          ],
          [
           "Why Did The Chicken Cross The Road?"
          ],
          [
           "Carrot Sharpener. LÜT #27"
          ],
          [
           "This Is Not Yellow"
          ],
          [
           "Guns in Space"
          ],
          [
           "What If Everyone JUMPED At Once?"
          ],
          [
           "How Secure is Your Password? And 21 Other DONGs"
          ],
          [
           "What Color Is A Mirror?"
          ],
          [
           "EAR Earrings -- LÜT #26"
          ],
          [
           "You Don't Type Alone."
          ],
          [
           "Slow-Mo Hand in MOUSETRAP! ... And DONGs"
          ],
          [
           "SCIENCE! What is the Rarest Precious Metal?"
          ],
          [
           "TROLL LIPS and more! IMG! #51"
          ],
          [
           "We Are All Related"
          ],
          [
           "Top Hats for CATS! LÜT #25"
          ],
          [
           "How High Can We Build?"
          ],
          [
           "MATH MAGIC and a NEW LEANBACK"
          ],
          [
           "Why Don't Any Animals Have Wheels?"
          ],
          [
           "Why Is Yawning Contagious?"
          ],
          [
           "THE GAME OF LIFE and other DONGs!"
          ],
          [
           "ZOMBIE BOTTLE-OPENER! ... LÜT #24"
          ],
          [
           "Why Are We Ticklish? Why do We Laugh?"
          ],
          [
           "8 Surprising Facts"
          ],
          [
           "How Many 5 Year-Olds Could You Fight? -- And 18 Other DONGs!"
          ],
          [
           "How Many Dots? IMG! #50"
          ],
          [
           "How Much Is A Bird in The Hand Worth?"
          ],
          [
           "Water Is Amazing -- World Water Day!"
          ],
          [
           "Unicorn FARTS on Your LIPS ?? -- LÜT #23"
          ],
          [
           "Amazing Art and MORE! IMG! #49"
          ],
          [
           "Travel INSIDE a Black Hole"
          ],
          [
           "DON'T SHOOT THE PUPPY!! .... and more: DONG #23"
          ],
          [
           "EPIC LEAPS."
          ],
          [
           "SCARIEST DOGS and MORE! IMG! #48"
          ],
          [
           "What is Cool?"
          ],
          [
           "Long Distance KISSING and more! LÜT #22"
          ],
          [
           "YOU LIVE IN THE PAST"
          ],
          [
           "Picture of Everything? -- DONG"
          ],
          [
           "LEGO TACO! And Other Great Images -- IMG! Episode #47"
          ],
          [
           "Dog BUTT Floss! And More: LÜT #21"
          ],
          [
           "FART SCIENCE"
          ],
          [
           "200 VIDEOS"
          ],
          [
           "What Is Consciousness?"
          ],
          [
           "REAL CYCLOPS SHARK and more great images -- IMG! #46"
          ]
         ],
         "hovertemplate": "Year=2012<br>Video Length (mins)=%{x}<br>Total Views=%{y}<br>Like Percentage=%{marker.size}<br>Video Title=%{customdata[0]}<extra></extra>",
         "legendgroup": "2012",
         "marker": {
          "color": "#FECB52",
          "opacity": 0.4,
          "size": [
           0.9839989151806903,
           0.9833535418855927,
           0.9837536416605972,
           0.9816802335869758,
           0.9865472139667772,
           0.989739238713773,
           0.9855368224964156,
           0.989095985814351,
           0.9868440655046355,
           0.9844820955957201,
           0.9768628375369949,
           0.9649177200095397,
           0.9661756158528858,
           0.9706269381426473,
           0.9767420203478221,
           0.9819193324061196,
           0.981170307189401,
           0.9778390671118208,
           0.9857123481592622,
           0.9826430304775223,
           0.9751939882016009,
           0.9699573194390555,
           0.9912687552223984,
           0.9775908523362029,
           0.9712797040226506,
           0.9852830188679246,
           0.9773940965365661,
           0.9892897147504258,
           0.9862859148573434,
           0.9785566759810472,
           0.9885695074802487,
           0.98717152539967,
           0.9697446714730976,
           0.972972972972973,
           0.9904651771687903,
           0.9859294762067785,
           0.9854710556186153,
           0.982776617954071,
           0.9800088700702074,
           0.9868054651919324,
           0.9884251455285101,
           0.9835616438356164,
           0.9877228924804613,
           0.9820729927007299,
           0.9881854353095416,
           0.985820118069221,
           0.9791222415075627,
           0.9880410368481758,
           0.9831886580701312,
           0.985924713584288,
           0.9870077242944334,
           0.9794137986063088
          ],
          "sizemode": "area",
          "sizeref": 0.0024875671374577283,
          "symbol": "circle"
         },
         "mode": "markers",
         "name": "2012",
         "orientation": "v",
         "showlegend": true,
         "type": "scatter",
         "x": [
          6.366666666666666,
          11.15,
          10.533333333333333,
          11.8,
          6.45,
          9.383333333333333,
          7.933333333333334,
          5.833333333333333,
          7.666666666666667,
          10.05,
          8.283333333333333,
          4.916666666666667,
          7.15,
          5.483333333333333,
          7.216666666666667,
          4.566666666666666,
          5.033333333333333,
          5.216666666666667,
          5.333333333333333,
          5.716666666666667,
          7.183333333333334,
          4.983333333333333,
          5.816666666666666,
          5.166666666666667,
          10.116666666666667,
          3.8,
          5.85,
          5.75,
          5.55,
          5.433333333333334,
          3.9166666666666665,
          3.2666666666666666,
          4.9,
          3.533333333333333,
          5.933333333333334,
          5.916666666666667,
          4.466666666666667,
          5.016666666666667,
          10.75,
          4.983333333333333,
          8.133333333333333,
          5.05,
          5.5,
          4.683333333333334,
          7.183333333333334,
          3.8333333333333335,
          4.316666666666666,
          4.966666666666667,
          7.4,
          3.9,
          7.266666666666667,
          4.183333333333334
         ],
         "xaxis": "x",
         "y": [
          4678771,
          9044430,
          13954801,
          13973894,
          4582576,
          8060142,
          13662769,
          6795073,
          10209554,
          17142486,
          9590253,
          5514086,
          20186103,
          18915241,
          32634196,
          6488216,
          16417860,
          2830036,
          10807093,
          2440257,
          11774213,
          2260552,
          6756315,
          1883151,
          25554979,
          950037,
          5754580,
          4467420,
          4938656,
          2477942,
          3637135,
          4993392,
          7744122,
          2295111,
          2401660,
          2058231,
          1697493,
          1440294,
          29336627,
          3935275,
          2525181,
          1206840,
          3900989,
          2378264,
          7137528,
          2255851,
          2830544,
          1484714,
          2926041,
          1229029,
          8371607,
          2613439
         ],
         "yaxis": "y"
        },
        {
         "customdata": [
          [
           "Rainbow Science! ... AND Why Headphones Get So Tangled."
          ],
          [
           "What's Left?"
          ],
          [
           "How Much Money is LOVE Worth?"
          ],
          [
           "Where to BUY Uranium and other DONGS!"
          ],
          [
           "DOUBLE PUPILS and more! IMG #45"
          ],
          [
           "SOUNDS."
          ],
          [
           "Buy REAL Dino Teeth! ... and more! LÜT #20"
          ],
          [
           "Cool Things on YouTube and More! DONG #19"
          ],
          [
           "‌‌"
          ],
          [
           "ENGLISH."
          ],
          [
           "Things To Do Online #18 -- DONG!"
          ],
          [
           "What is Déjà vu?"
          ],
          [
           "Fuzzy Pancakes and More! LÜT #19"
          ],
          [
           "How Much Does The Internet Weigh?"
          ],
          [
           "Crazy BABY Eyes ... and More: IMG! #44"
          ],
          [
           "Shepard Tone Illusion .... and more!"
          ],
          [
           "Why Do We Dream?"
          ],
          [
           "How Old Can We Get?"
          ],
          [
           "LONELY."
          ],
          [
           "Is This a PANDA?? --- IMG! #43"
          ],
          [
           "MAKE YOUR CAT A DJ -- and more! LÜT #18"
          ],
          [
           "UGLY DANCE -- DONG"
          ],
          [
           "FIRST Photo on the INTERNET ... and other things too."
          ],
          [
           "4 FACTS."
          ],
          [
           "WATER."
          ],
          [
           "BEST IMAGES of the Week -- IMG! #42"
          ],
          [
           "You Can't Touch Anything"
          ],
          [
           "Mind Blowing WATCHES ... and more! LÜT #17"
          ],
          [
           "Fun GEEKY Games -- and more! [DONG]"
          ],
          [
           "STOPPED CLOCK ILLUSION"
          ],
          [
           "COVERED IN CHICKS -- IMG! #41"
          ],
          [
           "WHY IS THERE A MOON? .... and more!"
          ],
          [
           "WHAT'S A DONG?"
          ],
          [
           "SOAP FOR ADULTS ... LÜT #16"
          ],
          [
           "WET DOGS ---- IMG! #40"
          ],
          [
           "What Is Video ??"
          ],
          [
           "HACK Wheel of Fortune!"
          ],
          [
           "BIGGEST EXPLOSIONS"
          ],
          [
           "WHAT IS THIS?? .......... IMG! #39"
          ],
          [
           "KNOWLEDGE! --- LEANBACK #7"
          ],
          [
           "HAWAII FACTS!"
          ],
          [
           "Best Doorstop EVER? -- LÜT #15"
          ],
          [
           "SPOT THE FAKE !! -------- DONG"
          ],
          [
           "REAL NYAN CAT ... and more! IMG #38"
          ],
          [
           "INSANE BEATBOX and Other MOUTH NOISES -- BOAT"
          ],
          [
           "HE'S FOLLOWING YOU! -- DONG!"
          ],
          [
           "BUBBLE FAIL !! Best Images of the Week #37"
          ],
          [
           "COMPLEXITY! -- Vsauce Leanback #6"
          ],
          [
           "HOW TO: Animated Wallpaper! -- Up All Knight #6"
          ],
          [
           "Human Cow BREAST MILK??? -- Mind Blow #18"
          ],
          [
           "LICK DOOR KNOBS! ... IMG! #36"
          ],
          [
           "12 MORE Amazing Free Games! -- DONG!"
          ],
          [
           "6 WORST Villains EVER!"
          ],
          [
           "HIDDEN RAGE FACE? ... and more! IMG! #35"
          ],
          [
           "Awesome Atmosphere SCIENCE!"
          ],
          [
           "HOT BOBAS! -- IMG! #34"
          ],
          [
           "BRA GUN??? -- Mind Blow #17"
          ],
          [
           "15 AWESOME YouTube Tricks"
          ],
          [
           "5 AMAZING Experiments and \"Sauciest of the Week\" !"
          ],
          [
           "How to HACK Flash Games -- And More! *DONG*"
          ],
          [
           "Gaga Tea FETISH ?? -- IMG! #33"
          ],
          [
           "FRENCH KISS A ROBOT!  Mind Blow #16"
          ],
          [
           "HOT & COLD: SCIENCE!"
          ],
          [
           "Princess! NOOOO! ... IMG! #32"
          ],
          [
           "RIDDLE CHALLENGE - 54321 #2"
          ],
          [
           "WHACK REBECCA BLACK! .. and more: DONG!"
          ],
          [
           "IMG! Montage Music =D"
          ],
          [
           "Nintendo FURNITURE??? -- Mind Blow #15"
          ],
          [
           "CREEPY WOODY !!!  -- IMG! #31"
          ],
          [
           "How Much CAFFEINE KILLS?? .. and more: DONG!"
          ],
          [
           "Is Time Travel Possible?: Mind Blow (Special Edition)"
          ],
          [
           "Beer Bath !!! -- Best Images of the Week, IMG! #30"
          ],
          [
           "RIDDLE Challenge!!! -- 54321"
          ],
          [
           "Amsterdam! And Illusions!"
          ],
          [
           "Stuffed GIRL'S HEAD? -- Mind Blow #14"
          ],
          [
           "10 AMAZING Flash Games - DONG!"
          ],
          [
           "SPOOKED DOG! And More ... IMG! #29"
          ],
          [
           "How to BLOW UP YOUTUBE !!!  -- Up All Knight # 5"
          ],
          [
           "What IS THIS???? Mind Blow #13"
          ],
          [
           "BEST Images of the WEEK! ... IMG! #28"
          ],
          [
           "BEST CONSOLE MODS and other WTFs --- #8"
          ],
          [
           "16 CLEVER Flash Games!"
          ],
          [
           "WEIRDEST Headphone Site! ... and MORE! IMG! #27"
          ],
          [
           "ZOMBIE Bugs!!!: Mind Blow 12"
          ],
          [
           "12 CRAZIEST Screensavers!"
          ],
          [
           "Too HOT for Disney? ... and Mario Goes Crazy! IMG! #26"
          ],
          [
           "IMPOSSIBLE Waterfall!: Mind Blow 11"
          ],
          [
           "WIN Videogames BY KISSING??!! And 10 More Awesome FLASH GAMES."
          ],
          [
           "HOT SPIDER COSPLAY .... AND MORE! IMG! #25"
          ],
          [
           "How To SLEEP With Mario!! -- Mind Blow 10"
          ],
          [
           "REAL Human HORNS! ... and more REAL WORLD WTFs"
          ],
          [
           "WEIRDEST TAN LINES EVER! IMG! #24"
          ],
          [
           "BEST IMAGES OF THE WEEK:  IMG! Episode 23"
          ],
          [
           "AMAZING CD BUBBLE!!! -- Mind Blow 9"
          ],
          [
           "HACK YOUTUBE COMMENTS ... and other pranks! -- Up All Knight #4"
          ],
          [
           "MAKE Harry & Hermione KISS .. and other fun free games :)"
          ],
          [
           "THROW BABIES !!! .... IMG! #22"
          ],
          [
           "BANNED Sega Ads!!!: Mind Blow 8"
          ],
          [
           "Virtual Girlfriends!! And Other VSAUCE WTFs"
          ],
          [
           "What's WRONG With This Cat ?!?! IMG! #21"
          ],
          [
           "Mega Man's GUTS!!! Mind Blow 7"
          ],
          [
           "EPIC NOSE PICKING and why Football RULES -- IMG! #20"
          ],
          [
           "10 BAD@SS Online Games!"
          ],
          [
           "WORST PARENTS EVER ... and more! IMG! 19"
          ],
          [
           "Homemade FLAMETHROWER: Mind Blow 6"
          ],
          [
           "FACE PUNCH !!!! ... IMG! 18"
          ]
         ],
         "hovertemplate": "Year=2011<br>Video Length (mins)=%{x}<br>Total Views=%{y}<br>Like Percentage=%{marker.size}<br>Video Title=%{customdata[0]}<extra></extra>",
         "legendgroup": "2011",
         "marker": {
          "color": "#636efa",
          "opacity": 0.4,
          "size": [
           0.9898183218848302,
           0.9901528531313927,
           0.9901562256561336,
           0.9846668349318526,
           0.9531406381360342,
           0.9862958851256666,
           0.9890357042451504,
           0.9870547794924304,
           0.9901981917395485,
           0.9865397290369828,
           0.988039713691988,
           0.9921551582261121,
           0.9838773102634684,
           0.988503608404992,
           0.9866792152320278,
           0.9883469012605042,
           0.9900590787207604,
           0.9860839524109183,
           0.9923993292244703,
           0.980235217249265,
           0.978075195914414,
           0.9832282302428552,
           0.9912981455064194,
           0.9759462987134067,
           0.9885634505703422,
           0.9767841085588164,
           0.9866187866187867,
           0.9806371018113679,
           0.9875297585307788,
           0.9897721989772199,
           0.9884214146509228,
           0.9806781701444622,
           0.9818018710752274,
           0.977662469151427,
           0.9914783607813098,
           0.986992405698864,
           0.9685958368427385,
           0.9694110306097687,
           0.9831952386509512,
           0.9729555698647778,
           0.9877133793242359,
           0.9815344603381014,
           0.9797765521142695,
           0.9184050895102825,
           0.9744821092278719,
           0.988951948543322,
           0.9763281034957335,
           0.9419759539989545,
           0.985001485001485,
           0.9623768289041504,
           0.9731717509402423,
           0.9843684431389006,
           0.7734594885921313,
           0.9548377101247192,
           0.9494128274616079,
           0.9779495339849966,
           0.9656211051100956,
           0.9802764180823496,
           0.9197273759939417,
           0.9779069129981909,
           0.9833359784161244,
           0.950507614213198,
           0.964561403508772,
           0.873423533733317,
           0.9638715432649421,
           0.9793141746494516,
           0.9662430500397141,
           0.9748040313549832,
           0.9612366603892027,
           0.9867989376659897,
           0.9564419055391207,
           0.9456329419334084,
           0.9630577907827359,
           0.9812149304708465,
           0.9742059262417395,
           0.9870709763412195,
           0.9800326738064985,
           0.9873361964541351,
           0.9745434421693414,
           0.9851158508516188,
           0.9837235228539576,
           0.9807179134027718,
           0.975671750181554,
           0.9752042007001167,
           0.9534127473129321,
           0.9522635589421784,
           0.9538379908029714,
           0.9849509638146771,
           0.9818489835430784,
           0.9717314487632509,
           0.898302943529709,
           0.9649763644177052,
           0.9798096336890684,
           0.9717597471022128,
           0.9782834580216127,
           0.9768020821545773,
           0.9684808144087705,
           0.9370603818397735,
           0.9700832908380078,
           0.9691584967320261,
           0.9735842541436464,
           0.9348687936567869,
           0.9614117647058823,
           0.8180997517490408,
           0.9727937814357568,
           0.9623837700760778
          ],
          "sizemode": "area",
          "sizeref": 0.0024875671374577283,
          "symbol": "circle"
         },
         "mode": "markers",
         "name": "2011",
         "orientation": "v",
         "showlegend": true,
         "type": "scatter",
         "x": [
          6.166666666666667,
          4.9,
          5.4,
          2.6833333333333336,
          4.233333333333333,
          6.183333333333334,
          2.783333333333333,
          3.5166666666666666,
          6.5,
          6.966666666666667,
          3.6666666666666665,
          6.6,
          2.9,
          4.183333333333334,
          3.466666666666667,
          2.4333333333333336,
          6.533333333333333,
          4.566666666666666,
          4.733333333333333,
          4.75,
          4.133333333333334,
          4.15,
          4.133333333333334,
          3.4,
          4.35,
          3.3166666666666664,
          5.483333333333333,
          3.2666666666666666,
          2.716666666666667,
          3.1333333333333333,
          3.2333333333333334,
          5.833333333333333,
          3.033333333333333,
          3.1,
          3.6666666666666665,
          6.033333333333333,
          3.283333333333333,
          6.083333333333333,
          3.8166666666666664,
          2.5166666666666666,
          4.4,
          2.8666666666666667,
          2.966666666666667,
          2.3,
          3.05,
          2.8166666666666664,
          2.4,
          1.2,
          2.45,
          3.283333333333333,
          3.15,
          3.0833333333333335,
          5.05,
          2.8333333333333335,
          1.3166666666666667,
          2.6666666666666665,
          3.9166666666666665,
          3.7,
          1.9333333333333333,
          2.8166666666666664,
          3.216666666666667,
          5.333333333333333,
          1.0833333333333333,
          2.75,
          2.4333333333333336,
          3.033333333333333,
          1.0166666666666666,
          3.716666666666667,
          3.3833333333333333,
          3.4333333333333336,
          3.15,
          2.6666666666666665,
          2.8833333333333333,
          3.1666666666666665,
          3.466666666666667,
          2.716666666666667,
          3.183333333333333,
          2.7666666666666666,
          3.5166666666666666,
          2.9166666666666665,
          2.8833333333333333,
          3.216666666666667,
          2.9,
          3.2,
          3.1666666666666665,
          3.5833333333333335,
          3.6333333333333333,
          3.25,
          3.65,
          3.3333333333333335,
          4.7,
          4.016666666666667,
          3.25,
          2.8166666666666664,
          3.9833333333333334,
          3.4333333333333336,
          3.3166666666666664,
          3.0166666666666666,
          2.716666666666667,
          2.7,
          3,
          2.8166666666666664,
          2.2333333333333334,
          2.45,
          3.283333333333333,
          2.9333333333333336
         ],
         "xaxis": "x",
         "y": [
          4330265,
          4182821,
          3822242,
          2139904,
          8124564,
          3283037,
          1500845,
          1709843,
          10894931,
          4034203,
          3009405,
          9922812,
          2163159,
          4761152,
          1574936,
          2003532,
          8628658,
          10997591,
          5575698,
          1814607,
          1804821,
          1925700,
          2825646,
          1366076,
          6338428,
          1932507,
          6580948,
          2202322,
          1423601,
          4897193,
          956772,
          3577304,
          1014696,
          2777302,
          996441,
          3355593,
          2904343,
          6873135,
          1181250,
          492178,
          1316371,
          1466704,
          3046159,
          2381685,
          1258017,
          1856960,
          2477267,
          438862,
          701565,
          1628025,
          1991328,
          1869871,
          1651037,
          4909663,
          376391,
          1156178,
          2639524,
          1478029,
          430613,
          2636906,
          722138,
          2792336,
          455344,
          9124084,
          397684,
          1345351,
          365886,
          1129806,
          2507643,
          1861112,
          2883880,
          1186497,
          436430,
          431341,
          1068764,
          2643776,
          885867,
          1038859,
          1340532,
          1125785,
          781814,
          2294989,
          1161437,
          1548352,
          5315632,
          4213780,
          2574707,
          869829,
          736051,
          1182617,
          3853172,
          2640205,
          1383238,
          1163419,
          1315655,
          1411487,
          1085136,
          3031114,
          1233073,
          1027570,
          1294093,
          1137631,
          970724,
          8006981,
          831685,
          1735809
         ],
         "yaxis": "y"
        },
        {
         "customdata": [
          [
           "BIGGEST Game Collection Ever... and More! -- Mind Blow 5"
          ],
          [
           "Craziest Xbox Game? 10 MORE WTFs"
          ],
          [
           "PANTIES For Trees! -- IMG! 17"
          ],
          [
           "Mario's SECRET BALLS ??!!  Mind Blow 4"
          ],
          [
           "Michael REVEALED !!!!"
          ],
          [
           "NERD WARS: John McClane (Die Hard) vs Indiana Jones"
          ],
          [
           "EPIC BATMAN GIRLS And More: IMG! 16"
          ],
          [
           "12 BEST Kinect HACKS"
          ],
          [
           "Who has the Deathly-est Hallows? Harry Potter or Dr Strange --NERD WARS"
          ],
          [
           "What IS THIS??? IMG! 15"
          ],
          [
           "7 Awesome WoW Facts"
          ],
          [
           "TRAVEL CATACLYSM! (Wackygamer Commercial/Machinima)"
          ],
          [
           "Make Strippers HOTTER and More! VSAUCE WTFs"
          ],
          [
           "BEST Images of the Week! IMG! episode 14"
          ],
          [
           "Street Fighter PUPPET SHOW: BLANKA!"
          ],
          [
           "Whip My MOVE Back and Forth -- Black Nerd Comedy"
          ],
          [
           "Demo Slam: ILLUSION TRICK!"
          ],
          [
           "Mario vs. Link: Who Would Win?? NERD WARS"
          ],
          [
           "Best PHOTOBOMBS: IMG! episode 12"
          ],
          [
           "11 MORE Video Game WTFs !!"
          ],
          [
           "Nerd Wars WTF 2: Snarf, Ewoks, Dr Doom, Flash, Sonic and more"
          ],
          [
           "BLOW YOUR MIND!"
          ],
          [
           "WEIRDEST Images of the Week: IMG! 11"
          ],
          [
           "NERD WARS: Blizzcon Kerrigan, Lich King, Diablo and Deathwing 1/2"
          ],
          [
           "Sexy Storm Troopers AND Tron Dogs: IMG! episode 10"
          ],
          [
           "Top 6 SCARIEST Online Games: DONG #1"
          ],
          [
           "NERD WARS! Punisher Vs Riddick (Vin Diesel)"
          ],
          [
           "Glee! Hot Dogs! IMG! 9"
          ],
          [
           "Top 4 WORST Video Games Coming out this Fall :)"
          ],
          [
           "Superheroes MAKING BABIES"
          ],
          [
           "If Medal Of Honor Came Out 60 Years Ago (PARODY COMMERCIAL DUB)"
          ],
          [
           ""
          ],
          [
           "SHARK MURDER and MORE. IMG! episode 8"
          ],
          [
           "NERD WARS: Captain America vs. xXx (Vin Diesel)"
          ],
          [
           "FAKE GAMES!"
          ],
          [
           "Cosplay, ILLUSIONS, and Pacman: IMG! 7"
          ],
          [
           "2010 Holiday/Christmas Game Guide: DC Universe Online, Dance Central, Cataclysm, AND MORE!"
          ],
          [
           "Top 7 Video Game Mods: V-LIST #6"
          ],
          [
           "BEST IMAGES OF THE WEEK: IMG! episode 6"
          ],
          [
           "JEFF VS. ADAM: Nerd Wars!"
          ],
          [
           "MARIO'S MISTAKES?  -- Chat with Black Nerd Comedy --"
          ],
          [
           "BEST IMAGES OF THE WEEK: IMG! episode 5"
          ],
          [
           "NERD WARS: WTF Suggestions!"
          ],
          [
           "If FACEBOOK was a VIDEO GAME ... (Fake Game Trailer)"
          ],
          [
           "BEST IMAGES OF THE WEEK: IMG! episode 4"
          ],
          [
           "NERD WARS: Lara Croft Vs. Elektra!"
          ],
          [
           "Top 5 WTF \"Dances\" in Video Games: V-LIST #5"
          ],
          [
           "Why Geeks are Sexy: The Wing Girls"
          ],
          [
           "BEST IMAGES OF THE WEEK: IMG! episode 3"
          ],
          [
           "NERD WARS: Catwoman Vs Samus?"
          ],
          [
           "6 MORE Tricks, Hacks, and Pranks -- \"Up All Knight\" Episode 3"
          ],
          [
           "JERRY BLOOP REVIEWS: MGS Peacewalker, Alpha Protocol, Crackdown 2, Dragon Quest IX"
          ],
          [
           "BEST IMAGES OF THE WEEK: IMG! episode 2"
          ],
          [
           "NERD WARS: Boba Fett vs. Deadpool"
          ],
          [
           "WACKYGAMER: Harry Potter: The Most Unbelievable Part"
          ],
          [
           "Justin Bieber: GAME TRAILER (Parody)"
          ],
          [
           "NERD WARS: Altair & Ezio Vs. Daredevil"
          ],
          [
           "PEACH GOES GAGA! Super Mario Bromance -- Black Nerd Comedy"
          ],
          [
           "JERRY BLOOP!!! Uninformed Video Game Reviews"
          ],
          [
           "BioShock Infinite Trailer HD [WITH REACTION]"
          ],
          [
           "Video Game Clichés IN REAL LIFE -- Episode 1"
          ],
          [
           "NERD WARS: Thor vs. Kratos -- Who Would Win?"
          ],
          [
           "Comic-Con WRAP UP: From The Wackygamer Podcast!"
          ],
          [
           "BEST IMAGES OF THE WEEK: IMG episode 1"
          ],
          [
           "7 Most ANNOYING Online Gamers: V-LIST #3"
          ],
          [
           "WoW CREEP !! -- Wackygamer Stand-Up [Comic-Con 2010]"
          ],
          [
           "5 Games That Will Get You Laid: V-LIST #2"
          ],
          [
           "StarCraft II Guest Pass GIVEAWAY!!!  GTA IV + SCII = ??????"
          ],
          [
           "SEXY BOBA FETT ??? Comic-Con Cosplay IMPROV COMMENTARY [PART 1]"
          ],
          [
           "StarCraft 2 REMIX by Mike Relm"
          ],
          [
           ""
          ],
          [
           "COMIC-CON 2010: Halo: Reach Exclusive HD Footage - Forge World Beyond the Canyon, LE Xbox and more."
          ],
          [
           "NERD WARS: Iron Man vs Master Chief: Who Would Win? -- Wackygamer"
          ],
          [
           "Top 5 Gratuitous B00BS in Gaming -- Wackygamer: V-LIST #4"
          ],
          [
           "3 Easiest Ways to Prank Noobs -- \"Up All Knight\""
          ],
          [
           "NERD WARS: Bowser VS The Hulk: Who Would Win? -- Wackygamer"
          ],
          [
           "9 More Video Game WTFs [CONTINUED]"
          ],
          [
           "Top 7 WoW Cataclysm Visual Changes -- Wackygamer"
          ],
          [
           "Comic-Con 2010 Stand-up Comedy FOR NERDS BY NERDS -- Cross Platform Comedy Will There !!"
          ],
          [
           "Make Chris Brown CRY! (Interactive)"
          ],
          [
           "Top 5 Video Game WTFs!!"
          ],
          [
           "What Kinectimals SHOULD Be Like -- Wackygamer"
          ],
          [
           "New Wonder Woman and New CHANNEL! (Part 2)"
          ],
          [
           "Mark and Michael - Vsauce BLOOPERS"
          ],
          [
           "Mario Farts!"
          ],
          [
           "iPhone 4 is for LOSERS? -- Wackygamer"
          ],
          [
           "Killzone Trailer PARODY Commentary -- Wackygamer"
          ],
          [
           "Top E3 Rumors You MISSED -- Wackygamer"
          ]
         ],
         "hovertemplate": "Year=2010<br>Video Length (mins)=%{x}<br>Total Views=%{y}<br>Like Percentage=%{marker.size}<br>Video Title=%{customdata[0]}<extra></extra>",
         "legendgroup": "2010",
         "marker": {
          "color": "#EF553B",
          "opacity": 0.4,
          "size": [
           0.9591963545981773,
           0.9739238410596026,
           0.9707575757575757,
           0.9345488067192461,
           0.9870972146368104,
           0.7484276729559748,
           0.947795235681703,
           0.9714365986139727,
           0.7117437722419929,
           0.9488195091643368,
           0.8892416072360411,
           0.7179080824088748,
           0.9634083490809139,
           0.9872717210846708,
           0.814388489208633,
           0.4585635359116022,
           0.9826107118015303,
           0.784655061250806,
           0.9740549828178694,
           0.9734418632285663,
           0.855621301775148,
           0.985992639365853,
           0.9576361694553222,
           0.881508078994614,
           0.9414944356120827,
           0.9753944609952554,
           0.8595238095238096,
           0.9742233972240582,
           0.7910863509749304,
           0.962356067316209,
           0.7517328292375551,
           0.8186195826645265,
           0.9582138467841049,
           0.8413793103448276,
           0.8874035430931421,
           0.9857011070110702,
           0.8654485049833887,
           0.9419790869676103,
           0.9778185456971314,
           0.7975778546712803,
           0.9376175548589342,
           0.9827126116718877,
           0.7618688771665411,
           0.959935155164428,
           0.9716488222698073,
           0.8553672316384181,
           0.9349821997376804,
           0.5712507778469197,
           0.9812750391917784,
           0.6777879341864717,
           0.9815181518151815,
           0.7369109947643979,
           0.9681920302707816,
           0.8708272859216255,
           0.8267581475128645,
           0.9248571428571428,
           0.8210412147505423,
           0.7634709587123862,
           0.7359767891682786,
           0.6870342771982116,
           0.8097165991902834,
           0.8598382749326146,
           0.9088669950738916,
           0.9548793284365162,
           0.5938891137191421,
           0.9119496855345912,
           0.7225473321858864,
           0.9239766081871345,
           0.5871097683786506,
           0.93279258400927,
           0.9681788862610191,
           0.9019138755980861,
           0.8316478286734087,
           0.8796266495011265,
           0.9597970926711085,
           0.7802026500389712,
           0.8453817029145021,
           0.7579185520361991,
           0.8012718600953895,
           0.809220985691574,
           0.9181701921747546,
           0,
           0.9217904574520414,
           0.970086417017505,
           0.8910489419706608,
           0.8625730994152047,
           0.8672859986728599,
           0.8802083333333334
          ],
          "sizemode": "area",
          "sizeref": 0.0024875671374577283,
          "symbol": "circle"
         },
         "mode": "markers",
         "name": "2010",
         "orientation": "v",
         "showlegend": true,
         "type": "scatter",
         "x": [
          3.1166666666666667,
          1.9833333333333334,
          3.2,
          2.4166666666666665,
          3.85,
          2.75,
          3.4833333333333334,
          2.3666666666666667,
          4.8,
          2.5833333333333335,
          3.95,
          1.5333333333333332,
          2.4166666666666665,
          2.55,
          2.7666666666666666,
          2.8666666666666667,
          0.9833333333333333,
          5.5,
          2.716666666666667,
          2.6666666666666665,
          5.866666666666667,
          3.05,
          2.25,
          5.083333333333333,
          2.55,
          3.3166666666666664,
          4.433333333333334,
          2.4333333333333336,
          4.033333333333333,
          3.716666666666667,
          1.4166666666666667,
          3.783333333333333,
          2.6833333333333336,
          4.683333333333334,
          4.716666666666667,
          2.716666666666667,
          4.6,
          2.716666666666667,
          4.333333333333333,
          2.716666666666667,
          7.916666666666667,
          2.45,
          6.383333333333334,
          2.2,
          2.6833333333333336,
          4.033333333333333,
          1.95,
          5.816666666666666,
          3.3333333333333335,
          4.666666666666667,
          3.283333333333333,
          5.166666666666667,
          3.1666666666666665,
          4.3,
          1.4333333333333333,
          1.7333333333333334,
          4.716666666666667,
          4.216666666666667,
          5.9,
          5.6,
          3.95,
          7.35,
          7.683333333333334,
          3.5,
          2.7666666666666666,
          2.4,
          4.733333333333333,
          1.7,
          1.4333333333333333,
          1.4833333333333334,
          2.9166666666666665,
          2.8166666666666664,
          3.35,
          2.3,
          2.2666666666666666,
          2.6166666666666667,
          2.15,
          2.3666666666666667,
          1.25,
          1.7666666666666666,
          2.2,
          3.716666666666667,
          1.2333333333333334,
          1.3,
          0.8333333333333334,
          4.216666666666667,
          1.0166666666666666,
          2.35
         ],
         "xaxis": "x",
         "y": [
          815625,
          477209,
          1303149,
          1741666,
          765214,
          65571,
          2338288,
          2342353,
          119654,
          2927686,
          3550355,
          64107,
          1307093,
          931799,
          66155,
          74806,
          368138,
          173113,
          1357311,
          2545866,
          72445,
          4969228,
          1417719,
          114967,
          1039489,
          1134237,
          43741,
          491849,
          269364,
          424261,
          96651,
          120526,
          973979,
          77793,
          1168717,
          890496,
          83356,
          2253060,
          917184,
          30568,
          499308,
          1287108,
          180352,
          276542,
          1746426,
          104599,
          1408742,
          138577,
          1295286,
          557196,
          741865,
          27967,
          1613996,
          81382,
          47095,
          263760,
          76204,
          581588,
          44416,
          77548,
          96045,
          125450,
          27899,
          2012407,
          357116,
          56780,
          796566,
          45999,
          95854,
          54979,
          461997,
          45597,
          168657,
          502036,
          1062814,
          199159,
          2136775,
          182690,
          210804,
          1133773,
          6507724,
          167549,
          142425,
          294706,
          9571772,
          159776,
          158256,
          518214
         ],
         "yaxis": "y"
        }
       ],
       "layout": {
        "legend": {
         "itemsizing": "constant",
         "title": {
          "text": "Year"
         },
         "tracegroupgap": 0
        },
        "margin": {
         "t": 60
        },
        "shapes": [
         {
          "line": {
           "dash": "dash"
          },
          "type": "line",
          "x0": 0,
          "x1": 1,
          "xref": "x domain",
          "y0": 2338288,
          "y1": 2338288,
          "yref": "y"
         }
        ],
        "template": {
         "data": {
          "bar": [
           {
            "error_x": {
             "color": "#2a3f5f"
            },
            "error_y": {
             "color": "#2a3f5f"
            },
            "marker": {
             "line": {
              "color": "#E5ECF6",
              "width": 0.5
             }
            },
            "type": "bar"
           }
          ],
          "barpolar": [
           {
            "marker": {
             "line": {
              "color": "#E5ECF6",
              "width": 0.5
             }
            },
            "type": "barpolar"
           }
          ],
          "carpet": [
           {
            "aaxis": {
             "endlinecolor": "#2a3f5f",
             "gridcolor": "white",
             "linecolor": "white",
             "minorgridcolor": "white",
             "startlinecolor": "#2a3f5f"
            },
            "baxis": {
             "endlinecolor": "#2a3f5f",
             "gridcolor": "white",
             "linecolor": "white",
             "minorgridcolor": "white",
             "startlinecolor": "#2a3f5f"
            },
            "type": "carpet"
           }
          ],
          "choropleth": [
           {
            "colorbar": {
             "outlinewidth": 0,
             "ticks": ""
            },
            "type": "choropleth"
           }
          ],
          "contour": [
           {
            "colorbar": {
             "outlinewidth": 0,
             "ticks": ""
            },
            "colorscale": [
             [
              0,
              "#0d0887"
             ],
             [
              0.1111111111111111,
              "#46039f"
             ],
             [
              0.2222222222222222,
              "#7201a8"
             ],
             [
              0.3333333333333333,
              "#9c179e"
             ],
             [
              0.4444444444444444,
              "#bd3786"
             ],
             [
              0.5555555555555556,
              "#d8576b"
             ],
             [
              0.6666666666666666,
              "#ed7953"
             ],
             [
              0.7777777777777778,
              "#fb9f3a"
             ],
             [
              0.8888888888888888,
              "#fdca26"
             ],
             [
              1,
              "#f0f921"
             ]
            ],
            "type": "contour"
           }
          ],
          "contourcarpet": [
           {
            "colorbar": {
             "outlinewidth": 0,
             "ticks": ""
            },
            "type": "contourcarpet"
           }
          ],
          "heatmap": [
           {
            "colorbar": {
             "outlinewidth": 0,
             "ticks": ""
            },
            "colorscale": [
             [
              0,
              "#0d0887"
             ],
             [
              0.1111111111111111,
              "#46039f"
             ],
             [
              0.2222222222222222,
              "#7201a8"
             ],
             [
              0.3333333333333333,
              "#9c179e"
             ],
             [
              0.4444444444444444,
              "#bd3786"
             ],
             [
              0.5555555555555556,
              "#d8576b"
             ],
             [
              0.6666666666666666,
              "#ed7953"
             ],
             [
              0.7777777777777778,
              "#fb9f3a"
             ],
             [
              0.8888888888888888,
              "#fdca26"
             ],
             [
              1,
              "#f0f921"
             ]
            ],
            "type": "heatmap"
           }
          ],
          "heatmapgl": [
           {
            "colorbar": {
             "outlinewidth": 0,
             "ticks": ""
            },
            "colorscale": [
             [
              0,
              "#0d0887"
             ],
             [
              0.1111111111111111,
              "#46039f"
             ],
             [
              0.2222222222222222,
              "#7201a8"
             ],
             [
              0.3333333333333333,
              "#9c179e"
             ],
             [
              0.4444444444444444,
              "#bd3786"
             ],
             [
              0.5555555555555556,
              "#d8576b"
             ],
             [
              0.6666666666666666,
              "#ed7953"
             ],
             [
              0.7777777777777778,
              "#fb9f3a"
             ],
             [
              0.8888888888888888,
              "#fdca26"
             ],
             [
              1,
              "#f0f921"
             ]
            ],
            "type": "heatmapgl"
           }
          ],
          "histogram": [
           {
            "marker": {
             "colorbar": {
              "outlinewidth": 0,
              "ticks": ""
             }
            },
            "type": "histogram"
           }
          ],
          "histogram2d": [
           {
            "colorbar": {
             "outlinewidth": 0,
             "ticks": ""
            },
            "colorscale": [
             [
              0,
              "#0d0887"
             ],
             [
              0.1111111111111111,
              "#46039f"
             ],
             [
              0.2222222222222222,
              "#7201a8"
             ],
             [
              0.3333333333333333,
              "#9c179e"
             ],
             [
              0.4444444444444444,
              "#bd3786"
             ],
             [
              0.5555555555555556,
              "#d8576b"
             ],
             [
              0.6666666666666666,
              "#ed7953"
             ],
             [
              0.7777777777777778,
              "#fb9f3a"
             ],
             [
              0.8888888888888888,
              "#fdca26"
             ],
             [
              1,
              "#f0f921"
             ]
            ],
            "type": "histogram2d"
           }
          ],
          "histogram2dcontour": [
           {
            "colorbar": {
             "outlinewidth": 0,
             "ticks": ""
            },
            "colorscale": [
             [
              0,
              "#0d0887"
             ],
             [
              0.1111111111111111,
              "#46039f"
             ],
             [
              0.2222222222222222,
              "#7201a8"
             ],
             [
              0.3333333333333333,
              "#9c179e"
             ],
             [
              0.4444444444444444,
              "#bd3786"
             ],
             [
              0.5555555555555556,
              "#d8576b"
             ],
             [
              0.6666666666666666,
              "#ed7953"
             ],
             [
              0.7777777777777778,
              "#fb9f3a"
             ],
             [
              0.8888888888888888,
              "#fdca26"
             ],
             [
              1,
              "#f0f921"
             ]
            ],
            "type": "histogram2dcontour"
           }
          ],
          "mesh3d": [
           {
            "colorbar": {
             "outlinewidth": 0,
             "ticks": ""
            },
            "type": "mesh3d"
           }
          ],
          "parcoords": [
           {
            "line": {
             "colorbar": {
              "outlinewidth": 0,
              "ticks": ""
             }
            },
            "type": "parcoords"
           }
          ],
          "pie": [
           {
            "automargin": true,
            "type": "pie"
           }
          ],
          "scatter": [
           {
            "marker": {
             "colorbar": {
              "outlinewidth": 0,
              "ticks": ""
             }
            },
            "type": "scatter"
           }
          ],
          "scatter3d": [
           {
            "line": {
             "colorbar": {
              "outlinewidth": 0,
              "ticks": ""
             }
            },
            "marker": {
             "colorbar": {
              "outlinewidth": 0,
              "ticks": ""
             }
            },
            "type": "scatter3d"
           }
          ],
          "scattercarpet": [
           {
            "marker": {
             "colorbar": {
              "outlinewidth": 0,
              "ticks": ""
             }
            },
            "type": "scattercarpet"
           }
          ],
          "scattergeo": [
           {
            "marker": {
             "colorbar": {
              "outlinewidth": 0,
              "ticks": ""
             }
            },
            "type": "scattergeo"
           }
          ],
          "scattergl": [
           {
            "marker": {
             "colorbar": {
              "outlinewidth": 0,
              "ticks": ""
             }
            },
            "type": "scattergl"
           }
          ],
          "scattermapbox": [
           {
            "marker": {
             "colorbar": {
              "outlinewidth": 0,
              "ticks": ""
             }
            },
            "type": "scattermapbox"
           }
          ],
          "scatterpolar": [
           {
            "marker": {
             "colorbar": {
              "outlinewidth": 0,
              "ticks": ""
             }
            },
            "type": "scatterpolar"
           }
          ],
          "scatterpolargl": [
           {
            "marker": {
             "colorbar": {
              "outlinewidth": 0,
              "ticks": ""
             }
            },
            "type": "scatterpolargl"
           }
          ],
          "scatterternary": [
           {
            "marker": {
             "colorbar": {
              "outlinewidth": 0,
              "ticks": ""
             }
            },
            "type": "scatterternary"
           }
          ],
          "surface": [
           {
            "colorbar": {
             "outlinewidth": 0,
             "ticks": ""
            },
            "colorscale": [
             [
              0,
              "#0d0887"
             ],
             [
              0.1111111111111111,
              "#46039f"
             ],
             [
              0.2222222222222222,
              "#7201a8"
             ],
             [
              0.3333333333333333,
              "#9c179e"
             ],
             [
              0.4444444444444444,
              "#bd3786"
             ],
             [
              0.5555555555555556,
              "#d8576b"
             ],
             [
              0.6666666666666666,
              "#ed7953"
             ],
             [
              0.7777777777777778,
              "#fb9f3a"
             ],
             [
              0.8888888888888888,
              "#fdca26"
             ],
             [
              1,
              "#f0f921"
             ]
            ],
            "type": "surface"
           }
          ],
          "table": [
           {
            "cells": {
             "fill": {
              "color": "#EBF0F8"
             },
             "line": {
              "color": "white"
             }
            },
            "header": {
             "fill": {
              "color": "#C8D4E3"
             },
             "line": {
              "color": "white"
             }
            },
            "type": "table"
           }
          ]
         },
         "layout": {
          "annotationdefaults": {
           "arrowcolor": "#2a3f5f",
           "arrowhead": 0,
           "arrowwidth": 1
          },
          "autotypenumbers": "strict",
          "coloraxis": {
           "colorbar": {
            "outlinewidth": 0,
            "ticks": ""
           }
          },
          "colorscale": {
           "diverging": [
            [
             0,
             "#8e0152"
            ],
            [
             0.1,
             "#c51b7d"
            ],
            [
             0.2,
             "#de77ae"
            ],
            [
             0.3,
             "#f1b6da"
            ],
            [
             0.4,
             "#fde0ef"
            ],
            [
             0.5,
             "#f7f7f7"
            ],
            [
             0.6,
             "#e6f5d0"
            ],
            [
             0.7,
             "#b8e186"
            ],
            [
             0.8,
             "#7fbc41"
            ],
            [
             0.9,
             "#4d9221"
            ],
            [
             1,
             "#276419"
            ]
           ],
           "sequential": [
            [
             0,
             "#0d0887"
            ],
            [
             0.1111111111111111,
             "#46039f"
            ],
            [
             0.2222222222222222,
             "#7201a8"
            ],
            [
             0.3333333333333333,
             "#9c179e"
            ],
            [
             0.4444444444444444,
             "#bd3786"
            ],
            [
             0.5555555555555556,
             "#d8576b"
            ],
            [
             0.6666666666666666,
             "#ed7953"
            ],
            [
             0.7777777777777778,
             "#fb9f3a"
            ],
            [
             0.8888888888888888,
             "#fdca26"
            ],
            [
             1,
             "#f0f921"
            ]
           ],
           "sequentialminus": [
            [
             0,
             "#0d0887"
            ],
            [
             0.1111111111111111,
             "#46039f"
            ],
            [
             0.2222222222222222,
             "#7201a8"
            ],
            [
             0.3333333333333333,
             "#9c179e"
            ],
            [
             0.4444444444444444,
             "#bd3786"
            ],
            [
             0.5555555555555556,
             "#d8576b"
            ],
            [
             0.6666666666666666,
             "#ed7953"
            ],
            [
             0.7777777777777778,
             "#fb9f3a"
            ],
            [
             0.8888888888888888,
             "#fdca26"
            ],
            [
             1,
             "#f0f921"
            ]
           ]
          },
          "colorway": [
           "#636efa",
           "#EF553B",
           "#00cc96",
           "#ab63fa",
           "#FFA15A",
           "#19d3f3",
           "#FF6692",
           "#B6E880",
           "#FF97FF",
           "#FECB52"
          ],
          "font": {
           "color": "#2a3f5f"
          },
          "geo": {
           "bgcolor": "white",
           "lakecolor": "white",
           "landcolor": "#E5ECF6",
           "showlakes": true,
           "showland": true,
           "subunitcolor": "white"
          },
          "hoverlabel": {
           "align": "left"
          },
          "hovermode": "closest",
          "mapbox": {
           "style": "light"
          },
          "paper_bgcolor": "white",
          "plot_bgcolor": "#E5ECF6",
          "polar": {
           "angularaxis": {
            "gridcolor": "white",
            "linecolor": "white",
            "ticks": ""
           },
           "bgcolor": "#E5ECF6",
           "radialaxis": {
            "gridcolor": "white",
            "linecolor": "white",
            "ticks": ""
           }
          },
          "scene": {
           "xaxis": {
            "backgroundcolor": "#E5ECF6",
            "gridcolor": "white",
            "gridwidth": 2,
            "linecolor": "white",
            "showbackground": true,
            "ticks": "",
            "zerolinecolor": "white"
           },
           "yaxis": {
            "backgroundcolor": "#E5ECF6",
            "gridcolor": "white",
            "gridwidth": 2,
            "linecolor": "white",
            "showbackground": true,
            "ticks": "",
            "zerolinecolor": "white"
           },
           "zaxis": {
            "backgroundcolor": "#E5ECF6",
            "gridcolor": "white",
            "gridwidth": 2,
            "linecolor": "white",
            "showbackground": true,
            "ticks": "",
            "zerolinecolor": "white"
           }
          },
          "shapedefaults": {
           "line": {
            "color": "#2a3f5f"
           }
          },
          "ternary": {
           "aaxis": {
            "gridcolor": "white",
            "linecolor": "white",
            "ticks": ""
           },
           "baxis": {
            "gridcolor": "white",
            "linecolor": "white",
            "ticks": ""
           },
           "bgcolor": "#E5ECF6",
           "caxis": {
            "gridcolor": "white",
            "linecolor": "white",
            "ticks": ""
           }
          },
          "title": {
           "x": 0.05
          },
          "xaxis": {
           "automargin": true,
           "gridcolor": "white",
           "linecolor": "white",
           "ticks": "",
           "title": {
            "standoff": 15
           },
           "zerolinecolor": "white",
           "zerolinewidth": 2
          },
          "yaxis": {
           "automargin": true,
           "gridcolor": "white",
           "linecolor": "white",
           "ticks": "",
           "title": {
            "standoff": 15
           },
           "zerolinecolor": "white",
           "zerolinewidth": 2
          }
         }
        },
        "xaxis": {
         "anchor": "y",
         "domain": [
          0,
          1
         ],
         "title": {
          "text": "Video Length (mins)"
         }
        },
        "yaxis": {
         "anchor": "x",
         "domain": [
          0,
          1
         ],
         "title": {
          "text": "Total Views"
         }
        }
       }
      },
      "text/html": [
       "<div>                            <div id=\"8c31e849-d38c-4049-aea1-58e34f4d4c84\" class=\"plotly-graph-div\" style=\"height:525px; width:100%;\"></div>            <script type=\"text/javascript\">                require([\"plotly\"], function(Plotly) {                    window.PLOTLYENV=window.PLOTLYENV || {};                                    if (document.getElementById(\"8c31e849-d38c-4049-aea1-58e34f4d4c84\")) {                    Plotly.newPlot(                        \"8c31e849-d38c-4049-aea1-58e34f4d4c84\",                        [{\"customdata\": [[\"Illusions of Time\"]], \"hovertemplate\": \"Year=2021<br>Video Length (mins)=%{x}<br>Total Views=%{y}<br>Like Percentage=%{marker.size}<br>Video Title=%{customdata[0]}<extra></extra>\", \"legendgroup\": \"2021\", \"marker\": {\"color\": \"#636efa\", \"opacity\": 0.4, \"size\": [0.9950268549830913], \"sizemode\": \"area\", \"sizeref\": 0.0024875671374577283, \"symbol\": \"circle\"}, \"mode\": \"markers\", \"name\": \"2021\", \"orientation\": \"v\", \"showlegend\": true, \"type\": \"scatter\", \"x\": [31.133333333333333], \"xaxis\": \"x\", \"y\": [4450658], \"yaxis\": \"y\"}, {\"customdata\": [[\"The Odd Number Rule\"], [\"How Many Holes Does a Human Have?\"]], \"hovertemplate\": \"Year=2020<br>Video Length (mins)=%{x}<br>Total Views=%{y}<br>Like Percentage=%{marker.size}<br>Video Title=%{customdata[0]}<extra></extra>\", \"legendgroup\": \"2020\", \"marker\": {\"color\": \"#EF553B\", \"opacity\": 0.4, \"size\": [0.9787917349950803, 0.9837500854412184], \"sizemode\": \"area\", \"sizeref\": 0.0024875671374577283, \"symbol\": \"circle\"}, \"mode\": \"markers\", \"name\": \"2020\", \"orientation\": \"v\", \"showlegend\": true, \"type\": \"scatter\", \"x\": [22.116666666666667, 21.45], \"xaxis\": \"x\", \"y\": [5913919, 8676631], \"yaxis\": \"y\"}, {\"customdata\": [[\"What Is The Scariest Thing?\"], [\"I Watch 3 Episodes of Mind Field With Our Experts & Researchers\"], [\"Laws & Causes\"]], \"hovertemplate\": \"Year=2019<br>Video Length (mins)=%{x}<br>Total Views=%{y}<br>Like Percentage=%{marker.size}<br>Video Title=%{customdata[0]}<extra></extra>\", \"legendgroup\": \"2019\", \"marker\": {\"color\": \"#00cc96\", \"opacity\": 0.4, \"size\": [0.983648636396322, 0.9500756429652042, 0.9926733317906016], \"sizemode\": \"area\", \"sizeref\": 0.0024875671374577283, \"symbol\": \"circle\"}, \"mode\": \"markers\", \"name\": \"2019\", \"orientation\": \"v\", \"showlegend\": true, \"type\": \"scatter\", \"x\": [40.68333333333333, 180.26666666666668, 22.35], \"xaxis\": \"x\", \"y\": [7700699, 4854750, 4141130], \"yaxis\": \"y\"}, {\"customdata\": [[\"Mind Reading\"], [\"Behavior and Belief\"], [\"How to Talk to Aliens\"], [\"Should I Die?\"], [\"The Stanford Prison Experiment\"], [\"The Stilwell Brain\"], [\"Moral Licensing\"], [\"The Origins of Disgust\"], [\"The Cognitive Tradeoff Hypothesis\"]], \"hovertemplate\": \"Year=2018<br>Video Length (mins)=%{x}<br>Total Views=%{y}<br>Like Percentage=%{marker.size}<br>Video Title=%{customdata[0]}<extra></extra>\", \"legendgroup\": \"2018\", \"marker\": {\"color\": \"#ab63fa\", \"opacity\": 0.4, \"size\": [0.0, 0.0, 0.0, 0.0, 0.9687555619591657, 0.0, 0.0, 0.9849197096762062, 0.950253807106599], \"sizemode\": \"area\", \"sizeref\": 0.0024875671374577283, \"symbol\": \"circle\"}, \"mode\": \"markers\", \"name\": \"2018\", \"orientation\": \"v\", \"showlegend\": true, \"type\": \"scatter\", \"x\": [22.366666666666667, 28.45, 26.116666666666667, 31.083333333333332, 34.46666666666667, 26.533333333333335, 28.466666666666665, 12.733333333333333, 24.366666666666667], \"xaxis\": \"x\", \"y\": [0, 0, 0, 0, 0, 0, 0, 764069, 15580825], \"yaxis\": \"y\"}, {\"customdata\": [[\"The Electric Brain - Mind Field S2 (Ep 8)\"], [\"Divergent Minds - Mind Field S2 (Ep 7)\"], [\"The Power of Suggestion - Mind Field S2 (Ep 6)\"], [\"How to Make a Hero - Mind Field S2 (Ep 5)\"], [\"Uncut False Confession - Mind Field S2\"], [\"Uncut Shaman Song - Mind Field S2\"], [\"Your Brain on Tech - Mind Field S2 (Ep 4)\"], [\"Interrogation - Mind Field S2 (Ep 3)\"], [\"The Psychedelic Experience - Mind Field S2 (Ep 2)\"], [\"The Greater Good - Mind Field S2 (Ep 1)\"], [\"Mind Field Season 2 - Official Trailer\"], [\"Which Way Is Down?\"], [\"The Napkin Ring Problem\"], [\"How Much of the Earth Can You See at Once?\"], [\"Vsauce Live Stream!\"], [\"Do You Know Yourself? - Mind Field (Ep 8)\"], [\"In Your Face - Mind Field (Ep 7)\"], [\"Touch - Mind Field (Ep 6)\"], [\"Freedom of Choice - Mind Field (Ep 5)\"], [\"Showing My Desk to Adam Savage\"], [\"Artificial Intelligence - Mind Field (Ep 4)\"], [\"Destruction - Mind Field (Ep 3)\"], [\"The Brachistochrone\"], [\"Conformity - Mind Field (Ep 2)\"], [\"Mind Field - Official Trailer\"]], \"hovertemplate\": \"Year=2017<br>Video Length (mins)=%{x}<br>Total Views=%{y}<br>Like Percentage=%{marker.size}<br>Video Title=%{customdata[0]}<extra></extra>\", \"legendgroup\": \"2017\", \"marker\": {\"color\": \"#FFA15A\", \"opacity\": 0.4, \"size\": [0.0, 0.0, 0.0, 0.0, 0.0, 0.0, 0.0, 0.0, 0.0, 0.9656400707367936, 0.6780922014082635, 0.9811716913526713, 0.9514159953492235, 0.9704035931455599, 0.0, 0.0, 0.0, 0.0, 0.0, 0.9797195853739261, 0.0, 0.0, 0.9881882577680208, 0.0, 0.9019995126268132], \"sizemode\": \"area\", \"sizeref\": 0.0024875671374577283, \"symbol\": \"circle\"}, \"mode\": \"markers\", \"name\": \"2017\", \"orientation\": \"v\", \"showlegend\": true, \"type\": \"scatter\", \"x\": [27.733333333333334, 26.216666666666665, 28.816666666666666, 30.266666666666666, 14.3, 16.85, 27.516666666666666, 32.11666666666667, 33.3, 34.63333333333333, 1.65, 26.183333333333334, 10.733333333333333, 26.516666666666666, 98.21666666666667, 25.783333333333335, 24.566666666666666, 21.6, 22.433333333333334, 20.85, 25.0, 25.583333333333332, 25.95, 23.183333333333334, 1.2833333333333332], \"xaxis\": \"x\", \"y\": [0, 0, 0, 0, 0, 0, 0, 0, 0, 10337316, 6072714, 20191590, 11379175, 14618163, 1689345, 0, 0, 0, 0, 8494461, 0, 0, 12747365, 0, 29306034], \"yaxis\": \"y\"}, {\"customdata\": [[\"Isolation - Mind Field (Ep 1)\"], [\"Spinning\"], [\"ANNOUNCING BRAIN CANDY LIVE\"], [\"Is It Okay to Touch Mars?\"], [\"Talking With Attenborough\"], [\"Fixed Points\"], [\"Alzheimer's and the Brain\"], [\"How Earth Moves\"], [\"How To Count Past Infinity\"], [\"Math Magic\"]], \"hovertemplate\": \"Year=2016<br>Video Length (mins)=%{x}<br>Total Views=%{y}<br>Like Percentage=%{marker.size}<br>Video Title=%{customdata[0]}<extra></extra>\", \"legendgroup\": \"2016\", \"marker\": {\"color\": \"#19d3f3\", \"opacity\": 0.4, \"size\": [0.9550699365562275, 0.9836143388774967, 0.9816138042118611, 0.9835657170410255, 0.9908549365692223, 0.983992972330539, 0.990900366274565, 0.9703613420232526, 0.9760267139144587, 0.9883778877300395], \"sizemode\": \"area\", \"sizeref\": 0.0024875671374577283, \"symbol\": \"circle\"}, \"mode\": \"markers\", \"name\": \"2016\", \"orientation\": \"v\", \"showlegend\": true, \"type\": \"scatter\", \"x\": [34.766666666666666, 17.516666666666666, 3.0166666666666666, 18.6, 16.166666666666668, 16.433333333333334, 15.033333333333333, 21.616666666666667, 23.766666666666666, 19.516666666666666], \"xaxis\": \"x\", \"y\": [28785465, 9203555, 1328940, 12014263, 2080358, 7846107, 6773265, 23058406, 16449273, 10566453], \"yaxis\": \"y\"}, {\"customdata\": [[\"Supertasks\"], [\"Juvenoia\"], [\"Messages For The Future\"], [\"The Zipf Mystery\"], [\"The Banach\\u2013Tarski Paradox\"], [\"Who Owns The Moon?\"], [\"DINOSAUR SCIENCE! feat. Chris Pratt and Jack Horner\"], [\"The Moon Terminator Illusion\"], [\"1,2,3,4,5,6,7,8,9,10,11,12,13,14,15,16,17,18,19,20,21,22,23,24,25,26,27,28,29,30,31,32,33,34,35...\"], [\"When Will We Run Out Of Names?\"], [\"The Science of Awkwardness\"], [\"Human Extinction\"], [\"Would Headlights Work at Light Speed?\"], [\"Did The Past Really Happen?\"], [\"Is All Fair In Love And War?\"], [\"Is Cereal Soup?\"]], \"hovertemplate\": \"Year=2015<br>Video Length (mins)=%{x}<br>Total Views=%{y}<br>Like Percentage=%{marker.size}<br>Video Title=%{customdata[0]}<extra></extra>\", \"legendgroup\": \"2015\", \"marker\": {\"color\": \"#FF6692\", \"opacity\": 0.4, \"size\": [0.9828950610764953, 0.9888948656977533, 0.9844197312113254, 0.9888506200358904, 0.9725040768856177, 0.9799068454125462, 0.9851525398673245, 0.9881101008582429, 0.9852690957232487, 0.9854324214314788, 0.992047558717474, 0.9838883870320184, 0.9869167283117938, 0.9830812208386579, 0.9857085124361659, 0.9828221882054429], \"sizemode\": \"area\", \"sizeref\": 0.0024875671374577283, \"symbol\": \"circle\"}, \"mode\": \"markers\", \"name\": \"2015\", \"orientation\": \"v\", \"showlegend\": true, \"type\": \"scatter\", \"x\": [21.15, 23.166666666666668, 22.2, 21.083333333333332, 24.233333333333334, 11.8, 9.6, 11.75, 9.3, 10.883333333333333, 13.933333333333334, 8.183333333333334, 12.383333333333333, 11.933333333333334, 9.983333333333333, 8.366666666666667], \"xaxis\": \"x\", \"y\": [10748430, 7525626, 18962561, 18971934, 32035854, 8361131, 3876050, 5875871, 15518458, 11963480, 10810414, 11768956, 7865992, 13702494, 6117382, 6160950], \"yaxis\": \"y\"}, {\"customdata\": [[\"Is Earth Actually Flat?\"], [\"Misnomers\"], [\"Why Are We Morbidly Curious?\"], [\"Spooky Coincidences?\"], [\"What Is The Earth Worth?\"], [\"Dord.\"], [\"What Is The Speed of Dark?\"], [\"What is Random?\"], [\"What If The Earth Stopped Spinning?\"], [\"Some Surprising Things\"], [\"Why Don't We All Have Cancer?\"], [\"The Web Is Not The Net\"], [\"How Many Things Are There?\"], [\"Where Is This Video?\"], [\"What if the Moon was a Disco Ball?\"], [\"Risk.\"], [\"What Is The Resolution Of The Eye?\"], [\"DISTORTIONS\"], [\"What's The Brightest Thing In the Universe?\"], [\"What Does Human Taste Like?\"], [\"Why Is Your BOTTOM in the MIDDLE?\"]], \"hovertemplate\": \"Year=2014<br>Video Length (mins)=%{x}<br>Total Views=%{y}<br>Like Percentage=%{marker.size}<br>Video Title=%{customdata[0]}<extra></extra>\", \"legendgroup\": \"2014\", \"marker\": {\"color\": \"#B6E880\", \"opacity\": 0.4, \"size\": [0.9259229089450813, 0.9894875047683259, 0.9883287712895377, 0.9837095406373773, 0.9818426874856954, 0.989104103848316, 0.9839422492176709, 0.989581654399255, 0.9873771646070798, 0.9864178785793931, 0.9878409924877469, 0.9902047207204986, 0.9811509937039278, 0.9897742747075291, 0.972194502641052, 0.986557712155676, 0.9820154345151549, 0.9919359634620646, 0.9867314967533861, 0.9679576219275466, 0.9875571706899172], \"sizemode\": \"area\", \"sizeref\": 0.0024875671374577283, \"symbol\": \"circle\"}, \"mode\": \"markers\", \"name\": \"2014\", \"orientation\": \"v\", \"showlegend\": true, \"type\": \"scatter\", \"x\": [10.516666666666667, 11.433333333333334, 13.85, 14.75, 13.283333333333333, 12.95, 13.533333333333333, 11.2, 9.733333333333333, 9.116666666666667, 9.383333333333333, 10.916666666666666, 8.783333333333333, 7.666666666666667, 6.083333333333333, 8.1, 9.733333333333333, 11.583333333333334, 11.933333333333334, 10.216666666666667, 10.366666666666667], \"xaxis\": \"x\", \"y\": [30902486, 8138991, 7289180, 23457170, 11597233, 8225960, 17763276, 8792732, 16568172, 6898278, 9688801, 6092270, 6995909, 6511093, 8263694, 7517842, 11884908, 9916652, 15895833, 13085794, 5924299], \"yaxis\": \"y\"}, {\"customdata\": [[\"m\\u034f\\u033a\\u0353\\u0332\\u0325\\u032ai\\u0341\\u0347\\u0354\\u0320s\\u0337\\u0341\\u034e\\u0339\\u0332\\u033b\\u033b\\u0318\\u031dt\\u031e\\u0316\\u034d\\u035a\\u0324k\\u0325\\u031ea\\u0340\\u0338\\u0355\\u032e\\u034d\\u0349\\u0339\\u0330\\u035a\\u0330e\\u0336\\u0322\\u0323\\u032as\\u034f\\u0328\\u0348\\u0319\\u0339\\u031c\\u035a\\u0332 \\u035f\\u031b\\u032c\\u0353\"], [\"Moving Illusions\"], [\"Why Are Bad Words Bad?\"], [\"What Does Earth Look Like?\"], [\"Cruel Bombs\"], [\"Names\"], [\"Our Narrow Slice\"], [\"How People Disappear\"], [\"last words\"], [\"Why Do We Clap?\"], [\"Why Do We Get Bored?\"], [\"INSIDE a Spherical Mirror\"], [\"What Will We Miss?\"], [\"Where Do Deleted Files Go?\"], [\"Are We Ready For Aliens?\"], [\"Why Are Things Creepy?\"], [\"What is the Shortest Poem?\"], [\"What Is The Greatest Honor?\"], [\"Is Anything Real?\"], [\"Why Do We Feel Nostalgia?\"], [\"If\"], [\"What if You Were Born in Space?\"], [\"Why Do We Kiss?\"], [\"How Much Money is There on Earth?\"], [\"How Big Can a Person Get?\"], [\"SPACE STRAW\"], [\"What If The Sun Disappeared?\"], [\"Why Do We Play Games?\"], [\"Why Do We Wear Clothes?\"], [\"Should You Eat Yourself?\"], [\"Is Your Red The Same as My Red?\"], [\"A Defense of Comic Sans\"], [\"Will We Ever Visit Other Stars?\"], [\"What's The Most Dangerous Place on Earth?\"], [\"The Science of the Friend Zone\"], [\"This Is Only Red\"]], \"hovertemplate\": \"Year=2013<br>Video Length (mins)=%{x}<br>Total Views=%{y}<br>Like Percentage=%{marker.size}<br>Video Title=%{customdata[0]}<extra></extra>\", \"legendgroup\": \"2013\", \"marker\": {\"color\": \"#FF97FF\", \"opacity\": 0.4, \"size\": [0.9912408904596457, 0.9772584402618053, 0.9810737062537678, 0.9822141455138228, 0.9826990306197136, 0.9884533516393968, 0.9829479358774295, 0.9897626417433275, 0.9879211644726487, 0.9843121269471539, 0.9875315836421293, 0.9836725180632736, 0.9846138368265152, 0.9846615061301248, 0.9847923599376821, 0.9830194007314074, 0.9767331243133156, 0.989062179133837, 0.9880107019049582, 0.9846074798818966, 0.9890402459138352, 0.9817574559814101, 0.9638437296783553, 0.983243922314274, 0.9815541891991999, 0.985332227152392, 0.9858551667407316, 0.9834519915335771, 0.9846864516932464, 0.9879088258084803, 0.9840218574101474, 0.9824571369062834, 0.982823284097503, 0.9817791351528552, 0.9851804620901681, 0.9845802847926992], \"sizemode\": \"area\", \"sizeref\": 0.0024875671374577283, \"symbol\": \"circle\"}, \"mode\": \"markers\", \"name\": \"2013\", \"orientation\": \"v\", \"showlegend\": true, \"type\": \"scatter\", \"x\": [9.766666666666667, 10.783333333333333, 10.766666666666667, 10.8, 8.4, 7.9, 10.233333333333333, 13.383333333333333, 8.366666666666667, 10.5, 12.416666666666666, 7.233333333333333, 9.816666666666666, 10.583333333333334, 10.616666666666667, 8.866666666666667, 8.65, 9.983333333333333, 11.533333333333333, 15.366666666666667, 13.383333333333333, 13.383333333333333, 12.266666666666667, 15.516666666666667, 15.733333333333333, 10.216666666666667, 11.716666666666667, 12.2, 9.7, 7.533333333333333, 9.583333333333334, 9.883333333333333, 12.833333333333334, 9.483333333333333, 9.216666666666667, 8.066666666666666], \"xaxis\": \"x\", \"y\": [10827840, 14266894, 16971795, 12830548, 15707821, 7368215, 10564091, 16277935, 11673456, 6559912, 9572364, 12711973, 25774238, 14582378, 12444596, 19240366, 6062274, 6339115, 16091960, 6536189, 14612860, 14645628, 25220065, 10100502, 17013286, 10561207, 17419078, 7141535, 11810709, 11751084, 24542703, 8142273, 13456271, 20846114, 10647368, 4702343], \"yaxis\": \"y\"}, {\"customdata\": [[\"How Many Calories are on a Smudgy Screen?\"], [\"Why Don't We Taxidermy Humans?\"], [\"Is The 5-Second Rule True?\"], [\"Will We Ever Run Out of New Music?\"], [\"How Many Photos Have Been Taken?\"], [\"Why Do We Have Two Nostrils?\"], [\"What Can You Do Without a Brain?\"], [\"Why Are Things Cute?\"], [\"How Much Does a Shadow Weigh?\"], [\"How Hot Can It Get?\"], [\"Why Did The Chicken Cross The Road?\"], [\"Carrot Sharpener. LU\\u0308T #27\"], [\"This Is Not Yellow\"], [\"Guns in Space\"], [\"What If Everyone JUMPED At Once?\"], [\"How Secure is Your Password? And 21 Other DONGs\"], [\"What Color Is A Mirror?\"], [\"EAR Earrings -- L\\u00dcT #26\"], [\"You Don't Type Alone.\"], [\"Slow-Mo Hand in MOUSETRAP! ... And DONGs\"], [\"SCIENCE! What is the Rarest Precious Metal?\"], [\"TROLL LIPS and more! IMG! #51\"], [\"We Are All Related\"], [\"Top Hats for CATS! L\\u00dcT #25\"], [\"How High Can We Build?\"], [\"MATH MAGIC and a NEW LEANBACK\"], [\"Why Don't Any Animals Have Wheels?\"], [\"Why Is Yawning Contagious?\"], [\"THE GAME OF LIFE and other DONGs!\"], [\"ZOMBIE BOTTLE-OPENER! ... LU\\u0308T #24\"], [\"Why Are We Ticklish? Why do We Laugh?\"], [\"8 Surprising Facts\"], [\"How Many 5 Year-Olds Could You Fight? -- And 18 Other DONGs!\"], [\"How Many Dots? IMG! #50\"], [\"How Much Is A Bird in The Hand Worth?\"], [\"Water Is Amazing -- World Water Day!\"], [\"Unicorn FARTS on Your LIPS ?? -- LU\\u0308T #23\"], [\"Amazing Art and MORE! IMG! #49\"], [\"Travel INSIDE a Black Hole\"], [\"DON'T SHOOT THE PUPPY!! .... and more: DONG #23\"], [\"EPIC LEAPS.\"], [\"SCARIEST DOGS and MORE! IMG! #48\"], [\"What is Cool?\"], [\"Long Distance KISSING and more! L\\u00dcT #22\"], [\"YOU LIVE IN THE PAST\"], [\"Picture of Everything? -- DONG\"], [\"LEGO TACO! And Other Great Images -- IMG! Episode #47\"], [\"Dog BUTT Floss! And More: LU\\u0308T #21\"], [\"FART SCIENCE\"], [\"200 VIDEOS\"], [\"What Is Consciousness?\"], [\"REAL CYCLOPS SHARK and more great images -- IMG! #46\"]], \"hovertemplate\": \"Year=2012<br>Video Length (mins)=%{x}<br>Total Views=%{y}<br>Like Percentage=%{marker.size}<br>Video Title=%{customdata[0]}<extra></extra>\", \"legendgroup\": \"2012\", \"marker\": {\"color\": \"#FECB52\", \"opacity\": 0.4, \"size\": [0.9839989151806903, 0.9833535418855927, 0.9837536416605972, 0.9816802335869758, 0.9865472139667772, 0.989739238713773, 0.9855368224964156, 0.989095985814351, 0.9868440655046355, 0.9844820955957201, 0.9768628375369949, 0.9649177200095397, 0.9661756158528858, 0.9706269381426473, 0.9767420203478221, 0.9819193324061196, 0.981170307189401, 0.9778390671118208, 0.9857123481592622, 0.9826430304775223, 0.9751939882016009, 0.9699573194390555, 0.9912687552223984, 0.9775908523362029, 0.9712797040226506, 0.9852830188679246, 0.9773940965365661, 0.9892897147504258, 0.9862859148573434, 0.9785566759810472, 0.9885695074802487, 0.98717152539967, 0.9697446714730976, 0.972972972972973, 0.9904651771687903, 0.9859294762067785, 0.9854710556186153, 0.982776617954071, 0.9800088700702074, 0.9868054651919324, 0.9884251455285101, 0.9835616438356164, 0.9877228924804613, 0.9820729927007299, 0.9881854353095416, 0.985820118069221, 0.9791222415075627, 0.9880410368481758, 0.9831886580701312, 0.985924713584288, 0.9870077242944334, 0.9794137986063088], \"sizemode\": \"area\", \"sizeref\": 0.0024875671374577283, \"symbol\": \"circle\"}, \"mode\": \"markers\", \"name\": \"2012\", \"orientation\": \"v\", \"showlegend\": true, \"type\": \"scatter\", \"x\": [6.366666666666666, 11.15, 10.533333333333333, 11.8, 6.45, 9.383333333333333, 7.933333333333334, 5.833333333333333, 7.666666666666667, 10.05, 8.283333333333333, 4.916666666666667, 7.15, 5.483333333333333, 7.216666666666667, 4.566666666666666, 5.033333333333333, 5.216666666666667, 5.333333333333333, 5.716666666666667, 7.183333333333334, 4.983333333333333, 5.816666666666666, 5.166666666666667, 10.116666666666667, 3.8, 5.85, 5.75, 5.55, 5.433333333333334, 3.9166666666666665, 3.2666666666666666, 4.9, 3.533333333333333, 5.933333333333334, 5.916666666666667, 4.466666666666667, 5.016666666666667, 10.75, 4.983333333333333, 8.133333333333333, 5.05, 5.5, 4.683333333333334, 7.183333333333334, 3.8333333333333335, 4.316666666666666, 4.966666666666667, 7.4, 3.9, 7.266666666666667, 4.183333333333334], \"xaxis\": \"x\", \"y\": [4678771, 9044430, 13954801, 13973894, 4582576, 8060142, 13662769, 6795073, 10209554, 17142486, 9590253, 5514086, 20186103, 18915241, 32634196, 6488216, 16417860, 2830036, 10807093, 2440257, 11774213, 2260552, 6756315, 1883151, 25554979, 950037, 5754580, 4467420, 4938656, 2477942, 3637135, 4993392, 7744122, 2295111, 2401660, 2058231, 1697493, 1440294, 29336627, 3935275, 2525181, 1206840, 3900989, 2378264, 7137528, 2255851, 2830544, 1484714, 2926041, 1229029, 8371607, 2613439], \"yaxis\": \"y\"}, {\"customdata\": [[\"Rainbow Science! ... AND Why Headphones Get So Tangled.\"], [\"What's Left?\"], [\"How Much Money is LOVE Worth?\"], [\"Where to BUY Uranium and other DONGS!\"], [\"DOUBLE PUPILS and more! IMG #45\"], [\"SOUNDS.\"], [\"Buy REAL Dino Teeth! ... and more! L\\u00dcT #20\"], [\"Cool Things on YouTube and More! DONG #19\"], [\"\\u200c\\u200c\"], [\"ENGLISH.\"], [\"Things To Do Online #18 -- DONG!\"], [\"What is D\\u00e9j\\u00e0 vu?\"], [\"Fuzzy Pancakes and More! L\\u00dcT #19\"], [\"How Much Does The Internet Weigh?\"], [\"Crazy BABY Eyes ... and More: IMG! #44\"], [\"Shepard Tone Illusion .... and more!\"], [\"Why Do We Dream?\"], [\"How Old Can We Get?\"], [\"LONELY.\"], [\"Is This a PANDA?? --- IMG! #43\"], [\"MAKE YOUR CAT A DJ -- and more! L\\u00dcT #18\"], [\"UGLY DANCE -- DONG\"], [\"FIRST Photo on the INTERNET ... and other things too.\"], [\"4 FACTS.\"], [\"WATER.\"], [\"BEST IMAGES of the Week -- IMG! #42\"], [\"You Can't Touch Anything\"], [\"Mind Blowing WATCHES ... and more! L\\u00dcT #17\"], [\"Fun GEEKY Games -- and more! [DONG]\"], [\"STOPPED CLOCK ILLUSION\"], [\"COVERED IN CHICKS -- IMG! #41\"], [\"WHY IS THERE A MOON? .... and more!\"], [\"WHAT'S A DONG?\"], [\"SOAP FOR ADULTS ... L\\u00dcT #16\"], [\"WET DOGS ---- IMG! #40\"], [\"What Is Video ??\"], [\"HACK Wheel of Fortune!\"], [\"BIGGEST EXPLOSIONS\"], [\"WHAT IS THIS?? .......... IMG! #39\"], [\"KNOWLEDGE! --- LEANBACK #7\"], [\"HAWAII FACTS!\"], [\"Best Doorstop EVER? -- L\\u00dcT #15\"], [\"SPOT THE FAKE !! -------- DONG\"], [\"REAL NYAN CAT ... and more! IMG #38\"], [\"INSANE BEATBOX and Other MOUTH NOISES -- BOAT\"], [\"HE'S FOLLOWING YOU! -- DONG!\"], [\"BUBBLE FAIL !! Best Images of the Week #37\"], [\"COMPLEXITY! -- Vsauce Leanback #6\"], [\"HOW TO: Animated Wallpaper! -- Up All Knight #6\"], [\"Human Cow BREAST MILK??? -- Mind Blow #18\"], [\"LICK DOOR KNOBS! ... IMG! #36\"], [\"12 MORE Amazing Free Games! -- DONG!\"], [\"6 WORST Villains EVER!\"], [\"HIDDEN RAGE FACE? ... and more! IMG! #35\"], [\"Awesome Atmosphere SCIENCE!\"], [\"HOT BOBAS! -- IMG! #34\"], [\"BRA GUN??? -- Mind Blow #17\"], [\"15 AWESOME YouTube Tricks\"], [\"5 AMAZING Experiments and \\\"Sauciest of the Week\\\" !\"], [\"How to HACK Flash Games -- And More! *DONG*\"], [\"Gaga Tea FETISH ?? -- IMG! #33\"], [\"FRENCH KISS A ROBOT!  Mind Blow #16\"], [\"HOT & COLD: SCIENCE!\"], [\"Princess! NOOOO! ... IMG! #32\"], [\"RIDDLE CHALLENGE - 54321 #2\"], [\"WHACK REBECCA BLACK! .. and more: DONG!\"], [\"IMG! Montage Music =D\"], [\"Nintendo FURNITURE??? -- Mind Blow #15\"], [\"CREEPY WOODY !!!  -- IMG! #31\"], [\"How Much CAFFEINE KILLS?? .. and more: DONG!\"], [\"Is Time Travel Possible?: Mind Blow (Special Edition)\"], [\"Beer Bath !!! -- Best Images of the Week, IMG! #30\"], [\"RIDDLE Challenge!!! -- 54321\"], [\"Amsterdam! And Illusions!\"], [\"Stuffed GIRL'S HEAD? -- Mind Blow #14\"], [\"10 AMAZING Flash Games - DONG!\"], [\"SPOOKED DOG! And More ... IMG! #29\"], [\"How to BLOW UP YOUTUBE !!!  -- Up All Knight # 5\"], [\"What IS THIS???? Mind Blow #13\"], [\"BEST Images of the WEEK! ... IMG! #28\"], [\"BEST CONSOLE MODS and other WTFs --- #8\"], [\"16 CLEVER Flash Games!\"], [\"WEIRDEST Headphone Site! ... and MORE! IMG! #27\"], [\"ZOMBIE Bugs!!!: Mind Blow 12\"], [\"12 CRAZIEST Screensavers!\"], [\"Too HOT for Disney? ... and Mario Goes Crazy! IMG! #26\"], [\"IMPOSSIBLE Waterfall!: Mind Blow 11\"], [\"WIN Videogames BY KISSING??!! And 10 More Awesome FLASH GAMES.\"], [\"HOT SPIDER COSPLAY .... AND MORE! IMG! #25\"], [\"How To SLEEP With Mario!! -- Mind Blow 10\"], [\"REAL Human HORNS! ... and more REAL WORLD WTFs\"], [\"WEIRDEST TAN LINES EVER! IMG! #24\"], [\"BEST IMAGES OF THE WEEK:  IMG! Episode 23\"], [\"AMAZING CD BUBBLE!!! -- Mind Blow 9\"], [\"HACK YOUTUBE COMMENTS ... and other pranks! -- Up All Knight #4\"], [\"MAKE Harry & Hermione KISS .. and other fun free games :)\"], [\"THROW BABIES !!! .... IMG! #22\"], [\"BANNED Sega Ads!!!: Mind Blow 8\"], [\"Virtual Girlfriends!! And Other VSAUCE WTFs\"], [\"What's WRONG With This Cat ?!?! IMG! #21\"], [\"Mega Man's GUTS!!! Mind Blow 7\"], [\"EPIC NOSE PICKING and why Football RULES -- IMG! #20\"], [\"10 BAD@SS Online Games!\"], [\"WORST PARENTS EVER ... and more! IMG! 19\"], [\"Homemade FLAMETHROWER: Mind Blow 6\"], [\"FACE PUNCH !!!! ... IMG! 18\"]], \"hovertemplate\": \"Year=2011<br>Video Length (mins)=%{x}<br>Total Views=%{y}<br>Like Percentage=%{marker.size}<br>Video Title=%{customdata[0]}<extra></extra>\", \"legendgroup\": \"2011\", \"marker\": {\"color\": \"#636efa\", \"opacity\": 0.4, \"size\": [0.9898183218848302, 0.9901528531313927, 0.9901562256561336, 0.9846668349318526, 0.9531406381360342, 0.9862958851256666, 0.9890357042451504, 0.9870547794924304, 0.9901981917395485, 0.9865397290369828, 0.988039713691988, 0.9921551582261121, 0.9838773102634684, 0.988503608404992, 0.9866792152320278, 0.9883469012605042, 0.9900590787207604, 0.9860839524109183, 0.9923993292244703, 0.980235217249265, 0.978075195914414, 0.9832282302428552, 0.9912981455064194, 0.9759462987134067, 0.9885634505703422, 0.9767841085588164, 0.9866187866187867, 0.9806371018113679, 0.9875297585307788, 0.9897721989772199, 0.9884214146509228, 0.9806781701444622, 0.9818018710752274, 0.977662469151427, 0.9914783607813098, 0.986992405698864, 0.9685958368427385, 0.9694110306097687, 0.9831952386509512, 0.9729555698647778, 0.9877133793242359, 0.9815344603381014, 0.9797765521142695, 0.9184050895102825, 0.9744821092278719, 0.988951948543322, 0.9763281034957335, 0.9419759539989545, 0.985001485001485, 0.9623768289041504, 0.9731717509402423, 0.9843684431389006, 0.7734594885921313, 0.9548377101247192, 0.9494128274616079, 0.9779495339849966, 0.9656211051100956, 0.9802764180823496, 0.9197273759939417, 0.9779069129981909, 0.9833359784161244, 0.950507614213198, 0.964561403508772, 0.873423533733317, 0.9638715432649421, 0.9793141746494516, 0.9662430500397141, 0.9748040313549832, 0.9612366603892027, 0.9867989376659897, 0.9564419055391207, 0.9456329419334084, 0.9630577907827359, 0.9812149304708465, 0.9742059262417395, 0.9870709763412195, 0.9800326738064985, 0.9873361964541351, 0.9745434421693414, 0.9851158508516188, 0.9837235228539576, 0.9807179134027718, 0.975671750181554, 0.9752042007001167, 0.9534127473129321, 0.9522635589421784, 0.9538379908029714, 0.9849509638146771, 0.9818489835430784, 0.9717314487632509, 0.898302943529709, 0.9649763644177052, 0.9798096336890684, 0.9717597471022128, 0.9782834580216127, 0.9768020821545773, 0.9684808144087705, 0.9370603818397735, 0.9700832908380078, 0.9691584967320261, 0.9735842541436464, 0.9348687936567869, 0.9614117647058823, 0.8180997517490408, 0.9727937814357568, 0.9623837700760778], \"sizemode\": \"area\", \"sizeref\": 0.0024875671374577283, \"symbol\": \"circle\"}, \"mode\": \"markers\", \"name\": \"2011\", \"orientation\": \"v\", \"showlegend\": true, \"type\": \"scatter\", \"x\": [6.166666666666667, 4.9, 5.4, 2.6833333333333336, 4.233333333333333, 6.183333333333334, 2.783333333333333, 3.5166666666666666, 6.5, 6.966666666666667, 3.6666666666666665, 6.6, 2.9, 4.183333333333334, 3.466666666666667, 2.4333333333333336, 6.533333333333333, 4.566666666666666, 4.733333333333333, 4.75, 4.133333333333334, 4.15, 4.133333333333334, 3.4, 4.35, 3.3166666666666664, 5.483333333333333, 3.2666666666666666, 2.716666666666667, 3.1333333333333333, 3.2333333333333334, 5.833333333333333, 3.033333333333333, 3.1, 3.6666666666666665, 6.033333333333333, 3.283333333333333, 6.083333333333333, 3.8166666666666664, 2.5166666666666666, 4.4, 2.8666666666666667, 2.966666666666667, 2.3, 3.05, 2.8166666666666664, 2.4, 1.2, 2.45, 3.283333333333333, 3.15, 3.0833333333333335, 5.05, 2.8333333333333335, 1.3166666666666667, 2.6666666666666665, 3.9166666666666665, 3.7, 1.9333333333333333, 2.8166666666666664, 3.216666666666667, 5.333333333333333, 1.0833333333333333, 2.75, 2.4333333333333336, 3.033333333333333, 1.0166666666666666, 3.716666666666667, 3.3833333333333333, 3.4333333333333336, 3.15, 2.6666666666666665, 2.8833333333333333, 3.1666666666666665, 3.466666666666667, 2.716666666666667, 3.183333333333333, 2.7666666666666666, 3.5166666666666666, 2.9166666666666665, 2.8833333333333333, 3.216666666666667, 2.9, 3.2, 3.1666666666666665, 3.5833333333333335, 3.6333333333333333, 3.25, 3.65, 3.3333333333333335, 4.7, 4.016666666666667, 3.25, 2.8166666666666664, 3.9833333333333334, 3.4333333333333336, 3.3166666666666664, 3.0166666666666666, 2.716666666666667, 2.7, 3.0, 2.8166666666666664, 2.2333333333333334, 2.45, 3.283333333333333, 2.9333333333333336], \"xaxis\": \"x\", \"y\": [4330265, 4182821, 3822242, 2139904, 8124564, 3283037, 1500845, 1709843, 10894931, 4034203, 3009405, 9922812, 2163159, 4761152, 1574936, 2003532, 8628658, 10997591, 5575698, 1814607, 1804821, 1925700, 2825646, 1366076, 6338428, 1932507, 6580948, 2202322, 1423601, 4897193, 956772, 3577304, 1014696, 2777302, 996441, 3355593, 2904343, 6873135, 1181250, 492178, 1316371, 1466704, 3046159, 2381685, 1258017, 1856960, 2477267, 438862, 701565, 1628025, 1991328, 1869871, 1651037, 4909663, 376391, 1156178, 2639524, 1478029, 430613, 2636906, 722138, 2792336, 455344, 9124084, 397684, 1345351, 365886, 1129806, 2507643, 1861112, 2883880, 1186497, 436430, 431341, 1068764, 2643776, 885867, 1038859, 1340532, 1125785, 781814, 2294989, 1161437, 1548352, 5315632, 4213780, 2574707, 869829, 736051, 1182617, 3853172, 2640205, 1383238, 1163419, 1315655, 1411487, 1085136, 3031114, 1233073, 1027570, 1294093, 1137631, 970724, 8006981, 831685, 1735809], \"yaxis\": \"y\"}, {\"customdata\": [[\"BIGGEST Game Collection Ever... and More! -- Mind Blow 5\"], [\"Craziest Xbox Game? 10 MORE WTFs\"], [\"PANTIES For Trees! -- IMG! 17\"], [\"Mario's SECRET BALLS ??!!  Mind Blow 4\"], [\"Michael REVEALED !!!!\"], [\"NERD WARS: John McClane (Die Hard) vs Indiana Jones\"], [\"EPIC BATMAN GIRLS And More: IMG! 16\"], [\"12 BEST Kinect HACKS\"], [\"Who has the Deathly-est Hallows? Harry Potter or Dr Strange --NERD WARS\"], [\"What IS THIS??? IMG! 15\"], [\"7 Awesome WoW Facts\"], [\"TRAVEL CATACLYSM! (Wackygamer Commercial/Machinima)\"], [\"Make Strippers HOTTER and More! VSAUCE WTFs\"], [\"BEST Images of the Week! IMG! episode 14\"], [\"Street Fighter PUPPET SHOW: BLANKA!\"], [\"Whip My MOVE Back and Forth -- Black Nerd Comedy\"], [\"Demo Slam: ILLUSION TRICK!\"], [\"Mario vs. Link: Who Would Win?? NERD WARS\"], [\"Best PHOTOBOMBS: IMG! episode 12\"], [\"11 MORE Video Game WTFs !!\"], [\"Nerd Wars WTF 2: Snarf, Ewoks, Dr Doom, Flash, Sonic and more\"], [\"BLOW YOUR MIND!\"], [\"WEIRDEST Images of the Week: IMG! 11\"], [\"NERD WARS: Blizzcon Kerrigan, Lich King, Diablo and Deathwing 1/2\"], [\"Sexy Storm Troopers AND Tron Dogs: IMG! episode 10\"], [\"Top 6 SCARIEST Online Games: DONG #1\"], [\"NERD WARS! Punisher Vs Riddick (Vin Diesel)\"], [\"Glee! Hot Dogs! IMG! 9\"], [\"Top 4 WORST Video Games Coming out this Fall :)\"], [\"Superheroes MAKING BABIES\"], [\"If Medal Of Honor Came Out 60 Years Ago (PARODY COMMERCIAL DUB)\"], [\"\"], [\"SHARK MURDER and MORE. IMG! episode 8\"], [\"NERD WARS: Captain America vs. xXx (Vin Diesel)\"], [\"FAKE GAMES!\"], [\"Cosplay, ILLUSIONS, and Pacman: IMG! 7\"], [\"2010 Holiday/Christmas Game Guide: DC Universe Online, Dance Central, Cataclysm, AND MORE!\"], [\"Top 7 Video Game Mods: V-LIST #6\"], [\"BEST IMAGES OF THE WEEK: IMG! episode 6\"], [\"JEFF VS. ADAM: Nerd Wars!\"], [\"MARIO'S MISTAKES?  -- Chat with Black Nerd Comedy --\"], [\"BEST IMAGES OF THE WEEK: IMG! episode 5\"], [\"NERD WARS: WTF Suggestions!\"], [\"If FACEBOOK was a VIDEO GAME ... (Fake Game Trailer)\"], [\"BEST IMAGES OF THE WEEK: IMG! episode 4\"], [\"NERD WARS: Lara Croft Vs. Elektra!\"], [\"Top 5 WTF \\\"Dances\\\" in Video Games: V-LIST #5\"], [\"Why Geeks are Sexy: The Wing Girls\"], [\"BEST IMAGES OF THE WEEK: IMG! episode 3\"], [\"NERD WARS: Catwoman Vs Samus?\"], [\"6 MORE Tricks, Hacks, and Pranks -- \\\"Up All Knight\\\" Episode 3\"], [\"JERRY BLOOP REVIEWS: MGS Peacewalker, Alpha Protocol, Crackdown 2, Dragon Quest IX\"], [\"BEST IMAGES OF THE WEEK: IMG! episode 2\"], [\"NERD WARS: Boba Fett vs. Deadpool\"], [\"WACKYGAMER: Harry Potter: The Most Unbelievable Part\"], [\"Justin Bieber: GAME TRAILER (Parody)\"], [\"NERD WARS: Altair & Ezio Vs. Daredevil\"], [\"PEACH GOES GAGA! Super Mario Bromance -- Black Nerd Comedy\"], [\"JERRY BLOOP!!! Uninformed Video Game Reviews\"], [\"BioShock Infinite Trailer HD [WITH REACTION]\"], [\"Video Game Clich\\u00e9s IN REAL LIFE -- Episode 1\"], [\"NERD WARS: Thor vs. Kratos -- Who Would Win?\"], [\"Comic-Con WRAP UP: From The Wackygamer Podcast!\"], [\"BEST IMAGES OF THE WEEK: IMG episode 1\"], [\"7 Most ANNOYING Online Gamers: V-LIST #3\"], [\"WoW CREEP !! -- Wackygamer Stand-Up [Comic-Con 2010]\"], [\"5 Games That Will Get You Laid: V-LIST #2\"], [\"StarCraft II Guest Pass GIVEAWAY!!!  GTA IV + SCII = ??????\"], [\"SEXY BOBA FETT ??? Comic-Con Cosplay IMPROV COMMENTARY [PART 1]\"], [\"StarCraft 2 REMIX by Mike Relm\"], [\"\"], [\"COMIC-CON 2010: Halo: Reach Exclusive HD Footage - Forge World Beyond the Canyon, LE Xbox and more.\"], [\"NERD WARS: Iron Man vs Master Chief: Who Would Win? -- Wackygamer\"], [\"Top 5 Gratuitous B00BS in Gaming -- Wackygamer: V-LIST #4\"], [\"3 Easiest Ways to Prank Noobs -- \\\"Up All Knight\\\"\"], [\"NERD WARS: Bowser VS The Hulk: Who Would Win? -- Wackygamer\"], [\"9 More Video Game WTFs [CONTINUED]\"], [\"Top 7 WoW Cataclysm Visual Changes -- Wackygamer\"], [\"Comic-Con 2010 Stand-up Comedy FOR NERDS BY NERDS -- Cross Platform Comedy Will There !!\"], [\"Make Chris Brown CRY! (Interactive)\"], [\"Top 5 Video Game WTFs!!\"], [\"What Kinectimals SHOULD Be Like -- Wackygamer\"], [\"New Wonder Woman and New CHANNEL! (Part 2)\"], [\"Mark and Michael - Vsauce BLOOPERS\"], [\"Mario Farts!\"], [\"iPhone 4 is for LOSERS? -- Wackygamer\"], [\"Killzone Trailer PARODY Commentary -- Wackygamer\"], [\"Top E3 Rumors You MISSED -- Wackygamer\"]], \"hovertemplate\": \"Year=2010<br>Video Length (mins)=%{x}<br>Total Views=%{y}<br>Like Percentage=%{marker.size}<br>Video Title=%{customdata[0]}<extra></extra>\", \"legendgroup\": \"2010\", \"marker\": {\"color\": \"#EF553B\", \"opacity\": 0.4, \"size\": [0.9591963545981773, 0.9739238410596026, 0.9707575757575757, 0.9345488067192461, 0.9870972146368104, 0.7484276729559748, 0.947795235681703, 0.9714365986139727, 0.7117437722419929, 0.9488195091643368, 0.8892416072360411, 0.7179080824088748, 0.9634083490809139, 0.9872717210846708, 0.814388489208633, 0.4585635359116022, 0.9826107118015303, 0.784655061250806, 0.9740549828178694, 0.9734418632285663, 0.855621301775148, 0.985992639365853, 0.9576361694553222, 0.881508078994614, 0.9414944356120827, 0.9753944609952554, 0.8595238095238096, 0.9742233972240582, 0.7910863509749304, 0.962356067316209, 0.7517328292375551, 0.8186195826645265, 0.9582138467841049, 0.8413793103448276, 0.8874035430931421, 0.9857011070110702, 0.8654485049833887, 0.9419790869676103, 0.9778185456971314, 0.7975778546712803, 0.9376175548589342, 0.9827126116718877, 0.7618688771665411, 0.959935155164428, 0.9716488222698073, 0.8553672316384181, 0.9349821997376804, 0.5712507778469197, 0.9812750391917784, 0.6777879341864717, 0.9815181518151815, 0.7369109947643979, 0.9681920302707816, 0.8708272859216255, 0.8267581475128645, 0.9248571428571428, 0.8210412147505423, 0.7634709587123862, 0.7359767891682786, 0.6870342771982116, 0.8097165991902834, 0.8598382749326146, 0.9088669950738916, 0.9548793284365162, 0.5938891137191421, 0.9119496855345912, 0.7225473321858864, 0.9239766081871345, 0.5871097683786506, 0.93279258400927, 0.9681788862610191, 0.9019138755980861, 0.8316478286734087, 0.8796266495011265, 0.9597970926711085, 0.7802026500389712, 0.8453817029145021, 0.7579185520361991, 0.8012718600953895, 0.809220985691574, 0.9181701921747546, 0.0, 0.9217904574520414, 0.970086417017505, 0.8910489419706608, 0.8625730994152047, 0.8672859986728599, 0.8802083333333334], \"sizemode\": \"area\", \"sizeref\": 0.0024875671374577283, \"symbol\": \"circle\"}, \"mode\": \"markers\", \"name\": \"2010\", \"orientation\": \"v\", \"showlegend\": true, \"type\": \"scatter\", \"x\": [3.1166666666666667, 1.9833333333333334, 3.2, 2.4166666666666665, 3.85, 2.75, 3.4833333333333334, 2.3666666666666667, 4.8, 2.5833333333333335, 3.95, 1.5333333333333332, 2.4166666666666665, 2.55, 2.7666666666666666, 2.8666666666666667, 0.9833333333333333, 5.5, 2.716666666666667, 2.6666666666666665, 5.866666666666667, 3.05, 2.25, 5.083333333333333, 2.55, 3.3166666666666664, 4.433333333333334, 2.4333333333333336, 4.033333333333333, 3.716666666666667, 1.4166666666666667, 3.783333333333333, 2.6833333333333336, 4.683333333333334, 4.716666666666667, 2.716666666666667, 4.6, 2.716666666666667, 4.333333333333333, 2.716666666666667, 7.916666666666667, 2.45, 6.383333333333334, 2.2, 2.6833333333333336, 4.033333333333333, 1.95, 5.816666666666666, 3.3333333333333335, 4.666666666666667, 3.283333333333333, 5.166666666666667, 3.1666666666666665, 4.3, 1.4333333333333333, 1.7333333333333334, 4.716666666666667, 4.216666666666667, 5.9, 5.6, 3.95, 7.35, 7.683333333333334, 3.5, 2.7666666666666666, 2.4, 4.733333333333333, 1.7, 1.4333333333333333, 1.4833333333333334, 2.9166666666666665, 2.8166666666666664, 3.35, 2.3, 2.2666666666666666, 2.6166666666666667, 2.15, 2.3666666666666667, 1.25, 1.7666666666666666, 2.2, 3.716666666666667, 1.2333333333333334, 1.3, 0.8333333333333334, 4.216666666666667, 1.0166666666666666, 2.35], \"xaxis\": \"x\", \"y\": [815625, 477209, 1303149, 1741666, 765214, 65571, 2338288, 2342353, 119654, 2927686, 3550355, 64107, 1307093, 931799, 66155, 74806, 368138, 173113, 1357311, 2545866, 72445, 4969228, 1417719, 114967, 1039489, 1134237, 43741, 491849, 269364, 424261, 96651, 120526, 973979, 77793, 1168717, 890496, 83356, 2253060, 917184, 30568, 499308, 1287108, 180352, 276542, 1746426, 104599, 1408742, 138577, 1295286, 557196, 741865, 27967, 1613996, 81382, 47095, 263760, 76204, 581588, 44416, 77548, 96045, 125450, 27899, 2012407, 357116, 56780, 796566, 45999, 95854, 54979, 461997, 45597, 168657, 502036, 1062814, 199159, 2136775, 182690, 210804, 1133773, 6507724, 167549, 142425, 294706, 9571772, 159776, 158256, 518214], \"yaxis\": \"y\"}],                        {\"legend\": {\"itemsizing\": \"constant\", \"title\": {\"text\": \"Year\"}, \"tracegroupgap\": 0}, \"margin\": {\"t\": 60}, \"shapes\": [{\"line\": {\"dash\": \"dash\"}, \"type\": \"line\", \"x0\": 0, \"x1\": 1, \"xref\": \"x domain\", \"y0\": 2338288.0, \"y1\": 2338288.0, \"yref\": \"y\"}], \"template\": {\"data\": {\"bar\": [{\"error_x\": {\"color\": \"#2a3f5f\"}, \"error_y\": {\"color\": \"#2a3f5f\"}, \"marker\": {\"line\": {\"color\": \"#E5ECF6\", \"width\": 0.5}}, \"type\": \"bar\"}], \"barpolar\": [{\"marker\": {\"line\": {\"color\": \"#E5ECF6\", \"width\": 0.5}}, \"type\": \"barpolar\"}], \"carpet\": [{\"aaxis\": {\"endlinecolor\": \"#2a3f5f\", \"gridcolor\": \"white\", \"linecolor\": \"white\", \"minorgridcolor\": \"white\", \"startlinecolor\": \"#2a3f5f\"}, \"baxis\": {\"endlinecolor\": \"#2a3f5f\", \"gridcolor\": \"white\", \"linecolor\": \"white\", \"minorgridcolor\": \"white\", \"startlinecolor\": \"#2a3f5f\"}, \"type\": \"carpet\"}], \"choropleth\": [{\"colorbar\": {\"outlinewidth\": 0, \"ticks\": \"\"}, \"type\": \"choropleth\"}], \"contour\": [{\"colorbar\": {\"outlinewidth\": 0, \"ticks\": \"\"}, \"colorscale\": [[0.0, \"#0d0887\"], [0.1111111111111111, \"#46039f\"], [0.2222222222222222, \"#7201a8\"], [0.3333333333333333, \"#9c179e\"], [0.4444444444444444, \"#bd3786\"], [0.5555555555555556, \"#d8576b\"], [0.6666666666666666, \"#ed7953\"], [0.7777777777777778, \"#fb9f3a\"], [0.8888888888888888, \"#fdca26\"], [1.0, \"#f0f921\"]], \"type\": \"contour\"}], \"contourcarpet\": [{\"colorbar\": {\"outlinewidth\": 0, \"ticks\": \"\"}, \"type\": \"contourcarpet\"}], \"heatmap\": [{\"colorbar\": {\"outlinewidth\": 0, \"ticks\": \"\"}, \"colorscale\": [[0.0, \"#0d0887\"], [0.1111111111111111, \"#46039f\"], [0.2222222222222222, \"#7201a8\"], [0.3333333333333333, \"#9c179e\"], [0.4444444444444444, \"#bd3786\"], [0.5555555555555556, \"#d8576b\"], [0.6666666666666666, \"#ed7953\"], [0.7777777777777778, \"#fb9f3a\"], [0.8888888888888888, \"#fdca26\"], [1.0, \"#f0f921\"]], \"type\": \"heatmap\"}], \"heatmapgl\": [{\"colorbar\": {\"outlinewidth\": 0, \"ticks\": \"\"}, \"colorscale\": [[0.0, \"#0d0887\"], [0.1111111111111111, \"#46039f\"], [0.2222222222222222, \"#7201a8\"], [0.3333333333333333, \"#9c179e\"], [0.4444444444444444, \"#bd3786\"], [0.5555555555555556, \"#d8576b\"], [0.6666666666666666, \"#ed7953\"], [0.7777777777777778, \"#fb9f3a\"], [0.8888888888888888, \"#fdca26\"], [1.0, \"#f0f921\"]], \"type\": \"heatmapgl\"}], \"histogram\": [{\"marker\": {\"colorbar\": {\"outlinewidth\": 0, \"ticks\": \"\"}}, \"type\": \"histogram\"}], \"histogram2d\": [{\"colorbar\": {\"outlinewidth\": 0, \"ticks\": \"\"}, \"colorscale\": [[0.0, \"#0d0887\"], [0.1111111111111111, \"#46039f\"], [0.2222222222222222, \"#7201a8\"], [0.3333333333333333, \"#9c179e\"], [0.4444444444444444, \"#bd3786\"], [0.5555555555555556, \"#d8576b\"], [0.6666666666666666, \"#ed7953\"], [0.7777777777777778, \"#fb9f3a\"], [0.8888888888888888, \"#fdca26\"], [1.0, \"#f0f921\"]], \"type\": \"histogram2d\"}], \"histogram2dcontour\": [{\"colorbar\": {\"outlinewidth\": 0, \"ticks\": \"\"}, \"colorscale\": [[0.0, \"#0d0887\"], [0.1111111111111111, \"#46039f\"], [0.2222222222222222, \"#7201a8\"], [0.3333333333333333, \"#9c179e\"], [0.4444444444444444, \"#bd3786\"], [0.5555555555555556, \"#d8576b\"], [0.6666666666666666, \"#ed7953\"], [0.7777777777777778, \"#fb9f3a\"], [0.8888888888888888, \"#fdca26\"], [1.0, \"#f0f921\"]], \"type\": \"histogram2dcontour\"}], \"mesh3d\": [{\"colorbar\": {\"outlinewidth\": 0, \"ticks\": \"\"}, \"type\": \"mesh3d\"}], \"parcoords\": [{\"line\": {\"colorbar\": {\"outlinewidth\": 0, \"ticks\": \"\"}}, \"type\": \"parcoords\"}], \"pie\": [{\"automargin\": true, \"type\": \"pie\"}], \"scatter\": [{\"marker\": {\"colorbar\": {\"outlinewidth\": 0, \"ticks\": \"\"}}, \"type\": \"scatter\"}], \"scatter3d\": [{\"line\": {\"colorbar\": {\"outlinewidth\": 0, \"ticks\": \"\"}}, \"marker\": {\"colorbar\": {\"outlinewidth\": 0, \"ticks\": \"\"}}, \"type\": \"scatter3d\"}], \"scattercarpet\": [{\"marker\": {\"colorbar\": {\"outlinewidth\": 0, \"ticks\": \"\"}}, \"type\": \"scattercarpet\"}], \"scattergeo\": [{\"marker\": {\"colorbar\": {\"outlinewidth\": 0, \"ticks\": \"\"}}, \"type\": \"scattergeo\"}], \"scattergl\": [{\"marker\": {\"colorbar\": {\"outlinewidth\": 0, \"ticks\": \"\"}}, \"type\": \"scattergl\"}], \"scattermapbox\": [{\"marker\": {\"colorbar\": {\"outlinewidth\": 0, \"ticks\": \"\"}}, \"type\": \"scattermapbox\"}], \"scatterpolar\": [{\"marker\": {\"colorbar\": {\"outlinewidth\": 0, \"ticks\": \"\"}}, \"type\": \"scatterpolar\"}], \"scatterpolargl\": [{\"marker\": {\"colorbar\": {\"outlinewidth\": 0, \"ticks\": \"\"}}, \"type\": \"scatterpolargl\"}], \"scatterternary\": [{\"marker\": {\"colorbar\": {\"outlinewidth\": 0, \"ticks\": \"\"}}, \"type\": \"scatterternary\"}], \"surface\": [{\"colorbar\": {\"outlinewidth\": 0, \"ticks\": \"\"}, \"colorscale\": [[0.0, \"#0d0887\"], [0.1111111111111111, \"#46039f\"], [0.2222222222222222, \"#7201a8\"], [0.3333333333333333, \"#9c179e\"], [0.4444444444444444, \"#bd3786\"], [0.5555555555555556, \"#d8576b\"], [0.6666666666666666, \"#ed7953\"], [0.7777777777777778, \"#fb9f3a\"], [0.8888888888888888, \"#fdca26\"], [1.0, \"#f0f921\"]], \"type\": \"surface\"}], \"table\": [{\"cells\": {\"fill\": {\"color\": \"#EBF0F8\"}, \"line\": {\"color\": \"white\"}}, \"header\": {\"fill\": {\"color\": \"#C8D4E3\"}, \"line\": {\"color\": \"white\"}}, \"type\": \"table\"}]}, \"layout\": {\"annotationdefaults\": {\"arrowcolor\": \"#2a3f5f\", \"arrowhead\": 0, \"arrowwidth\": 1}, \"autotypenumbers\": \"strict\", \"coloraxis\": {\"colorbar\": {\"outlinewidth\": 0, \"ticks\": \"\"}}, \"colorscale\": {\"diverging\": [[0, \"#8e0152\"], [0.1, \"#c51b7d\"], [0.2, \"#de77ae\"], [0.3, \"#f1b6da\"], [0.4, \"#fde0ef\"], [0.5, \"#f7f7f7\"], [0.6, \"#e6f5d0\"], [0.7, \"#b8e186\"], [0.8, \"#7fbc41\"], [0.9, \"#4d9221\"], [1, \"#276419\"]], \"sequential\": [[0.0, \"#0d0887\"], [0.1111111111111111, \"#46039f\"], [0.2222222222222222, \"#7201a8\"], [0.3333333333333333, \"#9c179e\"], [0.4444444444444444, \"#bd3786\"], [0.5555555555555556, \"#d8576b\"], [0.6666666666666666, \"#ed7953\"], [0.7777777777777778, \"#fb9f3a\"], [0.8888888888888888, \"#fdca26\"], [1.0, \"#f0f921\"]], \"sequentialminus\": [[0.0, \"#0d0887\"], [0.1111111111111111, \"#46039f\"], [0.2222222222222222, \"#7201a8\"], [0.3333333333333333, \"#9c179e\"], [0.4444444444444444, \"#bd3786\"], [0.5555555555555556, \"#d8576b\"], [0.6666666666666666, \"#ed7953\"], [0.7777777777777778, \"#fb9f3a\"], [0.8888888888888888, \"#fdca26\"], [1.0, \"#f0f921\"]]}, \"colorway\": [\"#636efa\", \"#EF553B\", \"#00cc96\", \"#ab63fa\", \"#FFA15A\", \"#19d3f3\", \"#FF6692\", \"#B6E880\", \"#FF97FF\", \"#FECB52\"], \"font\": {\"color\": \"#2a3f5f\"}, \"geo\": {\"bgcolor\": \"white\", \"lakecolor\": \"white\", \"landcolor\": \"#E5ECF6\", \"showlakes\": true, \"showland\": true, \"subunitcolor\": \"white\"}, \"hoverlabel\": {\"align\": \"left\"}, \"hovermode\": \"closest\", \"mapbox\": {\"style\": \"light\"}, \"paper_bgcolor\": \"white\", \"plot_bgcolor\": \"#E5ECF6\", \"polar\": {\"angularaxis\": {\"gridcolor\": \"white\", \"linecolor\": \"white\", \"ticks\": \"\"}, \"bgcolor\": \"#E5ECF6\", \"radialaxis\": {\"gridcolor\": \"white\", \"linecolor\": \"white\", \"ticks\": \"\"}}, \"scene\": {\"xaxis\": {\"backgroundcolor\": \"#E5ECF6\", \"gridcolor\": \"white\", \"gridwidth\": 2, \"linecolor\": \"white\", \"showbackground\": true, \"ticks\": \"\", \"zerolinecolor\": \"white\"}, \"yaxis\": {\"backgroundcolor\": \"#E5ECF6\", \"gridcolor\": \"white\", \"gridwidth\": 2, \"linecolor\": \"white\", \"showbackground\": true, \"ticks\": \"\", \"zerolinecolor\": \"white\"}, \"zaxis\": {\"backgroundcolor\": \"#E5ECF6\", \"gridcolor\": \"white\", \"gridwidth\": 2, \"linecolor\": \"white\", \"showbackground\": true, \"ticks\": \"\", \"zerolinecolor\": \"white\"}}, \"shapedefaults\": {\"line\": {\"color\": \"#2a3f5f\"}}, \"ternary\": {\"aaxis\": {\"gridcolor\": \"white\", \"linecolor\": \"white\", \"ticks\": \"\"}, \"baxis\": {\"gridcolor\": \"white\", \"linecolor\": \"white\", \"ticks\": \"\"}, \"bgcolor\": \"#E5ECF6\", \"caxis\": {\"gridcolor\": \"white\", \"linecolor\": \"white\", \"ticks\": \"\"}}, \"title\": {\"x\": 0.05}, \"xaxis\": {\"automargin\": true, \"gridcolor\": \"white\", \"linecolor\": \"white\", \"ticks\": \"\", \"title\": {\"standoff\": 15}, \"zerolinecolor\": \"white\", \"zerolinewidth\": 2}, \"yaxis\": {\"automargin\": true, \"gridcolor\": \"white\", \"linecolor\": \"white\", \"ticks\": \"\", \"title\": {\"standoff\": 15}, \"zerolinecolor\": \"white\", \"zerolinewidth\": 2}}}, \"xaxis\": {\"anchor\": \"y\", \"domain\": [0.0, 1.0], \"title\": {\"text\": \"Video Length (mins)\"}}, \"yaxis\": {\"anchor\": \"x\", \"domain\": [0.0, 1.0], \"title\": {\"text\": \"Total Views\"}}},                        {\"responsive\": true}                    ).then(function(){\n",
       "                            \n",
       "var gd = document.getElementById('8c31e849-d38c-4049-aea1-58e34f4d4c84');\n",
       "var x = new MutationObserver(function (mutations, observer) {{\n",
       "        var display = window.getComputedStyle(gd).display;\n",
       "        if (!display || display === 'none') {{\n",
       "            console.log([gd, 'removed!']);\n",
       "            Plotly.purge(gd);\n",
       "            observer.disconnect();\n",
       "        }}\n",
       "}});\n",
       "\n",
       "// Listen for the removal of the full notebook cells\n",
       "var notebookContainer = gd.closest('#notebook-container');\n",
       "if (notebookContainer) {{\n",
       "    x.observe(notebookContainer, {childList: true});\n",
       "}}\n",
       "\n",
       "// Listen for the clearing of the current output cell\n",
       "var outputEl = gd.closest('.output');\n",
       "if (outputEl) {{\n",
       "    x.observe(outputEl, {childList: true});\n",
       "}}\n",
       "\n",
       "                        })                };                });            </script>        </div>"
      ]
     },
     "metadata": {},
     "output_type": "display_data"
    }
   ],
   "source": [
    "import plotly.express as px\n",
    "\n",
    "LABELS = { \n",
    "    'upload_year': 'Year', \n",
    "    'views': 'Total Views', \n",
    "    'vid_dur': 'Video Length (mins)',\n",
    "    'vid_title': 'Video Title',\n",
    "    'dislikes_percent': 'Dislike Percentage',\n",
    "    'likes_percent': 'Like Percentage',\n",
    "    'vid_id': 'Total Videos',\n",
    "}\n",
    "\n",
    "# views vs video length (like percent)\n",
    "\n",
    "fig = px.scatter(\n",
    "    data_frame=df,\n",
    "    x='vid_dur',\n",
    "    y='views',\n",
    "    color='upload_year',\n",
    "    size='likes_percent',\n",
    "    opacity=0.4,\n",
    "    hover_data=['vid_title'],\n",
    "    labels=LABELS,\n",
    "    \n",
    ")\n",
    "fig.add_hline(y=df['views'].median(), line_dash='dash', )\n",
    "\n",
    "fig.show()"
   ]
  },
  {
   "cell_type": "code",
   "execution_count": 176,
   "metadata": {},
   "outputs": [
    {
     "data": {
      "application/vnd.plotly.v1+json": {
       "config": {
        "plotlyServerURL": "https://plot.ly"
       },
       "data": [
        {
         "customdata": [
          [
           "BEST OF THE WEEK 11 | SAMAY RAINA"
          ],
          [
           "Coming Back to Life - Reaching 1500 ft. Sagar Exposed Shah"
          ]
         ],
         "hovertemplate": "Year=2021<br>Video Length (mins)=%{x}<br>Total Views=%{y}<br>Dislike Percentage=%{marker.size}<br>Video Title=%{customdata[0]}<extra></extra>",
         "legendgroup": "2021",
         "marker": {
          "color": "#636efa",
          "opacity": 0.6,
          "size": [
           0.014673419036488767,
           0.01791178446152698
          ],
          "sizemode": "area",
          "sizeref": 0.00028481546454355304,
          "symbol": "circle"
         },
         "mode": "markers",
         "name": "2021",
         "orientation": "v",
         "showlegend": true,
         "type": "scatter",
         "x": [
          8.633333333333333,
          87.76666666666667
         ],
         "xaxis": "x",
         "y": [
          205861,
          183274
         ],
         "yaxis": "y"
        },
        {
         "customdata": [
          [
           "SAGAR SHAH EXPOSED - VLOG #3"
          ],
          [
           "ACCIDENTALLY GAVE 10,000 RS. SUPERCHAT TO @GamerFleet | BUDWEISER CONQUER 2020"
          ],
          [
           "ROAST BATTLE ft. Vidit Gujrathi | Sagar Shah | Samay Raina | Vaibhav Sethia"
          ],
          [
           "Good evening chess ft. Vidit Gujrathi"
          ],
          [
           "SAMAY RAINA IN DELHI ft. @Suhani Shah @SOUL Sangwan @Nishant Tanwar"
          ],
          [
           "THE WEIGHTLOSS VLOG | SAMAY RAINA"
          ],
          [
           "ADOPTING VAIBHAV SETHIA"
          ],
          [
           "GM ABISH MATHEW - THE NAME IS ENOUGH"
          ],
          [
           "Stream ends when I make one mistake in Puzzle Rush | LONG STREAM | ADDRESS REVEAL CHALLENGE*"
          ],
          [
           "BEST OF THE WEEK 10 | SAMAY RAINA"
          ],
          [
           "YOUTUBE vs TWITCH ft. Alexandra Botez"
          ],
          [
           "THIS IS GM ABISH MATHEW'S IMMORTAL | BEST OF COB3"
          ],
          [
           "ACHARA KIRK COMPLETELY SPOILED ft. @jaby koay  @GamerFleet  [18+]"
          ],
          [
           "THIS IS KUSHA KAPILA's IMMORTAL | BEST OF COB3"
          ],
          [
           "COMEDIANS ON BOARD | NO MERCY | GRAND FINALE"
          ],
          [
           "COMEDIANS ON BOARD | NO MERCY | DAY 2 QUARTER FINALS"
          ],
          [
           "COMEDIANS ON BOARD 3 | NO MERCY | DAY 1"
          ],
          [
           "Comedians On Board 3 - Teaser #2"
          ],
          [
           "SASTEY IMPRACTICAL JOKERS EP 02 FT. @Karan Singh Boomer @GamerFleet"
          ],
          [
           "COB 3 OFFICIAL TRAILER #1"
          ],
          [
           "CHESS FUNDAMENTALS ft. ARAVIND SA"
          ],
          [
           "WE PRANK CALLED YOUTUBERS!"
          ],
          [
           "MEMBERS vs SUBS BATTLE against ALEXANDRA BOTEZ"
          ],
          [
           "IF SAMAY RAINA WAS MARIO | VIDEO BY @BeastStats"
          ],
          [
           "SASTEY IMPRACTICAL JOKERS ft. @GamerFleet @RIDER OP"
          ],
          [
           "WWE, PRANK CALL AND MUCH MORE FT. SHAMERFLEET, JABY KOAY AND DANK RISHU"
          ],
          [
           "MEMBERS vs SUBS BATTLE FT. ANNA RUDOLF"
          ],
          [
           "HUMAN FALL FLAT FT. CHOWKDI - KSB + RIDEROP"
          ],
          [
           "I LOST THE CHALLENGE SO I WILL LOSE 6.5 KILOS IN 30 DAYS"
          ],
          [
           "BEST OF THE WEEK 9 | SAMAY RAINA"
          ],
          [
           "BM ADOPTED BY GM"
          ],
          [
           "IF I DON'T REACH 1500 BEFORE 10 PM THEN I REVEAL MY GIRL FRIEND"
          ],
          [
           "A brief history of time.....500K Special 💖💖💖"
          ],
          [
           "Training Kenny cuz he loves Chess now ft. Kusha #COB3"
          ],
          [
           "Human Fall Flat ft. Chowkdi"
          ],
          [
           "Reaching 1400 before reaching 500K"
          ],
          [
           "Grand Finale |  Red bull Rubik's Cube ft. KSM and Soham"
          ],
          [
           "Curb you dare - Miniclip #17"
          ],
          [
           "Kenny Sebastian vs Sapan Verma | Samay Raina"
          ],
          [
           "Learn how to Cube EP 04 - Finishing the Cube | Red bull Rubik's cube ft. Tania Sachdev"
          ],
          [
           "[18+] Finding LAURA on Omegle ft. Mehfil"
          ],
          [
           "ERIC ROSEN vs LEVY ROZMAN | SAMAY RAINA"
          ],
          [
           "Learn how to Cube EP 03 - Bottom two layers | Red bull Rubik's cube ft. Tania Sachdev"
          ],
          [
           "Curb your Actually Improving Chess - Miniclip #17"
          ],
          [
           "Members only stream with SAGAR SHAH - Watching Queen's Gambit"
          ],
          [
           "Learn how to Cube EP 02 - Completing the base | Red Bull Rubik's Cube ft. Tania Sachdev"
          ],
          [
           "ENDGAME | SAGAR SHAH DISS [OFFICIAL VIDEO]"
          ],
          [
           "Learn how to Cube EP 01 - The Cross | Red Bull Rubik's Cube ft. Tania Sachdev"
          ],
          [
           "CHAT MADE ME GO TO OMEGLE and OMG!!!!"
          ],
          [
           "CURB YOUR CONFIDENCE ft. @Tanmay Bhat  - Miniclip #16"
          ],
          [
           "GOODBYE CHESS ft. Sagar Shah"
          ],
          [
           "SAMAY RAINA BIRTHDAY SIMUL + COB 3 Lineup Reveal"
          ],
          [
           "SAMAY RAINA AGAINST THE WORLD | TWERK CHALLENGE"
          ],
          [
           "MYTHPAT IS THE LUCKIEST MAN ALIVE ft. TRIGGERED INSAAN"
          ],
          [
           "Curb your guide - Miniclip #15"
          ],
          [
           "SAMAY RAINA NAHI PIGHLEGA - Miniclip #14"
          ],
          [
           "SAIMAN SAYS ROASTS DANK RISHU"
          ],
          [
           "MY UGLY COUSIN"
          ],
          [
           "STREAM ENDS WHEN I LOSE THRICE IN A ROW | SAMAY RAINA AGAINST THE CHAT"
          ],
          [
           "MYTHPAT PLAYS THE GREATEST MOVE EVER in Chess - Miniclip #13"
          ],
          [
           "MYTHPAT vs TRIGGERED INSAAN CHESS"
          ],
          [
           "BULLYING NOOBS ON CHESS.COM - Miniclip #12"
          ],
          [
           "HOW TO AVOID A FORK 220 IQ - Miniclip #11"
          ],
          [
           "NAUGHTY SAGAR SHAH COMPILATION"
          ],
          [
           "SAIMAN SAYS vs DANK RISHU ft. Vidit, KSM, Gamerfleet"
          ],
          [
           "CHESS VARIANTS FT. ANNA RUDOLF and TANIA SACHDEV"
          ],
          [
           "Samay Raina emotional poem ft. @Yahya Bootwala @Suhani Shah @UnErase Poetry"
          ],
          [
           "CHESS with JABY KOAY & ACHARA ft. Vidit Gujrathi"
          ],
          [
           "Once a BM always a BM - Miniclip #9"
          ],
          [
           "BEST OF THE WEEK #8 | SAMAY RAINA"
          ],
          [
           "WWE ft. SHAMERFLEET, CRYDER, RAKAZONE, KARAN SINGH BOOMER, RAMAN CHOBRA"
          ],
          [
           "DEFEATING BISWA ft. Sagar Shah Spoilt"
          ],
          [
           "AMONG US FT. POETS"
          ],
          [
           "DON'T TRUST CHESS GRANDMASTERS FT. INDIAN CHESS SCENE"
          ],
          [
           "CURB YOUR BRILLIANCY - Miniclip #8"
          ],
          [
           "SAMAY RAINA IMvitational day 2 - FINALS"
          ],
          [
           "MODIJI KA KHAUF FT. SUKHBIR, GURSIMRAN KHAMBA and RIDER OP"
          ],
          [
           "LONG STREAM ft. Tanmay, KSB, GamerFleet, Janta"
          ],
          [
           "FALL GUYS INDIA PLAYS - SAMAY RAINA"
          ],
          [
           "SAMAY RAINA IMvitational TOURNAMENT DAY 1"
          ],
          [
           "SAMAY RAINA SPOILS SONGS COMPILATION"
          ],
          [
           "Curb your Badass move - Miniclip #7"
          ],
          [
           "Good night chess ft. My girlfriend Vidit"
          ],
          [
           "JUDIT POLGAR vs Comedians on Board"
          ],
          [
           "BEWAFA SUHANI ft. @Karan Singh Magic @Suhani Shah @GamerFleet"
          ],
          [
           "Among Us ft. Chess Gang"
          ],
          [
           "GM MAGNUS CARLSEN vs BM SAMAY RAINA ft. UPMANYU, VIDIT Highlights"
          ],
          [
           "Curb your clean content ft. Sagar Shah Spoiled  Miniclip #6"
          ],
          [
           "Goodnight Chess (Fog of war) ft. Anish Giri"
          ],
          [
           "Gaadi Waala Aaya compilation - Miniclip #5"
          ],
          [
           "Shortest Game of Magnus Carlsen - Miniclip #4"
          ],
          [
           "PACIFY 2 ft. CHOWKDI"
          ],
          [
           "Good night chess ft. Vidit + UNACADEMY REVELATION"
          ],
          [
           "Divya Deshmukh vs Daniel King  - DICE CHESS"
          ],
          [
           "Curb your leak - MINICLIP #3"
          ],
          [
           "Streaming until I reach 1600"
          ],
          [
           "SAMAY RAINA | INDIA PLAYS @NODWIN Gaming  #IndiaPlays"
          ],
          [
           "SAMAY RAINA | BEST OF THE WEEK #7"
          ],
          [
           "Among Us ft. Tanmay, KSB, Fleet and many friends"
          ],
          [
           "SAMAY RAINA FREESTYLE - MINICLIP #2"
          ],
          [
           "VLADIMIR KRAMNIK vs Comedians on Board ft. Abhishek Upmanyu, Biswa, Sethia and Samay"
          ],
          [
           "Sagar Shah Proud Student - Miniclip #1"
          ],
          [
           "BHOOTNI KI MAA KA BHAROSA - PACIFY HIGHLIGHTS ft. @Karan Singh Magic @Suhani Shah @GamerFleet"
          ],
          [
           "GM Radjabov vs Sagar Shah, Amruta and Samay Raina"
          ],
          [
           "Among Us ft. CARRYMINATI, TANMAY BHAT, KSB, SUHANI SHAH GAMERFLEET, NISHANT TANWAR"
          ],
          [
           "Among Us with Tanmay Bhat, GamerFleet, Karan Singh Boomer, Suhani Shah, Nishant Tanwar, DaddyCool"
          ],
          [
           "Reaching 1600 - NO SCAM ft. Sagar Shah"
          ],
          [
           "VISHY ANAND vs MAGNUS CARLSEN"
          ],
          [
           "CONVINCING RANDOM STRANGERS TO PLAY CHESS ON OMEGLE PART 4"
          ],
          [
           "Chess with Subscribers (JOIN DISCORD) ft. My Friend Vidit"
          ],
          [
           "Dice Chess - MAGNUS CARLSEN vs VIDIT GUJRATHI"
          ],
          [
           "WE WON PACIFY ft. Karan Singh Boomer, GamerFleet, Suhani my cutie"
          ],
          [
           "Blitzing ft. Sagar Shah"
          ],
          [
           "Dice Chess - Alexandra Botez vs Tania Sachdev"
          ],
          [
           "MAGNUS KALICHARAN was on my channel ❤️❤️❤️❤️"
          ],
          [
           "Bakchod Chess ft. Sukhbir, Khamba, Nishant, Karan Singh Boomer"
          ],
          [
           "To Sagar Shah, with love - Happy Teachers' Day"
          ],
          [
           "SAMAY RAINA | BEST OF THE WEEK #6"
          ],
          [
           "CHESS ft. WORLD CHAMPION MAGNUS CARLSEN"
          ],
          [
           "Fall guys ft. Karan Singh Boomer, Tania Sachdev, Vidit Gujrathi"
          ],
          [
           "THE GENIUS OF SAMAY RAINA - EINSTEIN DISS"
          ],
          [
           "FINALE!! INDIA vs RUSSIA CHESS OLYMPIAD LIVE STREAM"
          ],
          [
           "CHESS OLYMPIAD QUARTER FINALS - INDIA vs ARMENIA"
          ],
          [
           "BAWASIR ft. Alexandra Botez, Tania and Karan Singh Boomer"
          ],
          [
           "FALL GUYS unSTRIP challenge ft. Gamer Fleet, Suhani Shah and Karan Singh Boomer"
          ],
          [
           "Good night chess"
          ],
          [
           "Just Chillin' with Sagar Shah and Amruta Mokal"
          ],
          [
           "Members' tournament #2 - Hunt for the strongest member"
          ],
          [
           "I am a GENIUS - I.Q Test"
          ],
          [
           "SAY THE TRUTH Fall Guys ft. Karan Singh Boomer, SUHANI, FLEET"
          ],
          [
           "SAMAY RAINA | BEST OF WEEK #5 ft. @Tanmay Bhat"
          ],
          [
           "Fall guys ft. Alexandra Botez, Tania Sachdev, Karan Singh Magic CHILLI CHALLENGE"
          ],
          [
           "Billu Bewafa ft. @Suhani Shah and @GM Cemil Can Chess"
          ],
          [
           "Goodnight chess - Reaching 1450 ft. Sagar Shah #ARJUNAFORCHESS"
          ],
          [
           "CHESS OLYMPIAD DAY 1 ft. Sagar Shah, Biswa, Sethia"
          ],
          [
           "CONVINCING RANDOM STRANGERS TO PLAY CHESS ON OMEGLE PART 3"
          ],
          [
           "Fall guys ft. Tania Sachdev"
          ],
          [
           "Best of Week #4 ft. Vidit Gujrathi, Sagar Shah, Tanmay Bot"
          ],
          [
           "Reaching 1450 ft. Sagar Shah's voice"
          ],
          [
           "FALL GUYS JEETNA HAI AAJ | FALLS GUYS GIVE AWAY"
          ],
          [
           "Good afternoon chess ft. Tanmay Bot"
          ],
          [
           "Burnol Boys play Fall Guys ft. @Flying Beast @Nishant Tanwar"
          ],
          [
           "I TORE MY SHIRT PLAYING THIS GAME | UNFAIR MARIO"
          ],
          [
           "Noobs play Fall Guys ft. @Tanmay Bhat @Nishant Tanwar"
          ],
          [
           "UNTITLED TUESDAY but on Wednesday (Registration link in dikscription)"
          ],
          [
           "Good afternoon chess - Reaching 1500"
          ],
          [
           "PLAYING THE BEST GAME OF ALL TIME"
          ],
          [
           "HUSBAND vs WIFE ft. Sagar Shah and Amruta (Dice Chess)"
          ],
          [
           "WILL DELETE MY YOUTUBE CHANNEL IF I DON'T REACH 1600 RATING ON CHESS.COM"
          ],
          [
           "DICE CHESS - Anish Giri vs Teimour Radjabov"
          ],
          [
           "BEST OF THE WEEK #3 ft. @Tanmay Bhat  , Biswa"
          ],
          [
           "WILL CHANGE NAME ON CHESS.COM TO WHATEVER YOU SAY IF I DON'T REACH 1300"
          ],
          [
           "Botez sisters play SCRIBBL ft. Agadmator, Vidit, Sagar"
          ],
          [
           "DEFEATING @CarryMinati, @Tanmay Bhat  ft. @BB Ki Vines  HIGHLIGHTS"
          ],
          [
           "CHESS ft. CARRY, BHUVAN and TANMAY BOT"
          ],
          [
           "Happy friendship day ft. Pentala Harikrishna"
          ],
          [
           "BEST OF THE WEEK COMPILATION #2"
          ],
          [
           "RAHUL DUA vs JASPREET SINGH"
          ],
          [
           "CONVINCING RANDOM STRANGERS TO PLAY CHESS ON OMEGLE PART 2"
          ],
          [
           "REACHING 1300 AT ANY COST"
          ],
          [
           "Skribble ft. Botez sisters, AGADMATOR, Sagar Shah, Vidit G"
          ],
          [
           "I LEAKED SUKHBIR's NUMBER 🤦🤦🤦"
          ],
          [
           "BEST OF WEEK COMPILATION #1"
          ],
          [
           "CONVINCING RANDOM STRANGERS TO PLAY CHESS ON OMEGLE Part 1"
          ],
          [
           "Members tournament - Hunt for the strongest member and also reaching 1300"
          ],
          [
           "@BB Ki Vines  FUNNY CHESS HIGHLIGHTS ft. @Tanmay Bhat @Aakash Gupta"
          ],
          [
           "Good night chess - Reaching 1300"
          ],
          [
           "Bhuvan Bam plays chess ft. Aakash Gupta and Tanmay Bot"
          ],
          [
           "Women's Speed Chess Championship finals - Rooting for HUMPY"
          ],
          [
           "Understanding Rap ft. SEEDHE MAUT"
          ],
          [
           "CRASH COURSE: DISCORD"
          ],
          [
           "RAFTAAR vs EPR ft. Vidit Gujrathi"
          ],
          [
           "FLYING BEAST TRIES CHESS ft. Vidit, Sagar, Karan Singh Boomer"
          ],
          [
           "Good evening chess - Road to 1250"
          ],
          [
           "GM ROBERT HESS vs COMEDIANS ON BOARD ft. Anish Giri, Vidit Gujrathi"
          ],
          [
           "PRANK CALLS COMPILATION"
          ],
          [
           "CHESS or SCRIBBLE ft. Anish, Vidit, Radjabov, Tania, Adhiban"
          ],
          [
           "BEST OF ANIRBAN ft. Sagar, Biswa, Vaibhav, Everybody"
          ],
          [
           "Khelna toh chess tha (Prank Calls)"
          ],
          [
           "CURB YOUR ARROGANCE 2 FT. JOEL, BISWA, TANMAY, VIDIT"
          ],
          [
           "HAND and BRAIN ft. BASSI and DEVESH DIXIT"
          ],
          [
           "AWARD CEREMONY ft. Vishy Anand, Alexandra Botez, AGADMATOR, Tania"
          ],
          [
           "COMEDIANS on BOARD 2 - GRAND FINALE LIVE STREAM"
          ],
          [
           "COMEDIANS on BOARD DAY 2 - SEARCH FOR TOP 4"
          ],
          [
           "COMEDIANS on BOARD 2 - DAY 1 (Part 2 of 2)"
          ],
          [
           "COMEDIANS on BOARD 2 -  DAY 1 (Part 1 of 2)"
          ],
          [
           "CURB YOUR ARROGANCE ft. Joel and Biswa"
          ],
          [
           "Practicing for tomorrow's big day ft. Biswa, Rahul Sub, Anirban, Sagar Shah"
          ],
          [
           "Chess ft. Mudit Dani and Sathiyan Gnanasekaran ft. Vidit and @Vivek Desai Illusionist"
          ],
          [
           "WATCH TILL END!!! @Vidit Gujrathi @SOUL Sangwan @MambaSR @GamerFleet"
          ],
          [
           "Understanding Rap ft. E.P.R and RAFTAAR"
          ],
          [
           "RAIDNIGHT ft. @CarryisLive @MambaSR @GamerFleet"
          ],
          [
           "CHILL SESSION FT. BALI, SANGWAN, RAAJ JONES"
          ],
          [
           "MEMBERSHIP ALERT"
          ],
          [
           "RAHUL SUBRAMANIAN vs KUMAR VARUN ft. BELLATRIX"
          ],
          [
           "AAKASH GUPTA vs GAURAV KAPOOR"
          ],
          [
           "Raidnight chess ft. Vidit Gujrathi"
          ],
          [
           "QUALITY CONTENT ft. @Tanmay Bhat @Karan Singh Magic"
          ],
          [
           "TANIA SACHDEV IS A SINGER"
          ],
          [
           "Good night chess"
          ],
          [
           "WWE ft. Tanmay Bot"
          ],
          [
           "Chess Doubles ft. Soundarya Pradhan and Aryan Joshi"
          ],
          [
           "Understanding Rap ft. Kr$na, RAFTAAR, Rohan Cariappa"
          ],
          [
           "Magicians on Board ft. Karan Singh Magic, Tania Sachdev and Suhani Shah"
          ],
          [
           "TEACHER vs STUDENTS ft. IM SAGAR SHAH"
          ],
          [
           "UNBOXING NEW LAPTOP IN FRONT OF OLD LAPTOP"
          ],
          [
           "4 Player Chess ft. Tanmay Bot, Kaneez, Sethia and Hackerman"
          ],
          [
           "Subscribers Chess Tournament (Open to all ratings) for West Bengal"
          ],
          [
           "Sagar Shah Spoiled ft. @Chess Talk @ChessBase India"
          ],
          [
           "Subscribers Chess Tournament (0-1800) for West Bengal"
          ],
          [
           "Subscribers Chess tournament (0-1400) for West Bengal"
          ],
          [
           "Clear all your doubts about the tournament"
          ],
          [
           "GM PENTALA HARIKRISHNA and RAJ TARUN vs Comedians on Board"
          ],
          [
           "BISWAASGHAAT Compilation ft. @Vidit Gujrathi"
          ],
          [
           "WE TRIED TO DEFEAT ANISH GIRI"
          ],
          [
           "GHODA IS A RESPECTABLE ANIMAL COMPILATION ft. @Biswa Kalyan Rath"
          ],
          [
           "4 Player Chess ft. Nihal Sarin, Vidit Gujrathi, Vaibhav Sethia and Anirban Dasgupta"
          ],
          [
           "GM Harika Dronavalli and Kaneez Surkha vs GM S.P Sethuraman and Rahul Subramanian"
          ],
          [
           "Chess with Subscribers (Join Discord)"
          ],
          [
           "TAG TEAM MATCH - Chessbase India vs Chess Talk ft. Tanmay Bot"
          ],
          [
           "Comedians on Board vs GM S.P SETHURAMAN"
          ],
          [
           "Pokemon Ruby - The Beginning"
          ],
          [
           "4 PLAYER CHESS ft. Alexandra Botez, Agadmator, Anish Giri and Vidit Gujrathi"
          ],
          [
           "DEFEATING VIDIT GUJRATHI"
          ],
          [
           "Blind Chess Players vs Comedians on Board"
          ],
          [
           "PUBG ft.YUZVENDRA CHAHAL, RAFTAAR, TANMAY BOT"
          ],
          [
           "Pokemon Fire Red - The Ending"
          ],
          [
           "Completing Pokemon Fire Red maybe"
          ],
          [
           "TRAINING KUSHA KAPILA ft. Sagar Shah"
          ],
          [
           "Pokemon Fire Red because why not"
          ],
          [
           "Non Violent Chess ft. Gang"
          ],
          [
           "PUBG ft. KR$NA - FUNNY HIGHLIGHTS"
          ],
          [
           "Pokemon Fire Red continues"
          ],
          [
           "Alexandra Botez vs Vidit Gujrathi (Blindfold)"
          ],
          [
           "Pokemon Fire Red (NSFW)"
          ],
          [
           "Pokemon Fire Red (Fail)"
          ],
          [
           "Botez and Kusha vs Kaneez and Biswa HIGHLIGHTS"
          ],
          [
           "Good evening chess ft. Vidit and Gang"
          ],
          [
           "Blindfold chess - Biswa vs Sethia"
          ],
          [
           "[Re-Upload] CHESS FOR CHARITY 2.0 ft. RAFTAAR, ANISH GIRI, CarryMinati and many lovely people"
          ],
          [
           "Blindfold Chess ft. My friend Vidit Gujrathi"
          ],
          [
           "4 Player chess ft. Vidit"
          ],
          [
           "4 player chess ft. Biswa, Sethia and Anirban"
          ],
          [
           "ADHIBAN FUNNY  HIGHLIGHTS"
          ],
          [
           "Online chess championship finals and 4 player chess ft. Biswa, Tanmay, Sagar and Sethia and"
          ],
          [
           "LIVE STREAMING World Online Chess Cup India vs China, India vs Russia ft. Tania"
          ],
          [
           "LIVE STREAMING World Online Chess Cup India vs ROW, India vs Europe"
          ],
          [
           "LIVE STREAMING World Online Chess Cup India vs Russia, India vs USA"
          ],
          [
           "WHEN LEGENDS MEET - Abish Mathew vs Yahya Bootwala highlights ft. Biswa hacker"
          ],
          [
           "World Online Chess Cup India vs China ft. Adibhan"
          ],
          [
           "LIVE STREAMING World Online Chess Cup INDIA vs USA"
          ],
          [
           "BISWA HACKER COMPILATION"
          ],
          [
           "VIDIT GUJRATHI vs NIHAL SARIN ft. Tanmay Bot"
          ],
          [
           "Chess Puzzles ft. Sagar Shah, Biswa, Sapan and Gang"
          ],
          [
           "Understanding chess #3 ft. Nihal Sarin"
          ],
          [
           "VISWANATHAN ANAND vs GM ABISH MATHEW (Match of the century) Highlights"
          ],
          [
           "Chess ft. GM Adhiban, the beast @Biswa Kalyan Rath @VAIBHAV SETHIA"
          ],
          [
           "Understanding chess #2 with Vidit Gujrathi, Sethia and Biswa Hacker"
          ],
          [
           "CHESS FOR CHARITY ft. VISWANATHAN ANAND, YUZVENDRA CHAHAL"
          ],
          [
           "Chess ft. Varun Thakur"
          ],
          [
           "Fun with AGADMATOR ft. @Biswa Kalyan Rath @Abhishek Upmanyu @agadmator's Chess Channel"
          ],
          [
           "PUBG FT. RAFTAAR, KR$NA, TANMAY BHAT and YUNAN HIGHLIGHTS"
          ],
          [
           "Defeating Aakash Mehta ft. Nihal Sarin and @Biswa Kalyan Rath Hacker"
          ],
          [
           "Aakash Mehta vs Abhishek Upmanyu  (Title match)"
          ],
          [
           "YUZVENDRA CHAHAL vs Comedians on Board ft. @Abhishek Upmanyu @Biswa Kalyan Rath @Karunesh Talwar"
          ],
          [
           "Understanding chess ft. Vidit Gujrathi @Biswa Kalyan Rath @Kunal Rao"
          ],
          [
           "PUBG ft. Raftaar, Kr$na and Tanmay Bhat  FULL STREAM"
          ],
          [
           "VIDIT GUJRATHI VS COMEDIANS ON BOARD ft. @Abhishek Upmanyu @Biswa Kalyan Rath @VAIBHAV SETHIA"
          ],
          [
           "PUBG ft. KR$NA"
          ],
          [
           "Agadmator vs Indian Comedians ft. @Abhishek Upmanyu @Biswa Kalyan Rath @agadmator's Chess Channel"
          ],
          [
           "PUBG Road to Bronze"
          ],
          [
           "FINALE - Chess tournament"
          ],
          [
           "SEMI FINALS"
          ],
          [
           "Tournament Quarter finals"
          ],
          [
           "Chess tournament match 11 Varun Grover vs Anubhav Singh Bassi"
          ],
          [
           "Chess tournament matches 6,7,8,9 and 10"
          ],
          [
           "Chess tournament matches 2,3,4 and 5"
          ],
          [
           "Chess tournament match 1 Rahul Dua vs Sumit Sourav"
          ],
          [
           "Kidnapped in PUBG custom room"
          ],
          [
           "Chess practice before tournament with Vaibhav Sethia"
          ],
          [
           "Aresole Just Went to War"
          ],
          [
           "PUBG with Ojas and Balraj"
          ],
          [
           "Coming soon"
          ],
          [
           "Later night chess with friends - Sumit Sourav"
          ],
          [
           "PUBG with Ojas"
          ],
          [
           "Later night chess with friends - Balraj Ghai"
          ]
         ],
         "hovertemplate": "Year=2020<br>Video Length (mins)=%{x}<br>Total Views=%{y}<br>Dislike Percentage=%{marker.size}<br>Video Title=%{customdata[0]}<extra></extra>",
         "legendgroup": "2020",
         "marker": {
          "color": "#EF553B",
          "opacity": 0.6,
          "size": [
           0.007275687501589967,
           0.012817197946293355,
           0.010146494936584406,
           0.01034562478326205,
           0.01438783615114036,
           0.010371574465077655,
           0.009764785358963336,
           0.005452513966480447,
           0.0076663424681045825,
           0.011203716354693263,
           0.006370945761787953,
           0.0069274500207070515,
           0.005973770341717974,
           0.007048458149779736,
           0.008852288287593296,
           0.008227848101265823,
           0.007724629266996645,
           0.006988085063596602,
           0.006501698204754974,
           0.011154706702551963,
           0.012006531553164921,
           0.007771720218072149,
           0.010043780582024209,
           0.01229785997869662,
           0.007802089569533227,
           0.015610466291907632,
           0.011489173663278833,
           0.015183695603054815,
           0.013121013933460617,
           0.011619545058854699,
           0.010003449465332874,
           0.013353056410666454,
           0.0056394064935301955,
           0.012313544899389328,
           0.011284699119048253,
           0.011548410938654842,
           0.0084240805424286,
           0.005718625742751195,
           0.014351496546431312,
           0.017138667399871688,
           0.009325590267474884,
           0.009215017064846417,
           0.01548420960545884,
           0.010065359477124183,
           0.024691358024691357,
           0.026309110904322815,
           0.031391372961599155,
           0.01696488423658021,
           0.006425664580308908,
           0.007917279570822878,
           0.02138660399529965,
           0.00598055143509689,
           0.007267441860465116,
           0.009267175993601235,
           0.005750341216745352,
           0.004387873513199884,
           0.009301951533347631,
           0.006556884728965414,
           0.014546766049531137,
           0.005044334975369458,
           0.017898729123694192,
           0.005749953877375315,
           0.003945901984999548,
           0.006969528572751691,
           0.016017254791033168,
           0.010383771342932077,
           0.004126232138763658,
           0.011261860423871598,
           0.003513376227565188,
           0.007595549104983067,
           0.013191009285776274,
           0.00804619462324877,
           0.017428785607196403,
           0.006421670218044893,
           0.00541967270807672,
           0.01066772026866851,
           0.01219841555635578,
           0.014009409304756927,
           0.007249503754207302,
           0.007825288457699526,
           0.013220443204124589,
           0.005020347621039821,
           0.0109204368174727,
           0.010819654826621629,
           0.005014757715562942,
           0.011433330809419247,
           0.00505968462936582,
           0.005881327873137579,
           0.009020860740462319,
           0.006384083453305327,
           0.004661365505895256,
           0.008958529056502483,
           0.011244298292139599,
           0.006974668005802924,
           0.007420173296950548,
           0.014176260908755685,
           0.008095051573312443,
           0.00798542001390854,
           0.015309672929714684,
           0.027047146401985113,
           0.007882705344474224,
           0.005032563647128479,
           0.006140514101916585,
           0.009011526370939573,
           0.019495617957431585,
           0.014915500876409696,
           0.012896825396825396,
           0.006820555885545747,
           0.006191990653599013,
           0.014234875444839857,
           0.007959135186505107,
           0.011160244261949883,
           0.0128125,
           0.011803726465710663,
           0.01046603475513428,
           0.012914378686190766,
           0.0022310092142494376,
           0.006853889142736635,
           0.009254650369632947,
           0.015049562260328485,
           0.010439420878841758,
           0.0071634329609364285,
           0.0071518588531821045,
           0.006822072298862149,
           0.010760244191664105,
           0.012909260991580917,
           0.019224077940153097,
           0.014212488350419385,
           0.023386552732178996,
           0.012340055488840117,
           0.00879224769558024,
           0.012431480031323414,
           0.006674994144741978,
           0.011328654106637113,
           0.007692843219159008,
           0.007745051772478694,
           0.018815136042526406,
           0.006493506493506494,
           0.01115525672371638,
           0.01680977143548192,
           0.018912754229233986,
           0.01393030397436468,
           0.006797776827704147,
           0.013323730644580483,
           0.016160520607375273,
           0.022171165996553704,
           0.018612178838761886,
           0.010845006778129237,
           0.11392305884196506,
           0.012712328767123287,
           0.011372064276885044,
           0.01972364608870069,
           0.006329749824173616,
           0.014799066775266784,
           0.0125861996023184,
           0.014571758045916762,
           0.012135922330097087,
           0.01282278033250796,
           0.011006536770646438,
           0.016298590171950126,
           0.01319962286791806,
           0.007635567337059874,
           0.009266624244352529,
           0.010980802270859789,
           0.020449552137907723,
           0.009792735069527166,
           0.020829352188037456,
           0.010421366056121989,
           0.015937803692905733,
           0.016651418115279048,
           0.012442232492001421,
           0.0072264280798348245,
           0.0106635478655705,
           0.01980554555275477,
           0.008862629246676515,
           0.00807977297808608,
           0.014078032523128196,
           0.006661115736885929,
           0.014750482492417977,
           0.008230721494594506,
           0.02244129197723812,
           0.012246967510433325,
           0.009224168752234536,
           0.011689310433222251,
           0.00874095513748191,
           0.010894030791392815,
           0.006795422031473534,
           0.01635702746365105,
           0.026503277286976348,
           0.006735594247802512,
           0.010828686292309687,
           0.01108469415420551,
           0.013819377007544632,
           0.03042360938406698,
           0.016882606988614057,
           0.01499531396438613,
           0.01759289707333114,
           0.006365713752739822,
           0.006602892388958675,
           0.01834862385321101,
           0.025327169737613127,
           0.016063654105990092,
           0.014683374784771379,
           0.013948036725923032,
           0.028368794326241134,
           0.11392618581742123,
           0.025576166385609892,
           0.016407307171853857,
           0.006114451726234714,
           0.016015374759769378,
           0.01533873029399233,
           0.021314387211367674,
           0.013664357197844496,
           0.006230529595015576,
           0.010795124782356355,
           0.008838259844839439,
           0.01719556041894638,
           0.039165383957585086,
           0.012177650429799427,
           0.019740552735476594,
           0.011095700416088766,
           0.02616516762060507,
           0.012855351170568562,
           0.0078282181658558,
           0.008785140562248996,
           0.022881963102274763,
           0.0947075208913649,
           0.06411418214771182,
           0.025984571660576532,
           0.04021739130434782,
           0.015625,
           0.029414782638437595,
           0.0331720801658604,
           0.01032741563278269,
           0.024805867126833477,
           0.032437745740498035,
           0.013721413721413722,
           0.0253051503423638,
           0.020704845814977973,
           0.012213847012841988,
           0.014618587755825285,
           0.014571595103944046,
           0.025289211729889696,
           0.007929006511237135,
           0.0403346280250971,
           0.01741856819369448,
           0.018107580330197052,
           0.020405510787626722,
           0.011767906945105775,
           0.02566633761105627,
           0.029688273132112815,
           0.01537626235204691,
           0.0085380467345716,
           0.013089005235602094,
           0.01761846901579587,
           0.009849130369405042,
           0.01361344537815126,
           0.01732484076433121,
           0.015267927501970055,
           0.030736842105263156,
           0.012209227605706207,
           0.016917011826937473,
           0.012463935372186959,
           0.019455922865013773,
           0.018723898553530436,
           0.014364640883977901,
           0.029608247422680412,
           0.019597774925117672,
           0.0333578386326043,
           0.019663299663299664,
           0.024920886075949368,
           0.018806935057302382,
           0.023319615912208505,
           0.028035162746495604,
           0.03186216662733066,
           0.026336173508907823,
           0.013964313421256789,
           0.0161090458488228,
           0.018861272695222985,
           0.01975540921919097,
           0.01818823944905527,
           0.018376722817764167,
           0.019994287346472437,
           0.016286644951140065,
           0.013943112102621304,
           0.009886094992477971
          ],
          "sizemode": "area",
          "sizeref": 0.00028481546454355304,
          "symbol": "circle"
         },
         "mode": "markers",
         "name": "2020",
         "orientation": "v",
         "showlegend": true,
         "type": "scatter",
         "x": [
          14.45,
          6.416666666666667,
          12.216666666666667,
          45.81666666666667,
          10.233333333333333,
          9.266666666666667,
          99.03333333333333,
          11.216666666666667,
          48.6,
          7.533333333333333,
          11.716666666666667,
          10.266666666666667,
          8.866666666666667,
          10.2,
          205.36666666666667,
          398.51666666666665,
          522.7833333333333,
          2.35,
          10.183333333333334,
          3.466666666666667,
          88.85,
          8.583333333333334,
          128.33333333333334,
          5.366666666666666,
          10.05,
          245.98333333333332,
          123.18333333333334,
          157.16666666666666,
          146.16666666666666,
          11.05,
          73.03333333333333,
          50.983333333333334,
          14.733333333333333,
          138.76666666666668,
          144.45,
          76.16666666666667,
          57.45,
          1.15,
          122.48333333333333,
          114.68333333333334,
          11.25,
          100.95,
          68.75,
          1.4,
          14.233333333333333,
          64.15,
          3.3166666666666664,
          64.18333333333334,
          9.75,
          1.1666666666666667,
          128.46666666666667,
          137.06666666666666,
          10.666666666666666,
          10.366666666666667,
          1.4333333333333333,
          0.4666666666666667,
          11.95,
          8.783333333333333,
          157.58333333333334,
          1.6,
          119.36666666666666,
          1.2333333333333334,
          1.2,
          11.283333333333333,
          124.31666666666666,
          110.3,
          1.95,
          96.1,
          0.8166666666666667,
          9.083333333333334,
          135.93333333333334,
          86.66666666666667,
          75.33333333333333,
          11.95,
          1.2833333333333332,
          221.51666666666668,
          10.083333333333334,
          182.63333333333333,
          45.96666666666667,
          128.75,
          8.783333333333333,
          1,
          86.55,
          106.65,
          11.1,
          162.31666666666666,
          9,
          1,
          72.78333333333333,
          1.8,
          1,
          112.81666666666666,
          57.43333333333333,
          89.83333333333333,
          1.5833333333333335,
          403.96666666666664,
          64.51666666666667,
          10.116666666666667,
          162.85,
          2.45,
          93.91666666666667,
          1,
          12.516666666666667,
          97.7,
          220.36666666666667,
          198.56666666666666,
          92.58333333333333,
          92.31666666666666,
          10.416666666666666,
          121.28333333333333,
          6.866666666666667,
          134.23333333333332,
          88.96666666666667,
          53.2,
          10.216666666666667,
          88.6,
          7.8,
          8.933333333333334,
          145.33333333333334,
          127.58333333333333,
          10.333333333333334,
          255.21666666666667,
          196.28333333333333,
          9.816666666666666,
          68.35,
          56.833333333333336,
          77.7,
          147.43333333333334,
          82.83333333333333,
          118.25,
          8.116666666666667,
          84.85,
          6,
          79.76666666666667,
          176.76666666666668,
          10.933333333333334,
          104.43333333333334,
          8.6,
          56.5,
          123.83333333333333,
          63.416666666666664,
          83.95,
          14.166666666666666,
          81.6,
          118.26666666666667,
          72.93333333333334,
          156.33333333333334,
          79.26666666666667,
          11.766666666666667,
          63.516666666666666,
          7.9,
          97.46666666666667,
          7.683333333333334,
          9.383333333333333,
          119.51666666666667,
          45.333333333333336,
          7.333333333333333,
          96.33333333333333,
          8.4,
          129.16666666666666,
          94.75,
          9.55,
          9.4,
          9.8,
          108.25,
          9.216666666666667,
          94.51666666666667,
          111.63333333333334,
          108.45,
          128.91666666666666,
          8.583333333333334,
          9.333333333333334,
          94.6,
          90.91666666666667,
          91.41666666666667,
          11.95,
          134.33333333333334,
          12.966666666666667,
          105.21666666666667,
          9.5,
          78.21666666666667,
          11.983333333333333,
          168.25,
          253.41666666666666,
          119.51666666666667,
          222.41666666666666,
          6.116666666666666,
          191.15,
          75.01666666666667,
          9.2,
          99.36666666666666,
          8.383333333333333,
          167.58333333333334,
          4.333333333333333,
          76.35,
          92.66666666666667,
          36.43333333333333,
          9.033333333333333,
          9,
          98.61666666666666,
          88.35,
          110.75,
          151.1,
          99.1,
          108.91666666666667,
          16.75,
          135,
          262.03333333333336,
          7.6,
          113.35,
          132.88333333333333,
          37.35,
          114.33333333333333,
          6.7,
          78.75,
          5.8,
          72.93333333333334,
          84,
          64.16666666666667,
          130.98333333333332,
          97.66666666666667,
          73.58333333333333,
          98.5,
          9.483333333333333,
          115.48333333333333,
          75.28333333333333,
          117.91666666666667,
          168.38333333333333,
          80.1,
          126.18333333333334,
          84.51666666666667,
          10.383333333333333,
          171.9,
          127.33333333333333,
          145.76666666666668,
          29.516666666666666,
          9.516666666666667,
          67.35,
          94.41666666666667,
          152.36666666666667,
          124.26666666666667,
          77.43333333333334,
          114.41666666666667,
          10.716666666666667,
          179.11666666666667,
          231.86666666666667,
          202.03333333333333,
          215.78333333333333,
          8.783333333333333,
          141.63333333333333,
          233.63333333333333,
          8.133333333333333,
          8.416666666666666,
          91.4,
          96.6,
          11.9,
          67.83333333333333,
          50.666666666666664,
          254.56666666666666,
          34.583333333333336,
          12.766666666666667,
          26.566666666666666,
          34.3,
          28.1,
          69.73333333333333,
          120.18333333333334,
          85.91666666666667,
          76.05,
          95.85,
          48.4,
          50.6,
          75.26666666666667,
          91.3,
          139.18333333333334,
          25.483333333333334,
          155.91666666666666,
          110.9,
          17.9,
          16.933333333333334,
          44.46666666666667,
          1.6833333333333333,
          78.5,
          1.6166666666666667,
          95.18333333333334,
          89.56666666666666,
          45.21666666666667
         ],
         "xaxis": "x",
         "y": [
          371429,
          211383,
          494435,
          198979,
          408797,
          469647,
          247402,
          200109,
          139294,
          284035,
          288901,
          247950,
          411592,
          238580,
          749622,
          1165543,
          1649965,
          185946,
          391703,
          213999,
          152874,
          355968,
          392880,
          212572,
          462693,
          420834,
          357608,
          362888,
          307154,
          216982,
          210229,
          216226,
          390198,
          271588,
          451779,
          181736,
          152335,
          178237,
          285170,
          140711,
          758404,
          159199,
          117711,
          232424,
          301,
          156653,
          684385,
          246441,
          376578,
          204383,
          317061,
          484381,
          333540,
          385759,
          352434,
          612447,
          352453,
          181887,
          325183,
          254619,
          609680,
          326840,
          367757,
          571992,
          314592,
          263854,
          664334,
          394276,
          275175,
          228199,
          323960,
          198351,
          260507,
          525032,
          349628,
          350853,
          260785,
          332939,
          158593,
          299958,
          426593,
          323769,
          194036,
          331017,
          316839,
          636762,
          274803,
          260533,
          151545,
          935675,
          210849,
          390165,
          123878,
          194047,
          273053,
          444353,
          236344,
          343746,
          389141,
          257211,
          230439,
          256589,
          488538,
          171741,
          723315,
          598255,
          147034,
          621524,
          817924,
          200532,
          161532,
          361268,
          148357,
          304095,
          407143,
          258434,
          271265,
          261461,
          669712,
          394671,
          496279,
          899620,
          493723,
          532920,
          315308,
          96666,
          181642,
          150746,
          142731,
          354910,
          248656,
          482851,
          332289,
          121722,
          341223,
          814382,
          517558,
          296318,
          119841,
          273782,
          149188,
          390833,
          537772,
          483420,
          149055,
          129303,
          87926,
          179682,
          145056,
          151507,
          361917,
          147196,
          125315,
          2256892,
          794149,
          154571,
          270612,
          211404,
          942768,
          187717,
          396626,
          368797,
          304642,
          1543910,
          104839,
          1060858,
          86394,
          524292,
          117614,
          174578,
          355666,
          303852,
          460056,
          98964,
          169790,
          748563,
          466257,
          186664,
          259124,
          508519,
          303809,
          275194,
          381372,
          339137,
          248293,
          374602,
          352230,
          108027,
          58939,
          365058,
          199106,
          1256689,
          213024,
          138310,
          157460,
          230741,
          97564,
          420373,
          454299,
          69751,
          276080,
          85500,
          647656,
          428106,
          122504,
          393764,
          173589,
          124546,
          555829,
          76249,
          98151,
          36708,
          118367,
          375839,
          178632,
          458520,
          145374,
          134230,
          55074,
          160883,
          104519,
          57049,
          566355,
          495848,
          115289,
          3823731,
          78533,
          75149,
          139150,
          84528,
          111306,
          363709,
          87582,
          885297,
          83299,
          52631,
          389491,
          75651,
          92910,
          357142,
          226790,
          115530,
          105798,
          341835,
          97652,
          163984,
          130823,
          147460,
          247972,
          141165,
          192963,
          874017,
          358114,
          105060,
          94502,
          668630,
          144446,
          102254,
          465812,
          56008,
          134767,
          322856,
          239538,
          223430,
          907975,
          133409,
          233208,
          352776,
          178987,
          175137,
          48151,
          93870,
          86776,
          137198,
          129351,
          201743,
          80293,
          38633,
          184110,
          22228,
          40843,
          20760,
          374585,
          24603,
          28404,
          76928
         ],
         "yaxis": "y"
        }
       ],
       "layout": {
        "legend": {
         "itemsizing": "constant",
         "title": {
          "text": "Year"
         },
         "tracegroupgap": 0
        },
        "margin": {
         "t": 60
        },
        "shapes": [
         {
          "line": {
           "dash": "dash"
          },
          "type": "line",
          "x0": 0,
          "x1": 1,
          "xref": "x domain",
          "y0": 256900,
          "y1": 256900,
          "yref": "y"
         }
        ],
        "template": {
         "data": {
          "bar": [
           {
            "error_x": {
             "color": "#2a3f5f"
            },
            "error_y": {
             "color": "#2a3f5f"
            },
            "marker": {
             "line": {
              "color": "#E5ECF6",
              "width": 0.5
             }
            },
            "type": "bar"
           }
          ],
          "barpolar": [
           {
            "marker": {
             "line": {
              "color": "#E5ECF6",
              "width": 0.5
             }
            },
            "type": "barpolar"
           }
          ],
          "carpet": [
           {
            "aaxis": {
             "endlinecolor": "#2a3f5f",
             "gridcolor": "white",
             "linecolor": "white",
             "minorgridcolor": "white",
             "startlinecolor": "#2a3f5f"
            },
            "baxis": {
             "endlinecolor": "#2a3f5f",
             "gridcolor": "white",
             "linecolor": "white",
             "minorgridcolor": "white",
             "startlinecolor": "#2a3f5f"
            },
            "type": "carpet"
           }
          ],
          "choropleth": [
           {
            "colorbar": {
             "outlinewidth": 0,
             "ticks": ""
            },
            "type": "choropleth"
           }
          ],
          "contour": [
           {
            "colorbar": {
             "outlinewidth": 0,
             "ticks": ""
            },
            "colorscale": [
             [
              0,
              "#0d0887"
             ],
             [
              0.1111111111111111,
              "#46039f"
             ],
             [
              0.2222222222222222,
              "#7201a8"
             ],
             [
              0.3333333333333333,
              "#9c179e"
             ],
             [
              0.4444444444444444,
              "#bd3786"
             ],
             [
              0.5555555555555556,
              "#d8576b"
             ],
             [
              0.6666666666666666,
              "#ed7953"
             ],
             [
              0.7777777777777778,
              "#fb9f3a"
             ],
             [
              0.8888888888888888,
              "#fdca26"
             ],
             [
              1,
              "#f0f921"
             ]
            ],
            "type": "contour"
           }
          ],
          "contourcarpet": [
           {
            "colorbar": {
             "outlinewidth": 0,
             "ticks": ""
            },
            "type": "contourcarpet"
           }
          ],
          "heatmap": [
           {
            "colorbar": {
             "outlinewidth": 0,
             "ticks": ""
            },
            "colorscale": [
             [
              0,
              "#0d0887"
             ],
             [
              0.1111111111111111,
              "#46039f"
             ],
             [
              0.2222222222222222,
              "#7201a8"
             ],
             [
              0.3333333333333333,
              "#9c179e"
             ],
             [
              0.4444444444444444,
              "#bd3786"
             ],
             [
              0.5555555555555556,
              "#d8576b"
             ],
             [
              0.6666666666666666,
              "#ed7953"
             ],
             [
              0.7777777777777778,
              "#fb9f3a"
             ],
             [
              0.8888888888888888,
              "#fdca26"
             ],
             [
              1,
              "#f0f921"
             ]
            ],
            "type": "heatmap"
           }
          ],
          "heatmapgl": [
           {
            "colorbar": {
             "outlinewidth": 0,
             "ticks": ""
            },
            "colorscale": [
             [
              0,
              "#0d0887"
             ],
             [
              0.1111111111111111,
              "#46039f"
             ],
             [
              0.2222222222222222,
              "#7201a8"
             ],
             [
              0.3333333333333333,
              "#9c179e"
             ],
             [
              0.4444444444444444,
              "#bd3786"
             ],
             [
              0.5555555555555556,
              "#d8576b"
             ],
             [
              0.6666666666666666,
              "#ed7953"
             ],
             [
              0.7777777777777778,
              "#fb9f3a"
             ],
             [
              0.8888888888888888,
              "#fdca26"
             ],
             [
              1,
              "#f0f921"
             ]
            ],
            "type": "heatmapgl"
           }
          ],
          "histogram": [
           {
            "marker": {
             "colorbar": {
              "outlinewidth": 0,
              "ticks": ""
             }
            },
            "type": "histogram"
           }
          ],
          "histogram2d": [
           {
            "colorbar": {
             "outlinewidth": 0,
             "ticks": ""
            },
            "colorscale": [
             [
              0,
              "#0d0887"
             ],
             [
              0.1111111111111111,
              "#46039f"
             ],
             [
              0.2222222222222222,
              "#7201a8"
             ],
             [
              0.3333333333333333,
              "#9c179e"
             ],
             [
              0.4444444444444444,
              "#bd3786"
             ],
             [
              0.5555555555555556,
              "#d8576b"
             ],
             [
              0.6666666666666666,
              "#ed7953"
             ],
             [
              0.7777777777777778,
              "#fb9f3a"
             ],
             [
              0.8888888888888888,
              "#fdca26"
             ],
             [
              1,
              "#f0f921"
             ]
            ],
            "type": "histogram2d"
           }
          ],
          "histogram2dcontour": [
           {
            "colorbar": {
             "outlinewidth": 0,
             "ticks": ""
            },
            "colorscale": [
             [
              0,
              "#0d0887"
             ],
             [
              0.1111111111111111,
              "#46039f"
             ],
             [
              0.2222222222222222,
              "#7201a8"
             ],
             [
              0.3333333333333333,
              "#9c179e"
             ],
             [
              0.4444444444444444,
              "#bd3786"
             ],
             [
              0.5555555555555556,
              "#d8576b"
             ],
             [
              0.6666666666666666,
              "#ed7953"
             ],
             [
              0.7777777777777778,
              "#fb9f3a"
             ],
             [
              0.8888888888888888,
              "#fdca26"
             ],
             [
              1,
              "#f0f921"
             ]
            ],
            "type": "histogram2dcontour"
           }
          ],
          "mesh3d": [
           {
            "colorbar": {
             "outlinewidth": 0,
             "ticks": ""
            },
            "type": "mesh3d"
           }
          ],
          "parcoords": [
           {
            "line": {
             "colorbar": {
              "outlinewidth": 0,
              "ticks": ""
             }
            },
            "type": "parcoords"
           }
          ],
          "pie": [
           {
            "automargin": true,
            "type": "pie"
           }
          ],
          "scatter": [
           {
            "marker": {
             "colorbar": {
              "outlinewidth": 0,
              "ticks": ""
             }
            },
            "type": "scatter"
           }
          ],
          "scatter3d": [
           {
            "line": {
             "colorbar": {
              "outlinewidth": 0,
              "ticks": ""
             }
            },
            "marker": {
             "colorbar": {
              "outlinewidth": 0,
              "ticks": ""
             }
            },
            "type": "scatter3d"
           }
          ],
          "scattercarpet": [
           {
            "marker": {
             "colorbar": {
              "outlinewidth": 0,
              "ticks": ""
             }
            },
            "type": "scattercarpet"
           }
          ],
          "scattergeo": [
           {
            "marker": {
             "colorbar": {
              "outlinewidth": 0,
              "ticks": ""
             }
            },
            "type": "scattergeo"
           }
          ],
          "scattergl": [
           {
            "marker": {
             "colorbar": {
              "outlinewidth": 0,
              "ticks": ""
             }
            },
            "type": "scattergl"
           }
          ],
          "scattermapbox": [
           {
            "marker": {
             "colorbar": {
              "outlinewidth": 0,
              "ticks": ""
             }
            },
            "type": "scattermapbox"
           }
          ],
          "scatterpolar": [
           {
            "marker": {
             "colorbar": {
              "outlinewidth": 0,
              "ticks": ""
             }
            },
            "type": "scatterpolar"
           }
          ],
          "scatterpolargl": [
           {
            "marker": {
             "colorbar": {
              "outlinewidth": 0,
              "ticks": ""
             }
            },
            "type": "scatterpolargl"
           }
          ],
          "scatterternary": [
           {
            "marker": {
             "colorbar": {
              "outlinewidth": 0,
              "ticks": ""
             }
            },
            "type": "scatterternary"
           }
          ],
          "surface": [
           {
            "colorbar": {
             "outlinewidth": 0,
             "ticks": ""
            },
            "colorscale": [
             [
              0,
              "#0d0887"
             ],
             [
              0.1111111111111111,
              "#46039f"
             ],
             [
              0.2222222222222222,
              "#7201a8"
             ],
             [
              0.3333333333333333,
              "#9c179e"
             ],
             [
              0.4444444444444444,
              "#bd3786"
             ],
             [
              0.5555555555555556,
              "#d8576b"
             ],
             [
              0.6666666666666666,
              "#ed7953"
             ],
             [
              0.7777777777777778,
              "#fb9f3a"
             ],
             [
              0.8888888888888888,
              "#fdca26"
             ],
             [
              1,
              "#f0f921"
             ]
            ],
            "type": "surface"
           }
          ],
          "table": [
           {
            "cells": {
             "fill": {
              "color": "#EBF0F8"
             },
             "line": {
              "color": "white"
             }
            },
            "header": {
             "fill": {
              "color": "#C8D4E3"
             },
             "line": {
              "color": "white"
             }
            },
            "type": "table"
           }
          ]
         },
         "layout": {
          "annotationdefaults": {
           "arrowcolor": "#2a3f5f",
           "arrowhead": 0,
           "arrowwidth": 1
          },
          "autotypenumbers": "strict",
          "coloraxis": {
           "colorbar": {
            "outlinewidth": 0,
            "ticks": ""
           }
          },
          "colorscale": {
           "diverging": [
            [
             0,
             "#8e0152"
            ],
            [
             0.1,
             "#c51b7d"
            ],
            [
             0.2,
             "#de77ae"
            ],
            [
             0.3,
             "#f1b6da"
            ],
            [
             0.4,
             "#fde0ef"
            ],
            [
             0.5,
             "#f7f7f7"
            ],
            [
             0.6,
             "#e6f5d0"
            ],
            [
             0.7,
             "#b8e186"
            ],
            [
             0.8,
             "#7fbc41"
            ],
            [
             0.9,
             "#4d9221"
            ],
            [
             1,
             "#276419"
            ]
           ],
           "sequential": [
            [
             0,
             "#0d0887"
            ],
            [
             0.1111111111111111,
             "#46039f"
            ],
            [
             0.2222222222222222,
             "#7201a8"
            ],
            [
             0.3333333333333333,
             "#9c179e"
            ],
            [
             0.4444444444444444,
             "#bd3786"
            ],
            [
             0.5555555555555556,
             "#d8576b"
            ],
            [
             0.6666666666666666,
             "#ed7953"
            ],
            [
             0.7777777777777778,
             "#fb9f3a"
            ],
            [
             0.8888888888888888,
             "#fdca26"
            ],
            [
             1,
             "#f0f921"
            ]
           ],
           "sequentialminus": [
            [
             0,
             "#0d0887"
            ],
            [
             0.1111111111111111,
             "#46039f"
            ],
            [
             0.2222222222222222,
             "#7201a8"
            ],
            [
             0.3333333333333333,
             "#9c179e"
            ],
            [
             0.4444444444444444,
             "#bd3786"
            ],
            [
             0.5555555555555556,
             "#d8576b"
            ],
            [
             0.6666666666666666,
             "#ed7953"
            ],
            [
             0.7777777777777778,
             "#fb9f3a"
            ],
            [
             0.8888888888888888,
             "#fdca26"
            ],
            [
             1,
             "#f0f921"
            ]
           ]
          },
          "colorway": [
           "#636efa",
           "#EF553B",
           "#00cc96",
           "#ab63fa",
           "#FFA15A",
           "#19d3f3",
           "#FF6692",
           "#B6E880",
           "#FF97FF",
           "#FECB52"
          ],
          "font": {
           "color": "#2a3f5f"
          },
          "geo": {
           "bgcolor": "white",
           "lakecolor": "white",
           "landcolor": "#E5ECF6",
           "showlakes": true,
           "showland": true,
           "subunitcolor": "white"
          },
          "hoverlabel": {
           "align": "left"
          },
          "hovermode": "closest",
          "mapbox": {
           "style": "light"
          },
          "paper_bgcolor": "white",
          "plot_bgcolor": "#E5ECF6",
          "polar": {
           "angularaxis": {
            "gridcolor": "white",
            "linecolor": "white",
            "ticks": ""
           },
           "bgcolor": "#E5ECF6",
           "radialaxis": {
            "gridcolor": "white",
            "linecolor": "white",
            "ticks": ""
           }
          },
          "scene": {
           "xaxis": {
            "backgroundcolor": "#E5ECF6",
            "gridcolor": "white",
            "gridwidth": 2,
            "linecolor": "white",
            "showbackground": true,
            "ticks": "",
            "zerolinecolor": "white"
           },
           "yaxis": {
            "backgroundcolor": "#E5ECF6",
            "gridcolor": "white",
            "gridwidth": 2,
            "linecolor": "white",
            "showbackground": true,
            "ticks": "",
            "zerolinecolor": "white"
           },
           "zaxis": {
            "backgroundcolor": "#E5ECF6",
            "gridcolor": "white",
            "gridwidth": 2,
            "linecolor": "white",
            "showbackground": true,
            "ticks": "",
            "zerolinecolor": "white"
           }
          },
          "shapedefaults": {
           "line": {
            "color": "#2a3f5f"
           }
          },
          "ternary": {
           "aaxis": {
            "gridcolor": "white",
            "linecolor": "white",
            "ticks": ""
           },
           "baxis": {
            "gridcolor": "white",
            "linecolor": "white",
            "ticks": ""
           },
           "bgcolor": "#E5ECF6",
           "caxis": {
            "gridcolor": "white",
            "linecolor": "white",
            "ticks": ""
           }
          },
          "title": {
           "x": 0.05
          },
          "xaxis": {
           "automargin": true,
           "gridcolor": "white",
           "linecolor": "white",
           "ticks": "",
           "title": {
            "standoff": 15
           },
           "zerolinecolor": "white",
           "zerolinewidth": 2
          },
          "yaxis": {
           "automargin": true,
           "gridcolor": "white",
           "linecolor": "white",
           "ticks": "",
           "title": {
            "standoff": 15
           },
           "zerolinecolor": "white",
           "zerolinewidth": 2
          }
         }
        },
        "xaxis": {
         "anchor": "y",
         "domain": [
          0,
          1
         ],
         "title": {
          "text": "Video Length (mins)"
         }
        },
        "yaxis": {
         "anchor": "x",
         "domain": [
          0,
          1
         ],
         "title": {
          "text": "Total Views"
         }
        }
       }
      },
      "text/html": [
       "<div>                            <div id=\"e9b40fda-f1dd-4333-a69d-36547267031a\" class=\"plotly-graph-div\" style=\"height:525px; width:100%;\"></div>            <script type=\"text/javascript\">                require([\"plotly\"], function(Plotly) {                    window.PLOTLYENV=window.PLOTLYENV || {};                                    if (document.getElementById(\"e9b40fda-f1dd-4333-a69d-36547267031a\")) {                    Plotly.newPlot(                        \"e9b40fda-f1dd-4333-a69d-36547267031a\",                        [{\"customdata\": [[\"BEST OF THE WEEK 11 | SAMAY RAINA\"], [\"Coming Back to Life - Reaching 1500 ft. Sagar Exposed Shah\"]], \"hovertemplate\": \"Year=2021<br>Video Length (mins)=%{x}<br>Total Views=%{y}<br>Dislike Percentage=%{marker.size}<br>Video Title=%{customdata[0]}<extra></extra>\", \"legendgroup\": \"2021\", \"marker\": {\"color\": \"#636efa\", \"opacity\": 0.6, \"size\": [0.014673419036488767, 0.01791178446152698], \"sizemode\": \"area\", \"sizeref\": 0.00028481546454355304, \"symbol\": \"circle\"}, \"mode\": \"markers\", \"name\": \"2021\", \"orientation\": \"v\", \"showlegend\": true, \"type\": \"scatter\", \"x\": [8.633333333333333, 87.76666666666667], \"xaxis\": \"x\", \"y\": [205861, 183274], \"yaxis\": \"y\"}, {\"customdata\": [[\"SAGAR SHAH EXPOSED - VLOG #3\"], [\"ACCIDENTALLY GAVE 10,000 RS. SUPERCHAT TO @GamerFleet | BUDWEISER CONQUER 2020\"], [\"ROAST BATTLE ft. Vidit Gujrathi | Sagar Shah | Samay Raina | Vaibhav Sethia\"], [\"Good evening chess ft. Vidit Gujrathi\"], [\"SAMAY RAINA IN DELHI ft. @Suhani Shah @SOUL Sangwan @Nishant Tanwar\"], [\"THE WEIGHTLOSS VLOG | SAMAY RAINA\"], [\"ADOPTING VAIBHAV SETHIA\"], [\"GM ABISH MATHEW - THE NAME IS ENOUGH\"], [\"Stream ends when I make one mistake in Puzzle Rush | LONG STREAM | ADDRESS REVEAL CHALLENGE*\"], [\"BEST OF THE WEEK 10 | SAMAY RAINA\"], [\"YOUTUBE vs TWITCH ft. Alexandra Botez\"], [\"THIS IS GM ABISH MATHEW'S IMMORTAL | BEST OF COB3\"], [\"ACHARA KIRK COMPLETELY SPOILED ft. @jaby koay  @GamerFleet  [18+]\"], [\"THIS IS KUSHA KAPILA's IMMORTAL | BEST OF COB3\"], [\"COMEDIANS ON BOARD | NO MERCY | GRAND FINALE\"], [\"COMEDIANS ON BOARD | NO MERCY | DAY 2 QUARTER FINALS\"], [\"COMEDIANS ON BOARD 3 | NO MERCY | DAY 1\"], [\"Comedians On Board 3 - Teaser #2\"], [\"SASTEY IMPRACTICAL JOKERS EP 02 FT. @Karan Singh Boomer @GamerFleet\"], [\"COB 3 OFFICIAL TRAILER #1\"], [\"CHESS FUNDAMENTALS ft. ARAVIND SA\"], [\"WE PRANK CALLED YOUTUBERS!\"], [\"MEMBERS vs SUBS BATTLE against ALEXANDRA BOTEZ\"], [\"IF SAMAY RAINA WAS MARIO | VIDEO BY @BeastStats\"], [\"SASTEY IMPRACTICAL JOKERS ft. @GamerFleet @RIDER OP\"], [\"WWE, PRANK CALL AND MUCH MORE FT. SHAMERFLEET, JABY KOAY AND DANK RISHU\"], [\"MEMBERS vs SUBS BATTLE FT. ANNA RUDOLF\"], [\"HUMAN FALL FLAT FT. CHOWKDI - KSB + RIDEROP\"], [\"I LOST THE CHALLENGE SO I WILL LOSE 6.5 KILOS IN 30 DAYS\"], [\"BEST OF THE WEEK 9 | SAMAY RAINA\"], [\"BM ADOPTED BY GM\"], [\"IF I DON'T REACH 1500 BEFORE 10 PM THEN I REVEAL MY GIRL FRIEND\"], [\"A brief history of time.....500K Special \\ud83d\\udc96\\ud83d\\udc96\\ud83d\\udc96\"], [\"Training Kenny cuz he loves Chess now ft. Kusha #COB3\"], [\"Human Fall Flat ft. Chowkdi\"], [\"Reaching 1400 before reaching 500K\"], [\"Grand Finale |  Red bull Rubik's Cube ft. KSM and Soham\"], [\"Curb you dare - Miniclip #17\"], [\"Kenny Sebastian vs Sapan Verma | Samay Raina\"], [\"Learn how to Cube EP 04 - Finishing the Cube | Red bull Rubik's cube ft. Tania Sachdev\"], [\"[18+] Finding LAURA on Omegle ft. Mehfil\"], [\"ERIC ROSEN vs LEVY ROZMAN | SAMAY RAINA\"], [\"Learn how to Cube EP 03 - Bottom two layers | Red bull Rubik's cube ft. Tania Sachdev\"], [\"Curb your Actually Improving Chess - Miniclip #17\"], [\"Members only stream with SAGAR SHAH - Watching Queen's Gambit\"], [\"Learn how to Cube EP 02 - Completing the base | Red Bull Rubik's Cube ft. Tania Sachdev\"], [\"ENDGAME | SAGAR SHAH DISS [OFFICIAL VIDEO]\"], [\"Learn how to Cube EP 01 - The Cross | Red Bull Rubik's Cube ft. Tania Sachdev\"], [\"CHAT MADE ME GO TO OMEGLE and OMG!!!!\"], [\"CURB YOUR CONFIDENCE ft. @Tanmay Bhat  - Miniclip #16\"], [\"GOODBYE CHESS ft. Sagar Shah\"], [\"SAMAY RAINA BIRTHDAY SIMUL + COB 3 Lineup Reveal\"], [\"SAMAY RAINA AGAINST THE WORLD | TWERK CHALLENGE\"], [\"MYTHPAT IS THE LUCKIEST MAN ALIVE ft. TRIGGERED INSAAN\"], [\"Curb your guide - Miniclip #15\"], [\"SAMAY RAINA NAHI PIGHLEGA - Miniclip #14\"], [\"SAIMAN SAYS ROASTS DANK RISHU\"], [\"MY UGLY COUSIN\"], [\"STREAM ENDS WHEN I LOSE THRICE IN A ROW | SAMAY RAINA AGAINST THE CHAT\"], [\"MYTHPAT PLAYS THE GREATEST MOVE EVER in Chess - Miniclip #13\"], [\"MYTHPAT vs TRIGGERED INSAAN CHESS\"], [\"BULLYING NOOBS ON CHESS.COM - Miniclip #12\"], [\"HOW TO AVOID A FORK 220 IQ - Miniclip #11\"], [\"NAUGHTY SAGAR SHAH COMPILATION\"], [\"SAIMAN SAYS vs DANK RISHU ft. Vidit, KSM, Gamerfleet\"], [\"CHESS VARIANTS FT. ANNA RUDOLF and TANIA SACHDEV\"], [\"Samay Raina emotional poem ft. @Yahya Bootwala @Suhani Shah @UnErase Poetry\"], [\"CHESS with JABY KOAY & ACHARA ft. Vidit Gujrathi\"], [\"Once a BM always a BM - Miniclip #9\"], [\"BEST OF THE WEEK #8 | SAMAY RAINA\"], [\"WWE ft. SHAMERFLEET, CRYDER, RAKAZONE, KARAN SINGH BOOMER, RAMAN CHOBRA\"], [\"DEFEATING BISWA ft. Sagar Shah Spoilt\"], [\"AMONG US FT. POETS\"], [\"DON'T TRUST CHESS GRANDMASTERS FT. INDIAN CHESS SCENE\"], [\"CURB YOUR BRILLIANCY - Miniclip #8\"], [\"SAMAY RAINA IMvitational day 2 - FINALS\"], [\"MODIJI KA KHAUF FT. SUKHBIR, GURSIMRAN KHAMBA and RIDER OP\"], [\"LONG STREAM ft. Tanmay, KSB, GamerFleet, Janta\"], [\"FALL GUYS INDIA PLAYS - SAMAY RAINA\"], [\"SAMAY RAINA IMvitational TOURNAMENT DAY 1\"], [\"SAMAY RAINA SPOILS SONGS COMPILATION\"], [\"Curb your Badass move - Miniclip #7\"], [\"Good night chess ft. My girlfriend Vidit\"], [\"JUDIT POLGAR vs Comedians on Board\"], [\"BEWAFA SUHANI ft. @Karan Singh Magic @Suhani Shah @GamerFleet\"], [\"Among Us ft. Chess Gang\"], [\"GM MAGNUS CARLSEN vs BM SAMAY RAINA ft. UPMANYU, VIDIT Highlights\"], [\"Curb your clean content ft. Sagar Shah Spoiled  Miniclip #6\"], [\"Goodnight Chess (Fog of war) ft. Anish Giri\"], [\"Gaadi Waala Aaya compilation - Miniclip #5\"], [\"Shortest Game of Magnus Carlsen - Miniclip #4\"], [\"PACIFY 2 ft. CHOWKDI\"], [\"Good night chess ft. Vidit + UNACADEMY REVELATION\"], [\"Divya Deshmukh vs Daniel King  - DICE CHESS\"], [\"Curb your leak - MINICLIP #3\"], [\"Streaming until I reach 1600\"], [\"SAMAY RAINA | INDIA PLAYS @NODWIN Gaming  #IndiaPlays\"], [\"SAMAY RAINA | BEST OF THE WEEK #7\"], [\"Among Us ft. Tanmay, KSB, Fleet and many friends\"], [\"SAMAY RAINA FREESTYLE - MINICLIP #2\"], [\"VLADIMIR KRAMNIK vs Comedians on Board ft. Abhishek Upmanyu, Biswa, Sethia and Samay\"], [\"Sagar Shah Proud Student - Miniclip #1\"], [\"BHOOTNI KI MAA KA BHAROSA - PACIFY HIGHLIGHTS ft. @Karan Singh Magic @Suhani Shah @GamerFleet\"], [\"GM Radjabov vs Sagar Shah, Amruta and Samay Raina\"], [\"Among Us ft. CARRYMINATI, TANMAY BHAT, KSB, SUHANI SHAH GAMERFLEET, NISHANT TANWAR\"], [\"Among Us with Tanmay Bhat, GamerFleet, Karan Singh Boomer, Suhani Shah, Nishant Tanwar, DaddyCool\"], [\"Reaching 1600 - NO SCAM ft. Sagar Shah\"], [\"VISHY ANAND vs MAGNUS CARLSEN\"], [\"CONVINCING RANDOM STRANGERS TO PLAY CHESS ON OMEGLE PART 4\"], [\"Chess with Subscribers (JOIN DISCORD) ft. My Friend Vidit\"], [\"Dice Chess - MAGNUS CARLSEN vs VIDIT GUJRATHI\"], [\"WE WON PACIFY ft. Karan Singh Boomer, GamerFleet, Suhani my cutie\"], [\"Blitzing ft. Sagar Shah\"], [\"Dice Chess - Alexandra Botez vs Tania Sachdev\"], [\"MAGNUS KALICHARAN was on my channel \\u2764\\ufe0f\\u2764\\ufe0f\\u2764\\ufe0f\\u2764\\ufe0f\"], [\"Bakchod Chess ft. Sukhbir, Khamba, Nishant, Karan Singh Boomer\"], [\"To Sagar Shah, with love - Happy Teachers' Day\"], [\"SAMAY RAINA | BEST OF THE WEEK #6\"], [\"CHESS ft. WORLD CHAMPION MAGNUS CARLSEN\"], [\"Fall guys ft. Karan Singh Boomer, Tania Sachdev, Vidit Gujrathi\"], [\"THE GENIUS OF SAMAY RAINA - EINSTEIN DISS\"], [\"FINALE!! INDIA vs RUSSIA CHESS OLYMPIAD LIVE STREAM\"], [\"CHESS OLYMPIAD QUARTER FINALS - INDIA vs ARMENIA\"], [\"BAWASIR ft. Alexandra Botez, Tania and Karan Singh Boomer\"], [\"FALL GUYS unSTRIP challenge ft. Gamer Fleet, Suhani Shah and Karan Singh Boomer\"], [\"Good night chess\"], [\"Just Chillin' with Sagar Shah and Amruta Mokal\"], [\"Members' tournament #2 - Hunt for the strongest member\"], [\"I am a GENIUS - I.Q Test\"], [\"SAY THE TRUTH Fall Guys ft. Karan Singh Boomer, SUHANI, FLEET\"], [\"SAMAY RAINA | BEST OF WEEK #5 ft. @Tanmay Bhat\"], [\"Fall guys ft. Alexandra Botez, Tania Sachdev, Karan Singh Magic CHILLI CHALLENGE\"], [\"Billu Bewafa ft. @Suhani Shah and @GM Cemil Can Chess\"], [\"Goodnight chess - Reaching 1450 ft. Sagar Shah #ARJUNAFORCHESS\"], [\"CHESS OLYMPIAD DAY 1 ft. Sagar Shah, Biswa, Sethia\"], [\"CONVINCING RANDOM STRANGERS TO PLAY CHESS ON OMEGLE PART 3\"], [\"Fall guys ft. Tania Sachdev\"], [\"Best of Week #4 ft. Vidit Gujrathi, Sagar Shah, Tanmay Bot\"], [\"Reaching 1450 ft. Sagar Shah's voice\"], [\"FALL GUYS JEETNA HAI AAJ | FALLS GUYS GIVE AWAY\"], [\"Good afternoon chess ft. Tanmay Bot\"], [\"Burnol Boys play Fall Guys ft. @Flying Beast @Nishant Tanwar\"], [\"I TORE MY SHIRT PLAYING THIS GAME | UNFAIR MARIO\"], [\"Noobs play Fall Guys ft. @Tanmay Bhat @Nishant Tanwar\"], [\"UNTITLED TUESDAY but on Wednesday (Registration link in dikscription)\"], [\"Good afternoon chess - Reaching 1500\"], [\"PLAYING THE BEST GAME OF ALL TIME\"], [\"HUSBAND vs WIFE ft. Sagar Shah and Amruta (Dice Chess)\"], [\"WILL DELETE MY YOUTUBE CHANNEL IF I DON'T REACH 1600 RATING ON CHESS.COM\"], [\"DICE CHESS - Anish Giri vs Teimour Radjabov\"], [\"BEST OF THE WEEK #3 ft. @Tanmay Bhat  , Biswa\"], [\"WILL CHANGE NAME ON CHESS.COM TO WHATEVER YOU SAY IF I DON'T REACH 1300\"], [\"Botez sisters play SCRIBBL ft. Agadmator, Vidit, Sagar\"], [\"DEFEATING @CarryMinati, @Tanmay Bhat  ft. @BB Ki Vines  HIGHLIGHTS\"], [\"CHESS ft. CARRY, BHUVAN and TANMAY BOT\"], [\"Happy friendship day ft. Pentala Harikrishna\"], [\"BEST OF THE WEEK COMPILATION #2\"], [\"RAHUL DUA vs JASPREET SINGH\"], [\"CONVINCING RANDOM STRANGERS TO PLAY CHESS ON OMEGLE PART 2\"], [\"REACHING 1300 AT ANY COST\"], [\"Skribble ft. Botez sisters, AGADMATOR, Sagar Shah, Vidit G\"], [\"I LEAKED SUKHBIR's NUMBER \\ud83e\\udd26\\ud83e\\udd26\\ud83e\\udd26\"], [\"BEST OF WEEK COMPILATION #1\"], [\"CONVINCING RANDOM STRANGERS TO PLAY CHESS ON OMEGLE Part 1\"], [\"Members tournament - Hunt for the strongest member and also reaching 1300\"], [\"@BB Ki Vines  FUNNY CHESS HIGHLIGHTS ft. @Tanmay Bhat @Aakash Gupta\"], [\"Good night chess - Reaching 1300\"], [\"Bhuvan Bam plays chess ft. Aakash Gupta and Tanmay Bot\"], [\"Women's Speed Chess Championship finals - Rooting for HUMPY\"], [\"Understanding Rap ft. SEEDHE MAUT\"], [\"CRASH COURSE: DISCORD\"], [\"RAFTAAR vs EPR ft. Vidit Gujrathi\"], [\"FLYING BEAST TRIES CHESS ft. Vidit, Sagar, Karan Singh Boomer\"], [\"Good evening chess - Road to 1250\"], [\"GM ROBERT HESS vs COMEDIANS ON BOARD ft. Anish Giri, Vidit Gujrathi\"], [\"PRANK CALLS COMPILATION\"], [\"CHESS or SCRIBBLE ft. Anish, Vidit, Radjabov, Tania, Adhiban\"], [\"BEST OF ANIRBAN ft. Sagar, Biswa, Vaibhav, Everybody\"], [\"Khelna toh chess tha (Prank Calls)\"], [\"CURB YOUR ARROGANCE 2 FT. JOEL, BISWA, TANMAY, VIDIT\"], [\"HAND and BRAIN ft. BASSI and DEVESH DIXIT\"], [\"AWARD CEREMONY ft. Vishy Anand, Alexandra Botez, AGADMATOR, Tania\"], [\"COMEDIANS on BOARD 2 - GRAND FINALE LIVE STREAM\"], [\"COMEDIANS on BOARD DAY 2 - SEARCH FOR TOP 4\"], [\"COMEDIANS on BOARD 2 - DAY 1 (Part 2 of 2)\"], [\"COMEDIANS on BOARD 2 -  DAY 1 (Part 1 of 2)\"], [\"CURB YOUR ARROGANCE ft. Joel and Biswa\"], [\"Practicing for tomorrow's big day ft. Biswa, Rahul Sub, Anirban, Sagar Shah\"], [\"Chess ft. Mudit Dani and Sathiyan Gnanasekaran ft. Vidit and @Vivek Desai Illusionist\"], [\"WATCH TILL END!!! @Vidit Gujrathi @SOUL Sangwan @MambaSR @GamerFleet\"], [\"Understanding Rap ft. E.P.R and RAFTAAR\"], [\"RAIDNIGHT ft. @CarryisLive @MambaSR @GamerFleet\"], [\"CHILL SESSION FT. BALI, SANGWAN, RAAJ JONES\"], [\"MEMBERSHIP ALERT\"], [\"RAHUL SUBRAMANIAN vs KUMAR VARUN ft. BELLATRIX\"], [\"AAKASH GUPTA vs GAURAV KAPOOR\"], [\"Raidnight chess ft. Vidit Gujrathi\"], [\"QUALITY CONTENT ft. @Tanmay Bhat @Karan Singh Magic\"], [\"TANIA SACHDEV IS A SINGER\"], [\"Good night chess\"], [\"WWE ft. Tanmay Bot\"], [\"Chess Doubles ft. Soundarya Pradhan and Aryan Joshi\"], [\"Understanding Rap ft. Kr$na, RAFTAAR, Rohan Cariappa\"], [\"Magicians on Board ft. Karan Singh Magic, Tania Sachdev and Suhani Shah\"], [\"TEACHER vs STUDENTS ft. IM SAGAR SHAH\"], [\"UNBOXING NEW LAPTOP IN FRONT OF OLD LAPTOP\"], [\"4 Player Chess ft. Tanmay Bot, Kaneez, Sethia and Hackerman\"], [\"Subscribers Chess Tournament (Open to all ratings) for West Bengal\"], [\"Sagar Shah Spoiled ft. @Chess Talk @ChessBase India\"], [\"Subscribers Chess Tournament (0-1800) for West Bengal\"], [\"Subscribers Chess tournament (0-1400) for West Bengal\"], [\"Clear all your doubts about the tournament\"], [\"GM PENTALA HARIKRISHNA and RAJ TARUN vs Comedians on Board\"], [\"BISWAASGHAAT Compilation ft. @Vidit Gujrathi\"], [\"WE TRIED TO DEFEAT ANISH GIRI\"], [\"GHODA IS A RESPECTABLE ANIMAL COMPILATION ft. @Biswa Kalyan Rath\"], [\"4 Player Chess ft. Nihal Sarin, Vidit Gujrathi, Vaibhav Sethia and Anirban Dasgupta\"], [\"GM Harika Dronavalli and Kaneez Surkha vs GM S.P Sethuraman and Rahul Subramanian\"], [\"Chess with Subscribers (Join Discord)\"], [\"TAG TEAM MATCH - Chessbase India vs Chess Talk ft. Tanmay Bot\"], [\"Comedians on Board vs GM S.P SETHURAMAN\"], [\"Pokemon Ruby - The Beginning\"], [\"4 PLAYER CHESS ft. Alexandra Botez, Agadmator, Anish Giri and Vidit Gujrathi\"], [\"DEFEATING VIDIT GUJRATHI\"], [\"Blind Chess Players vs Comedians on Board\"], [\"PUBG ft.YUZVENDRA CHAHAL, RAFTAAR, TANMAY BOT\"], [\"Pokemon Fire Red - The Ending\"], [\"Completing Pokemon Fire Red maybe\"], [\"TRAINING KUSHA KAPILA ft. Sagar Shah\"], [\"Pokemon Fire Red because why not\"], [\"Non Violent Chess ft. Gang\"], [\"PUBG ft. KR$NA - FUNNY HIGHLIGHTS\"], [\"Pokemon Fire Red continues\"], [\"Alexandra Botez vs Vidit Gujrathi (Blindfold)\"], [\"Pokemon Fire Red (NSFW)\"], [\"Pokemon Fire Red (Fail)\"], [\"Botez and Kusha vs Kaneez and Biswa HIGHLIGHTS\"], [\"Good evening chess ft. Vidit and Gang\"], [\"Blindfold chess - Biswa vs Sethia\"], [\"[Re-Upload] CHESS FOR CHARITY 2.0 ft. RAFTAAR, ANISH GIRI, CarryMinati and many lovely people\"], [\"Blindfold Chess ft. My friend Vidit Gujrathi\"], [\"4 Player chess ft. Vidit\"], [\"4 player chess ft. Biswa, Sethia and Anirban\"], [\"ADHIBAN FUNNY  HIGHLIGHTS\"], [\"Online chess championship finals and 4 player chess ft. Biswa, Tanmay, Sagar and Sethia and\"], [\"LIVE STREAMING World Online Chess Cup India vs China, India vs Russia ft. Tania\"], [\"LIVE STREAMING World Online Chess Cup India vs ROW, India vs Europe\"], [\"LIVE STREAMING World Online Chess Cup India vs Russia, India vs USA\"], [\"WHEN LEGENDS MEET - Abish Mathew vs Yahya Bootwala highlights ft. Biswa hacker\"], [\"World Online Chess Cup India vs China ft. Adibhan\"], [\"LIVE STREAMING World Online Chess Cup INDIA vs USA\"], [\"BISWA HACKER COMPILATION\"], [\"VIDIT GUJRATHI vs NIHAL SARIN ft. Tanmay Bot\"], [\"Chess Puzzles ft. Sagar Shah, Biswa, Sapan and Gang\"], [\"Understanding chess #3 ft. Nihal Sarin\"], [\"VISWANATHAN ANAND vs GM ABISH MATHEW (Match of the century) Highlights\"], [\"Chess ft. GM Adhiban, the beast @Biswa Kalyan Rath @VAIBHAV SETHIA\"], [\"Understanding chess #2 with Vidit Gujrathi, Sethia and Biswa Hacker\"], [\"CHESS FOR CHARITY ft. VISWANATHAN ANAND, YUZVENDRA CHAHAL\"], [\"Chess ft. Varun Thakur\"], [\"Fun with AGADMATOR ft. @Biswa Kalyan Rath @Abhishek Upmanyu @agadmator's Chess Channel\"], [\"PUBG FT. RAFTAAR, KR$NA, TANMAY BHAT and YUNAN HIGHLIGHTS\"], [\"Defeating Aakash Mehta ft. Nihal Sarin and @Biswa Kalyan Rath Hacker\"], [\"Aakash Mehta vs Abhishek Upmanyu  (Title match)\"], [\"YUZVENDRA CHAHAL vs Comedians on Board ft. @Abhishek Upmanyu @Biswa Kalyan Rath @Karunesh Talwar\"], [\"Understanding chess ft. Vidit Gujrathi @Biswa Kalyan Rath @Kunal Rao\"], [\"PUBG ft. Raftaar, Kr$na and Tanmay Bhat  FULL STREAM\"], [\"VIDIT GUJRATHI VS COMEDIANS ON BOARD ft. @Abhishek Upmanyu @Biswa Kalyan Rath @VAIBHAV SETHIA\"], [\"PUBG ft. KR$NA\"], [\"Agadmator vs Indian Comedians ft. @Abhishek Upmanyu @Biswa Kalyan Rath @agadmator's Chess Channel\"], [\"PUBG Road to Bronze\"], [\"FINALE - Chess tournament\"], [\"SEMI FINALS\"], [\"Tournament Quarter finals\"], [\"Chess tournament match 11 Varun Grover vs Anubhav Singh Bassi\"], [\"Chess tournament matches 6,7,8,9 and 10\"], [\"Chess tournament matches 2,3,4 and 5\"], [\"Chess tournament match 1 Rahul Dua vs Sumit Sourav\"], [\"Kidnapped in PUBG custom room\"], [\"Chess practice before tournament with Vaibhav Sethia\"], [\"Aresole Just Went to War\"], [\"PUBG with Ojas and Balraj\"], [\"Coming soon\"], [\"Later night chess with friends - Sumit Sourav\"], [\"PUBG with Ojas\"], [\"Later night chess with friends - Balraj Ghai\"]], \"hovertemplate\": \"Year=2020<br>Video Length (mins)=%{x}<br>Total Views=%{y}<br>Dislike Percentage=%{marker.size}<br>Video Title=%{customdata[0]}<extra></extra>\", \"legendgroup\": \"2020\", \"marker\": {\"color\": \"#EF553B\", \"opacity\": 0.6, \"size\": [0.007275687501589967, 0.012817197946293355, 0.010146494936584406, 0.01034562478326205, 0.01438783615114036, 0.010371574465077655, 0.009764785358963336, 0.005452513966480447, 0.0076663424681045825, 0.011203716354693263, 0.006370945761787953, 0.0069274500207070515, 0.005973770341717974, 0.007048458149779736, 0.008852288287593296, 0.008227848101265823, 0.007724629266996645, 0.006988085063596602, 0.006501698204754974, 0.011154706702551963, 0.012006531553164921, 0.007771720218072149, 0.010043780582024209, 0.01229785997869662, 0.007802089569533227, 0.015610466291907632, 0.011489173663278833, 0.015183695603054815, 0.013121013933460617, 0.011619545058854699, 0.010003449465332874, 0.013353056410666454, 0.0056394064935301955, 0.012313544899389328, 0.011284699119048253, 0.011548410938654842, 0.0084240805424286, 0.005718625742751195, 0.014351496546431312, 0.017138667399871688, 0.009325590267474884, 0.009215017064846417, 0.01548420960545884, 0.010065359477124183, 0.024691358024691357, 0.026309110904322815, 0.031391372961599155, 0.01696488423658021, 0.006425664580308908, 0.007917279570822878, 0.02138660399529965, 0.00598055143509689, 0.007267441860465116, 0.009267175993601235, 0.005750341216745352, 0.004387873513199884, 0.009301951533347631, 0.006556884728965414, 0.014546766049531137, 0.005044334975369458, 0.017898729123694192, 0.005749953877375315, 0.003945901984999548, 0.006969528572751691, 0.016017254791033168, 0.010383771342932077, 0.004126232138763658, 0.011261860423871598, 0.003513376227565188, 0.007595549104983067, 0.013191009285776274, 0.00804619462324877, 0.017428785607196403, 0.006421670218044893, 0.00541967270807672, 0.01066772026866851, 0.01219841555635578, 0.014009409304756927, 0.007249503754207302, 0.007825288457699526, 0.013220443204124589, 0.005020347621039821, 0.0109204368174727, 0.010819654826621629, 0.005014757715562942, 0.011433330809419247, 0.00505968462936582, 0.005881327873137579, 0.009020860740462319, 0.006384083453305327, 0.004661365505895256, 0.008958529056502483, 0.011244298292139599, 0.006974668005802924, 0.007420173296950548, 0.014176260908755685, 0.008095051573312443, 0.00798542001390854, 0.015309672929714684, 0.027047146401985113, 0.007882705344474224, 0.005032563647128479, 0.006140514101916585, 0.009011526370939573, 0.019495617957431585, 0.014915500876409696, 0.012896825396825396, 0.006820555885545747, 0.006191990653599013, 0.014234875444839857, 0.007959135186505107, 0.011160244261949883, 0.0128125, 0.011803726465710663, 0.01046603475513428, 0.012914378686190766, 0.0022310092142494376, 0.006853889142736635, 0.009254650369632947, 0.015049562260328485, 0.010439420878841758, 0.0071634329609364285, 0.0071518588531821045, 0.006822072298862149, 0.010760244191664105, 0.012909260991580917, 0.019224077940153097, 0.014212488350419385, 0.023386552732178996, 0.012340055488840117, 0.00879224769558024, 0.012431480031323414, 0.006674994144741978, 0.011328654106637113, 0.007692843219159008, 0.007745051772478694, 0.018815136042526406, 0.006493506493506494, 0.01115525672371638, 0.01680977143548192, 0.018912754229233986, 0.01393030397436468, 0.006797776827704147, 0.013323730644580483, 0.016160520607375273, 0.022171165996553704, 0.018612178838761886, 0.010845006778129237, 0.11392305884196506, 0.012712328767123287, 0.011372064276885044, 0.01972364608870069, 0.006329749824173616, 0.014799066775266784, 0.0125861996023184, 0.014571758045916762, 0.012135922330097087, 0.01282278033250796, 0.011006536770646438, 0.016298590171950126, 0.01319962286791806, 0.007635567337059874, 0.009266624244352529, 0.010980802270859789, 0.020449552137907723, 0.009792735069527166, 0.020829352188037456, 0.010421366056121989, 0.015937803692905733, 0.016651418115279048, 0.012442232492001421, 0.0072264280798348245, 0.0106635478655705, 0.01980554555275477, 0.008862629246676515, 0.00807977297808608, 0.014078032523128196, 0.006661115736885929, 0.014750482492417977, 0.008230721494594506, 0.02244129197723812, 0.012246967510433325, 0.009224168752234536, 0.011689310433222251, 0.00874095513748191, 0.010894030791392815, 0.006795422031473534, 0.01635702746365105, 0.026503277286976348, 0.006735594247802512, 0.010828686292309687, 0.01108469415420551, 0.013819377007544632, 0.03042360938406698, 0.016882606988614057, 0.01499531396438613, 0.01759289707333114, 0.006365713752739822, 0.006602892388958675, 0.01834862385321101, 0.025327169737613127, 0.016063654105990092, 0.014683374784771379, 0.013948036725923032, 0.028368794326241134, 0.11392618581742123, 0.025576166385609892, 0.016407307171853857, 0.006114451726234714, 0.016015374759769378, 0.01533873029399233, 0.021314387211367674, 0.013664357197844496, 0.006230529595015576, 0.010795124782356355, 0.008838259844839439, 0.01719556041894638, 0.039165383957585086, 0.012177650429799427, 0.019740552735476594, 0.011095700416088766, 0.02616516762060507, 0.012855351170568562, 0.0078282181658558, 0.008785140562248996, 0.022881963102274763, 0.0947075208913649, 0.06411418214771182, 0.025984571660576532, 0.04021739130434782, 0.015625, 0.029414782638437595, 0.0331720801658604, 0.01032741563278269, 0.024805867126833477, 0.032437745740498035, 0.013721413721413722, 0.0253051503423638, 0.020704845814977973, 0.012213847012841988, 0.014618587755825285, 0.014571595103944046, 0.025289211729889696, 0.007929006511237135, 0.0403346280250971, 0.01741856819369448, 0.018107580330197052, 0.020405510787626722, 0.011767906945105775, 0.02566633761105627, 0.029688273132112815, 0.01537626235204691, 0.0085380467345716, 0.013089005235602094, 0.01761846901579587, 0.009849130369405042, 0.01361344537815126, 0.01732484076433121, 0.015267927501970055, 0.030736842105263156, 0.012209227605706207, 0.016917011826937473, 0.012463935372186959, 0.019455922865013773, 0.018723898553530436, 0.014364640883977901, 0.029608247422680412, 0.019597774925117672, 0.0333578386326043, 0.019663299663299664, 0.024920886075949368, 0.018806935057302382, 0.023319615912208505, 0.028035162746495604, 0.03186216662733066, 0.026336173508907823, 0.013964313421256789, 0.0161090458488228, 0.018861272695222985, 0.01975540921919097, 0.01818823944905527, 0.018376722817764167, 0.019994287346472437, 0.016286644951140065, 0.013943112102621304, 0.009886094992477971], \"sizemode\": \"area\", \"sizeref\": 0.00028481546454355304, \"symbol\": \"circle\"}, \"mode\": \"markers\", \"name\": \"2020\", \"orientation\": \"v\", \"showlegend\": true, \"type\": \"scatter\", \"x\": [14.45, 6.416666666666667, 12.216666666666667, 45.81666666666667, 10.233333333333333, 9.266666666666667, 99.03333333333333, 11.216666666666667, 48.6, 7.533333333333333, 11.716666666666667, 10.266666666666667, 8.866666666666667, 10.2, 205.36666666666667, 398.51666666666665, 522.7833333333333, 2.35, 10.183333333333334, 3.466666666666667, 88.85, 8.583333333333334, 128.33333333333334, 5.366666666666666, 10.05, 245.98333333333332, 123.18333333333334, 157.16666666666666, 146.16666666666666, 11.05, 73.03333333333333, 50.983333333333334, 14.733333333333333, 138.76666666666668, 144.45, 76.16666666666667, 57.45, 1.15, 122.48333333333333, 114.68333333333334, 11.25, 100.95, 68.75, 1.4, 14.233333333333333, 64.15, 3.3166666666666664, 64.18333333333334, 9.75, 1.1666666666666667, 128.46666666666667, 137.06666666666666, 10.666666666666666, 10.366666666666667, 1.4333333333333333, 0.4666666666666667, 11.95, 8.783333333333333, 157.58333333333334, 1.6, 119.36666666666666, 1.2333333333333334, 1.2, 11.283333333333333, 124.31666666666666, 110.3, 1.95, 96.1, 0.8166666666666667, 9.083333333333334, 135.93333333333334, 86.66666666666667, 75.33333333333333, 11.95, 1.2833333333333332, 221.51666666666668, 10.083333333333334, 182.63333333333333, 45.96666666666667, 128.75, 8.783333333333333, 1.0, 86.55, 106.65, 11.1, 162.31666666666666, 9.0, 1.0, 72.78333333333333, 1.8, 1.0, 112.81666666666666, 57.43333333333333, 89.83333333333333, 1.5833333333333335, 403.96666666666664, 64.51666666666667, 10.116666666666667, 162.85, 2.45, 93.91666666666667, 1.0, 12.516666666666667, 97.7, 220.36666666666667, 198.56666666666666, 92.58333333333333, 92.31666666666666, 10.416666666666666, 121.28333333333333, 6.866666666666667, 134.23333333333332, 88.96666666666667, 53.2, 10.216666666666667, 88.6, 7.8, 8.933333333333334, 145.33333333333334, 127.58333333333333, 10.333333333333334, 255.21666666666667, 196.28333333333333, 9.816666666666666, 68.35, 56.833333333333336, 77.7, 147.43333333333334, 82.83333333333333, 118.25, 8.116666666666667, 84.85, 6.0, 79.76666666666667, 176.76666666666668, 10.933333333333334, 104.43333333333334, 8.6, 56.5, 123.83333333333333, 63.416666666666664, 83.95, 14.166666666666666, 81.6, 118.26666666666667, 72.93333333333334, 156.33333333333334, 79.26666666666667, 11.766666666666667, 63.516666666666666, 7.9, 97.46666666666667, 7.683333333333334, 9.383333333333333, 119.51666666666667, 45.333333333333336, 7.333333333333333, 96.33333333333333, 8.4, 129.16666666666666, 94.75, 9.55, 9.4, 9.8, 108.25, 9.216666666666667, 94.51666666666667, 111.63333333333334, 108.45, 128.91666666666666, 8.583333333333334, 9.333333333333334, 94.6, 90.91666666666667, 91.41666666666667, 11.95, 134.33333333333334, 12.966666666666667, 105.21666666666667, 9.5, 78.21666666666667, 11.983333333333333, 168.25, 253.41666666666666, 119.51666666666667, 222.41666666666666, 6.116666666666666, 191.15, 75.01666666666667, 9.2, 99.36666666666666, 8.383333333333333, 167.58333333333334, 4.333333333333333, 76.35, 92.66666666666667, 36.43333333333333, 9.033333333333333, 9.0, 98.61666666666666, 88.35, 110.75, 151.1, 99.1, 108.91666666666667, 16.75, 135.0, 262.03333333333336, 7.6, 113.35, 132.88333333333333, 37.35, 114.33333333333333, 6.7, 78.75, 5.8, 72.93333333333334, 84.0, 64.16666666666667, 130.98333333333332, 97.66666666666667, 73.58333333333333, 98.5, 9.483333333333333, 115.48333333333333, 75.28333333333333, 117.91666666666667, 168.38333333333333, 80.1, 126.18333333333334, 84.51666666666667, 10.383333333333333, 171.9, 127.33333333333333, 145.76666666666668, 29.516666666666666, 9.516666666666667, 67.35, 94.41666666666667, 152.36666666666667, 124.26666666666667, 77.43333333333334, 114.41666666666667, 10.716666666666667, 179.11666666666667, 231.86666666666667, 202.03333333333333, 215.78333333333333, 8.783333333333333, 141.63333333333333, 233.63333333333333, 8.133333333333333, 8.416666666666666, 91.4, 96.6, 11.9, 67.83333333333333, 50.666666666666664, 254.56666666666666, 34.583333333333336, 12.766666666666667, 26.566666666666666, 34.3, 28.1, 69.73333333333333, 120.18333333333334, 85.91666666666667, 76.05, 95.85, 48.4, 50.6, 75.26666666666667, 91.3, 139.18333333333334, 25.483333333333334, 155.91666666666666, 110.9, 17.9, 16.933333333333334, 44.46666666666667, 1.6833333333333333, 78.5, 1.6166666666666667, 95.18333333333334, 89.56666666666666, 45.21666666666667], \"xaxis\": \"x\", \"y\": [371429, 211383, 494435, 198979, 408797, 469647, 247402, 200109, 139294, 284035, 288901, 247950, 411592, 238580, 749622, 1165543, 1649965, 185946, 391703, 213999, 152874, 355968, 392880, 212572, 462693, 420834, 357608, 362888, 307154, 216982, 210229, 216226, 390198, 271588, 451779, 181736, 152335, 178237, 285170, 140711, 758404, 159199, 117711, 232424, 301, 156653, 684385, 246441, 376578, 204383, 317061, 484381, 333540, 385759, 352434, 612447, 352453, 181887, 325183, 254619, 609680, 326840, 367757, 571992, 314592, 263854, 664334, 394276, 275175, 228199, 323960, 198351, 260507, 525032, 349628, 350853, 260785, 332939, 158593, 299958, 426593, 323769, 194036, 331017, 316839, 636762, 274803, 260533, 151545, 935675, 210849, 390165, 123878, 194047, 273053, 444353, 236344, 343746, 389141, 257211, 230439, 256589, 488538, 171741, 723315, 598255, 147034, 621524, 817924, 200532, 161532, 361268, 148357, 304095, 407143, 258434, 271265, 261461, 669712, 394671, 496279, 899620, 493723, 532920, 315308, 96666, 181642, 150746, 142731, 354910, 248656, 482851, 332289, 121722, 341223, 814382, 517558, 296318, 119841, 273782, 149188, 390833, 537772, 483420, 149055, 129303, 87926, 179682, 145056, 151507, 361917, 147196, 125315, 2256892, 794149, 154571, 270612, 211404, 942768, 187717, 396626, 368797, 304642, 1543910, 104839, 1060858, 86394, 524292, 117614, 174578, 355666, 303852, 460056, 98964, 169790, 748563, 466257, 186664, 259124, 508519, 303809, 275194, 381372, 339137, 248293, 374602, 352230, 108027, 58939, 365058, 199106, 1256689, 213024, 138310, 157460, 230741, 97564, 420373, 454299, 69751, 276080, 85500, 647656, 428106, 122504, 393764, 173589, 124546, 555829, 76249, 98151, 36708, 118367, 375839, 178632, 458520, 145374, 134230, 55074, 160883, 104519, 57049, 566355, 495848, 115289, 3823731, 78533, 75149, 139150, 84528, 111306, 363709, 87582, 885297, 83299, 52631, 389491, 75651, 92910, 357142, 226790, 115530, 105798, 341835, 97652, 163984, 130823, 147460, 247972, 141165, 192963, 874017, 358114, 105060, 94502, 668630, 144446, 102254, 465812, 56008, 134767, 322856, 239538, 223430, 907975, 133409, 233208, 352776, 178987, 175137, 48151, 93870, 86776, 137198, 129351, 201743, 80293, 38633, 184110, 22228, 40843, 20760, 374585, 24603, 28404, 76928], \"yaxis\": \"y\"}],                        {\"legend\": {\"itemsizing\": \"constant\", \"title\": {\"text\": \"Year\"}, \"tracegroupgap\": 0}, \"margin\": {\"t\": 60}, \"shapes\": [{\"line\": {\"dash\": \"dash\"}, \"type\": \"line\", \"x0\": 0, \"x1\": 1, \"xref\": \"x domain\", \"y0\": 256900.0, \"y1\": 256900.0, \"yref\": \"y\"}], \"template\": {\"data\": {\"bar\": [{\"error_x\": {\"color\": \"#2a3f5f\"}, \"error_y\": {\"color\": \"#2a3f5f\"}, \"marker\": {\"line\": {\"color\": \"#E5ECF6\", \"width\": 0.5}}, \"type\": \"bar\"}], \"barpolar\": [{\"marker\": {\"line\": {\"color\": \"#E5ECF6\", \"width\": 0.5}}, \"type\": \"barpolar\"}], \"carpet\": [{\"aaxis\": {\"endlinecolor\": \"#2a3f5f\", \"gridcolor\": \"white\", \"linecolor\": \"white\", \"minorgridcolor\": \"white\", \"startlinecolor\": \"#2a3f5f\"}, \"baxis\": {\"endlinecolor\": \"#2a3f5f\", \"gridcolor\": \"white\", \"linecolor\": \"white\", \"minorgridcolor\": \"white\", \"startlinecolor\": \"#2a3f5f\"}, \"type\": \"carpet\"}], \"choropleth\": [{\"colorbar\": {\"outlinewidth\": 0, \"ticks\": \"\"}, \"type\": \"choropleth\"}], \"contour\": [{\"colorbar\": {\"outlinewidth\": 0, \"ticks\": \"\"}, \"colorscale\": [[0.0, \"#0d0887\"], [0.1111111111111111, \"#46039f\"], [0.2222222222222222, \"#7201a8\"], [0.3333333333333333, \"#9c179e\"], [0.4444444444444444, \"#bd3786\"], [0.5555555555555556, \"#d8576b\"], [0.6666666666666666, \"#ed7953\"], [0.7777777777777778, \"#fb9f3a\"], [0.8888888888888888, \"#fdca26\"], [1.0, \"#f0f921\"]], \"type\": \"contour\"}], \"contourcarpet\": [{\"colorbar\": {\"outlinewidth\": 0, \"ticks\": \"\"}, \"type\": \"contourcarpet\"}], \"heatmap\": [{\"colorbar\": {\"outlinewidth\": 0, \"ticks\": \"\"}, \"colorscale\": [[0.0, \"#0d0887\"], [0.1111111111111111, \"#46039f\"], [0.2222222222222222, \"#7201a8\"], [0.3333333333333333, \"#9c179e\"], [0.4444444444444444, \"#bd3786\"], [0.5555555555555556, \"#d8576b\"], [0.6666666666666666, \"#ed7953\"], [0.7777777777777778, \"#fb9f3a\"], [0.8888888888888888, \"#fdca26\"], [1.0, \"#f0f921\"]], \"type\": \"heatmap\"}], \"heatmapgl\": [{\"colorbar\": {\"outlinewidth\": 0, \"ticks\": \"\"}, \"colorscale\": [[0.0, \"#0d0887\"], [0.1111111111111111, \"#46039f\"], [0.2222222222222222, \"#7201a8\"], [0.3333333333333333, \"#9c179e\"], [0.4444444444444444, \"#bd3786\"], [0.5555555555555556, \"#d8576b\"], [0.6666666666666666, \"#ed7953\"], [0.7777777777777778, \"#fb9f3a\"], [0.8888888888888888, \"#fdca26\"], [1.0, \"#f0f921\"]], \"type\": \"heatmapgl\"}], \"histogram\": [{\"marker\": {\"colorbar\": {\"outlinewidth\": 0, \"ticks\": \"\"}}, \"type\": \"histogram\"}], \"histogram2d\": [{\"colorbar\": {\"outlinewidth\": 0, \"ticks\": \"\"}, \"colorscale\": [[0.0, \"#0d0887\"], [0.1111111111111111, \"#46039f\"], [0.2222222222222222, \"#7201a8\"], [0.3333333333333333, \"#9c179e\"], [0.4444444444444444, \"#bd3786\"], [0.5555555555555556, \"#d8576b\"], [0.6666666666666666, \"#ed7953\"], [0.7777777777777778, \"#fb9f3a\"], [0.8888888888888888, \"#fdca26\"], [1.0, \"#f0f921\"]], \"type\": \"histogram2d\"}], \"histogram2dcontour\": [{\"colorbar\": {\"outlinewidth\": 0, \"ticks\": \"\"}, \"colorscale\": [[0.0, \"#0d0887\"], [0.1111111111111111, \"#46039f\"], [0.2222222222222222, \"#7201a8\"], [0.3333333333333333, \"#9c179e\"], [0.4444444444444444, \"#bd3786\"], [0.5555555555555556, \"#d8576b\"], [0.6666666666666666, \"#ed7953\"], [0.7777777777777778, \"#fb9f3a\"], [0.8888888888888888, \"#fdca26\"], [1.0, \"#f0f921\"]], \"type\": \"histogram2dcontour\"}], \"mesh3d\": [{\"colorbar\": {\"outlinewidth\": 0, \"ticks\": \"\"}, \"type\": \"mesh3d\"}], \"parcoords\": [{\"line\": {\"colorbar\": {\"outlinewidth\": 0, \"ticks\": \"\"}}, \"type\": \"parcoords\"}], \"pie\": [{\"automargin\": true, \"type\": \"pie\"}], \"scatter\": [{\"marker\": {\"colorbar\": {\"outlinewidth\": 0, \"ticks\": \"\"}}, \"type\": \"scatter\"}], \"scatter3d\": [{\"line\": {\"colorbar\": {\"outlinewidth\": 0, \"ticks\": \"\"}}, \"marker\": {\"colorbar\": {\"outlinewidth\": 0, \"ticks\": \"\"}}, \"type\": \"scatter3d\"}], \"scattercarpet\": [{\"marker\": {\"colorbar\": {\"outlinewidth\": 0, \"ticks\": \"\"}}, \"type\": \"scattercarpet\"}], \"scattergeo\": [{\"marker\": {\"colorbar\": {\"outlinewidth\": 0, \"ticks\": \"\"}}, \"type\": \"scattergeo\"}], \"scattergl\": [{\"marker\": {\"colorbar\": {\"outlinewidth\": 0, \"ticks\": \"\"}}, \"type\": \"scattergl\"}], \"scattermapbox\": [{\"marker\": {\"colorbar\": {\"outlinewidth\": 0, \"ticks\": \"\"}}, \"type\": \"scattermapbox\"}], \"scatterpolar\": [{\"marker\": {\"colorbar\": {\"outlinewidth\": 0, \"ticks\": \"\"}}, \"type\": \"scatterpolar\"}], \"scatterpolargl\": [{\"marker\": {\"colorbar\": {\"outlinewidth\": 0, \"ticks\": \"\"}}, \"type\": \"scatterpolargl\"}], \"scatterternary\": [{\"marker\": {\"colorbar\": {\"outlinewidth\": 0, \"ticks\": \"\"}}, \"type\": \"scatterternary\"}], \"surface\": [{\"colorbar\": {\"outlinewidth\": 0, \"ticks\": \"\"}, \"colorscale\": [[0.0, \"#0d0887\"], [0.1111111111111111, \"#46039f\"], [0.2222222222222222, \"#7201a8\"], [0.3333333333333333, \"#9c179e\"], [0.4444444444444444, \"#bd3786\"], [0.5555555555555556, \"#d8576b\"], [0.6666666666666666, \"#ed7953\"], [0.7777777777777778, \"#fb9f3a\"], [0.8888888888888888, \"#fdca26\"], [1.0, \"#f0f921\"]], \"type\": \"surface\"}], \"table\": [{\"cells\": {\"fill\": {\"color\": \"#EBF0F8\"}, \"line\": {\"color\": \"white\"}}, \"header\": {\"fill\": {\"color\": \"#C8D4E3\"}, \"line\": {\"color\": \"white\"}}, \"type\": \"table\"}]}, \"layout\": {\"annotationdefaults\": {\"arrowcolor\": \"#2a3f5f\", \"arrowhead\": 0, \"arrowwidth\": 1}, \"autotypenumbers\": \"strict\", \"coloraxis\": {\"colorbar\": {\"outlinewidth\": 0, \"ticks\": \"\"}}, \"colorscale\": {\"diverging\": [[0, \"#8e0152\"], [0.1, \"#c51b7d\"], [0.2, \"#de77ae\"], [0.3, \"#f1b6da\"], [0.4, \"#fde0ef\"], [0.5, \"#f7f7f7\"], [0.6, \"#e6f5d0\"], [0.7, \"#b8e186\"], [0.8, \"#7fbc41\"], [0.9, \"#4d9221\"], [1, \"#276419\"]], \"sequential\": [[0.0, \"#0d0887\"], [0.1111111111111111, \"#46039f\"], [0.2222222222222222, \"#7201a8\"], [0.3333333333333333, \"#9c179e\"], [0.4444444444444444, \"#bd3786\"], [0.5555555555555556, \"#d8576b\"], [0.6666666666666666, \"#ed7953\"], [0.7777777777777778, \"#fb9f3a\"], [0.8888888888888888, \"#fdca26\"], [1.0, \"#f0f921\"]], \"sequentialminus\": [[0.0, \"#0d0887\"], [0.1111111111111111, \"#46039f\"], [0.2222222222222222, \"#7201a8\"], [0.3333333333333333, \"#9c179e\"], [0.4444444444444444, \"#bd3786\"], [0.5555555555555556, \"#d8576b\"], [0.6666666666666666, \"#ed7953\"], [0.7777777777777778, \"#fb9f3a\"], [0.8888888888888888, \"#fdca26\"], [1.0, \"#f0f921\"]]}, \"colorway\": [\"#636efa\", \"#EF553B\", \"#00cc96\", \"#ab63fa\", \"#FFA15A\", \"#19d3f3\", \"#FF6692\", \"#B6E880\", \"#FF97FF\", \"#FECB52\"], \"font\": {\"color\": \"#2a3f5f\"}, \"geo\": {\"bgcolor\": \"white\", \"lakecolor\": \"white\", \"landcolor\": \"#E5ECF6\", \"showlakes\": true, \"showland\": true, \"subunitcolor\": \"white\"}, \"hoverlabel\": {\"align\": \"left\"}, \"hovermode\": \"closest\", \"mapbox\": {\"style\": \"light\"}, \"paper_bgcolor\": \"white\", \"plot_bgcolor\": \"#E5ECF6\", \"polar\": {\"angularaxis\": {\"gridcolor\": \"white\", \"linecolor\": \"white\", \"ticks\": \"\"}, \"bgcolor\": \"#E5ECF6\", \"radialaxis\": {\"gridcolor\": \"white\", \"linecolor\": \"white\", \"ticks\": \"\"}}, \"scene\": {\"xaxis\": {\"backgroundcolor\": \"#E5ECF6\", \"gridcolor\": \"white\", \"gridwidth\": 2, \"linecolor\": \"white\", \"showbackground\": true, \"ticks\": \"\", \"zerolinecolor\": \"white\"}, \"yaxis\": {\"backgroundcolor\": \"#E5ECF6\", \"gridcolor\": \"white\", \"gridwidth\": 2, \"linecolor\": \"white\", \"showbackground\": true, \"ticks\": \"\", \"zerolinecolor\": \"white\"}, \"zaxis\": {\"backgroundcolor\": \"#E5ECF6\", \"gridcolor\": \"white\", \"gridwidth\": 2, \"linecolor\": \"white\", \"showbackground\": true, \"ticks\": \"\", \"zerolinecolor\": \"white\"}}, \"shapedefaults\": {\"line\": {\"color\": \"#2a3f5f\"}}, \"ternary\": {\"aaxis\": {\"gridcolor\": \"white\", \"linecolor\": \"white\", \"ticks\": \"\"}, \"baxis\": {\"gridcolor\": \"white\", \"linecolor\": \"white\", \"ticks\": \"\"}, \"bgcolor\": \"#E5ECF6\", \"caxis\": {\"gridcolor\": \"white\", \"linecolor\": \"white\", \"ticks\": \"\"}}, \"title\": {\"x\": 0.05}, \"xaxis\": {\"automargin\": true, \"gridcolor\": \"white\", \"linecolor\": \"white\", \"ticks\": \"\", \"title\": {\"standoff\": 15}, \"zerolinecolor\": \"white\", \"zerolinewidth\": 2}, \"yaxis\": {\"automargin\": true, \"gridcolor\": \"white\", \"linecolor\": \"white\", \"ticks\": \"\", \"title\": {\"standoff\": 15}, \"zerolinecolor\": \"white\", \"zerolinewidth\": 2}}}, \"xaxis\": {\"anchor\": \"y\", \"domain\": [0.0, 1.0], \"title\": {\"text\": \"Video Length (mins)\"}}, \"yaxis\": {\"anchor\": \"x\", \"domain\": [0.0, 1.0], \"title\": {\"text\": \"Total Views\"}}},                        {\"responsive\": true}                    ).then(function(){\n",
       "                            \n",
       "var gd = document.getElementById('e9b40fda-f1dd-4333-a69d-36547267031a');\n",
       "var x = new MutationObserver(function (mutations, observer) {{\n",
       "        var display = window.getComputedStyle(gd).display;\n",
       "        if (!display || display === 'none') {{\n",
       "            console.log([gd, 'removed!']);\n",
       "            Plotly.purge(gd);\n",
       "            observer.disconnect();\n",
       "        }}\n",
       "}});\n",
       "\n",
       "// Listen for the removal of the full notebook cells\n",
       "var notebookContainer = gd.closest('#notebook-container');\n",
       "if (notebookContainer) {{\n",
       "    x.observe(notebookContainer, {childList: true});\n",
       "}}\n",
       "\n",
       "// Listen for the clearing of the current output cell\n",
       "var outputEl = gd.closest('.output');\n",
       "if (outputEl) {{\n",
       "    x.observe(outputEl, {childList: true});\n",
       "}}\n",
       "\n",
       "                        })                };                });            </script>        </div>"
      ]
     },
     "metadata": {},
     "output_type": "display_data"
    }
   ],
   "source": [
    "# views vs video length (dislike percent)\n",
    "\n",
    "fig = px.scatter(\n",
    "    data_frame=df,\n",
    "    x='vid_dur',\n",
    "    y='views',\n",
    "    color='upload_year',\n",
    "    size='dislikes_percent',\n",
    "    opacity=0.6,\n",
    "    hover_data=['vid_title'],\n",
    "    labels=LABELS,\n",
    "    \n",
    ")\n",
    "fig.add_hline(y=df['views'].median(), line_dash='dash', )\n",
    "\n",
    "fig.show()"
   ]
  },
  {
   "cell_type": "code",
   "execution_count": 92,
   "metadata": {},
   "outputs": [
    {
     "data": {
      "text/html": [
       "<div>\n",
       "<style scoped>\n",
       "    .dataframe tbody tr th:only-of-type {\n",
       "        vertical-align: middle;\n",
       "    }\n",
       "\n",
       "    .dataframe tbody tr th {\n",
       "        vertical-align: top;\n",
       "    }\n",
       "\n",
       "    .dataframe thead th {\n",
       "        text-align: right;\n",
       "    }\n",
       "</style>\n",
       "<table border=\"1\" class=\"dataframe\">\n",
       "  <thead>\n",
       "    <tr style=\"text-align: right;\">\n",
       "      <th></th>\n",
       "      <th>vid_id</th>\n",
       "      <th>vid_title</th>\n",
       "      <th>vid_description</th>\n",
       "      <th>thumbnail_url</th>\n",
       "      <th>upload_time</th>\n",
       "      <th>duration</th>\n",
       "      <th>views</th>\n",
       "      <th>likes</th>\n",
       "      <th>dislikes</th>\n",
       "      <th>comment_counts</th>\n",
       "      <th>upload_date</th>\n",
       "      <th>upload_month</th>\n",
       "      <th>upload_year</th>\n",
       "      <th>upload_hour</th>\n",
       "      <th>upload_minute</th>\n",
       "      <th>upload_second</th>\n",
       "      <th>vid_dur</th>\n",
       "      <th>likes_percent</th>\n",
       "      <th>dislikes_percent</th>\n",
       "    </tr>\n",
       "  </thead>\n",
       "  <tbody>\n",
       "    <tr>\n",
       "      <th>0</th>\n",
       "      <td>DOvl99yCASQ</td>\n",
       "      <td>Hand and Brain, Maybe Odds ?! Ft.Sahil (Editor...</td>\n",
       "      <td>Connect with me on social media:\\nhttps://www....</td>\n",
       "      <td>https://i.ytimg.com/vi/DOvl99yCASQ/hqdefault.jpg</td>\n",
       "      <td>2021-01-11T05:54:16Z</td>\n",
       "      <td>PT1H58M45S</td>\n",
       "      <td>13181</td>\n",
       "      <td>1513</td>\n",
       "      <td>10</td>\n",
       "      <td>11</td>\n",
       "      <td>11</td>\n",
       "      <td>1</td>\n",
       "      <td>2021</td>\n",
       "      <td>5</td>\n",
       "      <td>54</td>\n",
       "      <td>16</td>\n",
       "      <td>118.750000</td>\n",
       "      <td>0.993434</td>\n",
       "      <td>0.006566</td>\n",
       "    </tr>\n",
       "    <tr>\n",
       "      <th>1</th>\n",
       "      <td>8wFn9__z2XY</td>\n",
       "      <td>Chill Stream, Puzzle Rush Survival, Blitz,Bull...</td>\n",
       "      <td>Connect with me on social media:\\nhttps://www....</td>\n",
       "      <td>https://i.ytimg.com/vi/8wFn9__z2XY/hqdefault.jpg</td>\n",
       "      <td>2021-01-08T12:12:46Z</td>\n",
       "      <td>PT2H27M10S</td>\n",
       "      <td>12032</td>\n",
       "      <td>1439</td>\n",
       "      <td>10</td>\n",
       "      <td>5</td>\n",
       "      <td>8</td>\n",
       "      <td>1</td>\n",
       "      <td>2021</td>\n",
       "      <td>12</td>\n",
       "      <td>12</td>\n",
       "      <td>46</td>\n",
       "      <td>147.166667</td>\n",
       "      <td>0.993099</td>\n",
       "      <td>0.006901</td>\n",
       "    </tr>\n",
       "    <tr>\n",
       "      <th>2</th>\n",
       "      <td>uA2La0xm0-4</td>\n",
       "      <td>Chill stream &amp; Chess with subs (Discord edition)</td>\n",
       "      <td>Connect with me on social media:\\nhttps://www....</td>\n",
       "      <td>https://i.ytimg.com/vi/uA2La0xm0-4/hqdefault.jpg</td>\n",
       "      <td>2021-01-06T13:43:37Z</td>\n",
       "      <td>PT2H52M54S</td>\n",
       "      <td>7436</td>\n",
       "      <td>1105</td>\n",
       "      <td>8</td>\n",
       "      <td>8</td>\n",
       "      <td>6</td>\n",
       "      <td>1</td>\n",
       "      <td>2021</td>\n",
       "      <td>13</td>\n",
       "      <td>43</td>\n",
       "      <td>37</td>\n",
       "      <td>172.900000</td>\n",
       "      <td>0.992812</td>\n",
       "      <td>0.007188</td>\n",
       "    </tr>\n",
       "    <tr>\n",
       "      <th>3</th>\n",
       "      <td>qgsKtdmx8UU</td>\n",
       "      <td>Bday Stream. Part3</td>\n",
       "      <td>Connect with me on social media:\\nhttps://www....</td>\n",
       "      <td>https://i.ytimg.com/vi/qgsKtdmx8UU/hqdefault.jpg</td>\n",
       "      <td>2021-01-05T10:51:57Z</td>\n",
       "      <td>PT1H23M30S</td>\n",
       "      <td>6218</td>\n",
       "      <td>838</td>\n",
       "      <td>6</td>\n",
       "      <td>5</td>\n",
       "      <td>5</td>\n",
       "      <td>1</td>\n",
       "      <td>2021</td>\n",
       "      <td>10</td>\n",
       "      <td>51</td>\n",
       "      <td>57</td>\n",
       "      <td>83.500000</td>\n",
       "      <td>0.992891</td>\n",
       "      <td>0.007109</td>\n",
       "    </tr>\n",
       "    <tr>\n",
       "      <th>4</th>\n",
       "      <td>Fsk0dKO-QFc</td>\n",
       "      <td>Hand &amp; Brain,Bughouse Ft.@VAIBHAV SETHIA,@Anir...</td>\n",
       "      <td>Link to Join Graphy and everyone gets a one mo...</td>\n",
       "      <td>https://i.ytimg.com/vi/Fsk0dKO-QFc/hqdefault.jpg</td>\n",
       "      <td>2020-12-04T17:10:38Z</td>\n",
       "      <td>PT2H36M45S</td>\n",
       "      <td>48215</td>\n",
       "      <td>3300</td>\n",
       "      <td>39</td>\n",
       "      <td>34</td>\n",
       "      <td>4</td>\n",
       "      <td>12</td>\n",
       "      <td>2020</td>\n",
       "      <td>17</td>\n",
       "      <td>10</td>\n",
       "      <td>38</td>\n",
       "      <td>156.750000</td>\n",
       "      <td>0.988320</td>\n",
       "      <td>0.011680</td>\n",
       "    </tr>\n",
       "    <tr>\n",
       "      <th>5</th>\n",
       "      <td>jrw7ywJbR1o</td>\n",
       "      <td>Secret Training Episode 1: The Beast and the G...</td>\n",
       "      <td>Connect with me on social media:\\nhttps://www....</td>\n",
       "      <td>https://i.ytimg.com/vi/jrw7ywJbR1o/hqdefault.jpg</td>\n",
       "      <td>2020-11-30T18:03:10Z</td>\n",
       "      <td>PT2H13M10S</td>\n",
       "      <td>42256</td>\n",
       "      <td>3319</td>\n",
       "      <td>27</td>\n",
       "      <td>10</td>\n",
       "      <td>30</td>\n",
       "      <td>11</td>\n",
       "      <td>2020</td>\n",
       "      <td>18</td>\n",
       "      <td>3</td>\n",
       "      <td>10</td>\n",
       "      <td>133.166667</td>\n",
       "      <td>0.991931</td>\n",
       "      <td>0.008069</td>\n",
       "    </tr>\n",
       "    <tr>\n",
       "      <th>6</th>\n",
       "      <td>0g5BeE_Pgzo</td>\n",
       "      <td>Streaming Until Radja reaches 50k Subs. Ft.Sou...</td>\n",
       "      <td>Subscribe to Radja Channel :https://www.youtub...</td>\n",
       "      <td>https://i.ytimg.com/vi/0g5BeE_Pgzo/hqdefault.jpg</td>\n",
       "      <td>2020-11-30T11:39:11Z</td>\n",
       "      <td>PT48M</td>\n",
       "      <td>30892</td>\n",
       "      <td>2671</td>\n",
       "      <td>142</td>\n",
       "      <td>24</td>\n",
       "      <td>30</td>\n",
       "      <td>11</td>\n",
       "      <td>2020</td>\n",
       "      <td>11</td>\n",
       "      <td>39</td>\n",
       "      <td>11</td>\n",
       "      <td>48.000000</td>\n",
       "      <td>0.949520</td>\n",
       "      <td>0.050480</td>\n",
       "    </tr>\n",
       "    <tr>\n",
       "      <th>7</th>\n",
       "      <td>8VrW5d7ZkCQ</td>\n",
       "      <td>Hand &amp; Brain Match, OBS Adventures, Raiding Ga...</td>\n",
       "      <td>Connect with me on social media:\\nhttps://www....</td>\n",
       "      <td>https://i.ytimg.com/vi/8VrW5d7ZkCQ/hqdefault.jpg</td>\n",
       "      <td>2020-11-25T15:06:03Z</td>\n",
       "      <td>PT3H11M7S</td>\n",
       "      <td>139692</td>\n",
       "      <td>9899</td>\n",
       "      <td>107</td>\n",
       "      <td>54</td>\n",
       "      <td>25</td>\n",
       "      <td>11</td>\n",
       "      <td>2020</td>\n",
       "      <td>15</td>\n",
       "      <td>6</td>\n",
       "      <td>3</td>\n",
       "      <td>191.116667</td>\n",
       "      <td>0.989306</td>\n",
       "      <td>0.010694</td>\n",
       "    </tr>\n",
       "    <tr>\n",
       "      <th>8</th>\n",
       "      <td>lLFh3C1cXxo</td>\n",
       "      <td>Ryzen's Immortals. Ft. Ryzen (Join Discord)</td>\n",
       "      <td>Connect with me on social media:\\nhttps://www....</td>\n",
       "      <td>https://i.ytimg.com/vi/lLFh3C1cXxo/hqdefault.jpg</td>\n",
       "      <td>2020-11-23T10:59:28Z</td>\n",
       "      <td>PT1H43M50S</td>\n",
       "      <td>27576</td>\n",
       "      <td>2371</td>\n",
       "      <td>32</td>\n",
       "      <td>31</td>\n",
       "      <td>23</td>\n",
       "      <td>11</td>\n",
       "      <td>2020</td>\n",
       "      <td>10</td>\n",
       "      <td>59</td>\n",
       "      <td>28</td>\n",
       "      <td>103.833333</td>\n",
       "      <td>0.986683</td>\n",
       "      <td>0.013317</td>\n",
       "    </tr>\n",
       "    <tr>\n",
       "      <th>9</th>\n",
       "      <td>gogKiUodeFM</td>\n",
       "      <td>CELEBRATION STREAM of winning #C0B3 Ft.Joel,Va...</td>\n",
       "      <td>Connect with me on social media:\\nhttps://www....</td>\n",
       "      <td>https://i.ytimg.com/vi/gogKiUodeFM/hqdefault.jpg</td>\n",
       "      <td>2020-11-21T16:12:09Z</td>\n",
       "      <td>PT1H22M55S</td>\n",
       "      <td>130406</td>\n",
       "      <td>12589</td>\n",
       "      <td>72</td>\n",
       "      <td>122</td>\n",
       "      <td>21</td>\n",
       "      <td>11</td>\n",
       "      <td>2020</td>\n",
       "      <td>16</td>\n",
       "      <td>12</td>\n",
       "      <td>9</td>\n",
       "      <td>82.916667</td>\n",
       "      <td>0.994313</td>\n",
       "      <td>0.005687</td>\n",
       "    </tr>\n",
       "    <tr>\n",
       "      <th>10</th>\n",
       "      <td>xC3pj-MyH1k</td>\n",
       "      <td>The final one: Joel vs discord members #COB3. ...</td>\n",
       "      <td>Connect with me on social media:\\nhttps://www....</td>\n",
       "      <td>https://i.ytimg.com/vi/xC3pj-MyH1k/hqdefault.jpg</td>\n",
       "      <td>2020-11-18T13:24:06Z</td>\n",
       "      <td>PT2H26M55S</td>\n",
       "      <td>60211</td>\n",
       "      <td>4643</td>\n",
       "      <td>84</td>\n",
       "      <td>19</td>\n",
       "      <td>18</td>\n",
       "      <td>11</td>\n",
       "      <td>2020</td>\n",
       "      <td>13</td>\n",
       "      <td>24</td>\n",
       "      <td>6</td>\n",
       "      <td>146.916667</td>\n",
       "      <td>0.982230</td>\n",
       "      <td>0.017770</td>\n",
       "    </tr>\n",
       "    <tr>\n",
       "      <th>11</th>\n",
       "      <td>5PUtWw9KD94</td>\n",
       "      <td>The final chapter : Channeling the Speedforce....</td>\n",
       "      <td>Connect with me on social media:\\nhttps://www....</td>\n",
       "      <td>https://i.ytimg.com/vi/5PUtWw9KD94/hqdefault.jpg</td>\n",
       "      <td>2020-11-18T10:21:24Z</td>\n",
       "      <td>PT1H17M30S</td>\n",
       "      <td>24184</td>\n",
       "      <td>1901</td>\n",
       "      <td>13</td>\n",
       "      <td>32</td>\n",
       "      <td>18</td>\n",
       "      <td>11</td>\n",
       "      <td>2020</td>\n",
       "      <td>10</td>\n",
       "      <td>21</td>\n",
       "      <td>24</td>\n",
       "      <td>77.500000</td>\n",
       "      <td>0.993208</td>\n",
       "      <td>0.006792</td>\n",
       "    </tr>\n",
       "    <tr>\n",
       "      <th>12</th>\n",
       "      <td>LHyxCA9NWQ4</td>\n",
       "      <td>Adoption in Odds Chess!#COB3 Curb your arrogan...</td>\n",
       "      <td>Connect with me on social media:\\nhttps://www....</td>\n",
       "      <td>https://i.ytimg.com/vi/LHyxCA9NWQ4/hqdefault.jpg</td>\n",
       "      <td>2020-11-11T16:17:22Z</td>\n",
       "      <td>PT2H5M45S</td>\n",
       "      <td>40775</td>\n",
       "      <td>3634</td>\n",
       "      <td>23</td>\n",
       "      <td>24</td>\n",
       "      <td>11</td>\n",
       "      <td>11</td>\n",
       "      <td>2020</td>\n",
       "      <td>16</td>\n",
       "      <td>17</td>\n",
       "      <td>22</td>\n",
       "      <td>125.750000</td>\n",
       "      <td>0.993711</td>\n",
       "      <td>0.006289</td>\n",
       "    </tr>\n",
       "    <tr>\n",
       "      <th>13</th>\n",
       "      <td>mSXBJXVbdf8</td>\n",
       "      <td>The Genius of @VAIBHAV SETHIA-IQ over 220.5 #C...</td>\n",
       "      <td>Connect with me on social media:\\nhttps://www....</td>\n",
       "      <td>https://i.ytimg.com/vi/mSXBJXVbdf8/hqdefault.jpg</td>\n",
       "      <td>2020-11-02T06:56:39Z</td>\n",
       "      <td>PT1H54M5S</td>\n",
       "      <td>57957</td>\n",
       "      <td>3857</td>\n",
       "      <td>26</td>\n",
       "      <td>18</td>\n",
       "      <td>2</td>\n",
       "      <td>11</td>\n",
       "      <td>2020</td>\n",
       "      <td>6</td>\n",
       "      <td>56</td>\n",
       "      <td>39</td>\n",
       "      <td>114.083333</td>\n",
       "      <td>0.993304</td>\n",
       "      <td>0.006696</td>\n",
       "    </tr>\n",
       "    <tr>\n",
       "      <th>14</th>\n",
       "      <td>uw4N07QPJP8</td>\n",
       "      <td>Secret Training for #COB3 (Mastering Ultra Ins...</td>\n",
       "      <td>Connect with me on social media:\\nhttps://www....</td>\n",
       "      <td>https://i.ytimg.com/vi/uw4N07QPJP8/hqdefault.jpg</td>\n",
       "      <td>2020-10-31T08:07:44Z</td>\n",
       "      <td>PT1H57M40S</td>\n",
       "      <td>61997</td>\n",
       "      <td>4426</td>\n",
       "      <td>26</td>\n",
       "      <td>39</td>\n",
       "      <td>31</td>\n",
       "      <td>10</td>\n",
       "      <td>2020</td>\n",
       "      <td>8</td>\n",
       "      <td>7</td>\n",
       "      <td>44</td>\n",
       "      <td>117.666667</td>\n",
       "      <td>0.994160</td>\n",
       "      <td>0.005840</td>\n",
       "    </tr>\n",
       "    <tr>\n",
       "      <th>15</th>\n",
       "      <td>ceG9Iskf6Js</td>\n",
       "      <td>Secret Training for #COB3, Ft. Vaibhav Sethia,...</td>\n",
       "      <td>Connect with me on social media:\\nhttps://www....</td>\n",
       "      <td>https://i.ytimg.com/vi/ceG9Iskf6Js/hqdefault.jpg</td>\n",
       "      <td>2020-10-30T12:39:53Z</td>\n",
       "      <td>PT1H48M40S</td>\n",
       "      <td>58015</td>\n",
       "      <td>4613</td>\n",
       "      <td>25</td>\n",
       "      <td>49</td>\n",
       "      <td>30</td>\n",
       "      <td>10</td>\n",
       "      <td>2020</td>\n",
       "      <td>12</td>\n",
       "      <td>39</td>\n",
       "      <td>53</td>\n",
       "      <td>108.666667</td>\n",
       "      <td>0.994610</td>\n",
       "      <td>0.005390</td>\n",
       "    </tr>\n",
       "    <tr>\n",
       "      <th>16</th>\n",
       "      <td>bD8YviOHIas</td>\n",
       "      <td>Titled Tuesday Stream Ft.Anna Muzychuk &amp; Eliza...</td>\n",
       "      <td>Connect with me on social media:\\nhttps://www....</td>\n",
       "      <td>https://i.ytimg.com/vi/bD8YviOHIas/hqdefault.jpg</td>\n",
       "      <td>2020-10-26T17:24:41Z</td>\n",
       "      <td>PT2H31M55S</td>\n",
       "      <td>34090</td>\n",
       "      <td>2996</td>\n",
       "      <td>8</td>\n",
       "      <td>19</td>\n",
       "      <td>26</td>\n",
       "      <td>10</td>\n",
       "      <td>2020</td>\n",
       "      <td>17</td>\n",
       "      <td>24</td>\n",
       "      <td>41</td>\n",
       "      <td>151.916667</td>\n",
       "      <td>0.997337</td>\n",
       "      <td>0.002663</td>\n",
       "    </tr>\n",
       "    <tr>\n",
       "      <th>17</th>\n",
       "      <td>njHRXrlq3l0</td>\n",
       "      <td>Celebration for Silver at Asian nations cup an...</td>\n",
       "      <td>Connect with me on social media:\\nhttps://www....</td>\n",
       "      <td>https://i.ytimg.com/vi/njHRXrlq3l0/hqdefault.jpg</td>\n",
       "      <td>2020-10-26T09:10:57Z</td>\n",
       "      <td>PT2H11M40S</td>\n",
       "      <td>29209</td>\n",
       "      <td>2785</td>\n",
       "      <td>21</td>\n",
       "      <td>12</td>\n",
       "      <td>26</td>\n",
       "      <td>10</td>\n",
       "      <td>2020</td>\n",
       "      <td>9</td>\n",
       "      <td>10</td>\n",
       "      <td>57</td>\n",
       "      <td>131.666667</td>\n",
       "      <td>0.992516</td>\n",
       "      <td>0.007484</td>\n",
       "    </tr>\n",
       "    <tr>\n",
       "      <th>18</th>\n",
       "      <td>UdVsvnqhQVI</td>\n",
       "      <td>Titled Tuesday Stream. Ft. Sagar Shah</td>\n",
       "      <td>Connect with me on social media:\\nhttps://www....</td>\n",
       "      <td>https://i.ytimg.com/vi/UdVsvnqhQVI/hqdefault.jpg</td>\n",
       "      <td>2020-10-06T04:48:29Z</td>\n",
       "      <td>PT2H57M45S</td>\n",
       "      <td>47659</td>\n",
       "      <td>4403</td>\n",
       "      <td>24</td>\n",
       "      <td>23</td>\n",
       "      <td>6</td>\n",
       "      <td>10</td>\n",
       "      <td>2020</td>\n",
       "      <td>4</td>\n",
       "      <td>48</td>\n",
       "      <td>29</td>\n",
       "      <td>177.750000</td>\n",
       "      <td>0.994579</td>\n",
       "      <td>0.005421</td>\n",
       "    </tr>\n",
       "    <tr>\n",
       "      <th>19</th>\n",
       "      <td>q0r1mcA3eVA</td>\n",
       "      <td>Watching Norway Chess. Ft. Disco Suri</td>\n",
       "      <td>Connect with me on social media:\\nhttps://www....</td>\n",
       "      <td>https://i.ytimg.com/vi/q0r1mcA3eVA/hqdefault.jpg</td>\n",
       "      <td>2020-10-05T14:55:21Z</td>\n",
       "      <td>PT1H50M</td>\n",
       "      <td>6260</td>\n",
       "      <td>803</td>\n",
       "      <td>9</td>\n",
       "      <td>3</td>\n",
       "      <td>5</td>\n",
       "      <td>10</td>\n",
       "      <td>2020</td>\n",
       "      <td>14</td>\n",
       "      <td>55</td>\n",
       "      <td>21</td>\n",
       "      <td>110.000000</td>\n",
       "      <td>0.988916</td>\n",
       "      <td>0.011084</td>\n",
       "    </tr>\n",
       "    <tr>\n",
       "      <th>20</th>\n",
       "      <td>tHgDruwdTXw</td>\n",
       "      <td>Double Round Robin Blitz event at Chess24. Ft....</td>\n",
       "      <td>Connect with me on social media:\\nhttps://www....</td>\n",
       "      <td>https://i.ytimg.com/vi/tHgDruwdTXw/hqdefault.jpg</td>\n",
       "      <td>2020-10-01T13:03:48Z</td>\n",
       "      <td>PT1H55M</td>\n",
       "      <td>14372</td>\n",
       "      <td>1251</td>\n",
       "      <td>8</td>\n",
       "      <td>23</td>\n",
       "      <td>1</td>\n",
       "      <td>10</td>\n",
       "      <td>2020</td>\n",
       "      <td>13</td>\n",
       "      <td>3</td>\n",
       "      <td>48</td>\n",
       "      <td>115.000000</td>\n",
       "      <td>0.993646</td>\n",
       "      <td>0.006354</td>\n",
       "    </tr>\n",
       "    <tr>\n",
       "      <th>21</th>\n",
       "      <td>-lu8KKQobbA</td>\n",
       "      <td>Puzzle battle with kids Ft.Sankalp &amp; Illamparthi</td>\n",
       "      <td>Connect with me on social media:\\nhttps://www....</td>\n",
       "      <td>https://i.ytimg.com/vi/-lu8KKQobbA/hqdefault.jpg</td>\n",
       "      <td>2020-09-25T13:30:31Z</td>\n",
       "      <td>PT35M31S</td>\n",
       "      <td>6229</td>\n",
       "      <td>566</td>\n",
       "      <td>5</td>\n",
       "      <td>4</td>\n",
       "      <td>25</td>\n",
       "      <td>9</td>\n",
       "      <td>2020</td>\n",
       "      <td>13</td>\n",
       "      <td>30</td>\n",
       "      <td>31</td>\n",
       "      <td>35.516667</td>\n",
       "      <td>0.991243</td>\n",
       "      <td>0.008757</td>\n",
       "    </tr>\n",
       "    <tr>\n",
       "      <th>22</th>\n",
       "      <td>ZqgMFdBpl-Q</td>\n",
       "      <td>Chess, Chill and Storytime</td>\n",
       "      <td>Connect with me on social media:\\nhttps://www....</td>\n",
       "      <td>https://i.ytimg.com/vi/ZqgMFdBpl-Q/hqdefault.jpg</td>\n",
       "      <td>2020-09-25T11:41:21Z</td>\n",
       "      <td>PT1H23M31S</td>\n",
       "      <td>9562</td>\n",
       "      <td>1155</td>\n",
       "      <td>10</td>\n",
       "      <td>6</td>\n",
       "      <td>25</td>\n",
       "      <td>9</td>\n",
       "      <td>2020</td>\n",
       "      <td>11</td>\n",
       "      <td>41</td>\n",
       "      <td>21</td>\n",
       "      <td>83.516667</td>\n",
       "      <td>0.991416</td>\n",
       "      <td>0.008584</td>\n",
       "    </tr>\n",
       "    <tr>\n",
       "      <th>23</th>\n",
       "      <td>uIKgJpB7owI</td>\n",
       "      <td>The Tiger, the Witch and the Nice dress :)! Ft...</td>\n",
       "      <td>Connect with me on social media:\\nhttps://www....</td>\n",
       "      <td>https://i.ytimg.com/vi/uIKgJpB7owI/hqdefault.jpg</td>\n",
       "      <td>2020-09-22T05:02:40Z</td>\n",
       "      <td>PT2H13M55S</td>\n",
       "      <td>72587</td>\n",
       "      <td>4721</td>\n",
       "      <td>85</td>\n",
       "      <td>40</td>\n",
       "      <td>22</td>\n",
       "      <td>9</td>\n",
       "      <td>2020</td>\n",
       "      <td>5</td>\n",
       "      <td>2</td>\n",
       "      <td>40</td>\n",
       "      <td>133.916667</td>\n",
       "      <td>0.982314</td>\n",
       "      <td>0.017686</td>\n",
       "    </tr>\n",
       "    <tr>\n",
       "      <th>24</th>\n",
       "      <td>MnFwiuqI48c</td>\n",
       "      <td>Fun chess variants with Aravindh on lichess :).</td>\n",
       "      <td>Connect with me on social media:\\nhttps://www....</td>\n",
       "      <td>https://i.ytimg.com/vi/MnFwiuqI48c/hqdefault.jpg</td>\n",
       "      <td>2020-09-21T09:57:02Z</td>\n",
       "      <td>PT1H41M45S</td>\n",
       "      <td>11885</td>\n",
       "      <td>1176</td>\n",
       "      <td>14</td>\n",
       "      <td>8</td>\n",
       "      <td>21</td>\n",
       "      <td>9</td>\n",
       "      <td>2020</td>\n",
       "      <td>9</td>\n",
       "      <td>57</td>\n",
       "      <td>2</td>\n",
       "      <td>101.750000</td>\n",
       "      <td>0.988235</td>\n",
       "      <td>0.011765</td>\n",
       "    </tr>\n",
       "    <tr>\n",
       "      <th>25</th>\n",
       "      <td>z8PLl6QeI24</td>\n",
       "      <td>Chess24 Banter Blitz Cup Qualifier F vs Benjam...</td>\n",
       "      <td>Connect with me on social media:\\nhttps://www....</td>\n",
       "      <td>https://i.ytimg.com/vi/z8PLl6QeI24/hqdefault.jpg</td>\n",
       "      <td>2020-09-16T13:33:11Z</td>\n",
       "      <td>PT1H39M6S</td>\n",
       "      <td>22912</td>\n",
       "      <td>1651</td>\n",
       "      <td>13</td>\n",
       "      <td>5</td>\n",
       "      <td>16</td>\n",
       "      <td>9</td>\n",
       "      <td>2020</td>\n",
       "      <td>13</td>\n",
       "      <td>33</td>\n",
       "      <td>11</td>\n",
       "      <td>99.100000</td>\n",
       "      <td>0.992188</td>\n",
       "      <td>0.007812</td>\n",
       "    </tr>\n",
       "    <tr>\n",
       "      <th>26</th>\n",
       "      <td>Gndt1NPFoTg</td>\n",
       "      <td>Enter the dragon - Titled Tuesday with 6/6 exp...</td>\n",
       "      <td>Connect with me on social media:\\nhttps://www....</td>\n",
       "      <td>https://i.ytimg.com/vi/Gndt1NPFoTg/hqdefault.jpg</td>\n",
       "      <td>2020-09-15T07:52:00Z</td>\n",
       "      <td>PT2H48M36S</td>\n",
       "      <td>36297</td>\n",
       "      <td>2767</td>\n",
       "      <td>25</td>\n",
       "      <td>23</td>\n",
       "      <td>15</td>\n",
       "      <td>9</td>\n",
       "      <td>2020</td>\n",
       "      <td>7</td>\n",
       "      <td>52</td>\n",
       "      <td>0</td>\n",
       "      <td>168.600000</td>\n",
       "      <td>0.991046</td>\n",
       "      <td>0.008954</td>\n",
       "    </tr>\n",
       "    <tr>\n",
       "      <th>27</th>\n",
       "      <td>fjHrRrL7aZw</td>\n",
       "      <td>Bday stream with Creative Genius. All sorts of...</td>\n",
       "      <td>Connect with me on social media:\\nhttps://www....</td>\n",
       "      <td>https://i.ytimg.com/vi/fjHrRrL7aZw/hqdefault.jpg</td>\n",
       "      <td>2020-09-11T09:35:31Z</td>\n",
       "      <td>PT2H9M20S</td>\n",
       "      <td>24883</td>\n",
       "      <td>1986</td>\n",
       "      <td>25</td>\n",
       "      <td>16</td>\n",
       "      <td>11</td>\n",
       "      <td>9</td>\n",
       "      <td>2020</td>\n",
       "      <td>9</td>\n",
       "      <td>35</td>\n",
       "      <td>31</td>\n",
       "      <td>129.333333</td>\n",
       "      <td>0.987568</td>\n",
       "      <td>0.012432</td>\n",
       "    </tr>\n",
       "    <tr>\n",
       "      <th>28</th>\n",
       "      <td>o8qb3__pGJ0</td>\n",
       "      <td>First Titled Tuesday-Together!! After Party ft...</td>\n",
       "      <td>Connect with me on social media:\\nhttps://www....</td>\n",
       "      <td>https://i.ytimg.com/vi/o8qb3__pGJ0/hqdefault.jpg</td>\n",
       "      <td>2020-09-08T06:33:17Z</td>\n",
       "      <td>PT2H41M56S</td>\n",
       "      <td>60699</td>\n",
       "      <td>4416</td>\n",
       "      <td>34</td>\n",
       "      <td>17</td>\n",
       "      <td>8</td>\n",
       "      <td>9</td>\n",
       "      <td>2020</td>\n",
       "      <td>6</td>\n",
       "      <td>33</td>\n",
       "      <td>17</td>\n",
       "      <td>161.933333</td>\n",
       "      <td>0.992360</td>\n",
       "      <td>0.007640</td>\n",
       "    </tr>\n",
       "    <tr>\n",
       "      <th>29</th>\n",
       "      <td>76s1uOL1HMs</td>\n",
       "      <td>Broke Cemil's score with new record with 1866....</td>\n",
       "      <td>Connect with me on social media:\\nhttps://www....</td>\n",
       "      <td>https://i.ytimg.com/vi/76s1uOL1HMs/hqdefault.jpg</td>\n",
       "      <td>2020-09-06T02:22:16Z</td>\n",
       "      <td>PT1H27M36S</td>\n",
       "      <td>25105</td>\n",
       "      <td>1866</td>\n",
       "      <td>11</td>\n",
       "      <td>16</td>\n",
       "      <td>6</td>\n",
       "      <td>9</td>\n",
       "      <td>2020</td>\n",
       "      <td>2</td>\n",
       "      <td>22</td>\n",
       "      <td>16</td>\n",
       "      <td>87.600000</td>\n",
       "      <td>0.994140</td>\n",
       "      <td>0.005860</td>\n",
       "    </tr>\n",
       "    <tr>\n",
       "      <th>30</th>\n",
       "      <td>-lWhb43N-v0</td>\n",
       "      <td>Skribbl featuring Tania,Soumya,Samay,Anish &amp; V...</td>\n",
       "      <td>Connect with me on social media:\\nhttps://www....</td>\n",
       "      <td>https://i.ytimg.com/vi/-lWhb43N-v0/hqdefault.jpg</td>\n",
       "      <td>2020-09-05T14:11:25Z</td>\n",
       "      <td>PT1H33M31S</td>\n",
       "      <td>96002</td>\n",
       "      <td>8160</td>\n",
       "      <td>331</td>\n",
       "      <td>135</td>\n",
       "      <td>5</td>\n",
       "      <td>9</td>\n",
       "      <td>2020</td>\n",
       "      <td>14</td>\n",
       "      <td>11</td>\n",
       "      <td>25</td>\n",
       "      <td>93.516667</td>\n",
       "      <td>0.961018</td>\n",
       "      <td>0.038982</td>\n",
       "    </tr>\n",
       "    <tr>\n",
       "      <th>31</th>\n",
       "      <td>3vZSZ8NC6x8</td>\n",
       "      <td>Tried to beat Cemil's record on Chessbase Trai...</td>\n",
       "      <td>Connect with me on social media:\\nhttps://www....</td>\n",
       "      <td>https://i.ytimg.com/vi/3vZSZ8NC6x8/hqdefault.jpg</td>\n",
       "      <td>2020-09-05T08:40:00Z</td>\n",
       "      <td>PT2H39M6S</td>\n",
       "      <td>38607</td>\n",
       "      <td>3212</td>\n",
       "      <td>20</td>\n",
       "      <td>19</td>\n",
       "      <td>5</td>\n",
       "      <td>9</td>\n",
       "      <td>2020</td>\n",
       "      <td>8</td>\n",
       "      <td>40</td>\n",
       "      <td>0</td>\n",
       "      <td>159.100000</td>\n",
       "      <td>0.993812</td>\n",
       "      <td>0.006188</td>\n",
       "    </tr>\n",
       "    <tr>\n",
       "      <th>32</th>\n",
       "      <td>m87dQz9JOj8</td>\n",
       "      <td>Ceo &amp; Buddha! A brief history of h4, Puzzle Ba...</td>\n",
       "      <td>Follow them at \\nhttps://twitter.com/DivyaDesh...</td>\n",
       "      <td>https://i.ytimg.com/vi/m87dQz9JOj8/hqdefault.jpg</td>\n",
       "      <td>2020-09-03T06:50:09Z</td>\n",
       "      <td>PT2H24M18S</td>\n",
       "      <td>82739</td>\n",
       "      <td>5030</td>\n",
       "      <td>54</td>\n",
       "      <td>41</td>\n",
       "      <td>3</td>\n",
       "      <td>9</td>\n",
       "      <td>2020</td>\n",
       "      <td>6</td>\n",
       "      <td>50</td>\n",
       "      <td>9</td>\n",
       "      <td>144.300000</td>\n",
       "      <td>0.989378</td>\n",
       "      <td>0.010622</td>\n",
       "    </tr>\n",
       "    <tr>\n",
       "      <th>33</th>\n",
       "      <td>oaBU-EeK19s</td>\n",
       "      <td>Decoding the Human Calculator. Ft.Karthikeyan ...</td>\n",
       "      <td>Connect with me on social media:\\nhttps://www....</td>\n",
       "      <td>https://i.ytimg.com/vi/oaBU-EeK19s/hqdefault.jpg</td>\n",
       "      <td>2020-09-01T12:28:48Z</td>\n",
       "      <td>PT2H10M16S</td>\n",
       "      <td>21908</td>\n",
       "      <td>2152</td>\n",
       "      <td>13</td>\n",
       "      <td>7</td>\n",
       "      <td>1</td>\n",
       "      <td>9</td>\n",
       "      <td>2020</td>\n",
       "      <td>12</td>\n",
       "      <td>28</td>\n",
       "      <td>48</td>\n",
       "      <td>130.266667</td>\n",
       "      <td>0.993995</td>\n",
       "      <td>0.006005</td>\n",
       "    </tr>\n",
       "    <tr>\n",
       "      <th>34</th>\n",
       "      <td>j1a3lISmgrQ</td>\n",
       "      <td>Highlights day 02 Samay,Biswa,Sagar,Tania &amp; So...</td>\n",
       "      <td>Connect with me on social media:\\nhttps://www....</td>\n",
       "      <td>https://i.ytimg.com/vi/j1a3lISmgrQ/hqdefault.jpg</td>\n",
       "      <td>2020-08-28T05:14:03Z</td>\n",
       "      <td>PT10M47S</td>\n",
       "      <td>25821</td>\n",
       "      <td>2511</td>\n",
       "      <td>14</td>\n",
       "      <td>60</td>\n",
       "      <td>28</td>\n",
       "      <td>8</td>\n",
       "      <td>2020</td>\n",
       "      <td>5</td>\n",
       "      <td>14</td>\n",
       "      <td>3</td>\n",
       "      <td>10.783333</td>\n",
       "      <td>0.994455</td>\n",
       "      <td>0.005545</td>\n",
       "    </tr>\n",
       "    <tr>\n",
       "      <th>35</th>\n",
       "      <td>Kuq_RGSWDGg</td>\n",
       "      <td>Part-1, Day 2 Olympiad Stream, Indian team. Ft...</td>\n",
       "      <td>Follow team India games on:\\n\\nhttps://www.che...</td>\n",
       "      <td>https://i.ytimg.com/vi/Kuq_RGSWDGg/hqdefault.jpg</td>\n",
       "      <td>2020-08-21T06:23:42Z</td>\n",
       "      <td>PT45M4S</td>\n",
       "      <td>65395</td>\n",
       "      <td>5750</td>\n",
       "      <td>826</td>\n",
       "      <td>17</td>\n",
       "      <td>21</td>\n",
       "      <td>8</td>\n",
       "      <td>2020</td>\n",
       "      <td>6</td>\n",
       "      <td>23</td>\n",
       "      <td>42</td>\n",
       "      <td>45.066667</td>\n",
       "      <td>0.874392</td>\n",
       "      <td>0.125608</td>\n",
       "    </tr>\n",
       "    <tr>\n",
       "      <th>36</th>\n",
       "      <td>QVQN_rJDH6s</td>\n",
       "      <td>Part-2, Day 2 Olympiad Stream, Indian team. Ft...</td>\n",
       "      <td>Follow the games on:\\nhttps://www.chess.com/li...</td>\n",
       "      <td>https://i.ytimg.com/vi/QVQN_rJDH6s/hqdefault.jpg</td>\n",
       "      <td>2020-08-22T08:57:47Z</td>\n",
       "      <td>PT1H53M46S</td>\n",
       "      <td>150228</td>\n",
       "      <td>11192</td>\n",
       "      <td>128</td>\n",
       "      <td>422</td>\n",
       "      <td>22</td>\n",
       "      <td>8</td>\n",
       "      <td>2020</td>\n",
       "      <td>8</td>\n",
       "      <td>57</td>\n",
       "      <td>47</td>\n",
       "      <td>113.766667</td>\n",
       "      <td>0.988693</td>\n",
       "      <td>0.011307</td>\n",
       "    </tr>\n",
       "    <tr>\n",
       "      <th>37</th>\n",
       "      <td>xOAxUe15sBc</td>\n",
       "      <td>Part 2- Olympiad stream Ft.Anna Muzychuk</td>\n",
       "      <td>Connect with me on social media:\\nhttps://www....</td>\n",
       "      <td>https://i.ytimg.com/vi/xOAxUe15sBc/hqdefault.jpg</td>\n",
       "      <td>2020-08-21T12:57:18Z</td>\n",
       "      <td>PT1H16M36S</td>\n",
       "      <td>33525</td>\n",
       "      <td>2117</td>\n",
       "      <td>22</td>\n",
       "      <td>18</td>\n",
       "      <td>21</td>\n",
       "      <td>8</td>\n",
       "      <td>2020</td>\n",
       "      <td>12</td>\n",
       "      <td>57</td>\n",
       "      <td>18</td>\n",
       "      <td>76.600000</td>\n",
       "      <td>0.989715</td>\n",
       "      <td>0.010285</td>\n",
       "    </tr>\n",
       "    <tr>\n",
       "      <th>38</th>\n",
       "      <td>ph7oPDjYuJw</td>\n",
       "      <td>Beauty and the Beast: Episode 1- Olympiad stre...</td>\n",
       "      <td>Connect with me on social media:\\nhttps://www....</td>\n",
       "      <td>https://i.ytimg.com/vi/ph7oPDjYuJw/hqdefault.jpg</td>\n",
       "      <td>2020-08-20T16:05:55Z</td>\n",
       "      <td>PT1H50M51S</td>\n",
       "      <td>40618</td>\n",
       "      <td>2804</td>\n",
       "      <td>29</td>\n",
       "      <td>8</td>\n",
       "      <td>20</td>\n",
       "      <td>8</td>\n",
       "      <td>2020</td>\n",
       "      <td>16</td>\n",
       "      <td>5</td>\n",
       "      <td>55</td>\n",
       "      <td>110.850000</td>\n",
       "      <td>0.989764</td>\n",
       "      <td>0.010236</td>\n",
       "    </tr>\n",
       "    <tr>\n",
       "      <th>39</th>\n",
       "      <td>Nfh7GdgNW_Y</td>\n",
       "      <td>Training the Indian Olympiad team, Chapter 3: ...</td>\n",
       "      <td>World Teams Gold Medal Board 1, Olympiad Bronz...</td>\n",
       "      <td>https://i.ytimg.com/vi/Nfh7GdgNW_Y/hqdefault.jpg</td>\n",
       "      <td>2020-08-17T18:12:12Z</td>\n",
       "      <td>PT3H19M29S</td>\n",
       "      <td>51775</td>\n",
       "      <td>2908</td>\n",
       "      <td>31</td>\n",
       "      <td>18</td>\n",
       "      <td>17</td>\n",
       "      <td>8</td>\n",
       "      <td>2020</td>\n",
       "      <td>18</td>\n",
       "      <td>12</td>\n",
       "      <td>12</td>\n",
       "      <td>199.483333</td>\n",
       "      <td>0.989452</td>\n",
       "      <td>0.010548</td>\n",
       "    </tr>\n",
       "    <tr>\n",
       "      <th>40</th>\n",
       "      <td>Ora0xfX_2L8</td>\n",
       "      <td>Training the Indian Olympiad team, Chapter 2: ...</td>\n",
       "      <td>World Teams Gold Medal Board 1, Olympiad Bronz...</td>\n",
       "      <td>https://i.ytimg.com/vi/Ora0xfX_2L8/hqdefault.jpg</td>\n",
       "      <td>2020-08-16T18:15:18Z</td>\n",
       "      <td>PT3H7M36S</td>\n",
       "      <td>68525</td>\n",
       "      <td>3370</td>\n",
       "      <td>27</td>\n",
       "      <td>43</td>\n",
       "      <td>16</td>\n",
       "      <td>8</td>\n",
       "      <td>2020</td>\n",
       "      <td>18</td>\n",
       "      <td>15</td>\n",
       "      <td>18</td>\n",
       "      <td>187.600000</td>\n",
       "      <td>0.992052</td>\n",
       "      <td>0.007948</td>\n",
       "    </tr>\n",
       "    <tr>\n",
       "      <th>41</th>\n",
       "      <td>OweN6XjinYk</td>\n",
       "      <td>Intro, Online Olympiad Team India: Chapter 1 -...</td>\n",
       "      <td>World Teams Gold Medal Board 1, Olympiad Bronz...</td>\n",
       "      <td>https://i.ytimg.com/vi/OweN6XjinYk/hqdefault.jpg</td>\n",
       "      <td>2020-08-16T03:46:12Z</td>\n",
       "      <td>PT3H20M36S</td>\n",
       "      <td>42201</td>\n",
       "      <td>2196</td>\n",
       "      <td>25</td>\n",
       "      <td>34</td>\n",
       "      <td>16</td>\n",
       "      <td>8</td>\n",
       "      <td>2020</td>\n",
       "      <td>3</td>\n",
       "      <td>46</td>\n",
       "      <td>12</td>\n",
       "      <td>200.600000</td>\n",
       "      <td>0.988744</td>\n",
       "      <td>0.011256</td>\n",
       "    </tr>\n",
       "    <tr>\n",
       "      <th>42</th>\n",
       "      <td>mWK0vhW2sWY</td>\n",
       "      <td>Bday stream Part2  Ft.Soumya, Samay, Guruji, R...</td>\n",
       "      <td>World Teams Gold Medal Board 1, Olympiad Bronz...</td>\n",
       "      <td>https://i.ytimg.com/vi/mWK0vhW2sWY/hqdefault.jpg</td>\n",
       "      <td>2020-08-15T12:51:43Z</td>\n",
       "      <td>PT1H26M6S</td>\n",
       "      <td>36224</td>\n",
       "      <td>2511</td>\n",
       "      <td>12</td>\n",
       "      <td>43</td>\n",
       "      <td>15</td>\n",
       "      <td>8</td>\n",
       "      <td>2020</td>\n",
       "      <td>12</td>\n",
       "      <td>51</td>\n",
       "      <td>43</td>\n",
       "      <td>86.100000</td>\n",
       "      <td>0.995244</td>\n",
       "      <td>0.004756</td>\n",
       "    </tr>\n",
       "    <tr>\n",
       "      <th>43</th>\n",
       "      <td>P20qVWxeRYM</td>\n",
       "      <td>Bday Stream and Story time! Ft.Soumya, Samay, ...</td>\n",
       "      <td>World Teams Gold Medal Board 1, Olympiad Bronz...</td>\n",
       "      <td>https://i.ytimg.com/vi/P20qVWxeRYM/hqdefault.jpg</td>\n",
       "      <td>2020-08-15T08:59:44Z</td>\n",
       "      <td>PT49M36S</td>\n",
       "      <td>44348</td>\n",
       "      <td>3364</td>\n",
       "      <td>24</td>\n",
       "      <td>59</td>\n",
       "      <td>15</td>\n",
       "      <td>8</td>\n",
       "      <td>2020</td>\n",
       "      <td>8</td>\n",
       "      <td>59</td>\n",
       "      <td>44</td>\n",
       "      <td>49.600000</td>\n",
       "      <td>0.992916</td>\n",
       "      <td>0.007084</td>\n",
       "    </tr>\n",
       "    <tr>\n",
       "      <th>44</th>\n",
       "      <td>o-yHFhxZ-So</td>\n",
       "      <td>Watching Netherlands match of Olympiad, Ft Ani...</td>\n",
       "      <td>World Teams Gold Medal Board 1, Olympiad Bronz...</td>\n",
       "      <td>https://i.ytimg.com/vi/o-yHFhxZ-So/hqdefault.jpg</td>\n",
       "      <td>2020-08-14T03:26:48Z</td>\n",
       "      <td>PT2H49M46S</td>\n",
       "      <td>52419</td>\n",
       "      <td>2937</td>\n",
       "      <td>65</td>\n",
       "      <td>20</td>\n",
       "      <td>14</td>\n",
       "      <td>8</td>\n",
       "      <td>2020</td>\n",
       "      <td>3</td>\n",
       "      <td>26</td>\n",
       "      <td>48</td>\n",
       "      <td>169.766667</td>\n",
       "      <td>0.978348</td>\n",
       "      <td>0.021652</td>\n",
       "    </tr>\n",
       "    <tr>\n",
       "      <th>45</th>\n",
       "      <td>J99t3VkTRMo</td>\n",
       "      <td>Chess with the beast!</td>\n",
       "      <td>World Teams Gold Medal Board 1, Olympiad Bronz...</td>\n",
       "      <td>https://i.ytimg.com/vi/J99t3VkTRMo/hqdefault.jpg</td>\n",
       "      <td>2020-08-13T13:35:15Z</td>\n",
       "      <td>PT2H2M50S</td>\n",
       "      <td>24338</td>\n",
       "      <td>2129</td>\n",
       "      <td>22</td>\n",
       "      <td>26</td>\n",
       "      <td>13</td>\n",
       "      <td>8</td>\n",
       "      <td>2020</td>\n",
       "      <td>13</td>\n",
       "      <td>35</td>\n",
       "      <td>15</td>\n",
       "      <td>122.833333</td>\n",
       "      <td>0.989772</td>\n",
       "      <td>0.010228</td>\n",
       "    </tr>\n",
       "    <tr>\n",
       "      <th>46</th>\n",
       "      <td>qFJ4MjXXfw8</td>\n",
       "      <td>Creating record in Chessbase training (Tactics...</td>\n",
       "      <td>World Teams Gold Medal Board 1, Olympiad Bronz...</td>\n",
       "      <td>https://i.ytimg.com/vi/qFJ4MjXXfw8/hqdefault.jpg</td>\n",
       "      <td>2020-08-10T10:00:30Z</td>\n",
       "      <td>PT2H40M51S</td>\n",
       "      <td>32784</td>\n",
       "      <td>2594</td>\n",
       "      <td>30</td>\n",
       "      <td>25</td>\n",
       "      <td>10</td>\n",
       "      <td>8</td>\n",
       "      <td>2020</td>\n",
       "      <td>10</td>\n",
       "      <td>0</td>\n",
       "      <td>30</td>\n",
       "      <td>160.850000</td>\n",
       "      <td>0.988567</td>\n",
       "      <td>0.011433</td>\n",
       "    </tr>\n",
       "    <tr>\n",
       "      <th>47</th>\n",
       "      <td>VGhRHmkK2KY</td>\n",
       "      <td>Gambit Chess with the Beast!</td>\n",
       "      <td>Chess with \"The Beast\"\\nConnect with me on soc...</td>\n",
       "      <td>https://i.ytimg.com/vi/VGhRHmkK2KY/hqdefault.jpg</td>\n",
       "      <td>2020-08-04T08:12:35Z</td>\n",
       "      <td>PT3H34M34S</td>\n",
       "      <td>49039</td>\n",
       "      <td>3958</td>\n",
       "      <td>41</td>\n",
       "      <td>35</td>\n",
       "      <td>4</td>\n",
       "      <td>8</td>\n",
       "      <td>2020</td>\n",
       "      <td>8</td>\n",
       "      <td>12</td>\n",
       "      <td>35</td>\n",
       "      <td>214.566667</td>\n",
       "      <td>0.989747</td>\n",
       "      <td>0.010253</td>\n",
       "    </tr>\n",
       "    <tr>\n",
       "      <th>48</th>\n",
       "      <td>5uS9LuK9sTA</td>\n",
       "      <td>The beginning...</td>\n",
       "      <td>Chess with \"The Beast\"\\nConnect with me on soc...</td>\n",
       "      <td>https://i.ytimg.com/vi/5uS9LuK9sTA/hqdefault.jpg</td>\n",
       "      <td>2020-08-01T12:35:51Z</td>\n",
       "      <td>PT2H47M41S</td>\n",
       "      <td>31325</td>\n",
       "      <td>3679</td>\n",
       "      <td>37</td>\n",
       "      <td>84</td>\n",
       "      <td>1</td>\n",
       "      <td>8</td>\n",
       "      <td>2020</td>\n",
       "      <td>12</td>\n",
       "      <td>35</td>\n",
       "      <td>51</td>\n",
       "      <td>167.683333</td>\n",
       "      <td>0.990043</td>\n",
       "      <td>0.009957</td>\n",
       "    </tr>\n",
       "  </tbody>\n",
       "</table>\n",
       "</div>"
      ],
      "text/plain": [
       "         vid_id                                          vid_title  \\\n",
       "0   DOvl99yCASQ  Hand and Brain, Maybe Odds ?! Ft.Sahil (Editor...   \n",
       "1   8wFn9__z2XY  Chill Stream, Puzzle Rush Survival, Blitz,Bull...   \n",
       "2   uA2La0xm0-4   Chill stream & Chess with subs (Discord edition)   \n",
       "3   qgsKtdmx8UU                                 Bday Stream. Part3   \n",
       "4   Fsk0dKO-QFc  Hand & Brain,Bughouse Ft.@VAIBHAV SETHIA,@Anir...   \n",
       "5   jrw7ywJbR1o  Secret Training Episode 1: The Beast and the G...   \n",
       "6   0g5BeE_Pgzo  Streaming Until Radja reaches 50k Subs. Ft.Sou...   \n",
       "7   8VrW5d7ZkCQ  Hand & Brain Match, OBS Adventures, Raiding Ga...   \n",
       "8   lLFh3C1cXxo        Ryzen's Immortals. Ft. Ryzen (Join Discord)   \n",
       "9   gogKiUodeFM  CELEBRATION STREAM of winning #C0B3 Ft.Joel,Va...   \n",
       "10  xC3pj-MyH1k  The final one: Joel vs discord members #COB3. ...   \n",
       "11  5PUtWw9KD94  The final chapter : Channeling the Speedforce....   \n",
       "12  LHyxCA9NWQ4  Adoption in Odds Chess!#COB3 Curb your arrogan...   \n",
       "13  mSXBJXVbdf8  The Genius of @VAIBHAV SETHIA-IQ over 220.5 #C...   \n",
       "14  uw4N07QPJP8  Secret Training for #COB3 (Mastering Ultra Ins...   \n",
       "15  ceG9Iskf6Js  Secret Training for #COB3, Ft. Vaibhav Sethia,...   \n",
       "16  bD8YviOHIas  Titled Tuesday Stream Ft.Anna Muzychuk & Eliza...   \n",
       "17  njHRXrlq3l0  Celebration for Silver at Asian nations cup an...   \n",
       "18  UdVsvnqhQVI              Titled Tuesday Stream. Ft. Sagar Shah   \n",
       "19  q0r1mcA3eVA              Watching Norway Chess. Ft. Disco Suri   \n",
       "20  tHgDruwdTXw  Double Round Robin Blitz event at Chess24. Ft....   \n",
       "21  -lu8KKQobbA   Puzzle battle with kids Ft.Sankalp & Illamparthi   \n",
       "22  ZqgMFdBpl-Q                         Chess, Chill and Storytime   \n",
       "23  uIKgJpB7owI  The Tiger, the Witch and the Nice dress :)! Ft...   \n",
       "24  MnFwiuqI48c    Fun chess variants with Aravindh on lichess :).   \n",
       "25  z8PLl6QeI24  Chess24 Banter Blitz Cup Qualifier F vs Benjam...   \n",
       "26  Gndt1NPFoTg  Enter the dragon - Titled Tuesday with 6/6 exp...   \n",
       "27  fjHrRrL7aZw  Bday stream with Creative Genius. All sorts of...   \n",
       "28  o8qb3__pGJ0  First Titled Tuesday-Together!! After Party ft...   \n",
       "29  76s1uOL1HMs  Broke Cemil's score with new record with 1866....   \n",
       "30  -lWhb43N-v0  Skribbl featuring Tania,Soumya,Samay,Anish & V...   \n",
       "31  3vZSZ8NC6x8  Tried to beat Cemil's record on Chessbase Trai...   \n",
       "32  m87dQz9JOj8  Ceo & Buddha! A brief history of h4, Puzzle Ba...   \n",
       "33  oaBU-EeK19s  Decoding the Human Calculator. Ft.Karthikeyan ...   \n",
       "34  j1a3lISmgrQ  Highlights day 02 Samay,Biswa,Sagar,Tania & So...   \n",
       "35  Kuq_RGSWDGg  Part-1, Day 2 Olympiad Stream, Indian team. Ft...   \n",
       "36  QVQN_rJDH6s  Part-2, Day 2 Olympiad Stream, Indian team. Ft...   \n",
       "37  xOAxUe15sBc           Part 2- Olympiad stream Ft.Anna Muzychuk   \n",
       "38  ph7oPDjYuJw  Beauty and the Beast: Episode 1- Olympiad stre...   \n",
       "39  Nfh7GdgNW_Y  Training the Indian Olympiad team, Chapter 3: ...   \n",
       "40  Ora0xfX_2L8  Training the Indian Olympiad team, Chapter 2: ...   \n",
       "41  OweN6XjinYk  Intro, Online Olympiad Team India: Chapter 1 -...   \n",
       "42  mWK0vhW2sWY  Bday stream Part2  Ft.Soumya, Samay, Guruji, R...   \n",
       "43  P20qVWxeRYM  Bday Stream and Story time! Ft.Soumya, Samay, ...   \n",
       "44  o-yHFhxZ-So  Watching Netherlands match of Olympiad, Ft Ani...   \n",
       "45  J99t3VkTRMo                              Chess with the beast!   \n",
       "46  qFJ4MjXXfw8  Creating record in Chessbase training (Tactics...   \n",
       "47  VGhRHmkK2KY                       Gambit Chess with the Beast!   \n",
       "48  5uS9LuK9sTA                                   The beginning...   \n",
       "\n",
       "                                      vid_description  \\\n",
       "0   Connect with me on social media:\\nhttps://www....   \n",
       "1   Connect with me on social media:\\nhttps://www....   \n",
       "2   Connect with me on social media:\\nhttps://www....   \n",
       "3   Connect with me on social media:\\nhttps://www....   \n",
       "4   Link to Join Graphy and everyone gets a one mo...   \n",
       "5   Connect with me on social media:\\nhttps://www....   \n",
       "6   Subscribe to Radja Channel :https://www.youtub...   \n",
       "7   Connect with me on social media:\\nhttps://www....   \n",
       "8   Connect with me on social media:\\nhttps://www....   \n",
       "9   Connect with me on social media:\\nhttps://www....   \n",
       "10  Connect with me on social media:\\nhttps://www....   \n",
       "11  Connect with me on social media:\\nhttps://www....   \n",
       "12  Connect with me on social media:\\nhttps://www....   \n",
       "13  Connect with me on social media:\\nhttps://www....   \n",
       "14  Connect with me on social media:\\nhttps://www....   \n",
       "15  Connect with me on social media:\\nhttps://www....   \n",
       "16  Connect with me on social media:\\nhttps://www....   \n",
       "17  Connect with me on social media:\\nhttps://www....   \n",
       "18  Connect with me on social media:\\nhttps://www....   \n",
       "19  Connect with me on social media:\\nhttps://www....   \n",
       "20  Connect with me on social media:\\nhttps://www....   \n",
       "21  Connect with me on social media:\\nhttps://www....   \n",
       "22  Connect with me on social media:\\nhttps://www....   \n",
       "23  Connect with me on social media:\\nhttps://www....   \n",
       "24  Connect with me on social media:\\nhttps://www....   \n",
       "25  Connect with me on social media:\\nhttps://www....   \n",
       "26  Connect with me on social media:\\nhttps://www....   \n",
       "27  Connect with me on social media:\\nhttps://www....   \n",
       "28  Connect with me on social media:\\nhttps://www....   \n",
       "29  Connect with me on social media:\\nhttps://www....   \n",
       "30  Connect with me on social media:\\nhttps://www....   \n",
       "31  Connect with me on social media:\\nhttps://www....   \n",
       "32  Follow them at \\nhttps://twitter.com/DivyaDesh...   \n",
       "33  Connect with me on social media:\\nhttps://www....   \n",
       "34  Connect with me on social media:\\nhttps://www....   \n",
       "35  Follow team India games on:\\n\\nhttps://www.che...   \n",
       "36  Follow the games on:\\nhttps://www.chess.com/li...   \n",
       "37  Connect with me on social media:\\nhttps://www....   \n",
       "38  Connect with me on social media:\\nhttps://www....   \n",
       "39  World Teams Gold Medal Board 1, Olympiad Bronz...   \n",
       "40  World Teams Gold Medal Board 1, Olympiad Bronz...   \n",
       "41  World Teams Gold Medal Board 1, Olympiad Bronz...   \n",
       "42  World Teams Gold Medal Board 1, Olympiad Bronz...   \n",
       "43  World Teams Gold Medal Board 1, Olympiad Bronz...   \n",
       "44  World Teams Gold Medal Board 1, Olympiad Bronz...   \n",
       "45  World Teams Gold Medal Board 1, Olympiad Bronz...   \n",
       "46  World Teams Gold Medal Board 1, Olympiad Bronz...   \n",
       "47  Chess with \"The Beast\"\\nConnect with me on soc...   \n",
       "48  Chess with \"The Beast\"\\nConnect with me on soc...   \n",
       "\n",
       "                                       thumbnail_url           upload_time  \\\n",
       "0   https://i.ytimg.com/vi/DOvl99yCASQ/hqdefault.jpg  2021-01-11T05:54:16Z   \n",
       "1   https://i.ytimg.com/vi/8wFn9__z2XY/hqdefault.jpg  2021-01-08T12:12:46Z   \n",
       "2   https://i.ytimg.com/vi/uA2La0xm0-4/hqdefault.jpg  2021-01-06T13:43:37Z   \n",
       "3   https://i.ytimg.com/vi/qgsKtdmx8UU/hqdefault.jpg  2021-01-05T10:51:57Z   \n",
       "4   https://i.ytimg.com/vi/Fsk0dKO-QFc/hqdefault.jpg  2020-12-04T17:10:38Z   \n",
       "5   https://i.ytimg.com/vi/jrw7ywJbR1o/hqdefault.jpg  2020-11-30T18:03:10Z   \n",
       "6   https://i.ytimg.com/vi/0g5BeE_Pgzo/hqdefault.jpg  2020-11-30T11:39:11Z   \n",
       "7   https://i.ytimg.com/vi/8VrW5d7ZkCQ/hqdefault.jpg  2020-11-25T15:06:03Z   \n",
       "8   https://i.ytimg.com/vi/lLFh3C1cXxo/hqdefault.jpg  2020-11-23T10:59:28Z   \n",
       "9   https://i.ytimg.com/vi/gogKiUodeFM/hqdefault.jpg  2020-11-21T16:12:09Z   \n",
       "10  https://i.ytimg.com/vi/xC3pj-MyH1k/hqdefault.jpg  2020-11-18T13:24:06Z   \n",
       "11  https://i.ytimg.com/vi/5PUtWw9KD94/hqdefault.jpg  2020-11-18T10:21:24Z   \n",
       "12  https://i.ytimg.com/vi/LHyxCA9NWQ4/hqdefault.jpg  2020-11-11T16:17:22Z   \n",
       "13  https://i.ytimg.com/vi/mSXBJXVbdf8/hqdefault.jpg  2020-11-02T06:56:39Z   \n",
       "14  https://i.ytimg.com/vi/uw4N07QPJP8/hqdefault.jpg  2020-10-31T08:07:44Z   \n",
       "15  https://i.ytimg.com/vi/ceG9Iskf6Js/hqdefault.jpg  2020-10-30T12:39:53Z   \n",
       "16  https://i.ytimg.com/vi/bD8YviOHIas/hqdefault.jpg  2020-10-26T17:24:41Z   \n",
       "17  https://i.ytimg.com/vi/njHRXrlq3l0/hqdefault.jpg  2020-10-26T09:10:57Z   \n",
       "18  https://i.ytimg.com/vi/UdVsvnqhQVI/hqdefault.jpg  2020-10-06T04:48:29Z   \n",
       "19  https://i.ytimg.com/vi/q0r1mcA3eVA/hqdefault.jpg  2020-10-05T14:55:21Z   \n",
       "20  https://i.ytimg.com/vi/tHgDruwdTXw/hqdefault.jpg  2020-10-01T13:03:48Z   \n",
       "21  https://i.ytimg.com/vi/-lu8KKQobbA/hqdefault.jpg  2020-09-25T13:30:31Z   \n",
       "22  https://i.ytimg.com/vi/ZqgMFdBpl-Q/hqdefault.jpg  2020-09-25T11:41:21Z   \n",
       "23  https://i.ytimg.com/vi/uIKgJpB7owI/hqdefault.jpg  2020-09-22T05:02:40Z   \n",
       "24  https://i.ytimg.com/vi/MnFwiuqI48c/hqdefault.jpg  2020-09-21T09:57:02Z   \n",
       "25  https://i.ytimg.com/vi/z8PLl6QeI24/hqdefault.jpg  2020-09-16T13:33:11Z   \n",
       "26  https://i.ytimg.com/vi/Gndt1NPFoTg/hqdefault.jpg  2020-09-15T07:52:00Z   \n",
       "27  https://i.ytimg.com/vi/fjHrRrL7aZw/hqdefault.jpg  2020-09-11T09:35:31Z   \n",
       "28  https://i.ytimg.com/vi/o8qb3__pGJ0/hqdefault.jpg  2020-09-08T06:33:17Z   \n",
       "29  https://i.ytimg.com/vi/76s1uOL1HMs/hqdefault.jpg  2020-09-06T02:22:16Z   \n",
       "30  https://i.ytimg.com/vi/-lWhb43N-v0/hqdefault.jpg  2020-09-05T14:11:25Z   \n",
       "31  https://i.ytimg.com/vi/3vZSZ8NC6x8/hqdefault.jpg  2020-09-05T08:40:00Z   \n",
       "32  https://i.ytimg.com/vi/m87dQz9JOj8/hqdefault.jpg  2020-09-03T06:50:09Z   \n",
       "33  https://i.ytimg.com/vi/oaBU-EeK19s/hqdefault.jpg  2020-09-01T12:28:48Z   \n",
       "34  https://i.ytimg.com/vi/j1a3lISmgrQ/hqdefault.jpg  2020-08-28T05:14:03Z   \n",
       "35  https://i.ytimg.com/vi/Kuq_RGSWDGg/hqdefault.jpg  2020-08-21T06:23:42Z   \n",
       "36  https://i.ytimg.com/vi/QVQN_rJDH6s/hqdefault.jpg  2020-08-22T08:57:47Z   \n",
       "37  https://i.ytimg.com/vi/xOAxUe15sBc/hqdefault.jpg  2020-08-21T12:57:18Z   \n",
       "38  https://i.ytimg.com/vi/ph7oPDjYuJw/hqdefault.jpg  2020-08-20T16:05:55Z   \n",
       "39  https://i.ytimg.com/vi/Nfh7GdgNW_Y/hqdefault.jpg  2020-08-17T18:12:12Z   \n",
       "40  https://i.ytimg.com/vi/Ora0xfX_2L8/hqdefault.jpg  2020-08-16T18:15:18Z   \n",
       "41  https://i.ytimg.com/vi/OweN6XjinYk/hqdefault.jpg  2020-08-16T03:46:12Z   \n",
       "42  https://i.ytimg.com/vi/mWK0vhW2sWY/hqdefault.jpg  2020-08-15T12:51:43Z   \n",
       "43  https://i.ytimg.com/vi/P20qVWxeRYM/hqdefault.jpg  2020-08-15T08:59:44Z   \n",
       "44  https://i.ytimg.com/vi/o-yHFhxZ-So/hqdefault.jpg  2020-08-14T03:26:48Z   \n",
       "45  https://i.ytimg.com/vi/J99t3VkTRMo/hqdefault.jpg  2020-08-13T13:35:15Z   \n",
       "46  https://i.ytimg.com/vi/qFJ4MjXXfw8/hqdefault.jpg  2020-08-10T10:00:30Z   \n",
       "47  https://i.ytimg.com/vi/VGhRHmkK2KY/hqdefault.jpg  2020-08-04T08:12:35Z   \n",
       "48  https://i.ytimg.com/vi/5uS9LuK9sTA/hqdefault.jpg  2020-08-01T12:35:51Z   \n",
       "\n",
       "      duration   views  likes  dislikes  comment_counts upload_date  \\\n",
       "0   PT1H58M45S   13181   1513        10              11          11   \n",
       "1   PT2H27M10S   12032   1439        10               5           8   \n",
       "2   PT2H52M54S    7436   1105         8               8           6   \n",
       "3   PT1H23M30S    6218    838         6               5           5   \n",
       "4   PT2H36M45S   48215   3300        39              34           4   \n",
       "5   PT2H13M10S   42256   3319        27              10          30   \n",
       "6        PT48M   30892   2671       142              24          30   \n",
       "7    PT3H11M7S  139692   9899       107              54          25   \n",
       "8   PT1H43M50S   27576   2371        32              31          23   \n",
       "9   PT1H22M55S  130406  12589        72             122          21   \n",
       "10  PT2H26M55S   60211   4643        84              19          18   \n",
       "11  PT1H17M30S   24184   1901        13              32          18   \n",
       "12   PT2H5M45S   40775   3634        23              24          11   \n",
       "13   PT1H54M5S   57957   3857        26              18           2   \n",
       "14  PT1H57M40S   61997   4426        26              39          31   \n",
       "15  PT1H48M40S   58015   4613        25              49          30   \n",
       "16  PT2H31M55S   34090   2996         8              19          26   \n",
       "17  PT2H11M40S   29209   2785        21              12          26   \n",
       "18  PT2H57M45S   47659   4403        24              23           6   \n",
       "19     PT1H50M    6260    803         9               3           5   \n",
       "20     PT1H55M   14372   1251         8              23           1   \n",
       "21    PT35M31S    6229    566         5               4          25   \n",
       "22  PT1H23M31S    9562   1155        10               6          25   \n",
       "23  PT2H13M55S   72587   4721        85              40          22   \n",
       "24  PT1H41M45S   11885   1176        14               8          21   \n",
       "25   PT1H39M6S   22912   1651        13               5          16   \n",
       "26  PT2H48M36S   36297   2767        25              23          15   \n",
       "27   PT2H9M20S   24883   1986        25              16          11   \n",
       "28  PT2H41M56S   60699   4416        34              17           8   \n",
       "29  PT1H27M36S   25105   1866        11              16           6   \n",
       "30  PT1H33M31S   96002   8160       331             135           5   \n",
       "31   PT2H39M6S   38607   3212        20              19           5   \n",
       "32  PT2H24M18S   82739   5030        54              41           3   \n",
       "33  PT2H10M16S   21908   2152        13               7           1   \n",
       "34    PT10M47S   25821   2511        14              60          28   \n",
       "35     PT45M4S   65395   5750       826              17          21   \n",
       "36  PT1H53M46S  150228  11192       128             422          22   \n",
       "37  PT1H16M36S   33525   2117        22              18          21   \n",
       "38  PT1H50M51S   40618   2804        29               8          20   \n",
       "39  PT3H19M29S   51775   2908        31              18          17   \n",
       "40   PT3H7M36S   68525   3370        27              43          16   \n",
       "41  PT3H20M36S   42201   2196        25              34          16   \n",
       "42   PT1H26M6S   36224   2511        12              43          15   \n",
       "43    PT49M36S   44348   3364        24              59          15   \n",
       "44  PT2H49M46S   52419   2937        65              20          14   \n",
       "45   PT2H2M50S   24338   2129        22              26          13   \n",
       "46  PT2H40M51S   32784   2594        30              25          10   \n",
       "47  PT3H34M34S   49039   3958        41              35           4   \n",
       "48  PT2H47M41S   31325   3679        37              84           1   \n",
       "\n",
       "   upload_month upload_year upload_hour upload_minute upload_second  \\\n",
       "0             1        2021           5            54            16   \n",
       "1             1        2021          12            12            46   \n",
       "2             1        2021          13            43            37   \n",
       "3             1        2021          10            51            57   \n",
       "4            12        2020          17            10            38   \n",
       "5            11        2020          18             3            10   \n",
       "6            11        2020          11            39            11   \n",
       "7            11        2020          15             6             3   \n",
       "8            11        2020          10            59            28   \n",
       "9            11        2020          16            12             9   \n",
       "10           11        2020          13            24             6   \n",
       "11           11        2020          10            21            24   \n",
       "12           11        2020          16            17            22   \n",
       "13           11        2020           6            56            39   \n",
       "14           10        2020           8             7            44   \n",
       "15           10        2020          12            39            53   \n",
       "16           10        2020          17            24            41   \n",
       "17           10        2020           9            10            57   \n",
       "18           10        2020           4            48            29   \n",
       "19           10        2020          14            55            21   \n",
       "20           10        2020          13             3            48   \n",
       "21            9        2020          13            30            31   \n",
       "22            9        2020          11            41            21   \n",
       "23            9        2020           5             2            40   \n",
       "24            9        2020           9            57             2   \n",
       "25            9        2020          13            33            11   \n",
       "26            9        2020           7            52             0   \n",
       "27            9        2020           9            35            31   \n",
       "28            9        2020           6            33            17   \n",
       "29            9        2020           2            22            16   \n",
       "30            9        2020          14            11            25   \n",
       "31            9        2020           8            40             0   \n",
       "32            9        2020           6            50             9   \n",
       "33            9        2020          12            28            48   \n",
       "34            8        2020           5            14             3   \n",
       "35            8        2020           6            23            42   \n",
       "36            8        2020           8            57            47   \n",
       "37            8        2020          12            57            18   \n",
       "38            8        2020          16             5            55   \n",
       "39            8        2020          18            12            12   \n",
       "40            8        2020          18            15            18   \n",
       "41            8        2020           3            46            12   \n",
       "42            8        2020          12            51            43   \n",
       "43            8        2020           8            59            44   \n",
       "44            8        2020           3            26            48   \n",
       "45            8        2020          13            35            15   \n",
       "46            8        2020          10             0            30   \n",
       "47            8        2020           8            12            35   \n",
       "48            8        2020          12            35            51   \n",
       "\n",
       "       vid_dur  likes_percent  dislikes_percent  \n",
       "0   118.750000       0.993434          0.006566  \n",
       "1   147.166667       0.993099          0.006901  \n",
       "2   172.900000       0.992812          0.007188  \n",
       "3    83.500000       0.992891          0.007109  \n",
       "4   156.750000       0.988320          0.011680  \n",
       "5   133.166667       0.991931          0.008069  \n",
       "6    48.000000       0.949520          0.050480  \n",
       "7   191.116667       0.989306          0.010694  \n",
       "8   103.833333       0.986683          0.013317  \n",
       "9    82.916667       0.994313          0.005687  \n",
       "10  146.916667       0.982230          0.017770  \n",
       "11   77.500000       0.993208          0.006792  \n",
       "12  125.750000       0.993711          0.006289  \n",
       "13  114.083333       0.993304          0.006696  \n",
       "14  117.666667       0.994160          0.005840  \n",
       "15  108.666667       0.994610          0.005390  \n",
       "16  151.916667       0.997337          0.002663  \n",
       "17  131.666667       0.992516          0.007484  \n",
       "18  177.750000       0.994579          0.005421  \n",
       "19  110.000000       0.988916          0.011084  \n",
       "20  115.000000       0.993646          0.006354  \n",
       "21   35.516667       0.991243          0.008757  \n",
       "22   83.516667       0.991416          0.008584  \n",
       "23  133.916667       0.982314          0.017686  \n",
       "24  101.750000       0.988235          0.011765  \n",
       "25   99.100000       0.992188          0.007812  \n",
       "26  168.600000       0.991046          0.008954  \n",
       "27  129.333333       0.987568          0.012432  \n",
       "28  161.933333       0.992360          0.007640  \n",
       "29   87.600000       0.994140          0.005860  \n",
       "30   93.516667       0.961018          0.038982  \n",
       "31  159.100000       0.993812          0.006188  \n",
       "32  144.300000       0.989378          0.010622  \n",
       "33  130.266667       0.993995          0.006005  \n",
       "34   10.783333       0.994455          0.005545  \n",
       "35   45.066667       0.874392          0.125608  \n",
       "36  113.766667       0.988693          0.011307  \n",
       "37   76.600000       0.989715          0.010285  \n",
       "38  110.850000       0.989764          0.010236  \n",
       "39  199.483333       0.989452          0.010548  \n",
       "40  187.600000       0.992052          0.007948  \n",
       "41  200.600000       0.988744          0.011256  \n",
       "42   86.100000       0.995244          0.004756  \n",
       "43   49.600000       0.992916          0.007084  \n",
       "44  169.766667       0.978348          0.021652  \n",
       "45  122.833333       0.989772          0.010228  \n",
       "46  160.850000       0.988567          0.011433  \n",
       "47  214.566667       0.989747          0.010253  \n",
       "48  167.683333       0.990043          0.009957  "
      ]
     },
     "execution_count": 92,
     "metadata": {},
     "output_type": "execute_result"
    }
   ],
   "source": [
    "df"
   ]
  },
  {
   "cell_type": "code",
   "execution_count": 116,
   "metadata": {},
   "outputs": [],
   "source": [
    "yearwise = df.groupby('upload_year').count()['vid_id']"
   ]
  },
  {
   "cell_type": "code",
   "execution_count": 120,
   "metadata": {},
   "outputs": [
    {
     "data": {
      "application/vnd.plotly.v1+json": {
       "config": {
        "plotlyServerURL": "https://plot.ly"
       },
       "data": [
        {
         "hovertemplate": "Year=%{x}<br>Total Videos=%{y}<extra></extra>",
         "legendgroup": "",
         "line": {
          "color": "#636efa",
          "dash": "solid"
         },
         "mode": "lines",
         "name": "",
         "orientation": "v",
         "showlegend": false,
         "type": "scatter",
         "x": [
          2020,
          2021
         ],
         "xaxis": "x",
         "y": [
          45,
          4
         ],
         "yaxis": "y"
        }
       ],
       "layout": {
        "legend": {
         "tracegroupgap": 0
        },
        "margin": {
         "t": 60
        },
        "template": {
         "data": {
          "bar": [
           {
            "error_x": {
             "color": "#2a3f5f"
            },
            "error_y": {
             "color": "#2a3f5f"
            },
            "marker": {
             "line": {
              "color": "#E5ECF6",
              "width": 0.5
             }
            },
            "type": "bar"
           }
          ],
          "barpolar": [
           {
            "marker": {
             "line": {
              "color": "#E5ECF6",
              "width": 0.5
             }
            },
            "type": "barpolar"
           }
          ],
          "carpet": [
           {
            "aaxis": {
             "endlinecolor": "#2a3f5f",
             "gridcolor": "white",
             "linecolor": "white",
             "minorgridcolor": "white",
             "startlinecolor": "#2a3f5f"
            },
            "baxis": {
             "endlinecolor": "#2a3f5f",
             "gridcolor": "white",
             "linecolor": "white",
             "minorgridcolor": "white",
             "startlinecolor": "#2a3f5f"
            },
            "type": "carpet"
           }
          ],
          "choropleth": [
           {
            "colorbar": {
             "outlinewidth": 0,
             "ticks": ""
            },
            "type": "choropleth"
           }
          ],
          "contour": [
           {
            "colorbar": {
             "outlinewidth": 0,
             "ticks": ""
            },
            "colorscale": [
             [
              0,
              "#0d0887"
             ],
             [
              0.1111111111111111,
              "#46039f"
             ],
             [
              0.2222222222222222,
              "#7201a8"
             ],
             [
              0.3333333333333333,
              "#9c179e"
             ],
             [
              0.4444444444444444,
              "#bd3786"
             ],
             [
              0.5555555555555556,
              "#d8576b"
             ],
             [
              0.6666666666666666,
              "#ed7953"
             ],
             [
              0.7777777777777778,
              "#fb9f3a"
             ],
             [
              0.8888888888888888,
              "#fdca26"
             ],
             [
              1,
              "#f0f921"
             ]
            ],
            "type": "contour"
           }
          ],
          "contourcarpet": [
           {
            "colorbar": {
             "outlinewidth": 0,
             "ticks": ""
            },
            "type": "contourcarpet"
           }
          ],
          "heatmap": [
           {
            "colorbar": {
             "outlinewidth": 0,
             "ticks": ""
            },
            "colorscale": [
             [
              0,
              "#0d0887"
             ],
             [
              0.1111111111111111,
              "#46039f"
             ],
             [
              0.2222222222222222,
              "#7201a8"
             ],
             [
              0.3333333333333333,
              "#9c179e"
             ],
             [
              0.4444444444444444,
              "#bd3786"
             ],
             [
              0.5555555555555556,
              "#d8576b"
             ],
             [
              0.6666666666666666,
              "#ed7953"
             ],
             [
              0.7777777777777778,
              "#fb9f3a"
             ],
             [
              0.8888888888888888,
              "#fdca26"
             ],
             [
              1,
              "#f0f921"
             ]
            ],
            "type": "heatmap"
           }
          ],
          "heatmapgl": [
           {
            "colorbar": {
             "outlinewidth": 0,
             "ticks": ""
            },
            "colorscale": [
             [
              0,
              "#0d0887"
             ],
             [
              0.1111111111111111,
              "#46039f"
             ],
             [
              0.2222222222222222,
              "#7201a8"
             ],
             [
              0.3333333333333333,
              "#9c179e"
             ],
             [
              0.4444444444444444,
              "#bd3786"
             ],
             [
              0.5555555555555556,
              "#d8576b"
             ],
             [
              0.6666666666666666,
              "#ed7953"
             ],
             [
              0.7777777777777778,
              "#fb9f3a"
             ],
             [
              0.8888888888888888,
              "#fdca26"
             ],
             [
              1,
              "#f0f921"
             ]
            ],
            "type": "heatmapgl"
           }
          ],
          "histogram": [
           {
            "marker": {
             "colorbar": {
              "outlinewidth": 0,
              "ticks": ""
             }
            },
            "type": "histogram"
           }
          ],
          "histogram2d": [
           {
            "colorbar": {
             "outlinewidth": 0,
             "ticks": ""
            },
            "colorscale": [
             [
              0,
              "#0d0887"
             ],
             [
              0.1111111111111111,
              "#46039f"
             ],
             [
              0.2222222222222222,
              "#7201a8"
             ],
             [
              0.3333333333333333,
              "#9c179e"
             ],
             [
              0.4444444444444444,
              "#bd3786"
             ],
             [
              0.5555555555555556,
              "#d8576b"
             ],
             [
              0.6666666666666666,
              "#ed7953"
             ],
             [
              0.7777777777777778,
              "#fb9f3a"
             ],
             [
              0.8888888888888888,
              "#fdca26"
             ],
             [
              1,
              "#f0f921"
             ]
            ],
            "type": "histogram2d"
           }
          ],
          "histogram2dcontour": [
           {
            "colorbar": {
             "outlinewidth": 0,
             "ticks": ""
            },
            "colorscale": [
             [
              0,
              "#0d0887"
             ],
             [
              0.1111111111111111,
              "#46039f"
             ],
             [
              0.2222222222222222,
              "#7201a8"
             ],
             [
              0.3333333333333333,
              "#9c179e"
             ],
             [
              0.4444444444444444,
              "#bd3786"
             ],
             [
              0.5555555555555556,
              "#d8576b"
             ],
             [
              0.6666666666666666,
              "#ed7953"
             ],
             [
              0.7777777777777778,
              "#fb9f3a"
             ],
             [
              0.8888888888888888,
              "#fdca26"
             ],
             [
              1,
              "#f0f921"
             ]
            ],
            "type": "histogram2dcontour"
           }
          ],
          "mesh3d": [
           {
            "colorbar": {
             "outlinewidth": 0,
             "ticks": ""
            },
            "type": "mesh3d"
           }
          ],
          "parcoords": [
           {
            "line": {
             "colorbar": {
              "outlinewidth": 0,
              "ticks": ""
             }
            },
            "type": "parcoords"
           }
          ],
          "pie": [
           {
            "automargin": true,
            "type": "pie"
           }
          ],
          "scatter": [
           {
            "marker": {
             "colorbar": {
              "outlinewidth": 0,
              "ticks": ""
             }
            },
            "type": "scatter"
           }
          ],
          "scatter3d": [
           {
            "line": {
             "colorbar": {
              "outlinewidth": 0,
              "ticks": ""
             }
            },
            "marker": {
             "colorbar": {
              "outlinewidth": 0,
              "ticks": ""
             }
            },
            "type": "scatter3d"
           }
          ],
          "scattercarpet": [
           {
            "marker": {
             "colorbar": {
              "outlinewidth": 0,
              "ticks": ""
             }
            },
            "type": "scattercarpet"
           }
          ],
          "scattergeo": [
           {
            "marker": {
             "colorbar": {
              "outlinewidth": 0,
              "ticks": ""
             }
            },
            "type": "scattergeo"
           }
          ],
          "scattergl": [
           {
            "marker": {
             "colorbar": {
              "outlinewidth": 0,
              "ticks": ""
             }
            },
            "type": "scattergl"
           }
          ],
          "scattermapbox": [
           {
            "marker": {
             "colorbar": {
              "outlinewidth": 0,
              "ticks": ""
             }
            },
            "type": "scattermapbox"
           }
          ],
          "scatterpolar": [
           {
            "marker": {
             "colorbar": {
              "outlinewidth": 0,
              "ticks": ""
             }
            },
            "type": "scatterpolar"
           }
          ],
          "scatterpolargl": [
           {
            "marker": {
             "colorbar": {
              "outlinewidth": 0,
              "ticks": ""
             }
            },
            "type": "scatterpolargl"
           }
          ],
          "scatterternary": [
           {
            "marker": {
             "colorbar": {
              "outlinewidth": 0,
              "ticks": ""
             }
            },
            "type": "scatterternary"
           }
          ],
          "surface": [
           {
            "colorbar": {
             "outlinewidth": 0,
             "ticks": ""
            },
            "colorscale": [
             [
              0,
              "#0d0887"
             ],
             [
              0.1111111111111111,
              "#46039f"
             ],
             [
              0.2222222222222222,
              "#7201a8"
             ],
             [
              0.3333333333333333,
              "#9c179e"
             ],
             [
              0.4444444444444444,
              "#bd3786"
             ],
             [
              0.5555555555555556,
              "#d8576b"
             ],
             [
              0.6666666666666666,
              "#ed7953"
             ],
             [
              0.7777777777777778,
              "#fb9f3a"
             ],
             [
              0.8888888888888888,
              "#fdca26"
             ],
             [
              1,
              "#f0f921"
             ]
            ],
            "type": "surface"
           }
          ],
          "table": [
           {
            "cells": {
             "fill": {
              "color": "#EBF0F8"
             },
             "line": {
              "color": "white"
             }
            },
            "header": {
             "fill": {
              "color": "#C8D4E3"
             },
             "line": {
              "color": "white"
             }
            },
            "type": "table"
           }
          ]
         },
         "layout": {
          "annotationdefaults": {
           "arrowcolor": "#2a3f5f",
           "arrowhead": 0,
           "arrowwidth": 1
          },
          "autotypenumbers": "strict",
          "coloraxis": {
           "colorbar": {
            "outlinewidth": 0,
            "ticks": ""
           }
          },
          "colorscale": {
           "diverging": [
            [
             0,
             "#8e0152"
            ],
            [
             0.1,
             "#c51b7d"
            ],
            [
             0.2,
             "#de77ae"
            ],
            [
             0.3,
             "#f1b6da"
            ],
            [
             0.4,
             "#fde0ef"
            ],
            [
             0.5,
             "#f7f7f7"
            ],
            [
             0.6,
             "#e6f5d0"
            ],
            [
             0.7,
             "#b8e186"
            ],
            [
             0.8,
             "#7fbc41"
            ],
            [
             0.9,
             "#4d9221"
            ],
            [
             1,
             "#276419"
            ]
           ],
           "sequential": [
            [
             0,
             "#0d0887"
            ],
            [
             0.1111111111111111,
             "#46039f"
            ],
            [
             0.2222222222222222,
             "#7201a8"
            ],
            [
             0.3333333333333333,
             "#9c179e"
            ],
            [
             0.4444444444444444,
             "#bd3786"
            ],
            [
             0.5555555555555556,
             "#d8576b"
            ],
            [
             0.6666666666666666,
             "#ed7953"
            ],
            [
             0.7777777777777778,
             "#fb9f3a"
            ],
            [
             0.8888888888888888,
             "#fdca26"
            ],
            [
             1,
             "#f0f921"
            ]
           ],
           "sequentialminus": [
            [
             0,
             "#0d0887"
            ],
            [
             0.1111111111111111,
             "#46039f"
            ],
            [
             0.2222222222222222,
             "#7201a8"
            ],
            [
             0.3333333333333333,
             "#9c179e"
            ],
            [
             0.4444444444444444,
             "#bd3786"
            ],
            [
             0.5555555555555556,
             "#d8576b"
            ],
            [
             0.6666666666666666,
             "#ed7953"
            ],
            [
             0.7777777777777778,
             "#fb9f3a"
            ],
            [
             0.8888888888888888,
             "#fdca26"
            ],
            [
             1,
             "#f0f921"
            ]
           ]
          },
          "colorway": [
           "#636efa",
           "#EF553B",
           "#00cc96",
           "#ab63fa",
           "#FFA15A",
           "#19d3f3",
           "#FF6692",
           "#B6E880",
           "#FF97FF",
           "#FECB52"
          ],
          "font": {
           "color": "#2a3f5f"
          },
          "geo": {
           "bgcolor": "white",
           "lakecolor": "white",
           "landcolor": "#E5ECF6",
           "showlakes": true,
           "showland": true,
           "subunitcolor": "white"
          },
          "hoverlabel": {
           "align": "left"
          },
          "hovermode": "closest",
          "mapbox": {
           "style": "light"
          },
          "paper_bgcolor": "white",
          "plot_bgcolor": "#E5ECF6",
          "polar": {
           "angularaxis": {
            "gridcolor": "white",
            "linecolor": "white",
            "ticks": ""
           },
           "bgcolor": "#E5ECF6",
           "radialaxis": {
            "gridcolor": "white",
            "linecolor": "white",
            "ticks": ""
           }
          },
          "scene": {
           "xaxis": {
            "backgroundcolor": "#E5ECF6",
            "gridcolor": "white",
            "gridwidth": 2,
            "linecolor": "white",
            "showbackground": true,
            "ticks": "",
            "zerolinecolor": "white"
           },
           "yaxis": {
            "backgroundcolor": "#E5ECF6",
            "gridcolor": "white",
            "gridwidth": 2,
            "linecolor": "white",
            "showbackground": true,
            "ticks": "",
            "zerolinecolor": "white"
           },
           "zaxis": {
            "backgroundcolor": "#E5ECF6",
            "gridcolor": "white",
            "gridwidth": 2,
            "linecolor": "white",
            "showbackground": true,
            "ticks": "",
            "zerolinecolor": "white"
           }
          },
          "shapedefaults": {
           "line": {
            "color": "#2a3f5f"
           }
          },
          "ternary": {
           "aaxis": {
            "gridcolor": "white",
            "linecolor": "white",
            "ticks": ""
           },
           "baxis": {
            "gridcolor": "white",
            "linecolor": "white",
            "ticks": ""
           },
           "bgcolor": "#E5ECF6",
           "caxis": {
            "gridcolor": "white",
            "linecolor": "white",
            "ticks": ""
           }
          },
          "title": {
           "x": 0.05
          },
          "xaxis": {
           "automargin": true,
           "gridcolor": "white",
           "linecolor": "white",
           "ticks": "",
           "title": {
            "standoff": 15
           },
           "zerolinecolor": "white",
           "zerolinewidth": 2
          },
          "yaxis": {
           "automargin": true,
           "gridcolor": "white",
           "linecolor": "white",
           "ticks": "",
           "title": {
            "standoff": 15
           },
           "zerolinecolor": "white",
           "zerolinewidth": 2
          }
         }
        },
        "xaxis": {
         "anchor": "y",
         "domain": [
          0,
          1
         ],
         "dtick": 1,
         "title": {
          "text": "Year"
         }
        },
        "yaxis": {
         "anchor": "x",
         "domain": [
          0,
          1
         ],
         "title": {
          "text": "Total Videos"
         }
        }
       }
      },
      "text/html": [
       "<div>                            <div id=\"4af8b335-8826-4d01-8b15-256a1cb913c5\" class=\"plotly-graph-div\" style=\"height:525px; width:100%;\"></div>            <script type=\"text/javascript\">                require([\"plotly\"], function(Plotly) {                    window.PLOTLYENV=window.PLOTLYENV || {};                                    if (document.getElementById(\"4af8b335-8826-4d01-8b15-256a1cb913c5\")) {                    Plotly.newPlot(                        \"4af8b335-8826-4d01-8b15-256a1cb913c5\",                        [{\"hovertemplate\": \"Year=%{x}<br>Total Videos=%{y}<extra></extra>\", \"legendgroup\": \"\", \"line\": {\"color\": \"#636efa\", \"dash\": \"solid\"}, \"mode\": \"lines\", \"name\": \"\", \"orientation\": \"v\", \"showlegend\": false, \"type\": \"scatter\", \"x\": [2020, 2021], \"xaxis\": \"x\", \"y\": [45, 4], \"yaxis\": \"y\"}],                        {\"legend\": {\"tracegroupgap\": 0}, \"margin\": {\"t\": 60}, \"template\": {\"data\": {\"bar\": [{\"error_x\": {\"color\": \"#2a3f5f\"}, \"error_y\": {\"color\": \"#2a3f5f\"}, \"marker\": {\"line\": {\"color\": \"#E5ECF6\", \"width\": 0.5}}, \"type\": \"bar\"}], \"barpolar\": [{\"marker\": {\"line\": {\"color\": \"#E5ECF6\", \"width\": 0.5}}, \"type\": \"barpolar\"}], \"carpet\": [{\"aaxis\": {\"endlinecolor\": \"#2a3f5f\", \"gridcolor\": \"white\", \"linecolor\": \"white\", \"minorgridcolor\": \"white\", \"startlinecolor\": \"#2a3f5f\"}, \"baxis\": {\"endlinecolor\": \"#2a3f5f\", \"gridcolor\": \"white\", \"linecolor\": \"white\", \"minorgridcolor\": \"white\", \"startlinecolor\": \"#2a3f5f\"}, \"type\": \"carpet\"}], \"choropleth\": [{\"colorbar\": {\"outlinewidth\": 0, \"ticks\": \"\"}, \"type\": \"choropleth\"}], \"contour\": [{\"colorbar\": {\"outlinewidth\": 0, \"ticks\": \"\"}, \"colorscale\": [[0.0, \"#0d0887\"], [0.1111111111111111, \"#46039f\"], [0.2222222222222222, \"#7201a8\"], [0.3333333333333333, \"#9c179e\"], [0.4444444444444444, \"#bd3786\"], [0.5555555555555556, \"#d8576b\"], [0.6666666666666666, \"#ed7953\"], [0.7777777777777778, \"#fb9f3a\"], [0.8888888888888888, \"#fdca26\"], [1.0, \"#f0f921\"]], \"type\": \"contour\"}], \"contourcarpet\": [{\"colorbar\": {\"outlinewidth\": 0, \"ticks\": \"\"}, \"type\": \"contourcarpet\"}], \"heatmap\": [{\"colorbar\": {\"outlinewidth\": 0, \"ticks\": \"\"}, \"colorscale\": [[0.0, \"#0d0887\"], [0.1111111111111111, \"#46039f\"], [0.2222222222222222, \"#7201a8\"], [0.3333333333333333, \"#9c179e\"], [0.4444444444444444, \"#bd3786\"], [0.5555555555555556, \"#d8576b\"], [0.6666666666666666, \"#ed7953\"], [0.7777777777777778, \"#fb9f3a\"], [0.8888888888888888, \"#fdca26\"], [1.0, \"#f0f921\"]], \"type\": \"heatmap\"}], \"heatmapgl\": [{\"colorbar\": {\"outlinewidth\": 0, \"ticks\": \"\"}, \"colorscale\": [[0.0, \"#0d0887\"], [0.1111111111111111, \"#46039f\"], [0.2222222222222222, \"#7201a8\"], [0.3333333333333333, \"#9c179e\"], [0.4444444444444444, \"#bd3786\"], [0.5555555555555556, \"#d8576b\"], [0.6666666666666666, \"#ed7953\"], [0.7777777777777778, \"#fb9f3a\"], [0.8888888888888888, \"#fdca26\"], [1.0, \"#f0f921\"]], \"type\": \"heatmapgl\"}], \"histogram\": [{\"marker\": {\"colorbar\": {\"outlinewidth\": 0, \"ticks\": \"\"}}, \"type\": \"histogram\"}], \"histogram2d\": [{\"colorbar\": {\"outlinewidth\": 0, \"ticks\": \"\"}, \"colorscale\": [[0.0, \"#0d0887\"], [0.1111111111111111, \"#46039f\"], [0.2222222222222222, \"#7201a8\"], [0.3333333333333333, \"#9c179e\"], [0.4444444444444444, \"#bd3786\"], [0.5555555555555556, \"#d8576b\"], [0.6666666666666666, \"#ed7953\"], [0.7777777777777778, \"#fb9f3a\"], [0.8888888888888888, \"#fdca26\"], [1.0, \"#f0f921\"]], \"type\": \"histogram2d\"}], \"histogram2dcontour\": [{\"colorbar\": {\"outlinewidth\": 0, \"ticks\": \"\"}, \"colorscale\": [[0.0, \"#0d0887\"], [0.1111111111111111, \"#46039f\"], [0.2222222222222222, \"#7201a8\"], [0.3333333333333333, \"#9c179e\"], [0.4444444444444444, \"#bd3786\"], [0.5555555555555556, \"#d8576b\"], [0.6666666666666666, \"#ed7953\"], [0.7777777777777778, \"#fb9f3a\"], [0.8888888888888888, \"#fdca26\"], [1.0, \"#f0f921\"]], \"type\": \"histogram2dcontour\"}], \"mesh3d\": [{\"colorbar\": {\"outlinewidth\": 0, \"ticks\": \"\"}, \"type\": \"mesh3d\"}], \"parcoords\": [{\"line\": {\"colorbar\": {\"outlinewidth\": 0, \"ticks\": \"\"}}, \"type\": \"parcoords\"}], \"pie\": [{\"automargin\": true, \"type\": \"pie\"}], \"scatter\": [{\"marker\": {\"colorbar\": {\"outlinewidth\": 0, \"ticks\": \"\"}}, \"type\": \"scatter\"}], \"scatter3d\": [{\"line\": {\"colorbar\": {\"outlinewidth\": 0, \"ticks\": \"\"}}, \"marker\": {\"colorbar\": {\"outlinewidth\": 0, \"ticks\": \"\"}}, \"type\": \"scatter3d\"}], \"scattercarpet\": [{\"marker\": {\"colorbar\": {\"outlinewidth\": 0, \"ticks\": \"\"}}, \"type\": \"scattercarpet\"}], \"scattergeo\": [{\"marker\": {\"colorbar\": {\"outlinewidth\": 0, \"ticks\": \"\"}}, \"type\": \"scattergeo\"}], \"scattergl\": [{\"marker\": {\"colorbar\": {\"outlinewidth\": 0, \"ticks\": \"\"}}, \"type\": \"scattergl\"}], \"scattermapbox\": [{\"marker\": {\"colorbar\": {\"outlinewidth\": 0, \"ticks\": \"\"}}, \"type\": \"scattermapbox\"}], \"scatterpolar\": [{\"marker\": {\"colorbar\": {\"outlinewidth\": 0, \"ticks\": \"\"}}, \"type\": \"scatterpolar\"}], \"scatterpolargl\": [{\"marker\": {\"colorbar\": {\"outlinewidth\": 0, \"ticks\": \"\"}}, \"type\": \"scatterpolargl\"}], \"scatterternary\": [{\"marker\": {\"colorbar\": {\"outlinewidth\": 0, \"ticks\": \"\"}}, \"type\": \"scatterternary\"}], \"surface\": [{\"colorbar\": {\"outlinewidth\": 0, \"ticks\": \"\"}, \"colorscale\": [[0.0, \"#0d0887\"], [0.1111111111111111, \"#46039f\"], [0.2222222222222222, \"#7201a8\"], [0.3333333333333333, \"#9c179e\"], [0.4444444444444444, \"#bd3786\"], [0.5555555555555556, \"#d8576b\"], [0.6666666666666666, \"#ed7953\"], [0.7777777777777778, \"#fb9f3a\"], [0.8888888888888888, \"#fdca26\"], [1.0, \"#f0f921\"]], \"type\": \"surface\"}], \"table\": [{\"cells\": {\"fill\": {\"color\": \"#EBF0F8\"}, \"line\": {\"color\": \"white\"}}, \"header\": {\"fill\": {\"color\": \"#C8D4E3\"}, \"line\": {\"color\": \"white\"}}, \"type\": \"table\"}]}, \"layout\": {\"annotationdefaults\": {\"arrowcolor\": \"#2a3f5f\", \"arrowhead\": 0, \"arrowwidth\": 1}, \"autotypenumbers\": \"strict\", \"coloraxis\": {\"colorbar\": {\"outlinewidth\": 0, \"ticks\": \"\"}}, \"colorscale\": {\"diverging\": [[0, \"#8e0152\"], [0.1, \"#c51b7d\"], [0.2, \"#de77ae\"], [0.3, \"#f1b6da\"], [0.4, \"#fde0ef\"], [0.5, \"#f7f7f7\"], [0.6, \"#e6f5d0\"], [0.7, \"#b8e186\"], [0.8, \"#7fbc41\"], [0.9, \"#4d9221\"], [1, \"#276419\"]], \"sequential\": [[0.0, \"#0d0887\"], [0.1111111111111111, \"#46039f\"], [0.2222222222222222, \"#7201a8\"], [0.3333333333333333, \"#9c179e\"], [0.4444444444444444, \"#bd3786\"], [0.5555555555555556, \"#d8576b\"], [0.6666666666666666, \"#ed7953\"], [0.7777777777777778, \"#fb9f3a\"], [0.8888888888888888, \"#fdca26\"], [1.0, \"#f0f921\"]], \"sequentialminus\": [[0.0, \"#0d0887\"], [0.1111111111111111, \"#46039f\"], [0.2222222222222222, \"#7201a8\"], [0.3333333333333333, \"#9c179e\"], [0.4444444444444444, \"#bd3786\"], [0.5555555555555556, \"#d8576b\"], [0.6666666666666666, \"#ed7953\"], [0.7777777777777778, \"#fb9f3a\"], [0.8888888888888888, \"#fdca26\"], [1.0, \"#f0f921\"]]}, \"colorway\": [\"#636efa\", \"#EF553B\", \"#00cc96\", \"#ab63fa\", \"#FFA15A\", \"#19d3f3\", \"#FF6692\", \"#B6E880\", \"#FF97FF\", \"#FECB52\"], \"font\": {\"color\": \"#2a3f5f\"}, \"geo\": {\"bgcolor\": \"white\", \"lakecolor\": \"white\", \"landcolor\": \"#E5ECF6\", \"showlakes\": true, \"showland\": true, \"subunitcolor\": \"white\"}, \"hoverlabel\": {\"align\": \"left\"}, \"hovermode\": \"closest\", \"mapbox\": {\"style\": \"light\"}, \"paper_bgcolor\": \"white\", \"plot_bgcolor\": \"#E5ECF6\", \"polar\": {\"angularaxis\": {\"gridcolor\": \"white\", \"linecolor\": \"white\", \"ticks\": \"\"}, \"bgcolor\": \"#E5ECF6\", \"radialaxis\": {\"gridcolor\": \"white\", \"linecolor\": \"white\", \"ticks\": \"\"}}, \"scene\": {\"xaxis\": {\"backgroundcolor\": \"#E5ECF6\", \"gridcolor\": \"white\", \"gridwidth\": 2, \"linecolor\": \"white\", \"showbackground\": true, \"ticks\": \"\", \"zerolinecolor\": \"white\"}, \"yaxis\": {\"backgroundcolor\": \"#E5ECF6\", \"gridcolor\": \"white\", \"gridwidth\": 2, \"linecolor\": \"white\", \"showbackground\": true, \"ticks\": \"\", \"zerolinecolor\": \"white\"}, \"zaxis\": {\"backgroundcolor\": \"#E5ECF6\", \"gridcolor\": \"white\", \"gridwidth\": 2, \"linecolor\": \"white\", \"showbackground\": true, \"ticks\": \"\", \"zerolinecolor\": \"white\"}}, \"shapedefaults\": {\"line\": {\"color\": \"#2a3f5f\"}}, \"ternary\": {\"aaxis\": {\"gridcolor\": \"white\", \"linecolor\": \"white\", \"ticks\": \"\"}, \"baxis\": {\"gridcolor\": \"white\", \"linecolor\": \"white\", \"ticks\": \"\"}, \"bgcolor\": \"#E5ECF6\", \"caxis\": {\"gridcolor\": \"white\", \"linecolor\": \"white\", \"ticks\": \"\"}}, \"title\": {\"x\": 0.05}, \"xaxis\": {\"automargin\": true, \"gridcolor\": \"white\", \"linecolor\": \"white\", \"ticks\": \"\", \"title\": {\"standoff\": 15}, \"zerolinecolor\": \"white\", \"zerolinewidth\": 2}, \"yaxis\": {\"automargin\": true, \"gridcolor\": \"white\", \"linecolor\": \"white\", \"ticks\": \"\", \"title\": {\"standoff\": 15}, \"zerolinecolor\": \"white\", \"zerolinewidth\": 2}}}, \"xaxis\": {\"anchor\": \"y\", \"domain\": [0.0, 1.0], \"dtick\": 1, \"title\": {\"text\": \"Year\"}}, \"yaxis\": {\"anchor\": \"x\", \"domain\": [0.0, 1.0], \"title\": {\"text\": \"Total Videos\"}}},                        {\"responsive\": true}                    ).then(function(){\n",
       "                            \n",
       "var gd = document.getElementById('4af8b335-8826-4d01-8b15-256a1cb913c5');\n",
       "var x = new MutationObserver(function (mutations, observer) {{\n",
       "        var display = window.getComputedStyle(gd).display;\n",
       "        if (!display || display === 'none') {{\n",
       "            console.log([gd, 'removed!']);\n",
       "            Plotly.purge(gd);\n",
       "            observer.disconnect();\n",
       "        }}\n",
       "}});\n",
       "\n",
       "// Listen for the removal of the full notebook cells\n",
       "var notebookContainer = gd.closest('#notebook-container');\n",
       "if (notebookContainer) {{\n",
       "    x.observe(notebookContainer, {childList: true});\n",
       "}}\n",
       "\n",
       "// Listen for the clearing of the current output cell\n",
       "var outputEl = gd.closest('.output');\n",
       "if (outputEl) {{\n",
       "    x.observe(outputEl, {childList: true});\n",
       "}}\n",
       "\n",
       "                        })                };                });            </script>        </div>"
      ]
     },
     "metadata": {},
     "output_type": "display_data"
    }
   ],
   "source": [
    "fig = px.line(\n",
    "    data_frame=yearwise,\n",
    "    y='vid_id',\n",
    "    labels=LABELS\n",
    ")\n",
    "\n",
    "fig.update_layout(\n",
    "    xaxis = dict(\n",
    "        dtick = 1\n",
    "    )\n",
    ")\n",
    "\n",
    "fig.show()"
   ]
  },
  {
   "cell_type": "code",
   "execution_count": null,
   "metadata": {},
   "outputs": [],
   "source": []
  },
  {
   "cell_type": "code",
   "execution_count": null,
   "metadata": {},
   "outputs": [],
   "source": []
  }
 ],
 "metadata": {
  "kernelspec": {
   "display_name": "YoutubeChannels",
   "language": "python",
   "name": "env"
  },
  "language_info": {
   "codemirror_mode": {
    "name": "ipython",
    "version": 3
   },
   "file_extension": ".py",
   "mimetype": "text/x-python",
   "name": "python",
   "nbconvert_exporter": "python",
   "pygments_lexer": "ipython3",
   "version": "3.8.4rc1"
  }
 },
 "nbformat": 4,
 "nbformat_minor": 4
}
