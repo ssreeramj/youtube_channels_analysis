{
 "cells": [
  {
   "cell_type": "code",
   "execution_count": 4,
   "metadata": {},
   "outputs": [],
   "source": [
    "import os\n",
    "import sys\n",
    "import json\n",
    "\n",
    "import pandas as pd\n",
    "import numpy as np\n",
    "\n",
    "from dotenv import load_dotenv\n",
    "from googleapiclient.discovery import build"
   ]
  },
  {
   "cell_type": "code",
   "execution_count": 5,
   "metadata": {},
   "outputs": [],
   "source": [
    "load_dotenv()\n",
    "\n",
    "API_KEY = os.environ['YOUTUBE_API_KEY']\n",
    "youtube = build('youtube', 'v3', developerKey=API_KEY)\n",
    "# api = Api(api_key=API_KEY) "
   ]
  },
  {
   "cell_type": "code",
   "execution_count": 40,
   "metadata": {},
   "outputs": [],
   "source": [
    "request = youtube.channels().list(\n",
    "        part=\"snippet,statistics,contentDetails\",\n",
    "#         forUsername=\"Vsauce\",\n",
    "        id='UCAov2BBv1ZJav0c_yHEciAw',\n",
    "    )\n",
    "response = request.execute()\n",
    "# print(json.dumps(response, indent=2))\n",
    "# print(response['items'][0]['snippet']['thumbnails']['high']['url'])"
   ]
  },
  {
   "cell_type": "code",
   "execution_count": 41,
   "metadata": {},
   "outputs": [
    {
     "data": {
      "text/plain": [
       "'UUAov2BBv1ZJav0c_yHEciAw'"
      ]
     },
     "execution_count": 41,
     "metadata": {},
     "output_type": "execute_result"
    }
   ],
   "source": [
    "upload_id = response['items'][0]['contentDetails']['relatedPlaylists']['uploads']\n",
    "upload_id"
   ]
  },
  {
   "cell_type": "code",
   "execution_count": 42,
   "metadata": {},
   "outputs": [
    {
     "data": {
      "text/plain": [
       "{'kind': 'youtube#playlistItemListResponse',\n",
       " 'etag': 'sf9Jxo3SybQfqDvzAMoBzkEj5wM',\n",
       " 'nextPageToken': 'CDIQAA',\n",
       " 'items': [{'kind': 'youtube#playlistItem',\n",
       "   'etag': '5obn7eHugfMHbOSGLPts1fRKUo8',\n",
       "   'id': 'VVVBb3YyQkJ2MVpKYXYwY195SEVjaUF3LjhpZmpZeGtNaFVn',\n",
       "   'snippet': {'publishedAt': '2021-01-10T09:59:47Z',\n",
       "    'channelId': 'UCAov2BBv1ZJav0c_yHEciAw',\n",
       "    'title': 'BEST OF THE WEEK 11 | SAMAY RAINA',\n",
       "    'description': 'JOIN MY GRAPHY https://share.graphyapp.co/8K8w \\n\\nBECOME DIAMOND MEMBER HERE: https://go.chess.com/samay\\n\\nJOIN MY CLUB: https://www.chess.com/club/samay-raina-official\\n\\nJoin this channel to get access to perks:\\nhttps://www.youtube.com/channel/UCAov2BBv1ZJav0c_yHEciAw/join\\n\\nFollow me on instagram\\nhttps://www.instagram.com/maisamayhoon/\\n\\nJoin my discord:\\nhttps://discord.gg/maisamayhoon',\n",
       "    'thumbnails': {'default': {'url': 'https://i.ytimg.com/vi/8ifjYxkMhUg/default.jpg',\n",
       "      'width': 120,\n",
       "      'height': 90},\n",
       "     'medium': {'url': 'https://i.ytimg.com/vi/8ifjYxkMhUg/mqdefault.jpg',\n",
       "      'width': 320,\n",
       "      'height': 180},\n",
       "     'high': {'url': 'https://i.ytimg.com/vi/8ifjYxkMhUg/hqdefault.jpg',\n",
       "      'width': 480,\n",
       "      'height': 360},\n",
       "     'standard': {'url': 'https://i.ytimg.com/vi/8ifjYxkMhUg/sddefault.jpg',\n",
       "      'width': 640,\n",
       "      'height': 480},\n",
       "     'maxres': {'url': 'https://i.ytimg.com/vi/8ifjYxkMhUg/maxresdefault.jpg',\n",
       "      'width': 1280,\n",
       "      'height': 720}},\n",
       "    'channelTitle': 'Samay Raina',\n",
       "    'playlistId': 'UUAov2BBv1ZJav0c_yHEciAw',\n",
       "    'position': 0,\n",
       "    'resourceId': {'kind': 'youtube#video', 'videoId': '8ifjYxkMhUg'}}},\n",
       "  {'kind': 'youtube#playlistItem',\n",
       "   'etag': 'YrREOWfVSnVtgUTQRbwNF7Id-lE',\n",
       "   'id': 'VVVBb3YyQkJ2MVpKYXYwY195SEVjaUF3LlNQOGhkR1NOLTBr',\n",
       "   'snippet': {'publishedAt': '2021-01-04T01:11:08Z',\n",
       "    'channelId': 'UCAov2BBv1ZJav0c_yHEciAw',\n",
       "    'title': 'Coming Back to Life - Reaching 1500 ft. Sagar Exposed Shah',\n",
       "    'description': 'JOIN MY GRAPHY https://share.graphyapp.co/8K8w \\n\\nBECOME DIAMOND MEMBER HERE: https://go.chess.com/samay\\n\\nJOIN MY CLUB: https://www.chess.com/club/samay-raina-official\\n\\nJoin this channel to get access to perks:\\nhttps://www.youtube.com/channel/UCAov2BBv1ZJav0c_yHEciAw/join\\n\\nFollow me on instagram\\nhttps://www.instagram.com/maisamayhoon/\\n\\nJoin my discord:\\nhttps://discord.gg/maisamayhoon',\n",
       "    'thumbnails': {'default': {'url': 'https://i.ytimg.com/vi/SP8hdGSN-0k/default.jpg',\n",
       "      'width': 120,\n",
       "      'height': 90},\n",
       "     'medium': {'url': 'https://i.ytimg.com/vi/SP8hdGSN-0k/mqdefault.jpg',\n",
       "      'width': 320,\n",
       "      'height': 180},\n",
       "     'high': {'url': 'https://i.ytimg.com/vi/SP8hdGSN-0k/hqdefault.jpg',\n",
       "      'width': 480,\n",
       "      'height': 360},\n",
       "     'standard': {'url': 'https://i.ytimg.com/vi/SP8hdGSN-0k/sddefault.jpg',\n",
       "      'width': 640,\n",
       "      'height': 480},\n",
       "     'maxres': {'url': 'https://i.ytimg.com/vi/SP8hdGSN-0k/maxresdefault.jpg',\n",
       "      'width': 1280,\n",
       "      'height': 720}},\n",
       "    'channelTitle': 'Samay Raina',\n",
       "    'playlistId': 'UUAov2BBv1ZJav0c_yHEciAw',\n",
       "    'position': 1,\n",
       "    'resourceId': {'kind': 'youtube#video', 'videoId': 'SP8hdGSN-0k'}}},\n",
       "  {'kind': 'youtube#playlistItem',\n",
       "   'etag': 'h5ALPwG3wvdErtnW_7g0oYDhOCU',\n",
       "   'id': 'VVVBb3YyQkJ2MVpKYXYwY195SEVjaUF3LlR2cy16RU9ncjdj',\n",
       "   'snippet': {'publishedAt': '2020-12-29T03:53:41Z',\n",
       "    'channelId': 'UCAov2BBv1ZJav0c_yHEciAw',\n",
       "    'title': 'SAGAR SHAH EXPOSED - VLOG #3',\n",
       "    'description': 'JOIN MY GRAPHY https://share.graphyapp.co/8K8w \\n\\nBECOME DIAMOND MEMBER HERE: https://go.chess.com/samay\\n\\nJOIN MY CLUB: https://www.chess.com/club/samay-raina-official\\n\\nJoin this channel to get access to perks:\\nhttps://www.youtube.com/channel/UCAov2BBv1ZJav0c_yHEciAw/join\\n\\nFollow me on instagram\\nhttps://www.instagram.com/maisamayhoon/\\n\\nJoin my discord:\\nhttps://discord.gg/maisamayhoon',\n",
       "    'thumbnails': {'default': {'url': 'https://i.ytimg.com/vi/Tvs-zEOgr7c/default.jpg',\n",
       "      'width': 120,\n",
       "      'height': 90},\n",
       "     'medium': {'url': 'https://i.ytimg.com/vi/Tvs-zEOgr7c/mqdefault.jpg',\n",
       "      'width': 320,\n",
       "      'height': 180},\n",
       "     'high': {'url': 'https://i.ytimg.com/vi/Tvs-zEOgr7c/hqdefault.jpg',\n",
       "      'width': 480,\n",
       "      'height': 360},\n",
       "     'standard': {'url': 'https://i.ytimg.com/vi/Tvs-zEOgr7c/sddefault.jpg',\n",
       "      'width': 640,\n",
       "      'height': 480},\n",
       "     'maxres': {'url': 'https://i.ytimg.com/vi/Tvs-zEOgr7c/maxresdefault.jpg',\n",
       "      'width': 1280,\n",
       "      'height': 720}},\n",
       "    'channelTitle': 'Samay Raina',\n",
       "    'playlistId': 'UUAov2BBv1ZJav0c_yHEciAw',\n",
       "    'position': 2,\n",
       "    'resourceId': {'kind': 'youtube#video', 'videoId': 'Tvs-zEOgr7c'}}},\n",
       "  {'kind': 'youtube#playlistItem',\n",
       "   'etag': 'YJpRHHPY7SdGgnBNNc-TrHEVbGM',\n",
       "   'id': 'VVVBb3YyQkJ2MVpKYXYwY195SEVjaUF3LkdlM01ONi1KdU93',\n",
       "   'snippet': {'publishedAt': '2020-12-27T10:34:17Z',\n",
       "    'channelId': 'UCAov2BBv1ZJav0c_yHEciAw',\n",
       "    'title': 'ACCIDENTALLY GAVE 10,000 RS. SUPERCHAT TO @GamerFleet | BUDWEISER CONQUER 2020',\n",
       "    'description': 'Play at https://conquer2020.net/\\n\\nPrizes:\\nTop 3 - Dream Experiences \\nNext Top 7 - XBOX Series X \\nNext Top 15 - Budweiser Merchandise\\n\\nxxxxxxxxxxxxxxxxxxxxxxxxxxxxxxxxxxxxxxxxxxxxxxxxxxxxxxxxxxxxxxxxxxxx\\n\\nJOIN MY CLUB: https://www.chess.com/club/samay-raina-official\\n\\nJoin this channel to get access to perks:\\nhttps://www.youtube.com/channel/UCAov2BBv1ZJav0c_yHEciAw/join\\n\\nFollow me on instagram\\nhttps://www.instagram.com/maisamayhoon/\\n\\nJoin my discord:\\nhttps://discord.gg/maisamayhoon',\n",
       "    'thumbnails': {'default': {'url': 'https://i.ytimg.com/vi/Ge3MN6-JuOw/default.jpg',\n",
       "      'width': 120,\n",
       "      'height': 90},\n",
       "     'medium': {'url': 'https://i.ytimg.com/vi/Ge3MN6-JuOw/mqdefault.jpg',\n",
       "      'width': 320,\n",
       "      'height': 180},\n",
       "     'high': {'url': 'https://i.ytimg.com/vi/Ge3MN6-JuOw/hqdefault.jpg',\n",
       "      'width': 480,\n",
       "      'height': 360},\n",
       "     'standard': {'url': 'https://i.ytimg.com/vi/Ge3MN6-JuOw/sddefault.jpg',\n",
       "      'width': 640,\n",
       "      'height': 480},\n",
       "     'maxres': {'url': 'https://i.ytimg.com/vi/Ge3MN6-JuOw/maxresdefault.jpg',\n",
       "      'width': 1280,\n",
       "      'height': 720}},\n",
       "    'channelTitle': 'Samay Raina',\n",
       "    'playlistId': 'UUAov2BBv1ZJav0c_yHEciAw',\n",
       "    'position': 3,\n",
       "    'resourceId': {'kind': 'youtube#video', 'videoId': 'Ge3MN6-JuOw'}}},\n",
       "  {'kind': 'youtube#playlistItem',\n",
       "   'etag': 'PRpL1G_gxmGtatfPD0NwZfPWAfQ',\n",
       "   'id': 'VVVBb3YyQkJ2MVpKYXYwY195SEVjaUF3LlJfTE9TNV9UcEw4',\n",
       "   'snippet': {'publishedAt': '2020-12-26T15:05:31Z',\n",
       "    'channelId': 'UCAov2BBv1ZJav0c_yHEciAw',\n",
       "    'title': 'ROAST BATTLE ft. Vidit Gujrathi | Sagar Shah | Samay Raina | Vaibhav Sethia',\n",
       "    'description': \"This was recorded in Pune. It was Vidit and Sagar's first time on stage and they absolutely killed it!!\\n\\nEdited by Adwait Parchure\\nRecorded at Spade Comedy Club, Pune\\nSpecial Thanks: Vivek Desai\\n\\nxxxxxxxxxxxxxxxxxxxxxxxxxxxxxxxxxxxxxxxxxxxxxxxxxxxxxxxxxxxxxxxxxxxx\\n\\nJOIN MY GRAPHY https://share.graphyapp.co/8K8w \\n\\nBECOME DIAMOND MEMBER HERE: https://go.chess.com/samay\\n\\nJOIN MY CLUB: https://www.chess.com/club/samay-raina-official\\n\\nJoin this channel to get access to perks:\\nhttps://www.youtube.com/channel/UCAov2BBv1ZJav0c_yHEciAw/join\\n\\nFollow me on instagram\\nhttps://www.instagram.com/maisamayhoon/\\n\\nJoin my discord:\\nhttps://discord.gg/maisamayhoon\",\n",
       "    'thumbnails': {'default': {'url': 'https://i.ytimg.com/vi/R_LOS5_TpL8/default.jpg',\n",
       "      'width': 120,\n",
       "      'height': 90},\n",
       "     'medium': {'url': 'https://i.ytimg.com/vi/R_LOS5_TpL8/mqdefault.jpg',\n",
       "      'width': 320,\n",
       "      'height': 180},\n",
       "     'high': {'url': 'https://i.ytimg.com/vi/R_LOS5_TpL8/hqdefault.jpg',\n",
       "      'width': 480,\n",
       "      'height': 360},\n",
       "     'standard': {'url': 'https://i.ytimg.com/vi/R_LOS5_TpL8/sddefault.jpg',\n",
       "      'width': 640,\n",
       "      'height': 480},\n",
       "     'maxres': {'url': 'https://i.ytimg.com/vi/R_LOS5_TpL8/maxresdefault.jpg',\n",
       "      'width': 1280,\n",
       "      'height': 720}},\n",
       "    'channelTitle': 'Samay Raina',\n",
       "    'playlistId': 'UUAov2BBv1ZJav0c_yHEciAw',\n",
       "    'position': 4,\n",
       "    'resourceId': {'kind': 'youtube#video', 'videoId': 'R_LOS5_TpL8'}}},\n",
       "  {'kind': 'youtube#playlistItem',\n",
       "   'etag': 'ohp6iGaC_zAwX7T5IgiFexhuRGE',\n",
       "   'id': 'VVVBb3YyQkJ2MVpKYXYwY195SEVjaUF3LkpoZEMxaFhqTU5r',\n",
       "   'snippet': {'publishedAt': '2020-12-24T12:36:08Z',\n",
       "    'channelId': 'UCAov2BBv1ZJav0c_yHEciAw',\n",
       "    'title': 'Good evening chess ft. Vidit Gujrathi',\n",
       "    'description': 'JOIN MY GRAPHY https://share.graphyapp.co/8K8w \\n\\nBECOME DIAMOND MEMBER HERE: https://go.chess.com/samay\\n\\nJOIN MY CLUB: https://www.chess.com/club/samay-raina-official\\n\\nJoin this channel to get access to perks:\\nhttps://www.youtube.com/channel/UCAov2BBv1ZJav0c_yHEciAw/join\\n\\nFollow me on instagram\\nhttps://www.instagram.com/maisamayhoon/\\n\\nJoin my discord:\\nhttps://discord.gg/maisamayhoon',\n",
       "    'thumbnails': {'default': {'url': 'https://i.ytimg.com/vi/JhdC1hXjMNk/default.jpg',\n",
       "      'width': 120,\n",
       "      'height': 90},\n",
       "     'medium': {'url': 'https://i.ytimg.com/vi/JhdC1hXjMNk/mqdefault.jpg',\n",
       "      'width': 320,\n",
       "      'height': 180},\n",
       "     'high': {'url': 'https://i.ytimg.com/vi/JhdC1hXjMNk/hqdefault.jpg',\n",
       "      'width': 480,\n",
       "      'height': 360},\n",
       "     'standard': {'url': 'https://i.ytimg.com/vi/JhdC1hXjMNk/sddefault.jpg',\n",
       "      'width': 640,\n",
       "      'height': 480},\n",
       "     'maxres': {'url': 'https://i.ytimg.com/vi/JhdC1hXjMNk/maxresdefault.jpg',\n",
       "      'width': 1280,\n",
       "      'height': 720}},\n",
       "    'channelTitle': 'Samay Raina',\n",
       "    'playlistId': 'UUAov2BBv1ZJav0c_yHEciAw',\n",
       "    'position': 5,\n",
       "    'resourceId': {'kind': 'youtube#video', 'videoId': 'JhdC1hXjMNk'}}},\n",
       "  {'kind': 'youtube#playlistItem',\n",
       "   'etag': 'ArL3ltzgcAnn7ELmHJpvdxRu0CU',\n",
       "   'id': 'VVVBb3YyQkJ2MVpKYXYwY195SEVjaUF3LkpGTjdQNHlVcUVZ',\n",
       "   'snippet': {'publishedAt': '2020-12-24T09:40:13Z',\n",
       "    'channelId': 'UCAov2BBv1ZJav0c_yHEciAw',\n",
       "    'title': 'SAMAY RAINA IN DELHI ft. @Suhani Shah @SOUL Sangwan @Nishant Tanwar',\n",
       "    'description': 'Website: https://bit.ly/368Xil4\\n\\n (Use code samay2020 for 20% OFF at Mamaearth)\\n\\nAmazon: https://amzn.to/36UKtvs\\n\\nNykaa: https://bit.ly/2TNezJx\\n\\nFlipkart: https://bit.ly/2I8ZPSG\\n\\nMamaEarth is a sponsor partner for this video',\n",
       "    'thumbnails': {'default': {'url': 'https://i.ytimg.com/vi/JFN7P4yUqEY/default.jpg',\n",
       "      'width': 120,\n",
       "      'height': 90},\n",
       "     'medium': {'url': 'https://i.ytimg.com/vi/JFN7P4yUqEY/mqdefault.jpg',\n",
       "      'width': 320,\n",
       "      'height': 180},\n",
       "     'high': {'url': 'https://i.ytimg.com/vi/JFN7P4yUqEY/hqdefault.jpg',\n",
       "      'width': 480,\n",
       "      'height': 360},\n",
       "     'standard': {'url': 'https://i.ytimg.com/vi/JFN7P4yUqEY/sddefault.jpg',\n",
       "      'width': 640,\n",
       "      'height': 480},\n",
       "     'maxres': {'url': 'https://i.ytimg.com/vi/JFN7P4yUqEY/maxresdefault.jpg',\n",
       "      'width': 1280,\n",
       "      'height': 720}},\n",
       "    'channelTitle': 'Samay Raina',\n",
       "    'playlistId': 'UUAov2BBv1ZJav0c_yHEciAw',\n",
       "    'position': 6,\n",
       "    'resourceId': {'kind': 'youtube#video', 'videoId': 'JFN7P4yUqEY'}}},\n",
       "  {'kind': 'youtube#playlistItem',\n",
       "   'etag': 'ap8ntB1W7CQG97xmya1YTD_w-B4',\n",
       "   'id': 'VVVBb3YyQkJ2MVpKYXYwY195SEVjaUF3LjZiMnhjclF5THVF',\n",
       "   'snippet': {'publishedAt': '2020-12-17T00:14:21Z',\n",
       "    'channelId': 'UCAov2BBv1ZJav0c_yHEciAw',\n",
       "    'title': 'THE WEIGHTLOSS VLOG | SAMAY RAINA',\n",
       "    'description': 'JOIN MY GRAPHY https://share.graphyapp.co/8K8w \\n\\nBECOME DIAMOND MEMBER HERE: https://go.chess.com/samay\\n\\nJOIN MY CLUB: https://www.chess.com/club/samay-raina-official\\n\\nJoin this channel to get access to perks:\\nhttps://www.youtube.com/channel/UCAov2BBv1ZJav0c_yHEciAw/join\\n\\nFollow me on instagram\\nhttps://www.instagram.com/maisamayhoon/\\n\\nJoin my discord:\\nhttps://discord.gg/maisamayhoon',\n",
       "    'thumbnails': {'default': {'url': 'https://i.ytimg.com/vi/6b2xcrQyLuE/default.jpg',\n",
       "      'width': 120,\n",
       "      'height': 90},\n",
       "     'medium': {'url': 'https://i.ytimg.com/vi/6b2xcrQyLuE/mqdefault.jpg',\n",
       "      'width': 320,\n",
       "      'height': 180},\n",
       "     'high': {'url': 'https://i.ytimg.com/vi/6b2xcrQyLuE/hqdefault.jpg',\n",
       "      'width': 480,\n",
       "      'height': 360},\n",
       "     'standard': {'url': 'https://i.ytimg.com/vi/6b2xcrQyLuE/sddefault.jpg',\n",
       "      'width': 640,\n",
       "      'height': 480},\n",
       "     'maxres': {'url': 'https://i.ytimg.com/vi/6b2xcrQyLuE/maxresdefault.jpg',\n",
       "      'width': 1280,\n",
       "      'height': 720}},\n",
       "    'channelTitle': 'Samay Raina',\n",
       "    'playlistId': 'UUAov2BBv1ZJav0c_yHEciAw',\n",
       "    'position': 7,\n",
       "    'resourceId': {'kind': 'youtube#video', 'videoId': '6b2xcrQyLuE'}}},\n",
       "  {'kind': 'youtube#playlistItem',\n",
       "   'etag': 'sJ7ehymsT4wA-1LCAqBQgyzM9nM',\n",
       "   'id': 'VVVBb3YyQkJ2MVpKYXYwY195SEVjaUF3Li1SNnpnbHBTeUJj',\n",
       "   'snippet': {'publishedAt': '2020-12-09T15:47:14Z',\n",
       "    'channelId': 'UCAov2BBv1ZJav0c_yHEciAw',\n",
       "    'title': 'ADOPTING VAIBHAV SETHIA',\n",
       "    'description': 'JOIN MY GRAPHY https://share.graphyapp.co/8K8w \\n\\nBECOME DIAMOND MEMBER HERE: https://go.chess.com/samay\\n\\nJOIN MY CLUB: https://www.chess.com/club/samay-raina-official\\n\\nJoin this channel to get access to perks:\\nhttps://www.youtube.com/channel/UCAov2BBv1ZJav0c_yHEciAw/join\\n\\nFollow me on instagram\\nhttps://www.instagram.com/maisamayhoon/\\n\\nJoin my discord:\\nhttps://discord.gg/maisamayhoon',\n",
       "    'thumbnails': {'default': {'url': 'https://i.ytimg.com/vi/-R6zglpSyBc/default.jpg',\n",
       "      'width': 120,\n",
       "      'height': 90},\n",
       "     'medium': {'url': 'https://i.ytimg.com/vi/-R6zglpSyBc/mqdefault.jpg',\n",
       "      'width': 320,\n",
       "      'height': 180},\n",
       "     'high': {'url': 'https://i.ytimg.com/vi/-R6zglpSyBc/hqdefault.jpg',\n",
       "      'width': 480,\n",
       "      'height': 360},\n",
       "     'standard': {'url': 'https://i.ytimg.com/vi/-R6zglpSyBc/sddefault.jpg',\n",
       "      'width': 640,\n",
       "      'height': 480},\n",
       "     'maxres': {'url': 'https://i.ytimg.com/vi/-R6zglpSyBc/maxresdefault.jpg',\n",
       "      'width': 1280,\n",
       "      'height': 720}},\n",
       "    'channelTitle': 'Samay Raina',\n",
       "    'playlistId': 'UUAov2BBv1ZJav0c_yHEciAw',\n",
       "    'position': 8,\n",
       "    'resourceId': {'kind': 'youtube#video', 'videoId': '-R6zglpSyBc'}}},\n",
       "  {'kind': 'youtube#playlistItem',\n",
       "   'etag': 'lbDPIS6Y3Huz1M4Vk2l1s6omkjY',\n",
       "   'id': 'VVVBb3YyQkJ2MVpKYXYwY195SEVjaUF3LkNkRmtTNnI3cnN3',\n",
       "   'snippet': {'publishedAt': '2020-12-09T06:22:34Z',\n",
       "    'channelId': 'UCAov2BBv1ZJav0c_yHEciAw',\n",
       "    'title': 'GM ABISH MATHEW - THE NAME IS ENOUGH',\n",
       "    'description': 'JOIN MY GRAPHY https://share.graphyapp.co/8K8w \\n\\nBECOME DIAMOND MEMBER HERE: https://go.chess.com/samay\\n\\nJOIN MY CLUB: https://www.chess.com/club/samay-raina-official\\n\\nJoin this channel to get access to perks:\\nhttps://www.youtube.com/channel/UCAov2BBv1ZJav0c_yHEciAw/join\\n\\nFollow me on instagram\\nhttps://www.instagram.com/maisamayhoon/\\n\\nJoin my discord:\\nhttps://discord.gg/maisamayhoon\\n\\nxxxxxxxxxxxxxxxxxxxxxxxxxxxxxxxxxxxxxxxxxxxxxxxxxxxxxxxxxxxxxxxxxxxxxxxxxxxxxxxxxxxxxxxxx\\nEdited by the sweat on my forearms; Billu Sanda\\nThumbnail by Pulkit Mehta',\n",
       "    'thumbnails': {'default': {'url': 'https://i.ytimg.com/vi/CdFkS6r7rsw/default.jpg',\n",
       "      'width': 120,\n",
       "      'height': 90},\n",
       "     'medium': {'url': 'https://i.ytimg.com/vi/CdFkS6r7rsw/mqdefault.jpg',\n",
       "      'width': 320,\n",
       "      'height': 180},\n",
       "     'high': {'url': 'https://i.ytimg.com/vi/CdFkS6r7rsw/hqdefault.jpg',\n",
       "      'width': 480,\n",
       "      'height': 360},\n",
       "     'standard': {'url': 'https://i.ytimg.com/vi/CdFkS6r7rsw/sddefault.jpg',\n",
       "      'width': 640,\n",
       "      'height': 480},\n",
       "     'maxres': {'url': 'https://i.ytimg.com/vi/CdFkS6r7rsw/maxresdefault.jpg',\n",
       "      'width': 1280,\n",
       "      'height': 720}},\n",
       "    'channelTitle': 'Samay Raina',\n",
       "    'playlistId': 'UUAov2BBv1ZJav0c_yHEciAw',\n",
       "    'position': 9,\n",
       "    'resourceId': {'kind': 'youtube#video', 'videoId': 'CdFkS6r7rsw'}}},\n",
       "  {'kind': 'youtube#playlistItem',\n",
       "   'etag': 'd1RP0BzdDCYVWKgzJwCnApl89W8',\n",
       "   'id': 'VVVBb3YyQkJ2MVpKYXYwY195SEVjaUF3LmxPbHd1NnF5VVQ4',\n",
       "   'snippet': {'publishedAt': '2020-12-06T12:46:17Z',\n",
       "    'channelId': 'UCAov2BBv1ZJav0c_yHEciAw',\n",
       "    'title': 'Stream ends when I make one mistake in Puzzle Rush | LONG STREAM | ADDRESS REVEAL CHALLENGE*',\n",
       "    'description': \"FREE GRAPHY SUBSCRIPTION: https://share.graphyapp.co/p21n\\n\\nIf I make a mistake before 35 puzzles, I will reveal my address. This address is if you want to send any letters to me. I will read and respond if you write your Instagram handles in the letter. Let me tell you that I don't stay there but everything you send there will reach me for sure. You can literally send anything except dildos on cash on delivery.\\n\\n\\nXXXXXXXXXXXXXXXXXXXXXXXXXXXXXXXXXXXXXXXXXXXXXXXXXXXXXXXXXXXXX\\n\\nBECOME DIAMOND MEMBER HERE: https://go.chess.com/samay\\n\\nJOIN MY CLUB: https://www.chess.com/club/samay-raina-official\\n\\nJoin this channel to get access to perks:\\nhttps://www.youtube.com/channel/UCAov2BBv1ZJav0c_yHEciAw/join\\n\\nFollow me on instagram\\nhttps://www.instagram.com/maisamayhoon/\\n\\nJoin my discord:\\nhttps://discord.gg/maisamayhoon\",\n",
       "    'thumbnails': {'default': {'url': 'https://i.ytimg.com/vi/lOlwu6qyUT8/default.jpg',\n",
       "      'width': 120,\n",
       "      'height': 90},\n",
       "     'medium': {'url': 'https://i.ytimg.com/vi/lOlwu6qyUT8/mqdefault.jpg',\n",
       "      'width': 320,\n",
       "      'height': 180},\n",
       "     'high': {'url': 'https://i.ytimg.com/vi/lOlwu6qyUT8/hqdefault.jpg',\n",
       "      'width': 480,\n",
       "      'height': 360},\n",
       "     'standard': {'url': 'https://i.ytimg.com/vi/lOlwu6qyUT8/sddefault.jpg',\n",
       "      'width': 640,\n",
       "      'height': 480},\n",
       "     'maxres': {'url': 'https://i.ytimg.com/vi/lOlwu6qyUT8/maxresdefault.jpg',\n",
       "      'width': 1280,\n",
       "      'height': 720}},\n",
       "    'channelTitle': 'Samay Raina',\n",
       "    'playlistId': 'UUAov2BBv1ZJav0c_yHEciAw',\n",
       "    'position': 10,\n",
       "    'resourceId': {'kind': 'youtube#video', 'videoId': 'lOlwu6qyUT8'}}},\n",
       "  {'kind': 'youtube#playlistItem',\n",
       "   'etag': 'VCF_z1u1-b2QsBalkz-thqCrnCo',\n",
       "   'id': 'VVVBb3YyQkJ2MVpKYXYwY195SEVjaUF3LnBJc21GQW9PMDNV',\n",
       "   'snippet': {'publishedAt': '2020-12-01T09:03:59Z',\n",
       "    'channelId': 'UCAov2BBv1ZJav0c_yHEciAw',\n",
       "    'title': 'BEST OF THE WEEK 10 | SAMAY RAINA',\n",
       "    'description': 'JOIN MY GRAPHY https://share.graphyapp.co/8K8w \\n\\nBECOME DIAMOND MEMBER HERE: https://go.chess.com/samay\\n\\nJOIN MY CLUB: https://www.chess.com/club/samay-raina-official\\n\\nJoin this channel to get access to perks:\\nhttps://www.youtube.com/channel/UCAov2BBv1ZJav0c_yHEciAw/join\\n\\nFollow me on instagram\\nhttps://www.instagram.com/maisamayhoon/\\n\\nJoin my discord:\\nhttps://discord.gg/maisamayhoon',\n",
       "    'thumbnails': {'default': {'url': 'https://i.ytimg.com/vi/pIsmFAoO03U/default.jpg',\n",
       "      'width': 120,\n",
       "      'height': 90},\n",
       "     'medium': {'url': 'https://i.ytimg.com/vi/pIsmFAoO03U/mqdefault.jpg',\n",
       "      'width': 320,\n",
       "      'height': 180},\n",
       "     'high': {'url': 'https://i.ytimg.com/vi/pIsmFAoO03U/hqdefault.jpg',\n",
       "      'width': 480,\n",
       "      'height': 360},\n",
       "     'standard': {'url': 'https://i.ytimg.com/vi/pIsmFAoO03U/sddefault.jpg',\n",
       "      'width': 640,\n",
       "      'height': 480},\n",
       "     'maxres': {'url': 'https://i.ytimg.com/vi/pIsmFAoO03U/maxresdefault.jpg',\n",
       "      'width': 1280,\n",
       "      'height': 720}},\n",
       "    'channelTitle': 'Samay Raina',\n",
       "    'playlistId': 'UUAov2BBv1ZJav0c_yHEciAw',\n",
       "    'position': 11,\n",
       "    'resourceId': {'kind': 'youtube#video', 'videoId': 'pIsmFAoO03U'}}},\n",
       "  {'kind': 'youtube#playlistItem',\n",
       "   'etag': 'W6NcouIjSTwgNR6LP_GWxHh4LcE',\n",
       "   'id': 'VVVBb3YyQkJ2MVpKYXYwY195SEVjaUF3LmFrdDRZbC1sSnJB',\n",
       "   'snippet': {'publishedAt': '2020-11-30T01:00:08Z',\n",
       "    'channelId': 'UCAov2BBv1ZJav0c_yHEciAw',\n",
       "    'title': 'YOUTUBE vs TWITCH ft. Alexandra Botez',\n",
       "    'description': 'JOIN MY GRAPHY https://share.graphyapp.co/8K8w \\n\\nBECOME DIAMOND MEMBER HERE: https://go.chess.com/samay\\n\\nJOIN MY CLUB: https://www.chess.com/club/samay-raina-official\\n\\nJoin this channel to get access to perks:\\nhttps://www.youtube.com/channel/UCAov2BBv1ZJav0c_yHEciAw/join\\n\\nFollow me on instagram\\nhttps://www.instagram.com/maisamayhoon/\\n\\nJoin my discord:\\nhttps://discord.gg/maisamayhoon',\n",
       "    'thumbnails': {'default': {'url': 'https://i.ytimg.com/vi/akt4Yl-lJrA/default.jpg',\n",
       "      'width': 120,\n",
       "      'height': 90},\n",
       "     'medium': {'url': 'https://i.ytimg.com/vi/akt4Yl-lJrA/mqdefault.jpg',\n",
       "      'width': 320,\n",
       "      'height': 180},\n",
       "     'high': {'url': 'https://i.ytimg.com/vi/akt4Yl-lJrA/hqdefault.jpg',\n",
       "      'width': 480,\n",
       "      'height': 360},\n",
       "     'standard': {'url': 'https://i.ytimg.com/vi/akt4Yl-lJrA/sddefault.jpg',\n",
       "      'width': 640,\n",
       "      'height': 480},\n",
       "     'maxres': {'url': 'https://i.ytimg.com/vi/akt4Yl-lJrA/maxresdefault.jpg',\n",
       "      'width': 1280,\n",
       "      'height': 720}},\n",
       "    'channelTitle': 'Samay Raina',\n",
       "    'playlistId': 'UUAov2BBv1ZJav0c_yHEciAw',\n",
       "    'position': 12,\n",
       "    'resourceId': {'kind': 'youtube#video', 'videoId': 'akt4Yl-lJrA'}}},\n",
       "  {'kind': 'youtube#playlistItem',\n",
       "   'etag': 'F58G_faK1WutzmUkzMWYcfXbydc',\n",
       "   'id': 'VVVBb3YyQkJ2MVpKYXYwY195SEVjaUF3LnFCMHYzTDJKTDlr',\n",
       "   'snippet': {'publishedAt': '2020-11-26T07:56:16Z',\n",
       "    'channelId': 'UCAov2BBv1ZJav0c_yHEciAw',\n",
       "    'title': \"THIS IS GM ABISH MATHEW'S IMMORTAL | BEST OF COB3\",\n",
       "    'description': 'JOIN MY GRAPHY https://share.graphyapp.co/8K8w \\n\\nBECOME DIAMOND MEMBER HERE: https://go.chess.com/samay\\n\\nJOIN MY CLUB: https://www.chess.com/club/samay-raina-official\\n\\nJoin this channel to get access to perks:\\nhttps://www.youtube.com/channel/UCAov2BBv1ZJav0c_yHEciAw/join\\n\\nFollow me on instagram\\nhttps://www.instagram.com/maisamayhoon/\\n\\nJoin my discord:\\nhttps://discord.gg/maisamayhoon',\n",
       "    'thumbnails': {'default': {'url': 'https://i.ytimg.com/vi/qB0v3L2JL9k/default.jpg',\n",
       "      'width': 120,\n",
       "      'height': 90},\n",
       "     'medium': {'url': 'https://i.ytimg.com/vi/qB0v3L2JL9k/mqdefault.jpg',\n",
       "      'width': 320,\n",
       "      'height': 180},\n",
       "     'high': {'url': 'https://i.ytimg.com/vi/qB0v3L2JL9k/hqdefault.jpg',\n",
       "      'width': 480,\n",
       "      'height': 360},\n",
       "     'standard': {'url': 'https://i.ytimg.com/vi/qB0v3L2JL9k/sddefault.jpg',\n",
       "      'width': 640,\n",
       "      'height': 480},\n",
       "     'maxres': {'url': 'https://i.ytimg.com/vi/qB0v3L2JL9k/maxresdefault.jpg',\n",
       "      'width': 1280,\n",
       "      'height': 720}},\n",
       "    'channelTitle': 'Samay Raina',\n",
       "    'playlistId': 'UUAov2BBv1ZJav0c_yHEciAw',\n",
       "    'position': 13,\n",
       "    'resourceId': {'kind': 'youtube#video', 'videoId': 'qB0v3L2JL9k'}}},\n",
       "  {'kind': 'youtube#playlistItem',\n",
       "   'etag': 'OMVc3htmoietfAbSIrt5cy5IleQ',\n",
       "   'id': 'VVVBb3YyQkJ2MVpKYXYwY195SEVjaUF3Lmk5cy1zVDZfc3hr',\n",
       "   'snippet': {'publishedAt': '2020-11-24T12:39:19Z',\n",
       "    'channelId': 'UCAov2BBv1ZJav0c_yHEciAw',\n",
       "    'title': 'ACHARA KIRK COMPLETELY SPOILED ft. @jaby koay  @GamerFleet  [18+]',\n",
       "    'description': 'JOIN MY GRAPHY https://share.graphyapp.co/8K8w \\n\\nBECOME DIAMOND MEMBER HERE: https://go.chess.com/samay\\n\\nJOIN MY CLUB: https://www.chess.com/club/samay-raina-official\\n\\nJoin this channel to get access to perks:\\nhttps://www.youtube.com/channel/UCAov2BBv1ZJav0c_yHEciAw/join\\n\\nFollow me on instagram\\nhttps://www.instagram.com/maisamayhoon/\\n\\nJoin my discord:\\nhttps://discord.gg/maisamayhoon',\n",
       "    'thumbnails': {'default': {'url': 'https://i.ytimg.com/vi/i9s-sT6_sxk/default.jpg',\n",
       "      'width': 120,\n",
       "      'height': 90},\n",
       "     'medium': {'url': 'https://i.ytimg.com/vi/i9s-sT6_sxk/mqdefault.jpg',\n",
       "      'width': 320,\n",
       "      'height': 180},\n",
       "     'high': {'url': 'https://i.ytimg.com/vi/i9s-sT6_sxk/hqdefault.jpg',\n",
       "      'width': 480,\n",
       "      'height': 360},\n",
       "     'standard': {'url': 'https://i.ytimg.com/vi/i9s-sT6_sxk/sddefault.jpg',\n",
       "      'width': 640,\n",
       "      'height': 480},\n",
       "     'maxres': {'url': 'https://i.ytimg.com/vi/i9s-sT6_sxk/maxresdefault.jpg',\n",
       "      'width': 1280,\n",
       "      'height': 720}},\n",
       "    'channelTitle': 'Samay Raina',\n",
       "    'playlistId': 'UUAov2BBv1ZJav0c_yHEciAw',\n",
       "    'position': 14,\n",
       "    'resourceId': {'kind': 'youtube#video', 'videoId': 'i9s-sT6_sxk'}}},\n",
       "  {'kind': 'youtube#playlistItem',\n",
       "   'etag': 'kHOiJ2w_r4Fnv6igGKfqhoHaWYA',\n",
       "   'id': 'VVVBb3YyQkJ2MVpKYXYwY195SEVjaUF3LjNXYXByNU9fTEEw',\n",
       "   'snippet': {'publishedAt': '2020-11-23T06:33:07Z',\n",
       "    'channelId': 'UCAov2BBv1ZJav0c_yHEciAw',\n",
       "    'title': \"THIS IS KUSHA KAPILA's IMMORTAL | BEST OF COB3\",\n",
       "    'description': 'JOIN MY GRAPHY https://share.graphyapp.co/8K8w \\n\\nBECOME DIAMOND MEMBER HERE: https://go.chess.com/samay\\n\\nJOIN MY CLUB: https://www.chess.com/club/samay-raina-official\\n\\nJoin this channel to get access to perks:\\nhttps://www.youtube.com/channel/UCAov2BBv1ZJav0c_yHEciAw/join\\n\\nFollow me on instagram\\nhttps://www.instagram.com/maisamayhoon/\\n\\nJoin my discord:\\nhttps://discord.gg/maisamayhoon',\n",
       "    'thumbnails': {'default': {'url': 'https://i.ytimg.com/vi/3Wapr5O_LA0/default.jpg',\n",
       "      'width': 120,\n",
       "      'height': 90},\n",
       "     'medium': {'url': 'https://i.ytimg.com/vi/3Wapr5O_LA0/mqdefault.jpg',\n",
       "      'width': 320,\n",
       "      'height': 180},\n",
       "     'high': {'url': 'https://i.ytimg.com/vi/3Wapr5O_LA0/hqdefault.jpg',\n",
       "      'width': 480,\n",
       "      'height': 360},\n",
       "     'standard': {'url': 'https://i.ytimg.com/vi/3Wapr5O_LA0/sddefault.jpg',\n",
       "      'width': 640,\n",
       "      'height': 480},\n",
       "     'maxres': {'url': 'https://i.ytimg.com/vi/3Wapr5O_LA0/maxresdefault.jpg',\n",
       "      'width': 1280,\n",
       "      'height': 720}},\n",
       "    'channelTitle': 'Samay Raina',\n",
       "    'playlistId': 'UUAov2BBv1ZJav0c_yHEciAw',\n",
       "    'position': 15,\n",
       "    'resourceId': {'kind': 'youtube#video', 'videoId': '3Wapr5O_LA0'}}},\n",
       "  {'kind': 'youtube#playlistItem',\n",
       "   'etag': 'imlWsuE0qwAWWNrVWK8kAp6Fzi8',\n",
       "   'id': 'VVVBb3YyQkJ2MVpKYXYwY195SEVjaUF3Lno4aDlXcmtVaVFN',\n",
       "   'snippet': {'publishedAt': '2020-11-20T17:56:28Z',\n",
       "    'channelId': 'UCAov2BBv1ZJav0c_yHEciAw',\n",
       "    'title': 'COMEDIANS ON BOARD | NO MERCY | GRAND FINALE',\n",
       "    'description': 'COMEDIANS ON BOARD SEASON 3 IS COMING TO AND END. COME WITNESS THIS MADNESS STARTING 6 PM ONWARDS \\nxxxxxxxxxxxxxxxxxxxxxxxxxxxxxxxxxxxxxxxxxxxxxxxxxxxxxxxxxxxxxxxxxxxxxxxxxxxxxxxxxxxxxxxxx\\n\\nClick on this link to join through my referral code: https://share.graphyapp.co/8K8w to enjoy a 30 day free trial.\\n\\nWe realise that ‘Learning’ has become a boring word! \\n\\nWell now no more. Introducing Graphy. World’s first structured learning platform.\\nWant to play chess like a GM, we’ve got you. Want to know the best way to communicate , we’ve got you. \\nYour learning need/ hobby, our platform. A match made in heaven. \\nOne subscription unlocks 100s of Graphys across categories like Chess, Personal finance, Communication, Health & Fitness & more. And the best part, we keep adding new content every month.\\n\\nSo obviously, you ask: \\n\\nWhat is a Graphy?\\nAnswer: Episodic, Interactive, Audio-visual content available for you, on the go. \\nCome experience learning in the most fun manner ever.\\n\\nSo, what are you waiting for? Go and check out the Graphy app now and start your one month free trial right now!\\nSee you on Graphy super soon!\\nxxxxxxxxxxxxxxxxxxxxxxxxxxxxxxxxxxxxxxxxxxxxxxxxxxxxxxxxxxxxxxxxxxxxxxxxxxxxxxxxxxxxxxxxx\\n\\nBECOME CHESS.COM DIAMOND MEMBER HERE: https://go.chess.com/samay\\n\\nJOIN MY CLUB: https://www.chess.com/club/samay-rain...\\n\\nJoin this channel to get access to perks:\\nhttps://www.youtube.com/channel/UCAov...\\n\\nFollow me on Instagram\\nhttps://www.instagram.com/maisamayhoon/\\n\\nJoin my discord:\\nhttps://discord.gg/maisamayhoon\\n\\nThumbnail and graphics by Pulkit Mehta\\n\\nxxxxxxxxxxxxxxxxxxxxxxxxxxxxxxxxxxxxxxxxxxxxxxxxxxxxxxxxxxxxxxxxxxxxxxxxxxxxxxxxxxxxxxxxx\\nCheck out the all new ChessBase 16 software from ChessBase India. A chess database management tool that is used by all the top players in the world:\\nhttps://chessbase.in/online-shop#!/La\\nxxxxxxxxxxxxxxxxxxxxxxxxxxxxxxxxxxxxxxxxxxxxxxxxxxxxxxxxxxxxxxxxxxxxxxxxxxxxxxxxxxxxxxxx\\n\\nSchedule:\\n\\n6 - 6:30 pm Yuzvendra Chahal vs Angad Singh Ranyal\\n6:30 - 6:50 pm Balraj vs Ajay Samson\\n6:50 - 7:30 pm Vaibhav Sethia vs Anirban Dasgupta\\n7:30 pm - 8 pm Joel Dsouza vs Samay Raina\\n8:00 pm - 8:30 pm 3rd position match\\n8:30 pm - 9 pm FINALS!!!!',\n",
       "    'thumbnails': {'default': {'url': 'https://i.ytimg.com/vi/z8h9WrkUiQM/default.jpg',\n",
       "      'width': 120,\n",
       "      'height': 90},\n",
       "     'medium': {'url': 'https://i.ytimg.com/vi/z8h9WrkUiQM/mqdefault.jpg',\n",
       "      'width': 320,\n",
       "      'height': 180},\n",
       "     'high': {'url': 'https://i.ytimg.com/vi/z8h9WrkUiQM/hqdefault.jpg',\n",
       "      'width': 480,\n",
       "      'height': 360},\n",
       "     'standard': {'url': 'https://i.ytimg.com/vi/z8h9WrkUiQM/sddefault.jpg',\n",
       "      'width': 640,\n",
       "      'height': 480},\n",
       "     'maxres': {'url': 'https://i.ytimg.com/vi/z8h9WrkUiQM/maxresdefault.jpg',\n",
       "      'width': 1280,\n",
       "      'height': 720}},\n",
       "    'channelTitle': 'Samay Raina',\n",
       "    'playlistId': 'UUAov2BBv1ZJav0c_yHEciAw',\n",
       "    'position': 16,\n",
       "    'resourceId': {'kind': 'youtube#video', 'videoId': 'z8h9WrkUiQM'}}},\n",
       "  {'kind': 'youtube#playlistItem',\n",
       "   'etag': 'fhQst-v5V2niq3ytNTH6l5He1uo',\n",
       "   'id': 'VVVBb3YyQkJ2MVpKYXYwY195SEVjaUF3Lk54dnRKckpKUXdV',\n",
       "   'snippet': {'publishedAt': '2020-11-19T16:45:19Z',\n",
       "    'channelId': 'UCAov2BBv1ZJav0c_yHEciAw',\n",
       "    'title': 'COMEDIANS ON BOARD | NO MERCY | DAY 2 QUARTER FINALS',\n",
       "    'description': 'QUARTERFINALS!\\nxxxxxxxxxxxxxxxxxxxxxxxxxxxxxxxxxxxxxxxxxxxxxxxxxxxxxxxxxxxxxxxxxxxxxxxxxxxxxxxxxxxxxxxxx\\n\\nClick on this link to join through my referral code: https://share.graphyapp.co/8K8w to enjoy a 30 day free trial.\\n\\nWe realise that ‘Learning’ has become a boring word! \\n\\nWell now no more. Introducing Graphy. World’s first structured learning platform.\\nWant to play chess like a GM, we’ve got you. Want to know the best way to communicate , we’ve got you. \\nYour learning need/ hobby, our platform. A match made in heaven. \\nOne subscription unlocks 100s of Graphys across categories like Chess, Personal finance, Communication, Health & Fitness & more. And the best part, we keep adding new content every month.\\n\\nSo obviously, you ask: \\n\\nWhat is a Graphy?\\nAnswer: Episodic, Interactive, Audio-visual content available for you, on the go. \\nCome experience learning in the most fun manner ever.\\n\\nSo, what are you waiting for? Go and check out the Graphy app now and start your one month free trial right now!\\nSee you on Graphy super soon!\\nxxxxxxxxxxxxxxxxxxxxxxxxxxxxxxxxxxxxxxxxxxxxxxxxxxxxxxxxxxxxxxxxxxxxxxxxxxxxxxxxxxxxxxxxx\\n\\nBECOME CHESS.COM DIAMOND MEMBER HERE: https://go.chess.com/samay\\n\\nJOIN MY CLUB: https://www.chess.com/club/samay-rain...\\n\\nJoin this channel to get access to perks:\\nhttps://www.youtube.com/channel/UCAov...\\n\\nFollow me on Instagram\\nhttps://www.instagram.com/maisamayhoon/\\n\\nJoin my discord:\\nhttps://discord.gg/maisamayhoon\\n\\nThumbnail and graphics by Pulkit Mehta\\n\\nxxxxxxxxxxxxxxxxxxxxxxxxxxxxxxxxxxxxxxxxxxxxxxxxxxxxxxxxxxxxxxxxxxxxxxxxxxxxxxxxxxxxxxxxx\\nCheck out the all new ChessBase 16 software from ChessBase India. A chess database management tool that is used by all the top players in the world:\\nhttps://chessbase.in/online-shop#!/La...\\nxxxxxxxxxxxxxxxxxxxxxxxxxxxxxxxxxxxxxxxxxxxxxxxxxxxxxxxxxxxxxxxxxxxxxxxxxxxxxxxxxxxxxxxx\\n\\nSchedule for day 2\\n\\n2-2:30 pm Yahya Boobwala vs Angad Singh Ranyal\\n2:30 pm - 3 pm Sapan Verma vs Joel Dsouza\\n3 pm - 3:30 pm Akash Gupta vs Vaibhav Sethia\\n3:30 pm - 4 pm Biswa Kalyan Rath vs Naveen Richard\\n4 pm - 4:30 pm  Kumar Varun vs Abhishek Upmanyu\\n4:30 pm - 5 pm GM Abish Mathew vs Nishant Tanwar\\n5 pm - 5:30 pm Samay Raina vs Kusha Kapila\\n5:30 pm - 6 pm Rahul Dua vs Anirban Dasgupta\\n\\n6-7 pm break\\n\\n7 pm to 9 pm QUARTER FINALS',\n",
       "    'thumbnails': {'default': {'url': 'https://i.ytimg.com/vi/NxvtJrJJQwU/default.jpg',\n",
       "      'width': 120,\n",
       "      'height': 90},\n",
       "     'medium': {'url': 'https://i.ytimg.com/vi/NxvtJrJJQwU/mqdefault.jpg',\n",
       "      'width': 320,\n",
       "      'height': 180},\n",
       "     'high': {'url': 'https://i.ytimg.com/vi/NxvtJrJJQwU/hqdefault.jpg',\n",
       "      'width': 480,\n",
       "      'height': 360},\n",
       "     'standard': {'url': 'https://i.ytimg.com/vi/NxvtJrJJQwU/sddefault.jpg',\n",
       "      'width': 640,\n",
       "      'height': 480},\n",
       "     'maxres': {'url': 'https://i.ytimg.com/vi/NxvtJrJJQwU/maxresdefault.jpg',\n",
       "      'width': 1280,\n",
       "      'height': 720}},\n",
       "    'channelTitle': 'Samay Raina',\n",
       "    'playlistId': 'UUAov2BBv1ZJav0c_yHEciAw',\n",
       "    'position': 17,\n",
       "    'resourceId': {'kind': 'youtube#video', 'videoId': 'NxvtJrJJQwU'}}},\n",
       "  {'kind': 'youtube#playlistItem',\n",
       "   'etag': 'aYorN0lCMsNvuHKiv-cEYYb9wD4',\n",
       "   'id': 'VVVBb3YyQkJ2MVpKYXYwY195SEVjaUF3LlJrb0pBTFJ4a2JZ',\n",
       "   'snippet': {'publishedAt': '2020-11-18T15:51:00Z',\n",
       "    'channelId': 'UCAov2BBv1ZJav0c_yHEciAw',\n",
       "    'title': 'COMEDIANS ON BOARD 3 | NO MERCY | DAY 1',\n",
       "    'description': 'THE MEGA EVENT COB3 IS FINALLY HERE\\nxxxxxxxxxxxxxxxxxxxxxxxxxxxxxxxxxxxxxxxxxxxxxxxxxxxxxxxxxxxxxxxxxxxxxxxxxxxxxxxxxxxxxxx\\n\\nClick on this link to join through my referral code: https://share.graphyapp.co/8K8w to enjoy a 30 day free trial.\\n\\n\\nWe realise that ‘Learning’ has become a boring word! \\n\\nWell now no more. Introducing Graphy. World’s first structured learning platform.\\nWant to play chess like a GM, we’ve got you. Want to know the best way to communicate , we’ve got you. \\nYour learning need/ hobby, our platform. A match made in heaven. \\nOne subscription unlocks 100s of Graphys across categories like Chess, Personal finance, Communication, Health & Fitness & more. And the best part, we keep adding new content every month.\\n\\nSo obviously, you ask: \\n\\nWhat is a Graphy?\\nAnswer: Episodic, Interactive, Audio-visual content available for you, on the go. \\nCome experience learning in the most fun manner ever.\\n\\nSo, what are you waiting for? Go and check out the Graphy app now and start your one month free trial right now!\\nSee you on Graphy super soon!\\nxxxxxxxxxxxxxxxxxxxxxxxxxxxxxxxxxxxxxxxxxxxxxxxxxxxxxxxxxxxxxxxxxxxxxxxxxxxxxxxxxxxxxxxxx\\n\\nBECOME CHESS.COM DIAMOND MEMBER HERE: https://go.chess.com/samay\\n\\nJOIN MY CLUB: https://www.chess.com/club/samay-raina-official\\n\\nJoin this channel to get access to perks:\\nhttps://www.youtube.com/channel/UCAov2BBv1ZJav0c_yHEciAw/join\\n\\nFollow me on Instagram\\nhttps://www.instagram.com/maisamayhoon/\\n\\nJoin my discord:\\nhttps://discord.gg/maisamayhoon\\n\\nThumbnail and graphics by Pulkit Mehta\\n\\nxxxxxxxxxxxxxxxxxxxxxxxxxxxxxxxxxxxxxxxxxxxxxxxxxxxxxxxxxxxxxxxxxxxxxxxxxxxxxxxxxxxxxxxxx\\nCheck out the all new ChessBase 16 software from ChessBase India. A chess database management tool that is used by all the top players in the world:\\nhttps://chessbase.in/online-shop#!/Latest-Products/c/21105136\\nxxxxxxxxxxxxxxxxxxxxxxxxxxxxxxxxxxxxxxxxxxxxxxxxxxxxxxxxxxxxxxxxxxxxxxxxxxxxxxxxxxxxxxxx\\n\\nSchedule for day 1\\n\\n10 am - 10:30 am  GM Abish vs Nivedita \\n10:30 am - 11 am  KV vs Zakir \\n11 am - 11:30 am  Gaurav Kapoor vs Aakash Gupta \\n11:30 am - 12 pm  Naveen vs Kenny \\n12 pm - 12:30 pm  Rahul Dua vs Nishant Suri \\n12:30 pm - 1 pm  Rahul Subramanian vs Angad  \\n1 pm - 1:30 pm   Yahya boobwala vs Jaspreet \\n1:30 - 2 pm           Abhishek upmanyu vs Prashasti \\n   \\n2 pm - 2:30 pm break   \\n   \\n2:30 pm - 3 pm  Samay vs Sumit sourav \\n3 pm - 3:30 pm  Arvind SA vs Anirban \\n3:30 pm - 4 pm  Sapan Verma vs Sonali \\n4 pm - 4:30 pm  Joel vs Aishwarya \\n4:30 pm - 5 pm  Kusha vs Kaneez\\n5 pm - 5:30 pm  Sorabh Pant vs Biswa\\n5:30 pm - 6 pm  Vaibhav vs Shreeja \\n6 pm - 6:30 pm  Tanmay vs Nishant Tanwar\\n\\nxxxxxxxxxxxxxxxxxxxxxxxxxxxxxxxxxxxxxxxxx\\n\\nSongs played\\n\\n101 by Seedhe Maut\\nClass-Sikh Maut Vol. 2 by  Prabh Deep x Seedhe Maut\\nPankh by Seedhe Maut\\nNo Losses by Kr$na\\nSaath ya Khilaad by Kr$na x Raftaar\\nSay my name by Kr$na\\nChal theek hai by Bali\\nSun na by Bali\\nBewafa Samay by Devin Anand\\nEndgame by Samay Raina',\n",
       "    'thumbnails': {'default': {'url': 'https://i.ytimg.com/vi/RkoJALRxkbY/default.jpg',\n",
       "      'width': 120,\n",
       "      'height': 90},\n",
       "     'medium': {'url': 'https://i.ytimg.com/vi/RkoJALRxkbY/mqdefault.jpg',\n",
       "      'width': 320,\n",
       "      'height': 180},\n",
       "     'high': {'url': 'https://i.ytimg.com/vi/RkoJALRxkbY/hqdefault.jpg',\n",
       "      'width': 480,\n",
       "      'height': 360},\n",
       "     'standard': {'url': 'https://i.ytimg.com/vi/RkoJALRxkbY/sddefault.jpg',\n",
       "      'width': 640,\n",
       "      'height': 480},\n",
       "     'maxres': {'url': 'https://i.ytimg.com/vi/RkoJALRxkbY/maxresdefault.jpg',\n",
       "      'width': 1280,\n",
       "      'height': 720}},\n",
       "    'channelTitle': 'Samay Raina',\n",
       "    'playlistId': 'UUAov2BBv1ZJav0c_yHEciAw',\n",
       "    'position': 18,\n",
       "    'resourceId': {'kind': 'youtube#video', 'videoId': 'RkoJALRxkbY'}}},\n",
       "  {'kind': 'youtube#playlistItem',\n",
       "   'etag': 'p_2lBmw-bSumnWreC9Aalw1-Enc',\n",
       "   'id': 'VVVBb3YyQkJ2MVpKYXYwY195SEVjaUF3LjF1Mjk3bHZ2R0pR',\n",
       "   'snippet': {'publishedAt': '2020-11-18T15:28:43Z',\n",
       "    'channelId': 'UCAov2BBv1ZJav0c_yHEciAw',\n",
       "    'title': 'Comedians On Board 3 - Teaser #2',\n",
       "    'description': 'JOIN MY GRAPHY https://share.graphyapp.co/8K8w \\n\\nBECOME DIAMOND MEMBER HERE: https://go.chess.com/samay\\n\\nJOIN MY CLUB: https://www.chess.com/club/samay-raina-official\\n\\nJoin this channel to get access to perks:\\nhttps://www.youtube.com/channel/UCAov2BBv1ZJav0c_yHEciAw/join\\n\\nFollow me on instagram\\nhttps://www.instagram.com/maisamayhoon/\\n\\nJoin my discord:\\nhttps://discord.gg/maisamayhoon\\n\\nxxxxxxxxxxxxxxxxxxxxxxxxxxxxxxxxxxxxxx\\nThumbnail by Abhydaya Ram\\nEdited by Perception Films and Media',\n",
       "    'thumbnails': {'default': {'url': 'https://i.ytimg.com/vi/1u297lvvGJQ/default.jpg',\n",
       "      'width': 120,\n",
       "      'height': 90},\n",
       "     'medium': {'url': 'https://i.ytimg.com/vi/1u297lvvGJQ/mqdefault.jpg',\n",
       "      'width': 320,\n",
       "      'height': 180},\n",
       "     'high': {'url': 'https://i.ytimg.com/vi/1u297lvvGJQ/hqdefault.jpg',\n",
       "      'width': 480,\n",
       "      'height': 360},\n",
       "     'standard': {'url': 'https://i.ytimg.com/vi/1u297lvvGJQ/sddefault.jpg',\n",
       "      'width': 640,\n",
       "      'height': 480},\n",
       "     'maxres': {'url': 'https://i.ytimg.com/vi/1u297lvvGJQ/maxresdefault.jpg',\n",
       "      'width': 1280,\n",
       "      'height': 720}},\n",
       "    'channelTitle': 'Samay Raina',\n",
       "    'playlistId': 'UUAov2BBv1ZJav0c_yHEciAw',\n",
       "    'position': 19,\n",
       "    'resourceId': {'kind': 'youtube#video', 'videoId': '1u297lvvGJQ'}}},\n",
       "  {'kind': 'youtube#playlistItem',\n",
       "   'etag': '7xeuc4e-hkHl-fiwNE774jNfHf4',\n",
       "   'id': 'VVVBb3YyQkJ2MVpKYXYwY195SEVjaUF3LmxWXy16aUhnUDY4',\n",
       "   'snippet': {'publishedAt': '2020-11-18T10:02:18Z',\n",
       "    'channelId': 'UCAov2BBv1ZJav0c_yHEciAw',\n",
       "    'title': 'SASTEY IMPRACTICAL JOKERS EP 02 FT. @Karan Singh Boomer @GamerFleet',\n",
       "    'description': 'JOIN MY GRAPHY https://share.graphyapp.co/8K8w \\n\\nBECOME DIAMOND MEMBER HERE: https://go.chess.com/samay\\n\\nJOIN MY CLUB: https://www.chess.com/club/samay-raina-official\\n\\nJoin this channel to get access to perks:\\nhttps://www.youtube.com/channel/UCAov2BBv1ZJav0c_yHEciAw/join\\n\\nFollow me on instagram\\nhttps://www.instagram.com/maisamayhoon/\\n\\nJoin my discord:\\nhttps://discord.gg/maisamayhoon\\n\\nxxxxxxxxxxxxxxxxxxxxxxxxxxxxxxxxxxxxxxxxxxxxxxxxxxxxxxxxxxxxxxxxxxxx\\nEdited by editor of editors Billu Sanda',\n",
       "    'thumbnails': {'default': {'url': 'https://i.ytimg.com/vi/lV_-ziHgP68/default.jpg',\n",
       "      'width': 120,\n",
       "      'height': 90},\n",
       "     'medium': {'url': 'https://i.ytimg.com/vi/lV_-ziHgP68/mqdefault.jpg',\n",
       "      'width': 320,\n",
       "      'height': 180},\n",
       "     'high': {'url': 'https://i.ytimg.com/vi/lV_-ziHgP68/hqdefault.jpg',\n",
       "      'width': 480,\n",
       "      'height': 360},\n",
       "     'standard': {'url': 'https://i.ytimg.com/vi/lV_-ziHgP68/sddefault.jpg',\n",
       "      'width': 640,\n",
       "      'height': 480},\n",
       "     'maxres': {'url': 'https://i.ytimg.com/vi/lV_-ziHgP68/maxresdefault.jpg',\n",
       "      'width': 1280,\n",
       "      'height': 720}},\n",
       "    'channelTitle': 'Samay Raina',\n",
       "    'playlistId': 'UUAov2BBv1ZJav0c_yHEciAw',\n",
       "    'position': 20,\n",
       "    'resourceId': {'kind': 'youtube#video', 'videoId': 'lV_-ziHgP68'}}},\n",
       "  {'kind': 'youtube#playlistItem',\n",
       "   'etag': 'a503HitZvyOMXQKczjml9M-XtWM',\n",
       "   'id': 'VVVBb3YyQkJ2MVpKYXYwY195SEVjaUF3LmVPSlg3NFdqOWlJ',\n",
       "   'snippet': {'publishedAt': '2020-11-17T08:58:18Z',\n",
       "    'channelId': 'UCAov2BBv1ZJav0c_yHEciAw',\n",
       "    'title': 'COB 3 OFFICIAL TRAILER #1',\n",
       "    'description': 'JOIN MY GRAPHY https://share.graphyapp.co/8K8w \\n\\nBECOME DIAMOND MEMBER HERE: https://go.chess.com/samay\\n\\nJOIN MY CLUB: https://www.chess.com/club/samay-raina-official\\n\\nJoin this channel to get access to perks:\\nhttps://www.youtube.com/channel/UCAov2BBv1ZJav0c_yHEciAw/join\\n\\nFollow me on instagram\\nhttps://www.instagram.com/maisamayhoon/\\n\\nJoin my discord:\\nhttps://discord.gg/maisamayhoon\\n\\nXXXXXXXXXXXXXXXXXXXXXXXXXXXXXXXXXXXXXXXXXXXXXXXXXXXXXXXXXXXXXXXXXXXXXX\\nEdited by Perception Films and Media',\n",
       "    'thumbnails': {'default': {'url': 'https://i.ytimg.com/vi/eOJX74Wj9iI/default.jpg',\n",
       "      'width': 120,\n",
       "      'height': 90},\n",
       "     'medium': {'url': 'https://i.ytimg.com/vi/eOJX74Wj9iI/mqdefault.jpg',\n",
       "      'width': 320,\n",
       "      'height': 180},\n",
       "     'high': {'url': 'https://i.ytimg.com/vi/eOJX74Wj9iI/hqdefault.jpg',\n",
       "      'width': 480,\n",
       "      'height': 360},\n",
       "     'standard': {'url': 'https://i.ytimg.com/vi/eOJX74Wj9iI/sddefault.jpg',\n",
       "      'width': 640,\n",
       "      'height': 480},\n",
       "     'maxres': {'url': 'https://i.ytimg.com/vi/eOJX74Wj9iI/maxresdefault.jpg',\n",
       "      'width': 1280,\n",
       "      'height': 720}},\n",
       "    'channelTitle': 'Samay Raina',\n",
       "    'playlistId': 'UUAov2BBv1ZJav0c_yHEciAw',\n",
       "    'position': 21,\n",
       "    'resourceId': {'kind': 'youtube#video', 'videoId': 'eOJX74Wj9iI'}}},\n",
       "  {'kind': 'youtube#playlistItem',\n",
       "   'etag': 'IL_NhZjs6-f-mPxnWPcLv2cElJs',\n",
       "   'id': 'VVVBb3YyQkJ2MVpKYXYwY195SEVjaUF3LnZUT0hickMyQlpv',\n",
       "   'snippet': {'publishedAt': '2020-11-17T08:42:32Z',\n",
       "    'channelId': 'UCAov2BBv1ZJav0c_yHEciAw',\n",
       "    'title': 'CHESS FUNDAMENTALS ft. ARAVIND SA',\n",
       "    'description': 'JOIN MY GRAPHY https://share.graphyapp.co/8K8w \\n\\nBECOME DIAMOND MEMBER HERE: https://go.chess.com/samay\\n\\nJOIN MY CLUB: https://www.chess.com/club/samay-raina-official\\n\\nJoin this channel to get access to perks:\\nhttps://www.youtube.com/channel/UCAov2BBv1ZJav0c_yHEciAw/join\\n\\nFollow me on instagram\\nhttps://www.instagram.com/maisamayhoon/\\n\\nJoin my discord:\\nhttps://discord.gg/maisamayhoon',\n",
       "    'thumbnails': {'default': {'url': 'https://i.ytimg.com/vi/vTOHbrC2BZo/default.jpg',\n",
       "      'width': 120,\n",
       "      'height': 90},\n",
       "     'medium': {'url': 'https://i.ytimg.com/vi/vTOHbrC2BZo/mqdefault.jpg',\n",
       "      'width': 320,\n",
       "      'height': 180},\n",
       "     'high': {'url': 'https://i.ytimg.com/vi/vTOHbrC2BZo/hqdefault.jpg',\n",
       "      'width': 480,\n",
       "      'height': 360},\n",
       "     'standard': {'url': 'https://i.ytimg.com/vi/vTOHbrC2BZo/sddefault.jpg',\n",
       "      'width': 640,\n",
       "      'height': 480},\n",
       "     'maxres': {'url': 'https://i.ytimg.com/vi/vTOHbrC2BZo/maxresdefault.jpg',\n",
       "      'width': 1280,\n",
       "      'height': 720}},\n",
       "    'channelTitle': 'Samay Raina',\n",
       "    'playlistId': 'UUAov2BBv1ZJav0c_yHEciAw',\n",
       "    'position': 22,\n",
       "    'resourceId': {'kind': 'youtube#video', 'videoId': 'vTOHbrC2BZo'}}},\n",
       "  {'kind': 'youtube#playlistItem',\n",
       "   'etag': 'Lr0MJDiPavDTK63KPPwbRbJc-HI',\n",
       "   'id': 'VVVBb3YyQkJ2MVpKYXYwY195SEVjaUF3LkFqWkpDeVZmSXRr',\n",
       "   'snippet': {'publishedAt': '2020-11-16T19:01:17Z',\n",
       "    'channelId': 'UCAov2BBv1ZJav0c_yHEciAw',\n",
       "    'title': 'WE PRANK CALLED YOUTUBERS!',\n",
       "    'description': \"JOIN MY GRAPHY https://share.graphyapp.co/8K8w \\n\\nBECOME DIAMOND MEMBER HERE: https://go.chess.com/samay\\n\\nJOIN MY CLUB: https://www.chess.com/club/samay-raina-official\\n\\nJoin this channel to get access to perks:\\nhttps://www.youtube.com/channel/UCAov2BBv1ZJav0c_yHEciAw/join\\n\\nFollow me on instagram\\nhttps://www.instagram.com/maisamayhoon/\\n\\nJoin my discord:\\nhttps://discord.gg/maisamayhoon\\n\\nEdited by Undertaker's underwear taker Billu Sanda\",\n",
       "    'thumbnails': {'default': {'url': 'https://i.ytimg.com/vi/AjZJCyVfItk/default.jpg',\n",
       "      'width': 120,\n",
       "      'height': 90},\n",
       "     'medium': {'url': 'https://i.ytimg.com/vi/AjZJCyVfItk/mqdefault.jpg',\n",
       "      'width': 320,\n",
       "      'height': 180},\n",
       "     'high': {'url': 'https://i.ytimg.com/vi/AjZJCyVfItk/hqdefault.jpg',\n",
       "      'width': 480,\n",
       "      'height': 360},\n",
       "     'standard': {'url': 'https://i.ytimg.com/vi/AjZJCyVfItk/sddefault.jpg',\n",
       "      'width': 640,\n",
       "      'height': 480},\n",
       "     'maxres': {'url': 'https://i.ytimg.com/vi/AjZJCyVfItk/maxresdefault.jpg',\n",
       "      'width': 1280,\n",
       "      'height': 720}},\n",
       "    'channelTitle': 'Samay Raina',\n",
       "    'playlistId': 'UUAov2BBv1ZJav0c_yHEciAw',\n",
       "    'position': 23,\n",
       "    'resourceId': {'kind': 'youtube#video', 'videoId': 'AjZJCyVfItk'}}},\n",
       "  {'kind': 'youtube#playlistItem',\n",
       "   'etag': 'tYFFMgO9EsobXO3vzFYsz1mkz9g',\n",
       "   'id': 'VVVBb3YyQkJ2MVpKYXYwY195SEVjaUF3Lk4zbFdBZXNWZzhJ',\n",
       "   'snippet': {'publishedAt': '2020-11-16T07:43:23Z',\n",
       "    'channelId': 'UCAov2BBv1ZJav0c_yHEciAw',\n",
       "    'title': 'MEMBERS vs SUBS BATTLE against ALEXANDRA BOTEZ',\n",
       "    'description': 'WE WON!!!!!\\n\\nFOLLOW ALEXANDRA: https://www.twitch.tv/botezlive\\nFOLLOW KR$NA https://www.youtube.com/channel/UChDX4wagpTQS0aTm4eyhJaw\\n\\nJOIN MY GRAPHY https://share.graphyapp.co/8K8w \\n\\nBECOME DIAMOND MEMBER HERE: https://go.chess.com/samay\\n\\nJOIN MY CLUB: https://www.chess.com/club/samay-raina-official\\n\\nJoin this channel to get access to perks:\\nhttps://www.youtube.com/channel/UCAov2BBv1ZJav0c_yHEciAw/join\\n\\nFollow me on instagram\\nhttps://www.instagram.com/maisamayhoon/\\n\\nJoin my discord:\\nhttps://discord.gg/maisamayhoon',\n",
       "    'thumbnails': {'default': {'url': 'https://i.ytimg.com/vi/N3lWAesVg8I/default.jpg',\n",
       "      'width': 120,\n",
       "      'height': 90},\n",
       "     'medium': {'url': 'https://i.ytimg.com/vi/N3lWAesVg8I/mqdefault.jpg',\n",
       "      'width': 320,\n",
       "      'height': 180},\n",
       "     'high': {'url': 'https://i.ytimg.com/vi/N3lWAesVg8I/hqdefault.jpg',\n",
       "      'width': 480,\n",
       "      'height': 360},\n",
       "     'standard': {'url': 'https://i.ytimg.com/vi/N3lWAesVg8I/sddefault.jpg',\n",
       "      'width': 640,\n",
       "      'height': 480},\n",
       "     'maxres': {'url': 'https://i.ytimg.com/vi/N3lWAesVg8I/maxresdefault.jpg',\n",
       "      'width': 1280,\n",
       "      'height': 720}},\n",
       "    'channelTitle': 'Samay Raina',\n",
       "    'playlistId': 'UUAov2BBv1ZJav0c_yHEciAw',\n",
       "    'position': 24,\n",
       "    'resourceId': {'kind': 'youtube#video', 'videoId': 'N3lWAesVg8I'}}},\n",
       "  {'kind': 'youtube#playlistItem',\n",
       "   'etag': 'IO8PFUtvqqBlyQ4cFmu-7skhKLI',\n",
       "   'id': 'VVVBb3YyQkJ2MVpKYXYwY195SEVjaUF3LmNRaEtmZUt6SFZr',\n",
       "   'snippet': {'publishedAt': '2020-11-15T12:06:27Z',\n",
       "    'channelId': 'UCAov2BBv1ZJav0c_yHEciAw',\n",
       "    'title': 'IF SAMAY RAINA WAS MARIO | VIDEO BY @BeastStats',\n",
       "    'description': 'Beaststats is a very dear friend and fellow youtuber who streams chess. Do follow his channel for undergrounds streams. Only legends have heard our late night podcasts which we always private! His Animator Debaditya Roy has made this beautiful video! It is just so amazing.\\n\\n\\nJOIN MY GRAPHY https://share.graphyapp.co/8K8w \\n\\nBECOME DIAMOND MEMBER HERE: https://go.chess.com/samay\\n\\nJOIN MY CLUB: https://www.chess.com/club/samay-raina-official\\n\\nJoin this channel to get access to perks:\\nhttps://www.youtube.com/channel/UCAov2BBv1ZJav0c_yHEciAw/join\\n\\nFollow me on instagram\\nhttps://www.instagram.com/maisamayhoon/\\n\\nJoin my discord:\\nhttps://discord.gg/maisamayhoon',\n",
       "    'thumbnails': {'default': {'url': 'https://i.ytimg.com/vi/cQhKfeKzHVk/default.jpg',\n",
       "      'width': 120,\n",
       "      'height': 90},\n",
       "     'medium': {'url': 'https://i.ytimg.com/vi/cQhKfeKzHVk/mqdefault.jpg',\n",
       "      'width': 320,\n",
       "      'height': 180},\n",
       "     'high': {'url': 'https://i.ytimg.com/vi/cQhKfeKzHVk/hqdefault.jpg',\n",
       "      'width': 480,\n",
       "      'height': 360},\n",
       "     'standard': {'url': 'https://i.ytimg.com/vi/cQhKfeKzHVk/sddefault.jpg',\n",
       "      'width': 640,\n",
       "      'height': 480},\n",
       "     'maxres': {'url': 'https://i.ytimg.com/vi/cQhKfeKzHVk/maxresdefault.jpg',\n",
       "      'width': 1280,\n",
       "      'height': 720}},\n",
       "    'channelTitle': 'Samay Raina',\n",
       "    'playlistId': 'UUAov2BBv1ZJav0c_yHEciAw',\n",
       "    'position': 25,\n",
       "    'resourceId': {'kind': 'youtube#video', 'videoId': 'cQhKfeKzHVk'}}},\n",
       "  {'kind': 'youtube#playlistItem',\n",
       "   'etag': 'KYdOntGvwhoARdwB7TeFFA4SIX4',\n",
       "   'id': 'VVVBb3YyQkJ2MVpKYXYwY195SEVjaUF3LkdoQ21lWGpxTHo4',\n",
       "   'snippet': {'publishedAt': '2020-11-15T06:04:18Z',\n",
       "    'channelId': 'UCAov2BBv1ZJav0c_yHEciAw',\n",
       "    'title': 'SASTEY IMPRACTICAL JOKERS ft. @GamerFleet @RIDER OP',\n",
       "    'description': 'MY UPCOMING GRAPHY HERE https://share.graphyapp.co/8K8w \\n\\nBECOME DIAMOND MEMBER HERE: https://go.chess.com/samay\\n\\nJOIN MY CLUB: https://www.chess.com/club/samay-raina-official\\n\\nJoin this channel to get access to perks:\\nhttps://www.youtube.com/channel/UCAov2BBv1ZJav0c_yHEciAw/join\\n\\nFollow me on instagram\\nhttps://www.instagram.com/maisamayhoon/\\n\\nJoin my discord:\\nhttps://discord.gg/maisamayhoon',\n",
       "    'thumbnails': {'default': {'url': 'https://i.ytimg.com/vi/GhCmeXjqLz8/default.jpg',\n",
       "      'width': 120,\n",
       "      'height': 90},\n",
       "     'medium': {'url': 'https://i.ytimg.com/vi/GhCmeXjqLz8/mqdefault.jpg',\n",
       "      'width': 320,\n",
       "      'height': 180},\n",
       "     'high': {'url': 'https://i.ytimg.com/vi/GhCmeXjqLz8/hqdefault.jpg',\n",
       "      'width': 480,\n",
       "      'height': 360},\n",
       "     'standard': {'url': 'https://i.ytimg.com/vi/GhCmeXjqLz8/sddefault.jpg',\n",
       "      'width': 640,\n",
       "      'height': 480},\n",
       "     'maxres': {'url': 'https://i.ytimg.com/vi/GhCmeXjqLz8/maxresdefault.jpg',\n",
       "      'width': 1280,\n",
       "      'height': 720}},\n",
       "    'channelTitle': 'Samay Raina',\n",
       "    'playlistId': 'UUAov2BBv1ZJav0c_yHEciAw',\n",
       "    'position': 26,\n",
       "    'resourceId': {'kind': 'youtube#video', 'videoId': 'GhCmeXjqLz8'}}},\n",
       "  {'kind': 'youtube#playlistItem',\n",
       "   'etag': 'c2y0FaWWf3xPSHbVeAvxeQajnJo',\n",
       "   'id': 'VVVBb3YyQkJ2MVpKYXYwY195SEVjaUF3Lmw4X2NsZ0V3cWpV',\n",
       "   'snippet': {'publishedAt': '2020-11-13T17:44:50Z',\n",
       "    'channelId': 'UCAov2BBv1ZJav0c_yHEciAw',\n",
       "    'title': 'WWE, PRANK CALL AND MUCH MORE FT. SHAMERFLEET, JABY KOAY AND DANK RISHU',\n",
       "    'description': 'JOIN MY GRAPHY https://share.graphyapp.co/8K8w \\n\\nBECOME DIAMOND MEMBER HERE: https://go.chess.com/samay\\n\\nJOIN MY CLUB: https://www.chess.com/club/samay-raina-official\\n\\nJoin this channel to get access to perks:\\nhttps://www.youtube.com/channel/UCAov2BBv1ZJav0c_yHEciAw/join\\n\\nFollow me on instagram\\nhttps://www.instagram.com/maisamayhoon/\\n\\nJoin my discord:\\nhttps://discord.gg/maisamayhoon',\n",
       "    'thumbnails': {'default': {'url': 'https://i.ytimg.com/vi/l8_clgEwqjU/default.jpg',\n",
       "      'width': 120,\n",
       "      'height': 90},\n",
       "     'medium': {'url': 'https://i.ytimg.com/vi/l8_clgEwqjU/mqdefault.jpg',\n",
       "      'width': 320,\n",
       "      'height': 180},\n",
       "     'high': {'url': 'https://i.ytimg.com/vi/l8_clgEwqjU/hqdefault.jpg',\n",
       "      'width': 480,\n",
       "      'height': 360},\n",
       "     'standard': {'url': 'https://i.ytimg.com/vi/l8_clgEwqjU/sddefault.jpg',\n",
       "      'width': 640,\n",
       "      'height': 480},\n",
       "     'maxres': {'url': 'https://i.ytimg.com/vi/l8_clgEwqjU/maxresdefault.jpg',\n",
       "      'width': 1280,\n",
       "      'height': 720}},\n",
       "    'channelTitle': 'Samay Raina',\n",
       "    'playlistId': 'UUAov2BBv1ZJav0c_yHEciAw',\n",
       "    'position': 27,\n",
       "    'resourceId': {'kind': 'youtube#video', 'videoId': 'l8_clgEwqjU'}}},\n",
       "  {'kind': 'youtube#playlistItem',\n",
       "   'etag': 'gxyAEXkU45UBMXUQrg4Ux8WGe0I',\n",
       "   'id': 'VVVBb3YyQkJ2MVpKYXYwY195SEVjaUF3LjBpZ1Fkd3ZVaW5r',\n",
       "   'snippet': {'publishedAt': '2020-11-11T22:04:25Z',\n",
       "    'channelId': 'UCAov2BBv1ZJav0c_yHEciAw',\n",
       "    'title': 'MEMBERS vs SUBS BATTLE FT. ANNA RUDOLF',\n",
       "    'description': 'Have selected 13 members from discord. This is why I ask you to join discord.\\nDiscord link: https://discord.gg/maisamayhoon\\n\\nJOIN MY GRAPHY https://share.graphyapp.co/8K8w \\n\\nBECOME DIAMOND MEMBER HERE: https://go.chess.com/samay\\n\\nJOIN MY CLUB: https://www.chess.com/club/samay-raina-official\\n\\nJoin this channel to get access to perks:\\nhttps://www.youtube.com/channel/UCAov2BBv1ZJav0c_yHEciAw/join\\n\\nFollow me on instagram\\nhttps://www.instagram.com/maisamayhoon/',\n",
       "    'thumbnails': {'default': {'url': 'https://i.ytimg.com/vi/0igQdwvUink/default.jpg',\n",
       "      'width': 120,\n",
       "      'height': 90},\n",
       "     'medium': {'url': 'https://i.ytimg.com/vi/0igQdwvUink/mqdefault.jpg',\n",
       "      'width': 320,\n",
       "      'height': 180},\n",
       "     'high': {'url': 'https://i.ytimg.com/vi/0igQdwvUink/hqdefault.jpg',\n",
       "      'width': 480,\n",
       "      'height': 360},\n",
       "     'standard': {'url': 'https://i.ytimg.com/vi/0igQdwvUink/sddefault.jpg',\n",
       "      'width': 640,\n",
       "      'height': 480},\n",
       "     'maxres': {'url': 'https://i.ytimg.com/vi/0igQdwvUink/maxresdefault.jpg',\n",
       "      'width': 1280,\n",
       "      'height': 720}},\n",
       "    'channelTitle': 'Samay Raina',\n",
       "    'playlistId': 'UUAov2BBv1ZJav0c_yHEciAw',\n",
       "    'position': 28,\n",
       "    'resourceId': {'kind': 'youtube#video', 'videoId': '0igQdwvUink'}}},\n",
       "  {'kind': 'youtube#playlistItem',\n",
       "   'etag': 'C5C8DsaVf6GaQ79nIYyOiG5nVts',\n",
       "   'id': 'VVVBb3YyQkJ2MVpKYXYwY195SEVjaUF3LkdwS2s0S2pqejVR',\n",
       "   'snippet': {'publishedAt': '2020-11-10T18:37:28Z',\n",
       "    'channelId': 'UCAov2BBv1ZJav0c_yHEciAw',\n",
       "    'title': 'HUMAN FALL FLAT FT. CHOWKDI - KSB + RIDEROP',\n",
       "    'description': 'JOIN MY GRAPHY https://share.graphyapp.co/8K8w \\n\\nBECOME DIAMOND MEMBER HERE: https://go.chess.com/samay\\n\\nJOIN MY CLUB: https://www.chess.com/club/samay-raina-official\\n\\nJoin this channel to get access to perks:\\nhttps://www.youtube.com/channel/UCAov2BBv1ZJav0c_yHEciAw/join\\n\\nFollow me on instagram\\nhttps://www.instagram.com/maisamayhoon/\\n\\nJoin my discord:\\nhttps://discord.gg/f2QqKab',\n",
       "    'thumbnails': {'default': {'url': 'https://i.ytimg.com/vi/GpKk4Kjjz5Q/default.jpg',\n",
       "      'width': 120,\n",
       "      'height': 90},\n",
       "     'medium': {'url': 'https://i.ytimg.com/vi/GpKk4Kjjz5Q/mqdefault.jpg',\n",
       "      'width': 320,\n",
       "      'height': 180},\n",
       "     'high': {'url': 'https://i.ytimg.com/vi/GpKk4Kjjz5Q/hqdefault.jpg',\n",
       "      'width': 480,\n",
       "      'height': 360},\n",
       "     'standard': {'url': 'https://i.ytimg.com/vi/GpKk4Kjjz5Q/sddefault.jpg',\n",
       "      'width': 640,\n",
       "      'height': 480},\n",
       "     'maxres': {'url': 'https://i.ytimg.com/vi/GpKk4Kjjz5Q/maxresdefault.jpg',\n",
       "      'width': 1280,\n",
       "      'height': 720}},\n",
       "    'channelTitle': 'Samay Raina',\n",
       "    'playlistId': 'UUAov2BBv1ZJav0c_yHEciAw',\n",
       "    'position': 29,\n",
       "    'resourceId': {'kind': 'youtube#video', 'videoId': 'GpKk4Kjjz5Q'}}},\n",
       "  {'kind': 'youtube#playlistItem',\n",
       "   'etag': 'rR0SaOzk2z6QX_zTllAfGtJURZ8',\n",
       "   'id': 'VVVBb3YyQkJ2MVpKYXYwY195SEVjaUF3LlRXUlRSb3VYVHpn',\n",
       "   'snippet': {'publishedAt': '2020-11-10T14:06:24Z',\n",
       "    'channelId': 'UCAov2BBv1ZJav0c_yHEciAw',\n",
       "    'title': 'I LOST THE CHALLENGE SO I WILL LOSE 6.5 KILOS IN 30 DAYS',\n",
       "    'description': 'JOIN MY GRAPHY https://share.graphyapp.co/8K8w \\n\\nBECOME DIAMOND MEMBER HERE: https://go.chess.com/samay\\n\\nJOIN MY CLUB: https://www.chess.com/club/samay-raina-official\\n\\nJoin this channel to get access to perks:\\nhttps://www.youtube.com/channel/UCAov2BBv1ZJav0c_yHEciAw/join\\n\\nFollow me on instagram\\nhttps://www.instagram.com/maisamayhoon/\\n\\nJoin my discord:\\nhttps://discord.gg/f2QqKab',\n",
       "    'thumbnails': {'default': {'url': 'https://i.ytimg.com/vi/TWRTRouXTzg/default.jpg',\n",
       "      'width': 120,\n",
       "      'height': 90},\n",
       "     'medium': {'url': 'https://i.ytimg.com/vi/TWRTRouXTzg/mqdefault.jpg',\n",
       "      'width': 320,\n",
       "      'height': 180},\n",
       "     'high': {'url': 'https://i.ytimg.com/vi/TWRTRouXTzg/hqdefault.jpg',\n",
       "      'width': 480,\n",
       "      'height': 360},\n",
       "     'standard': {'url': 'https://i.ytimg.com/vi/TWRTRouXTzg/sddefault.jpg',\n",
       "      'width': 640,\n",
       "      'height': 480},\n",
       "     'maxres': {'url': 'https://i.ytimg.com/vi/TWRTRouXTzg/maxresdefault.jpg',\n",
       "      'width': 1280,\n",
       "      'height': 720}},\n",
       "    'channelTitle': 'Samay Raina',\n",
       "    'playlistId': 'UUAov2BBv1ZJav0c_yHEciAw',\n",
       "    'position': 30,\n",
       "    'resourceId': {'kind': 'youtube#video', 'videoId': 'TWRTRouXTzg'}}},\n",
       "  {'kind': 'youtube#playlistItem',\n",
       "   'etag': '_tVaCdQZ9uQ8MtCYaw_TOiun12g',\n",
       "   'id': 'VVVBb3YyQkJ2MVpKYXYwY195SEVjaUF3LnNRYkw2YVhVYjdz',\n",
       "   'snippet': {'publishedAt': '2020-11-10T04:07:51Z',\n",
       "    'channelId': 'UCAov2BBv1ZJav0c_yHEciAw',\n",
       "    'title': 'BEST OF THE WEEK 9 | SAMAY RAINA',\n",
       "    'description': 'Website: https://bit.ly/3mo2nvg\\n\\n (Use code samay2020 for 20% OFF at Mamaearth)\\n\\nAmazon: https://amzn.to/3jaB6uT\\n\\nNykaa: https://bit.ly/3mmnbDd\\n\\nFlipkart: https://bit.ly/3cGhzjN\\n\\nMamaEarth is a sponsor partner for this video\\n\\nxxxxxxxxxxxxxxxxxxxxxxxxxxxxxxxxxxxxxxxxx\\n\\n\\nJOIN MY GRAPHY https://share.graphyapp.co/8K8w \\n\\nBECOME DIAMOND MEMBER HERE: https://go.chess.com/samay\\n\\nJOIN MY CLUB: https://www.chess.com/club/samay-raina-official\\n\\nJoin this channel to get access to perks:\\nhttps://www.youtube.com/channel/UCAov2BBv1ZJav0c_yHEciAw/join\\n\\nFollow me on instagram\\nhttps://www.instagram.com/maisamayhoon/\\n\\nJoin my discord:\\nhttps://discord.gg/f2QqKab',\n",
       "    'thumbnails': {'default': {'url': 'https://i.ytimg.com/vi/sQbL6aXUb7s/default.jpg',\n",
       "      'width': 120,\n",
       "      'height': 90},\n",
       "     'medium': {'url': 'https://i.ytimg.com/vi/sQbL6aXUb7s/mqdefault.jpg',\n",
       "      'width': 320,\n",
       "      'height': 180},\n",
       "     'high': {'url': 'https://i.ytimg.com/vi/sQbL6aXUb7s/hqdefault.jpg',\n",
       "      'width': 480,\n",
       "      'height': 360},\n",
       "     'standard': {'url': 'https://i.ytimg.com/vi/sQbL6aXUb7s/sddefault.jpg',\n",
       "      'width': 640,\n",
       "      'height': 480},\n",
       "     'maxres': {'url': 'https://i.ytimg.com/vi/sQbL6aXUb7s/maxresdefault.jpg',\n",
       "      'width': 1280,\n",
       "      'height': 720}},\n",
       "    'channelTitle': 'Samay Raina',\n",
       "    'playlistId': 'UUAov2BBv1ZJav0c_yHEciAw',\n",
       "    'position': 31,\n",
       "    'resourceId': {'kind': 'youtube#video', 'videoId': 'sQbL6aXUb7s'}}},\n",
       "  {'kind': 'youtube#playlistItem',\n",
       "   'etag': 'JYQQp0jEbA_ebY-2nAcCAvmakwg',\n",
       "   'id': 'VVVBb3YyQkJ2MVpKYXYwY195SEVjaUF3LmIzZ0xVZk1XVGV3',\n",
       "   'snippet': {'publishedAt': '2020-11-09T16:28:53Z',\n",
       "    'channelId': 'UCAov2BBv1ZJav0c_yHEciAw',\n",
       "    'title': 'BM ADOPTED BY GM',\n",
       "    'description': 'JOIN MY GRAPHY https://share.graphyapp.co/8K8w \\n\\nJOIN MY CLUB: https://www.chess.com/club/samay-raina-official\\n\\nJoin this channel to get access to perks:\\nhttps://www.youtube.com/channel/UCAov2BBv1ZJav0c_yHEciAw/join\\n\\nFollow me on instagram\\nhttps://www.instagram.com/maisamayhoon/\\n\\nJoin my discord:\\nhttps://discord.gg/f2QqKab',\n",
       "    'thumbnails': {'default': {'url': 'https://i.ytimg.com/vi/b3gLUfMWTew/default.jpg',\n",
       "      'width': 120,\n",
       "      'height': 90},\n",
       "     'medium': {'url': 'https://i.ytimg.com/vi/b3gLUfMWTew/mqdefault.jpg',\n",
       "      'width': 320,\n",
       "      'height': 180},\n",
       "     'high': {'url': 'https://i.ytimg.com/vi/b3gLUfMWTew/hqdefault.jpg',\n",
       "      'width': 480,\n",
       "      'height': 360},\n",
       "     'standard': {'url': 'https://i.ytimg.com/vi/b3gLUfMWTew/sddefault.jpg',\n",
       "      'width': 640,\n",
       "      'height': 480},\n",
       "     'maxres': {'url': 'https://i.ytimg.com/vi/b3gLUfMWTew/maxresdefault.jpg',\n",
       "      'width': 1280,\n",
       "      'height': 720}},\n",
       "    'channelTitle': 'Samay Raina',\n",
       "    'playlistId': 'UUAov2BBv1ZJav0c_yHEciAw',\n",
       "    'position': 32,\n",
       "    'resourceId': {'kind': 'youtube#video', 'videoId': 'b3gLUfMWTew'}}},\n",
       "  {'kind': 'youtube#playlistItem',\n",
       "   'etag': '9srM6pfiEYKndLWPcv8wd4r4-RQ',\n",
       "   'id': 'VVVBb3YyQkJ2MVpKYXYwY195SEVjaUF3Lnp5ZlBxY2tiamhn',\n",
       "   'snippet': {'publishedAt': '2020-11-09T14:27:25Z',\n",
       "    'channelId': 'UCAov2BBv1ZJav0c_yHEciAw',\n",
       "    'title': \"IF I DON'T REACH 1500 BEFORE 10 PM THEN I REVEAL MY GIRL FRIEND\",\n",
       "    'description': 'JOIN MY GRAPHY https://share.graphyapp.co/8K8w \\n\\nJOIN MY CLUB: https://www.chess.com/club/samay-raina-official\\n\\nJoin this channel to get access to perks:\\nhttps://www.youtube.com/channel/UCAov2BBv1ZJav0c_yHEciAw/join\\n\\nFollow me on instagram\\nhttps://www.instagram.com/maisamayhoon/\\n\\nJoin my discord:\\nhttps://discord.gg/f2QqKab',\n",
       "    'thumbnails': {'default': {'url': 'https://i.ytimg.com/vi/zyfPqckbjhg/default.jpg',\n",
       "      'width': 120,\n",
       "      'height': 90},\n",
       "     'medium': {'url': 'https://i.ytimg.com/vi/zyfPqckbjhg/mqdefault.jpg',\n",
       "      'width': 320,\n",
       "      'height': 180},\n",
       "     'high': {'url': 'https://i.ytimg.com/vi/zyfPqckbjhg/hqdefault.jpg',\n",
       "      'width': 480,\n",
       "      'height': 360},\n",
       "     'standard': {'url': 'https://i.ytimg.com/vi/zyfPqckbjhg/sddefault.jpg',\n",
       "      'width': 640,\n",
       "      'height': 480},\n",
       "     'maxres': {'url': 'https://i.ytimg.com/vi/zyfPqckbjhg/maxresdefault.jpg',\n",
       "      'width': 1280,\n",
       "      'height': 720}},\n",
       "    'channelTitle': 'Samay Raina',\n",
       "    'playlistId': 'UUAov2BBv1ZJav0c_yHEciAw',\n",
       "    'position': 33,\n",
       "    'resourceId': {'kind': 'youtube#video', 'videoId': 'zyfPqckbjhg'}}},\n",
       "  {'kind': 'youtube#playlistItem',\n",
       "   'etag': 'CGRALqNNjZRLVySvMsSazwtscJM',\n",
       "   'id': 'VVVBb3YyQkJ2MVpKYXYwY195SEVjaUF3LjJ4S0NuRXJLRUVv',\n",
       "   'snippet': {'publishedAt': '2020-11-08T09:39:49Z',\n",
       "    'channelId': 'UCAov2BBv1ZJav0c_yHEciAw',\n",
       "    'title': 'A brief history of time.....500K Special 💖💖💖',\n",
       "    'description': 'Thank you guys for giving me all the love. This video just brings back all the sweet memories made through this journey!',\n",
       "    'thumbnails': {'default': {'url': 'https://i.ytimg.com/vi/2xKCnErKEEo/default.jpg',\n",
       "      'width': 120,\n",
       "      'height': 90},\n",
       "     'medium': {'url': 'https://i.ytimg.com/vi/2xKCnErKEEo/mqdefault.jpg',\n",
       "      'width': 320,\n",
       "      'height': 180},\n",
       "     'high': {'url': 'https://i.ytimg.com/vi/2xKCnErKEEo/hqdefault.jpg',\n",
       "      'width': 480,\n",
       "      'height': 360},\n",
       "     'standard': {'url': 'https://i.ytimg.com/vi/2xKCnErKEEo/sddefault.jpg',\n",
       "      'width': 640,\n",
       "      'height': 480},\n",
       "     'maxres': {'url': 'https://i.ytimg.com/vi/2xKCnErKEEo/maxresdefault.jpg',\n",
       "      'width': 1280,\n",
       "      'height': 720}},\n",
       "    'channelTitle': 'Samay Raina',\n",
       "    'playlistId': 'UUAov2BBv1ZJav0c_yHEciAw',\n",
       "    'position': 34,\n",
       "    'resourceId': {'kind': 'youtube#video', 'videoId': '2xKCnErKEEo'}}},\n",
       "  {'kind': 'youtube#playlistItem',\n",
       "   'etag': 'FUCjWyHLnQq5qnHC3daWIfYDe2U',\n",
       "   'id': 'VVVBb3YyQkJ2MVpKYXYwY195SEVjaUF3LjQzdTM1SkEzdlAw',\n",
       "   'snippet': {'publishedAt': '2020-11-08T07:03:10Z',\n",
       "    'channelId': 'UCAov2BBv1ZJav0c_yHEciAw',\n",
       "    'title': 'Training Kenny cuz he loves Chess now ft. Kusha #COB3',\n",
       "    'description': 'JOIN MY GRAPHY https://share.graphyapp.co/8K8w \\n\\nBECOME DIAMOND MEMBER HERE: https://go.chess.com/samay\\n\\nJOIN MY CLUB: https://www.chess.com/club/samay-raina-official\\n\\nJoin this channel to get access to perks:\\nhttps://www.youtube.com/channel/UCAov2BBv1ZJav0c_yHEciAw/join\\n\\nFollow me on instagram\\nhttps://www.instagram.com/maisamayhoon/\\n\\nJoin my discord:\\nhttps://discord.gg/f2QqKab',\n",
       "    'thumbnails': {'default': {'url': 'https://i.ytimg.com/vi/43u35JA3vP0/default.jpg',\n",
       "      'width': 120,\n",
       "      'height': 90},\n",
       "     'medium': {'url': 'https://i.ytimg.com/vi/43u35JA3vP0/mqdefault.jpg',\n",
       "      'width': 320,\n",
       "      'height': 180},\n",
       "     'high': {'url': 'https://i.ytimg.com/vi/43u35JA3vP0/hqdefault.jpg',\n",
       "      'width': 480,\n",
       "      'height': 360},\n",
       "     'standard': {'url': 'https://i.ytimg.com/vi/43u35JA3vP0/sddefault.jpg',\n",
       "      'width': 640,\n",
       "      'height': 480},\n",
       "     'maxres': {'url': 'https://i.ytimg.com/vi/43u35JA3vP0/maxresdefault.jpg',\n",
       "      'width': 1280,\n",
       "      'height': 720}},\n",
       "    'channelTitle': 'Samay Raina',\n",
       "    'playlistId': 'UUAov2BBv1ZJav0c_yHEciAw',\n",
       "    'position': 35,\n",
       "    'resourceId': {'kind': 'youtube#video', 'videoId': '43u35JA3vP0'}}},\n",
       "  {'kind': 'youtube#playlistItem',\n",
       "   'etag': 'wYA4hkSL09ec4OcmEYD7jbcRkWA',\n",
       "   'id': 'VVVBb3YyQkJ2MVpKYXYwY195SEVjaUF3LkpuOVBWTVBPQnNN',\n",
       "   'snippet': {'publishedAt': '2020-11-07T17:17:20Z',\n",
       "    'channelId': 'UCAov2BBv1ZJav0c_yHEciAw',\n",
       "    'title': 'Human Fall Flat ft. Chowkdi',\n",
       "    'description': 'BECOME DIAMOND MEMBER HERE: https://go.chess.com/samay\\n\\nJOIN MY CLUB: https://www.chess.com/club/samay-raina-official\\n\\nJoin this channel to get access to perks:\\nhttps://www.youtube.com/channel/UCAov2BBv1ZJav0c_yHEciAw/join\\n\\nFollow me on instagram\\nhttps://www.instagram.com/maisamayhoon/\\n\\nJoin my discord:\\nhttps://discord.gg/f2QqKab',\n",
       "    'thumbnails': {'default': {'url': 'https://i.ytimg.com/vi/Jn9PVMPOBsM/default.jpg',\n",
       "      'width': 120,\n",
       "      'height': 90},\n",
       "     'medium': {'url': 'https://i.ytimg.com/vi/Jn9PVMPOBsM/mqdefault.jpg',\n",
       "      'width': 320,\n",
       "      'height': 180},\n",
       "     'high': {'url': 'https://i.ytimg.com/vi/Jn9PVMPOBsM/hqdefault.jpg',\n",
       "      'width': 480,\n",
       "      'height': 360},\n",
       "     'standard': {'url': 'https://i.ytimg.com/vi/Jn9PVMPOBsM/sddefault.jpg',\n",
       "      'width': 640,\n",
       "      'height': 480},\n",
       "     'maxres': {'url': 'https://i.ytimg.com/vi/Jn9PVMPOBsM/maxresdefault.jpg',\n",
       "      'width': 1280,\n",
       "      'height': 720}},\n",
       "    'channelTitle': 'Samay Raina',\n",
       "    'playlistId': 'UUAov2BBv1ZJav0c_yHEciAw',\n",
       "    'position': 36,\n",
       "    'resourceId': {'kind': 'youtube#video', 'videoId': 'Jn9PVMPOBsM'}}},\n",
       "  {'kind': 'youtube#playlistItem',\n",
       "   'etag': 'cq9uKYjqhAZOhOT5TI7gbo7nh5s',\n",
       "   'id': 'VVVBb3YyQkJ2MVpKYXYwY195SEVjaUF3LjRmYjk2VzVTaDFB',\n",
       "   'snippet': {'publishedAt': '2020-11-07T14:16:59Z',\n",
       "    'channelId': 'UCAov2BBv1ZJav0c_yHEciAw',\n",
       "    'title': 'Reaching 1400 before reaching 500K',\n",
       "    'description': 'Join Graphy: https://share.graphyapp.co/8K8w\\n\\nBECOME DIAMOND MEMBER HERE: https://go.chess.com/samay\\n\\nJOIN MY CLUB: https://www.chess.com/club/samay-raina-official\\n\\nJoin this channel to get access to perks:\\nhttps://www.youtube.com/channel/UCAov2BBv1ZJav0c_yHEciAw/join\\n\\nFollow me on instagram\\nhttps://www.instagram.com/maisamayhoon/\\n\\nJoin my discord:\\nhttps://discord.gg/f2QqKab',\n",
       "    'thumbnails': {'default': {'url': 'https://i.ytimg.com/vi/4fb96W5Sh1A/default.jpg',\n",
       "      'width': 120,\n",
       "      'height': 90},\n",
       "     'medium': {'url': 'https://i.ytimg.com/vi/4fb96W5Sh1A/mqdefault.jpg',\n",
       "      'width': 320,\n",
       "      'height': 180},\n",
       "     'high': {'url': 'https://i.ytimg.com/vi/4fb96W5Sh1A/hqdefault.jpg',\n",
       "      'width': 480,\n",
       "      'height': 360},\n",
       "     'standard': {'url': 'https://i.ytimg.com/vi/4fb96W5Sh1A/sddefault.jpg',\n",
       "      'width': 640,\n",
       "      'height': 480},\n",
       "     'maxres': {'url': 'https://i.ytimg.com/vi/4fb96W5Sh1A/maxresdefault.jpg',\n",
       "      'width': 1280,\n",
       "      'height': 720}},\n",
       "    'channelTitle': 'Samay Raina',\n",
       "    'playlistId': 'UUAov2BBv1ZJav0c_yHEciAw',\n",
       "    'position': 37,\n",
       "    'resourceId': {'kind': 'youtube#video', 'videoId': '4fb96W5Sh1A'}}},\n",
       "  {'kind': 'youtube#playlistItem',\n",
       "   'etag': 'rw_EgAKQr8YMHyl9BQIKUWJtJtc',\n",
       "   'id': 'VVVBb3YyQkJ2MVpKYXYwY195SEVjaUF3LkdRTFdIRXBMNGRJ',\n",
       "   'snippet': {'publishedAt': '2020-11-07T12:18:49Z',\n",
       "    'channelId': 'UCAov2BBv1ZJav0c_yHEciAw',\n",
       "    'title': \"Grand Finale |  Red bull Rubik's Cube ft. KSM and Soham\",\n",
       "    'description': 'Catch the Red Bull Rubiks Cube World Cup here today: https://www.redbull.com/in-en/event-series/rubiks-world-cup\\n\\nAs a kid, the Rubik’s cube always intrigued Soham. After years of messing around with it, he finally learned to solve the cube in 2015 and was instantly hooked! Soha, started attending competition after competition trying to get better every time.  It wasn’t too long before he found himself organising  Speedcubing tournaments. The sense of community is what keeps him going on the path to get cubing recognized as a sport!\\nFollow him here: https://www.youtube.com/channel/UC2AqPMLYBwY_E5jU0mO2dWA\\n\\nxxxxxxxxxxxxxxxxxxxxxxxxxxxxxxxxxxxxxxxxxxxxxxxxxxxxxxxxxxxxxxxxxxxxxxxxxxxxx\\n\\nBECOME DIAMOND MEMBER HERE: https://go.chess.com/samay\\n\\nJOIN MY CLUB: https://www.chess.com/club/samay-raina-official\\n\\nJoin this channel to get access to perks:\\nhttps://www.youtube.com/channel/UCAov2BBv1ZJav0c_yHEciAw/join\\n\\nFollow me on instagram\\nhttps://www.instagram.com/maisamayhoon/\\n\\nJoin my discord:\\nhttps://discord.gg/f2QqKab',\n",
       "    'thumbnails': {'default': {'url': 'https://i.ytimg.com/vi/GQLWHEpL4dI/default.jpg',\n",
       "      'width': 120,\n",
       "      'height': 90},\n",
       "     'medium': {'url': 'https://i.ytimg.com/vi/GQLWHEpL4dI/mqdefault.jpg',\n",
       "      'width': 320,\n",
       "      'height': 180},\n",
       "     'high': {'url': 'https://i.ytimg.com/vi/GQLWHEpL4dI/hqdefault.jpg',\n",
       "      'width': 480,\n",
       "      'height': 360},\n",
       "     'standard': {'url': 'https://i.ytimg.com/vi/GQLWHEpL4dI/sddefault.jpg',\n",
       "      'width': 640,\n",
       "      'height': 480},\n",
       "     'maxres': {'url': 'https://i.ytimg.com/vi/GQLWHEpL4dI/maxresdefault.jpg',\n",
       "      'width': 1280,\n",
       "      'height': 720}},\n",
       "    'channelTitle': 'Samay Raina',\n",
       "    'playlistId': 'UUAov2BBv1ZJav0c_yHEciAw',\n",
       "    'position': 38,\n",
       "    'resourceId': {'kind': 'youtube#video', 'videoId': 'GQLWHEpL4dI'}}},\n",
       "  {'kind': 'youtube#playlistItem',\n",
       "   'etag': '5E-jgwRTyEm-PTfyP_4QE4iNp7Y',\n",
       "   'id': 'VVVBb3YyQkJ2MVpKYXYwY195SEVjaUF3LkxvRk5MUm1YaFlz',\n",
       "   'snippet': {'publishedAt': '2020-11-07T07:35:42Z',\n",
       "    'channelId': 'UCAov2BBv1ZJav0c_yHEciAw',\n",
       "    'title': 'Curb you dare - Miniclip #17',\n",
       "    'description': 'BECOME DIAMOND MEMBER HERE: https://go.chess.com/samay\\n\\nJOIN MY CLUB: https://www.chess.com/club/samay-raina-official\\n\\nJoin this channel to get access to perks:\\nhttps://www.youtube.com/channel/UCAov2BBv1ZJav0c_yHEciAw/join\\n\\nFollow me on instagram\\nhttps://www.instagram.com/maisamayhoon/\\n\\nJoin my discord:\\nhttps://discord.gg/f2QqKab',\n",
       "    'thumbnails': {'default': {'url': 'https://i.ytimg.com/vi/LoFNLRmXhYs/default.jpg',\n",
       "      'width': 120,\n",
       "      'height': 90},\n",
       "     'medium': {'url': 'https://i.ytimg.com/vi/LoFNLRmXhYs/mqdefault.jpg',\n",
       "      'width': 320,\n",
       "      'height': 180},\n",
       "     'high': {'url': 'https://i.ytimg.com/vi/LoFNLRmXhYs/hqdefault.jpg',\n",
       "      'width': 480,\n",
       "      'height': 360},\n",
       "     'standard': {'url': 'https://i.ytimg.com/vi/LoFNLRmXhYs/sddefault.jpg',\n",
       "      'width': 640,\n",
       "      'height': 480},\n",
       "     'maxres': {'url': 'https://i.ytimg.com/vi/LoFNLRmXhYs/maxresdefault.jpg',\n",
       "      'width': 1280,\n",
       "      'height': 720}},\n",
       "    'channelTitle': 'Samay Raina',\n",
       "    'playlistId': 'UUAov2BBv1ZJav0c_yHEciAw',\n",
       "    'position': 39,\n",
       "    'resourceId': {'kind': 'youtube#video', 'videoId': 'LoFNLRmXhYs'}}},\n",
       "  {'kind': 'youtube#playlistItem',\n",
       "   'etag': 'jqXMjInfwYdCKu0NorWJM2DzzQc',\n",
       "   'id': 'VVVBb3YyQkJ2MVpKYXYwY195SEVjaUF3LjdjUi1QZWhEQ180',\n",
       "   'snippet': {'publishedAt': '2020-11-06T12:07:58Z',\n",
       "    'channelId': 'UCAov2BBv1ZJav0c_yHEciAw',\n",
       "    'title': 'Kenny Sebastian vs Sapan Verma | Samay Raina',\n",
       "    'description': 'Download Graphy: https://share.graphyapp.co/8K8w\\n\\nBECOME DIAMOND MEMBER HERE: https://go.chess.com/samay\\n\\nJOIN MY CLUB: https://www.chess.com/club/samay-raina-official\\n\\nJoin this channel to get access to perks:\\nhttps://www.youtube.com/channel/UCAov2BBv1ZJav0c_yHEciAw/join\\n\\nFollow me on instagram\\nhttps://www.instagram.com/maisamayhoon/\\n\\nJoin my discord:\\nhttps://discord.gg/f2QqKab',\n",
       "    'thumbnails': {'default': {'url': 'https://i.ytimg.com/vi/7cR-PehDC_4/default.jpg',\n",
       "      'width': 120,\n",
       "      'height': 90},\n",
       "     'medium': {'url': 'https://i.ytimg.com/vi/7cR-PehDC_4/mqdefault.jpg',\n",
       "      'width': 320,\n",
       "      'height': 180},\n",
       "     'high': {'url': 'https://i.ytimg.com/vi/7cR-PehDC_4/hqdefault.jpg',\n",
       "      'width': 480,\n",
       "      'height': 360},\n",
       "     'standard': {'url': 'https://i.ytimg.com/vi/7cR-PehDC_4/sddefault.jpg',\n",
       "      'width': 640,\n",
       "      'height': 480},\n",
       "     'maxres': {'url': 'https://i.ytimg.com/vi/7cR-PehDC_4/maxresdefault.jpg',\n",
       "      'width': 1280,\n",
       "      'height': 720}},\n",
       "    'channelTitle': 'Samay Raina',\n",
       "    'playlistId': 'UUAov2BBv1ZJav0c_yHEciAw',\n",
       "    'position': 40,\n",
       "    'resourceId': {'kind': 'youtube#video', 'videoId': '7cR-PehDC_4'}}},\n",
       "  {'kind': 'youtube#playlistItem',\n",
       "   'etag': 'DQsIGsl4ksKxfyv8jtu3LCX3JyE',\n",
       "   'id': 'VVVBb3YyQkJ2MVpKYXYwY195SEVjaUF3LnVHdXBJdGdpWWFF',\n",
       "   'snippet': {'publishedAt': '2020-11-06T12:03:31Z',\n",
       "    'channelId': 'UCAov2BBv1ZJav0c_yHEciAw',\n",
       "    'title': \"Learn how to Cube EP 04 - Finishing the Cube | Red bull Rubik's cube ft. Tania Sachdev\",\n",
       "    'description': \"Super excited to teach Tania Sachdev - a complete beginner to cubing - how to solve the Rubik's cube from scratch. Tune in for learning and fun!\\nWatch the world final for the Red Bull Rubik's cube on https://www.redbull.com/in-en/event-series/rubiks-world-cup on 7th November!\\n\\nxxxxxxxxxxxxxxxxxxxxxxxxxxxxxxxxxxxxxxxxxxxxxxxxxxxxxxxxxxxxx\\n\\nBECOME DIAMOND MEMBER HERE: https://go.chess.com/samay\\n\\nJOIN MY CLUB: https://www.chess.com/club/samay-raina-official\\n\\nJoin this channel to get access to perks:\\nhttps://www.youtube.com/channel/UCAov2BBv1ZJav0c_yHEciAw/join\\n\\nFollow me on instagram\\nhttps://www.instagram.com/maisamayhoon/\\n\\nJoin my discord:\\nhttps://discord.gg/f2QqKab\",\n",
       "    'thumbnails': {'default': {'url': 'https://i.ytimg.com/vi/uGupItgiYaE/default.jpg',\n",
       "      'width': 120,\n",
       "      'height': 90},\n",
       "     'medium': {'url': 'https://i.ytimg.com/vi/uGupItgiYaE/mqdefault.jpg',\n",
       "      'width': 320,\n",
       "      'height': 180},\n",
       "     'high': {'url': 'https://i.ytimg.com/vi/uGupItgiYaE/hqdefault.jpg',\n",
       "      'width': 480,\n",
       "      'height': 360},\n",
       "     'standard': {'url': 'https://i.ytimg.com/vi/uGupItgiYaE/sddefault.jpg',\n",
       "      'width': 640,\n",
       "      'height': 480},\n",
       "     'maxres': {'url': 'https://i.ytimg.com/vi/uGupItgiYaE/maxresdefault.jpg',\n",
       "      'width': 1280,\n",
       "      'height': 720}},\n",
       "    'channelTitle': 'Samay Raina',\n",
       "    'playlistId': 'UUAov2BBv1ZJav0c_yHEciAw',\n",
       "    'position': 41,\n",
       "    'resourceId': {'kind': 'youtube#video', 'videoId': 'uGupItgiYaE'}}},\n",
       "  {'kind': 'youtube#playlistItem',\n",
       "   'etag': 'Nj83HBAh6f3j2q8FKLEby1RH9kQ',\n",
       "   'id': 'VVVBb3YyQkJ2MVpKYXYwY195SEVjaUF3LmxwYjZtRVJwTElv',\n",
       "   'snippet': {'publishedAt': '2020-11-06T06:21:54Z',\n",
       "    'channelId': 'UCAov2BBv1ZJav0c_yHEciAw',\n",
       "    'title': '[18+] Finding LAURA on Omegle ft. Mehfil',\n",
       "    'description': \"BECOME DIAMOND MEMBER HERE: https://go.chess.com/samay\\n\\nJOIN MY CLUB: https://www.chess.com/club/samay-raina-official\\n\\nJoin this channel to get access to perks:\\nhttps://www.youtube.com/channel/UCAov2BBv1ZJav0c_yHEciAw/join\\n\\nFollow me on instagram\\nhttps://www.instagram.com/maisamayhoon/\\n\\nJoin my discord:\\nhttps://discord.gg/f2QqKab\\n\\nEdited by my grandfather's childhood crush Billu Sanda\",\n",
       "    'thumbnails': {'default': {'url': 'https://i.ytimg.com/vi/lpb6mERpLIo/default.jpg',\n",
       "      'width': 120,\n",
       "      'height': 90},\n",
       "     'medium': {'url': 'https://i.ytimg.com/vi/lpb6mERpLIo/mqdefault.jpg',\n",
       "      'width': 320,\n",
       "      'height': 180},\n",
       "     'high': {'url': 'https://i.ytimg.com/vi/lpb6mERpLIo/hqdefault.jpg',\n",
       "      'width': 480,\n",
       "      'height': 360},\n",
       "     'standard': {'url': 'https://i.ytimg.com/vi/lpb6mERpLIo/sddefault.jpg',\n",
       "      'width': 640,\n",
       "      'height': 480},\n",
       "     'maxres': {'url': 'https://i.ytimg.com/vi/lpb6mERpLIo/maxresdefault.jpg',\n",
       "      'width': 1280,\n",
       "      'height': 720}},\n",
       "    'channelTitle': 'Samay Raina',\n",
       "    'playlistId': 'UUAov2BBv1ZJav0c_yHEciAw',\n",
       "    'position': 42,\n",
       "    'resourceId': {'kind': 'youtube#video', 'videoId': 'lpb6mERpLIo'}}},\n",
       "  {'kind': 'youtube#playlistItem',\n",
       "   'etag': 'R87VwLYp122JbRoMjaD_lJtUcns',\n",
       "   'id': 'VVVBb3YyQkJ2MVpKYXYwY195SEVjaUF3LmVTR2ZFbDk4UG9v',\n",
       "   'snippet': {'publishedAt': '2020-11-05T08:32:22Z',\n",
       "    'channelId': 'UCAov2BBv1ZJav0c_yHEciAw',\n",
       "    'title': 'ERIC ROSEN vs LEVY ROZMAN | SAMAY RAINA',\n",
       "    'description': 'JOIN GRAPHY: https://share.graphyapp.co/8K8w\\n\\nSubscribe to Levy: https://www.youtube.com/channel/UCQHX6ViZmPsWiYSFAyS0a3Q\\nSubscribe to Eric: https://www.youtube.com/user/RosenChess\\nSubscribe to Kr$na: https://www.youtube.com/channel/UChDX4wagpTQS0aTm4eyhJaw\\n\\nBECOME DIAMOND MEMBER HERE: https://go.chess.com/samay\\n\\nJOIN MY CLUB: https://www.chess.com/club/samay-raina-official\\n\\nJoin this channel to get access to perks:\\nhttps://www.youtube.com/channel/UCAov2BBv1ZJav0c_yHEciAw/join\\n\\nFollow me on instagram\\nhttps://www.instagram.com/maisamayhoon/\\n\\nJoin my discord:\\nhttps://discord.gg/f2QqKab',\n",
       "    'thumbnails': {'default': {'url': 'https://i.ytimg.com/vi/eSGfEl98Poo/default.jpg',\n",
       "      'width': 120,\n",
       "      'height': 90},\n",
       "     'medium': {'url': 'https://i.ytimg.com/vi/eSGfEl98Poo/mqdefault.jpg',\n",
       "      'width': 320,\n",
       "      'height': 180},\n",
       "     'high': {'url': 'https://i.ytimg.com/vi/eSGfEl98Poo/hqdefault.jpg',\n",
       "      'width': 480,\n",
       "      'height': 360},\n",
       "     'standard': {'url': 'https://i.ytimg.com/vi/eSGfEl98Poo/sddefault.jpg',\n",
       "      'width': 640,\n",
       "      'height': 480},\n",
       "     'maxres': {'url': 'https://i.ytimg.com/vi/eSGfEl98Poo/maxresdefault.jpg',\n",
       "      'width': 1280,\n",
       "      'height': 720}},\n",
       "    'channelTitle': 'Samay Raina',\n",
       "    'playlistId': 'UUAov2BBv1ZJav0c_yHEciAw',\n",
       "    'position': 43,\n",
       "    'resourceId': {'kind': 'youtube#video', 'videoId': 'eSGfEl98Poo'}}},\n",
       "  {'kind': 'youtube#playlistItem',\n",
       "   'etag': 'lgnG_P_HwOYXKV5N_vr1eeLQjR4',\n",
       "   'id': 'VVVBb3YyQkJ2MVpKYXYwY195SEVjaUF3LmxqdC1KWnQ5Smpj',\n",
       "   'snippet': {'publishedAt': '2020-11-05T08:30:32Z',\n",
       "    'channelId': 'UCAov2BBv1ZJav0c_yHEciAw',\n",
       "    'title': \"Learn how to Cube EP 03 - Bottom two layers | Red bull Rubik's cube ft. Tania Sachdev\",\n",
       "    'description': \"Super excited to teach Tania Sachdev - a complete beginner to cubing - how to solve the Rubik's cube from scratch. Tune in for learning and fun!\\nWatch the world final for the Red Bull Rubik's cube on https://www.redbull.com/in-en/event-s... on 7th November!\\n\\nSong used: The Key - Kr$na https://www.youtube.com/watch?v=omY1XqIfius\\nxxxxxxxxxxxxxxxxxxxxxxxxxxxxxxxxxxxxxxxxxxxxxxxxxxxxxxxxxxxxxxxxxxxxxxxxxxxxxxxxxxxxxxxxxx\\n\\nBECOME DIAMOND MEMBER HERE: https://go.chess.com/samay\\n\\nJOIN MY CLUB: https://www.chess.com/club/samay-raina-official\\n\\nJoin this channel to get access to perks:\\nhttps://www.youtube.com/channel/UCAov2BBv1ZJav0c_yHEciAw/join\\n\\nFollow me on instagram\\nhttps://www.instagram.com/maisamayhoon/\\n\\nJoin my discord:\\nhttps://discord.gg/f2QqKab\",\n",
       "    'thumbnails': {'default': {'url': 'https://i.ytimg.com/vi/ljt-JZt9Jjc/default.jpg',\n",
       "      'width': 120,\n",
       "      'height': 90},\n",
       "     'medium': {'url': 'https://i.ytimg.com/vi/ljt-JZt9Jjc/mqdefault.jpg',\n",
       "      'width': 320,\n",
       "      'height': 180},\n",
       "     'high': {'url': 'https://i.ytimg.com/vi/ljt-JZt9Jjc/hqdefault.jpg',\n",
       "      'width': 480,\n",
       "      'height': 360},\n",
       "     'standard': {'url': 'https://i.ytimg.com/vi/ljt-JZt9Jjc/sddefault.jpg',\n",
       "      'width': 640,\n",
       "      'height': 480},\n",
       "     'maxres': {'url': 'https://i.ytimg.com/vi/ljt-JZt9Jjc/maxresdefault.jpg',\n",
       "      'width': 1280,\n",
       "      'height': 720}},\n",
       "    'channelTitle': 'Samay Raina',\n",
       "    'playlistId': 'UUAov2BBv1ZJav0c_yHEciAw',\n",
       "    'position': 44,\n",
       "    'resourceId': {'kind': 'youtube#video', 'videoId': 'ljt-JZt9Jjc'}}},\n",
       "  {'kind': 'youtube#playlistItem',\n",
       "   'etag': '070b2wywzLSEZY4AlDHhHRC-xwo',\n",
       "   'id': 'VVVBb3YyQkJ2MVpKYXYwY195SEVjaUF3Lm8xLXJXbERrREZV',\n",
       "   'snippet': {'publishedAt': '2020-11-04T00:56:17Z',\n",
       "    'channelId': 'UCAov2BBv1ZJav0c_yHEciAw',\n",
       "    'title': 'Curb your Actually Improving Chess - Miniclip #17',\n",
       "    'description': '',\n",
       "    'thumbnails': {'default': {'url': 'https://i.ytimg.com/vi/o1-rWlDkDFU/default.jpg',\n",
       "      'width': 120,\n",
       "      'height': 90},\n",
       "     'medium': {'url': 'https://i.ytimg.com/vi/o1-rWlDkDFU/mqdefault.jpg',\n",
       "      'width': 320,\n",
       "      'height': 180},\n",
       "     'high': {'url': 'https://i.ytimg.com/vi/o1-rWlDkDFU/hqdefault.jpg',\n",
       "      'width': 480,\n",
       "      'height': 360},\n",
       "     'standard': {'url': 'https://i.ytimg.com/vi/o1-rWlDkDFU/sddefault.jpg',\n",
       "      'width': 640,\n",
       "      'height': 480},\n",
       "     'maxres': {'url': 'https://i.ytimg.com/vi/o1-rWlDkDFU/maxresdefault.jpg',\n",
       "      'width': 1280,\n",
       "      'height': 720}},\n",
       "    'channelTitle': 'Samay Raina',\n",
       "    'playlistId': 'UUAov2BBv1ZJav0c_yHEciAw',\n",
       "    'position': 45,\n",
       "    'resourceId': {'kind': 'youtube#video', 'videoId': 'o1-rWlDkDFU'}}},\n",
       "  {'kind': 'youtube#playlistItem',\n",
       "   'etag': 'AE0IplFP8u6DKql4UxyNA-MKlJE',\n",
       "   'id': 'VVVBb3YyQkJ2MVpKYXYwY195SEVjaUF3LkJOcXpTUHFoOGsw',\n",
       "   'snippet': {'publishedAt': '2020-11-02T13:53:51Z',\n",
       "    'channelId': 'UCAov2BBv1ZJav0c_yHEciAw',\n",
       "    'title': \"Members only stream with SAGAR SHAH - Watching Queen's Gambit\",\n",
       "    'description': 'JOIN UNACADEMY USING SRAINA10 https://unacademy.com/goal/chess/NQECF/subscribe\\n\\nBECOME DIAMOND MEMBER HERE: https://go.chess.com/samay\\n\\nJOIN MY CLUB: https://www.chess.com/club/samay-raina-official\\n\\nJoin this channel to get access to perks:\\nhttps://www.youtube.com/channel/UCAov2BBv1ZJav0c_yHEciAw/join\\n\\nFollow me on instagram\\nhttps://www.instagram.com/maisamayhoon/\\n\\nJoin my discord:\\nhttps://discord.gg/f2QqKab',\n",
       "    'thumbnails': {'default': {'url': 'https://i.ytimg.com/vi/BNqzSPqh8k0/default.jpg',\n",
       "      'width': 120,\n",
       "      'height': 90},\n",
       "     'medium': {'url': 'https://i.ytimg.com/vi/BNqzSPqh8k0/mqdefault.jpg',\n",
       "      'width': 320,\n",
       "      'height': 180},\n",
       "     'high': {'url': 'https://i.ytimg.com/vi/BNqzSPqh8k0/hqdefault.jpg',\n",
       "      'width': 480,\n",
       "      'height': 360},\n",
       "     'standard': {'url': 'https://i.ytimg.com/vi/BNqzSPqh8k0/sddefault.jpg',\n",
       "      'width': 640,\n",
       "      'height': 480},\n",
       "     'maxres': {'url': 'https://i.ytimg.com/vi/BNqzSPqh8k0/maxresdefault.jpg',\n",
       "      'width': 1280,\n",
       "      'height': 720}},\n",
       "    'channelTitle': 'Samay Raina',\n",
       "    'playlistId': 'UUAov2BBv1ZJav0c_yHEciAw',\n",
       "    'position': 46,\n",
       "    'resourceId': {'kind': 'youtube#video', 'videoId': 'BNqzSPqh8k0'}}},\n",
       "  {'kind': 'youtube#playlistItem',\n",
       "   'etag': 'LcRL_1VhdjxKJyoNC1bB-99P0zQ',\n",
       "   'id': 'VVVBb3YyQkJ2MVpKYXYwY195SEVjaUF3LnNuVjFhRUpyZ0Jz',\n",
       "   'snippet': {'publishedAt': '2020-11-02T11:01:21Z',\n",
       "    'channelId': 'UCAov2BBv1ZJav0c_yHEciAw',\n",
       "    'title': \"Learn how to Cube EP 02 - Completing the base | Red Bull Rubik's Cube ft. Tania Sachdev\",\n",
       "    'description': \"Super excited to teach Tania Sachdev - a complete beginner to cubing - how to solve the Rubik's cube from scratch. Tune in for learning and fun!\\nWatch the world final for the Red Bull Rubik's cube on https://www.redbull.com/in-en/event-series/rubiks-world-cup on 7th November!\\n\\nxxxxxxxxxxxxxxxxxxxxxxxxxxxxxxxxxxxxxxxxxxxxxxxxxxxxxxxxxxxx\\n\\n\\nBECOME DIAMOND MEMBER HERE: https://go.chess.com/samay\\n\\nJOIN MY CLUB: https://www.chess.com/club/samay-raina-official\\n\\nJoin this channel to get access to perks:\\nhttps://www.youtube.com/channel/UCAov2BBv1ZJav0c_yHEciAw/join\\n\\nFollow me on instagram\\nhttps://www.instagram.com/maisamayhoon/\\n\\nJoin my discord:\\nhttps://discord.gg/f2QqKab\",\n",
       "    'thumbnails': {'default': {'url': 'https://i.ytimg.com/vi/snV1aEJrgBs/default.jpg',\n",
       "      'width': 120,\n",
       "      'height': 90},\n",
       "     'medium': {'url': 'https://i.ytimg.com/vi/snV1aEJrgBs/mqdefault.jpg',\n",
       "      'width': 320,\n",
       "      'height': 180},\n",
       "     'high': {'url': 'https://i.ytimg.com/vi/snV1aEJrgBs/hqdefault.jpg',\n",
       "      'width': 480,\n",
       "      'height': 360},\n",
       "     'standard': {'url': 'https://i.ytimg.com/vi/snV1aEJrgBs/sddefault.jpg',\n",
       "      'width': 640,\n",
       "      'height': 480},\n",
       "     'maxres': {'url': 'https://i.ytimg.com/vi/snV1aEJrgBs/maxresdefault.jpg',\n",
       "      'width': 1280,\n",
       "      'height': 720}},\n",
       "    'channelTitle': 'Samay Raina',\n",
       "    'playlistId': 'UUAov2BBv1ZJav0c_yHEciAw',\n",
       "    'position': 47,\n",
       "    'resourceId': {'kind': 'youtube#video', 'videoId': 'snV1aEJrgBs'}}},\n",
       "  {'kind': 'youtube#playlistItem',\n",
       "   'etag': 'frNG5jx3ARNWFiaQQKf-0AMFVJU',\n",
       "   'id': 'VVVBb3YyQkJ2MVpKYXYwY195SEVjaUF3LnpJQzZ0V3dOeWhr',\n",
       "   'snippet': {'publishedAt': '2020-11-01T01:58:06Z',\n",
       "    'channelId': 'UCAov2BBv1ZJav0c_yHEciAw',\n",
       "    'title': 'ENDGAME | SAGAR SHAH DISS [OFFICIAL VIDEO]',\n",
       "    'description': 'Written and performed by Samay Raina\\nVideo edited by Perception Films and Media\\nProduced by ZeeBeer and Derayne\\n\\nCheck out the making of this epic video: https://www.youtube.com/watch?v=lx87hSXCV08&t=832s',\n",
       "    'thumbnails': {'default': {'url': 'https://i.ytimg.com/vi/zIC6tWwNyhk/default.jpg',\n",
       "      'width': 120,\n",
       "      'height': 90},\n",
       "     'medium': {'url': 'https://i.ytimg.com/vi/zIC6tWwNyhk/mqdefault.jpg',\n",
       "      'width': 320,\n",
       "      'height': 180},\n",
       "     'high': {'url': 'https://i.ytimg.com/vi/zIC6tWwNyhk/hqdefault.jpg',\n",
       "      'width': 480,\n",
       "      'height': 360},\n",
       "     'standard': {'url': 'https://i.ytimg.com/vi/zIC6tWwNyhk/sddefault.jpg',\n",
       "      'width': 640,\n",
       "      'height': 480},\n",
       "     'maxres': {'url': 'https://i.ytimg.com/vi/zIC6tWwNyhk/maxresdefault.jpg',\n",
       "      'width': 1280,\n",
       "      'height': 720}},\n",
       "    'channelTitle': 'Samay Raina',\n",
       "    'playlistId': 'UUAov2BBv1ZJav0c_yHEciAw',\n",
       "    'position': 48,\n",
       "    'resourceId': {'kind': 'youtube#video', 'videoId': 'zIC6tWwNyhk'}}},\n",
       "  {'kind': 'youtube#playlistItem',\n",
       "   'etag': '_mSGg6WOWUd4DjOs6OMggPW9eHU',\n",
       "   'id': 'VVVBb3YyQkJ2MVpKYXYwY195SEVjaUF3LktwNTlsNXdIZ0dV',\n",
       "   'snippet': {'publishedAt': '2020-11-01T06:54:15Z',\n",
       "    'channelId': 'UCAov2BBv1ZJav0c_yHEciAw',\n",
       "    'title': \"Learn how to Cube EP 01 - The Cross | Red Bull Rubik's Cube ft. Tania Sachdev\",\n",
       "    'description': \"Super excited to teach Tania Sachdev - a complete beginner to cubing - how to solve the Rubik's cube from scratch. Tune in for learning and fun!\\nWatch the world final for the Red Bull Rubik's cube on https://www.redbull.com/in-en/event-series/rubiks-world-cup on 7th November!\\n\\nSong played:  The Key by Kr$na https://www.youtube.com/watch?v=omY1XqIfius\\nxxxxxxxxxxxxxxxxxxxxxxxxxxxxxxxxxxxxxxxxxxxxxxxxxxxxxxxxxxxx\\n\\nBECOME DIAMOND MEMBER HERE: https://go.chess.com/samay\\n\\nJOIN MY CLUB: https://www.chess.com/club/samay-raina-official\\n\\nJoin this channel to get access to perks:\\nhttps://www.youtube.com/channel/UCAov2BBv1ZJav0c_yHEciAw/join\\n\\nFollow me on instagram\\nhttps://www.instagram.com/maisamayhoon/\\n\\nJoin my discord:\\nhttps://discord.gg/f2QqKab\",\n",
       "    'thumbnails': {'default': {'url': 'https://i.ytimg.com/vi/Kp59l5wHgGU/default.jpg',\n",
       "      'width': 120,\n",
       "      'height': 90},\n",
       "     'medium': {'url': 'https://i.ytimg.com/vi/Kp59l5wHgGU/mqdefault.jpg',\n",
       "      'width': 320,\n",
       "      'height': 180},\n",
       "     'high': {'url': 'https://i.ytimg.com/vi/Kp59l5wHgGU/hqdefault.jpg',\n",
       "      'width': 480,\n",
       "      'height': 360},\n",
       "     'standard': {'url': 'https://i.ytimg.com/vi/Kp59l5wHgGU/sddefault.jpg',\n",
       "      'width': 640,\n",
       "      'height': 480},\n",
       "     'maxres': {'url': 'https://i.ytimg.com/vi/Kp59l5wHgGU/maxresdefault.jpg',\n",
       "      'width': 1280,\n",
       "      'height': 720}},\n",
       "    'channelTitle': 'Samay Raina',\n",
       "    'playlistId': 'UUAov2BBv1ZJav0c_yHEciAw',\n",
       "    'position': 49,\n",
       "    'resourceId': {'kind': 'youtube#video', 'videoId': 'Kp59l5wHgGU'}}}],\n",
       " 'pageInfo': {'totalResults': 288, 'resultsPerPage': 50}}"
      ]
     },
     "execution_count": 42,
     "metadata": {},
     "output_type": "execute_result"
    }
   ],
   "source": [
    "request = youtube.playlistItems().list(\n",
    "        part=\"snippet\",\n",
    "        playlistId=upload_id,\n",
    "        maxResults=50,\n",
    "    )\n",
    "response = request.execute()\n",
    "response"
   ]
  },
  {
   "cell_type": "code",
   "execution_count": 43,
   "metadata": {},
   "outputs": [
    {
     "data": {
      "text/plain": [
       "'BEST OF THE WEEK 11 | SAMAY RAINA'"
      ]
     },
     "execution_count": 43,
     "metadata": {},
     "output_type": "execute_result"
    }
   ],
   "source": [
    "response['items'][0]['snippet']['title']"
   ]
  },
  {
   "cell_type": "code",
   "execution_count": 70,
   "metadata": {},
   "outputs": [],
   "source": [
    "next_page_token = response.get('nextPageToken', 0)\n",
    "while next_page_token:\n",
    "    next_request = youtube.playlistItems().list_next(\n",
    "        request, response\n",
    "    )\n",
    "\n",
    "    next_response = next_request.execute()\n",
    "    print(json.dumps(next_response, indent=2))\n",
    "    break\n",
    "\n",
    "    next_page_token = next_response.get('nextPageToken', 0)\n",
    "    request, response = next_request, next_response"
   ]
  },
  {
   "cell_type": "code",
   "execution_count": 71,
   "metadata": {},
   "outputs": [
    {
     "data": {
      "text/plain": [
       "0"
      ]
     },
     "execution_count": 71,
     "metadata": {},
     "output_type": "execute_result"
    }
   ],
   "source": [
    "next_page = response.get('nextPageToken', 0)\n",
    "next_page"
   ]
  },
  {
   "cell_type": "code",
   "execution_count": 72,
   "metadata": {},
   "outputs": [
    {
     "name": "stdout",
     "output_type": "stream",
     "text": [
      "{\n",
      "  \"kind\": \"youtube#videoListResponse\",\n",
      "  \"etag\": \"OSvjznhgUfDxKIXjbU9LKYHyevA\",\n",
      "  \"items\": [\n",
      "    {\n",
      "      \"kind\": \"youtube#video\",\n",
      "      \"etag\": \"sbLH1xNQLTWmyz8oswVP5KuW3Qs\",\n",
      "      \"id\": \"8ifjYxkMhUg\",\n",
      "      \"contentDetails\": {\n",
      "        \"duration\": \"PT8M38S\",\n",
      "        \"dimension\": \"2d\",\n",
      "        \"definition\": \"hd\",\n",
      "        \"caption\": \"false\",\n",
      "        \"licensedContent\": true,\n",
      "        \"contentRating\": {},\n",
      "        \"projection\": \"rectangular\"\n",
      "      },\n",
      "      \"statistics\": {\n",
      "        \"viewCount\": \"203433\",\n",
      "        \"likeCount\": \"22665\",\n",
      "        \"dislikeCount\": \"318\",\n",
      "        \"favoriteCount\": \"0\",\n",
      "        \"commentCount\": \"753\"\n",
      "      }\n",
      "    },\n",
      "    {\n",
      "      \"kind\": \"youtube#video\",\n",
      "      \"etag\": \"pAOvm0o7BxwVzssHYQ-yb5-Dgic\",\n",
      "      \"id\": \"SP8hdGSN-0k\",\n",
      "      \"contentDetails\": {\n",
      "        \"duration\": \"PT1H27M46S\",\n",
      "        \"dimension\": \"2d\",\n",
      "        \"definition\": \"hd\",\n",
      "        \"caption\": \"false\",\n",
      "        \"licensedContent\": false,\n",
      "        \"contentRating\": {},\n",
      "        \"projection\": \"rectangular\"\n",
      "      },\n",
      "      \"statistics\": {\n",
      "        \"viewCount\": \"182679\",\n",
      "        \"likeCount\": \"13148\",\n",
      "        \"dislikeCount\": \"237\",\n",
      "        \"favoriteCount\": \"0\",\n",
      "        \"commentCount\": \"432\"\n",
      "      }\n",
      "    }\n",
      "  ],\n",
      "  \"pageInfo\": {\n",
      "    \"totalResults\": 2,\n",
      "    \"resultsPerPage\": 2\n",
      "  }\n",
      "}\n"
     ]
    }
   ],
   "source": [
    "request = youtube.videos().list(\n",
    "        part=\"statistics, contentDetails\",\n",
    "        id=\"8ifjYxkMhUg,SP8hdGSN-0k\",\n",
    "        maxResults=1,\n",
    "    )\n",
    "response = request.execute()\n",
    "\n",
    "print(json.dumps(response, indent=2))"
   ]
  },
  {
   "cell_type": "code",
   "execution_count": 44,
   "metadata": {},
   "outputs": [],
   "source": [
    "COLUMNS = [\n",
    "    'vid_id', 'vid_title', 'vid_description', 'thumbnail_url', 'upload_time', \n",
    "    'duration', 'views', 'likes', 'dislikes', 'comment_counts',\n",
    "]\n",
    "\n",
    "def add_video_data(res):\n",
    "    data = []\n",
    "    for items in res['items']:\n",
    "        video_id = items['snippet']['resourceId']['videoId']\n",
    "        video_title = items['snippet']['title']\n",
    "        video_desc = items['snippet']['description']\n",
    "        upload_time = items['snippet']['publishedAt']\n",
    "        thumbnail_url = items['snippet']['thumbnails']['high']['url']\n",
    "\n",
    "        # print(video_title, upload_time, thumbnail_url)\n",
    "        temp = [video_id, video_title, video_desc, thumbnail_url, upload_time] + [''] * 5\n",
    "        data.append(temp)\n",
    "    \n",
    "    return data\n",
    "\n",
    "\n",
    "def get_video_stats(res):\n",
    "    data = []\n",
    "\n",
    "    for items in res['items']:\n",
    "        duration = items['contentDetails']['duration']\n",
    "        views = items['statistics'].get('viewCount', 0)\n",
    "        likes = items['statistics'].get('likeCount', 0)\n",
    "        dislikes = items['statistics'].get('dislikeCount', 0)\n",
    "        comment_count = items['statistics'].get('commentCount', 0)\n",
    "        \n",
    "        temp = [duration, views, likes, dislikes, comment_count]\n",
    "        data.append(temp)\n",
    "\n",
    "    return data"
   ]
  },
  {
   "cell_type": "code",
   "execution_count": 45,
   "metadata": {},
   "outputs": [],
   "source": [
    "all_data = []\n",
    "video_stats = []\n",
    "\n",
    "request = youtube.playlistItems().list(\n",
    "    part=\"snippet\",\n",
    "    playlistId=upload_id,\n",
    "    maxResults=50,\n",
    ")\n",
    "response = request.execute()\n",
    "\n",
    "data = add_video_data(response)\n",
    "all_data.extend(data)\n",
    "\n",
    "next_page_token = response.get('nextPageToken', 0)\n",
    "\n",
    "while next_page_token:\n",
    "    next_request = youtube.playlistItems().list_next(request, response)\n",
    "    next_response = next_request.execute()\n",
    "\n",
    "    data = add_video_data(next_response)\n",
    "    all_data.extend(data)\n",
    "\n",
    "    next_page_token = next_response.get('nextPageToken', 0)\n",
    "    request, response = next_request, next_response\n",
    "\n",
    "raw = pd.DataFrame(all_data, columns=COLUMNS)"
   ]
  },
  {
   "cell_type": "code",
   "execution_count": 46,
   "metadata": {},
   "outputs": [
    {
     "data": {
      "text/html": [
       "<div>\n",
       "<style scoped>\n",
       "    .dataframe tbody tr th:only-of-type {\n",
       "        vertical-align: middle;\n",
       "    }\n",
       "\n",
       "    .dataframe tbody tr th {\n",
       "        vertical-align: top;\n",
       "    }\n",
       "\n",
       "    .dataframe thead th {\n",
       "        text-align: right;\n",
       "    }\n",
       "</style>\n",
       "<table border=\"1\" class=\"dataframe\">\n",
       "  <thead>\n",
       "    <tr style=\"text-align: right;\">\n",
       "      <th></th>\n",
       "      <th>vid_id</th>\n",
       "      <th>vid_title</th>\n",
       "      <th>vid_description</th>\n",
       "      <th>thumbnail_url</th>\n",
       "      <th>upload_time</th>\n",
       "      <th>duration</th>\n",
       "      <th>views</th>\n",
       "      <th>likes</th>\n",
       "      <th>dislikes</th>\n",
       "      <th>comment_counts</th>\n",
       "    </tr>\n",
       "  </thead>\n",
       "  <tbody>\n",
       "    <tr>\n",
       "      <th>0</th>\n",
       "      <td>8ifjYxkMhUg</td>\n",
       "      <td>BEST OF THE WEEK 11 | SAMAY RAINA</td>\n",
       "      <td>JOIN MY GRAPHY https://share.graphyapp.co/8K8w...</td>\n",
       "      <td>https://i.ytimg.com/vi/8ifjYxkMhUg/hqdefault.jpg</td>\n",
       "      <td>2021-01-10T09:59:47Z</td>\n",
       "      <td></td>\n",
       "      <td></td>\n",
       "      <td></td>\n",
       "      <td></td>\n",
       "      <td></td>\n",
       "    </tr>\n",
       "    <tr>\n",
       "      <th>1</th>\n",
       "      <td>SP8hdGSN-0k</td>\n",
       "      <td>Coming Back to Life - Reaching 1500 ft. Sagar ...</td>\n",
       "      <td>JOIN MY GRAPHY https://share.graphyapp.co/8K8w...</td>\n",
       "      <td>https://i.ytimg.com/vi/SP8hdGSN-0k/hqdefault.jpg</td>\n",
       "      <td>2021-01-04T01:11:08Z</td>\n",
       "      <td></td>\n",
       "      <td></td>\n",
       "      <td></td>\n",
       "      <td></td>\n",
       "      <td></td>\n",
       "    </tr>\n",
       "    <tr>\n",
       "      <th>2</th>\n",
       "      <td>Tvs-zEOgr7c</td>\n",
       "      <td>SAGAR SHAH EXPOSED - VLOG #3</td>\n",
       "      <td>JOIN MY GRAPHY https://share.graphyapp.co/8K8w...</td>\n",
       "      <td>https://i.ytimg.com/vi/Tvs-zEOgr7c/hqdefault.jpg</td>\n",
       "      <td>2020-12-29T03:53:41Z</td>\n",
       "      <td></td>\n",
       "      <td></td>\n",
       "      <td></td>\n",
       "      <td></td>\n",
       "      <td></td>\n",
       "    </tr>\n",
       "    <tr>\n",
       "      <th>3</th>\n",
       "      <td>Ge3MN6-JuOw</td>\n",
       "      <td>ACCIDENTALLY GAVE 10,000 RS. SUPERCHAT TO @Gam...</td>\n",
       "      <td>Play at https://conquer2020.net/\\n\\nPrizes:\\nT...</td>\n",
       "      <td>https://i.ytimg.com/vi/Ge3MN6-JuOw/hqdefault.jpg</td>\n",
       "      <td>2020-12-27T10:34:17Z</td>\n",
       "      <td></td>\n",
       "      <td></td>\n",
       "      <td></td>\n",
       "      <td></td>\n",
       "      <td></td>\n",
       "    </tr>\n",
       "    <tr>\n",
       "      <th>4</th>\n",
       "      <td>R_LOS5_TpL8</td>\n",
       "      <td>ROAST BATTLE ft. Vidit Gujrathi | Sagar Shah |...</td>\n",
       "      <td>This was recorded in Pune. It was Vidit and Sa...</td>\n",
       "      <td>https://i.ytimg.com/vi/R_LOS5_TpL8/hqdefault.jpg</td>\n",
       "      <td>2020-12-26T15:05:31Z</td>\n",
       "      <td></td>\n",
       "      <td></td>\n",
       "      <td></td>\n",
       "      <td></td>\n",
       "      <td></td>\n",
       "    </tr>\n",
       "    <tr>\n",
       "      <th>...</th>\n",
       "      <td>...</td>\n",
       "      <td>...</td>\n",
       "      <td>...</td>\n",
       "      <td>...</td>\n",
       "      <td>...</td>\n",
       "      <td>...</td>\n",
       "      <td>...</td>\n",
       "      <td>...</td>\n",
       "      <td>...</td>\n",
       "      <td>...</td>\n",
       "    </tr>\n",
       "    <tr>\n",
       "      <th>283</th>\n",
       "      <td>TL4S76ozM60</td>\n",
       "      <td>PUBG with Ojas and Balraj</td>\n",
       "      <td></td>\n",
       "      <td>https://i.ytimg.com/vi/TL4S76ozM60/hqdefault.jpg</td>\n",
       "      <td>2020-03-24T21:00:10Z</td>\n",
       "      <td></td>\n",
       "      <td></td>\n",
       "      <td></td>\n",
       "      <td></td>\n",
       "      <td></td>\n",
       "    </tr>\n",
       "    <tr>\n",
       "      <th>284</th>\n",
       "      <td>eLLBm5Ni708</td>\n",
       "      <td>Coming soon</td>\n",
       "      <td></td>\n",
       "      <td>https://i.ytimg.com/vi/eLLBm5Ni708/hqdefault.jpg</td>\n",
       "      <td>2020-03-24T04:12:14Z</td>\n",
       "      <td></td>\n",
       "      <td></td>\n",
       "      <td></td>\n",
       "      <td></td>\n",
       "      <td></td>\n",
       "    </tr>\n",
       "    <tr>\n",
       "      <th>285</th>\n",
       "      <td>lwuZ_gEX3mk</td>\n",
       "      <td>Later night chess with friends - Sumit Sourav</td>\n",
       "      <td></td>\n",
       "      <td>https://i.ytimg.com/vi/lwuZ_gEX3mk/hqdefault.jpg</td>\n",
       "      <td>2020-03-23T22:36:59Z</td>\n",
       "      <td></td>\n",
       "      <td></td>\n",
       "      <td></td>\n",
       "      <td></td>\n",
       "      <td></td>\n",
       "    </tr>\n",
       "    <tr>\n",
       "      <th>286</th>\n",
       "      <td>6JX7VfiYEMc</td>\n",
       "      <td>PUBG with Ojas</td>\n",
       "      <td></td>\n",
       "      <td>https://i.ytimg.com/vi/6JX7VfiYEMc/hqdefault.jpg</td>\n",
       "      <td>2020-03-23T19:25:48Z</td>\n",
       "      <td></td>\n",
       "      <td></td>\n",
       "      <td></td>\n",
       "      <td></td>\n",
       "      <td></td>\n",
       "    </tr>\n",
       "    <tr>\n",
       "      <th>287</th>\n",
       "      <td>oufJKZur8qM</td>\n",
       "      <td>Later night chess with friends - Balraj Ghai</td>\n",
       "      <td>Follow me on instagram - https://www.instagram...</td>\n",
       "      <td>https://i.ytimg.com/vi/oufJKZur8qM/hqdefault.jpg</td>\n",
       "      <td>2020-03-22T22:34:23Z</td>\n",
       "      <td></td>\n",
       "      <td></td>\n",
       "      <td></td>\n",
       "      <td></td>\n",
       "      <td></td>\n",
       "    </tr>\n",
       "  </tbody>\n",
       "</table>\n",
       "<p>288 rows × 10 columns</p>\n",
       "</div>"
      ],
      "text/plain": [
       "          vid_id                                          vid_title  \\\n",
       "0    8ifjYxkMhUg                  BEST OF THE WEEK 11 | SAMAY RAINA   \n",
       "1    SP8hdGSN-0k  Coming Back to Life - Reaching 1500 ft. Sagar ...   \n",
       "2    Tvs-zEOgr7c                       SAGAR SHAH EXPOSED - VLOG #3   \n",
       "3    Ge3MN6-JuOw  ACCIDENTALLY GAVE 10,000 RS. SUPERCHAT TO @Gam...   \n",
       "4    R_LOS5_TpL8  ROAST BATTLE ft. Vidit Gujrathi | Sagar Shah |...   \n",
       "..           ...                                                ...   \n",
       "283  TL4S76ozM60                          PUBG with Ojas and Balraj   \n",
       "284  eLLBm5Ni708                                        Coming soon   \n",
       "285  lwuZ_gEX3mk      Later night chess with friends - Sumit Sourav   \n",
       "286  6JX7VfiYEMc                                     PUBG with Ojas   \n",
       "287  oufJKZur8qM       Later night chess with friends - Balraj Ghai   \n",
       "\n",
       "                                       vid_description  \\\n",
       "0    JOIN MY GRAPHY https://share.graphyapp.co/8K8w...   \n",
       "1    JOIN MY GRAPHY https://share.graphyapp.co/8K8w...   \n",
       "2    JOIN MY GRAPHY https://share.graphyapp.co/8K8w...   \n",
       "3    Play at https://conquer2020.net/\\n\\nPrizes:\\nT...   \n",
       "4    This was recorded in Pune. It was Vidit and Sa...   \n",
       "..                                                 ...   \n",
       "283                                                      \n",
       "284                                                      \n",
       "285                                                      \n",
       "286                                                      \n",
       "287  Follow me on instagram - https://www.instagram...   \n",
       "\n",
       "                                        thumbnail_url           upload_time  \\\n",
       "0    https://i.ytimg.com/vi/8ifjYxkMhUg/hqdefault.jpg  2021-01-10T09:59:47Z   \n",
       "1    https://i.ytimg.com/vi/SP8hdGSN-0k/hqdefault.jpg  2021-01-04T01:11:08Z   \n",
       "2    https://i.ytimg.com/vi/Tvs-zEOgr7c/hqdefault.jpg  2020-12-29T03:53:41Z   \n",
       "3    https://i.ytimg.com/vi/Ge3MN6-JuOw/hqdefault.jpg  2020-12-27T10:34:17Z   \n",
       "4    https://i.ytimg.com/vi/R_LOS5_TpL8/hqdefault.jpg  2020-12-26T15:05:31Z   \n",
       "..                                                ...                   ...   \n",
       "283  https://i.ytimg.com/vi/TL4S76ozM60/hqdefault.jpg  2020-03-24T21:00:10Z   \n",
       "284  https://i.ytimg.com/vi/eLLBm5Ni708/hqdefault.jpg  2020-03-24T04:12:14Z   \n",
       "285  https://i.ytimg.com/vi/lwuZ_gEX3mk/hqdefault.jpg  2020-03-23T22:36:59Z   \n",
       "286  https://i.ytimg.com/vi/6JX7VfiYEMc/hqdefault.jpg  2020-03-23T19:25:48Z   \n",
       "287  https://i.ytimg.com/vi/oufJKZur8qM/hqdefault.jpg  2020-03-22T22:34:23Z   \n",
       "\n",
       "    duration views likes dislikes comment_counts  \n",
       "0                                                 \n",
       "1                                                 \n",
       "2                                                 \n",
       "3                                                 \n",
       "4                                                 \n",
       "..       ...   ...   ...      ...            ...  \n",
       "283                                               \n",
       "284                                               \n",
       "285                                               \n",
       "286                                               \n",
       "287                                               \n",
       "\n",
       "[288 rows x 10 columns]"
      ]
     },
     "execution_count": 46,
     "metadata": {},
     "output_type": "execute_result"
    }
   ],
   "source": [
    "raw"
   ]
  },
  {
   "cell_type": "code",
   "execution_count": 47,
   "metadata": {},
   "outputs": [
    {
     "name": "stdout",
     "output_type": "stream",
     "text": [
      "288\n",
      "288\n"
     ]
    }
   ],
   "source": [
    "video_stats = []\n",
    "total_videos = raw.shape[0]\n",
    "print(total_videos)\n",
    "\n",
    "for i in range(0, total_videos, 50):\n",
    "    request = youtube.videos().list(\n",
    "            part=\"statistics, contentDetails\",\n",
    "            id=','.join(raw['vid_id'].values[i:i+50]),\n",
    "        )\n",
    "    \n",
    "    response = request.execute()\n",
    "\n",
    "#     print(json.dumps(response, indent=2))\n",
    "    try:\n",
    "        data = get_video_stats(response)\n",
    "    except Exception as e:\n",
    "        print(e)\n",
    "        print(json.dumps(response, indent=2))\n",
    "# print(data)\n",
    "    video_stats.extend(data)\n",
    "\n",
    "print(len(video_stats))"
   ]
  },
  {
   "cell_type": "code",
   "execution_count": 48,
   "metadata": {},
   "outputs": [],
   "source": [
    "raw.iloc[:, 5:] = video_stats"
   ]
  },
  {
   "cell_type": "code",
   "execution_count": 49,
   "metadata": {},
   "outputs": [
    {
     "data": {
      "text/html": [
       "<div>\n",
       "<style scoped>\n",
       "    .dataframe tbody tr th:only-of-type {\n",
       "        vertical-align: middle;\n",
       "    }\n",
       "\n",
       "    .dataframe tbody tr th {\n",
       "        vertical-align: top;\n",
       "    }\n",
       "\n",
       "    .dataframe thead th {\n",
       "        text-align: right;\n",
       "    }\n",
       "</style>\n",
       "<table border=\"1\" class=\"dataframe\">\n",
       "  <thead>\n",
       "    <tr style=\"text-align: right;\">\n",
       "      <th></th>\n",
       "      <th>vid_id</th>\n",
       "      <th>vid_title</th>\n",
       "      <th>vid_description</th>\n",
       "      <th>thumbnail_url</th>\n",
       "      <th>upload_time</th>\n",
       "      <th>duration</th>\n",
       "      <th>views</th>\n",
       "      <th>likes</th>\n",
       "      <th>dislikes</th>\n",
       "      <th>comment_counts</th>\n",
       "    </tr>\n",
       "  </thead>\n",
       "  <tbody>\n",
       "    <tr>\n",
       "      <th>0</th>\n",
       "      <td>8ifjYxkMhUg</td>\n",
       "      <td>BEST OF THE WEEK 11 | SAMAY RAINA</td>\n",
       "      <td>JOIN MY GRAPHY https://share.graphyapp.co/8K8w...</td>\n",
       "      <td>https://i.ytimg.com/vi/8ifjYxkMhUg/hqdefault.jpg</td>\n",
       "      <td>2021-01-10T09:59:47Z</td>\n",
       "      <td>PT8M38S</td>\n",
       "      <td>206794</td>\n",
       "      <td>22811</td>\n",
       "      <td>339</td>\n",
       "      <td>761</td>\n",
       "    </tr>\n",
       "    <tr>\n",
       "      <th>1</th>\n",
       "      <td>SP8hdGSN-0k</td>\n",
       "      <td>Coming Back to Life - Reaching 1500 ft. Sagar ...</td>\n",
       "      <td>JOIN MY GRAPHY https://share.graphyapp.co/8K8w...</td>\n",
       "      <td>https://i.ytimg.com/vi/SP8hdGSN-0k/hqdefault.jpg</td>\n",
       "      <td>2021-01-04T01:11:08Z</td>\n",
       "      <td>PT1H27M46S</td>\n",
       "      <td>183488</td>\n",
       "      <td>13163</td>\n",
       "      <td>241</td>\n",
       "      <td>433</td>\n",
       "    </tr>\n",
       "    <tr>\n",
       "      <th>2</th>\n",
       "      <td>Tvs-zEOgr7c</td>\n",
       "      <td>SAGAR SHAH EXPOSED - VLOG #3</td>\n",
       "      <td>JOIN MY GRAPHY https://share.graphyapp.co/8K8w...</td>\n",
       "      <td>https://i.ytimg.com/vi/Tvs-zEOgr7c/hqdefault.jpg</td>\n",
       "      <td>2020-12-29T03:53:41Z</td>\n",
       "      <td>PT14M27S</td>\n",
       "      <td>371705</td>\n",
       "      <td>39035</td>\n",
       "      <td>287</td>\n",
       "      <td>1064</td>\n",
       "    </tr>\n",
       "    <tr>\n",
       "      <th>3</th>\n",
       "      <td>Ge3MN6-JuOw</td>\n",
       "      <td>ACCIDENTALLY GAVE 10,000 RS. SUPERCHAT TO @Gam...</td>\n",
       "      <td>Play at https://conquer2020.net/\\n\\nPrizes:\\nT...</td>\n",
       "      <td>https://i.ytimg.com/vi/Ge3MN6-JuOw/hqdefault.jpg</td>\n",
       "      <td>2020-12-27T10:34:17Z</td>\n",
       "      <td>PT6M25S</td>\n",
       "      <td>211581</td>\n",
       "      <td>26742</td>\n",
       "      <td>347</td>\n",
       "      <td>527</td>\n",
       "    </tr>\n",
       "    <tr>\n",
       "      <th>4</th>\n",
       "      <td>R_LOS5_TpL8</td>\n",
       "      <td>ROAST BATTLE ft. Vidit Gujrathi | Sagar Shah |...</td>\n",
       "      <td>This was recorded in Pune. It was Vidit and Sa...</td>\n",
       "      <td>https://i.ytimg.com/vi/R_LOS5_TpL8/hqdefault.jpg</td>\n",
       "      <td>2020-12-26T15:05:31Z</td>\n",
       "      <td>PT12M13S</td>\n",
       "      <td>494770</td>\n",
       "      <td>50353</td>\n",
       "      <td>516</td>\n",
       "      <td>2108</td>\n",
       "    </tr>\n",
       "    <tr>\n",
       "      <th>...</th>\n",
       "      <td>...</td>\n",
       "      <td>...</td>\n",
       "      <td>...</td>\n",
       "      <td>...</td>\n",
       "      <td>...</td>\n",
       "      <td>...</td>\n",
       "      <td>...</td>\n",
       "      <td>...</td>\n",
       "      <td>...</td>\n",
       "      <td>...</td>\n",
       "    </tr>\n",
       "    <tr>\n",
       "      <th>283</th>\n",
       "      <td>TL4S76ozM60</td>\n",
       "      <td>PUBG with Ojas and Balraj</td>\n",
       "      <td></td>\n",
       "      <td>https://i.ytimg.com/vi/TL4S76ozM60/hqdefault.jpg</td>\n",
       "      <td>2020-03-24T21:00:10Z</td>\n",
       "      <td>PT1H18M30S</td>\n",
       "      <td>20762</td>\n",
       "      <td>1282</td>\n",
       "      <td>24</td>\n",
       "      <td>40</td>\n",
       "    </tr>\n",
       "    <tr>\n",
       "      <th>284</th>\n",
       "      <td>eLLBm5Ni708</td>\n",
       "      <td>Coming soon</td>\n",
       "      <td></td>\n",
       "      <td>https://i.ytimg.com/vi/eLLBm5Ni708/hqdefault.jpg</td>\n",
       "      <td>2020-03-24T04:12:14Z</td>\n",
       "      <td>PT1M37S</td>\n",
       "      <td>374783</td>\n",
       "      <td>30889</td>\n",
       "      <td>630</td>\n",
       "      <td>1137</td>\n",
       "    </tr>\n",
       "    <tr>\n",
       "      <th>285</th>\n",
       "      <td>lwuZ_gEX3mk</td>\n",
       "      <td>Later night chess with friends - Sumit Sourav</td>\n",
       "      <td></td>\n",
       "      <td>https://i.ytimg.com/vi/lwuZ_gEX3mk/hqdefault.jpg</td>\n",
       "      <td>2020-03-23T22:36:59Z</td>\n",
       "      <td>PT1H35M11S</td>\n",
       "      <td>24606</td>\n",
       "      <td>1208</td>\n",
       "      <td>20</td>\n",
       "      <td>48</td>\n",
       "    </tr>\n",
       "    <tr>\n",
       "      <th>286</th>\n",
       "      <td>6JX7VfiYEMc</td>\n",
       "      <td>PUBG with Ojas</td>\n",
       "      <td></td>\n",
       "      <td>https://i.ytimg.com/vi/6JX7VfiYEMc/hqdefault.jpg</td>\n",
       "      <td>2020-03-23T19:25:48Z</td>\n",
       "      <td>PT1H29M34S</td>\n",
       "      <td>28410</td>\n",
       "      <td>1768</td>\n",
       "      <td>25</td>\n",
       "      <td>63</td>\n",
       "    </tr>\n",
       "    <tr>\n",
       "      <th>287</th>\n",
       "      <td>oufJKZur8qM</td>\n",
       "      <td>Later night chess with friends - Balraj Ghai</td>\n",
       "      <td>Follow me on instagram - https://www.instagram...</td>\n",
       "      <td>https://i.ytimg.com/vi/oufJKZur8qM/hqdefault.jpg</td>\n",
       "      <td>2020-03-22T22:34:23Z</td>\n",
       "      <td>PT45M13S</td>\n",
       "      <td>76945</td>\n",
       "      <td>4610</td>\n",
       "      <td>46</td>\n",
       "      <td>288</td>\n",
       "    </tr>\n",
       "  </tbody>\n",
       "</table>\n",
       "<p>288 rows × 10 columns</p>\n",
       "</div>"
      ],
      "text/plain": [
       "          vid_id                                          vid_title  \\\n",
       "0    8ifjYxkMhUg                  BEST OF THE WEEK 11 | SAMAY RAINA   \n",
       "1    SP8hdGSN-0k  Coming Back to Life - Reaching 1500 ft. Sagar ...   \n",
       "2    Tvs-zEOgr7c                       SAGAR SHAH EXPOSED - VLOG #3   \n",
       "3    Ge3MN6-JuOw  ACCIDENTALLY GAVE 10,000 RS. SUPERCHAT TO @Gam...   \n",
       "4    R_LOS5_TpL8  ROAST BATTLE ft. Vidit Gujrathi | Sagar Shah |...   \n",
       "..           ...                                                ...   \n",
       "283  TL4S76ozM60                          PUBG with Ojas and Balraj   \n",
       "284  eLLBm5Ni708                                        Coming soon   \n",
       "285  lwuZ_gEX3mk      Later night chess with friends - Sumit Sourav   \n",
       "286  6JX7VfiYEMc                                     PUBG with Ojas   \n",
       "287  oufJKZur8qM       Later night chess with friends - Balraj Ghai   \n",
       "\n",
       "                                       vid_description  \\\n",
       "0    JOIN MY GRAPHY https://share.graphyapp.co/8K8w...   \n",
       "1    JOIN MY GRAPHY https://share.graphyapp.co/8K8w...   \n",
       "2    JOIN MY GRAPHY https://share.graphyapp.co/8K8w...   \n",
       "3    Play at https://conquer2020.net/\\n\\nPrizes:\\nT...   \n",
       "4    This was recorded in Pune. It was Vidit and Sa...   \n",
       "..                                                 ...   \n",
       "283                                                      \n",
       "284                                                      \n",
       "285                                                      \n",
       "286                                                      \n",
       "287  Follow me on instagram - https://www.instagram...   \n",
       "\n",
       "                                        thumbnail_url           upload_time  \\\n",
       "0    https://i.ytimg.com/vi/8ifjYxkMhUg/hqdefault.jpg  2021-01-10T09:59:47Z   \n",
       "1    https://i.ytimg.com/vi/SP8hdGSN-0k/hqdefault.jpg  2021-01-04T01:11:08Z   \n",
       "2    https://i.ytimg.com/vi/Tvs-zEOgr7c/hqdefault.jpg  2020-12-29T03:53:41Z   \n",
       "3    https://i.ytimg.com/vi/Ge3MN6-JuOw/hqdefault.jpg  2020-12-27T10:34:17Z   \n",
       "4    https://i.ytimg.com/vi/R_LOS5_TpL8/hqdefault.jpg  2020-12-26T15:05:31Z   \n",
       "..                                                ...                   ...   \n",
       "283  https://i.ytimg.com/vi/TL4S76ozM60/hqdefault.jpg  2020-03-24T21:00:10Z   \n",
       "284  https://i.ytimg.com/vi/eLLBm5Ni708/hqdefault.jpg  2020-03-24T04:12:14Z   \n",
       "285  https://i.ytimg.com/vi/lwuZ_gEX3mk/hqdefault.jpg  2020-03-23T22:36:59Z   \n",
       "286  https://i.ytimg.com/vi/6JX7VfiYEMc/hqdefault.jpg  2020-03-23T19:25:48Z   \n",
       "287  https://i.ytimg.com/vi/oufJKZur8qM/hqdefault.jpg  2020-03-22T22:34:23Z   \n",
       "\n",
       "       duration   views  likes dislikes comment_counts  \n",
       "0       PT8M38S  206794  22811      339            761  \n",
       "1    PT1H27M46S  183488  13163      241            433  \n",
       "2      PT14M27S  371705  39035      287           1064  \n",
       "3       PT6M25S  211581  26742      347            527  \n",
       "4      PT12M13S  494770  50353      516           2108  \n",
       "..          ...     ...    ...      ...            ...  \n",
       "283  PT1H18M30S   20762   1282       24             40  \n",
       "284     PT1M37S  374783  30889      630           1137  \n",
       "285  PT1H35M11S   24606   1208       20             48  \n",
       "286  PT1H29M34S   28410   1768       25             63  \n",
       "287    PT45M13S   76945   4610       46            288  \n",
       "\n",
       "[288 rows x 10 columns]"
      ]
     },
     "execution_count": 49,
     "metadata": {},
     "output_type": "execute_result"
    }
   ],
   "source": [
    "raw"
   ]
  },
  {
   "cell_type": "code",
   "execution_count": 50,
   "metadata": {},
   "outputs": [],
   "source": [
    "df = raw.copy()"
   ]
  },
  {
   "cell_type": "code",
   "execution_count": 51,
   "metadata": {},
   "outputs": [],
   "source": [
    "INT_COLS = ['views', 'likes', 'dislikes', 'comment_counts'] \n",
    "\n",
    "df[INT_COLS] = df[INT_COLS].astype(int)"
   ]
  },
  {
   "cell_type": "code",
   "execution_count": 52,
   "metadata": {},
   "outputs": [
    {
     "name": "stdout",
     "output_type": "stream",
     "text": [
      "<class 'pandas.core.frame.DataFrame'>\n",
      "RangeIndex: 288 entries, 0 to 287\n",
      "Data columns (total 10 columns):\n",
      " #   Column           Non-Null Count  Dtype \n",
      "---  ------           --------------  ----- \n",
      " 0   vid_id           288 non-null    object\n",
      " 1   vid_title        288 non-null    object\n",
      " 2   vid_description  288 non-null    object\n",
      " 3   thumbnail_url    288 non-null    object\n",
      " 4   upload_time      288 non-null    object\n",
      " 5   duration         288 non-null    object\n",
      " 6   views            288 non-null    int64 \n",
      " 7   likes            288 non-null    int64 \n",
      " 8   dislikes         288 non-null    int64 \n",
      " 9   comment_counts   288 non-null    int64 \n",
      "dtypes: int64(4), object(6)\n",
      "memory usage: 22.6+ KB\n"
     ]
    }
   ],
   "source": [
    "df.info()"
   ]
  },
  {
   "cell_type": "code",
   "execution_count": 53,
   "metadata": {},
   "outputs": [
    {
     "data": {
      "text/plain": [
       "datetime.datetime(2019, 6, 26, 9, 29, 17, tzinfo=datetime.timezone.utc)"
      ]
     },
     "execution_count": 53,
     "metadata": {},
     "output_type": "execute_result"
    }
   ],
   "source": [
    "import datetime\n",
    "\n",
    "datetime.datetime.strptime('2019-06-26T09:29:17Z', \"%Y-%m-%dT%H:%M:%S%z\")"
   ]
  },
  {
   "cell_type": "code",
   "execution_count": 54,
   "metadata": {},
   "outputs": [],
   "source": [
    "df['upload_date'] = df['upload_time'].apply(\n",
    "    lambda x: datetime.datetime.strptime(x, \"%Y-%m-%dT%H:%M:%S%z\").day\n",
    ")\n",
    "df['upload_month'] = df['upload_time'].apply(\n",
    "    lambda x: datetime.datetime.strptime(x, \"%Y-%m-%dT%H:%M:%S%z\").month\n",
    ")\n",
    "df['upload_year'] = df['upload_time'].apply(\n",
    "    lambda x: datetime.datetime.strptime(x, \"%Y-%m-%dT%H:%M:%S%z\").year\n",
    ")\n",
    "df['upload_hour'] = df['upload_time'].apply(\n",
    "    lambda x: datetime.datetime.strptime(x, \"%Y-%m-%dT%H:%M:%S%z\").hour\n",
    ")\n",
    "df['upload_minute'] = df['upload_time'].apply(\n",
    "    lambda x: datetime.datetime.strptime(x, \"%Y-%m-%dT%H:%M:%S%z\").minute\n",
    ")\n",
    "df['upload_second'] = df['upload_time'].apply(\n",
    "    lambda x: datetime.datetime.strptime(x, \"%Y-%m-%dT%H:%M:%S%z\").second\n",
    ")"
   ]
  },
  {
   "cell_type": "code",
   "execution_count": 55,
   "metadata": {},
   "outputs": [],
   "source": [
    "dur = 'PT1H58M45S'\n",
    "\n",
    "def convert_dur(s):\n",
    "    mapp = { 'H': '*60', 'M': '*1', 'S': '/60' }\n",
    "    time, val, units, prev_char = 0, [], [], True\n",
    "    for char in s[2:]:\n",
    "        if char.isdigit():\n",
    "            if prev_char:\n",
    "                val.append(char)\n",
    "            else:\n",
    "                val[-1] += char\n",
    "            prev_char = False\n",
    "        else:\n",
    "            units.append(char)\n",
    "            prev_char = True\n",
    "           \n",
    "    for u, v in zip(units, val):\n",
    "        time += eval(v+mapp[u])\n",
    "        \n",
    "    return time"
   ]
  },
  {
   "cell_type": "code",
   "execution_count": 56,
   "metadata": {},
   "outputs": [
    {
     "data": {
      "text/plain": [
       "118.75"
      ]
     },
     "execution_count": 56,
     "metadata": {},
     "output_type": "execute_result"
    }
   ],
   "source": [
    "convert_dur(dur)"
   ]
  },
  {
   "cell_type": "code",
   "execution_count": 57,
   "metadata": {},
   "outputs": [],
   "source": [
    "df['vid_dur'] = df['duration'].apply(lambda x: convert_dur(x))"
   ]
  },
  {
   "cell_type": "code",
   "execution_count": 58,
   "metadata": {},
   "outputs": [],
   "source": [
    "CATEGORY_COLS = ['upload_year', 'upload_month', 'upload_date', 'upload_hour', 'upload_minute', 'upload_second'] \n",
    "\n",
    "df[CATEGORY_COLS] = df[CATEGORY_COLS].astype('category')"
   ]
  },
  {
   "cell_type": "code",
   "execution_count": 59,
   "metadata": {},
   "outputs": [],
   "source": [
    "df['likes_percent'] = df['likes']  * 100 / (df['likes'] + df['dislikes'])\n",
    "df['dislikes_percent'] = df['dislikes'] * 100 / (df['likes'] + df['dislikes'])\n",
    "\n",
    "df['likes_percent'].fillna(0, inplace=True)\n",
    "df['dislikes_percent'].fillna(0, inplace=True)"
   ]
  },
  {
   "cell_type": "code",
   "execution_count": 60,
   "metadata": {},
   "outputs": [
    {
     "name": "stdout",
     "output_type": "stream",
     "text": [
      "<class 'pandas.core.frame.DataFrame'>\n",
      "RangeIndex: 288 entries, 0 to 287\n",
      "Data columns (total 19 columns):\n",
      " #   Column            Non-Null Count  Dtype   \n",
      "---  ------            --------------  -----   \n",
      " 0   vid_id            288 non-null    object  \n",
      " 1   vid_title         288 non-null    object  \n",
      " 2   vid_description   288 non-null    object  \n",
      " 3   thumbnail_url     288 non-null    object  \n",
      " 4   upload_time       288 non-null    object  \n",
      " 5   duration          288 non-null    object  \n",
      " 6   views             288 non-null    int64   \n",
      " 7   likes             288 non-null    int64   \n",
      " 8   dislikes          288 non-null    int64   \n",
      " 9   comment_counts    288 non-null    int64   \n",
      " 10  upload_date       288 non-null    category\n",
      " 11  upload_month      288 non-null    category\n",
      " 12  upload_year       288 non-null    category\n",
      " 13  upload_hour       288 non-null    category\n",
      " 14  upload_minute     288 non-null    category\n",
      " 15  upload_second     288 non-null    category\n",
      " 16  vid_dur           288 non-null    float64 \n",
      " 17  likes_percent     288 non-null    float64 \n",
      " 18  dislikes_percent  288 non-null    float64 \n",
      "dtypes: category(6), float64(3), int64(4), object(6)\n",
      "memory usage: 39.8+ KB\n"
     ]
    }
   ],
   "source": [
    "df.info()"
   ]
  },
  {
   "cell_type": "code",
   "execution_count": 61,
   "metadata": {},
   "outputs": [
    {
     "data": {
      "application/vnd.plotly.v1+json": {
       "config": {
        "plotlyServerURL": "https://plot.ly"
       },
       "data": [
        {
         "customdata": [
          [
           "BEST OF THE WEEK 11 | SAMAY RAINA"
          ],
          [
           "Coming Back to Life - Reaching 1500 ft. Sagar Exposed Shah"
          ]
         ],
         "hovertemplate": "Year=2021<br>Video Length (mins)=%{x}<br>Total Views=%{y}<br>Like Percentage=%{marker.size}<br>Video Title=%{customdata[0]}<extra></extra>",
         "legendgroup": "2021",
         "marker": {
          "color": "#636efa",
          "opacity": 0.4,
          "size": [
           98.53563714902808,
           98.2020292450015
          ],
          "sizemode": "area",
          "sizeref": 0.24944232861806312,
          "symbol": "circle"
         },
         "mode": "markers",
         "name": "2021",
         "orientation": "v",
         "showlegend": true,
         "type": "scatter",
         "x": [
          8.633333333333333,
          87.76666666666667
         ],
         "xaxis": "x",
         "y": [
          206794,
          183488
         ],
         "yaxis": "y"
        },
        {
         "customdata": [
          [
           "SAGAR SHAH EXPOSED - VLOG #3"
          ],
          [
           "ACCIDENTALLY GAVE 10,000 RS. SUPERCHAT TO @GamerFleet | BUDWEISER CONQUER 2020"
          ],
          [
           "ROAST BATTLE ft. Vidit Gujrathi | Sagar Shah | Samay Raina | Vaibhav Sethia"
          ],
          [
           "Good evening chess ft. Vidit Gujrathi"
          ],
          [
           "SAMAY RAINA IN DELHI ft. @Suhani Shah @SOUL Sangwan @Nishant Tanwar"
          ],
          [
           "THE WEIGHTLOSS VLOG | SAMAY RAINA"
          ],
          [
           "ADOPTING VAIBHAV SETHIA"
          ],
          [
           "GM ABISH MATHEW - THE NAME IS ENOUGH"
          ],
          [
           "Stream ends when I make one mistake in Puzzle Rush | LONG STREAM | ADDRESS REVEAL CHALLENGE*"
          ],
          [
           "BEST OF THE WEEK 10 | SAMAY RAINA"
          ],
          [
           "YOUTUBE vs TWITCH ft. Alexandra Botez"
          ],
          [
           "THIS IS GM ABISH MATHEW'S IMMORTAL | BEST OF COB3"
          ],
          [
           "ACHARA KIRK COMPLETELY SPOILED ft. @jaby koay  @GamerFleet  [18+]"
          ],
          [
           "THIS IS KUSHA KAPILA's IMMORTAL | BEST OF COB3"
          ],
          [
           "COMEDIANS ON BOARD | NO MERCY | GRAND FINALE"
          ],
          [
           "COMEDIANS ON BOARD | NO MERCY | DAY 2 QUARTER FINALS"
          ],
          [
           "COMEDIANS ON BOARD 3 | NO MERCY | DAY 1"
          ],
          [
           "Comedians On Board 3 - Teaser #2"
          ],
          [
           "SASTEY IMPRACTICAL JOKERS EP 02 FT. @Karan Singh Boomer @GamerFleet"
          ],
          [
           "COB 3 OFFICIAL TRAILER #1"
          ],
          [
           "CHESS FUNDAMENTALS ft. ARAVIND SA"
          ],
          [
           "WE PRANK CALLED YOUTUBERS!"
          ],
          [
           "MEMBERS vs SUBS BATTLE against ALEXANDRA BOTEZ"
          ],
          [
           "IF SAMAY RAINA WAS MARIO | VIDEO BY @BeastStats"
          ],
          [
           "SASTEY IMPRACTICAL JOKERS ft. @GamerFleet @RIDER OP"
          ],
          [
           "WWE, PRANK CALL AND MUCH MORE FT. SHAMERFLEET, JABY KOAY AND DANK RISHU"
          ],
          [
           "MEMBERS vs SUBS BATTLE FT. ANNA RUDOLF"
          ],
          [
           "HUMAN FALL FLAT FT. CHOWKDI - KSB + RIDEROP"
          ],
          [
           "I LOST THE CHALLENGE SO I WILL LOSE 6.5 KILOS IN 30 DAYS"
          ],
          [
           "BEST OF THE WEEK 9 | SAMAY RAINA"
          ],
          [
           "BM ADOPTED BY GM"
          ],
          [
           "IF I DON'T REACH 1500 BEFORE 10 PM THEN I REVEAL MY GIRL FRIEND"
          ],
          [
           "A brief history of time.....500K Special 💖💖💖"
          ],
          [
           "Training Kenny cuz he loves Chess now ft. Kusha #COB3"
          ],
          [
           "Human Fall Flat ft. Chowkdi"
          ],
          [
           "Reaching 1400 before reaching 500K"
          ],
          [
           "Grand Finale |  Red bull Rubik's Cube ft. KSM and Soham"
          ],
          [
           "Curb you dare - Miniclip #17"
          ],
          [
           "Kenny Sebastian vs Sapan Verma | Samay Raina"
          ],
          [
           "Learn how to Cube EP 04 - Finishing the Cube | Red bull Rubik's cube ft. Tania Sachdev"
          ],
          [
           "[18+] Finding LAURA on Omegle ft. Mehfil"
          ],
          [
           "ERIC ROSEN vs LEVY ROZMAN | SAMAY RAINA"
          ],
          [
           "Learn how to Cube EP 03 - Bottom two layers | Red bull Rubik's cube ft. Tania Sachdev"
          ],
          [
           "Curb your Actually Improving Chess - Miniclip #17"
          ],
          [
           "Members only stream with SAGAR SHAH - Watching Queen's Gambit"
          ],
          [
           "Learn how to Cube EP 02 - Completing the base | Red Bull Rubik's Cube ft. Tania Sachdev"
          ],
          [
           "ENDGAME | SAGAR SHAH DISS [OFFICIAL VIDEO]"
          ],
          [
           "Learn how to Cube EP 01 - The Cross | Red Bull Rubik's Cube ft. Tania Sachdev"
          ],
          [
           "CHAT MADE ME GO TO OMEGLE and OMG!!!!"
          ],
          [
           "CURB YOUR CONFIDENCE ft. @Tanmay Bhat  - Miniclip #16"
          ],
          [
           "GOODBYE CHESS ft. Sagar Shah"
          ],
          [
           "SAMAY RAINA BIRTHDAY SIMUL + COB 3 Lineup Reveal"
          ],
          [
           "SAMAY RAINA AGAINST THE WORLD | TWERK CHALLENGE"
          ],
          [
           "MYTHPAT IS THE LUCKIEST MAN ALIVE ft. TRIGGERED INSAAN"
          ],
          [
           "Curb your guide - Miniclip #15"
          ],
          [
           "SAMAY RAINA NAHI PIGHLEGA - Miniclip #14"
          ],
          [
           "SAIMAN SAYS ROASTS DANK RISHU"
          ],
          [
           "MY UGLY COUSIN"
          ],
          [
           "STREAM ENDS WHEN I LOSE THRICE IN A ROW | SAMAY RAINA AGAINST THE CHAT"
          ],
          [
           "MYTHPAT PLAYS THE GREATEST MOVE EVER in Chess - Miniclip #13"
          ],
          [
           "MYTHPAT vs TRIGGERED INSAAN CHESS"
          ],
          [
           "BULLYING NOOBS ON CHESS.COM - Miniclip #12"
          ],
          [
           "HOW TO AVOID A FORK 220 IQ - Miniclip #11"
          ],
          [
           "NAUGHTY SAGAR SHAH COMPILATION"
          ],
          [
           "SAIMAN SAYS vs DANK RISHU ft. Vidit, KSM, Gamerfleet"
          ],
          [
           "CHESS VARIANTS FT. ANNA RUDOLF and TANIA SACHDEV"
          ],
          [
           "Samay Raina emotional poem ft. @Yahya Bootwala @Suhani Shah @UnErase Poetry"
          ],
          [
           "CHESS with JABY KOAY & ACHARA ft. Vidit Gujrathi"
          ],
          [
           "Once a BM always a BM - Miniclip #9"
          ],
          [
           "BEST OF THE WEEK #8 | SAMAY RAINA"
          ],
          [
           "WWE ft. SHAMERFLEET, CRYDER, RAKAZONE, KARAN SINGH BOOMER, RAMAN CHOBRA"
          ],
          [
           "DEFEATING BISWA ft. Sagar Shah Spoilt"
          ],
          [
           "AMONG US FT. POETS"
          ],
          [
           "DON'T TRUST CHESS GRANDMASTERS FT. INDIAN CHESS SCENE"
          ],
          [
           "CURB YOUR BRILLIANCY - Miniclip #8"
          ],
          [
           "SAMAY RAINA IMvitational day 2 - FINALS"
          ],
          [
           "MODIJI KA KHAUF FT. SUKHBIR, GURSIMRAN KHAMBA and RIDER OP"
          ],
          [
           "LONG STREAM ft. Tanmay, KSB, GamerFleet, Janta"
          ],
          [
           "FALL GUYS INDIA PLAYS - SAMAY RAINA"
          ],
          [
           "SAMAY RAINA IMvitational TOURNAMENT DAY 1"
          ],
          [
           "SAMAY RAINA SPOILS SONGS COMPILATION"
          ],
          [
           "Curb your Badass move - Miniclip #7"
          ],
          [
           "Good night chess ft. My girlfriend Vidit"
          ],
          [
           "JUDIT POLGAR vs Comedians on Board"
          ],
          [
           "BEWAFA SUHANI ft. @Karan Singh Magic @Suhani Shah @GamerFleet"
          ],
          [
           "Among Us ft. Chess Gang"
          ],
          [
           "GM MAGNUS CARLSEN vs BM SAMAY RAINA ft. UPMANYU, VIDIT Highlights"
          ],
          [
           "Curb your clean content ft. Sagar Shah Spoiled  Miniclip #6"
          ],
          [
           "Goodnight Chess (Fog of war) ft. Anish Giri"
          ],
          [
           "Gaadi Waala Aaya compilation - Miniclip #5"
          ],
          [
           "Shortest Game of Magnus Carlsen - Miniclip #4"
          ],
          [
           "PACIFY 2 ft. CHOWKDI"
          ],
          [
           "Good night chess ft. Vidit + UNACADEMY REVELATION"
          ],
          [
           "Divya Deshmukh vs Daniel King  - DICE CHESS"
          ],
          [
           "Curb your leak - MINICLIP #3"
          ],
          [
           "Streaming until I reach 1600"
          ],
          [
           "SAMAY RAINA | INDIA PLAYS @NODWIN Gaming  #IndiaPlays"
          ],
          [
           "SAMAY RAINA | BEST OF THE WEEK #7"
          ],
          [
           "Among Us ft. Tanmay, KSB, Fleet and many friends"
          ],
          [
           "SAMAY RAINA FREESTYLE - MINICLIP #2"
          ],
          [
           "VLADIMIR KRAMNIK vs Comedians on Board ft. Abhishek Upmanyu, Biswa, Sethia and Samay"
          ],
          [
           "Sagar Shah Proud Student - Miniclip #1"
          ],
          [
           "BHOOTNI KI MAA KA BHAROSA - PACIFY HIGHLIGHTS ft. @Karan Singh Magic @Suhani Shah @GamerFleet"
          ],
          [
           "GM Radjabov vs Sagar Shah, Amruta and Samay Raina"
          ],
          [
           "Among Us ft. CARRYMINATI, TANMAY BHAT, KSB, SUHANI SHAH GAMERFLEET, NISHANT TANWAR"
          ],
          [
           "Among Us with Tanmay Bhat, GamerFleet, Karan Singh Boomer, Suhani Shah, Nishant Tanwar, DaddyCool"
          ],
          [
           "Reaching 1600 - NO SCAM ft. Sagar Shah"
          ],
          [
           "VISHY ANAND vs MAGNUS CARLSEN"
          ],
          [
           "CONVINCING RANDOM STRANGERS TO PLAY CHESS ON OMEGLE PART 4"
          ],
          [
           "Chess with Subscribers (JOIN DISCORD) ft. My Friend Vidit"
          ],
          [
           "Dice Chess - MAGNUS CARLSEN vs VIDIT GUJRATHI"
          ],
          [
           "WE WON PACIFY ft. Karan Singh Boomer, GamerFleet, Suhani my cutie"
          ],
          [
           "Blitzing ft. Sagar Shah"
          ],
          [
           "Dice Chess - Alexandra Botez vs Tania Sachdev"
          ],
          [
           "MAGNUS KALICHARAN was on my channel ❤️❤️❤️❤️"
          ],
          [
           "Bakchod Chess ft. Sukhbir, Khamba, Nishant, Karan Singh Boomer"
          ],
          [
           "To Sagar Shah, with love - Happy Teachers' Day"
          ],
          [
           "SAMAY RAINA | BEST OF THE WEEK #6"
          ],
          [
           "CHESS ft. WORLD CHAMPION MAGNUS CARLSEN"
          ],
          [
           "Fall guys ft. Karan Singh Boomer, Tania Sachdev, Vidit Gujrathi"
          ],
          [
           "THE GENIUS OF SAMAY RAINA - EINSTEIN DISS"
          ],
          [
           "FINALE!! INDIA vs RUSSIA CHESS OLYMPIAD LIVE STREAM"
          ],
          [
           "CHESS OLYMPIAD QUARTER FINALS - INDIA vs ARMENIA"
          ],
          [
           "BAWASIR ft. Alexandra Botez, Tania and Karan Singh Boomer"
          ],
          [
           "FALL GUYS unSTRIP challenge ft. Gamer Fleet, Suhani Shah and Karan Singh Boomer"
          ],
          [
           "Good night chess"
          ],
          [
           "Just Chillin' with Sagar Shah and Amruta Mokal"
          ],
          [
           "Members' tournament #2 - Hunt for the strongest member"
          ],
          [
           "I am a GENIUS - I.Q Test"
          ],
          [
           "SAY THE TRUTH Fall Guys ft. Karan Singh Boomer, SUHANI, FLEET"
          ],
          [
           "SAMAY RAINA | BEST OF WEEK #5 ft. @Tanmay Bhat"
          ],
          [
           "Fall guys ft. Alexandra Botez, Tania Sachdev, Karan Singh Magic CHILLI CHALLENGE"
          ],
          [
           "Billu Bewafa ft. @Suhani Shah and @GM Cemil Can Chess"
          ],
          [
           "Goodnight chess - Reaching 1450 ft. Sagar Shah #ARJUNAFORCHESS"
          ],
          [
           "CHESS OLYMPIAD DAY 1 ft. Sagar Shah, Biswa, Sethia"
          ],
          [
           "CONVINCING RANDOM STRANGERS TO PLAY CHESS ON OMEGLE PART 3"
          ],
          [
           "Fall guys ft. Tania Sachdev"
          ],
          [
           "Best of Week #4 ft. Vidit Gujrathi, Sagar Shah, Tanmay Bot"
          ],
          [
           "Reaching 1450 ft. Sagar Shah's voice"
          ],
          [
           "FALL GUYS JEETNA HAI AAJ | FALLS GUYS GIVE AWAY"
          ],
          [
           "Good afternoon chess ft. Tanmay Bot"
          ],
          [
           "Burnol Boys play Fall Guys ft. @Flying Beast @Nishant Tanwar"
          ],
          [
           "I TORE MY SHIRT PLAYING THIS GAME | UNFAIR MARIO"
          ],
          [
           "Noobs play Fall Guys ft. @Tanmay Bhat @Nishant Tanwar"
          ],
          [
           "UNTITLED TUESDAY but on Wednesday (Registration link in dikscription)"
          ],
          [
           "Good afternoon chess - Reaching 1500"
          ],
          [
           "PLAYING THE BEST GAME OF ALL TIME"
          ],
          [
           "HUSBAND vs WIFE ft. Sagar Shah and Amruta (Dice Chess)"
          ],
          [
           "WILL DELETE MY YOUTUBE CHANNEL IF I DON'T REACH 1600 RATING ON CHESS.COM"
          ],
          [
           "DICE CHESS - Anish Giri vs Teimour Radjabov"
          ],
          [
           "BEST OF THE WEEK #3 ft. @Tanmay Bhat  , Biswa"
          ],
          [
           "WILL CHANGE NAME ON CHESS.COM TO WHATEVER YOU SAY IF I DON'T REACH 1300"
          ],
          [
           "Botez sisters play SCRIBBL ft. Agadmator, Vidit, Sagar"
          ],
          [
           "DEFEATING @CarryMinati, @Tanmay Bhat  ft. @BB Ki Vines  HIGHLIGHTS"
          ],
          [
           "CHESS ft. CARRY, BHUVAN and TANMAY BOT"
          ],
          [
           "Happy friendship day ft. Pentala Harikrishna"
          ],
          [
           "BEST OF THE WEEK COMPILATION #2"
          ],
          [
           "RAHUL DUA vs JASPREET SINGH"
          ],
          [
           "CONVINCING RANDOM STRANGERS TO PLAY CHESS ON OMEGLE PART 2"
          ],
          [
           "REACHING 1300 AT ANY COST"
          ],
          [
           "Skribble ft. Botez sisters, AGADMATOR, Sagar Shah, Vidit G"
          ],
          [
           "I LEAKED SUKHBIR's NUMBER 🤦🤦🤦"
          ],
          [
           "BEST OF WEEK COMPILATION #1"
          ],
          [
           "CONVINCING RANDOM STRANGERS TO PLAY CHESS ON OMEGLE Part 1"
          ],
          [
           "Members tournament - Hunt for the strongest member and also reaching 1300"
          ],
          [
           "@BB Ki Vines  FUNNY CHESS HIGHLIGHTS ft. @Tanmay Bhat @Aakash Gupta"
          ],
          [
           "Good night chess - Reaching 1300"
          ],
          [
           "Bhuvan Bam plays chess ft. Aakash Gupta and Tanmay Bot"
          ],
          [
           "Women's Speed Chess Championship finals - Rooting for HUMPY"
          ],
          [
           "Understanding Rap ft. SEEDHE MAUT"
          ],
          [
           "CRASH COURSE: DISCORD"
          ],
          [
           "RAFTAAR vs EPR ft. Vidit Gujrathi"
          ],
          [
           "FLYING BEAST TRIES CHESS ft. Vidit, Sagar, Karan Singh Boomer"
          ],
          [
           "Good evening chess - Road to 1250"
          ],
          [
           "GM ROBERT HESS vs COMEDIANS ON BOARD ft. Anish Giri, Vidit Gujrathi"
          ],
          [
           "PRANK CALLS COMPILATION"
          ],
          [
           "CHESS or SCRIBBLE ft. Anish, Vidit, Radjabov, Tania, Adhiban"
          ],
          [
           "BEST OF ANIRBAN ft. Sagar, Biswa, Vaibhav, Everybody"
          ],
          [
           "Khelna toh chess tha (Prank Calls)"
          ],
          [
           "CURB YOUR ARROGANCE 2 FT. JOEL, BISWA, TANMAY, VIDIT"
          ],
          [
           "HAND and BRAIN ft. BASSI and DEVESH DIXIT"
          ],
          [
           "AWARD CEREMONY ft. Vishy Anand, Alexandra Botez, AGADMATOR, Tania"
          ],
          [
           "COMEDIANS on BOARD 2 - GRAND FINALE LIVE STREAM"
          ],
          [
           "COMEDIANS on BOARD DAY 2 - SEARCH FOR TOP 4"
          ],
          [
           "COMEDIANS on BOARD 2 - DAY 1 (Part 2 of 2)"
          ],
          [
           "COMEDIANS on BOARD 2 -  DAY 1 (Part 1 of 2)"
          ],
          [
           "CURB YOUR ARROGANCE ft. Joel and Biswa"
          ],
          [
           "Practicing for tomorrow's big day ft. Biswa, Rahul Sub, Anirban, Sagar Shah"
          ],
          [
           "Chess ft. Mudit Dani and Sathiyan Gnanasekaran ft. Vidit and @Vivek Desai Illusionist"
          ],
          [
           "WATCH TILL END!!! @Vidit Gujrathi @SOUL Sangwan @MambaSR @GamerFleet"
          ],
          [
           "Understanding Rap ft. E.P.R and RAFTAAR"
          ],
          [
           "RAIDNIGHT ft. @CarryisLive @MambaSR @GamerFleet"
          ],
          [
           "CHILL SESSION FT. BALI, SANGWAN, RAAJ JONES"
          ],
          [
           "MEMBERSHIP ALERT"
          ],
          [
           "RAHUL SUBRAMANIAN vs KUMAR VARUN ft. BELLATRIX"
          ],
          [
           "AAKASH GUPTA vs GAURAV KAPOOR"
          ],
          [
           "Raidnight chess ft. Vidit Gujrathi"
          ],
          [
           "QUALITY CONTENT ft. @Tanmay Bhat @Karan Singh Magic"
          ],
          [
           "TANIA SACHDEV IS A SINGER"
          ],
          [
           "Good night chess"
          ],
          [
           "WWE ft. Tanmay Bot"
          ],
          [
           "Chess Doubles ft. Soundarya Pradhan and Aryan Joshi"
          ],
          [
           "Understanding Rap ft. Kr$na, RAFTAAR, Rohan Cariappa"
          ],
          [
           "Magicians on Board ft. Karan Singh Magic, Tania Sachdev and Suhani Shah"
          ],
          [
           "TEACHER vs STUDENTS ft. IM SAGAR SHAH"
          ],
          [
           "UNBOXING NEW LAPTOP IN FRONT OF OLD LAPTOP"
          ],
          [
           "4 Player Chess ft. Tanmay Bot, Kaneez, Sethia and Hackerman"
          ],
          [
           "Subscribers Chess Tournament (Open to all ratings) for West Bengal"
          ],
          [
           "Sagar Shah Spoiled ft. @Chess Talk @ChessBase India"
          ],
          [
           "Subscribers Chess Tournament (0-1800) for West Bengal"
          ],
          [
           "Subscribers Chess tournament (0-1400) for West Bengal"
          ],
          [
           "Clear all your doubts about the tournament"
          ],
          [
           "GM PENTALA HARIKRISHNA and RAJ TARUN vs Comedians on Board"
          ],
          [
           "BISWAASGHAAT Compilation ft. @Vidit Gujrathi"
          ],
          [
           "WE TRIED TO DEFEAT ANISH GIRI"
          ],
          [
           "GHODA IS A RESPECTABLE ANIMAL COMPILATION ft. @Biswa Kalyan Rath"
          ],
          [
           "4 Player Chess ft. Nihal Sarin, Vidit Gujrathi, Vaibhav Sethia and Anirban Dasgupta"
          ],
          [
           "GM Harika Dronavalli and Kaneez Surkha vs GM S.P Sethuraman and Rahul Subramanian"
          ],
          [
           "Chess with Subscribers (Join Discord)"
          ],
          [
           "TAG TEAM MATCH - Chessbase India vs Chess Talk ft. Tanmay Bot"
          ],
          [
           "Comedians on Board vs GM S.P SETHURAMAN"
          ],
          [
           "Pokemon Ruby - The Beginning"
          ],
          [
           "4 PLAYER CHESS ft. Alexandra Botez, Agadmator, Anish Giri and Vidit Gujrathi"
          ],
          [
           "DEFEATING VIDIT GUJRATHI"
          ],
          [
           "Blind Chess Players vs Comedians on Board"
          ],
          [
           "PUBG ft.YUZVENDRA CHAHAL, RAFTAAR, TANMAY BOT"
          ],
          [
           "Pokemon Fire Red - The Ending"
          ],
          [
           "Completing Pokemon Fire Red maybe"
          ],
          [
           "TRAINING KUSHA KAPILA ft. Sagar Shah"
          ],
          [
           "Pokemon Fire Red because why not"
          ],
          [
           "Non Violent Chess ft. Gang"
          ],
          [
           "PUBG ft. KR$NA - FUNNY HIGHLIGHTS"
          ],
          [
           "Pokemon Fire Red continues"
          ],
          [
           "Alexandra Botez vs Vidit Gujrathi (Blindfold)"
          ],
          [
           "Pokemon Fire Red (NSFW)"
          ],
          [
           "Pokemon Fire Red (Fail)"
          ],
          [
           "Botez and Kusha vs Kaneez and Biswa HIGHLIGHTS"
          ],
          [
           "Good evening chess ft. Vidit and Gang"
          ],
          [
           "Blindfold chess - Biswa vs Sethia"
          ],
          [
           "[Re-Upload] CHESS FOR CHARITY 2.0 ft. RAFTAAR, ANISH GIRI, CarryMinati and many lovely people"
          ],
          [
           "Blindfold Chess ft. My friend Vidit Gujrathi"
          ],
          [
           "4 Player chess ft. Vidit"
          ],
          [
           "4 player chess ft. Biswa, Sethia and Anirban"
          ],
          [
           "ADHIBAN FUNNY  HIGHLIGHTS"
          ],
          [
           "Online chess championship finals and 4 player chess ft. Biswa, Tanmay, Sagar and Sethia and"
          ],
          [
           "LIVE STREAMING World Online Chess Cup India vs China, India vs Russia ft. Tania"
          ],
          [
           "LIVE STREAMING World Online Chess Cup India vs ROW, India vs Europe"
          ],
          [
           "LIVE STREAMING World Online Chess Cup India vs Russia, India vs USA"
          ],
          [
           "WHEN LEGENDS MEET - Abish Mathew vs Yahya Bootwala highlights ft. Biswa hacker"
          ],
          [
           "World Online Chess Cup India vs China ft. Adibhan"
          ],
          [
           "LIVE STREAMING World Online Chess Cup INDIA vs USA"
          ],
          [
           "BISWA HACKER COMPILATION"
          ],
          [
           "VIDIT GUJRATHI vs NIHAL SARIN ft. Tanmay Bot"
          ],
          [
           "Chess Puzzles ft. Sagar Shah, Biswa, Sapan and Gang"
          ],
          [
           "Understanding chess #3 ft. Nihal Sarin"
          ],
          [
           "VISWANATHAN ANAND vs GM ABISH MATHEW (Match of the century) Highlights"
          ],
          [
           "Chess ft. GM Adhiban, the beast @Biswa Kalyan Rath @VAIBHAV SETHIA"
          ],
          [
           "Understanding chess #2 with Vidit Gujrathi, Sethia and Biswa Hacker"
          ],
          [
           "CHESS FOR CHARITY ft. VISWANATHAN ANAND, YUZVENDRA CHAHAL"
          ],
          [
           "Chess ft. Varun Thakur"
          ],
          [
           "Fun with AGADMATOR ft. @Biswa Kalyan Rath @Abhishek Upmanyu @agadmator's Chess Channel"
          ],
          [
           "PUBG FT. RAFTAAR, KR$NA, TANMAY BHAT and YUNAN HIGHLIGHTS"
          ],
          [
           "Defeating Aakash Mehta ft. Nihal Sarin and @Biswa Kalyan Rath Hacker"
          ],
          [
           "Aakash Mehta vs Abhishek Upmanyu  (Title match)"
          ],
          [
           "YUZVENDRA CHAHAL vs Comedians on Board ft. @Abhishek Upmanyu @Biswa Kalyan Rath @Karunesh Talwar"
          ],
          [
           "Understanding chess ft. Vidit Gujrathi @Biswa Kalyan Rath @Kunal Rao"
          ],
          [
           "PUBG ft. Raftaar, Kr$na and Tanmay Bhat  FULL STREAM"
          ],
          [
           "VIDIT GUJRATHI VS COMEDIANS ON BOARD ft. @Abhishek Upmanyu @Biswa Kalyan Rath @VAIBHAV SETHIA"
          ],
          [
           "PUBG ft. KR$NA"
          ],
          [
           "Agadmator vs Indian Comedians ft. @Abhishek Upmanyu @Biswa Kalyan Rath @agadmator's Chess Channel"
          ],
          [
           "PUBG Road to Bronze"
          ],
          [
           "FINALE - Chess tournament"
          ],
          [
           "SEMI FINALS"
          ],
          [
           "Tournament Quarter finals"
          ],
          [
           "Chess tournament match 11 Varun Grover vs Anubhav Singh Bassi"
          ],
          [
           "Chess tournament matches 6,7,8,9 and 10"
          ],
          [
           "Chess tournament matches 2,3,4 and 5"
          ],
          [
           "Chess tournament match 1 Rahul Dua vs Sumit Sourav"
          ],
          [
           "Kidnapped in PUBG custom room"
          ],
          [
           "Chess practice before tournament with Vaibhav Sethia"
          ],
          [
           "Aresole Just Went to War"
          ],
          [
           "PUBG with Ojas and Balraj"
          ],
          [
           "Coming soon"
          ],
          [
           "Later night chess with friends - Sumit Sourav"
          ],
          [
           "PUBG with Ojas"
          ],
          [
           "Later night chess with friends - Balraj Ghai"
          ]
         ],
         "hovertemplate": "Year=2020<br>Video Length (mins)=%{x}<br>Total Views=%{y}<br>Like Percentage=%{marker.size}<br>Video Title=%{customdata[0]}<extra></extra>",
         "legendgroup": "2020",
         "marker": {
          "color": "#EF553B",
          "opacity": 0.4,
          "size": [
           99.27012868114541,
           98.71903724759127,
           98.98562975486053,
           98.96573640723406,
           98.56154282473057,
           98.96302577419753,
           99.02352146410367,
           99.45479733655093,
           99.23336575318955,
           98.87981967828968,
           99.35960758933133,
           99.30743751881963,
           99.40269132186012,
           99.29518523413066,
           99.11478824346216,
           99.17864181015263,
           99.22755227552275,
           99.30122662376834,
           99.35014548981572,
           98.88452932974481,
           98.79934684468351,
           99.22313436297017,
           98.9956866027168,
           98.77049180327869,
           99.22010733176326,
           98.4392058549998,
           98.85120954379764,
           98.4825219040737,
           98.68789860665395,
           98.83826534473624,
           98.99965505346671,
           98.66469435893336,
           99.43607993430058,
           98.76864551006106,
           98.86938015429635,
           98.84515890613451,
           99.15764963703602,
           99.42813742572488,
           98.56485034535687,
           98.28629032258064,
           99.06790522290835,
           99.07849829351535,
           98.4517144856543,
           98.99350790815215,
           97.53086419753086,
           97.3693114532228,
           96.86238411466894,
           98.30359905125296,
           99.3575711430475,
           99.20827204291771,
           97.86125582670688,
           99.4019730181527,
           99.27091423846866,
           99.07090868989854,
           99.42503020269363,
           99.56123651527513,
           99.0674241612177,
           99.34437715830039,
           98.54532339504689,
           99.49558638083228,
           98.21024617431803,
           99.42502229191649,
           99.60540980150004,
           99.30322461168083,
           98.39838778107764,
           98.96167844144723,
           99.58600039719519,
           98.87384724521164,
           99.64864750455065,
           99.24048183445407,
           98.6767895878525,
           99.19538053767512,
           98.25723030795177,
           99.35802036826286,
           99.45803272919233,
           98.93317528522743,
           98.78037803780379,
           98.5990590695243,
           99.27504962457927,
           99.21747115423005,
           98.67829952239089,
           99.49798433102609,
           98.90795631825273,
           98.91849116328146,
           99.49856733524355,
           98.85675348273773,
           99.49427996268473,
           99.41186721268625,
           99.09799868458141,
           99.36168204450527,
           99.53386344941048,
           99.10438749496846,
           98.87557017078603,
           99.3024942804531,
           99.25808922075436,
           98.58237390912443,
           99.19049484266876,
           99.20157287745462,
           98.46919659583578,
           97.29528535980148,
           99.2118951295119,
           99.4967932905772,
           99.38616071428571,
           99.0989103101425,
           98.05057767285474,
           98.50543927520418,
           98.71045960542268,
           99.31829348182116,
           99.38094558291047,
           98.57651245551601,
           99.20418101912341,
           98.88424967544998,
           98.71901687148511,
           98.81968492415744,
           98.95369497027792,
           98.70856213138093,
           99.77693144722525,
           99.3146833485626,
           99.0727255968292,
           98.49509821654668,
           98.9563495086463,
           99.2836676217765,
           99.2848591771155,
           99.3180331169158,
           98.92440073755378,
           98.70907390084191,
           98.0777594154997,
           98.57891671520093,
           97.6613447267821,
           98.76645417667025,
           99.12085834475587,
           98.7536704730832,
           99.32870189680743,
           98.86713458933629,
           99.23076923076923,
           99.22562380304754,
           98.11848639574735,
           99.35067022405092,
           98.88464476699771,
           98.31922611850061,
           98.10908399847966,
           98.60709358729028,
           99.32032402162994,
           98.67070755566225,
           98.38394793926247,
           97.78288340034463,
           98.1387821161238,
           98.91579327791833,
           88.6076941158035,
           98.72876712328767,
           98.85942300222466,
           98.02763539112993,
           99.35704239501707,
           98.52063452634775,
           98.73947802546424,
           98.54389272993924,
           98.78646552134393,
           98.71794871794872,
           98.89965804434934,
           98.37014098280498,
           98.67609254498714,
           99.2365532540117,
           99.06549489004652,
           98.90217604391296,
           97.95504478620923,
           99.02093518866742,
           97.91706478119626,
           98.9556312453477,
           98.40621963070943,
           98.33501052053792,
           98.75582098041306,
           99.27735719201652,
           98.93379191745485,
           98.01944544472452,
           99.11373707533235,
           99.1903551799539,
           98.59243938871653,
           99.3339892530084,
           98.52505341512165,
           99.17695473251028,
           97.75587080227619,
           98.77539877539877,
           99.07755014480317,
           98.83106895667777,
           99.12595508219495,
           98.91079305067963,
           99.32053880081058,
           98.3642972536349,
           97.34967227130237,
           99.32648594039401,
           98.91734197730956,
           98.89179637409951,
           98.61826872806034,
           96.95839549146362,
           98.3117393011386,
           98.50058570870753,
           98.241288625904,
           99.3635176722932,
           99.3399446197437,
           98.16561844863732,
           97.46728302623869,
           98.39363458940099,
           98.53000932189211,
           98.60574106619801,
           97.16401449503702,
           88.60834218826426,
           97.44238336143901,
           98.35899171037049,
           99.3886787354769,
           98.39846252402306,
           98.46612697060077,
           97.86856127886324,
           98.63382720800462,
           99.37699217618082,
           98.92048752176436,
           99.11634756995582,
           98.28044395810537,
           96.08346160424149,
           98.78223495702005,
           98.02616738100609,
           98.89042995839112,
           97.38348323793949,
           98.71129532235032,
           99.21746443851245,
           99.1214859437751,
           97.71146728748806,
           90.5292479108635,
           93.58858178522881,
           97.40154283394234,
           95.97826086956522,
           98.43780511618824,
           97.05862234078938,
           96.68279198341396,
           98.96744717304398,
           97.51941328731665,
           96.75622542595019,
           98.62818457153037,
           97.46948496576363,
           97.93042712461471,
           98.7786152987158,
           98.53840021259633,
           98.5428404896056,
           97.47243882764184,
           99.2071826105219,
           95.9665371974903,
           98.25814318063055,
           98.18924196698029,
           97.95944892123732,
           98.82336938039856,
           97.43336623889438,
           97.03117268678872,
           98.46087050906328,
           99.14640842609694,
           98.69144203088197,
           98.23815309842041,
           99.01272927733788,
           98.63957003694995,
           98.26751592356688,
           98.47343280642143,
           96.9289019772823,
           98.77954779033915,
           98.30846764133527,
           98.7536064627813,
           98.05440771349862,
           98.12786903379238,
           98.56417053236139,
           97.03941942932542,
           98.0403902105083,
           96.66421613673957,
           98.03393482359279,
           97.50889679715303,
           98.11930649426976,
           97.66803840877915,
           97.19648372535043,
           96.81378333726694,
           97.36638264910921,
           98.60356865787432,
           98.38909541511772,
           98.1138727304777,
           98.02445907808091,
           98.18149717514125,
           98.16232771822358,
           98.00120562200577,
           98.37133550488599,
           98.60568878973787,
           99.01202749140893
          ],
          "sizemode": "area",
          "sizeref": 0.24944232861806312,
          "symbol": "circle"
         },
         "mode": "markers",
         "name": "2020",
         "orientation": "v",
         "showlegend": true,
         "type": "scatter",
         "x": [
          14.45,
          6.416666666666667,
          12.216666666666667,
          45.81666666666667,
          10.233333333333333,
          9.266666666666667,
          99.03333333333333,
          11.216666666666667,
          48.6,
          7.533333333333333,
          11.716666666666667,
          10.266666666666667,
          8.866666666666667,
          10.2,
          205.36666666666667,
          398.51666666666665,
          522.7833333333333,
          2.35,
          10.183333333333334,
          3.466666666666667,
          88.85,
          8.583333333333334,
          128.33333333333334,
          5.366666666666666,
          10.05,
          245.98333333333332,
          123.18333333333334,
          157.16666666666666,
          146.16666666666666,
          11.05,
          73.03333333333333,
          50.983333333333334,
          14.733333333333333,
          138.76666666666668,
          144.45,
          76.16666666666667,
          57.45,
          1.15,
          122.48333333333333,
          114.68333333333334,
          11.25,
          100.95,
          68.75,
          1.4,
          14.233333333333333,
          64.15,
          3.3166666666666664,
          64.18333333333334,
          9.75,
          1.1666666666666667,
          128.46666666666667,
          137.06666666666666,
          10.666666666666666,
          10.366666666666667,
          1.4333333333333333,
          0.4666666666666667,
          11.95,
          8.783333333333333,
          157.58333333333334,
          1.6,
          119.36666666666666,
          1.2333333333333334,
          1.2,
          11.283333333333333,
          124.31666666666666,
          110.3,
          1.95,
          96.1,
          0.8166666666666667,
          9.083333333333334,
          135.93333333333334,
          86.66666666666667,
          75.33333333333333,
          11.95,
          1.2833333333333332,
          221.51666666666668,
          10.083333333333334,
          182.63333333333333,
          45.96666666666667,
          128.75,
          8.783333333333333,
          1,
          86.55,
          106.65,
          11.1,
          162.31666666666666,
          9,
          1,
          72.78333333333333,
          1.8,
          1,
          112.81666666666666,
          57.43333333333333,
          89.83333333333333,
          1.5833333333333335,
          403.96666666666664,
          64.51666666666667,
          10.116666666666667,
          162.85,
          2.45,
          93.91666666666667,
          1,
          12.516666666666667,
          97.7,
          220.36666666666667,
          198.56666666666666,
          92.58333333333333,
          92.31666666666666,
          10.416666666666666,
          121.28333333333333,
          6.866666666666667,
          134.23333333333332,
          88.96666666666667,
          53.2,
          10.216666666666667,
          88.6,
          7.8,
          8.933333333333334,
          145.33333333333334,
          127.58333333333333,
          10.333333333333334,
          255.21666666666667,
          196.28333333333333,
          9.816666666666666,
          68.35,
          56.833333333333336,
          77.7,
          147.43333333333334,
          82.83333333333333,
          118.25,
          8.116666666666667,
          84.85,
          6,
          79.76666666666667,
          176.76666666666668,
          10.933333333333334,
          104.43333333333334,
          8.6,
          56.5,
          123.83333333333333,
          63.416666666666664,
          83.95,
          14.166666666666666,
          81.6,
          118.26666666666667,
          72.93333333333334,
          156.33333333333334,
          79.26666666666667,
          11.766666666666667,
          63.516666666666666,
          7.9,
          97.46666666666667,
          7.683333333333334,
          9.383333333333333,
          119.51666666666667,
          45.333333333333336,
          7.333333333333333,
          96.33333333333333,
          8.4,
          129.16666666666666,
          94.75,
          9.55,
          9.4,
          9.8,
          108.25,
          9.216666666666667,
          94.51666666666667,
          111.63333333333334,
          108.45,
          128.91666666666666,
          8.583333333333334,
          9.333333333333334,
          94.6,
          90.91666666666667,
          91.41666666666667,
          11.95,
          134.33333333333334,
          12.966666666666667,
          105.21666666666667,
          9.5,
          78.21666666666667,
          11.983333333333333,
          168.25,
          253.41666666666666,
          119.51666666666667,
          222.41666666666666,
          6.116666666666666,
          191.15,
          75.01666666666667,
          9.2,
          99.36666666666666,
          8.383333333333333,
          167.58333333333334,
          4.333333333333333,
          76.35,
          92.66666666666667,
          36.43333333333333,
          9.033333333333333,
          9,
          98.61666666666666,
          88.35,
          110.75,
          151.1,
          99.1,
          108.91666666666667,
          16.75,
          135,
          262.03333333333336,
          7.6,
          113.35,
          132.88333333333333,
          37.35,
          114.33333333333333,
          6.7,
          78.75,
          5.8,
          72.93333333333334,
          84,
          64.16666666666667,
          130.98333333333332,
          97.66666666666667,
          73.58333333333333,
          98.5,
          9.483333333333333,
          115.48333333333333,
          75.28333333333333,
          117.91666666666667,
          168.38333333333333,
          80.1,
          126.18333333333334,
          84.51666666666667,
          10.383333333333333,
          171.9,
          127.33333333333333,
          145.76666666666668,
          29.516666666666666,
          9.516666666666667,
          67.35,
          94.41666666666667,
          152.36666666666667,
          124.26666666666667,
          77.43333333333334,
          114.41666666666667,
          10.716666666666667,
          179.11666666666667,
          231.86666666666667,
          202.03333333333333,
          215.78333333333333,
          8.783333333333333,
          141.63333333333333,
          233.63333333333333,
          8.133333333333333,
          8.416666666666666,
          91.4,
          96.6,
          11.9,
          67.83333333333333,
          50.666666666666664,
          254.56666666666666,
          34.583333333333336,
          12.766666666666667,
          26.566666666666666,
          34.3,
          28.1,
          69.73333333333333,
          120.18333333333334,
          85.91666666666667,
          76.05,
          95.85,
          48.4,
          50.6,
          75.26666666666667,
          91.3,
          139.18333333333334,
          25.483333333333334,
          155.91666666666666,
          110.9,
          17.9,
          16.933333333333334,
          44.46666666666667,
          1.6833333333333333,
          78.5,
          1.6166666666666667,
          95.18333333333334,
          89.56666666666666,
          45.21666666666667
         ],
         "xaxis": "x",
         "y": [
          371705,
          211581,
          494770,
          199049,
          409018,
          469840,
          247437,
          200201,
          139309,
          284116,
          288968,
          248069,
          411854,
          238633,
          749759,
          1165676,
          1650208,
          185972,
          391910,
          214016,
          152884,
          356180,
          392937,
          212613,
          462922,
          420908,
          357631,
          363024,
          307166,
          217047,
          210235,
          216244,
          390234,
          271595,
          452045,
          181748,
          152338,
          178250,
          285182,
          140722,
          759027,
          159233,
          117725,
          232446,
          301,
          156665,
          684587,
          246462,
          376751,
          204409,
          317081,
          484406,
          333648,
          385945,
          352479,
          612540,
          352647,
          181906,
          325188,
          254650,
          609731,
          326879,
          367809,
          572213,
          314618,
          263867,
          664648,
          394345,
          275219,
          228246,
          324010,
          198377,
          260536,
          525195,
          349686,
          350862,
          260812,
          332951,
          158598,
          299962,
          426771,
          323825,
          194051,
          331155,
          316956,
          636897,
          275101,
          260562,
          151559,
          936082,
          210894,
          390348,
          123883,
          194056,
          273096,
          444366,
          236345,
          343792,
          389169,
          257267,
          230513,
          256639,
          488881,
          171778,
          723419,
          598446,
          147036,
          621997,
          818185,
          200542,
          161599,
          361431,
          148360,
          304114,
          407316,
          258461,
          271300,
          261506,
          669863,
          394723,
          496465,
          899705,
          493740,
          533219,
          315497,
          96666,
          181649,
          150748,
          142743,
          355059,
          248700,
          482901,
          332362,
          121724,
          341229,
          814544,
          517588,
          296366,
          119845,
          273794,
          149199,
          390864,
          537919,
          483499,
          149059,
          129305,
          87930,
          179717,
          145057,
          151543,
          361989,
          147202,
          125334,
          2257788,
          794298,
          154658,
          270648,
          211414,
          943059,
          187723,
          396773,
          368821,
          304697,
          1544323,
          104840,
          1061179,
          86396,
          524372,
          117614,
          174616,
          355703,
          303883,
          460128,
          98964,
          169834,
          748861,
          466434,
          186673,
          259161,
          508604,
          303846,
          275210,
          381395,
          339157,
          248313,
          374639,
          352279,
          108029,
          58940,
          365105,
          199137,
          1257070,
          213065,
          138325,
          157467,
          230798,
          97567,
          420505,
          454480,
          69753,
          276100,
          85501,
          647915,
          428249,
          122530,
          393811,
          173613,
          124548,
          555937,
          76250,
          98159,
          36708,
          118386,
          375893,
          178683,
          458591,
          145397,
          134240,
          55075,
          160897,
          104523,
          57057,
          566544,
          496086,
          115294,
          3824342,
          78542,
          75155,
          139151,
          84529,
          111325,
          363756,
          87584,
          885556,
          83308,
          52653,
          389538,
          75663,
          92933,
          357178,
          226839,
          115558,
          105809,
          341880,
          97659,
          163986,
          130828,
          147461,
          247999,
          141165,
          192972,
          874242,
          358189,
          105080,
          94523,
          668731,
          144464,
          102268,
          465852,
          56009,
          134781,
          322912,
          239575,
          223465,
          908097,
          133435,
          233236,
          352889,
          179034,
          175152,
          48153,
          93878,
          86787,
          137211,
          129355,
          201760,
          80301,
          38635,
          184123,
          22229,
          40847,
          20762,
          374783,
          24606,
          28410,
          76945
         ],
         "yaxis": "y"
        }
       ],
       "layout": {
        "legend": {
         "itemsizing": "constant",
         "title": {
          "text": "Year"
         },
         "tracegroupgap": 0
        },
        "margin": {
         "t": 60
        },
        "shapes": [
         {
          "line": {
           "dash": "dash"
          },
          "type": "line",
          "x0": 0,
          "x1": 1,
          "xref": "x domain",
          "y0": 256953,
          "y1": 256953,
          "yref": "y"
         }
        ],
        "template": {
         "data": {
          "bar": [
           {
            "error_x": {
             "color": "#2a3f5f"
            },
            "error_y": {
             "color": "#2a3f5f"
            },
            "marker": {
             "line": {
              "color": "#E5ECF6",
              "width": 0.5
             }
            },
            "type": "bar"
           }
          ],
          "barpolar": [
           {
            "marker": {
             "line": {
              "color": "#E5ECF6",
              "width": 0.5
             }
            },
            "type": "barpolar"
           }
          ],
          "carpet": [
           {
            "aaxis": {
             "endlinecolor": "#2a3f5f",
             "gridcolor": "white",
             "linecolor": "white",
             "minorgridcolor": "white",
             "startlinecolor": "#2a3f5f"
            },
            "baxis": {
             "endlinecolor": "#2a3f5f",
             "gridcolor": "white",
             "linecolor": "white",
             "minorgridcolor": "white",
             "startlinecolor": "#2a3f5f"
            },
            "type": "carpet"
           }
          ],
          "choropleth": [
           {
            "colorbar": {
             "outlinewidth": 0,
             "ticks": ""
            },
            "type": "choropleth"
           }
          ],
          "contour": [
           {
            "colorbar": {
             "outlinewidth": 0,
             "ticks": ""
            },
            "colorscale": [
             [
              0,
              "#0d0887"
             ],
             [
              0.1111111111111111,
              "#46039f"
             ],
             [
              0.2222222222222222,
              "#7201a8"
             ],
             [
              0.3333333333333333,
              "#9c179e"
             ],
             [
              0.4444444444444444,
              "#bd3786"
             ],
             [
              0.5555555555555556,
              "#d8576b"
             ],
             [
              0.6666666666666666,
              "#ed7953"
             ],
             [
              0.7777777777777778,
              "#fb9f3a"
             ],
             [
              0.8888888888888888,
              "#fdca26"
             ],
             [
              1,
              "#f0f921"
             ]
            ],
            "type": "contour"
           }
          ],
          "contourcarpet": [
           {
            "colorbar": {
             "outlinewidth": 0,
             "ticks": ""
            },
            "type": "contourcarpet"
           }
          ],
          "heatmap": [
           {
            "colorbar": {
             "outlinewidth": 0,
             "ticks": ""
            },
            "colorscale": [
             [
              0,
              "#0d0887"
             ],
             [
              0.1111111111111111,
              "#46039f"
             ],
             [
              0.2222222222222222,
              "#7201a8"
             ],
             [
              0.3333333333333333,
              "#9c179e"
             ],
             [
              0.4444444444444444,
              "#bd3786"
             ],
             [
              0.5555555555555556,
              "#d8576b"
             ],
             [
              0.6666666666666666,
              "#ed7953"
             ],
             [
              0.7777777777777778,
              "#fb9f3a"
             ],
             [
              0.8888888888888888,
              "#fdca26"
             ],
             [
              1,
              "#f0f921"
             ]
            ],
            "type": "heatmap"
           }
          ],
          "heatmapgl": [
           {
            "colorbar": {
             "outlinewidth": 0,
             "ticks": ""
            },
            "colorscale": [
             [
              0,
              "#0d0887"
             ],
             [
              0.1111111111111111,
              "#46039f"
             ],
             [
              0.2222222222222222,
              "#7201a8"
             ],
             [
              0.3333333333333333,
              "#9c179e"
             ],
             [
              0.4444444444444444,
              "#bd3786"
             ],
             [
              0.5555555555555556,
              "#d8576b"
             ],
             [
              0.6666666666666666,
              "#ed7953"
             ],
             [
              0.7777777777777778,
              "#fb9f3a"
             ],
             [
              0.8888888888888888,
              "#fdca26"
             ],
             [
              1,
              "#f0f921"
             ]
            ],
            "type": "heatmapgl"
           }
          ],
          "histogram": [
           {
            "marker": {
             "colorbar": {
              "outlinewidth": 0,
              "ticks": ""
             }
            },
            "type": "histogram"
           }
          ],
          "histogram2d": [
           {
            "colorbar": {
             "outlinewidth": 0,
             "ticks": ""
            },
            "colorscale": [
             [
              0,
              "#0d0887"
             ],
             [
              0.1111111111111111,
              "#46039f"
             ],
             [
              0.2222222222222222,
              "#7201a8"
             ],
             [
              0.3333333333333333,
              "#9c179e"
             ],
             [
              0.4444444444444444,
              "#bd3786"
             ],
             [
              0.5555555555555556,
              "#d8576b"
             ],
             [
              0.6666666666666666,
              "#ed7953"
             ],
             [
              0.7777777777777778,
              "#fb9f3a"
             ],
             [
              0.8888888888888888,
              "#fdca26"
             ],
             [
              1,
              "#f0f921"
             ]
            ],
            "type": "histogram2d"
           }
          ],
          "histogram2dcontour": [
           {
            "colorbar": {
             "outlinewidth": 0,
             "ticks": ""
            },
            "colorscale": [
             [
              0,
              "#0d0887"
             ],
             [
              0.1111111111111111,
              "#46039f"
             ],
             [
              0.2222222222222222,
              "#7201a8"
             ],
             [
              0.3333333333333333,
              "#9c179e"
             ],
             [
              0.4444444444444444,
              "#bd3786"
             ],
             [
              0.5555555555555556,
              "#d8576b"
             ],
             [
              0.6666666666666666,
              "#ed7953"
             ],
             [
              0.7777777777777778,
              "#fb9f3a"
             ],
             [
              0.8888888888888888,
              "#fdca26"
             ],
             [
              1,
              "#f0f921"
             ]
            ],
            "type": "histogram2dcontour"
           }
          ],
          "mesh3d": [
           {
            "colorbar": {
             "outlinewidth": 0,
             "ticks": ""
            },
            "type": "mesh3d"
           }
          ],
          "parcoords": [
           {
            "line": {
             "colorbar": {
              "outlinewidth": 0,
              "ticks": ""
             }
            },
            "type": "parcoords"
           }
          ],
          "pie": [
           {
            "automargin": true,
            "type": "pie"
           }
          ],
          "scatter": [
           {
            "marker": {
             "colorbar": {
              "outlinewidth": 0,
              "ticks": ""
             }
            },
            "type": "scatter"
           }
          ],
          "scatter3d": [
           {
            "line": {
             "colorbar": {
              "outlinewidth": 0,
              "ticks": ""
             }
            },
            "marker": {
             "colorbar": {
              "outlinewidth": 0,
              "ticks": ""
             }
            },
            "type": "scatter3d"
           }
          ],
          "scattercarpet": [
           {
            "marker": {
             "colorbar": {
              "outlinewidth": 0,
              "ticks": ""
             }
            },
            "type": "scattercarpet"
           }
          ],
          "scattergeo": [
           {
            "marker": {
             "colorbar": {
              "outlinewidth": 0,
              "ticks": ""
             }
            },
            "type": "scattergeo"
           }
          ],
          "scattergl": [
           {
            "marker": {
             "colorbar": {
              "outlinewidth": 0,
              "ticks": ""
             }
            },
            "type": "scattergl"
           }
          ],
          "scattermapbox": [
           {
            "marker": {
             "colorbar": {
              "outlinewidth": 0,
              "ticks": ""
             }
            },
            "type": "scattermapbox"
           }
          ],
          "scatterpolar": [
           {
            "marker": {
             "colorbar": {
              "outlinewidth": 0,
              "ticks": ""
             }
            },
            "type": "scatterpolar"
           }
          ],
          "scatterpolargl": [
           {
            "marker": {
             "colorbar": {
              "outlinewidth": 0,
              "ticks": ""
             }
            },
            "type": "scatterpolargl"
           }
          ],
          "scatterternary": [
           {
            "marker": {
             "colorbar": {
              "outlinewidth": 0,
              "ticks": ""
             }
            },
            "type": "scatterternary"
           }
          ],
          "surface": [
           {
            "colorbar": {
             "outlinewidth": 0,
             "ticks": ""
            },
            "colorscale": [
             [
              0,
              "#0d0887"
             ],
             [
              0.1111111111111111,
              "#46039f"
             ],
             [
              0.2222222222222222,
              "#7201a8"
             ],
             [
              0.3333333333333333,
              "#9c179e"
             ],
             [
              0.4444444444444444,
              "#bd3786"
             ],
             [
              0.5555555555555556,
              "#d8576b"
             ],
             [
              0.6666666666666666,
              "#ed7953"
             ],
             [
              0.7777777777777778,
              "#fb9f3a"
             ],
             [
              0.8888888888888888,
              "#fdca26"
             ],
             [
              1,
              "#f0f921"
             ]
            ],
            "type": "surface"
           }
          ],
          "table": [
           {
            "cells": {
             "fill": {
              "color": "#EBF0F8"
             },
             "line": {
              "color": "white"
             }
            },
            "header": {
             "fill": {
              "color": "#C8D4E3"
             },
             "line": {
              "color": "white"
             }
            },
            "type": "table"
           }
          ]
         },
         "layout": {
          "annotationdefaults": {
           "arrowcolor": "#2a3f5f",
           "arrowhead": 0,
           "arrowwidth": 1
          },
          "autotypenumbers": "strict",
          "coloraxis": {
           "colorbar": {
            "outlinewidth": 0,
            "ticks": ""
           }
          },
          "colorscale": {
           "diverging": [
            [
             0,
             "#8e0152"
            ],
            [
             0.1,
             "#c51b7d"
            ],
            [
             0.2,
             "#de77ae"
            ],
            [
             0.3,
             "#f1b6da"
            ],
            [
             0.4,
             "#fde0ef"
            ],
            [
             0.5,
             "#f7f7f7"
            ],
            [
             0.6,
             "#e6f5d0"
            ],
            [
             0.7,
             "#b8e186"
            ],
            [
             0.8,
             "#7fbc41"
            ],
            [
             0.9,
             "#4d9221"
            ],
            [
             1,
             "#276419"
            ]
           ],
           "sequential": [
            [
             0,
             "#0d0887"
            ],
            [
             0.1111111111111111,
             "#46039f"
            ],
            [
             0.2222222222222222,
             "#7201a8"
            ],
            [
             0.3333333333333333,
             "#9c179e"
            ],
            [
             0.4444444444444444,
             "#bd3786"
            ],
            [
             0.5555555555555556,
             "#d8576b"
            ],
            [
             0.6666666666666666,
             "#ed7953"
            ],
            [
             0.7777777777777778,
             "#fb9f3a"
            ],
            [
             0.8888888888888888,
             "#fdca26"
            ],
            [
             1,
             "#f0f921"
            ]
           ],
           "sequentialminus": [
            [
             0,
             "#0d0887"
            ],
            [
             0.1111111111111111,
             "#46039f"
            ],
            [
             0.2222222222222222,
             "#7201a8"
            ],
            [
             0.3333333333333333,
             "#9c179e"
            ],
            [
             0.4444444444444444,
             "#bd3786"
            ],
            [
             0.5555555555555556,
             "#d8576b"
            ],
            [
             0.6666666666666666,
             "#ed7953"
            ],
            [
             0.7777777777777778,
             "#fb9f3a"
            ],
            [
             0.8888888888888888,
             "#fdca26"
            ],
            [
             1,
             "#f0f921"
            ]
           ]
          },
          "colorway": [
           "#636efa",
           "#EF553B",
           "#00cc96",
           "#ab63fa",
           "#FFA15A",
           "#19d3f3",
           "#FF6692",
           "#B6E880",
           "#FF97FF",
           "#FECB52"
          ],
          "font": {
           "color": "#2a3f5f"
          },
          "geo": {
           "bgcolor": "white",
           "lakecolor": "white",
           "landcolor": "#E5ECF6",
           "showlakes": true,
           "showland": true,
           "subunitcolor": "white"
          },
          "hoverlabel": {
           "align": "left"
          },
          "hovermode": "closest",
          "mapbox": {
           "style": "light"
          },
          "paper_bgcolor": "white",
          "plot_bgcolor": "#E5ECF6",
          "polar": {
           "angularaxis": {
            "gridcolor": "white",
            "linecolor": "white",
            "ticks": ""
           },
           "bgcolor": "#E5ECF6",
           "radialaxis": {
            "gridcolor": "white",
            "linecolor": "white",
            "ticks": ""
           }
          },
          "scene": {
           "xaxis": {
            "backgroundcolor": "#E5ECF6",
            "gridcolor": "white",
            "gridwidth": 2,
            "linecolor": "white",
            "showbackground": true,
            "ticks": "",
            "zerolinecolor": "white"
           },
           "yaxis": {
            "backgroundcolor": "#E5ECF6",
            "gridcolor": "white",
            "gridwidth": 2,
            "linecolor": "white",
            "showbackground": true,
            "ticks": "",
            "zerolinecolor": "white"
           },
           "zaxis": {
            "backgroundcolor": "#E5ECF6",
            "gridcolor": "white",
            "gridwidth": 2,
            "linecolor": "white",
            "showbackground": true,
            "ticks": "",
            "zerolinecolor": "white"
           }
          },
          "shapedefaults": {
           "line": {
            "color": "#2a3f5f"
           }
          },
          "ternary": {
           "aaxis": {
            "gridcolor": "white",
            "linecolor": "white",
            "ticks": ""
           },
           "baxis": {
            "gridcolor": "white",
            "linecolor": "white",
            "ticks": ""
           },
           "bgcolor": "#E5ECF6",
           "caxis": {
            "gridcolor": "white",
            "linecolor": "white",
            "ticks": ""
           }
          },
          "title": {
           "x": 0.05
          },
          "xaxis": {
           "automargin": true,
           "gridcolor": "white",
           "linecolor": "white",
           "ticks": "",
           "title": {
            "standoff": 15
           },
           "zerolinecolor": "white",
           "zerolinewidth": 2
          },
          "yaxis": {
           "automargin": true,
           "gridcolor": "white",
           "linecolor": "white",
           "ticks": "",
           "title": {
            "standoff": 15
           },
           "zerolinecolor": "white",
           "zerolinewidth": 2
          }
         }
        },
        "xaxis": {
         "anchor": "y",
         "domain": [
          0,
          1
         ],
         "title": {
          "text": "Video Length (mins)"
         }
        },
        "yaxis": {
         "anchor": "x",
         "domain": [
          0,
          1
         ],
         "title": {
          "text": "Total Views"
         }
        }
       }
      },
      "text/html": [
       "<div>                            <div id=\"36b8426d-b303-4f5e-b803-188a073004e6\" class=\"plotly-graph-div\" style=\"height:525px; width:100%;\"></div>            <script type=\"text/javascript\">                require([\"plotly\"], function(Plotly) {                    window.PLOTLYENV=window.PLOTLYENV || {};                                    if (document.getElementById(\"36b8426d-b303-4f5e-b803-188a073004e6\")) {                    Plotly.newPlot(                        \"36b8426d-b303-4f5e-b803-188a073004e6\",                        [{\"customdata\": [[\"BEST OF THE WEEK 11 | SAMAY RAINA\"], [\"Coming Back to Life - Reaching 1500 ft. Sagar Exposed Shah\"]], \"hovertemplate\": \"Year=2021<br>Video Length (mins)=%{x}<br>Total Views=%{y}<br>Like Percentage=%{marker.size}<br>Video Title=%{customdata[0]}<extra></extra>\", \"legendgroup\": \"2021\", \"marker\": {\"color\": \"#636efa\", \"opacity\": 0.4, \"size\": [98.53563714902808, 98.2020292450015], \"sizemode\": \"area\", \"sizeref\": 0.24944232861806312, \"symbol\": \"circle\"}, \"mode\": \"markers\", \"name\": \"2021\", \"orientation\": \"v\", \"showlegend\": true, \"type\": \"scatter\", \"x\": [8.633333333333333, 87.76666666666667], \"xaxis\": \"x\", \"y\": [206794, 183488], \"yaxis\": \"y\"}, {\"customdata\": [[\"SAGAR SHAH EXPOSED - VLOG #3\"], [\"ACCIDENTALLY GAVE 10,000 RS. SUPERCHAT TO @GamerFleet | BUDWEISER CONQUER 2020\"], [\"ROAST BATTLE ft. Vidit Gujrathi | Sagar Shah | Samay Raina | Vaibhav Sethia\"], [\"Good evening chess ft. Vidit Gujrathi\"], [\"SAMAY RAINA IN DELHI ft. @Suhani Shah @SOUL Sangwan @Nishant Tanwar\"], [\"THE WEIGHTLOSS VLOG | SAMAY RAINA\"], [\"ADOPTING VAIBHAV SETHIA\"], [\"GM ABISH MATHEW - THE NAME IS ENOUGH\"], [\"Stream ends when I make one mistake in Puzzle Rush | LONG STREAM | ADDRESS REVEAL CHALLENGE*\"], [\"BEST OF THE WEEK 10 | SAMAY RAINA\"], [\"YOUTUBE vs TWITCH ft. Alexandra Botez\"], [\"THIS IS GM ABISH MATHEW'S IMMORTAL | BEST OF COB3\"], [\"ACHARA KIRK COMPLETELY SPOILED ft. @jaby koay  @GamerFleet  [18+]\"], [\"THIS IS KUSHA KAPILA's IMMORTAL | BEST OF COB3\"], [\"COMEDIANS ON BOARD | NO MERCY | GRAND FINALE\"], [\"COMEDIANS ON BOARD | NO MERCY | DAY 2 QUARTER FINALS\"], [\"COMEDIANS ON BOARD 3 | NO MERCY | DAY 1\"], [\"Comedians On Board 3 - Teaser #2\"], [\"SASTEY IMPRACTICAL JOKERS EP 02 FT. @Karan Singh Boomer @GamerFleet\"], [\"COB 3 OFFICIAL TRAILER #1\"], [\"CHESS FUNDAMENTALS ft. ARAVIND SA\"], [\"WE PRANK CALLED YOUTUBERS!\"], [\"MEMBERS vs SUBS BATTLE against ALEXANDRA BOTEZ\"], [\"IF SAMAY RAINA WAS MARIO | VIDEO BY @BeastStats\"], [\"SASTEY IMPRACTICAL JOKERS ft. @GamerFleet @RIDER OP\"], [\"WWE, PRANK CALL AND MUCH MORE FT. SHAMERFLEET, JABY KOAY AND DANK RISHU\"], [\"MEMBERS vs SUBS BATTLE FT. ANNA RUDOLF\"], [\"HUMAN FALL FLAT FT. CHOWKDI - KSB + RIDEROP\"], [\"I LOST THE CHALLENGE SO I WILL LOSE 6.5 KILOS IN 30 DAYS\"], [\"BEST OF THE WEEK 9 | SAMAY RAINA\"], [\"BM ADOPTED BY GM\"], [\"IF I DON'T REACH 1500 BEFORE 10 PM THEN I REVEAL MY GIRL FRIEND\"], [\"A brief history of time.....500K Special \\ud83d\\udc96\\ud83d\\udc96\\ud83d\\udc96\"], [\"Training Kenny cuz he loves Chess now ft. Kusha #COB3\"], [\"Human Fall Flat ft. Chowkdi\"], [\"Reaching 1400 before reaching 500K\"], [\"Grand Finale |  Red bull Rubik's Cube ft. KSM and Soham\"], [\"Curb you dare - Miniclip #17\"], [\"Kenny Sebastian vs Sapan Verma | Samay Raina\"], [\"Learn how to Cube EP 04 - Finishing the Cube | Red bull Rubik's cube ft. Tania Sachdev\"], [\"[18+] Finding LAURA on Omegle ft. Mehfil\"], [\"ERIC ROSEN vs LEVY ROZMAN | SAMAY RAINA\"], [\"Learn how to Cube EP 03 - Bottom two layers | Red bull Rubik's cube ft. Tania Sachdev\"], [\"Curb your Actually Improving Chess - Miniclip #17\"], [\"Members only stream with SAGAR SHAH - Watching Queen's Gambit\"], [\"Learn how to Cube EP 02 - Completing the base | Red Bull Rubik's Cube ft. Tania Sachdev\"], [\"ENDGAME | SAGAR SHAH DISS [OFFICIAL VIDEO]\"], [\"Learn how to Cube EP 01 - The Cross | Red Bull Rubik's Cube ft. Tania Sachdev\"], [\"CHAT MADE ME GO TO OMEGLE and OMG!!!!\"], [\"CURB YOUR CONFIDENCE ft. @Tanmay Bhat  - Miniclip #16\"], [\"GOODBYE CHESS ft. Sagar Shah\"], [\"SAMAY RAINA BIRTHDAY SIMUL + COB 3 Lineup Reveal\"], [\"SAMAY RAINA AGAINST THE WORLD | TWERK CHALLENGE\"], [\"MYTHPAT IS THE LUCKIEST MAN ALIVE ft. TRIGGERED INSAAN\"], [\"Curb your guide - Miniclip #15\"], [\"SAMAY RAINA NAHI PIGHLEGA - Miniclip #14\"], [\"SAIMAN SAYS ROASTS DANK RISHU\"], [\"MY UGLY COUSIN\"], [\"STREAM ENDS WHEN I LOSE THRICE IN A ROW | SAMAY RAINA AGAINST THE CHAT\"], [\"MYTHPAT PLAYS THE GREATEST MOVE EVER in Chess - Miniclip #13\"], [\"MYTHPAT vs TRIGGERED INSAAN CHESS\"], [\"BULLYING NOOBS ON CHESS.COM - Miniclip #12\"], [\"HOW TO AVOID A FORK 220 IQ - Miniclip #11\"], [\"NAUGHTY SAGAR SHAH COMPILATION\"], [\"SAIMAN SAYS vs DANK RISHU ft. Vidit, KSM, Gamerfleet\"], [\"CHESS VARIANTS FT. ANNA RUDOLF and TANIA SACHDEV\"], [\"Samay Raina emotional poem ft. @Yahya Bootwala @Suhani Shah @UnErase Poetry\"], [\"CHESS with JABY KOAY & ACHARA ft. Vidit Gujrathi\"], [\"Once a BM always a BM - Miniclip #9\"], [\"BEST OF THE WEEK #8 | SAMAY RAINA\"], [\"WWE ft. SHAMERFLEET, CRYDER, RAKAZONE, KARAN SINGH BOOMER, RAMAN CHOBRA\"], [\"DEFEATING BISWA ft. Sagar Shah Spoilt\"], [\"AMONG US FT. POETS\"], [\"DON'T TRUST CHESS GRANDMASTERS FT. INDIAN CHESS SCENE\"], [\"CURB YOUR BRILLIANCY - Miniclip #8\"], [\"SAMAY RAINA IMvitational day 2 - FINALS\"], [\"MODIJI KA KHAUF FT. SUKHBIR, GURSIMRAN KHAMBA and RIDER OP\"], [\"LONG STREAM ft. Tanmay, KSB, GamerFleet, Janta\"], [\"FALL GUYS INDIA PLAYS - SAMAY RAINA\"], [\"SAMAY RAINA IMvitational TOURNAMENT DAY 1\"], [\"SAMAY RAINA SPOILS SONGS COMPILATION\"], [\"Curb your Badass move - Miniclip #7\"], [\"Good night chess ft. My girlfriend Vidit\"], [\"JUDIT POLGAR vs Comedians on Board\"], [\"BEWAFA SUHANI ft. @Karan Singh Magic @Suhani Shah @GamerFleet\"], [\"Among Us ft. Chess Gang\"], [\"GM MAGNUS CARLSEN vs BM SAMAY RAINA ft. UPMANYU, VIDIT Highlights\"], [\"Curb your clean content ft. Sagar Shah Spoiled  Miniclip #6\"], [\"Goodnight Chess (Fog of war) ft. Anish Giri\"], [\"Gaadi Waala Aaya compilation - Miniclip #5\"], [\"Shortest Game of Magnus Carlsen - Miniclip #4\"], [\"PACIFY 2 ft. CHOWKDI\"], [\"Good night chess ft. Vidit + UNACADEMY REVELATION\"], [\"Divya Deshmukh vs Daniel King  - DICE CHESS\"], [\"Curb your leak - MINICLIP #3\"], [\"Streaming until I reach 1600\"], [\"SAMAY RAINA | INDIA PLAYS @NODWIN Gaming  #IndiaPlays\"], [\"SAMAY RAINA | BEST OF THE WEEK #7\"], [\"Among Us ft. Tanmay, KSB, Fleet and many friends\"], [\"SAMAY RAINA FREESTYLE - MINICLIP #2\"], [\"VLADIMIR KRAMNIK vs Comedians on Board ft. Abhishek Upmanyu, Biswa, Sethia and Samay\"], [\"Sagar Shah Proud Student - Miniclip #1\"], [\"BHOOTNI KI MAA KA BHAROSA - PACIFY HIGHLIGHTS ft. @Karan Singh Magic @Suhani Shah @GamerFleet\"], [\"GM Radjabov vs Sagar Shah, Amruta and Samay Raina\"], [\"Among Us ft. CARRYMINATI, TANMAY BHAT, KSB, SUHANI SHAH GAMERFLEET, NISHANT TANWAR\"], [\"Among Us with Tanmay Bhat, GamerFleet, Karan Singh Boomer, Suhani Shah, Nishant Tanwar, DaddyCool\"], [\"Reaching 1600 - NO SCAM ft. Sagar Shah\"], [\"VISHY ANAND vs MAGNUS CARLSEN\"], [\"CONVINCING RANDOM STRANGERS TO PLAY CHESS ON OMEGLE PART 4\"], [\"Chess with Subscribers (JOIN DISCORD) ft. My Friend Vidit\"], [\"Dice Chess - MAGNUS CARLSEN vs VIDIT GUJRATHI\"], [\"WE WON PACIFY ft. Karan Singh Boomer, GamerFleet, Suhani my cutie\"], [\"Blitzing ft. Sagar Shah\"], [\"Dice Chess - Alexandra Botez vs Tania Sachdev\"], [\"MAGNUS KALICHARAN was on my channel \\u2764\\ufe0f\\u2764\\ufe0f\\u2764\\ufe0f\\u2764\\ufe0f\"], [\"Bakchod Chess ft. Sukhbir, Khamba, Nishant, Karan Singh Boomer\"], [\"To Sagar Shah, with love - Happy Teachers' Day\"], [\"SAMAY RAINA | BEST OF THE WEEK #6\"], [\"CHESS ft. WORLD CHAMPION MAGNUS CARLSEN\"], [\"Fall guys ft. Karan Singh Boomer, Tania Sachdev, Vidit Gujrathi\"], [\"THE GENIUS OF SAMAY RAINA - EINSTEIN DISS\"], [\"FINALE!! INDIA vs RUSSIA CHESS OLYMPIAD LIVE STREAM\"], [\"CHESS OLYMPIAD QUARTER FINALS - INDIA vs ARMENIA\"], [\"BAWASIR ft. Alexandra Botez, Tania and Karan Singh Boomer\"], [\"FALL GUYS unSTRIP challenge ft. Gamer Fleet, Suhani Shah and Karan Singh Boomer\"], [\"Good night chess\"], [\"Just Chillin' with Sagar Shah and Amruta Mokal\"], [\"Members' tournament #2 - Hunt for the strongest member\"], [\"I am a GENIUS - I.Q Test\"], [\"SAY THE TRUTH Fall Guys ft. Karan Singh Boomer, SUHANI, FLEET\"], [\"SAMAY RAINA | BEST OF WEEK #5 ft. @Tanmay Bhat\"], [\"Fall guys ft. Alexandra Botez, Tania Sachdev, Karan Singh Magic CHILLI CHALLENGE\"], [\"Billu Bewafa ft. @Suhani Shah and @GM Cemil Can Chess\"], [\"Goodnight chess - Reaching 1450 ft. Sagar Shah #ARJUNAFORCHESS\"], [\"CHESS OLYMPIAD DAY 1 ft. Sagar Shah, Biswa, Sethia\"], [\"CONVINCING RANDOM STRANGERS TO PLAY CHESS ON OMEGLE PART 3\"], [\"Fall guys ft. Tania Sachdev\"], [\"Best of Week #4 ft. Vidit Gujrathi, Sagar Shah, Tanmay Bot\"], [\"Reaching 1450 ft. Sagar Shah's voice\"], [\"FALL GUYS JEETNA HAI AAJ | FALLS GUYS GIVE AWAY\"], [\"Good afternoon chess ft. Tanmay Bot\"], [\"Burnol Boys play Fall Guys ft. @Flying Beast @Nishant Tanwar\"], [\"I TORE MY SHIRT PLAYING THIS GAME | UNFAIR MARIO\"], [\"Noobs play Fall Guys ft. @Tanmay Bhat @Nishant Tanwar\"], [\"UNTITLED TUESDAY but on Wednesday (Registration link in dikscription)\"], [\"Good afternoon chess - Reaching 1500\"], [\"PLAYING THE BEST GAME OF ALL TIME\"], [\"HUSBAND vs WIFE ft. Sagar Shah and Amruta (Dice Chess)\"], [\"WILL DELETE MY YOUTUBE CHANNEL IF I DON'T REACH 1600 RATING ON CHESS.COM\"], [\"DICE CHESS - Anish Giri vs Teimour Radjabov\"], [\"BEST OF THE WEEK #3 ft. @Tanmay Bhat  , Biswa\"], [\"WILL CHANGE NAME ON CHESS.COM TO WHATEVER YOU SAY IF I DON'T REACH 1300\"], [\"Botez sisters play SCRIBBL ft. Agadmator, Vidit, Sagar\"], [\"DEFEATING @CarryMinati, @Tanmay Bhat  ft. @BB Ki Vines  HIGHLIGHTS\"], [\"CHESS ft. CARRY, BHUVAN and TANMAY BOT\"], [\"Happy friendship day ft. Pentala Harikrishna\"], [\"BEST OF THE WEEK COMPILATION #2\"], [\"RAHUL DUA vs JASPREET SINGH\"], [\"CONVINCING RANDOM STRANGERS TO PLAY CHESS ON OMEGLE PART 2\"], [\"REACHING 1300 AT ANY COST\"], [\"Skribble ft. Botez sisters, AGADMATOR, Sagar Shah, Vidit G\"], [\"I LEAKED SUKHBIR's NUMBER \\ud83e\\udd26\\ud83e\\udd26\\ud83e\\udd26\"], [\"BEST OF WEEK COMPILATION #1\"], [\"CONVINCING RANDOM STRANGERS TO PLAY CHESS ON OMEGLE Part 1\"], [\"Members tournament - Hunt for the strongest member and also reaching 1300\"], [\"@BB Ki Vines  FUNNY CHESS HIGHLIGHTS ft. @Tanmay Bhat @Aakash Gupta\"], [\"Good night chess - Reaching 1300\"], [\"Bhuvan Bam plays chess ft. Aakash Gupta and Tanmay Bot\"], [\"Women's Speed Chess Championship finals - Rooting for HUMPY\"], [\"Understanding Rap ft. SEEDHE MAUT\"], [\"CRASH COURSE: DISCORD\"], [\"RAFTAAR vs EPR ft. Vidit Gujrathi\"], [\"FLYING BEAST TRIES CHESS ft. Vidit, Sagar, Karan Singh Boomer\"], [\"Good evening chess - Road to 1250\"], [\"GM ROBERT HESS vs COMEDIANS ON BOARD ft. Anish Giri, Vidit Gujrathi\"], [\"PRANK CALLS COMPILATION\"], [\"CHESS or SCRIBBLE ft. Anish, Vidit, Radjabov, Tania, Adhiban\"], [\"BEST OF ANIRBAN ft. Sagar, Biswa, Vaibhav, Everybody\"], [\"Khelna toh chess tha (Prank Calls)\"], [\"CURB YOUR ARROGANCE 2 FT. JOEL, BISWA, TANMAY, VIDIT\"], [\"HAND and BRAIN ft. BASSI and DEVESH DIXIT\"], [\"AWARD CEREMONY ft. Vishy Anand, Alexandra Botez, AGADMATOR, Tania\"], [\"COMEDIANS on BOARD 2 - GRAND FINALE LIVE STREAM\"], [\"COMEDIANS on BOARD DAY 2 - SEARCH FOR TOP 4\"], [\"COMEDIANS on BOARD 2 - DAY 1 (Part 2 of 2)\"], [\"COMEDIANS on BOARD 2 -  DAY 1 (Part 1 of 2)\"], [\"CURB YOUR ARROGANCE ft. Joel and Biswa\"], [\"Practicing for tomorrow's big day ft. Biswa, Rahul Sub, Anirban, Sagar Shah\"], [\"Chess ft. Mudit Dani and Sathiyan Gnanasekaran ft. Vidit and @Vivek Desai Illusionist\"], [\"WATCH TILL END!!! @Vidit Gujrathi @SOUL Sangwan @MambaSR @GamerFleet\"], [\"Understanding Rap ft. E.P.R and RAFTAAR\"], [\"RAIDNIGHT ft. @CarryisLive @MambaSR @GamerFleet\"], [\"CHILL SESSION FT. BALI, SANGWAN, RAAJ JONES\"], [\"MEMBERSHIP ALERT\"], [\"RAHUL SUBRAMANIAN vs KUMAR VARUN ft. BELLATRIX\"], [\"AAKASH GUPTA vs GAURAV KAPOOR\"], [\"Raidnight chess ft. Vidit Gujrathi\"], [\"QUALITY CONTENT ft. @Tanmay Bhat @Karan Singh Magic\"], [\"TANIA SACHDEV IS A SINGER\"], [\"Good night chess\"], [\"WWE ft. Tanmay Bot\"], [\"Chess Doubles ft. Soundarya Pradhan and Aryan Joshi\"], [\"Understanding Rap ft. Kr$na, RAFTAAR, Rohan Cariappa\"], [\"Magicians on Board ft. Karan Singh Magic, Tania Sachdev and Suhani Shah\"], [\"TEACHER vs STUDENTS ft. IM SAGAR SHAH\"], [\"UNBOXING NEW LAPTOP IN FRONT OF OLD LAPTOP\"], [\"4 Player Chess ft. Tanmay Bot, Kaneez, Sethia and Hackerman\"], [\"Subscribers Chess Tournament (Open to all ratings) for West Bengal\"], [\"Sagar Shah Spoiled ft. @Chess Talk @ChessBase India\"], [\"Subscribers Chess Tournament (0-1800) for West Bengal\"], [\"Subscribers Chess tournament (0-1400) for West Bengal\"], [\"Clear all your doubts about the tournament\"], [\"GM PENTALA HARIKRISHNA and RAJ TARUN vs Comedians on Board\"], [\"BISWAASGHAAT Compilation ft. @Vidit Gujrathi\"], [\"WE TRIED TO DEFEAT ANISH GIRI\"], [\"GHODA IS A RESPECTABLE ANIMAL COMPILATION ft. @Biswa Kalyan Rath\"], [\"4 Player Chess ft. Nihal Sarin, Vidit Gujrathi, Vaibhav Sethia and Anirban Dasgupta\"], [\"GM Harika Dronavalli and Kaneez Surkha vs GM S.P Sethuraman and Rahul Subramanian\"], [\"Chess with Subscribers (Join Discord)\"], [\"TAG TEAM MATCH - Chessbase India vs Chess Talk ft. Tanmay Bot\"], [\"Comedians on Board vs GM S.P SETHURAMAN\"], [\"Pokemon Ruby - The Beginning\"], [\"4 PLAYER CHESS ft. Alexandra Botez, Agadmator, Anish Giri and Vidit Gujrathi\"], [\"DEFEATING VIDIT GUJRATHI\"], [\"Blind Chess Players vs Comedians on Board\"], [\"PUBG ft.YUZVENDRA CHAHAL, RAFTAAR, TANMAY BOT\"], [\"Pokemon Fire Red - The Ending\"], [\"Completing Pokemon Fire Red maybe\"], [\"TRAINING KUSHA KAPILA ft. Sagar Shah\"], [\"Pokemon Fire Red because why not\"], [\"Non Violent Chess ft. Gang\"], [\"PUBG ft. KR$NA - FUNNY HIGHLIGHTS\"], [\"Pokemon Fire Red continues\"], [\"Alexandra Botez vs Vidit Gujrathi (Blindfold)\"], [\"Pokemon Fire Red (NSFW)\"], [\"Pokemon Fire Red (Fail)\"], [\"Botez and Kusha vs Kaneez and Biswa HIGHLIGHTS\"], [\"Good evening chess ft. Vidit and Gang\"], [\"Blindfold chess - Biswa vs Sethia\"], [\"[Re-Upload] CHESS FOR CHARITY 2.0 ft. RAFTAAR, ANISH GIRI, CarryMinati and many lovely people\"], [\"Blindfold Chess ft. My friend Vidit Gujrathi\"], [\"4 Player chess ft. Vidit\"], [\"4 player chess ft. Biswa, Sethia and Anirban\"], [\"ADHIBAN FUNNY  HIGHLIGHTS\"], [\"Online chess championship finals and 4 player chess ft. Biswa, Tanmay, Sagar and Sethia and\"], [\"LIVE STREAMING World Online Chess Cup India vs China, India vs Russia ft. Tania\"], [\"LIVE STREAMING World Online Chess Cup India vs ROW, India vs Europe\"], [\"LIVE STREAMING World Online Chess Cup India vs Russia, India vs USA\"], [\"WHEN LEGENDS MEET - Abish Mathew vs Yahya Bootwala highlights ft. Biswa hacker\"], [\"World Online Chess Cup India vs China ft. Adibhan\"], [\"LIVE STREAMING World Online Chess Cup INDIA vs USA\"], [\"BISWA HACKER COMPILATION\"], [\"VIDIT GUJRATHI vs NIHAL SARIN ft. Tanmay Bot\"], [\"Chess Puzzles ft. Sagar Shah, Biswa, Sapan and Gang\"], [\"Understanding chess #3 ft. Nihal Sarin\"], [\"VISWANATHAN ANAND vs GM ABISH MATHEW (Match of the century) Highlights\"], [\"Chess ft. GM Adhiban, the beast @Biswa Kalyan Rath @VAIBHAV SETHIA\"], [\"Understanding chess #2 with Vidit Gujrathi, Sethia and Biswa Hacker\"], [\"CHESS FOR CHARITY ft. VISWANATHAN ANAND, YUZVENDRA CHAHAL\"], [\"Chess ft. Varun Thakur\"], [\"Fun with AGADMATOR ft. @Biswa Kalyan Rath @Abhishek Upmanyu @agadmator's Chess Channel\"], [\"PUBG FT. RAFTAAR, KR$NA, TANMAY BHAT and YUNAN HIGHLIGHTS\"], [\"Defeating Aakash Mehta ft. Nihal Sarin and @Biswa Kalyan Rath Hacker\"], [\"Aakash Mehta vs Abhishek Upmanyu  (Title match)\"], [\"YUZVENDRA CHAHAL vs Comedians on Board ft. @Abhishek Upmanyu @Biswa Kalyan Rath @Karunesh Talwar\"], [\"Understanding chess ft. Vidit Gujrathi @Biswa Kalyan Rath @Kunal Rao\"], [\"PUBG ft. Raftaar, Kr$na and Tanmay Bhat  FULL STREAM\"], [\"VIDIT GUJRATHI VS COMEDIANS ON BOARD ft. @Abhishek Upmanyu @Biswa Kalyan Rath @VAIBHAV SETHIA\"], [\"PUBG ft. KR$NA\"], [\"Agadmator vs Indian Comedians ft. @Abhishek Upmanyu @Biswa Kalyan Rath @agadmator's Chess Channel\"], [\"PUBG Road to Bronze\"], [\"FINALE - Chess tournament\"], [\"SEMI FINALS\"], [\"Tournament Quarter finals\"], [\"Chess tournament match 11 Varun Grover vs Anubhav Singh Bassi\"], [\"Chess tournament matches 6,7,8,9 and 10\"], [\"Chess tournament matches 2,3,4 and 5\"], [\"Chess tournament match 1 Rahul Dua vs Sumit Sourav\"], [\"Kidnapped in PUBG custom room\"], [\"Chess practice before tournament with Vaibhav Sethia\"], [\"Aresole Just Went to War\"], [\"PUBG with Ojas and Balraj\"], [\"Coming soon\"], [\"Later night chess with friends - Sumit Sourav\"], [\"PUBG with Ojas\"], [\"Later night chess with friends - Balraj Ghai\"]], \"hovertemplate\": \"Year=2020<br>Video Length (mins)=%{x}<br>Total Views=%{y}<br>Like Percentage=%{marker.size}<br>Video Title=%{customdata[0]}<extra></extra>\", \"legendgroup\": \"2020\", \"marker\": {\"color\": \"#EF553B\", \"opacity\": 0.4, \"size\": [99.27012868114541, 98.71903724759127, 98.98562975486053, 98.96573640723406, 98.56154282473057, 98.96302577419753, 99.02352146410367, 99.45479733655093, 99.23336575318955, 98.87981967828968, 99.35960758933133, 99.30743751881963, 99.40269132186012, 99.29518523413066, 99.11478824346216, 99.17864181015263, 99.22755227552275, 99.30122662376834, 99.35014548981572, 98.88452932974481, 98.79934684468351, 99.22313436297017, 98.9956866027168, 98.77049180327869, 99.22010733176326, 98.4392058549998, 98.85120954379764, 98.4825219040737, 98.68789860665395, 98.83826534473624, 98.99965505346671, 98.66469435893336, 99.43607993430058, 98.76864551006106, 98.86938015429635, 98.84515890613451, 99.15764963703602, 99.42813742572488, 98.56485034535687, 98.28629032258064, 99.06790522290835, 99.07849829351535, 98.4517144856543, 98.99350790815215, 97.53086419753086, 97.3693114532228, 96.86238411466894, 98.30359905125296, 99.3575711430475, 99.20827204291771, 97.86125582670688, 99.4019730181527, 99.27091423846866, 99.07090868989854, 99.42503020269363, 99.56123651527513, 99.0674241612177, 99.34437715830039, 98.54532339504689, 99.49558638083228, 98.21024617431803, 99.42502229191649, 99.60540980150004, 99.30322461168083, 98.39838778107764, 98.96167844144723, 99.58600039719519, 98.87384724521164, 99.64864750455065, 99.24048183445407, 98.6767895878525, 99.19538053767512, 98.25723030795177, 99.35802036826286, 99.45803272919233, 98.93317528522743, 98.78037803780379, 98.5990590695243, 99.27504962457927, 99.21747115423005, 98.67829952239089, 99.49798433102609, 98.90795631825273, 98.91849116328146, 99.49856733524355, 98.85675348273773, 99.49427996268473, 99.41186721268625, 99.09799868458141, 99.36168204450527, 99.53386344941048, 99.10438749496846, 98.87557017078603, 99.3024942804531, 99.25808922075436, 98.58237390912443, 99.19049484266876, 99.20157287745462, 98.46919659583578, 97.29528535980148, 99.2118951295119, 99.4967932905772, 99.38616071428571, 99.0989103101425, 98.05057767285474, 98.50543927520418, 98.71045960542268, 99.31829348182116, 99.38094558291047, 98.57651245551601, 99.20418101912341, 98.88424967544998, 98.71901687148511, 98.81968492415744, 98.95369497027792, 98.70856213138093, 99.77693144722525, 99.3146833485626, 99.0727255968292, 98.49509821654668, 98.9563495086463, 99.2836676217765, 99.2848591771155, 99.3180331169158, 98.92440073755378, 98.70907390084191, 98.0777594154997, 98.57891671520093, 97.6613447267821, 98.76645417667025, 99.12085834475587, 98.7536704730832, 99.32870189680743, 98.86713458933629, 99.23076923076923, 99.22562380304754, 98.11848639574735, 99.35067022405092, 98.88464476699771, 98.31922611850061, 98.10908399847966, 98.60709358729028, 99.32032402162994, 98.67070755566225, 98.38394793926247, 97.78288340034463, 98.1387821161238, 98.91579327791833, 88.6076941158035, 98.72876712328767, 98.85942300222466, 98.02763539112993, 99.35704239501707, 98.52063452634775, 98.73947802546424, 98.54389272993924, 98.78646552134393, 98.71794871794872, 98.89965804434934, 98.37014098280498, 98.67609254498714, 99.2365532540117, 99.06549489004652, 98.90217604391296, 97.95504478620923, 99.02093518866742, 97.91706478119626, 98.9556312453477, 98.40621963070943, 98.33501052053792, 98.75582098041306, 99.27735719201652, 98.93379191745485, 98.01944544472452, 99.11373707533235, 99.1903551799539, 98.59243938871653, 99.3339892530084, 98.52505341512165, 99.17695473251028, 97.75587080227619, 98.77539877539877, 99.07755014480317, 98.83106895667777, 99.12595508219495, 98.91079305067963, 99.32053880081058, 98.3642972536349, 97.34967227130237, 99.32648594039401, 98.91734197730956, 98.89179637409951, 98.61826872806034, 96.95839549146362, 98.3117393011386, 98.50058570870753, 98.241288625904, 99.3635176722932, 99.3399446197437, 98.16561844863732, 97.46728302623869, 98.39363458940099, 98.53000932189211, 98.60574106619801, 97.16401449503702, 88.60834218826426, 97.44238336143901, 98.35899171037049, 99.3886787354769, 98.39846252402306, 98.46612697060077, 97.86856127886324, 98.63382720800462, 99.37699217618082, 98.92048752176436, 99.11634756995582, 98.28044395810537, 96.08346160424149, 98.78223495702005, 98.02616738100609, 98.89042995839112, 97.38348323793949, 98.71129532235032, 99.21746443851245, 99.1214859437751, 97.71146728748806, 90.5292479108635, 93.58858178522881, 97.40154283394234, 95.97826086956522, 98.43780511618824, 97.05862234078938, 96.68279198341396, 98.96744717304398, 97.51941328731665, 96.75622542595019, 98.62818457153037, 97.46948496576363, 97.93042712461471, 98.7786152987158, 98.53840021259633, 98.5428404896056, 97.47243882764184, 99.2071826105219, 95.9665371974903, 98.25814318063055, 98.18924196698029, 97.95944892123732, 98.82336938039856, 97.43336623889438, 97.03117268678872, 98.46087050906328, 99.14640842609694, 98.69144203088197, 98.23815309842041, 99.01272927733788, 98.63957003694995, 98.26751592356688, 98.47343280642143, 96.9289019772823, 98.77954779033915, 98.30846764133527, 98.7536064627813, 98.05440771349862, 98.12786903379238, 98.56417053236139, 97.03941942932542, 98.0403902105083, 96.66421613673957, 98.03393482359279, 97.50889679715303, 98.11930649426976, 97.66803840877915, 97.19648372535043, 96.81378333726694, 97.36638264910921, 98.60356865787432, 98.38909541511772, 98.1138727304777, 98.02445907808091, 98.18149717514125, 98.16232771822358, 98.00120562200577, 98.37133550488599, 98.60568878973787, 99.01202749140893], \"sizemode\": \"area\", \"sizeref\": 0.24944232861806312, \"symbol\": \"circle\"}, \"mode\": \"markers\", \"name\": \"2020\", \"orientation\": \"v\", \"showlegend\": true, \"type\": \"scatter\", \"x\": [14.45, 6.416666666666667, 12.216666666666667, 45.81666666666667, 10.233333333333333, 9.266666666666667, 99.03333333333333, 11.216666666666667, 48.6, 7.533333333333333, 11.716666666666667, 10.266666666666667, 8.866666666666667, 10.2, 205.36666666666667, 398.51666666666665, 522.7833333333333, 2.35, 10.183333333333334, 3.466666666666667, 88.85, 8.583333333333334, 128.33333333333334, 5.366666666666666, 10.05, 245.98333333333332, 123.18333333333334, 157.16666666666666, 146.16666666666666, 11.05, 73.03333333333333, 50.983333333333334, 14.733333333333333, 138.76666666666668, 144.45, 76.16666666666667, 57.45, 1.15, 122.48333333333333, 114.68333333333334, 11.25, 100.95, 68.75, 1.4, 14.233333333333333, 64.15, 3.3166666666666664, 64.18333333333334, 9.75, 1.1666666666666667, 128.46666666666667, 137.06666666666666, 10.666666666666666, 10.366666666666667, 1.4333333333333333, 0.4666666666666667, 11.95, 8.783333333333333, 157.58333333333334, 1.6, 119.36666666666666, 1.2333333333333334, 1.2, 11.283333333333333, 124.31666666666666, 110.3, 1.95, 96.1, 0.8166666666666667, 9.083333333333334, 135.93333333333334, 86.66666666666667, 75.33333333333333, 11.95, 1.2833333333333332, 221.51666666666668, 10.083333333333334, 182.63333333333333, 45.96666666666667, 128.75, 8.783333333333333, 1.0, 86.55, 106.65, 11.1, 162.31666666666666, 9.0, 1.0, 72.78333333333333, 1.8, 1.0, 112.81666666666666, 57.43333333333333, 89.83333333333333, 1.5833333333333335, 403.96666666666664, 64.51666666666667, 10.116666666666667, 162.85, 2.45, 93.91666666666667, 1.0, 12.516666666666667, 97.7, 220.36666666666667, 198.56666666666666, 92.58333333333333, 92.31666666666666, 10.416666666666666, 121.28333333333333, 6.866666666666667, 134.23333333333332, 88.96666666666667, 53.2, 10.216666666666667, 88.6, 7.8, 8.933333333333334, 145.33333333333334, 127.58333333333333, 10.333333333333334, 255.21666666666667, 196.28333333333333, 9.816666666666666, 68.35, 56.833333333333336, 77.7, 147.43333333333334, 82.83333333333333, 118.25, 8.116666666666667, 84.85, 6.0, 79.76666666666667, 176.76666666666668, 10.933333333333334, 104.43333333333334, 8.6, 56.5, 123.83333333333333, 63.416666666666664, 83.95, 14.166666666666666, 81.6, 118.26666666666667, 72.93333333333334, 156.33333333333334, 79.26666666666667, 11.766666666666667, 63.516666666666666, 7.9, 97.46666666666667, 7.683333333333334, 9.383333333333333, 119.51666666666667, 45.333333333333336, 7.333333333333333, 96.33333333333333, 8.4, 129.16666666666666, 94.75, 9.55, 9.4, 9.8, 108.25, 9.216666666666667, 94.51666666666667, 111.63333333333334, 108.45, 128.91666666666666, 8.583333333333334, 9.333333333333334, 94.6, 90.91666666666667, 91.41666666666667, 11.95, 134.33333333333334, 12.966666666666667, 105.21666666666667, 9.5, 78.21666666666667, 11.983333333333333, 168.25, 253.41666666666666, 119.51666666666667, 222.41666666666666, 6.116666666666666, 191.15, 75.01666666666667, 9.2, 99.36666666666666, 8.383333333333333, 167.58333333333334, 4.333333333333333, 76.35, 92.66666666666667, 36.43333333333333, 9.033333333333333, 9.0, 98.61666666666666, 88.35, 110.75, 151.1, 99.1, 108.91666666666667, 16.75, 135.0, 262.03333333333336, 7.6, 113.35, 132.88333333333333, 37.35, 114.33333333333333, 6.7, 78.75, 5.8, 72.93333333333334, 84.0, 64.16666666666667, 130.98333333333332, 97.66666666666667, 73.58333333333333, 98.5, 9.483333333333333, 115.48333333333333, 75.28333333333333, 117.91666666666667, 168.38333333333333, 80.1, 126.18333333333334, 84.51666666666667, 10.383333333333333, 171.9, 127.33333333333333, 145.76666666666668, 29.516666666666666, 9.516666666666667, 67.35, 94.41666666666667, 152.36666666666667, 124.26666666666667, 77.43333333333334, 114.41666666666667, 10.716666666666667, 179.11666666666667, 231.86666666666667, 202.03333333333333, 215.78333333333333, 8.783333333333333, 141.63333333333333, 233.63333333333333, 8.133333333333333, 8.416666666666666, 91.4, 96.6, 11.9, 67.83333333333333, 50.666666666666664, 254.56666666666666, 34.583333333333336, 12.766666666666667, 26.566666666666666, 34.3, 28.1, 69.73333333333333, 120.18333333333334, 85.91666666666667, 76.05, 95.85, 48.4, 50.6, 75.26666666666667, 91.3, 139.18333333333334, 25.483333333333334, 155.91666666666666, 110.9, 17.9, 16.933333333333334, 44.46666666666667, 1.6833333333333333, 78.5, 1.6166666666666667, 95.18333333333334, 89.56666666666666, 45.21666666666667], \"xaxis\": \"x\", \"y\": [371705, 211581, 494770, 199049, 409018, 469840, 247437, 200201, 139309, 284116, 288968, 248069, 411854, 238633, 749759, 1165676, 1650208, 185972, 391910, 214016, 152884, 356180, 392937, 212613, 462922, 420908, 357631, 363024, 307166, 217047, 210235, 216244, 390234, 271595, 452045, 181748, 152338, 178250, 285182, 140722, 759027, 159233, 117725, 232446, 301, 156665, 684587, 246462, 376751, 204409, 317081, 484406, 333648, 385945, 352479, 612540, 352647, 181906, 325188, 254650, 609731, 326879, 367809, 572213, 314618, 263867, 664648, 394345, 275219, 228246, 324010, 198377, 260536, 525195, 349686, 350862, 260812, 332951, 158598, 299962, 426771, 323825, 194051, 331155, 316956, 636897, 275101, 260562, 151559, 936082, 210894, 390348, 123883, 194056, 273096, 444366, 236345, 343792, 389169, 257267, 230513, 256639, 488881, 171778, 723419, 598446, 147036, 621997, 818185, 200542, 161599, 361431, 148360, 304114, 407316, 258461, 271300, 261506, 669863, 394723, 496465, 899705, 493740, 533219, 315497, 96666, 181649, 150748, 142743, 355059, 248700, 482901, 332362, 121724, 341229, 814544, 517588, 296366, 119845, 273794, 149199, 390864, 537919, 483499, 149059, 129305, 87930, 179717, 145057, 151543, 361989, 147202, 125334, 2257788, 794298, 154658, 270648, 211414, 943059, 187723, 396773, 368821, 304697, 1544323, 104840, 1061179, 86396, 524372, 117614, 174616, 355703, 303883, 460128, 98964, 169834, 748861, 466434, 186673, 259161, 508604, 303846, 275210, 381395, 339157, 248313, 374639, 352279, 108029, 58940, 365105, 199137, 1257070, 213065, 138325, 157467, 230798, 97567, 420505, 454480, 69753, 276100, 85501, 647915, 428249, 122530, 393811, 173613, 124548, 555937, 76250, 98159, 36708, 118386, 375893, 178683, 458591, 145397, 134240, 55075, 160897, 104523, 57057, 566544, 496086, 115294, 3824342, 78542, 75155, 139151, 84529, 111325, 363756, 87584, 885556, 83308, 52653, 389538, 75663, 92933, 357178, 226839, 115558, 105809, 341880, 97659, 163986, 130828, 147461, 247999, 141165, 192972, 874242, 358189, 105080, 94523, 668731, 144464, 102268, 465852, 56009, 134781, 322912, 239575, 223465, 908097, 133435, 233236, 352889, 179034, 175152, 48153, 93878, 86787, 137211, 129355, 201760, 80301, 38635, 184123, 22229, 40847, 20762, 374783, 24606, 28410, 76945], \"yaxis\": \"y\"}],                        {\"legend\": {\"itemsizing\": \"constant\", \"title\": {\"text\": \"Year\"}, \"tracegroupgap\": 0}, \"margin\": {\"t\": 60}, \"shapes\": [{\"line\": {\"dash\": \"dash\"}, \"type\": \"line\", \"x0\": 0, \"x1\": 1, \"xref\": \"x domain\", \"y0\": 256953.0, \"y1\": 256953.0, \"yref\": \"y\"}], \"template\": {\"data\": {\"bar\": [{\"error_x\": {\"color\": \"#2a3f5f\"}, \"error_y\": {\"color\": \"#2a3f5f\"}, \"marker\": {\"line\": {\"color\": \"#E5ECF6\", \"width\": 0.5}}, \"type\": \"bar\"}], \"barpolar\": [{\"marker\": {\"line\": {\"color\": \"#E5ECF6\", \"width\": 0.5}}, \"type\": \"barpolar\"}], \"carpet\": [{\"aaxis\": {\"endlinecolor\": \"#2a3f5f\", \"gridcolor\": \"white\", \"linecolor\": \"white\", \"minorgridcolor\": \"white\", \"startlinecolor\": \"#2a3f5f\"}, \"baxis\": {\"endlinecolor\": \"#2a3f5f\", \"gridcolor\": \"white\", \"linecolor\": \"white\", \"minorgridcolor\": \"white\", \"startlinecolor\": \"#2a3f5f\"}, \"type\": \"carpet\"}], \"choropleth\": [{\"colorbar\": {\"outlinewidth\": 0, \"ticks\": \"\"}, \"type\": \"choropleth\"}], \"contour\": [{\"colorbar\": {\"outlinewidth\": 0, \"ticks\": \"\"}, \"colorscale\": [[0.0, \"#0d0887\"], [0.1111111111111111, \"#46039f\"], [0.2222222222222222, \"#7201a8\"], [0.3333333333333333, \"#9c179e\"], [0.4444444444444444, \"#bd3786\"], [0.5555555555555556, \"#d8576b\"], [0.6666666666666666, \"#ed7953\"], [0.7777777777777778, \"#fb9f3a\"], [0.8888888888888888, \"#fdca26\"], [1.0, \"#f0f921\"]], \"type\": \"contour\"}], \"contourcarpet\": [{\"colorbar\": {\"outlinewidth\": 0, \"ticks\": \"\"}, \"type\": \"contourcarpet\"}], \"heatmap\": [{\"colorbar\": {\"outlinewidth\": 0, \"ticks\": \"\"}, \"colorscale\": [[0.0, \"#0d0887\"], [0.1111111111111111, \"#46039f\"], [0.2222222222222222, \"#7201a8\"], [0.3333333333333333, \"#9c179e\"], [0.4444444444444444, \"#bd3786\"], [0.5555555555555556, \"#d8576b\"], [0.6666666666666666, \"#ed7953\"], [0.7777777777777778, \"#fb9f3a\"], [0.8888888888888888, \"#fdca26\"], [1.0, \"#f0f921\"]], \"type\": \"heatmap\"}], \"heatmapgl\": [{\"colorbar\": {\"outlinewidth\": 0, \"ticks\": \"\"}, \"colorscale\": [[0.0, \"#0d0887\"], [0.1111111111111111, \"#46039f\"], [0.2222222222222222, \"#7201a8\"], [0.3333333333333333, \"#9c179e\"], [0.4444444444444444, \"#bd3786\"], [0.5555555555555556, \"#d8576b\"], [0.6666666666666666, \"#ed7953\"], [0.7777777777777778, \"#fb9f3a\"], [0.8888888888888888, \"#fdca26\"], [1.0, \"#f0f921\"]], \"type\": \"heatmapgl\"}], \"histogram\": [{\"marker\": {\"colorbar\": {\"outlinewidth\": 0, \"ticks\": \"\"}}, \"type\": \"histogram\"}], \"histogram2d\": [{\"colorbar\": {\"outlinewidth\": 0, \"ticks\": \"\"}, \"colorscale\": [[0.0, \"#0d0887\"], [0.1111111111111111, \"#46039f\"], [0.2222222222222222, \"#7201a8\"], [0.3333333333333333, \"#9c179e\"], [0.4444444444444444, \"#bd3786\"], [0.5555555555555556, \"#d8576b\"], [0.6666666666666666, \"#ed7953\"], [0.7777777777777778, \"#fb9f3a\"], [0.8888888888888888, \"#fdca26\"], [1.0, \"#f0f921\"]], \"type\": \"histogram2d\"}], \"histogram2dcontour\": [{\"colorbar\": {\"outlinewidth\": 0, \"ticks\": \"\"}, \"colorscale\": [[0.0, \"#0d0887\"], [0.1111111111111111, \"#46039f\"], [0.2222222222222222, \"#7201a8\"], [0.3333333333333333, \"#9c179e\"], [0.4444444444444444, \"#bd3786\"], [0.5555555555555556, \"#d8576b\"], [0.6666666666666666, \"#ed7953\"], [0.7777777777777778, \"#fb9f3a\"], [0.8888888888888888, \"#fdca26\"], [1.0, \"#f0f921\"]], \"type\": \"histogram2dcontour\"}], \"mesh3d\": [{\"colorbar\": {\"outlinewidth\": 0, \"ticks\": \"\"}, \"type\": \"mesh3d\"}], \"parcoords\": [{\"line\": {\"colorbar\": {\"outlinewidth\": 0, \"ticks\": \"\"}}, \"type\": \"parcoords\"}], \"pie\": [{\"automargin\": true, \"type\": \"pie\"}], \"scatter\": [{\"marker\": {\"colorbar\": {\"outlinewidth\": 0, \"ticks\": \"\"}}, \"type\": \"scatter\"}], \"scatter3d\": [{\"line\": {\"colorbar\": {\"outlinewidth\": 0, \"ticks\": \"\"}}, \"marker\": {\"colorbar\": {\"outlinewidth\": 0, \"ticks\": \"\"}}, \"type\": \"scatter3d\"}], \"scattercarpet\": [{\"marker\": {\"colorbar\": {\"outlinewidth\": 0, \"ticks\": \"\"}}, \"type\": \"scattercarpet\"}], \"scattergeo\": [{\"marker\": {\"colorbar\": {\"outlinewidth\": 0, \"ticks\": \"\"}}, \"type\": \"scattergeo\"}], \"scattergl\": [{\"marker\": {\"colorbar\": {\"outlinewidth\": 0, \"ticks\": \"\"}}, \"type\": \"scattergl\"}], \"scattermapbox\": [{\"marker\": {\"colorbar\": {\"outlinewidth\": 0, \"ticks\": \"\"}}, \"type\": \"scattermapbox\"}], \"scatterpolar\": [{\"marker\": {\"colorbar\": {\"outlinewidth\": 0, \"ticks\": \"\"}}, \"type\": \"scatterpolar\"}], \"scatterpolargl\": [{\"marker\": {\"colorbar\": {\"outlinewidth\": 0, \"ticks\": \"\"}}, \"type\": \"scatterpolargl\"}], \"scatterternary\": [{\"marker\": {\"colorbar\": {\"outlinewidth\": 0, \"ticks\": \"\"}}, \"type\": \"scatterternary\"}], \"surface\": [{\"colorbar\": {\"outlinewidth\": 0, \"ticks\": \"\"}, \"colorscale\": [[0.0, \"#0d0887\"], [0.1111111111111111, \"#46039f\"], [0.2222222222222222, \"#7201a8\"], [0.3333333333333333, \"#9c179e\"], [0.4444444444444444, \"#bd3786\"], [0.5555555555555556, \"#d8576b\"], [0.6666666666666666, \"#ed7953\"], [0.7777777777777778, \"#fb9f3a\"], [0.8888888888888888, \"#fdca26\"], [1.0, \"#f0f921\"]], \"type\": \"surface\"}], \"table\": [{\"cells\": {\"fill\": {\"color\": \"#EBF0F8\"}, \"line\": {\"color\": \"white\"}}, \"header\": {\"fill\": {\"color\": \"#C8D4E3\"}, \"line\": {\"color\": \"white\"}}, \"type\": \"table\"}]}, \"layout\": {\"annotationdefaults\": {\"arrowcolor\": \"#2a3f5f\", \"arrowhead\": 0, \"arrowwidth\": 1}, \"autotypenumbers\": \"strict\", \"coloraxis\": {\"colorbar\": {\"outlinewidth\": 0, \"ticks\": \"\"}}, \"colorscale\": {\"diverging\": [[0, \"#8e0152\"], [0.1, \"#c51b7d\"], [0.2, \"#de77ae\"], [0.3, \"#f1b6da\"], [0.4, \"#fde0ef\"], [0.5, \"#f7f7f7\"], [0.6, \"#e6f5d0\"], [0.7, \"#b8e186\"], [0.8, \"#7fbc41\"], [0.9, \"#4d9221\"], [1, \"#276419\"]], \"sequential\": [[0.0, \"#0d0887\"], [0.1111111111111111, \"#46039f\"], [0.2222222222222222, \"#7201a8\"], [0.3333333333333333, \"#9c179e\"], [0.4444444444444444, \"#bd3786\"], [0.5555555555555556, \"#d8576b\"], [0.6666666666666666, \"#ed7953\"], [0.7777777777777778, \"#fb9f3a\"], [0.8888888888888888, \"#fdca26\"], [1.0, \"#f0f921\"]], \"sequentialminus\": [[0.0, \"#0d0887\"], [0.1111111111111111, \"#46039f\"], [0.2222222222222222, \"#7201a8\"], [0.3333333333333333, \"#9c179e\"], [0.4444444444444444, \"#bd3786\"], [0.5555555555555556, \"#d8576b\"], [0.6666666666666666, \"#ed7953\"], [0.7777777777777778, \"#fb9f3a\"], [0.8888888888888888, \"#fdca26\"], [1.0, \"#f0f921\"]]}, \"colorway\": [\"#636efa\", \"#EF553B\", \"#00cc96\", \"#ab63fa\", \"#FFA15A\", \"#19d3f3\", \"#FF6692\", \"#B6E880\", \"#FF97FF\", \"#FECB52\"], \"font\": {\"color\": \"#2a3f5f\"}, \"geo\": {\"bgcolor\": \"white\", \"lakecolor\": \"white\", \"landcolor\": \"#E5ECF6\", \"showlakes\": true, \"showland\": true, \"subunitcolor\": \"white\"}, \"hoverlabel\": {\"align\": \"left\"}, \"hovermode\": \"closest\", \"mapbox\": {\"style\": \"light\"}, \"paper_bgcolor\": \"white\", \"plot_bgcolor\": \"#E5ECF6\", \"polar\": {\"angularaxis\": {\"gridcolor\": \"white\", \"linecolor\": \"white\", \"ticks\": \"\"}, \"bgcolor\": \"#E5ECF6\", \"radialaxis\": {\"gridcolor\": \"white\", \"linecolor\": \"white\", \"ticks\": \"\"}}, \"scene\": {\"xaxis\": {\"backgroundcolor\": \"#E5ECF6\", \"gridcolor\": \"white\", \"gridwidth\": 2, \"linecolor\": \"white\", \"showbackground\": true, \"ticks\": \"\", \"zerolinecolor\": \"white\"}, \"yaxis\": {\"backgroundcolor\": \"#E5ECF6\", \"gridcolor\": \"white\", \"gridwidth\": 2, \"linecolor\": \"white\", \"showbackground\": true, \"ticks\": \"\", \"zerolinecolor\": \"white\"}, \"zaxis\": {\"backgroundcolor\": \"#E5ECF6\", \"gridcolor\": \"white\", \"gridwidth\": 2, \"linecolor\": \"white\", \"showbackground\": true, \"ticks\": \"\", \"zerolinecolor\": \"white\"}}, \"shapedefaults\": {\"line\": {\"color\": \"#2a3f5f\"}}, \"ternary\": {\"aaxis\": {\"gridcolor\": \"white\", \"linecolor\": \"white\", \"ticks\": \"\"}, \"baxis\": {\"gridcolor\": \"white\", \"linecolor\": \"white\", \"ticks\": \"\"}, \"bgcolor\": \"#E5ECF6\", \"caxis\": {\"gridcolor\": \"white\", \"linecolor\": \"white\", \"ticks\": \"\"}}, \"title\": {\"x\": 0.05}, \"xaxis\": {\"automargin\": true, \"gridcolor\": \"white\", \"linecolor\": \"white\", \"ticks\": \"\", \"title\": {\"standoff\": 15}, \"zerolinecolor\": \"white\", \"zerolinewidth\": 2}, \"yaxis\": {\"automargin\": true, \"gridcolor\": \"white\", \"linecolor\": \"white\", \"ticks\": \"\", \"title\": {\"standoff\": 15}, \"zerolinecolor\": \"white\", \"zerolinewidth\": 2}}}, \"xaxis\": {\"anchor\": \"y\", \"domain\": [0.0, 1.0], \"title\": {\"text\": \"Video Length (mins)\"}}, \"yaxis\": {\"anchor\": \"x\", \"domain\": [0.0, 1.0], \"title\": {\"text\": \"Total Views\"}}},                        {\"responsive\": true}                    ).then(function(){\n",
       "                            \n",
       "var gd = document.getElementById('36b8426d-b303-4f5e-b803-188a073004e6');\n",
       "var x = new MutationObserver(function (mutations, observer) {{\n",
       "        var display = window.getComputedStyle(gd).display;\n",
       "        if (!display || display === 'none') {{\n",
       "            console.log([gd, 'removed!']);\n",
       "            Plotly.purge(gd);\n",
       "            observer.disconnect();\n",
       "        }}\n",
       "}});\n",
       "\n",
       "// Listen for the removal of the full notebook cells\n",
       "var notebookContainer = gd.closest('#notebook-container');\n",
       "if (notebookContainer) {{\n",
       "    x.observe(notebookContainer, {childList: true});\n",
       "}}\n",
       "\n",
       "// Listen for the clearing of the current output cell\n",
       "var outputEl = gd.closest('.output');\n",
       "if (outputEl) {{\n",
       "    x.observe(outputEl, {childList: true});\n",
       "}}\n",
       "\n",
       "                        })                };                });            </script>        </div>"
      ]
     },
     "metadata": {},
     "output_type": "display_data"
    }
   ],
   "source": [
    "import plotly.express as px\n",
    "\n",
    "LABELS = { \n",
    "    'upload_year': 'Year', \n",
    "    'views': 'Total Views', \n",
    "    'vid_dur': 'Video Length (mins)',\n",
    "    'vid_title': 'Video Title',\n",
    "    'dislikes_percent': 'Dislike Percentage',\n",
    "    'likes_percent': 'Like Percentage',\n",
    "    'vid_id': 'Total Videos',\n",
    "}\n",
    "\n",
    "# views vs video length (like percent)\n",
    "\n",
    "fig = px.scatter(\n",
    "    data_frame=df,\n",
    "    x='vid_dur',\n",
    "    y='views',\n",
    "    color='upload_year',\n",
    "    size='likes_percent',\n",
    "    opacity=0.4,\n",
    "    hover_data=['vid_title'],\n",
    "    labels=LABELS,\n",
    "    \n",
    ")\n",
    "fig.add_hline(y=df['views'].median(), line_dash='dash', )\n",
    "\n",
    "fig.show()"
   ]
  },
  {
   "cell_type": "code",
   "execution_count": 62,
   "metadata": {},
   "outputs": [
    {
     "data": {
      "application/vnd.plotly.v1+json": {
       "config": {
        "plotlyServerURL": "https://plot.ly"
       },
       "data": [
        {
         "customdata": [
          [
           "BEST OF THE WEEK 11 | SAMAY RAINA"
          ],
          [
           "Coming Back to Life - Reaching 1500 ft. Sagar Exposed Shah"
          ]
         ],
         "hovertemplate": "Year=2021<br>Video Length (mins)=%{x}<br>Total Views=%{y}<br>Dislike Percentage=%{marker.size}<br>Video Title=%{customdata[0]}<extra></extra>",
         "legendgroup": "2021",
         "marker": {
          "color": "#636efa",
          "opacity": 0.6,
          "size": [
           1.4643628509719222,
           1.797970754998508
          ],
          "sizemode": "area",
          "sizeref": 0.028480764710491262,
          "symbol": "circle"
         },
         "mode": "markers",
         "name": "2021",
         "orientation": "v",
         "showlegend": true,
         "type": "scatter",
         "x": [
          8.633333333333333,
          87.76666666666667
         ],
         "xaxis": "x",
         "y": [
          206794,
          183488
         ],
         "yaxis": "y"
        },
        {
         "customdata": [
          [
           "SAGAR SHAH EXPOSED - VLOG #3"
          ],
          [
           "ACCIDENTALLY GAVE 10,000 RS. SUPERCHAT TO @GamerFleet | BUDWEISER CONQUER 2020"
          ],
          [
           "ROAST BATTLE ft. Vidit Gujrathi | Sagar Shah | Samay Raina | Vaibhav Sethia"
          ],
          [
           "Good evening chess ft. Vidit Gujrathi"
          ],
          [
           "SAMAY RAINA IN DELHI ft. @Suhani Shah @SOUL Sangwan @Nishant Tanwar"
          ],
          [
           "THE WEIGHTLOSS VLOG | SAMAY RAINA"
          ],
          [
           "ADOPTING VAIBHAV SETHIA"
          ],
          [
           "GM ABISH MATHEW - THE NAME IS ENOUGH"
          ],
          [
           "Stream ends when I make one mistake in Puzzle Rush | LONG STREAM | ADDRESS REVEAL CHALLENGE*"
          ],
          [
           "BEST OF THE WEEK 10 | SAMAY RAINA"
          ],
          [
           "YOUTUBE vs TWITCH ft. Alexandra Botez"
          ],
          [
           "THIS IS GM ABISH MATHEW'S IMMORTAL | BEST OF COB3"
          ],
          [
           "ACHARA KIRK COMPLETELY SPOILED ft. @jaby koay  @GamerFleet  [18+]"
          ],
          [
           "THIS IS KUSHA KAPILA's IMMORTAL | BEST OF COB3"
          ],
          [
           "COMEDIANS ON BOARD | NO MERCY | GRAND FINALE"
          ],
          [
           "COMEDIANS ON BOARD | NO MERCY | DAY 2 QUARTER FINALS"
          ],
          [
           "COMEDIANS ON BOARD 3 | NO MERCY | DAY 1"
          ],
          [
           "Comedians On Board 3 - Teaser #2"
          ],
          [
           "SASTEY IMPRACTICAL JOKERS EP 02 FT. @Karan Singh Boomer @GamerFleet"
          ],
          [
           "COB 3 OFFICIAL TRAILER #1"
          ],
          [
           "CHESS FUNDAMENTALS ft. ARAVIND SA"
          ],
          [
           "WE PRANK CALLED YOUTUBERS!"
          ],
          [
           "MEMBERS vs SUBS BATTLE against ALEXANDRA BOTEZ"
          ],
          [
           "IF SAMAY RAINA WAS MARIO | VIDEO BY @BeastStats"
          ],
          [
           "SASTEY IMPRACTICAL JOKERS ft. @GamerFleet @RIDER OP"
          ],
          [
           "WWE, PRANK CALL AND MUCH MORE FT. SHAMERFLEET, JABY KOAY AND DANK RISHU"
          ],
          [
           "MEMBERS vs SUBS BATTLE FT. ANNA RUDOLF"
          ],
          [
           "HUMAN FALL FLAT FT. CHOWKDI - KSB + RIDEROP"
          ],
          [
           "I LOST THE CHALLENGE SO I WILL LOSE 6.5 KILOS IN 30 DAYS"
          ],
          [
           "BEST OF THE WEEK 9 | SAMAY RAINA"
          ],
          [
           "BM ADOPTED BY GM"
          ],
          [
           "IF I DON'T REACH 1500 BEFORE 10 PM THEN I REVEAL MY GIRL FRIEND"
          ],
          [
           "A brief history of time.....500K Special 💖💖💖"
          ],
          [
           "Training Kenny cuz he loves Chess now ft. Kusha #COB3"
          ],
          [
           "Human Fall Flat ft. Chowkdi"
          ],
          [
           "Reaching 1400 before reaching 500K"
          ],
          [
           "Grand Finale |  Red bull Rubik's Cube ft. KSM and Soham"
          ],
          [
           "Curb you dare - Miniclip #17"
          ],
          [
           "Kenny Sebastian vs Sapan Verma | Samay Raina"
          ],
          [
           "Learn how to Cube EP 04 - Finishing the Cube | Red bull Rubik's cube ft. Tania Sachdev"
          ],
          [
           "[18+] Finding LAURA on Omegle ft. Mehfil"
          ],
          [
           "ERIC ROSEN vs LEVY ROZMAN | SAMAY RAINA"
          ],
          [
           "Learn how to Cube EP 03 - Bottom two layers | Red bull Rubik's cube ft. Tania Sachdev"
          ],
          [
           "Curb your Actually Improving Chess - Miniclip #17"
          ],
          [
           "Members only stream with SAGAR SHAH - Watching Queen's Gambit"
          ],
          [
           "Learn how to Cube EP 02 - Completing the base | Red Bull Rubik's Cube ft. Tania Sachdev"
          ],
          [
           "ENDGAME | SAGAR SHAH DISS [OFFICIAL VIDEO]"
          ],
          [
           "Learn how to Cube EP 01 - The Cross | Red Bull Rubik's Cube ft. Tania Sachdev"
          ],
          [
           "CHAT MADE ME GO TO OMEGLE and OMG!!!!"
          ],
          [
           "CURB YOUR CONFIDENCE ft. @Tanmay Bhat  - Miniclip #16"
          ],
          [
           "GOODBYE CHESS ft. Sagar Shah"
          ],
          [
           "SAMAY RAINA BIRTHDAY SIMUL + COB 3 Lineup Reveal"
          ],
          [
           "SAMAY RAINA AGAINST THE WORLD | TWERK CHALLENGE"
          ],
          [
           "MYTHPAT IS THE LUCKIEST MAN ALIVE ft. TRIGGERED INSAAN"
          ],
          [
           "Curb your guide - Miniclip #15"
          ],
          [
           "SAMAY RAINA NAHI PIGHLEGA - Miniclip #14"
          ],
          [
           "SAIMAN SAYS ROASTS DANK RISHU"
          ],
          [
           "MY UGLY COUSIN"
          ],
          [
           "STREAM ENDS WHEN I LOSE THRICE IN A ROW | SAMAY RAINA AGAINST THE CHAT"
          ],
          [
           "MYTHPAT PLAYS THE GREATEST MOVE EVER in Chess - Miniclip #13"
          ],
          [
           "MYTHPAT vs TRIGGERED INSAAN CHESS"
          ],
          [
           "BULLYING NOOBS ON CHESS.COM - Miniclip #12"
          ],
          [
           "HOW TO AVOID A FORK 220 IQ - Miniclip #11"
          ],
          [
           "NAUGHTY SAGAR SHAH COMPILATION"
          ],
          [
           "SAIMAN SAYS vs DANK RISHU ft. Vidit, KSM, Gamerfleet"
          ],
          [
           "CHESS VARIANTS FT. ANNA RUDOLF and TANIA SACHDEV"
          ],
          [
           "Samay Raina emotional poem ft. @Yahya Bootwala @Suhani Shah @UnErase Poetry"
          ],
          [
           "CHESS with JABY KOAY & ACHARA ft. Vidit Gujrathi"
          ],
          [
           "Once a BM always a BM - Miniclip #9"
          ],
          [
           "BEST OF THE WEEK #8 | SAMAY RAINA"
          ],
          [
           "WWE ft. SHAMERFLEET, CRYDER, RAKAZONE, KARAN SINGH BOOMER, RAMAN CHOBRA"
          ],
          [
           "DEFEATING BISWA ft. Sagar Shah Spoilt"
          ],
          [
           "AMONG US FT. POETS"
          ],
          [
           "DON'T TRUST CHESS GRANDMASTERS FT. INDIAN CHESS SCENE"
          ],
          [
           "CURB YOUR BRILLIANCY - Miniclip #8"
          ],
          [
           "SAMAY RAINA IMvitational day 2 - FINALS"
          ],
          [
           "MODIJI KA KHAUF FT. SUKHBIR, GURSIMRAN KHAMBA and RIDER OP"
          ],
          [
           "LONG STREAM ft. Tanmay, KSB, GamerFleet, Janta"
          ],
          [
           "FALL GUYS INDIA PLAYS - SAMAY RAINA"
          ],
          [
           "SAMAY RAINA IMvitational TOURNAMENT DAY 1"
          ],
          [
           "SAMAY RAINA SPOILS SONGS COMPILATION"
          ],
          [
           "Curb your Badass move - Miniclip #7"
          ],
          [
           "Good night chess ft. My girlfriend Vidit"
          ],
          [
           "JUDIT POLGAR vs Comedians on Board"
          ],
          [
           "BEWAFA SUHANI ft. @Karan Singh Magic @Suhani Shah @GamerFleet"
          ],
          [
           "Among Us ft. Chess Gang"
          ],
          [
           "GM MAGNUS CARLSEN vs BM SAMAY RAINA ft. UPMANYU, VIDIT Highlights"
          ],
          [
           "Curb your clean content ft. Sagar Shah Spoiled  Miniclip #6"
          ],
          [
           "Goodnight Chess (Fog of war) ft. Anish Giri"
          ],
          [
           "Gaadi Waala Aaya compilation - Miniclip #5"
          ],
          [
           "Shortest Game of Magnus Carlsen - Miniclip #4"
          ],
          [
           "PACIFY 2 ft. CHOWKDI"
          ],
          [
           "Good night chess ft. Vidit + UNACADEMY REVELATION"
          ],
          [
           "Divya Deshmukh vs Daniel King  - DICE CHESS"
          ],
          [
           "Curb your leak - MINICLIP #3"
          ],
          [
           "Streaming until I reach 1600"
          ],
          [
           "SAMAY RAINA | INDIA PLAYS @NODWIN Gaming  #IndiaPlays"
          ],
          [
           "SAMAY RAINA | BEST OF THE WEEK #7"
          ],
          [
           "Among Us ft. Tanmay, KSB, Fleet and many friends"
          ],
          [
           "SAMAY RAINA FREESTYLE - MINICLIP #2"
          ],
          [
           "VLADIMIR KRAMNIK vs Comedians on Board ft. Abhishek Upmanyu, Biswa, Sethia and Samay"
          ],
          [
           "Sagar Shah Proud Student - Miniclip #1"
          ],
          [
           "BHOOTNI KI MAA KA BHAROSA - PACIFY HIGHLIGHTS ft. @Karan Singh Magic @Suhani Shah @GamerFleet"
          ],
          [
           "GM Radjabov vs Sagar Shah, Amruta and Samay Raina"
          ],
          [
           "Among Us ft. CARRYMINATI, TANMAY BHAT, KSB, SUHANI SHAH GAMERFLEET, NISHANT TANWAR"
          ],
          [
           "Among Us with Tanmay Bhat, GamerFleet, Karan Singh Boomer, Suhani Shah, Nishant Tanwar, DaddyCool"
          ],
          [
           "Reaching 1600 - NO SCAM ft. Sagar Shah"
          ],
          [
           "VISHY ANAND vs MAGNUS CARLSEN"
          ],
          [
           "CONVINCING RANDOM STRANGERS TO PLAY CHESS ON OMEGLE PART 4"
          ],
          [
           "Chess with Subscribers (JOIN DISCORD) ft. My Friend Vidit"
          ],
          [
           "Dice Chess - MAGNUS CARLSEN vs VIDIT GUJRATHI"
          ],
          [
           "WE WON PACIFY ft. Karan Singh Boomer, GamerFleet, Suhani my cutie"
          ],
          [
           "Blitzing ft. Sagar Shah"
          ],
          [
           "Dice Chess - Alexandra Botez vs Tania Sachdev"
          ],
          [
           "MAGNUS KALICHARAN was on my channel ❤️❤️❤️❤️"
          ],
          [
           "Bakchod Chess ft. Sukhbir, Khamba, Nishant, Karan Singh Boomer"
          ],
          [
           "To Sagar Shah, with love - Happy Teachers' Day"
          ],
          [
           "SAMAY RAINA | BEST OF THE WEEK #6"
          ],
          [
           "CHESS ft. WORLD CHAMPION MAGNUS CARLSEN"
          ],
          [
           "Fall guys ft. Karan Singh Boomer, Tania Sachdev, Vidit Gujrathi"
          ],
          [
           "THE GENIUS OF SAMAY RAINA - EINSTEIN DISS"
          ],
          [
           "FINALE!! INDIA vs RUSSIA CHESS OLYMPIAD LIVE STREAM"
          ],
          [
           "CHESS OLYMPIAD QUARTER FINALS - INDIA vs ARMENIA"
          ],
          [
           "BAWASIR ft. Alexandra Botez, Tania and Karan Singh Boomer"
          ],
          [
           "FALL GUYS unSTRIP challenge ft. Gamer Fleet, Suhani Shah and Karan Singh Boomer"
          ],
          [
           "Good night chess"
          ],
          [
           "Just Chillin' with Sagar Shah and Amruta Mokal"
          ],
          [
           "Members' tournament #2 - Hunt for the strongest member"
          ],
          [
           "I am a GENIUS - I.Q Test"
          ],
          [
           "SAY THE TRUTH Fall Guys ft. Karan Singh Boomer, SUHANI, FLEET"
          ],
          [
           "SAMAY RAINA | BEST OF WEEK #5 ft. @Tanmay Bhat"
          ],
          [
           "Fall guys ft. Alexandra Botez, Tania Sachdev, Karan Singh Magic CHILLI CHALLENGE"
          ],
          [
           "Billu Bewafa ft. @Suhani Shah and @GM Cemil Can Chess"
          ],
          [
           "Goodnight chess - Reaching 1450 ft. Sagar Shah #ARJUNAFORCHESS"
          ],
          [
           "CHESS OLYMPIAD DAY 1 ft. Sagar Shah, Biswa, Sethia"
          ],
          [
           "CONVINCING RANDOM STRANGERS TO PLAY CHESS ON OMEGLE PART 3"
          ],
          [
           "Fall guys ft. Tania Sachdev"
          ],
          [
           "Best of Week #4 ft. Vidit Gujrathi, Sagar Shah, Tanmay Bot"
          ],
          [
           "Reaching 1450 ft. Sagar Shah's voice"
          ],
          [
           "FALL GUYS JEETNA HAI AAJ | FALLS GUYS GIVE AWAY"
          ],
          [
           "Good afternoon chess ft. Tanmay Bot"
          ],
          [
           "Burnol Boys play Fall Guys ft. @Flying Beast @Nishant Tanwar"
          ],
          [
           "I TORE MY SHIRT PLAYING THIS GAME | UNFAIR MARIO"
          ],
          [
           "Noobs play Fall Guys ft. @Tanmay Bhat @Nishant Tanwar"
          ],
          [
           "UNTITLED TUESDAY but on Wednesday (Registration link in dikscription)"
          ],
          [
           "Good afternoon chess - Reaching 1500"
          ],
          [
           "PLAYING THE BEST GAME OF ALL TIME"
          ],
          [
           "HUSBAND vs WIFE ft. Sagar Shah and Amruta (Dice Chess)"
          ],
          [
           "WILL DELETE MY YOUTUBE CHANNEL IF I DON'T REACH 1600 RATING ON CHESS.COM"
          ],
          [
           "DICE CHESS - Anish Giri vs Teimour Radjabov"
          ],
          [
           "BEST OF THE WEEK #3 ft. @Tanmay Bhat  , Biswa"
          ],
          [
           "WILL CHANGE NAME ON CHESS.COM TO WHATEVER YOU SAY IF I DON'T REACH 1300"
          ],
          [
           "Botez sisters play SCRIBBL ft. Agadmator, Vidit, Sagar"
          ],
          [
           "DEFEATING @CarryMinati, @Tanmay Bhat  ft. @BB Ki Vines  HIGHLIGHTS"
          ],
          [
           "CHESS ft. CARRY, BHUVAN and TANMAY BOT"
          ],
          [
           "Happy friendship day ft. Pentala Harikrishna"
          ],
          [
           "BEST OF THE WEEK COMPILATION #2"
          ],
          [
           "RAHUL DUA vs JASPREET SINGH"
          ],
          [
           "CONVINCING RANDOM STRANGERS TO PLAY CHESS ON OMEGLE PART 2"
          ],
          [
           "REACHING 1300 AT ANY COST"
          ],
          [
           "Skribble ft. Botez sisters, AGADMATOR, Sagar Shah, Vidit G"
          ],
          [
           "I LEAKED SUKHBIR's NUMBER 🤦🤦🤦"
          ],
          [
           "BEST OF WEEK COMPILATION #1"
          ],
          [
           "CONVINCING RANDOM STRANGERS TO PLAY CHESS ON OMEGLE Part 1"
          ],
          [
           "Members tournament - Hunt for the strongest member and also reaching 1300"
          ],
          [
           "@BB Ki Vines  FUNNY CHESS HIGHLIGHTS ft. @Tanmay Bhat @Aakash Gupta"
          ],
          [
           "Good night chess - Reaching 1300"
          ],
          [
           "Bhuvan Bam plays chess ft. Aakash Gupta and Tanmay Bot"
          ],
          [
           "Women's Speed Chess Championship finals - Rooting for HUMPY"
          ],
          [
           "Understanding Rap ft. SEEDHE MAUT"
          ],
          [
           "CRASH COURSE: DISCORD"
          ],
          [
           "RAFTAAR vs EPR ft. Vidit Gujrathi"
          ],
          [
           "FLYING BEAST TRIES CHESS ft. Vidit, Sagar, Karan Singh Boomer"
          ],
          [
           "Good evening chess - Road to 1250"
          ],
          [
           "GM ROBERT HESS vs COMEDIANS ON BOARD ft. Anish Giri, Vidit Gujrathi"
          ],
          [
           "PRANK CALLS COMPILATION"
          ],
          [
           "CHESS or SCRIBBLE ft. Anish, Vidit, Radjabov, Tania, Adhiban"
          ],
          [
           "BEST OF ANIRBAN ft. Sagar, Biswa, Vaibhav, Everybody"
          ],
          [
           "Khelna toh chess tha (Prank Calls)"
          ],
          [
           "CURB YOUR ARROGANCE 2 FT. JOEL, BISWA, TANMAY, VIDIT"
          ],
          [
           "HAND and BRAIN ft. BASSI and DEVESH DIXIT"
          ],
          [
           "AWARD CEREMONY ft. Vishy Anand, Alexandra Botez, AGADMATOR, Tania"
          ],
          [
           "COMEDIANS on BOARD 2 - GRAND FINALE LIVE STREAM"
          ],
          [
           "COMEDIANS on BOARD DAY 2 - SEARCH FOR TOP 4"
          ],
          [
           "COMEDIANS on BOARD 2 - DAY 1 (Part 2 of 2)"
          ],
          [
           "COMEDIANS on BOARD 2 -  DAY 1 (Part 1 of 2)"
          ],
          [
           "CURB YOUR ARROGANCE ft. Joel and Biswa"
          ],
          [
           "Practicing for tomorrow's big day ft. Biswa, Rahul Sub, Anirban, Sagar Shah"
          ],
          [
           "Chess ft. Mudit Dani and Sathiyan Gnanasekaran ft. Vidit and @Vivek Desai Illusionist"
          ],
          [
           "WATCH TILL END!!! @Vidit Gujrathi @SOUL Sangwan @MambaSR @GamerFleet"
          ],
          [
           "Understanding Rap ft. E.P.R and RAFTAAR"
          ],
          [
           "RAIDNIGHT ft. @CarryisLive @MambaSR @GamerFleet"
          ],
          [
           "CHILL SESSION FT. BALI, SANGWAN, RAAJ JONES"
          ],
          [
           "MEMBERSHIP ALERT"
          ],
          [
           "RAHUL SUBRAMANIAN vs KUMAR VARUN ft. BELLATRIX"
          ],
          [
           "AAKASH GUPTA vs GAURAV KAPOOR"
          ],
          [
           "Raidnight chess ft. Vidit Gujrathi"
          ],
          [
           "QUALITY CONTENT ft. @Tanmay Bhat @Karan Singh Magic"
          ],
          [
           "TANIA SACHDEV IS A SINGER"
          ],
          [
           "Good night chess"
          ],
          [
           "WWE ft. Tanmay Bot"
          ],
          [
           "Chess Doubles ft. Soundarya Pradhan and Aryan Joshi"
          ],
          [
           "Understanding Rap ft. Kr$na, RAFTAAR, Rohan Cariappa"
          ],
          [
           "Magicians on Board ft. Karan Singh Magic, Tania Sachdev and Suhani Shah"
          ],
          [
           "TEACHER vs STUDENTS ft. IM SAGAR SHAH"
          ],
          [
           "UNBOXING NEW LAPTOP IN FRONT OF OLD LAPTOP"
          ],
          [
           "4 Player Chess ft. Tanmay Bot, Kaneez, Sethia and Hackerman"
          ],
          [
           "Subscribers Chess Tournament (Open to all ratings) for West Bengal"
          ],
          [
           "Sagar Shah Spoiled ft. @Chess Talk @ChessBase India"
          ],
          [
           "Subscribers Chess Tournament (0-1800) for West Bengal"
          ],
          [
           "Subscribers Chess tournament (0-1400) for West Bengal"
          ],
          [
           "Clear all your doubts about the tournament"
          ],
          [
           "GM PENTALA HARIKRISHNA and RAJ TARUN vs Comedians on Board"
          ],
          [
           "BISWAASGHAAT Compilation ft. @Vidit Gujrathi"
          ],
          [
           "WE TRIED TO DEFEAT ANISH GIRI"
          ],
          [
           "GHODA IS A RESPECTABLE ANIMAL COMPILATION ft. @Biswa Kalyan Rath"
          ],
          [
           "4 Player Chess ft. Nihal Sarin, Vidit Gujrathi, Vaibhav Sethia and Anirban Dasgupta"
          ],
          [
           "GM Harika Dronavalli and Kaneez Surkha vs GM S.P Sethuraman and Rahul Subramanian"
          ],
          [
           "Chess with Subscribers (Join Discord)"
          ],
          [
           "TAG TEAM MATCH - Chessbase India vs Chess Talk ft. Tanmay Bot"
          ],
          [
           "Comedians on Board vs GM S.P SETHURAMAN"
          ],
          [
           "Pokemon Ruby - The Beginning"
          ],
          [
           "4 PLAYER CHESS ft. Alexandra Botez, Agadmator, Anish Giri and Vidit Gujrathi"
          ],
          [
           "DEFEATING VIDIT GUJRATHI"
          ],
          [
           "Blind Chess Players vs Comedians on Board"
          ],
          [
           "PUBG ft.YUZVENDRA CHAHAL, RAFTAAR, TANMAY BOT"
          ],
          [
           "Pokemon Fire Red - The Ending"
          ],
          [
           "Completing Pokemon Fire Red maybe"
          ],
          [
           "TRAINING KUSHA KAPILA ft. Sagar Shah"
          ],
          [
           "Pokemon Fire Red because why not"
          ],
          [
           "Non Violent Chess ft. Gang"
          ],
          [
           "PUBG ft. KR$NA - FUNNY HIGHLIGHTS"
          ],
          [
           "Pokemon Fire Red continues"
          ],
          [
           "Alexandra Botez vs Vidit Gujrathi (Blindfold)"
          ],
          [
           "Pokemon Fire Red (NSFW)"
          ],
          [
           "Pokemon Fire Red (Fail)"
          ],
          [
           "Botez and Kusha vs Kaneez and Biswa HIGHLIGHTS"
          ],
          [
           "Good evening chess ft. Vidit and Gang"
          ],
          [
           "Blindfold chess - Biswa vs Sethia"
          ],
          [
           "[Re-Upload] CHESS FOR CHARITY 2.0 ft. RAFTAAR, ANISH GIRI, CarryMinati and many lovely people"
          ],
          [
           "Blindfold Chess ft. My friend Vidit Gujrathi"
          ],
          [
           "4 Player chess ft. Vidit"
          ],
          [
           "4 player chess ft. Biswa, Sethia and Anirban"
          ],
          [
           "ADHIBAN FUNNY  HIGHLIGHTS"
          ],
          [
           "Online chess championship finals and 4 player chess ft. Biswa, Tanmay, Sagar and Sethia and"
          ],
          [
           "LIVE STREAMING World Online Chess Cup India vs China, India vs Russia ft. Tania"
          ],
          [
           "LIVE STREAMING World Online Chess Cup India vs ROW, India vs Europe"
          ],
          [
           "LIVE STREAMING World Online Chess Cup India vs Russia, India vs USA"
          ],
          [
           "WHEN LEGENDS MEET - Abish Mathew vs Yahya Bootwala highlights ft. Biswa hacker"
          ],
          [
           "World Online Chess Cup India vs China ft. Adibhan"
          ],
          [
           "LIVE STREAMING World Online Chess Cup INDIA vs USA"
          ],
          [
           "BISWA HACKER COMPILATION"
          ],
          [
           "VIDIT GUJRATHI vs NIHAL SARIN ft. Tanmay Bot"
          ],
          [
           "Chess Puzzles ft. Sagar Shah, Biswa, Sapan and Gang"
          ],
          [
           "Understanding chess #3 ft. Nihal Sarin"
          ],
          [
           "VISWANATHAN ANAND vs GM ABISH MATHEW (Match of the century) Highlights"
          ],
          [
           "Chess ft. GM Adhiban, the beast @Biswa Kalyan Rath @VAIBHAV SETHIA"
          ],
          [
           "Understanding chess #2 with Vidit Gujrathi, Sethia and Biswa Hacker"
          ],
          [
           "CHESS FOR CHARITY ft. VISWANATHAN ANAND, YUZVENDRA CHAHAL"
          ],
          [
           "Chess ft. Varun Thakur"
          ],
          [
           "Fun with AGADMATOR ft. @Biswa Kalyan Rath @Abhishek Upmanyu @agadmator's Chess Channel"
          ],
          [
           "PUBG FT. RAFTAAR, KR$NA, TANMAY BHAT and YUNAN HIGHLIGHTS"
          ],
          [
           "Defeating Aakash Mehta ft. Nihal Sarin and @Biswa Kalyan Rath Hacker"
          ],
          [
           "Aakash Mehta vs Abhishek Upmanyu  (Title match)"
          ],
          [
           "YUZVENDRA CHAHAL vs Comedians on Board ft. @Abhishek Upmanyu @Biswa Kalyan Rath @Karunesh Talwar"
          ],
          [
           "Understanding chess ft. Vidit Gujrathi @Biswa Kalyan Rath @Kunal Rao"
          ],
          [
           "PUBG ft. Raftaar, Kr$na and Tanmay Bhat  FULL STREAM"
          ],
          [
           "VIDIT GUJRATHI VS COMEDIANS ON BOARD ft. @Abhishek Upmanyu @Biswa Kalyan Rath @VAIBHAV SETHIA"
          ],
          [
           "PUBG ft. KR$NA"
          ],
          [
           "Agadmator vs Indian Comedians ft. @Abhishek Upmanyu @Biswa Kalyan Rath @agadmator's Chess Channel"
          ],
          [
           "PUBG Road to Bronze"
          ],
          [
           "FINALE - Chess tournament"
          ],
          [
           "SEMI FINALS"
          ],
          [
           "Tournament Quarter finals"
          ],
          [
           "Chess tournament match 11 Varun Grover vs Anubhav Singh Bassi"
          ],
          [
           "Chess tournament matches 6,7,8,9 and 10"
          ],
          [
           "Chess tournament matches 2,3,4 and 5"
          ],
          [
           "Chess tournament match 1 Rahul Dua vs Sumit Sourav"
          ],
          [
           "Kidnapped in PUBG custom room"
          ],
          [
           "Chess practice before tournament with Vaibhav Sethia"
          ],
          [
           "Aresole Just Went to War"
          ],
          [
           "PUBG with Ojas and Balraj"
          ],
          [
           "Coming soon"
          ],
          [
           "Later night chess with friends - Sumit Sourav"
          ],
          [
           "PUBG with Ojas"
          ],
          [
           "Later night chess with friends - Balraj Ghai"
          ]
         ],
         "hovertemplate": "Year=2020<br>Video Length (mins)=%{x}<br>Total Views=%{y}<br>Dislike Percentage=%{marker.size}<br>Video Title=%{customdata[0]}<extra></extra>",
         "legendgroup": "2020",
         "marker": {
          "color": "#EF553B",
          "opacity": 0.6,
          "size": [
           0.7298713188545852,
           1.2809627524087268,
           1.0143702451394758,
           1.034263592765933,
           1.438457175269427,
           1.0369742258024626,
           0.9764785358963336,
           0.5452026634490772,
           0.7666342468104582,
           1.1201803217103241,
           0.640392410668665,
           0.6925624811803673,
           0.5973086781398755,
           0.704814765869345,
           0.8852117565378385,
           0.8213581898473798,
           0.7724477244772447,
           0.6987733762316509,
           0.6498545101842871,
           1.1154706702551964,
           1.200653155316492,
           0.7768656370298224,
           1.0043133972832035,
           1.2295081967213115,
           0.7798926682367476,
           1.560794145000202,
           1.1487904562023639,
           1.517478095926294,
           1.3121013933460617,
           1.1617346552637553,
           1.0003449465332874,
           1.3353056410666453,
           0.5639200656994251,
           1.2313544899389328,
           1.1306198457036445,
           1.154841093865484,
           0.8423503629639776,
           0.5718625742751196,
           1.4351496546431313,
           1.7137096774193548,
           0.9320947770916524,
           0.9215017064846417,
           1.5482855143456964,
           1.0064920918478497,
           2.4691358024691357,
           2.630688546777195,
           3.137615885331054,
           1.696400948747035,
           0.6424288569525078,
           0.7917279570822878,
           2.1387441732931176,
           0.5980269818472912,
           0.7290857615313306,
           0.9290913101014556,
           0.5749697973063672,
           0.43876348472486626,
           0.9325758387822918,
           0.6556228416996146,
           1.4546766049531137,
           0.5044136191677175,
           1.7897538256819694,
           0.5749777080835101,
           0.3945901984999548,
           0.6967753883191741,
           1.601612218922359,
           1.0383215585527725,
           0.41399960280480913,
           1.126152754788366,
           0.3513524954493502,
           0.7595181655459339,
           1.3232104121475055,
           0.8046194623248769,
           1.742769692048223,
           0.6419796317371386,
           0.541967270807672,
           1.066824714772559,
           1.2196219621962197,
           1.4009409304756926,
           0.7249503754207302,
           0.7825288457699525,
           1.3217004776091172,
           0.5020156689739104,
           1.0920436817472698,
           1.081508836718544,
           0.501432664756447,
           1.1432465172622652,
           0.5057200373152649,
           0.588132787313758,
           0.902001315418585,
           0.6383179554947259,
           0.46613655058952563,
           0.8956125050315309,
           1.1244298292139598,
           0.6975057195469003,
           0.7419107792456443,
           1.4176260908755685,
           0.8095051573312443,
           0.7984271225453761,
           1.5308034041642136,
           2.704714640198511,
           0.7881048704880996,
           0.5032067094227923,
           0.6138392857142857,
           0.901089689857502,
           1.9494223271452589,
           1.4945607247958206,
           1.2895403945773174,
           0.6817065181788405,
           0.6190544170895358,
           1.4234875444839858,
           0.7958189808765886,
           1.1157503245500158,
           1.2809831285148927,
           1.1803150758425596,
           1.0463050297220822,
           1.2914378686190766,
           0.22306855277475518,
           0.6853166514374077,
           0.9272744031707991,
           1.5049017834533154,
           1.0436504913536986,
           0.7163323782234957,
           0.7151408228845063,
           0.6819668830842015,
           1.07559926244622,
           1.2909260991580918,
           1.9222405845003043,
           1.4210832847990682,
           2.3386552732178996,
           1.2335458233297458,
           0.8791416552441272,
           1.2463295269168027,
           0.6712981031925689,
           1.1328654106637113,
           0.7692307692307693,
           0.774376196952455,
           1.8815136042526404,
           0.6493297759490823,
           1.1153552330022918,
           1.6807738814993953,
           1.8909160015203346,
           1.3929064127097148,
           0.6796759783700601,
           1.3292924443377543,
           1.616052060737527,
           2.2171165996553706,
           1.8612178838761886,
           1.084206722081677,
           11.392305884196505,
           1.2712328767123289,
           1.1405769977753453,
           1.972364608870069,
           0.6429576049829214,
           1.4793654736522526,
           1.260521974535764,
           1.4561072700607585,
           1.21353447865607,
           1.2820512820512822,
           1.1003419556506597,
           1.6298590171950127,
           1.3239074550128536,
           0.7634467459883034,
           0.9345051099534736,
           1.0978239560870418,
           2.0449552137907725,
           0.9790648113325812,
           2.0829352188037453,
           1.0443687546522906,
           1.5937803692905734,
           1.6649894794620803,
           1.2441790195869327,
           0.7226428079834825,
           1.0662080825451419,
           1.980554555275477,
           0.8862629246676514,
           0.8096448200460966,
           1.4075606112834655,
           0.6660107469915992,
           1.4749465848783514,
           0.823045267489712,
           2.244129197723812,
           1.2246012246012246,
           0.9224498551968251,
           1.168931043322225,
           0.8740449178050474,
           1.0892069493203709,
           0.6794611991894147,
           1.635702746365105,
           2.6503277286976346,
           0.6735140596059943,
           1.0826580226904376,
           1.1082036259004806,
           1.381731271939652,
           3.041604508536383,
           1.6882606988614055,
           1.499414291292464,
           1.7587113740959894,
           0.6364823277067985,
           0.6600553802562946,
           1.8343815513626835,
           2.5327169737613127,
           1.606365410599009,
           1.4699906781078949,
           1.3942589338019917,
           2.8359855049629745,
           11.391657811735735,
           2.5576166385609893,
           1.6410082896295044,
           0.6113212645231019,
           1.6015374759769379,
           1.533873029399233,
           2.1314387211367674,
           1.3661727919953819,
           0.6230078238191828,
           1.0795124782356356,
           0.8836524300441826,
           1.719556041894638,
           3.9165383957585087,
           1.2177650429799427,
           1.9738326189939093,
           1.1095700416088765,
           2.616516762060507,
           1.2887046776496813,
           0.7825355614875489,
           0.8785140562248996,
           2.288532712511939,
           9.470752089136491,
           6.4114182147711825,
           2.598457166057653,
           4.021739130434782,
           1.5621948838117554,
           2.9413776592106164,
           3.31720801658604,
           1.0325528269560251,
           2.4805867126833476,
           3.2437745740498034,
           1.371815428469624,
           2.53051503423638,
           2.0695728753852927,
           1.2213847012841987,
           1.4615997874036672,
           1.4571595103944046,
           2.5275611723581606,
           0.7928173894781056,
           4.03346280250971,
           1.741856819369448,
           1.8107580330197053,
           2.040551078762672,
           1.1766306196014418,
           2.566633761105627,
           2.9688273132112815,
           1.53912949093672,
           0.85359157390306,
           1.308557969118032,
           1.7618469015795868,
           0.9872707226621229,
           1.3604299630500505,
           1.732484076433121,
           1.526567193578569,
           3.0710980227177114,
           1.2204522096608428,
           1.6915323586647373,
           1.2463935372186958,
           1.9455922865013775,
           1.8721309662076213,
           1.4358294676386127,
           2.9605805706745834,
           1.9596097894916995,
           3.33578386326043,
           1.966065176407218,
           2.491103202846975,
           1.880693505730238,
           2.3319615912208507,
           2.8035162746495605,
           3.1862166627330657,
           2.6336173508907823,
           1.3964313421256789,
           1.61090458488228,
           1.8861272695222986,
           1.975540921919097,
           1.8185028248587571,
           1.8376722817764166,
           1.9987943779942257,
           1.6286644951140066,
           1.3943112102621305,
           0.9879725085910653
          ],
          "sizemode": "area",
          "sizeref": 0.028480764710491262,
          "symbol": "circle"
         },
         "mode": "markers",
         "name": "2020",
         "orientation": "v",
         "showlegend": true,
         "type": "scatter",
         "x": [
          14.45,
          6.416666666666667,
          12.216666666666667,
          45.81666666666667,
          10.233333333333333,
          9.266666666666667,
          99.03333333333333,
          11.216666666666667,
          48.6,
          7.533333333333333,
          11.716666666666667,
          10.266666666666667,
          8.866666666666667,
          10.2,
          205.36666666666667,
          398.51666666666665,
          522.7833333333333,
          2.35,
          10.183333333333334,
          3.466666666666667,
          88.85,
          8.583333333333334,
          128.33333333333334,
          5.366666666666666,
          10.05,
          245.98333333333332,
          123.18333333333334,
          157.16666666666666,
          146.16666666666666,
          11.05,
          73.03333333333333,
          50.983333333333334,
          14.733333333333333,
          138.76666666666668,
          144.45,
          76.16666666666667,
          57.45,
          1.15,
          122.48333333333333,
          114.68333333333334,
          11.25,
          100.95,
          68.75,
          1.4,
          14.233333333333333,
          64.15,
          3.3166666666666664,
          64.18333333333334,
          9.75,
          1.1666666666666667,
          128.46666666666667,
          137.06666666666666,
          10.666666666666666,
          10.366666666666667,
          1.4333333333333333,
          0.4666666666666667,
          11.95,
          8.783333333333333,
          157.58333333333334,
          1.6,
          119.36666666666666,
          1.2333333333333334,
          1.2,
          11.283333333333333,
          124.31666666666666,
          110.3,
          1.95,
          96.1,
          0.8166666666666667,
          9.083333333333334,
          135.93333333333334,
          86.66666666666667,
          75.33333333333333,
          11.95,
          1.2833333333333332,
          221.51666666666668,
          10.083333333333334,
          182.63333333333333,
          45.96666666666667,
          128.75,
          8.783333333333333,
          1,
          86.55,
          106.65,
          11.1,
          162.31666666666666,
          9,
          1,
          72.78333333333333,
          1.8,
          1,
          112.81666666666666,
          57.43333333333333,
          89.83333333333333,
          1.5833333333333335,
          403.96666666666664,
          64.51666666666667,
          10.116666666666667,
          162.85,
          2.45,
          93.91666666666667,
          1,
          12.516666666666667,
          97.7,
          220.36666666666667,
          198.56666666666666,
          92.58333333333333,
          92.31666666666666,
          10.416666666666666,
          121.28333333333333,
          6.866666666666667,
          134.23333333333332,
          88.96666666666667,
          53.2,
          10.216666666666667,
          88.6,
          7.8,
          8.933333333333334,
          145.33333333333334,
          127.58333333333333,
          10.333333333333334,
          255.21666666666667,
          196.28333333333333,
          9.816666666666666,
          68.35,
          56.833333333333336,
          77.7,
          147.43333333333334,
          82.83333333333333,
          118.25,
          8.116666666666667,
          84.85,
          6,
          79.76666666666667,
          176.76666666666668,
          10.933333333333334,
          104.43333333333334,
          8.6,
          56.5,
          123.83333333333333,
          63.416666666666664,
          83.95,
          14.166666666666666,
          81.6,
          118.26666666666667,
          72.93333333333334,
          156.33333333333334,
          79.26666666666667,
          11.766666666666667,
          63.516666666666666,
          7.9,
          97.46666666666667,
          7.683333333333334,
          9.383333333333333,
          119.51666666666667,
          45.333333333333336,
          7.333333333333333,
          96.33333333333333,
          8.4,
          129.16666666666666,
          94.75,
          9.55,
          9.4,
          9.8,
          108.25,
          9.216666666666667,
          94.51666666666667,
          111.63333333333334,
          108.45,
          128.91666666666666,
          8.583333333333334,
          9.333333333333334,
          94.6,
          90.91666666666667,
          91.41666666666667,
          11.95,
          134.33333333333334,
          12.966666666666667,
          105.21666666666667,
          9.5,
          78.21666666666667,
          11.983333333333333,
          168.25,
          253.41666666666666,
          119.51666666666667,
          222.41666666666666,
          6.116666666666666,
          191.15,
          75.01666666666667,
          9.2,
          99.36666666666666,
          8.383333333333333,
          167.58333333333334,
          4.333333333333333,
          76.35,
          92.66666666666667,
          36.43333333333333,
          9.033333333333333,
          9,
          98.61666666666666,
          88.35,
          110.75,
          151.1,
          99.1,
          108.91666666666667,
          16.75,
          135,
          262.03333333333336,
          7.6,
          113.35,
          132.88333333333333,
          37.35,
          114.33333333333333,
          6.7,
          78.75,
          5.8,
          72.93333333333334,
          84,
          64.16666666666667,
          130.98333333333332,
          97.66666666666667,
          73.58333333333333,
          98.5,
          9.483333333333333,
          115.48333333333333,
          75.28333333333333,
          117.91666666666667,
          168.38333333333333,
          80.1,
          126.18333333333334,
          84.51666666666667,
          10.383333333333333,
          171.9,
          127.33333333333333,
          145.76666666666668,
          29.516666666666666,
          9.516666666666667,
          67.35,
          94.41666666666667,
          152.36666666666667,
          124.26666666666667,
          77.43333333333334,
          114.41666666666667,
          10.716666666666667,
          179.11666666666667,
          231.86666666666667,
          202.03333333333333,
          215.78333333333333,
          8.783333333333333,
          141.63333333333333,
          233.63333333333333,
          8.133333333333333,
          8.416666666666666,
          91.4,
          96.6,
          11.9,
          67.83333333333333,
          50.666666666666664,
          254.56666666666666,
          34.583333333333336,
          12.766666666666667,
          26.566666666666666,
          34.3,
          28.1,
          69.73333333333333,
          120.18333333333334,
          85.91666666666667,
          76.05,
          95.85,
          48.4,
          50.6,
          75.26666666666667,
          91.3,
          139.18333333333334,
          25.483333333333334,
          155.91666666666666,
          110.9,
          17.9,
          16.933333333333334,
          44.46666666666667,
          1.6833333333333333,
          78.5,
          1.6166666666666667,
          95.18333333333334,
          89.56666666666666,
          45.21666666666667
         ],
         "xaxis": "x",
         "y": [
          371705,
          211581,
          494770,
          199049,
          409018,
          469840,
          247437,
          200201,
          139309,
          284116,
          288968,
          248069,
          411854,
          238633,
          749759,
          1165676,
          1650208,
          185972,
          391910,
          214016,
          152884,
          356180,
          392937,
          212613,
          462922,
          420908,
          357631,
          363024,
          307166,
          217047,
          210235,
          216244,
          390234,
          271595,
          452045,
          181748,
          152338,
          178250,
          285182,
          140722,
          759027,
          159233,
          117725,
          232446,
          301,
          156665,
          684587,
          246462,
          376751,
          204409,
          317081,
          484406,
          333648,
          385945,
          352479,
          612540,
          352647,
          181906,
          325188,
          254650,
          609731,
          326879,
          367809,
          572213,
          314618,
          263867,
          664648,
          394345,
          275219,
          228246,
          324010,
          198377,
          260536,
          525195,
          349686,
          350862,
          260812,
          332951,
          158598,
          299962,
          426771,
          323825,
          194051,
          331155,
          316956,
          636897,
          275101,
          260562,
          151559,
          936082,
          210894,
          390348,
          123883,
          194056,
          273096,
          444366,
          236345,
          343792,
          389169,
          257267,
          230513,
          256639,
          488881,
          171778,
          723419,
          598446,
          147036,
          621997,
          818185,
          200542,
          161599,
          361431,
          148360,
          304114,
          407316,
          258461,
          271300,
          261506,
          669863,
          394723,
          496465,
          899705,
          493740,
          533219,
          315497,
          96666,
          181649,
          150748,
          142743,
          355059,
          248700,
          482901,
          332362,
          121724,
          341229,
          814544,
          517588,
          296366,
          119845,
          273794,
          149199,
          390864,
          537919,
          483499,
          149059,
          129305,
          87930,
          179717,
          145057,
          151543,
          361989,
          147202,
          125334,
          2257788,
          794298,
          154658,
          270648,
          211414,
          943059,
          187723,
          396773,
          368821,
          304697,
          1544323,
          104840,
          1061179,
          86396,
          524372,
          117614,
          174616,
          355703,
          303883,
          460128,
          98964,
          169834,
          748861,
          466434,
          186673,
          259161,
          508604,
          303846,
          275210,
          381395,
          339157,
          248313,
          374639,
          352279,
          108029,
          58940,
          365105,
          199137,
          1257070,
          213065,
          138325,
          157467,
          230798,
          97567,
          420505,
          454480,
          69753,
          276100,
          85501,
          647915,
          428249,
          122530,
          393811,
          173613,
          124548,
          555937,
          76250,
          98159,
          36708,
          118386,
          375893,
          178683,
          458591,
          145397,
          134240,
          55075,
          160897,
          104523,
          57057,
          566544,
          496086,
          115294,
          3824342,
          78542,
          75155,
          139151,
          84529,
          111325,
          363756,
          87584,
          885556,
          83308,
          52653,
          389538,
          75663,
          92933,
          357178,
          226839,
          115558,
          105809,
          341880,
          97659,
          163986,
          130828,
          147461,
          247999,
          141165,
          192972,
          874242,
          358189,
          105080,
          94523,
          668731,
          144464,
          102268,
          465852,
          56009,
          134781,
          322912,
          239575,
          223465,
          908097,
          133435,
          233236,
          352889,
          179034,
          175152,
          48153,
          93878,
          86787,
          137211,
          129355,
          201760,
          80301,
          38635,
          184123,
          22229,
          40847,
          20762,
          374783,
          24606,
          28410,
          76945
         ],
         "yaxis": "y"
        }
       ],
       "layout": {
        "legend": {
         "itemsizing": "constant",
         "title": {
          "text": "Year"
         },
         "tracegroupgap": 0
        },
        "margin": {
         "t": 60
        },
        "shapes": [
         {
          "line": {
           "dash": "dash"
          },
          "type": "line",
          "x0": 0,
          "x1": 1,
          "xref": "x domain",
          "y0": 256953,
          "y1": 256953,
          "yref": "y"
         }
        ],
        "template": {
         "data": {
          "bar": [
           {
            "error_x": {
             "color": "#2a3f5f"
            },
            "error_y": {
             "color": "#2a3f5f"
            },
            "marker": {
             "line": {
              "color": "#E5ECF6",
              "width": 0.5
             }
            },
            "type": "bar"
           }
          ],
          "barpolar": [
           {
            "marker": {
             "line": {
              "color": "#E5ECF6",
              "width": 0.5
             }
            },
            "type": "barpolar"
           }
          ],
          "carpet": [
           {
            "aaxis": {
             "endlinecolor": "#2a3f5f",
             "gridcolor": "white",
             "linecolor": "white",
             "minorgridcolor": "white",
             "startlinecolor": "#2a3f5f"
            },
            "baxis": {
             "endlinecolor": "#2a3f5f",
             "gridcolor": "white",
             "linecolor": "white",
             "minorgridcolor": "white",
             "startlinecolor": "#2a3f5f"
            },
            "type": "carpet"
           }
          ],
          "choropleth": [
           {
            "colorbar": {
             "outlinewidth": 0,
             "ticks": ""
            },
            "type": "choropleth"
           }
          ],
          "contour": [
           {
            "colorbar": {
             "outlinewidth": 0,
             "ticks": ""
            },
            "colorscale": [
             [
              0,
              "#0d0887"
             ],
             [
              0.1111111111111111,
              "#46039f"
             ],
             [
              0.2222222222222222,
              "#7201a8"
             ],
             [
              0.3333333333333333,
              "#9c179e"
             ],
             [
              0.4444444444444444,
              "#bd3786"
             ],
             [
              0.5555555555555556,
              "#d8576b"
             ],
             [
              0.6666666666666666,
              "#ed7953"
             ],
             [
              0.7777777777777778,
              "#fb9f3a"
             ],
             [
              0.8888888888888888,
              "#fdca26"
             ],
             [
              1,
              "#f0f921"
             ]
            ],
            "type": "contour"
           }
          ],
          "contourcarpet": [
           {
            "colorbar": {
             "outlinewidth": 0,
             "ticks": ""
            },
            "type": "contourcarpet"
           }
          ],
          "heatmap": [
           {
            "colorbar": {
             "outlinewidth": 0,
             "ticks": ""
            },
            "colorscale": [
             [
              0,
              "#0d0887"
             ],
             [
              0.1111111111111111,
              "#46039f"
             ],
             [
              0.2222222222222222,
              "#7201a8"
             ],
             [
              0.3333333333333333,
              "#9c179e"
             ],
             [
              0.4444444444444444,
              "#bd3786"
             ],
             [
              0.5555555555555556,
              "#d8576b"
             ],
             [
              0.6666666666666666,
              "#ed7953"
             ],
             [
              0.7777777777777778,
              "#fb9f3a"
             ],
             [
              0.8888888888888888,
              "#fdca26"
             ],
             [
              1,
              "#f0f921"
             ]
            ],
            "type": "heatmap"
           }
          ],
          "heatmapgl": [
           {
            "colorbar": {
             "outlinewidth": 0,
             "ticks": ""
            },
            "colorscale": [
             [
              0,
              "#0d0887"
             ],
             [
              0.1111111111111111,
              "#46039f"
             ],
             [
              0.2222222222222222,
              "#7201a8"
             ],
             [
              0.3333333333333333,
              "#9c179e"
             ],
             [
              0.4444444444444444,
              "#bd3786"
             ],
             [
              0.5555555555555556,
              "#d8576b"
             ],
             [
              0.6666666666666666,
              "#ed7953"
             ],
             [
              0.7777777777777778,
              "#fb9f3a"
             ],
             [
              0.8888888888888888,
              "#fdca26"
             ],
             [
              1,
              "#f0f921"
             ]
            ],
            "type": "heatmapgl"
           }
          ],
          "histogram": [
           {
            "marker": {
             "colorbar": {
              "outlinewidth": 0,
              "ticks": ""
             }
            },
            "type": "histogram"
           }
          ],
          "histogram2d": [
           {
            "colorbar": {
             "outlinewidth": 0,
             "ticks": ""
            },
            "colorscale": [
             [
              0,
              "#0d0887"
             ],
             [
              0.1111111111111111,
              "#46039f"
             ],
             [
              0.2222222222222222,
              "#7201a8"
             ],
             [
              0.3333333333333333,
              "#9c179e"
             ],
             [
              0.4444444444444444,
              "#bd3786"
             ],
             [
              0.5555555555555556,
              "#d8576b"
             ],
             [
              0.6666666666666666,
              "#ed7953"
             ],
             [
              0.7777777777777778,
              "#fb9f3a"
             ],
             [
              0.8888888888888888,
              "#fdca26"
             ],
             [
              1,
              "#f0f921"
             ]
            ],
            "type": "histogram2d"
           }
          ],
          "histogram2dcontour": [
           {
            "colorbar": {
             "outlinewidth": 0,
             "ticks": ""
            },
            "colorscale": [
             [
              0,
              "#0d0887"
             ],
             [
              0.1111111111111111,
              "#46039f"
             ],
             [
              0.2222222222222222,
              "#7201a8"
             ],
             [
              0.3333333333333333,
              "#9c179e"
             ],
             [
              0.4444444444444444,
              "#bd3786"
             ],
             [
              0.5555555555555556,
              "#d8576b"
             ],
             [
              0.6666666666666666,
              "#ed7953"
             ],
             [
              0.7777777777777778,
              "#fb9f3a"
             ],
             [
              0.8888888888888888,
              "#fdca26"
             ],
             [
              1,
              "#f0f921"
             ]
            ],
            "type": "histogram2dcontour"
           }
          ],
          "mesh3d": [
           {
            "colorbar": {
             "outlinewidth": 0,
             "ticks": ""
            },
            "type": "mesh3d"
           }
          ],
          "parcoords": [
           {
            "line": {
             "colorbar": {
              "outlinewidth": 0,
              "ticks": ""
             }
            },
            "type": "parcoords"
           }
          ],
          "pie": [
           {
            "automargin": true,
            "type": "pie"
           }
          ],
          "scatter": [
           {
            "marker": {
             "colorbar": {
              "outlinewidth": 0,
              "ticks": ""
             }
            },
            "type": "scatter"
           }
          ],
          "scatter3d": [
           {
            "line": {
             "colorbar": {
              "outlinewidth": 0,
              "ticks": ""
             }
            },
            "marker": {
             "colorbar": {
              "outlinewidth": 0,
              "ticks": ""
             }
            },
            "type": "scatter3d"
           }
          ],
          "scattercarpet": [
           {
            "marker": {
             "colorbar": {
              "outlinewidth": 0,
              "ticks": ""
             }
            },
            "type": "scattercarpet"
           }
          ],
          "scattergeo": [
           {
            "marker": {
             "colorbar": {
              "outlinewidth": 0,
              "ticks": ""
             }
            },
            "type": "scattergeo"
           }
          ],
          "scattergl": [
           {
            "marker": {
             "colorbar": {
              "outlinewidth": 0,
              "ticks": ""
             }
            },
            "type": "scattergl"
           }
          ],
          "scattermapbox": [
           {
            "marker": {
             "colorbar": {
              "outlinewidth": 0,
              "ticks": ""
             }
            },
            "type": "scattermapbox"
           }
          ],
          "scatterpolar": [
           {
            "marker": {
             "colorbar": {
              "outlinewidth": 0,
              "ticks": ""
             }
            },
            "type": "scatterpolar"
           }
          ],
          "scatterpolargl": [
           {
            "marker": {
             "colorbar": {
              "outlinewidth": 0,
              "ticks": ""
             }
            },
            "type": "scatterpolargl"
           }
          ],
          "scatterternary": [
           {
            "marker": {
             "colorbar": {
              "outlinewidth": 0,
              "ticks": ""
             }
            },
            "type": "scatterternary"
           }
          ],
          "surface": [
           {
            "colorbar": {
             "outlinewidth": 0,
             "ticks": ""
            },
            "colorscale": [
             [
              0,
              "#0d0887"
             ],
             [
              0.1111111111111111,
              "#46039f"
             ],
             [
              0.2222222222222222,
              "#7201a8"
             ],
             [
              0.3333333333333333,
              "#9c179e"
             ],
             [
              0.4444444444444444,
              "#bd3786"
             ],
             [
              0.5555555555555556,
              "#d8576b"
             ],
             [
              0.6666666666666666,
              "#ed7953"
             ],
             [
              0.7777777777777778,
              "#fb9f3a"
             ],
             [
              0.8888888888888888,
              "#fdca26"
             ],
             [
              1,
              "#f0f921"
             ]
            ],
            "type": "surface"
           }
          ],
          "table": [
           {
            "cells": {
             "fill": {
              "color": "#EBF0F8"
             },
             "line": {
              "color": "white"
             }
            },
            "header": {
             "fill": {
              "color": "#C8D4E3"
             },
             "line": {
              "color": "white"
             }
            },
            "type": "table"
           }
          ]
         },
         "layout": {
          "annotationdefaults": {
           "arrowcolor": "#2a3f5f",
           "arrowhead": 0,
           "arrowwidth": 1
          },
          "autotypenumbers": "strict",
          "coloraxis": {
           "colorbar": {
            "outlinewidth": 0,
            "ticks": ""
           }
          },
          "colorscale": {
           "diverging": [
            [
             0,
             "#8e0152"
            ],
            [
             0.1,
             "#c51b7d"
            ],
            [
             0.2,
             "#de77ae"
            ],
            [
             0.3,
             "#f1b6da"
            ],
            [
             0.4,
             "#fde0ef"
            ],
            [
             0.5,
             "#f7f7f7"
            ],
            [
             0.6,
             "#e6f5d0"
            ],
            [
             0.7,
             "#b8e186"
            ],
            [
             0.8,
             "#7fbc41"
            ],
            [
             0.9,
             "#4d9221"
            ],
            [
             1,
             "#276419"
            ]
           ],
           "sequential": [
            [
             0,
             "#0d0887"
            ],
            [
             0.1111111111111111,
             "#46039f"
            ],
            [
             0.2222222222222222,
             "#7201a8"
            ],
            [
             0.3333333333333333,
             "#9c179e"
            ],
            [
             0.4444444444444444,
             "#bd3786"
            ],
            [
             0.5555555555555556,
             "#d8576b"
            ],
            [
             0.6666666666666666,
             "#ed7953"
            ],
            [
             0.7777777777777778,
             "#fb9f3a"
            ],
            [
             0.8888888888888888,
             "#fdca26"
            ],
            [
             1,
             "#f0f921"
            ]
           ],
           "sequentialminus": [
            [
             0,
             "#0d0887"
            ],
            [
             0.1111111111111111,
             "#46039f"
            ],
            [
             0.2222222222222222,
             "#7201a8"
            ],
            [
             0.3333333333333333,
             "#9c179e"
            ],
            [
             0.4444444444444444,
             "#bd3786"
            ],
            [
             0.5555555555555556,
             "#d8576b"
            ],
            [
             0.6666666666666666,
             "#ed7953"
            ],
            [
             0.7777777777777778,
             "#fb9f3a"
            ],
            [
             0.8888888888888888,
             "#fdca26"
            ],
            [
             1,
             "#f0f921"
            ]
           ]
          },
          "colorway": [
           "#636efa",
           "#EF553B",
           "#00cc96",
           "#ab63fa",
           "#FFA15A",
           "#19d3f3",
           "#FF6692",
           "#B6E880",
           "#FF97FF",
           "#FECB52"
          ],
          "font": {
           "color": "#2a3f5f"
          },
          "geo": {
           "bgcolor": "white",
           "lakecolor": "white",
           "landcolor": "#E5ECF6",
           "showlakes": true,
           "showland": true,
           "subunitcolor": "white"
          },
          "hoverlabel": {
           "align": "left"
          },
          "hovermode": "closest",
          "mapbox": {
           "style": "light"
          },
          "paper_bgcolor": "white",
          "plot_bgcolor": "#E5ECF6",
          "polar": {
           "angularaxis": {
            "gridcolor": "white",
            "linecolor": "white",
            "ticks": ""
           },
           "bgcolor": "#E5ECF6",
           "radialaxis": {
            "gridcolor": "white",
            "linecolor": "white",
            "ticks": ""
           }
          },
          "scene": {
           "xaxis": {
            "backgroundcolor": "#E5ECF6",
            "gridcolor": "white",
            "gridwidth": 2,
            "linecolor": "white",
            "showbackground": true,
            "ticks": "",
            "zerolinecolor": "white"
           },
           "yaxis": {
            "backgroundcolor": "#E5ECF6",
            "gridcolor": "white",
            "gridwidth": 2,
            "linecolor": "white",
            "showbackground": true,
            "ticks": "",
            "zerolinecolor": "white"
           },
           "zaxis": {
            "backgroundcolor": "#E5ECF6",
            "gridcolor": "white",
            "gridwidth": 2,
            "linecolor": "white",
            "showbackground": true,
            "ticks": "",
            "zerolinecolor": "white"
           }
          },
          "shapedefaults": {
           "line": {
            "color": "#2a3f5f"
           }
          },
          "ternary": {
           "aaxis": {
            "gridcolor": "white",
            "linecolor": "white",
            "ticks": ""
           },
           "baxis": {
            "gridcolor": "white",
            "linecolor": "white",
            "ticks": ""
           },
           "bgcolor": "#E5ECF6",
           "caxis": {
            "gridcolor": "white",
            "linecolor": "white",
            "ticks": ""
           }
          },
          "title": {
           "x": 0.05
          },
          "xaxis": {
           "automargin": true,
           "gridcolor": "white",
           "linecolor": "white",
           "ticks": "",
           "title": {
            "standoff": 15
           },
           "zerolinecolor": "white",
           "zerolinewidth": 2
          },
          "yaxis": {
           "automargin": true,
           "gridcolor": "white",
           "linecolor": "white",
           "ticks": "",
           "title": {
            "standoff": 15
           },
           "zerolinecolor": "white",
           "zerolinewidth": 2
          }
         }
        },
        "xaxis": {
         "anchor": "y",
         "domain": [
          0,
          1
         ],
         "title": {
          "text": "Video Length (mins)"
         }
        },
        "yaxis": {
         "anchor": "x",
         "domain": [
          0,
          1
         ],
         "title": {
          "text": "Total Views"
         }
        }
       }
      },
      "text/html": [
       "<div>                            <div id=\"ee63ac96-3005-40b2-b44f-bf9dd0c479b8\" class=\"plotly-graph-div\" style=\"height:525px; width:100%;\"></div>            <script type=\"text/javascript\">                require([\"plotly\"], function(Plotly) {                    window.PLOTLYENV=window.PLOTLYENV || {};                                    if (document.getElementById(\"ee63ac96-3005-40b2-b44f-bf9dd0c479b8\")) {                    Plotly.newPlot(                        \"ee63ac96-3005-40b2-b44f-bf9dd0c479b8\",                        [{\"customdata\": [[\"BEST OF THE WEEK 11 | SAMAY RAINA\"], [\"Coming Back to Life - Reaching 1500 ft. Sagar Exposed Shah\"]], \"hovertemplate\": \"Year=2021<br>Video Length (mins)=%{x}<br>Total Views=%{y}<br>Dislike Percentage=%{marker.size}<br>Video Title=%{customdata[0]}<extra></extra>\", \"legendgroup\": \"2021\", \"marker\": {\"color\": \"#636efa\", \"opacity\": 0.6, \"size\": [1.4643628509719222, 1.797970754998508], \"sizemode\": \"area\", \"sizeref\": 0.028480764710491262, \"symbol\": \"circle\"}, \"mode\": \"markers\", \"name\": \"2021\", \"orientation\": \"v\", \"showlegend\": true, \"type\": \"scatter\", \"x\": [8.633333333333333, 87.76666666666667], \"xaxis\": \"x\", \"y\": [206794, 183488], \"yaxis\": \"y\"}, {\"customdata\": [[\"SAGAR SHAH EXPOSED - VLOG #3\"], [\"ACCIDENTALLY GAVE 10,000 RS. SUPERCHAT TO @GamerFleet | BUDWEISER CONQUER 2020\"], [\"ROAST BATTLE ft. Vidit Gujrathi | Sagar Shah | Samay Raina | Vaibhav Sethia\"], [\"Good evening chess ft. Vidit Gujrathi\"], [\"SAMAY RAINA IN DELHI ft. @Suhani Shah @SOUL Sangwan @Nishant Tanwar\"], [\"THE WEIGHTLOSS VLOG | SAMAY RAINA\"], [\"ADOPTING VAIBHAV SETHIA\"], [\"GM ABISH MATHEW - THE NAME IS ENOUGH\"], [\"Stream ends when I make one mistake in Puzzle Rush | LONG STREAM | ADDRESS REVEAL CHALLENGE*\"], [\"BEST OF THE WEEK 10 | SAMAY RAINA\"], [\"YOUTUBE vs TWITCH ft. Alexandra Botez\"], [\"THIS IS GM ABISH MATHEW'S IMMORTAL | BEST OF COB3\"], [\"ACHARA KIRK COMPLETELY SPOILED ft. @jaby koay  @GamerFleet  [18+]\"], [\"THIS IS KUSHA KAPILA's IMMORTAL | BEST OF COB3\"], [\"COMEDIANS ON BOARD | NO MERCY | GRAND FINALE\"], [\"COMEDIANS ON BOARD | NO MERCY | DAY 2 QUARTER FINALS\"], [\"COMEDIANS ON BOARD 3 | NO MERCY | DAY 1\"], [\"Comedians On Board 3 - Teaser #2\"], [\"SASTEY IMPRACTICAL JOKERS EP 02 FT. @Karan Singh Boomer @GamerFleet\"], [\"COB 3 OFFICIAL TRAILER #1\"], [\"CHESS FUNDAMENTALS ft. ARAVIND SA\"], [\"WE PRANK CALLED YOUTUBERS!\"], [\"MEMBERS vs SUBS BATTLE against ALEXANDRA BOTEZ\"], [\"IF SAMAY RAINA WAS MARIO | VIDEO BY @BeastStats\"], [\"SASTEY IMPRACTICAL JOKERS ft. @GamerFleet @RIDER OP\"], [\"WWE, PRANK CALL AND MUCH MORE FT. SHAMERFLEET, JABY KOAY AND DANK RISHU\"], [\"MEMBERS vs SUBS BATTLE FT. ANNA RUDOLF\"], [\"HUMAN FALL FLAT FT. CHOWKDI - KSB + RIDEROP\"], [\"I LOST THE CHALLENGE SO I WILL LOSE 6.5 KILOS IN 30 DAYS\"], [\"BEST OF THE WEEK 9 | SAMAY RAINA\"], [\"BM ADOPTED BY GM\"], [\"IF I DON'T REACH 1500 BEFORE 10 PM THEN I REVEAL MY GIRL FRIEND\"], [\"A brief history of time.....500K Special \\ud83d\\udc96\\ud83d\\udc96\\ud83d\\udc96\"], [\"Training Kenny cuz he loves Chess now ft. Kusha #COB3\"], [\"Human Fall Flat ft. Chowkdi\"], [\"Reaching 1400 before reaching 500K\"], [\"Grand Finale |  Red bull Rubik's Cube ft. KSM and Soham\"], [\"Curb you dare - Miniclip #17\"], [\"Kenny Sebastian vs Sapan Verma | Samay Raina\"], [\"Learn how to Cube EP 04 - Finishing the Cube | Red bull Rubik's cube ft. Tania Sachdev\"], [\"[18+] Finding LAURA on Omegle ft. Mehfil\"], [\"ERIC ROSEN vs LEVY ROZMAN | SAMAY RAINA\"], [\"Learn how to Cube EP 03 - Bottom two layers | Red bull Rubik's cube ft. Tania Sachdev\"], [\"Curb your Actually Improving Chess - Miniclip #17\"], [\"Members only stream with SAGAR SHAH - Watching Queen's Gambit\"], [\"Learn how to Cube EP 02 - Completing the base | Red Bull Rubik's Cube ft. Tania Sachdev\"], [\"ENDGAME | SAGAR SHAH DISS [OFFICIAL VIDEO]\"], [\"Learn how to Cube EP 01 - The Cross | Red Bull Rubik's Cube ft. Tania Sachdev\"], [\"CHAT MADE ME GO TO OMEGLE and OMG!!!!\"], [\"CURB YOUR CONFIDENCE ft. @Tanmay Bhat  - Miniclip #16\"], [\"GOODBYE CHESS ft. Sagar Shah\"], [\"SAMAY RAINA BIRTHDAY SIMUL + COB 3 Lineup Reveal\"], [\"SAMAY RAINA AGAINST THE WORLD | TWERK CHALLENGE\"], [\"MYTHPAT IS THE LUCKIEST MAN ALIVE ft. TRIGGERED INSAAN\"], [\"Curb your guide - Miniclip #15\"], [\"SAMAY RAINA NAHI PIGHLEGA - Miniclip #14\"], [\"SAIMAN SAYS ROASTS DANK RISHU\"], [\"MY UGLY COUSIN\"], [\"STREAM ENDS WHEN I LOSE THRICE IN A ROW | SAMAY RAINA AGAINST THE CHAT\"], [\"MYTHPAT PLAYS THE GREATEST MOVE EVER in Chess - Miniclip #13\"], [\"MYTHPAT vs TRIGGERED INSAAN CHESS\"], [\"BULLYING NOOBS ON CHESS.COM - Miniclip #12\"], [\"HOW TO AVOID A FORK 220 IQ - Miniclip #11\"], [\"NAUGHTY SAGAR SHAH COMPILATION\"], [\"SAIMAN SAYS vs DANK RISHU ft. Vidit, KSM, Gamerfleet\"], [\"CHESS VARIANTS FT. ANNA RUDOLF and TANIA SACHDEV\"], [\"Samay Raina emotional poem ft. @Yahya Bootwala @Suhani Shah @UnErase Poetry\"], [\"CHESS with JABY KOAY & ACHARA ft. Vidit Gujrathi\"], [\"Once a BM always a BM - Miniclip #9\"], [\"BEST OF THE WEEK #8 | SAMAY RAINA\"], [\"WWE ft. SHAMERFLEET, CRYDER, RAKAZONE, KARAN SINGH BOOMER, RAMAN CHOBRA\"], [\"DEFEATING BISWA ft. Sagar Shah Spoilt\"], [\"AMONG US FT. POETS\"], [\"DON'T TRUST CHESS GRANDMASTERS FT. INDIAN CHESS SCENE\"], [\"CURB YOUR BRILLIANCY - Miniclip #8\"], [\"SAMAY RAINA IMvitational day 2 - FINALS\"], [\"MODIJI KA KHAUF FT. SUKHBIR, GURSIMRAN KHAMBA and RIDER OP\"], [\"LONG STREAM ft. Tanmay, KSB, GamerFleet, Janta\"], [\"FALL GUYS INDIA PLAYS - SAMAY RAINA\"], [\"SAMAY RAINA IMvitational TOURNAMENT DAY 1\"], [\"SAMAY RAINA SPOILS SONGS COMPILATION\"], [\"Curb your Badass move - Miniclip #7\"], [\"Good night chess ft. My girlfriend Vidit\"], [\"JUDIT POLGAR vs Comedians on Board\"], [\"BEWAFA SUHANI ft. @Karan Singh Magic @Suhani Shah @GamerFleet\"], [\"Among Us ft. Chess Gang\"], [\"GM MAGNUS CARLSEN vs BM SAMAY RAINA ft. UPMANYU, VIDIT Highlights\"], [\"Curb your clean content ft. Sagar Shah Spoiled  Miniclip #6\"], [\"Goodnight Chess (Fog of war) ft. Anish Giri\"], [\"Gaadi Waala Aaya compilation - Miniclip #5\"], [\"Shortest Game of Magnus Carlsen - Miniclip #4\"], [\"PACIFY 2 ft. CHOWKDI\"], [\"Good night chess ft. Vidit + UNACADEMY REVELATION\"], [\"Divya Deshmukh vs Daniel King  - DICE CHESS\"], [\"Curb your leak - MINICLIP #3\"], [\"Streaming until I reach 1600\"], [\"SAMAY RAINA | INDIA PLAYS @NODWIN Gaming  #IndiaPlays\"], [\"SAMAY RAINA | BEST OF THE WEEK #7\"], [\"Among Us ft. Tanmay, KSB, Fleet and many friends\"], [\"SAMAY RAINA FREESTYLE - MINICLIP #2\"], [\"VLADIMIR KRAMNIK vs Comedians on Board ft. Abhishek Upmanyu, Biswa, Sethia and Samay\"], [\"Sagar Shah Proud Student - Miniclip #1\"], [\"BHOOTNI KI MAA KA BHAROSA - PACIFY HIGHLIGHTS ft. @Karan Singh Magic @Suhani Shah @GamerFleet\"], [\"GM Radjabov vs Sagar Shah, Amruta and Samay Raina\"], [\"Among Us ft. CARRYMINATI, TANMAY BHAT, KSB, SUHANI SHAH GAMERFLEET, NISHANT TANWAR\"], [\"Among Us with Tanmay Bhat, GamerFleet, Karan Singh Boomer, Suhani Shah, Nishant Tanwar, DaddyCool\"], [\"Reaching 1600 - NO SCAM ft. Sagar Shah\"], [\"VISHY ANAND vs MAGNUS CARLSEN\"], [\"CONVINCING RANDOM STRANGERS TO PLAY CHESS ON OMEGLE PART 4\"], [\"Chess with Subscribers (JOIN DISCORD) ft. My Friend Vidit\"], [\"Dice Chess - MAGNUS CARLSEN vs VIDIT GUJRATHI\"], [\"WE WON PACIFY ft. Karan Singh Boomer, GamerFleet, Suhani my cutie\"], [\"Blitzing ft. Sagar Shah\"], [\"Dice Chess - Alexandra Botez vs Tania Sachdev\"], [\"MAGNUS KALICHARAN was on my channel \\u2764\\ufe0f\\u2764\\ufe0f\\u2764\\ufe0f\\u2764\\ufe0f\"], [\"Bakchod Chess ft. Sukhbir, Khamba, Nishant, Karan Singh Boomer\"], [\"To Sagar Shah, with love - Happy Teachers' Day\"], [\"SAMAY RAINA | BEST OF THE WEEK #6\"], [\"CHESS ft. WORLD CHAMPION MAGNUS CARLSEN\"], [\"Fall guys ft. Karan Singh Boomer, Tania Sachdev, Vidit Gujrathi\"], [\"THE GENIUS OF SAMAY RAINA - EINSTEIN DISS\"], [\"FINALE!! INDIA vs RUSSIA CHESS OLYMPIAD LIVE STREAM\"], [\"CHESS OLYMPIAD QUARTER FINALS - INDIA vs ARMENIA\"], [\"BAWASIR ft. Alexandra Botez, Tania and Karan Singh Boomer\"], [\"FALL GUYS unSTRIP challenge ft. Gamer Fleet, Suhani Shah and Karan Singh Boomer\"], [\"Good night chess\"], [\"Just Chillin' with Sagar Shah and Amruta Mokal\"], [\"Members' tournament #2 - Hunt for the strongest member\"], [\"I am a GENIUS - I.Q Test\"], [\"SAY THE TRUTH Fall Guys ft. Karan Singh Boomer, SUHANI, FLEET\"], [\"SAMAY RAINA | BEST OF WEEK #5 ft. @Tanmay Bhat\"], [\"Fall guys ft. Alexandra Botez, Tania Sachdev, Karan Singh Magic CHILLI CHALLENGE\"], [\"Billu Bewafa ft. @Suhani Shah and @GM Cemil Can Chess\"], [\"Goodnight chess - Reaching 1450 ft. Sagar Shah #ARJUNAFORCHESS\"], [\"CHESS OLYMPIAD DAY 1 ft. Sagar Shah, Biswa, Sethia\"], [\"CONVINCING RANDOM STRANGERS TO PLAY CHESS ON OMEGLE PART 3\"], [\"Fall guys ft. Tania Sachdev\"], [\"Best of Week #4 ft. Vidit Gujrathi, Sagar Shah, Tanmay Bot\"], [\"Reaching 1450 ft. Sagar Shah's voice\"], [\"FALL GUYS JEETNA HAI AAJ | FALLS GUYS GIVE AWAY\"], [\"Good afternoon chess ft. Tanmay Bot\"], [\"Burnol Boys play Fall Guys ft. @Flying Beast @Nishant Tanwar\"], [\"I TORE MY SHIRT PLAYING THIS GAME | UNFAIR MARIO\"], [\"Noobs play Fall Guys ft. @Tanmay Bhat @Nishant Tanwar\"], [\"UNTITLED TUESDAY but on Wednesday (Registration link in dikscription)\"], [\"Good afternoon chess - Reaching 1500\"], [\"PLAYING THE BEST GAME OF ALL TIME\"], [\"HUSBAND vs WIFE ft. Sagar Shah and Amruta (Dice Chess)\"], [\"WILL DELETE MY YOUTUBE CHANNEL IF I DON'T REACH 1600 RATING ON CHESS.COM\"], [\"DICE CHESS - Anish Giri vs Teimour Radjabov\"], [\"BEST OF THE WEEK #3 ft. @Tanmay Bhat  , Biswa\"], [\"WILL CHANGE NAME ON CHESS.COM TO WHATEVER YOU SAY IF I DON'T REACH 1300\"], [\"Botez sisters play SCRIBBL ft. Agadmator, Vidit, Sagar\"], [\"DEFEATING @CarryMinati, @Tanmay Bhat  ft. @BB Ki Vines  HIGHLIGHTS\"], [\"CHESS ft. CARRY, BHUVAN and TANMAY BOT\"], [\"Happy friendship day ft. Pentala Harikrishna\"], [\"BEST OF THE WEEK COMPILATION #2\"], [\"RAHUL DUA vs JASPREET SINGH\"], [\"CONVINCING RANDOM STRANGERS TO PLAY CHESS ON OMEGLE PART 2\"], [\"REACHING 1300 AT ANY COST\"], [\"Skribble ft. Botez sisters, AGADMATOR, Sagar Shah, Vidit G\"], [\"I LEAKED SUKHBIR's NUMBER \\ud83e\\udd26\\ud83e\\udd26\\ud83e\\udd26\"], [\"BEST OF WEEK COMPILATION #1\"], [\"CONVINCING RANDOM STRANGERS TO PLAY CHESS ON OMEGLE Part 1\"], [\"Members tournament - Hunt for the strongest member and also reaching 1300\"], [\"@BB Ki Vines  FUNNY CHESS HIGHLIGHTS ft. @Tanmay Bhat @Aakash Gupta\"], [\"Good night chess - Reaching 1300\"], [\"Bhuvan Bam plays chess ft. Aakash Gupta and Tanmay Bot\"], [\"Women's Speed Chess Championship finals - Rooting for HUMPY\"], [\"Understanding Rap ft. SEEDHE MAUT\"], [\"CRASH COURSE: DISCORD\"], [\"RAFTAAR vs EPR ft. Vidit Gujrathi\"], [\"FLYING BEAST TRIES CHESS ft. Vidit, Sagar, Karan Singh Boomer\"], [\"Good evening chess - Road to 1250\"], [\"GM ROBERT HESS vs COMEDIANS ON BOARD ft. Anish Giri, Vidit Gujrathi\"], [\"PRANK CALLS COMPILATION\"], [\"CHESS or SCRIBBLE ft. Anish, Vidit, Radjabov, Tania, Adhiban\"], [\"BEST OF ANIRBAN ft. Sagar, Biswa, Vaibhav, Everybody\"], [\"Khelna toh chess tha (Prank Calls)\"], [\"CURB YOUR ARROGANCE 2 FT. JOEL, BISWA, TANMAY, VIDIT\"], [\"HAND and BRAIN ft. BASSI and DEVESH DIXIT\"], [\"AWARD CEREMONY ft. Vishy Anand, Alexandra Botez, AGADMATOR, Tania\"], [\"COMEDIANS on BOARD 2 - GRAND FINALE LIVE STREAM\"], [\"COMEDIANS on BOARD DAY 2 - SEARCH FOR TOP 4\"], [\"COMEDIANS on BOARD 2 - DAY 1 (Part 2 of 2)\"], [\"COMEDIANS on BOARD 2 -  DAY 1 (Part 1 of 2)\"], [\"CURB YOUR ARROGANCE ft. Joel and Biswa\"], [\"Practicing for tomorrow's big day ft. Biswa, Rahul Sub, Anirban, Sagar Shah\"], [\"Chess ft. Mudit Dani and Sathiyan Gnanasekaran ft. Vidit and @Vivek Desai Illusionist\"], [\"WATCH TILL END!!! @Vidit Gujrathi @SOUL Sangwan @MambaSR @GamerFleet\"], [\"Understanding Rap ft. E.P.R and RAFTAAR\"], [\"RAIDNIGHT ft. @CarryisLive @MambaSR @GamerFleet\"], [\"CHILL SESSION FT. BALI, SANGWAN, RAAJ JONES\"], [\"MEMBERSHIP ALERT\"], [\"RAHUL SUBRAMANIAN vs KUMAR VARUN ft. BELLATRIX\"], [\"AAKASH GUPTA vs GAURAV KAPOOR\"], [\"Raidnight chess ft. Vidit Gujrathi\"], [\"QUALITY CONTENT ft. @Tanmay Bhat @Karan Singh Magic\"], [\"TANIA SACHDEV IS A SINGER\"], [\"Good night chess\"], [\"WWE ft. Tanmay Bot\"], [\"Chess Doubles ft. Soundarya Pradhan and Aryan Joshi\"], [\"Understanding Rap ft. Kr$na, RAFTAAR, Rohan Cariappa\"], [\"Magicians on Board ft. Karan Singh Magic, Tania Sachdev and Suhani Shah\"], [\"TEACHER vs STUDENTS ft. IM SAGAR SHAH\"], [\"UNBOXING NEW LAPTOP IN FRONT OF OLD LAPTOP\"], [\"4 Player Chess ft. Tanmay Bot, Kaneez, Sethia and Hackerman\"], [\"Subscribers Chess Tournament (Open to all ratings) for West Bengal\"], [\"Sagar Shah Spoiled ft. @Chess Talk @ChessBase India\"], [\"Subscribers Chess Tournament (0-1800) for West Bengal\"], [\"Subscribers Chess tournament (0-1400) for West Bengal\"], [\"Clear all your doubts about the tournament\"], [\"GM PENTALA HARIKRISHNA and RAJ TARUN vs Comedians on Board\"], [\"BISWAASGHAAT Compilation ft. @Vidit Gujrathi\"], [\"WE TRIED TO DEFEAT ANISH GIRI\"], [\"GHODA IS A RESPECTABLE ANIMAL COMPILATION ft. @Biswa Kalyan Rath\"], [\"4 Player Chess ft. Nihal Sarin, Vidit Gujrathi, Vaibhav Sethia and Anirban Dasgupta\"], [\"GM Harika Dronavalli and Kaneez Surkha vs GM S.P Sethuraman and Rahul Subramanian\"], [\"Chess with Subscribers (Join Discord)\"], [\"TAG TEAM MATCH - Chessbase India vs Chess Talk ft. Tanmay Bot\"], [\"Comedians on Board vs GM S.P SETHURAMAN\"], [\"Pokemon Ruby - The Beginning\"], [\"4 PLAYER CHESS ft. Alexandra Botez, Agadmator, Anish Giri and Vidit Gujrathi\"], [\"DEFEATING VIDIT GUJRATHI\"], [\"Blind Chess Players vs Comedians on Board\"], [\"PUBG ft.YUZVENDRA CHAHAL, RAFTAAR, TANMAY BOT\"], [\"Pokemon Fire Red - The Ending\"], [\"Completing Pokemon Fire Red maybe\"], [\"TRAINING KUSHA KAPILA ft. Sagar Shah\"], [\"Pokemon Fire Red because why not\"], [\"Non Violent Chess ft. Gang\"], [\"PUBG ft. KR$NA - FUNNY HIGHLIGHTS\"], [\"Pokemon Fire Red continues\"], [\"Alexandra Botez vs Vidit Gujrathi (Blindfold)\"], [\"Pokemon Fire Red (NSFW)\"], [\"Pokemon Fire Red (Fail)\"], [\"Botez and Kusha vs Kaneez and Biswa HIGHLIGHTS\"], [\"Good evening chess ft. Vidit and Gang\"], [\"Blindfold chess - Biswa vs Sethia\"], [\"[Re-Upload] CHESS FOR CHARITY 2.0 ft. RAFTAAR, ANISH GIRI, CarryMinati and many lovely people\"], [\"Blindfold Chess ft. My friend Vidit Gujrathi\"], [\"4 Player chess ft. Vidit\"], [\"4 player chess ft. Biswa, Sethia and Anirban\"], [\"ADHIBAN FUNNY  HIGHLIGHTS\"], [\"Online chess championship finals and 4 player chess ft. Biswa, Tanmay, Sagar and Sethia and\"], [\"LIVE STREAMING World Online Chess Cup India vs China, India vs Russia ft. Tania\"], [\"LIVE STREAMING World Online Chess Cup India vs ROW, India vs Europe\"], [\"LIVE STREAMING World Online Chess Cup India vs Russia, India vs USA\"], [\"WHEN LEGENDS MEET - Abish Mathew vs Yahya Bootwala highlights ft. Biswa hacker\"], [\"World Online Chess Cup India vs China ft. Adibhan\"], [\"LIVE STREAMING World Online Chess Cup INDIA vs USA\"], [\"BISWA HACKER COMPILATION\"], [\"VIDIT GUJRATHI vs NIHAL SARIN ft. Tanmay Bot\"], [\"Chess Puzzles ft. Sagar Shah, Biswa, Sapan and Gang\"], [\"Understanding chess #3 ft. Nihal Sarin\"], [\"VISWANATHAN ANAND vs GM ABISH MATHEW (Match of the century) Highlights\"], [\"Chess ft. GM Adhiban, the beast @Biswa Kalyan Rath @VAIBHAV SETHIA\"], [\"Understanding chess #2 with Vidit Gujrathi, Sethia and Biswa Hacker\"], [\"CHESS FOR CHARITY ft. VISWANATHAN ANAND, YUZVENDRA CHAHAL\"], [\"Chess ft. Varun Thakur\"], [\"Fun with AGADMATOR ft. @Biswa Kalyan Rath @Abhishek Upmanyu @agadmator's Chess Channel\"], [\"PUBG FT. RAFTAAR, KR$NA, TANMAY BHAT and YUNAN HIGHLIGHTS\"], [\"Defeating Aakash Mehta ft. Nihal Sarin and @Biswa Kalyan Rath Hacker\"], [\"Aakash Mehta vs Abhishek Upmanyu  (Title match)\"], [\"YUZVENDRA CHAHAL vs Comedians on Board ft. @Abhishek Upmanyu @Biswa Kalyan Rath @Karunesh Talwar\"], [\"Understanding chess ft. Vidit Gujrathi @Biswa Kalyan Rath @Kunal Rao\"], [\"PUBG ft. Raftaar, Kr$na and Tanmay Bhat  FULL STREAM\"], [\"VIDIT GUJRATHI VS COMEDIANS ON BOARD ft. @Abhishek Upmanyu @Biswa Kalyan Rath @VAIBHAV SETHIA\"], [\"PUBG ft. KR$NA\"], [\"Agadmator vs Indian Comedians ft. @Abhishek Upmanyu @Biswa Kalyan Rath @agadmator's Chess Channel\"], [\"PUBG Road to Bronze\"], [\"FINALE - Chess tournament\"], [\"SEMI FINALS\"], [\"Tournament Quarter finals\"], [\"Chess tournament match 11 Varun Grover vs Anubhav Singh Bassi\"], [\"Chess tournament matches 6,7,8,9 and 10\"], [\"Chess tournament matches 2,3,4 and 5\"], [\"Chess tournament match 1 Rahul Dua vs Sumit Sourav\"], [\"Kidnapped in PUBG custom room\"], [\"Chess practice before tournament with Vaibhav Sethia\"], [\"Aresole Just Went to War\"], [\"PUBG with Ojas and Balraj\"], [\"Coming soon\"], [\"Later night chess with friends - Sumit Sourav\"], [\"PUBG with Ojas\"], [\"Later night chess with friends - Balraj Ghai\"]], \"hovertemplate\": \"Year=2020<br>Video Length (mins)=%{x}<br>Total Views=%{y}<br>Dislike Percentage=%{marker.size}<br>Video Title=%{customdata[0]}<extra></extra>\", \"legendgroup\": \"2020\", \"marker\": {\"color\": \"#EF553B\", \"opacity\": 0.6, \"size\": [0.7298713188545852, 1.2809627524087268, 1.0143702451394758, 1.034263592765933, 1.438457175269427, 1.0369742258024626, 0.9764785358963336, 0.5452026634490772, 0.7666342468104582, 1.1201803217103241, 0.640392410668665, 0.6925624811803673, 0.5973086781398755, 0.704814765869345, 0.8852117565378385, 0.8213581898473798, 0.7724477244772447, 0.6987733762316509, 0.6498545101842871, 1.1154706702551964, 1.200653155316492, 0.7768656370298224, 1.0043133972832035, 1.2295081967213115, 0.7798926682367476, 1.560794145000202, 1.1487904562023639, 1.517478095926294, 1.3121013933460617, 1.1617346552637553, 1.0003449465332874, 1.3353056410666453, 0.5639200656994251, 1.2313544899389328, 1.1306198457036445, 1.154841093865484, 0.8423503629639776, 0.5718625742751196, 1.4351496546431313, 1.7137096774193548, 0.9320947770916524, 0.9215017064846417, 1.5482855143456964, 1.0064920918478497, 2.4691358024691357, 2.630688546777195, 3.137615885331054, 1.696400948747035, 0.6424288569525078, 0.7917279570822878, 2.1387441732931176, 0.5980269818472912, 0.7290857615313306, 0.9290913101014556, 0.5749697973063672, 0.43876348472486626, 0.9325758387822918, 0.6556228416996146, 1.4546766049531137, 0.5044136191677175, 1.7897538256819694, 0.5749777080835101, 0.3945901984999548, 0.6967753883191741, 1.601612218922359, 1.0383215585527725, 0.41399960280480913, 1.126152754788366, 0.3513524954493502, 0.7595181655459339, 1.3232104121475055, 0.8046194623248769, 1.742769692048223, 0.6419796317371386, 0.541967270807672, 1.066824714772559, 1.2196219621962197, 1.4009409304756926, 0.7249503754207302, 0.7825288457699525, 1.3217004776091172, 0.5020156689739104, 1.0920436817472698, 1.081508836718544, 0.501432664756447, 1.1432465172622652, 0.5057200373152649, 0.588132787313758, 0.902001315418585, 0.6383179554947259, 0.46613655058952563, 0.8956125050315309, 1.1244298292139598, 0.6975057195469003, 0.7419107792456443, 1.4176260908755685, 0.8095051573312443, 0.7984271225453761, 1.5308034041642136, 2.704714640198511, 0.7881048704880996, 0.5032067094227923, 0.6138392857142857, 0.901089689857502, 1.9494223271452589, 1.4945607247958206, 1.2895403945773174, 0.6817065181788405, 0.6190544170895358, 1.4234875444839858, 0.7958189808765886, 1.1157503245500158, 1.2809831285148927, 1.1803150758425596, 1.0463050297220822, 1.2914378686190766, 0.22306855277475518, 0.6853166514374077, 0.9272744031707991, 1.5049017834533154, 1.0436504913536986, 0.7163323782234957, 0.7151408228845063, 0.6819668830842015, 1.07559926244622, 1.2909260991580918, 1.9222405845003043, 1.4210832847990682, 2.3386552732178996, 1.2335458233297458, 0.8791416552441272, 1.2463295269168027, 0.6712981031925689, 1.1328654106637113, 0.7692307692307693, 0.774376196952455, 1.8815136042526404, 0.6493297759490823, 1.1153552330022918, 1.6807738814993953, 1.8909160015203346, 1.3929064127097148, 0.6796759783700601, 1.3292924443377543, 1.616052060737527, 2.2171165996553706, 1.8612178838761886, 1.084206722081677, 11.392305884196505, 1.2712328767123289, 1.1405769977753453, 1.972364608870069, 0.6429576049829214, 1.4793654736522526, 1.260521974535764, 1.4561072700607585, 1.21353447865607, 1.2820512820512822, 1.1003419556506597, 1.6298590171950127, 1.3239074550128536, 0.7634467459883034, 0.9345051099534736, 1.0978239560870418, 2.0449552137907725, 0.9790648113325812, 2.0829352188037453, 1.0443687546522906, 1.5937803692905734, 1.6649894794620803, 1.2441790195869327, 0.7226428079834825, 1.0662080825451419, 1.980554555275477, 0.8862629246676514, 0.8096448200460966, 1.4075606112834655, 0.6660107469915992, 1.4749465848783514, 0.823045267489712, 2.244129197723812, 1.2246012246012246, 0.9224498551968251, 1.168931043322225, 0.8740449178050474, 1.0892069493203709, 0.6794611991894147, 1.635702746365105, 2.6503277286976346, 0.6735140596059943, 1.0826580226904376, 1.1082036259004806, 1.381731271939652, 3.041604508536383, 1.6882606988614055, 1.499414291292464, 1.7587113740959894, 0.6364823277067985, 0.6600553802562946, 1.8343815513626835, 2.5327169737613127, 1.606365410599009, 1.4699906781078949, 1.3942589338019917, 2.8359855049629745, 11.391657811735735, 2.5576166385609893, 1.6410082896295044, 0.6113212645231019, 1.6015374759769379, 1.533873029399233, 2.1314387211367674, 1.3661727919953819, 0.6230078238191828, 1.0795124782356356, 0.8836524300441826, 1.719556041894638, 3.9165383957585087, 1.2177650429799427, 1.9738326189939093, 1.1095700416088765, 2.616516762060507, 1.2887046776496813, 0.7825355614875489, 0.8785140562248996, 2.288532712511939, 9.470752089136491, 6.4114182147711825, 2.598457166057653, 4.021739130434782, 1.5621948838117554, 2.9413776592106164, 3.31720801658604, 1.0325528269560251, 2.4805867126833476, 3.2437745740498034, 1.371815428469624, 2.53051503423638, 2.0695728753852927, 1.2213847012841987, 1.4615997874036672, 1.4571595103944046, 2.5275611723581606, 0.7928173894781056, 4.03346280250971, 1.741856819369448, 1.8107580330197053, 2.040551078762672, 1.1766306196014418, 2.566633761105627, 2.9688273132112815, 1.53912949093672, 0.85359157390306, 1.308557969118032, 1.7618469015795868, 0.9872707226621229, 1.3604299630500505, 1.732484076433121, 1.526567193578569, 3.0710980227177114, 1.2204522096608428, 1.6915323586647373, 1.2463935372186958, 1.9455922865013775, 1.8721309662076213, 1.4358294676386127, 2.9605805706745834, 1.9596097894916995, 3.33578386326043, 1.966065176407218, 2.491103202846975, 1.880693505730238, 2.3319615912208507, 2.8035162746495605, 3.1862166627330657, 2.6336173508907823, 1.3964313421256789, 1.61090458488228, 1.8861272695222986, 1.975540921919097, 1.8185028248587571, 1.8376722817764166, 1.9987943779942257, 1.6286644951140066, 1.3943112102621305, 0.9879725085910653], \"sizemode\": \"area\", \"sizeref\": 0.028480764710491262, \"symbol\": \"circle\"}, \"mode\": \"markers\", \"name\": \"2020\", \"orientation\": \"v\", \"showlegend\": true, \"type\": \"scatter\", \"x\": [14.45, 6.416666666666667, 12.216666666666667, 45.81666666666667, 10.233333333333333, 9.266666666666667, 99.03333333333333, 11.216666666666667, 48.6, 7.533333333333333, 11.716666666666667, 10.266666666666667, 8.866666666666667, 10.2, 205.36666666666667, 398.51666666666665, 522.7833333333333, 2.35, 10.183333333333334, 3.466666666666667, 88.85, 8.583333333333334, 128.33333333333334, 5.366666666666666, 10.05, 245.98333333333332, 123.18333333333334, 157.16666666666666, 146.16666666666666, 11.05, 73.03333333333333, 50.983333333333334, 14.733333333333333, 138.76666666666668, 144.45, 76.16666666666667, 57.45, 1.15, 122.48333333333333, 114.68333333333334, 11.25, 100.95, 68.75, 1.4, 14.233333333333333, 64.15, 3.3166666666666664, 64.18333333333334, 9.75, 1.1666666666666667, 128.46666666666667, 137.06666666666666, 10.666666666666666, 10.366666666666667, 1.4333333333333333, 0.4666666666666667, 11.95, 8.783333333333333, 157.58333333333334, 1.6, 119.36666666666666, 1.2333333333333334, 1.2, 11.283333333333333, 124.31666666666666, 110.3, 1.95, 96.1, 0.8166666666666667, 9.083333333333334, 135.93333333333334, 86.66666666666667, 75.33333333333333, 11.95, 1.2833333333333332, 221.51666666666668, 10.083333333333334, 182.63333333333333, 45.96666666666667, 128.75, 8.783333333333333, 1.0, 86.55, 106.65, 11.1, 162.31666666666666, 9.0, 1.0, 72.78333333333333, 1.8, 1.0, 112.81666666666666, 57.43333333333333, 89.83333333333333, 1.5833333333333335, 403.96666666666664, 64.51666666666667, 10.116666666666667, 162.85, 2.45, 93.91666666666667, 1.0, 12.516666666666667, 97.7, 220.36666666666667, 198.56666666666666, 92.58333333333333, 92.31666666666666, 10.416666666666666, 121.28333333333333, 6.866666666666667, 134.23333333333332, 88.96666666666667, 53.2, 10.216666666666667, 88.6, 7.8, 8.933333333333334, 145.33333333333334, 127.58333333333333, 10.333333333333334, 255.21666666666667, 196.28333333333333, 9.816666666666666, 68.35, 56.833333333333336, 77.7, 147.43333333333334, 82.83333333333333, 118.25, 8.116666666666667, 84.85, 6.0, 79.76666666666667, 176.76666666666668, 10.933333333333334, 104.43333333333334, 8.6, 56.5, 123.83333333333333, 63.416666666666664, 83.95, 14.166666666666666, 81.6, 118.26666666666667, 72.93333333333334, 156.33333333333334, 79.26666666666667, 11.766666666666667, 63.516666666666666, 7.9, 97.46666666666667, 7.683333333333334, 9.383333333333333, 119.51666666666667, 45.333333333333336, 7.333333333333333, 96.33333333333333, 8.4, 129.16666666666666, 94.75, 9.55, 9.4, 9.8, 108.25, 9.216666666666667, 94.51666666666667, 111.63333333333334, 108.45, 128.91666666666666, 8.583333333333334, 9.333333333333334, 94.6, 90.91666666666667, 91.41666666666667, 11.95, 134.33333333333334, 12.966666666666667, 105.21666666666667, 9.5, 78.21666666666667, 11.983333333333333, 168.25, 253.41666666666666, 119.51666666666667, 222.41666666666666, 6.116666666666666, 191.15, 75.01666666666667, 9.2, 99.36666666666666, 8.383333333333333, 167.58333333333334, 4.333333333333333, 76.35, 92.66666666666667, 36.43333333333333, 9.033333333333333, 9.0, 98.61666666666666, 88.35, 110.75, 151.1, 99.1, 108.91666666666667, 16.75, 135.0, 262.03333333333336, 7.6, 113.35, 132.88333333333333, 37.35, 114.33333333333333, 6.7, 78.75, 5.8, 72.93333333333334, 84.0, 64.16666666666667, 130.98333333333332, 97.66666666666667, 73.58333333333333, 98.5, 9.483333333333333, 115.48333333333333, 75.28333333333333, 117.91666666666667, 168.38333333333333, 80.1, 126.18333333333334, 84.51666666666667, 10.383333333333333, 171.9, 127.33333333333333, 145.76666666666668, 29.516666666666666, 9.516666666666667, 67.35, 94.41666666666667, 152.36666666666667, 124.26666666666667, 77.43333333333334, 114.41666666666667, 10.716666666666667, 179.11666666666667, 231.86666666666667, 202.03333333333333, 215.78333333333333, 8.783333333333333, 141.63333333333333, 233.63333333333333, 8.133333333333333, 8.416666666666666, 91.4, 96.6, 11.9, 67.83333333333333, 50.666666666666664, 254.56666666666666, 34.583333333333336, 12.766666666666667, 26.566666666666666, 34.3, 28.1, 69.73333333333333, 120.18333333333334, 85.91666666666667, 76.05, 95.85, 48.4, 50.6, 75.26666666666667, 91.3, 139.18333333333334, 25.483333333333334, 155.91666666666666, 110.9, 17.9, 16.933333333333334, 44.46666666666667, 1.6833333333333333, 78.5, 1.6166666666666667, 95.18333333333334, 89.56666666666666, 45.21666666666667], \"xaxis\": \"x\", \"y\": [371705, 211581, 494770, 199049, 409018, 469840, 247437, 200201, 139309, 284116, 288968, 248069, 411854, 238633, 749759, 1165676, 1650208, 185972, 391910, 214016, 152884, 356180, 392937, 212613, 462922, 420908, 357631, 363024, 307166, 217047, 210235, 216244, 390234, 271595, 452045, 181748, 152338, 178250, 285182, 140722, 759027, 159233, 117725, 232446, 301, 156665, 684587, 246462, 376751, 204409, 317081, 484406, 333648, 385945, 352479, 612540, 352647, 181906, 325188, 254650, 609731, 326879, 367809, 572213, 314618, 263867, 664648, 394345, 275219, 228246, 324010, 198377, 260536, 525195, 349686, 350862, 260812, 332951, 158598, 299962, 426771, 323825, 194051, 331155, 316956, 636897, 275101, 260562, 151559, 936082, 210894, 390348, 123883, 194056, 273096, 444366, 236345, 343792, 389169, 257267, 230513, 256639, 488881, 171778, 723419, 598446, 147036, 621997, 818185, 200542, 161599, 361431, 148360, 304114, 407316, 258461, 271300, 261506, 669863, 394723, 496465, 899705, 493740, 533219, 315497, 96666, 181649, 150748, 142743, 355059, 248700, 482901, 332362, 121724, 341229, 814544, 517588, 296366, 119845, 273794, 149199, 390864, 537919, 483499, 149059, 129305, 87930, 179717, 145057, 151543, 361989, 147202, 125334, 2257788, 794298, 154658, 270648, 211414, 943059, 187723, 396773, 368821, 304697, 1544323, 104840, 1061179, 86396, 524372, 117614, 174616, 355703, 303883, 460128, 98964, 169834, 748861, 466434, 186673, 259161, 508604, 303846, 275210, 381395, 339157, 248313, 374639, 352279, 108029, 58940, 365105, 199137, 1257070, 213065, 138325, 157467, 230798, 97567, 420505, 454480, 69753, 276100, 85501, 647915, 428249, 122530, 393811, 173613, 124548, 555937, 76250, 98159, 36708, 118386, 375893, 178683, 458591, 145397, 134240, 55075, 160897, 104523, 57057, 566544, 496086, 115294, 3824342, 78542, 75155, 139151, 84529, 111325, 363756, 87584, 885556, 83308, 52653, 389538, 75663, 92933, 357178, 226839, 115558, 105809, 341880, 97659, 163986, 130828, 147461, 247999, 141165, 192972, 874242, 358189, 105080, 94523, 668731, 144464, 102268, 465852, 56009, 134781, 322912, 239575, 223465, 908097, 133435, 233236, 352889, 179034, 175152, 48153, 93878, 86787, 137211, 129355, 201760, 80301, 38635, 184123, 22229, 40847, 20762, 374783, 24606, 28410, 76945], \"yaxis\": \"y\"}],                        {\"legend\": {\"itemsizing\": \"constant\", \"title\": {\"text\": \"Year\"}, \"tracegroupgap\": 0}, \"margin\": {\"t\": 60}, \"shapes\": [{\"line\": {\"dash\": \"dash\"}, \"type\": \"line\", \"x0\": 0, \"x1\": 1, \"xref\": \"x domain\", \"y0\": 256953.0, \"y1\": 256953.0, \"yref\": \"y\"}], \"template\": {\"data\": {\"bar\": [{\"error_x\": {\"color\": \"#2a3f5f\"}, \"error_y\": {\"color\": \"#2a3f5f\"}, \"marker\": {\"line\": {\"color\": \"#E5ECF6\", \"width\": 0.5}}, \"type\": \"bar\"}], \"barpolar\": [{\"marker\": {\"line\": {\"color\": \"#E5ECF6\", \"width\": 0.5}}, \"type\": \"barpolar\"}], \"carpet\": [{\"aaxis\": {\"endlinecolor\": \"#2a3f5f\", \"gridcolor\": \"white\", \"linecolor\": \"white\", \"minorgridcolor\": \"white\", \"startlinecolor\": \"#2a3f5f\"}, \"baxis\": {\"endlinecolor\": \"#2a3f5f\", \"gridcolor\": \"white\", \"linecolor\": \"white\", \"minorgridcolor\": \"white\", \"startlinecolor\": \"#2a3f5f\"}, \"type\": \"carpet\"}], \"choropleth\": [{\"colorbar\": {\"outlinewidth\": 0, \"ticks\": \"\"}, \"type\": \"choropleth\"}], \"contour\": [{\"colorbar\": {\"outlinewidth\": 0, \"ticks\": \"\"}, \"colorscale\": [[0.0, \"#0d0887\"], [0.1111111111111111, \"#46039f\"], [0.2222222222222222, \"#7201a8\"], [0.3333333333333333, \"#9c179e\"], [0.4444444444444444, \"#bd3786\"], [0.5555555555555556, \"#d8576b\"], [0.6666666666666666, \"#ed7953\"], [0.7777777777777778, \"#fb9f3a\"], [0.8888888888888888, \"#fdca26\"], [1.0, \"#f0f921\"]], \"type\": \"contour\"}], \"contourcarpet\": [{\"colorbar\": {\"outlinewidth\": 0, \"ticks\": \"\"}, \"type\": \"contourcarpet\"}], \"heatmap\": [{\"colorbar\": {\"outlinewidth\": 0, \"ticks\": \"\"}, \"colorscale\": [[0.0, \"#0d0887\"], [0.1111111111111111, \"#46039f\"], [0.2222222222222222, \"#7201a8\"], [0.3333333333333333, \"#9c179e\"], [0.4444444444444444, \"#bd3786\"], [0.5555555555555556, \"#d8576b\"], [0.6666666666666666, \"#ed7953\"], [0.7777777777777778, \"#fb9f3a\"], [0.8888888888888888, \"#fdca26\"], [1.0, \"#f0f921\"]], \"type\": \"heatmap\"}], \"heatmapgl\": [{\"colorbar\": {\"outlinewidth\": 0, \"ticks\": \"\"}, \"colorscale\": [[0.0, \"#0d0887\"], [0.1111111111111111, \"#46039f\"], [0.2222222222222222, \"#7201a8\"], [0.3333333333333333, \"#9c179e\"], [0.4444444444444444, \"#bd3786\"], [0.5555555555555556, \"#d8576b\"], [0.6666666666666666, \"#ed7953\"], [0.7777777777777778, \"#fb9f3a\"], [0.8888888888888888, \"#fdca26\"], [1.0, \"#f0f921\"]], \"type\": \"heatmapgl\"}], \"histogram\": [{\"marker\": {\"colorbar\": {\"outlinewidth\": 0, \"ticks\": \"\"}}, \"type\": \"histogram\"}], \"histogram2d\": [{\"colorbar\": {\"outlinewidth\": 0, \"ticks\": \"\"}, \"colorscale\": [[0.0, \"#0d0887\"], [0.1111111111111111, \"#46039f\"], [0.2222222222222222, \"#7201a8\"], [0.3333333333333333, \"#9c179e\"], [0.4444444444444444, \"#bd3786\"], [0.5555555555555556, \"#d8576b\"], [0.6666666666666666, \"#ed7953\"], [0.7777777777777778, \"#fb9f3a\"], [0.8888888888888888, \"#fdca26\"], [1.0, \"#f0f921\"]], \"type\": \"histogram2d\"}], \"histogram2dcontour\": [{\"colorbar\": {\"outlinewidth\": 0, \"ticks\": \"\"}, \"colorscale\": [[0.0, \"#0d0887\"], [0.1111111111111111, \"#46039f\"], [0.2222222222222222, \"#7201a8\"], [0.3333333333333333, \"#9c179e\"], [0.4444444444444444, \"#bd3786\"], [0.5555555555555556, \"#d8576b\"], [0.6666666666666666, \"#ed7953\"], [0.7777777777777778, \"#fb9f3a\"], [0.8888888888888888, \"#fdca26\"], [1.0, \"#f0f921\"]], \"type\": \"histogram2dcontour\"}], \"mesh3d\": [{\"colorbar\": {\"outlinewidth\": 0, \"ticks\": \"\"}, \"type\": \"mesh3d\"}], \"parcoords\": [{\"line\": {\"colorbar\": {\"outlinewidth\": 0, \"ticks\": \"\"}}, \"type\": \"parcoords\"}], \"pie\": [{\"automargin\": true, \"type\": \"pie\"}], \"scatter\": [{\"marker\": {\"colorbar\": {\"outlinewidth\": 0, \"ticks\": \"\"}}, \"type\": \"scatter\"}], \"scatter3d\": [{\"line\": {\"colorbar\": {\"outlinewidth\": 0, \"ticks\": \"\"}}, \"marker\": {\"colorbar\": {\"outlinewidth\": 0, \"ticks\": \"\"}}, \"type\": \"scatter3d\"}], \"scattercarpet\": [{\"marker\": {\"colorbar\": {\"outlinewidth\": 0, \"ticks\": \"\"}}, \"type\": \"scattercarpet\"}], \"scattergeo\": [{\"marker\": {\"colorbar\": {\"outlinewidth\": 0, \"ticks\": \"\"}}, \"type\": \"scattergeo\"}], \"scattergl\": [{\"marker\": {\"colorbar\": {\"outlinewidth\": 0, \"ticks\": \"\"}}, \"type\": \"scattergl\"}], \"scattermapbox\": [{\"marker\": {\"colorbar\": {\"outlinewidth\": 0, \"ticks\": \"\"}}, \"type\": \"scattermapbox\"}], \"scatterpolar\": [{\"marker\": {\"colorbar\": {\"outlinewidth\": 0, \"ticks\": \"\"}}, \"type\": \"scatterpolar\"}], \"scatterpolargl\": [{\"marker\": {\"colorbar\": {\"outlinewidth\": 0, \"ticks\": \"\"}}, \"type\": \"scatterpolargl\"}], \"scatterternary\": [{\"marker\": {\"colorbar\": {\"outlinewidth\": 0, \"ticks\": \"\"}}, \"type\": \"scatterternary\"}], \"surface\": [{\"colorbar\": {\"outlinewidth\": 0, \"ticks\": \"\"}, \"colorscale\": [[0.0, \"#0d0887\"], [0.1111111111111111, \"#46039f\"], [0.2222222222222222, \"#7201a8\"], [0.3333333333333333, \"#9c179e\"], [0.4444444444444444, \"#bd3786\"], [0.5555555555555556, \"#d8576b\"], [0.6666666666666666, \"#ed7953\"], [0.7777777777777778, \"#fb9f3a\"], [0.8888888888888888, \"#fdca26\"], [1.0, \"#f0f921\"]], \"type\": \"surface\"}], \"table\": [{\"cells\": {\"fill\": {\"color\": \"#EBF0F8\"}, \"line\": {\"color\": \"white\"}}, \"header\": {\"fill\": {\"color\": \"#C8D4E3\"}, \"line\": {\"color\": \"white\"}}, \"type\": \"table\"}]}, \"layout\": {\"annotationdefaults\": {\"arrowcolor\": \"#2a3f5f\", \"arrowhead\": 0, \"arrowwidth\": 1}, \"autotypenumbers\": \"strict\", \"coloraxis\": {\"colorbar\": {\"outlinewidth\": 0, \"ticks\": \"\"}}, \"colorscale\": {\"diverging\": [[0, \"#8e0152\"], [0.1, \"#c51b7d\"], [0.2, \"#de77ae\"], [0.3, \"#f1b6da\"], [0.4, \"#fde0ef\"], [0.5, \"#f7f7f7\"], [0.6, \"#e6f5d0\"], [0.7, \"#b8e186\"], [0.8, \"#7fbc41\"], [0.9, \"#4d9221\"], [1, \"#276419\"]], \"sequential\": [[0.0, \"#0d0887\"], [0.1111111111111111, \"#46039f\"], [0.2222222222222222, \"#7201a8\"], [0.3333333333333333, \"#9c179e\"], [0.4444444444444444, \"#bd3786\"], [0.5555555555555556, \"#d8576b\"], [0.6666666666666666, \"#ed7953\"], [0.7777777777777778, \"#fb9f3a\"], [0.8888888888888888, \"#fdca26\"], [1.0, \"#f0f921\"]], \"sequentialminus\": [[0.0, \"#0d0887\"], [0.1111111111111111, \"#46039f\"], [0.2222222222222222, \"#7201a8\"], [0.3333333333333333, \"#9c179e\"], [0.4444444444444444, \"#bd3786\"], [0.5555555555555556, \"#d8576b\"], [0.6666666666666666, \"#ed7953\"], [0.7777777777777778, \"#fb9f3a\"], [0.8888888888888888, \"#fdca26\"], [1.0, \"#f0f921\"]]}, \"colorway\": [\"#636efa\", \"#EF553B\", \"#00cc96\", \"#ab63fa\", \"#FFA15A\", \"#19d3f3\", \"#FF6692\", \"#B6E880\", \"#FF97FF\", \"#FECB52\"], \"font\": {\"color\": \"#2a3f5f\"}, \"geo\": {\"bgcolor\": \"white\", \"lakecolor\": \"white\", \"landcolor\": \"#E5ECF6\", \"showlakes\": true, \"showland\": true, \"subunitcolor\": \"white\"}, \"hoverlabel\": {\"align\": \"left\"}, \"hovermode\": \"closest\", \"mapbox\": {\"style\": \"light\"}, \"paper_bgcolor\": \"white\", \"plot_bgcolor\": \"#E5ECF6\", \"polar\": {\"angularaxis\": {\"gridcolor\": \"white\", \"linecolor\": \"white\", \"ticks\": \"\"}, \"bgcolor\": \"#E5ECF6\", \"radialaxis\": {\"gridcolor\": \"white\", \"linecolor\": \"white\", \"ticks\": \"\"}}, \"scene\": {\"xaxis\": {\"backgroundcolor\": \"#E5ECF6\", \"gridcolor\": \"white\", \"gridwidth\": 2, \"linecolor\": \"white\", \"showbackground\": true, \"ticks\": \"\", \"zerolinecolor\": \"white\"}, \"yaxis\": {\"backgroundcolor\": \"#E5ECF6\", \"gridcolor\": \"white\", \"gridwidth\": 2, \"linecolor\": \"white\", \"showbackground\": true, \"ticks\": \"\", \"zerolinecolor\": \"white\"}, \"zaxis\": {\"backgroundcolor\": \"#E5ECF6\", \"gridcolor\": \"white\", \"gridwidth\": 2, \"linecolor\": \"white\", \"showbackground\": true, \"ticks\": \"\", \"zerolinecolor\": \"white\"}}, \"shapedefaults\": {\"line\": {\"color\": \"#2a3f5f\"}}, \"ternary\": {\"aaxis\": {\"gridcolor\": \"white\", \"linecolor\": \"white\", \"ticks\": \"\"}, \"baxis\": {\"gridcolor\": \"white\", \"linecolor\": \"white\", \"ticks\": \"\"}, \"bgcolor\": \"#E5ECF6\", \"caxis\": {\"gridcolor\": \"white\", \"linecolor\": \"white\", \"ticks\": \"\"}}, \"title\": {\"x\": 0.05}, \"xaxis\": {\"automargin\": true, \"gridcolor\": \"white\", \"linecolor\": \"white\", \"ticks\": \"\", \"title\": {\"standoff\": 15}, \"zerolinecolor\": \"white\", \"zerolinewidth\": 2}, \"yaxis\": {\"automargin\": true, \"gridcolor\": \"white\", \"linecolor\": \"white\", \"ticks\": \"\", \"title\": {\"standoff\": 15}, \"zerolinecolor\": \"white\", \"zerolinewidth\": 2}}}, \"xaxis\": {\"anchor\": \"y\", \"domain\": [0.0, 1.0], \"title\": {\"text\": \"Video Length (mins)\"}}, \"yaxis\": {\"anchor\": \"x\", \"domain\": [0.0, 1.0], \"title\": {\"text\": \"Total Views\"}}},                        {\"responsive\": true}                    ).then(function(){\n",
       "                            \n",
       "var gd = document.getElementById('ee63ac96-3005-40b2-b44f-bf9dd0c479b8');\n",
       "var x = new MutationObserver(function (mutations, observer) {{\n",
       "        var display = window.getComputedStyle(gd).display;\n",
       "        if (!display || display === 'none') {{\n",
       "            console.log([gd, 'removed!']);\n",
       "            Plotly.purge(gd);\n",
       "            observer.disconnect();\n",
       "        }}\n",
       "}});\n",
       "\n",
       "// Listen for the removal of the full notebook cells\n",
       "var notebookContainer = gd.closest('#notebook-container');\n",
       "if (notebookContainer) {{\n",
       "    x.observe(notebookContainer, {childList: true});\n",
       "}}\n",
       "\n",
       "// Listen for the clearing of the current output cell\n",
       "var outputEl = gd.closest('.output');\n",
       "if (outputEl) {{\n",
       "    x.observe(outputEl, {childList: true});\n",
       "}}\n",
       "\n",
       "                        })                };                });            </script>        </div>"
      ]
     },
     "metadata": {},
     "output_type": "display_data"
    }
   ],
   "source": [
    "# views vs video length (dislike percent)\n",
    "\n",
    "fig = px.scatter(\n",
    "    data_frame=df,\n",
    "    x='vid_dur',\n",
    "    y='views',\n",
    "    color='upload_year',\n",
    "    size='dislikes_percent',\n",
    "    opacity=0.6,\n",
    "    hover_data=['vid_title'],\n",
    "    labels=LABELS,\n",
    "    \n",
    ")\n",
    "fig.add_hline(y=df['views'].median(), line_dash='dash', )\n",
    "\n",
    "fig.show()"
   ]
  },
  {
   "cell_type": "code",
   "execution_count": 71,
   "metadata": {},
   "outputs": [
    {
     "data": {
      "text/html": [
       "<div>\n",
       "<style scoped>\n",
       "    .dataframe tbody tr th:only-of-type {\n",
       "        vertical-align: middle;\n",
       "    }\n",
       "\n",
       "    .dataframe tbody tr th {\n",
       "        vertical-align: top;\n",
       "    }\n",
       "\n",
       "    .dataframe thead th {\n",
       "        text-align: right;\n",
       "    }\n",
       "</style>\n",
       "<table border=\"1\" class=\"dataframe\">\n",
       "  <thead>\n",
       "    <tr style=\"text-align: right;\">\n",
       "      <th></th>\n",
       "      <th>vid_id</th>\n",
       "      <th>vid_title</th>\n",
       "      <th>vid_description</th>\n",
       "      <th>thumbnail_url</th>\n",
       "      <th>upload_time</th>\n",
       "      <th>duration</th>\n",
       "      <th>views</th>\n",
       "      <th>likes</th>\n",
       "      <th>dislikes</th>\n",
       "      <th>comment_counts</th>\n",
       "      <th>upload_date</th>\n",
       "      <th>upload_month</th>\n",
       "      <th>upload_year</th>\n",
       "      <th>upload_hour</th>\n",
       "      <th>upload_minute</th>\n",
       "      <th>upload_second</th>\n",
       "      <th>vid_dur</th>\n",
       "      <th>likes_percent</th>\n",
       "      <th>dislikes_percent</th>\n",
       "      <th>clean_title</th>\n",
       "    </tr>\n",
       "  </thead>\n",
       "  <tbody>\n",
       "    <tr>\n",
       "      <th>0</th>\n",
       "      <td>8ifjYxkMhUg</td>\n",
       "      <td>BEST OF THE WEEK 11 | SAMAY RAINA</td>\n",
       "      <td>JOIN MY GRAPHY https://share.graphyapp.co/8K8w...</td>\n",
       "      <td>https://i.ytimg.com/vi/8ifjYxkMhUg/hqdefault.jpg</td>\n",
       "      <td>2021-01-10T09:59:47Z</td>\n",
       "      <td>PT8M38S</td>\n",
       "      <td>206794</td>\n",
       "      <td>22811</td>\n",
       "      <td>339</td>\n",
       "      <td>761</td>\n",
       "      <td>10</td>\n",
       "      <td>1</td>\n",
       "      <td>2021</td>\n",
       "      <td>9</td>\n",
       "      <td>59</td>\n",
       "      <td>47</td>\n",
       "      <td>8.633333</td>\n",
       "      <td>98.535637</td>\n",
       "      <td>1.464363</td>\n",
       "      <td>best week samay raina</td>\n",
       "    </tr>\n",
       "    <tr>\n",
       "      <th>1</th>\n",
       "      <td>SP8hdGSN-0k</td>\n",
       "      <td>Coming Back to Life - Reaching 1500 ft. Sagar ...</td>\n",
       "      <td>JOIN MY GRAPHY https://share.graphyapp.co/8K8w...</td>\n",
       "      <td>https://i.ytimg.com/vi/SP8hdGSN-0k/hqdefault.jpg</td>\n",
       "      <td>2021-01-04T01:11:08Z</td>\n",
       "      <td>PT1H27M46S</td>\n",
       "      <td>183488</td>\n",
       "      <td>13163</td>\n",
       "      <td>241</td>\n",
       "      <td>433</td>\n",
       "      <td>4</td>\n",
       "      <td>1</td>\n",
       "      <td>2021</td>\n",
       "      <td>1</td>\n",
       "      <td>11</td>\n",
       "      <td>8</td>\n",
       "      <td>87.766667</td>\n",
       "      <td>98.202029</td>\n",
       "      <td>1.797971</td>\n",
       "      <td>coming back life reaching ft sagar exposed shah</td>\n",
       "    </tr>\n",
       "    <tr>\n",
       "      <th>2</th>\n",
       "      <td>Tvs-zEOgr7c</td>\n",
       "      <td>SAGAR SHAH EXPOSED - VLOG #3</td>\n",
       "      <td>JOIN MY GRAPHY https://share.graphyapp.co/8K8w...</td>\n",
       "      <td>https://i.ytimg.com/vi/Tvs-zEOgr7c/hqdefault.jpg</td>\n",
       "      <td>2020-12-29T03:53:41Z</td>\n",
       "      <td>PT14M27S</td>\n",
       "      <td>371705</td>\n",
       "      <td>39035</td>\n",
       "      <td>287</td>\n",
       "      <td>1064</td>\n",
       "      <td>29</td>\n",
       "      <td>12</td>\n",
       "      <td>2020</td>\n",
       "      <td>3</td>\n",
       "      <td>53</td>\n",
       "      <td>41</td>\n",
       "      <td>14.450000</td>\n",
       "      <td>99.270129</td>\n",
       "      <td>0.729871</td>\n",
       "      <td>sagar shah exposed vlog</td>\n",
       "    </tr>\n",
       "    <tr>\n",
       "      <th>3</th>\n",
       "      <td>Ge3MN6-JuOw</td>\n",
       "      <td>ACCIDENTALLY GAVE 10,000 RS. SUPERCHAT TO @Gam...</td>\n",
       "      <td>Play at https://conquer2020.net/\\n\\nPrizes:\\nT...</td>\n",
       "      <td>https://i.ytimg.com/vi/Ge3MN6-JuOw/hqdefault.jpg</td>\n",
       "      <td>2020-12-27T10:34:17Z</td>\n",
       "      <td>PT6M25S</td>\n",
       "      <td>211581</td>\n",
       "      <td>26742</td>\n",
       "      <td>347</td>\n",
       "      <td>527</td>\n",
       "      <td>27</td>\n",
       "      <td>12</td>\n",
       "      <td>2020</td>\n",
       "      <td>10</td>\n",
       "      <td>34</td>\n",
       "      <td>17</td>\n",
       "      <td>6.416667</td>\n",
       "      <td>98.719037</td>\n",
       "      <td>1.280963</td>\n",
       "      <td>accidentally gave rs superchat gamerfleet budw...</td>\n",
       "    </tr>\n",
       "    <tr>\n",
       "      <th>4</th>\n",
       "      <td>R_LOS5_TpL8</td>\n",
       "      <td>ROAST BATTLE ft. Vidit Gujrathi | Sagar Shah |...</td>\n",
       "      <td>This was recorded in Pune. It was Vidit and Sa...</td>\n",
       "      <td>https://i.ytimg.com/vi/R_LOS5_TpL8/hqdefault.jpg</td>\n",
       "      <td>2020-12-26T15:05:31Z</td>\n",
       "      <td>PT12M13S</td>\n",
       "      <td>494770</td>\n",
       "      <td>50353</td>\n",
       "      <td>516</td>\n",
       "      <td>2108</td>\n",
       "      <td>26</td>\n",
       "      <td>12</td>\n",
       "      <td>2020</td>\n",
       "      <td>15</td>\n",
       "      <td>5</td>\n",
       "      <td>31</td>\n",
       "      <td>12.216667</td>\n",
       "      <td>98.985630</td>\n",
       "      <td>1.014370</td>\n",
       "      <td>roast battle ft vidit gujrathi sagar shah sama...</td>\n",
       "    </tr>\n",
       "    <tr>\n",
       "      <th>...</th>\n",
       "      <td>...</td>\n",
       "      <td>...</td>\n",
       "      <td>...</td>\n",
       "      <td>...</td>\n",
       "      <td>...</td>\n",
       "      <td>...</td>\n",
       "      <td>...</td>\n",
       "      <td>...</td>\n",
       "      <td>...</td>\n",
       "      <td>...</td>\n",
       "      <td>...</td>\n",
       "      <td>...</td>\n",
       "      <td>...</td>\n",
       "      <td>...</td>\n",
       "      <td>...</td>\n",
       "      <td>...</td>\n",
       "      <td>...</td>\n",
       "      <td>...</td>\n",
       "      <td>...</td>\n",
       "      <td>...</td>\n",
       "    </tr>\n",
       "    <tr>\n",
       "      <th>283</th>\n",
       "      <td>TL4S76ozM60</td>\n",
       "      <td>PUBG with Ojas and Balraj</td>\n",
       "      <td></td>\n",
       "      <td>https://i.ytimg.com/vi/TL4S76ozM60/hqdefault.jpg</td>\n",
       "      <td>2020-03-24T21:00:10Z</td>\n",
       "      <td>PT1H18M30S</td>\n",
       "      <td>20762</td>\n",
       "      <td>1282</td>\n",
       "      <td>24</td>\n",
       "      <td>40</td>\n",
       "      <td>24</td>\n",
       "      <td>3</td>\n",
       "      <td>2020</td>\n",
       "      <td>21</td>\n",
       "      <td>0</td>\n",
       "      <td>10</td>\n",
       "      <td>78.500000</td>\n",
       "      <td>98.162328</td>\n",
       "      <td>1.837672</td>\n",
       "      <td>pubg ojas balraj</td>\n",
       "    </tr>\n",
       "    <tr>\n",
       "      <th>284</th>\n",
       "      <td>eLLBm5Ni708</td>\n",
       "      <td>Coming soon</td>\n",
       "      <td></td>\n",
       "      <td>https://i.ytimg.com/vi/eLLBm5Ni708/hqdefault.jpg</td>\n",
       "      <td>2020-03-24T04:12:14Z</td>\n",
       "      <td>PT1M37S</td>\n",
       "      <td>374783</td>\n",
       "      <td>30889</td>\n",
       "      <td>630</td>\n",
       "      <td>1137</td>\n",
       "      <td>24</td>\n",
       "      <td>3</td>\n",
       "      <td>2020</td>\n",
       "      <td>4</td>\n",
       "      <td>12</td>\n",
       "      <td>14</td>\n",
       "      <td>1.616667</td>\n",
       "      <td>98.001206</td>\n",
       "      <td>1.998794</td>\n",
       "      <td>coming soon</td>\n",
       "    </tr>\n",
       "    <tr>\n",
       "      <th>285</th>\n",
       "      <td>lwuZ_gEX3mk</td>\n",
       "      <td>Later night chess with friends - Sumit Sourav</td>\n",
       "      <td></td>\n",
       "      <td>https://i.ytimg.com/vi/lwuZ_gEX3mk/hqdefault.jpg</td>\n",
       "      <td>2020-03-23T22:36:59Z</td>\n",
       "      <td>PT1H35M11S</td>\n",
       "      <td>24606</td>\n",
       "      <td>1208</td>\n",
       "      <td>20</td>\n",
       "      <td>48</td>\n",
       "      <td>23</td>\n",
       "      <td>3</td>\n",
       "      <td>2020</td>\n",
       "      <td>22</td>\n",
       "      <td>36</td>\n",
       "      <td>59</td>\n",
       "      <td>95.183333</td>\n",
       "      <td>98.371336</td>\n",
       "      <td>1.628664</td>\n",
       "      <td>later night chess friends sumit sourav</td>\n",
       "    </tr>\n",
       "    <tr>\n",
       "      <th>286</th>\n",
       "      <td>6JX7VfiYEMc</td>\n",
       "      <td>PUBG with Ojas</td>\n",
       "      <td></td>\n",
       "      <td>https://i.ytimg.com/vi/6JX7VfiYEMc/hqdefault.jpg</td>\n",
       "      <td>2020-03-23T19:25:48Z</td>\n",
       "      <td>PT1H29M34S</td>\n",
       "      <td>28410</td>\n",
       "      <td>1768</td>\n",
       "      <td>25</td>\n",
       "      <td>63</td>\n",
       "      <td>23</td>\n",
       "      <td>3</td>\n",
       "      <td>2020</td>\n",
       "      <td>19</td>\n",
       "      <td>25</td>\n",
       "      <td>48</td>\n",
       "      <td>89.566667</td>\n",
       "      <td>98.605689</td>\n",
       "      <td>1.394311</td>\n",
       "      <td>pubg ojas</td>\n",
       "    </tr>\n",
       "    <tr>\n",
       "      <th>287</th>\n",
       "      <td>oufJKZur8qM</td>\n",
       "      <td>Later night chess with friends - Balraj Ghai</td>\n",
       "      <td>Follow me on instagram - https://www.instagram...</td>\n",
       "      <td>https://i.ytimg.com/vi/oufJKZur8qM/hqdefault.jpg</td>\n",
       "      <td>2020-03-22T22:34:23Z</td>\n",
       "      <td>PT45M13S</td>\n",
       "      <td>76945</td>\n",
       "      <td>4610</td>\n",
       "      <td>46</td>\n",
       "      <td>288</td>\n",
       "      <td>22</td>\n",
       "      <td>3</td>\n",
       "      <td>2020</td>\n",
       "      <td>22</td>\n",
       "      <td>34</td>\n",
       "      <td>23</td>\n",
       "      <td>45.216667</td>\n",
       "      <td>99.012027</td>\n",
       "      <td>0.987973</td>\n",
       "      <td>later night chess friends balraj ghai</td>\n",
       "    </tr>\n",
       "  </tbody>\n",
       "</table>\n",
       "<p>288 rows × 20 columns</p>\n",
       "</div>"
      ],
      "text/plain": [
       "          vid_id                                          vid_title  \\\n",
       "0    8ifjYxkMhUg                  BEST OF THE WEEK 11 | SAMAY RAINA   \n",
       "1    SP8hdGSN-0k  Coming Back to Life - Reaching 1500 ft. Sagar ...   \n",
       "2    Tvs-zEOgr7c                       SAGAR SHAH EXPOSED - VLOG #3   \n",
       "3    Ge3MN6-JuOw  ACCIDENTALLY GAVE 10,000 RS. SUPERCHAT TO @Gam...   \n",
       "4    R_LOS5_TpL8  ROAST BATTLE ft. Vidit Gujrathi | Sagar Shah |...   \n",
       "..           ...                                                ...   \n",
       "283  TL4S76ozM60                          PUBG with Ojas and Balraj   \n",
       "284  eLLBm5Ni708                                        Coming soon   \n",
       "285  lwuZ_gEX3mk      Later night chess with friends - Sumit Sourav   \n",
       "286  6JX7VfiYEMc                                     PUBG with Ojas   \n",
       "287  oufJKZur8qM       Later night chess with friends - Balraj Ghai   \n",
       "\n",
       "                                       vid_description  \\\n",
       "0    JOIN MY GRAPHY https://share.graphyapp.co/8K8w...   \n",
       "1    JOIN MY GRAPHY https://share.graphyapp.co/8K8w...   \n",
       "2    JOIN MY GRAPHY https://share.graphyapp.co/8K8w...   \n",
       "3    Play at https://conquer2020.net/\\n\\nPrizes:\\nT...   \n",
       "4    This was recorded in Pune. It was Vidit and Sa...   \n",
       "..                                                 ...   \n",
       "283                                                      \n",
       "284                                                      \n",
       "285                                                      \n",
       "286                                                      \n",
       "287  Follow me on instagram - https://www.instagram...   \n",
       "\n",
       "                                        thumbnail_url           upload_time  \\\n",
       "0    https://i.ytimg.com/vi/8ifjYxkMhUg/hqdefault.jpg  2021-01-10T09:59:47Z   \n",
       "1    https://i.ytimg.com/vi/SP8hdGSN-0k/hqdefault.jpg  2021-01-04T01:11:08Z   \n",
       "2    https://i.ytimg.com/vi/Tvs-zEOgr7c/hqdefault.jpg  2020-12-29T03:53:41Z   \n",
       "3    https://i.ytimg.com/vi/Ge3MN6-JuOw/hqdefault.jpg  2020-12-27T10:34:17Z   \n",
       "4    https://i.ytimg.com/vi/R_LOS5_TpL8/hqdefault.jpg  2020-12-26T15:05:31Z   \n",
       "..                                                ...                   ...   \n",
       "283  https://i.ytimg.com/vi/TL4S76ozM60/hqdefault.jpg  2020-03-24T21:00:10Z   \n",
       "284  https://i.ytimg.com/vi/eLLBm5Ni708/hqdefault.jpg  2020-03-24T04:12:14Z   \n",
       "285  https://i.ytimg.com/vi/lwuZ_gEX3mk/hqdefault.jpg  2020-03-23T22:36:59Z   \n",
       "286  https://i.ytimg.com/vi/6JX7VfiYEMc/hqdefault.jpg  2020-03-23T19:25:48Z   \n",
       "287  https://i.ytimg.com/vi/oufJKZur8qM/hqdefault.jpg  2020-03-22T22:34:23Z   \n",
       "\n",
       "       duration   views  likes  dislikes  comment_counts upload_date  \\\n",
       "0       PT8M38S  206794  22811       339             761          10   \n",
       "1    PT1H27M46S  183488  13163       241             433           4   \n",
       "2      PT14M27S  371705  39035       287            1064          29   \n",
       "3       PT6M25S  211581  26742       347             527          27   \n",
       "4      PT12M13S  494770  50353       516            2108          26   \n",
       "..          ...     ...    ...       ...             ...         ...   \n",
       "283  PT1H18M30S   20762   1282        24              40          24   \n",
       "284     PT1M37S  374783  30889       630            1137          24   \n",
       "285  PT1H35M11S   24606   1208        20              48          23   \n",
       "286  PT1H29M34S   28410   1768        25              63          23   \n",
       "287    PT45M13S   76945   4610        46             288          22   \n",
       "\n",
       "    upload_month upload_year upload_hour upload_minute upload_second  \\\n",
       "0              1        2021           9            59            47   \n",
       "1              1        2021           1            11             8   \n",
       "2             12        2020           3            53            41   \n",
       "3             12        2020          10            34            17   \n",
       "4             12        2020          15             5            31   \n",
       "..           ...         ...         ...           ...           ...   \n",
       "283            3        2020          21             0            10   \n",
       "284            3        2020           4            12            14   \n",
       "285            3        2020          22            36            59   \n",
       "286            3        2020          19            25            48   \n",
       "287            3        2020          22            34            23   \n",
       "\n",
       "       vid_dur  likes_percent  dislikes_percent  \\\n",
       "0     8.633333      98.535637          1.464363   \n",
       "1    87.766667      98.202029          1.797971   \n",
       "2    14.450000      99.270129          0.729871   \n",
       "3     6.416667      98.719037          1.280963   \n",
       "4    12.216667      98.985630          1.014370   \n",
       "..         ...            ...               ...   \n",
       "283  78.500000      98.162328          1.837672   \n",
       "284   1.616667      98.001206          1.998794   \n",
       "285  95.183333      98.371336          1.628664   \n",
       "286  89.566667      98.605689          1.394311   \n",
       "287  45.216667      99.012027          0.987973   \n",
       "\n",
       "                                           clean_title  \n",
       "0                                best week samay raina  \n",
       "1      coming back life reaching ft sagar exposed shah  \n",
       "2                              sagar shah exposed vlog  \n",
       "3    accidentally gave rs superchat gamerfleet budw...  \n",
       "4    roast battle ft vidit gujrathi sagar shah sama...  \n",
       "..                                                 ...  \n",
       "283                                   pubg ojas balraj  \n",
       "284                                        coming soon  \n",
       "285             later night chess friends sumit sourav  \n",
       "286                                          pubg ojas  \n",
       "287              later night chess friends balraj ghai  \n",
       "\n",
       "[288 rows x 20 columns]"
      ]
     },
     "execution_count": 71,
     "metadata": {},
     "output_type": "execute_result"
    }
   ],
   "source": [
    "df"
   ]
  },
  {
   "cell_type": "code",
   "execution_count": 63,
   "metadata": {},
   "outputs": [],
   "source": [
    "yearwise = df.groupby('upload_year').count()['vid_id']"
   ]
  },
  {
   "cell_type": "code",
   "execution_count": 64,
   "metadata": {},
   "outputs": [
    {
     "data": {
      "application/vnd.plotly.v1+json": {
       "config": {
        "plotlyServerURL": "https://plot.ly"
       },
       "data": [
        {
         "hovertemplate": "Year=%{x}<br>Total Videos=%{y}<extra></extra>",
         "legendgroup": "",
         "line": {
          "color": "#636efa",
          "dash": "solid"
         },
         "mode": "lines",
         "name": "",
         "orientation": "v",
         "showlegend": false,
         "type": "scatter",
         "x": [
          2020,
          2021
         ],
         "xaxis": "x",
         "y": [
          286,
          2
         ],
         "yaxis": "y"
        }
       ],
       "layout": {
        "legend": {
         "tracegroupgap": 0
        },
        "margin": {
         "t": 60
        },
        "template": {
         "data": {
          "bar": [
           {
            "error_x": {
             "color": "#2a3f5f"
            },
            "error_y": {
             "color": "#2a3f5f"
            },
            "marker": {
             "line": {
              "color": "#E5ECF6",
              "width": 0.5
             }
            },
            "type": "bar"
           }
          ],
          "barpolar": [
           {
            "marker": {
             "line": {
              "color": "#E5ECF6",
              "width": 0.5
             }
            },
            "type": "barpolar"
           }
          ],
          "carpet": [
           {
            "aaxis": {
             "endlinecolor": "#2a3f5f",
             "gridcolor": "white",
             "linecolor": "white",
             "minorgridcolor": "white",
             "startlinecolor": "#2a3f5f"
            },
            "baxis": {
             "endlinecolor": "#2a3f5f",
             "gridcolor": "white",
             "linecolor": "white",
             "minorgridcolor": "white",
             "startlinecolor": "#2a3f5f"
            },
            "type": "carpet"
           }
          ],
          "choropleth": [
           {
            "colorbar": {
             "outlinewidth": 0,
             "ticks": ""
            },
            "type": "choropleth"
           }
          ],
          "contour": [
           {
            "colorbar": {
             "outlinewidth": 0,
             "ticks": ""
            },
            "colorscale": [
             [
              0,
              "#0d0887"
             ],
             [
              0.1111111111111111,
              "#46039f"
             ],
             [
              0.2222222222222222,
              "#7201a8"
             ],
             [
              0.3333333333333333,
              "#9c179e"
             ],
             [
              0.4444444444444444,
              "#bd3786"
             ],
             [
              0.5555555555555556,
              "#d8576b"
             ],
             [
              0.6666666666666666,
              "#ed7953"
             ],
             [
              0.7777777777777778,
              "#fb9f3a"
             ],
             [
              0.8888888888888888,
              "#fdca26"
             ],
             [
              1,
              "#f0f921"
             ]
            ],
            "type": "contour"
           }
          ],
          "contourcarpet": [
           {
            "colorbar": {
             "outlinewidth": 0,
             "ticks": ""
            },
            "type": "contourcarpet"
           }
          ],
          "heatmap": [
           {
            "colorbar": {
             "outlinewidth": 0,
             "ticks": ""
            },
            "colorscale": [
             [
              0,
              "#0d0887"
             ],
             [
              0.1111111111111111,
              "#46039f"
             ],
             [
              0.2222222222222222,
              "#7201a8"
             ],
             [
              0.3333333333333333,
              "#9c179e"
             ],
             [
              0.4444444444444444,
              "#bd3786"
             ],
             [
              0.5555555555555556,
              "#d8576b"
             ],
             [
              0.6666666666666666,
              "#ed7953"
             ],
             [
              0.7777777777777778,
              "#fb9f3a"
             ],
             [
              0.8888888888888888,
              "#fdca26"
             ],
             [
              1,
              "#f0f921"
             ]
            ],
            "type": "heatmap"
           }
          ],
          "heatmapgl": [
           {
            "colorbar": {
             "outlinewidth": 0,
             "ticks": ""
            },
            "colorscale": [
             [
              0,
              "#0d0887"
             ],
             [
              0.1111111111111111,
              "#46039f"
             ],
             [
              0.2222222222222222,
              "#7201a8"
             ],
             [
              0.3333333333333333,
              "#9c179e"
             ],
             [
              0.4444444444444444,
              "#bd3786"
             ],
             [
              0.5555555555555556,
              "#d8576b"
             ],
             [
              0.6666666666666666,
              "#ed7953"
             ],
             [
              0.7777777777777778,
              "#fb9f3a"
             ],
             [
              0.8888888888888888,
              "#fdca26"
             ],
             [
              1,
              "#f0f921"
             ]
            ],
            "type": "heatmapgl"
           }
          ],
          "histogram": [
           {
            "marker": {
             "colorbar": {
              "outlinewidth": 0,
              "ticks": ""
             }
            },
            "type": "histogram"
           }
          ],
          "histogram2d": [
           {
            "colorbar": {
             "outlinewidth": 0,
             "ticks": ""
            },
            "colorscale": [
             [
              0,
              "#0d0887"
             ],
             [
              0.1111111111111111,
              "#46039f"
             ],
             [
              0.2222222222222222,
              "#7201a8"
             ],
             [
              0.3333333333333333,
              "#9c179e"
             ],
             [
              0.4444444444444444,
              "#bd3786"
             ],
             [
              0.5555555555555556,
              "#d8576b"
             ],
             [
              0.6666666666666666,
              "#ed7953"
             ],
             [
              0.7777777777777778,
              "#fb9f3a"
             ],
             [
              0.8888888888888888,
              "#fdca26"
             ],
             [
              1,
              "#f0f921"
             ]
            ],
            "type": "histogram2d"
           }
          ],
          "histogram2dcontour": [
           {
            "colorbar": {
             "outlinewidth": 0,
             "ticks": ""
            },
            "colorscale": [
             [
              0,
              "#0d0887"
             ],
             [
              0.1111111111111111,
              "#46039f"
             ],
             [
              0.2222222222222222,
              "#7201a8"
             ],
             [
              0.3333333333333333,
              "#9c179e"
             ],
             [
              0.4444444444444444,
              "#bd3786"
             ],
             [
              0.5555555555555556,
              "#d8576b"
             ],
             [
              0.6666666666666666,
              "#ed7953"
             ],
             [
              0.7777777777777778,
              "#fb9f3a"
             ],
             [
              0.8888888888888888,
              "#fdca26"
             ],
             [
              1,
              "#f0f921"
             ]
            ],
            "type": "histogram2dcontour"
           }
          ],
          "mesh3d": [
           {
            "colorbar": {
             "outlinewidth": 0,
             "ticks": ""
            },
            "type": "mesh3d"
           }
          ],
          "parcoords": [
           {
            "line": {
             "colorbar": {
              "outlinewidth": 0,
              "ticks": ""
             }
            },
            "type": "parcoords"
           }
          ],
          "pie": [
           {
            "automargin": true,
            "type": "pie"
           }
          ],
          "scatter": [
           {
            "marker": {
             "colorbar": {
              "outlinewidth": 0,
              "ticks": ""
             }
            },
            "type": "scatter"
           }
          ],
          "scatter3d": [
           {
            "line": {
             "colorbar": {
              "outlinewidth": 0,
              "ticks": ""
             }
            },
            "marker": {
             "colorbar": {
              "outlinewidth": 0,
              "ticks": ""
             }
            },
            "type": "scatter3d"
           }
          ],
          "scattercarpet": [
           {
            "marker": {
             "colorbar": {
              "outlinewidth": 0,
              "ticks": ""
             }
            },
            "type": "scattercarpet"
           }
          ],
          "scattergeo": [
           {
            "marker": {
             "colorbar": {
              "outlinewidth": 0,
              "ticks": ""
             }
            },
            "type": "scattergeo"
           }
          ],
          "scattergl": [
           {
            "marker": {
             "colorbar": {
              "outlinewidth": 0,
              "ticks": ""
             }
            },
            "type": "scattergl"
           }
          ],
          "scattermapbox": [
           {
            "marker": {
             "colorbar": {
              "outlinewidth": 0,
              "ticks": ""
             }
            },
            "type": "scattermapbox"
           }
          ],
          "scatterpolar": [
           {
            "marker": {
             "colorbar": {
              "outlinewidth": 0,
              "ticks": ""
             }
            },
            "type": "scatterpolar"
           }
          ],
          "scatterpolargl": [
           {
            "marker": {
             "colorbar": {
              "outlinewidth": 0,
              "ticks": ""
             }
            },
            "type": "scatterpolargl"
           }
          ],
          "scatterternary": [
           {
            "marker": {
             "colorbar": {
              "outlinewidth": 0,
              "ticks": ""
             }
            },
            "type": "scatterternary"
           }
          ],
          "surface": [
           {
            "colorbar": {
             "outlinewidth": 0,
             "ticks": ""
            },
            "colorscale": [
             [
              0,
              "#0d0887"
             ],
             [
              0.1111111111111111,
              "#46039f"
             ],
             [
              0.2222222222222222,
              "#7201a8"
             ],
             [
              0.3333333333333333,
              "#9c179e"
             ],
             [
              0.4444444444444444,
              "#bd3786"
             ],
             [
              0.5555555555555556,
              "#d8576b"
             ],
             [
              0.6666666666666666,
              "#ed7953"
             ],
             [
              0.7777777777777778,
              "#fb9f3a"
             ],
             [
              0.8888888888888888,
              "#fdca26"
             ],
             [
              1,
              "#f0f921"
             ]
            ],
            "type": "surface"
           }
          ],
          "table": [
           {
            "cells": {
             "fill": {
              "color": "#EBF0F8"
             },
             "line": {
              "color": "white"
             }
            },
            "header": {
             "fill": {
              "color": "#C8D4E3"
             },
             "line": {
              "color": "white"
             }
            },
            "type": "table"
           }
          ]
         },
         "layout": {
          "annotationdefaults": {
           "arrowcolor": "#2a3f5f",
           "arrowhead": 0,
           "arrowwidth": 1
          },
          "autotypenumbers": "strict",
          "coloraxis": {
           "colorbar": {
            "outlinewidth": 0,
            "ticks": ""
           }
          },
          "colorscale": {
           "diverging": [
            [
             0,
             "#8e0152"
            ],
            [
             0.1,
             "#c51b7d"
            ],
            [
             0.2,
             "#de77ae"
            ],
            [
             0.3,
             "#f1b6da"
            ],
            [
             0.4,
             "#fde0ef"
            ],
            [
             0.5,
             "#f7f7f7"
            ],
            [
             0.6,
             "#e6f5d0"
            ],
            [
             0.7,
             "#b8e186"
            ],
            [
             0.8,
             "#7fbc41"
            ],
            [
             0.9,
             "#4d9221"
            ],
            [
             1,
             "#276419"
            ]
           ],
           "sequential": [
            [
             0,
             "#0d0887"
            ],
            [
             0.1111111111111111,
             "#46039f"
            ],
            [
             0.2222222222222222,
             "#7201a8"
            ],
            [
             0.3333333333333333,
             "#9c179e"
            ],
            [
             0.4444444444444444,
             "#bd3786"
            ],
            [
             0.5555555555555556,
             "#d8576b"
            ],
            [
             0.6666666666666666,
             "#ed7953"
            ],
            [
             0.7777777777777778,
             "#fb9f3a"
            ],
            [
             0.8888888888888888,
             "#fdca26"
            ],
            [
             1,
             "#f0f921"
            ]
           ],
           "sequentialminus": [
            [
             0,
             "#0d0887"
            ],
            [
             0.1111111111111111,
             "#46039f"
            ],
            [
             0.2222222222222222,
             "#7201a8"
            ],
            [
             0.3333333333333333,
             "#9c179e"
            ],
            [
             0.4444444444444444,
             "#bd3786"
            ],
            [
             0.5555555555555556,
             "#d8576b"
            ],
            [
             0.6666666666666666,
             "#ed7953"
            ],
            [
             0.7777777777777778,
             "#fb9f3a"
            ],
            [
             0.8888888888888888,
             "#fdca26"
            ],
            [
             1,
             "#f0f921"
            ]
           ]
          },
          "colorway": [
           "#636efa",
           "#EF553B",
           "#00cc96",
           "#ab63fa",
           "#FFA15A",
           "#19d3f3",
           "#FF6692",
           "#B6E880",
           "#FF97FF",
           "#FECB52"
          ],
          "font": {
           "color": "#2a3f5f"
          },
          "geo": {
           "bgcolor": "white",
           "lakecolor": "white",
           "landcolor": "#E5ECF6",
           "showlakes": true,
           "showland": true,
           "subunitcolor": "white"
          },
          "hoverlabel": {
           "align": "left"
          },
          "hovermode": "closest",
          "mapbox": {
           "style": "light"
          },
          "paper_bgcolor": "white",
          "plot_bgcolor": "#E5ECF6",
          "polar": {
           "angularaxis": {
            "gridcolor": "white",
            "linecolor": "white",
            "ticks": ""
           },
           "bgcolor": "#E5ECF6",
           "radialaxis": {
            "gridcolor": "white",
            "linecolor": "white",
            "ticks": ""
           }
          },
          "scene": {
           "xaxis": {
            "backgroundcolor": "#E5ECF6",
            "gridcolor": "white",
            "gridwidth": 2,
            "linecolor": "white",
            "showbackground": true,
            "ticks": "",
            "zerolinecolor": "white"
           },
           "yaxis": {
            "backgroundcolor": "#E5ECF6",
            "gridcolor": "white",
            "gridwidth": 2,
            "linecolor": "white",
            "showbackground": true,
            "ticks": "",
            "zerolinecolor": "white"
           },
           "zaxis": {
            "backgroundcolor": "#E5ECF6",
            "gridcolor": "white",
            "gridwidth": 2,
            "linecolor": "white",
            "showbackground": true,
            "ticks": "",
            "zerolinecolor": "white"
           }
          },
          "shapedefaults": {
           "line": {
            "color": "#2a3f5f"
           }
          },
          "ternary": {
           "aaxis": {
            "gridcolor": "white",
            "linecolor": "white",
            "ticks": ""
           },
           "baxis": {
            "gridcolor": "white",
            "linecolor": "white",
            "ticks": ""
           },
           "bgcolor": "#E5ECF6",
           "caxis": {
            "gridcolor": "white",
            "linecolor": "white",
            "ticks": ""
           }
          },
          "title": {
           "x": 0.05
          },
          "xaxis": {
           "automargin": true,
           "gridcolor": "white",
           "linecolor": "white",
           "ticks": "",
           "title": {
            "standoff": 15
           },
           "zerolinecolor": "white",
           "zerolinewidth": 2
          },
          "yaxis": {
           "automargin": true,
           "gridcolor": "white",
           "linecolor": "white",
           "ticks": "",
           "title": {
            "standoff": 15
           },
           "zerolinecolor": "white",
           "zerolinewidth": 2
          }
         }
        },
        "xaxis": {
         "anchor": "y",
         "domain": [
          0,
          1
         ],
         "dtick": 1,
         "title": {
          "text": "Year"
         }
        },
        "yaxis": {
         "anchor": "x",
         "domain": [
          0,
          1
         ],
         "title": {
          "text": "Total Videos"
         }
        }
       }
      },
      "text/html": [
       "<div>                            <div id=\"aeb527b3-8b3b-49dc-a746-321793476053\" class=\"plotly-graph-div\" style=\"height:525px; width:100%;\"></div>            <script type=\"text/javascript\">                require([\"plotly\"], function(Plotly) {                    window.PLOTLYENV=window.PLOTLYENV || {};                                    if (document.getElementById(\"aeb527b3-8b3b-49dc-a746-321793476053\")) {                    Plotly.newPlot(                        \"aeb527b3-8b3b-49dc-a746-321793476053\",                        [{\"hovertemplate\": \"Year=%{x}<br>Total Videos=%{y}<extra></extra>\", \"legendgroup\": \"\", \"line\": {\"color\": \"#636efa\", \"dash\": \"solid\"}, \"mode\": \"lines\", \"name\": \"\", \"orientation\": \"v\", \"showlegend\": false, \"type\": \"scatter\", \"x\": [2020, 2021], \"xaxis\": \"x\", \"y\": [286, 2], \"yaxis\": \"y\"}],                        {\"legend\": {\"tracegroupgap\": 0}, \"margin\": {\"t\": 60}, \"template\": {\"data\": {\"bar\": [{\"error_x\": {\"color\": \"#2a3f5f\"}, \"error_y\": {\"color\": \"#2a3f5f\"}, \"marker\": {\"line\": {\"color\": \"#E5ECF6\", \"width\": 0.5}}, \"type\": \"bar\"}], \"barpolar\": [{\"marker\": {\"line\": {\"color\": \"#E5ECF6\", \"width\": 0.5}}, \"type\": \"barpolar\"}], \"carpet\": [{\"aaxis\": {\"endlinecolor\": \"#2a3f5f\", \"gridcolor\": \"white\", \"linecolor\": \"white\", \"minorgridcolor\": \"white\", \"startlinecolor\": \"#2a3f5f\"}, \"baxis\": {\"endlinecolor\": \"#2a3f5f\", \"gridcolor\": \"white\", \"linecolor\": \"white\", \"minorgridcolor\": \"white\", \"startlinecolor\": \"#2a3f5f\"}, \"type\": \"carpet\"}], \"choropleth\": [{\"colorbar\": {\"outlinewidth\": 0, \"ticks\": \"\"}, \"type\": \"choropleth\"}], \"contour\": [{\"colorbar\": {\"outlinewidth\": 0, \"ticks\": \"\"}, \"colorscale\": [[0.0, \"#0d0887\"], [0.1111111111111111, \"#46039f\"], [0.2222222222222222, \"#7201a8\"], [0.3333333333333333, \"#9c179e\"], [0.4444444444444444, \"#bd3786\"], [0.5555555555555556, \"#d8576b\"], [0.6666666666666666, \"#ed7953\"], [0.7777777777777778, \"#fb9f3a\"], [0.8888888888888888, \"#fdca26\"], [1.0, \"#f0f921\"]], \"type\": \"contour\"}], \"contourcarpet\": [{\"colorbar\": {\"outlinewidth\": 0, \"ticks\": \"\"}, \"type\": \"contourcarpet\"}], \"heatmap\": [{\"colorbar\": {\"outlinewidth\": 0, \"ticks\": \"\"}, \"colorscale\": [[0.0, \"#0d0887\"], [0.1111111111111111, \"#46039f\"], [0.2222222222222222, \"#7201a8\"], [0.3333333333333333, \"#9c179e\"], [0.4444444444444444, \"#bd3786\"], [0.5555555555555556, \"#d8576b\"], [0.6666666666666666, \"#ed7953\"], [0.7777777777777778, \"#fb9f3a\"], [0.8888888888888888, \"#fdca26\"], [1.0, \"#f0f921\"]], \"type\": \"heatmap\"}], \"heatmapgl\": [{\"colorbar\": {\"outlinewidth\": 0, \"ticks\": \"\"}, \"colorscale\": [[0.0, \"#0d0887\"], [0.1111111111111111, \"#46039f\"], [0.2222222222222222, \"#7201a8\"], [0.3333333333333333, \"#9c179e\"], [0.4444444444444444, \"#bd3786\"], [0.5555555555555556, \"#d8576b\"], [0.6666666666666666, \"#ed7953\"], [0.7777777777777778, \"#fb9f3a\"], [0.8888888888888888, \"#fdca26\"], [1.0, \"#f0f921\"]], \"type\": \"heatmapgl\"}], \"histogram\": [{\"marker\": {\"colorbar\": {\"outlinewidth\": 0, \"ticks\": \"\"}}, \"type\": \"histogram\"}], \"histogram2d\": [{\"colorbar\": {\"outlinewidth\": 0, \"ticks\": \"\"}, \"colorscale\": [[0.0, \"#0d0887\"], [0.1111111111111111, \"#46039f\"], [0.2222222222222222, \"#7201a8\"], [0.3333333333333333, \"#9c179e\"], [0.4444444444444444, \"#bd3786\"], [0.5555555555555556, \"#d8576b\"], [0.6666666666666666, \"#ed7953\"], [0.7777777777777778, \"#fb9f3a\"], [0.8888888888888888, \"#fdca26\"], [1.0, \"#f0f921\"]], \"type\": \"histogram2d\"}], \"histogram2dcontour\": [{\"colorbar\": {\"outlinewidth\": 0, \"ticks\": \"\"}, \"colorscale\": [[0.0, \"#0d0887\"], [0.1111111111111111, \"#46039f\"], [0.2222222222222222, \"#7201a8\"], [0.3333333333333333, \"#9c179e\"], [0.4444444444444444, \"#bd3786\"], [0.5555555555555556, \"#d8576b\"], [0.6666666666666666, \"#ed7953\"], [0.7777777777777778, \"#fb9f3a\"], [0.8888888888888888, \"#fdca26\"], [1.0, \"#f0f921\"]], \"type\": \"histogram2dcontour\"}], \"mesh3d\": [{\"colorbar\": {\"outlinewidth\": 0, \"ticks\": \"\"}, \"type\": \"mesh3d\"}], \"parcoords\": [{\"line\": {\"colorbar\": {\"outlinewidth\": 0, \"ticks\": \"\"}}, \"type\": \"parcoords\"}], \"pie\": [{\"automargin\": true, \"type\": \"pie\"}], \"scatter\": [{\"marker\": {\"colorbar\": {\"outlinewidth\": 0, \"ticks\": \"\"}}, \"type\": \"scatter\"}], \"scatter3d\": [{\"line\": {\"colorbar\": {\"outlinewidth\": 0, \"ticks\": \"\"}}, \"marker\": {\"colorbar\": {\"outlinewidth\": 0, \"ticks\": \"\"}}, \"type\": \"scatter3d\"}], \"scattercarpet\": [{\"marker\": {\"colorbar\": {\"outlinewidth\": 0, \"ticks\": \"\"}}, \"type\": \"scattercarpet\"}], \"scattergeo\": [{\"marker\": {\"colorbar\": {\"outlinewidth\": 0, \"ticks\": \"\"}}, \"type\": \"scattergeo\"}], \"scattergl\": [{\"marker\": {\"colorbar\": {\"outlinewidth\": 0, \"ticks\": \"\"}}, \"type\": \"scattergl\"}], \"scattermapbox\": [{\"marker\": {\"colorbar\": {\"outlinewidth\": 0, \"ticks\": \"\"}}, \"type\": \"scattermapbox\"}], \"scatterpolar\": [{\"marker\": {\"colorbar\": {\"outlinewidth\": 0, \"ticks\": \"\"}}, \"type\": \"scatterpolar\"}], \"scatterpolargl\": [{\"marker\": {\"colorbar\": {\"outlinewidth\": 0, \"ticks\": \"\"}}, \"type\": \"scatterpolargl\"}], \"scatterternary\": [{\"marker\": {\"colorbar\": {\"outlinewidth\": 0, \"ticks\": \"\"}}, \"type\": \"scatterternary\"}], \"surface\": [{\"colorbar\": {\"outlinewidth\": 0, \"ticks\": \"\"}, \"colorscale\": [[0.0, \"#0d0887\"], [0.1111111111111111, \"#46039f\"], [0.2222222222222222, \"#7201a8\"], [0.3333333333333333, \"#9c179e\"], [0.4444444444444444, \"#bd3786\"], [0.5555555555555556, \"#d8576b\"], [0.6666666666666666, \"#ed7953\"], [0.7777777777777778, \"#fb9f3a\"], [0.8888888888888888, \"#fdca26\"], [1.0, \"#f0f921\"]], \"type\": \"surface\"}], \"table\": [{\"cells\": {\"fill\": {\"color\": \"#EBF0F8\"}, \"line\": {\"color\": \"white\"}}, \"header\": {\"fill\": {\"color\": \"#C8D4E3\"}, \"line\": {\"color\": \"white\"}}, \"type\": \"table\"}]}, \"layout\": {\"annotationdefaults\": {\"arrowcolor\": \"#2a3f5f\", \"arrowhead\": 0, \"arrowwidth\": 1}, \"autotypenumbers\": \"strict\", \"coloraxis\": {\"colorbar\": {\"outlinewidth\": 0, \"ticks\": \"\"}}, \"colorscale\": {\"diverging\": [[0, \"#8e0152\"], [0.1, \"#c51b7d\"], [0.2, \"#de77ae\"], [0.3, \"#f1b6da\"], [0.4, \"#fde0ef\"], [0.5, \"#f7f7f7\"], [0.6, \"#e6f5d0\"], [0.7, \"#b8e186\"], [0.8, \"#7fbc41\"], [0.9, \"#4d9221\"], [1, \"#276419\"]], \"sequential\": [[0.0, \"#0d0887\"], [0.1111111111111111, \"#46039f\"], [0.2222222222222222, \"#7201a8\"], [0.3333333333333333, \"#9c179e\"], [0.4444444444444444, \"#bd3786\"], [0.5555555555555556, \"#d8576b\"], [0.6666666666666666, \"#ed7953\"], [0.7777777777777778, \"#fb9f3a\"], [0.8888888888888888, \"#fdca26\"], [1.0, \"#f0f921\"]], \"sequentialminus\": [[0.0, \"#0d0887\"], [0.1111111111111111, \"#46039f\"], [0.2222222222222222, \"#7201a8\"], [0.3333333333333333, \"#9c179e\"], [0.4444444444444444, \"#bd3786\"], [0.5555555555555556, \"#d8576b\"], [0.6666666666666666, \"#ed7953\"], [0.7777777777777778, \"#fb9f3a\"], [0.8888888888888888, \"#fdca26\"], [1.0, \"#f0f921\"]]}, \"colorway\": [\"#636efa\", \"#EF553B\", \"#00cc96\", \"#ab63fa\", \"#FFA15A\", \"#19d3f3\", \"#FF6692\", \"#B6E880\", \"#FF97FF\", \"#FECB52\"], \"font\": {\"color\": \"#2a3f5f\"}, \"geo\": {\"bgcolor\": \"white\", \"lakecolor\": \"white\", \"landcolor\": \"#E5ECF6\", \"showlakes\": true, \"showland\": true, \"subunitcolor\": \"white\"}, \"hoverlabel\": {\"align\": \"left\"}, \"hovermode\": \"closest\", \"mapbox\": {\"style\": \"light\"}, \"paper_bgcolor\": \"white\", \"plot_bgcolor\": \"#E5ECF6\", \"polar\": {\"angularaxis\": {\"gridcolor\": \"white\", \"linecolor\": \"white\", \"ticks\": \"\"}, \"bgcolor\": \"#E5ECF6\", \"radialaxis\": {\"gridcolor\": \"white\", \"linecolor\": \"white\", \"ticks\": \"\"}}, \"scene\": {\"xaxis\": {\"backgroundcolor\": \"#E5ECF6\", \"gridcolor\": \"white\", \"gridwidth\": 2, \"linecolor\": \"white\", \"showbackground\": true, \"ticks\": \"\", \"zerolinecolor\": \"white\"}, \"yaxis\": {\"backgroundcolor\": \"#E5ECF6\", \"gridcolor\": \"white\", \"gridwidth\": 2, \"linecolor\": \"white\", \"showbackground\": true, \"ticks\": \"\", \"zerolinecolor\": \"white\"}, \"zaxis\": {\"backgroundcolor\": \"#E5ECF6\", \"gridcolor\": \"white\", \"gridwidth\": 2, \"linecolor\": \"white\", \"showbackground\": true, \"ticks\": \"\", \"zerolinecolor\": \"white\"}}, \"shapedefaults\": {\"line\": {\"color\": \"#2a3f5f\"}}, \"ternary\": {\"aaxis\": {\"gridcolor\": \"white\", \"linecolor\": \"white\", \"ticks\": \"\"}, \"baxis\": {\"gridcolor\": \"white\", \"linecolor\": \"white\", \"ticks\": \"\"}, \"bgcolor\": \"#E5ECF6\", \"caxis\": {\"gridcolor\": \"white\", \"linecolor\": \"white\", \"ticks\": \"\"}}, \"title\": {\"x\": 0.05}, \"xaxis\": {\"automargin\": true, \"gridcolor\": \"white\", \"linecolor\": \"white\", \"ticks\": \"\", \"title\": {\"standoff\": 15}, \"zerolinecolor\": \"white\", \"zerolinewidth\": 2}, \"yaxis\": {\"automargin\": true, \"gridcolor\": \"white\", \"linecolor\": \"white\", \"ticks\": \"\", \"title\": {\"standoff\": 15}, \"zerolinecolor\": \"white\", \"zerolinewidth\": 2}}}, \"xaxis\": {\"anchor\": \"y\", \"domain\": [0.0, 1.0], \"dtick\": 1, \"title\": {\"text\": \"Year\"}}, \"yaxis\": {\"anchor\": \"x\", \"domain\": [0.0, 1.0], \"title\": {\"text\": \"Total Videos\"}}},                        {\"responsive\": true}                    ).then(function(){\n",
       "                            \n",
       "var gd = document.getElementById('aeb527b3-8b3b-49dc-a746-321793476053');\n",
       "var x = new MutationObserver(function (mutations, observer) {{\n",
       "        var display = window.getComputedStyle(gd).display;\n",
       "        if (!display || display === 'none') {{\n",
       "            console.log([gd, 'removed!']);\n",
       "            Plotly.purge(gd);\n",
       "            observer.disconnect();\n",
       "        }}\n",
       "}});\n",
       "\n",
       "// Listen for the removal of the full notebook cells\n",
       "var notebookContainer = gd.closest('#notebook-container');\n",
       "if (notebookContainer) {{\n",
       "    x.observe(notebookContainer, {childList: true});\n",
       "}}\n",
       "\n",
       "// Listen for the clearing of the current output cell\n",
       "var outputEl = gd.closest('.output');\n",
       "if (outputEl) {{\n",
       "    x.observe(outputEl, {childList: true});\n",
       "}}\n",
       "\n",
       "                        })                };                });            </script>        </div>"
      ]
     },
     "metadata": {},
     "output_type": "display_data"
    }
   ],
   "source": [
    "fig = px.line(\n",
    "    data_frame=yearwise,\n",
    "    y='vid_id',\n",
    "    labels=LABELS\n",
    ")\n",
    "\n",
    "fig.update_layout(\n",
    "    xaxis = dict(\n",
    "        dtick = 1\n",
    "    )\n",
    ")\n",
    "\n",
    "fig.show()"
   ]
  },
  {
   "cell_type": "code",
   "execution_count": 65,
   "metadata": {},
   "outputs": [],
   "source": [
    "import texthero as hero"
   ]
  },
  {
   "cell_type": "code",
   "execution_count": 70,
   "metadata": {},
   "outputs": [
    {
     "data": {
      "image/png": "[encoded data removed]",
      "text/plain": [
       "<Figure size 1440x720 with 1 Axes>"
      ]
     },
     "metadata": {
      "needs_background": "light"
     },
     "output_type": "display_data"
    }
   ],
   "source": [
    "clean_title = df['vid_title'].pipe(hero.clean)\n",
    "\n",
    "fig = hero.visualization.wordcloud(clean_title)\n",
    "fig"
   ]
  },
  {
   "cell_type": "code",
   "execution_count": 72,
   "metadata": {},
   "outputs": [
    {
     "data": {
      "text/html": [
       "<div>\n",
       "<style scoped>\n",
       "    .dataframe tbody tr th:only-of-type {\n",
       "        vertical-align: middle;\n",
       "    }\n",
       "\n",
       "    .dataframe tbody tr th {\n",
       "        vertical-align: top;\n",
       "    }\n",
       "\n",
       "    .dataframe thead th {\n",
       "        text-align: right;\n",
       "    }\n",
       "</style>\n",
       "<table border=\"1\" class=\"dataframe\">\n",
       "  <thead>\n",
       "    <tr style=\"text-align: right;\">\n",
       "      <th></th>\n",
       "      <th>vid_id</th>\n",
       "      <th>vid_title</th>\n",
       "      <th>vid_description</th>\n",
       "      <th>thumbnail_url</th>\n",
       "      <th>upload_time</th>\n",
       "      <th>duration</th>\n",
       "      <th>views</th>\n",
       "      <th>likes</th>\n",
       "      <th>dislikes</th>\n",
       "      <th>comment_counts</th>\n",
       "      <th>upload_date</th>\n",
       "      <th>upload_year</th>\n",
       "      <th>upload_hour</th>\n",
       "      <th>upload_minute</th>\n",
       "      <th>upload_second</th>\n",
       "      <th>vid_dur</th>\n",
       "      <th>likes_percent</th>\n",
       "      <th>dislikes_percent</th>\n",
       "      <th>clean_title</th>\n",
       "    </tr>\n",
       "    <tr>\n",
       "      <th>upload_month</th>\n",
       "      <th></th>\n",
       "      <th></th>\n",
       "      <th></th>\n",
       "      <th></th>\n",
       "      <th></th>\n",
       "      <th></th>\n",
       "      <th></th>\n",
       "      <th></th>\n",
       "      <th></th>\n",
       "      <th></th>\n",
       "      <th></th>\n",
       "      <th></th>\n",
       "      <th></th>\n",
       "      <th></th>\n",
       "      <th></th>\n",
       "      <th></th>\n",
       "      <th></th>\n",
       "      <th></th>\n",
       "      <th></th>\n",
       "    </tr>\n",
       "  </thead>\n",
       "  <tbody>\n",
       "    <tr>\n",
       "      <th>1</th>\n",
       "      <td>2</td>\n",
       "      <td>2</td>\n",
       "      <td>2</td>\n",
       "      <td>2</td>\n",
       "      <td>2</td>\n",
       "      <td>2</td>\n",
       "      <td>2</td>\n",
       "      <td>2</td>\n",
       "      <td>2</td>\n",
       "      <td>2</td>\n",
       "      <td>2</td>\n",
       "      <td>2</td>\n",
       "      <td>2</td>\n",
       "      <td>2</td>\n",
       "      <td>2</td>\n",
       "      <td>2</td>\n",
       "      <td>2</td>\n",
       "      <td>2</td>\n",
       "      <td>2</td>\n",
       "    </tr>\n",
       "    <tr>\n",
       "      <th>3</th>\n",
       "      <td>12</td>\n",
       "      <td>12</td>\n",
       "      <td>12</td>\n",
       "      <td>12</td>\n",
       "      <td>12</td>\n",
       "      <td>12</td>\n",
       "      <td>12</td>\n",
       "      <td>12</td>\n",
       "      <td>12</td>\n",
       "      <td>12</td>\n",
       "      <td>12</td>\n",
       "      <td>12</td>\n",
       "      <td>12</td>\n",
       "      <td>12</td>\n",
       "      <td>12</td>\n",
       "      <td>12</td>\n",
       "      <td>12</td>\n",
       "      <td>12</td>\n",
       "      <td>12</td>\n",
       "    </tr>\n",
       "    <tr>\n",
       "      <th>4</th>\n",
       "      <td>21</td>\n",
       "      <td>21</td>\n",
       "      <td>21</td>\n",
       "      <td>21</td>\n",
       "      <td>21</td>\n",
       "      <td>21</td>\n",
       "      <td>21</td>\n",
       "      <td>21</td>\n",
       "      <td>21</td>\n",
       "      <td>21</td>\n",
       "      <td>21</td>\n",
       "      <td>21</td>\n",
       "      <td>21</td>\n",
       "      <td>21</td>\n",
       "      <td>21</td>\n",
       "      <td>21</td>\n",
       "      <td>21</td>\n",
       "      <td>21</td>\n",
       "      <td>21</td>\n",
       "    </tr>\n",
       "    <tr>\n",
       "      <th>5</th>\n",
       "      <td>36</td>\n",
       "      <td>36</td>\n",
       "      <td>36</td>\n",
       "      <td>36</td>\n",
       "      <td>36</td>\n",
       "      <td>36</td>\n",
       "      <td>36</td>\n",
       "      <td>36</td>\n",
       "      <td>36</td>\n",
       "      <td>36</td>\n",
       "      <td>36</td>\n",
       "      <td>36</td>\n",
       "      <td>36</td>\n",
       "      <td>36</td>\n",
       "      <td>36</td>\n",
       "      <td>36</td>\n",
       "      <td>36</td>\n",
       "      <td>36</td>\n",
       "      <td>36</td>\n",
       "    </tr>\n",
       "    <tr>\n",
       "      <th>6</th>\n",
       "      <td>31</td>\n",
       "      <td>31</td>\n",
       "      <td>31</td>\n",
       "      <td>31</td>\n",
       "      <td>31</td>\n",
       "      <td>31</td>\n",
       "      <td>31</td>\n",
       "      <td>31</td>\n",
       "      <td>31</td>\n",
       "      <td>31</td>\n",
       "      <td>31</td>\n",
       "      <td>31</td>\n",
       "      <td>31</td>\n",
       "      <td>31</td>\n",
       "      <td>31</td>\n",
       "      <td>31</td>\n",
       "      <td>31</td>\n",
       "      <td>31</td>\n",
       "      <td>31</td>\n",
       "    </tr>\n",
       "    <tr>\n",
       "      <th>7</th>\n",
       "      <td>30</td>\n",
       "      <td>30</td>\n",
       "      <td>30</td>\n",
       "      <td>30</td>\n",
       "      <td>30</td>\n",
       "      <td>30</td>\n",
       "      <td>30</td>\n",
       "      <td>30</td>\n",
       "      <td>30</td>\n",
       "      <td>30</td>\n",
       "      <td>30</td>\n",
       "      <td>30</td>\n",
       "      <td>30</td>\n",
       "      <td>30</td>\n",
       "      <td>30</td>\n",
       "      <td>30</td>\n",
       "      <td>30</td>\n",
       "      <td>30</td>\n",
       "      <td>30</td>\n",
       "    </tr>\n",
       "    <tr>\n",
       "      <th>8</th>\n",
       "      <td>37</td>\n",
       "      <td>37</td>\n",
       "      <td>37</td>\n",
       "      <td>37</td>\n",
       "      <td>37</td>\n",
       "      <td>37</td>\n",
       "      <td>37</td>\n",
       "      <td>37</td>\n",
       "      <td>37</td>\n",
       "      <td>37</td>\n",
       "      <td>37</td>\n",
       "      <td>37</td>\n",
       "      <td>37</td>\n",
       "      <td>37</td>\n",
       "      <td>37</td>\n",
       "      <td>37</td>\n",
       "      <td>37</td>\n",
       "      <td>37</td>\n",
       "      <td>37</td>\n",
       "    </tr>\n",
       "    <tr>\n",
       "      <th>9</th>\n",
       "      <td>43</td>\n",
       "      <td>43</td>\n",
       "      <td>43</td>\n",
       "      <td>43</td>\n",
       "      <td>43</td>\n",
       "      <td>43</td>\n",
       "      <td>43</td>\n",
       "      <td>43</td>\n",
       "      <td>43</td>\n",
       "      <td>43</td>\n",
       "      <td>43</td>\n",
       "      <td>43</td>\n",
       "      <td>43</td>\n",
       "      <td>43</td>\n",
       "      <td>43</td>\n",
       "      <td>43</td>\n",
       "      <td>43</td>\n",
       "      <td>43</td>\n",
       "      <td>43</td>\n",
       "    </tr>\n",
       "    <tr>\n",
       "      <th>10</th>\n",
       "      <td>27</td>\n",
       "      <td>27</td>\n",
       "      <td>27</td>\n",
       "      <td>27</td>\n",
       "      <td>27</td>\n",
       "      <td>27</td>\n",
       "      <td>27</td>\n",
       "      <td>27</td>\n",
       "      <td>27</td>\n",
       "      <td>27</td>\n",
       "      <td>27</td>\n",
       "      <td>27</td>\n",
       "      <td>27</td>\n",
       "      <td>27</td>\n",
       "      <td>27</td>\n",
       "      <td>27</td>\n",
       "      <td>27</td>\n",
       "      <td>27</td>\n",
       "      <td>27</td>\n",
       "    </tr>\n",
       "    <tr>\n",
       "      <th>11</th>\n",
       "      <td>39</td>\n",
       "      <td>39</td>\n",
       "      <td>39</td>\n",
       "      <td>39</td>\n",
       "      <td>39</td>\n",
       "      <td>39</td>\n",
       "      <td>39</td>\n",
       "      <td>39</td>\n",
       "      <td>39</td>\n",
       "      <td>39</td>\n",
       "      <td>39</td>\n",
       "      <td>39</td>\n",
       "      <td>39</td>\n",
       "      <td>39</td>\n",
       "      <td>39</td>\n",
       "      <td>39</td>\n",
       "      <td>39</td>\n",
       "      <td>39</td>\n",
       "      <td>39</td>\n",
       "    </tr>\n",
       "    <tr>\n",
       "      <th>12</th>\n",
       "      <td>10</td>\n",
       "      <td>10</td>\n",
       "      <td>10</td>\n",
       "      <td>10</td>\n",
       "      <td>10</td>\n",
       "      <td>10</td>\n",
       "      <td>10</td>\n",
       "      <td>10</td>\n",
       "      <td>10</td>\n",
       "      <td>10</td>\n",
       "      <td>10</td>\n",
       "      <td>10</td>\n",
       "      <td>10</td>\n",
       "      <td>10</td>\n",
       "      <td>10</td>\n",
       "      <td>10</td>\n",
       "      <td>10</td>\n",
       "      <td>10</td>\n",
       "      <td>10</td>\n",
       "    </tr>\n",
       "  </tbody>\n",
       "</table>\n",
       "</div>"
      ],
      "text/plain": [
       "              vid_id  vid_title  vid_description  thumbnail_url  upload_time  \\\n",
       "upload_month                                                                   \n",
       "1                  2          2                2              2            2   \n",
       "3                 12         12               12             12           12   \n",
       "4                 21         21               21             21           21   \n",
       "5                 36         36               36             36           36   \n",
       "6                 31         31               31             31           31   \n",
       "7                 30         30               30             30           30   \n",
       "8                 37         37               37             37           37   \n",
       "9                 43         43               43             43           43   \n",
       "10                27         27               27             27           27   \n",
       "11                39         39               39             39           39   \n",
       "12                10         10               10             10           10   \n",
       "\n",
       "              duration  views  likes  dislikes  comment_counts  upload_date  \\\n",
       "upload_month                                                                  \n",
       "1                    2      2      2         2               2            2   \n",
       "3                   12     12     12        12              12           12   \n",
       "4                   21     21     21        21              21           21   \n",
       "5                   36     36     36        36              36           36   \n",
       "6                   31     31     31        31              31           31   \n",
       "7                   30     30     30        30              30           30   \n",
       "8                   37     37     37        37              37           37   \n",
       "9                   43     43     43        43              43           43   \n",
       "10                  27     27     27        27              27           27   \n",
       "11                  39     39     39        39              39           39   \n",
       "12                  10     10     10        10              10           10   \n",
       "\n",
       "              upload_year  upload_hour  upload_minute  upload_second  vid_dur  \\\n",
       "upload_month                                                                    \n",
       "1                       2            2              2              2        2   \n",
       "3                      12           12             12             12       12   \n",
       "4                      21           21             21             21       21   \n",
       "5                      36           36             36             36       36   \n",
       "6                      31           31             31             31       31   \n",
       "7                      30           30             30             30       30   \n",
       "8                      37           37             37             37       37   \n",
       "9                      43           43             43             43       43   \n",
       "10                     27           27             27             27       27   \n",
       "11                     39           39             39             39       39   \n",
       "12                     10           10             10             10       10   \n",
       "\n",
       "              likes_percent  dislikes_percent  clean_title  \n",
       "upload_month                                                \n",
       "1                         2                 2            2  \n",
       "3                        12                12           12  \n",
       "4                        21                21           21  \n",
       "5                        36                36           36  \n",
       "6                        31                31           31  \n",
       "7                        30                30           30  \n",
       "8                        37                37           37  \n",
       "9                        43                43           43  \n",
       "10                       27                27           27  \n",
       "11                       39                39           39  \n",
       "12                       10                10           10  "
      ]
     },
     "execution_count": 72,
     "metadata": {},
     "output_type": "execute_result"
    }
   ],
   "source": [
    "df.groupby('upload_month').count()"
   ]
  },
  {
   "cell_type": "code",
   "execution_count": null,
   "metadata": {},
   "outputs": [],
   "source": []
  }
 ],
 "metadata": {
  "kernelspec": {
   "display_name": "YoutubeChannels",
   "language": "python",
   "name": "env"
  },
  "language_info": {
   "codemirror_mode": {
    "name": "ipython",
    "version": 3
   },
   "file_extension": ".py",
   "mimetype": "text/x-python",
   "name": "python",
   "nbconvert_exporter": "python",
   "pygments_lexer": "ipython3",
   "version": "3.8.4rc1"
  }
 },
 "nbformat": 4,
 "nbformat_minor": 4
}
